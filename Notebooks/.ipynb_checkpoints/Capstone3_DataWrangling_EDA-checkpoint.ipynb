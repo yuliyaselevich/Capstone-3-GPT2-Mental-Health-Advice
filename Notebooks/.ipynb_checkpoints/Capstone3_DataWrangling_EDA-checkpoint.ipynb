{
 "cells": [
  {
   "cell_type": "code",
   "execution_count": 1,
   "id": "0d576d86",
   "metadata": {
    "ExecuteTime": {
     "end_time": "2022-09-18T20:58:04.726804Z",
     "start_time": "2022-09-18T20:58:00.845526Z"
    }
   },
   "outputs": [],
   "source": [
    "#Essentials\n",
    "import pandas as pd\n",
    "import numpy as np\n",
    "import matplotlib.pyplot as plt\n",
    "import seaborn as sns\n",
    "import csv \n",
    "import datetime as dt\n",
    "\n",
    "#For scraping Reddit\n",
    "import praw\n",
    "from psaw import PushshiftAPI\n",
    "\n",
    "#For EDA\n",
    "import re\n",
    "from wordcloud import WordCloud, STOPWORDS\n",
    "from sklearn.feature_extraction.text import TfidfVectorizer\n",
    "from sklearn.neighbors import KNeighborsClassifier \n",
    "from sklearn.cluster import KMeans\n",
    "import sklearn.cluster\n",
    "import sklearn.decomposition\n",
    "import matplotlib.colors\n",
    "from textblob import TextBlob\n",
    "from gensim.models import Word2Vec\n",
    "import nltk\n",
    "from nltk import pos_tag\n",
    "from nltk.stem.wordnet import WordNetLemmatizer \n",
    "from nltk.tokenize import word_tokenize\n",
    "from nltk.corpus import stopwords\n",
    "import textstat\n",
    "import gensim.corpora as corpora\n",
    "from pprint import pprint\n",
    "import gensim\n",
    "from gensim.utils import simple_preprocess\n",
    "import pyLDAvis.gensim_models\n",
    "import pickle \n",
    "import pyLDAvis\n",
    "import os"
   ]
  },
  {
   "cell_type": "markdown",
   "id": "3ab47326",
   "metadata": {},
   "source": [
    "# Mental Heatlh"
   ]
  },
  {
   "cell_type": "code",
   "execution_count": 2,
   "id": "b8743a3f",
   "metadata": {
    "ExecuteTime": {
     "end_time": "2022-09-18T21:22:53.185730Z",
     "start_time": "2022-09-18T20:58:04.726804Z"
    }
   },
   "outputs": [
    {
     "name": "stderr",
     "output_type": "stream",
     "text": [
      "C:\\Users\\Julia\\anaconda3\\lib\\site-packages\\psaw\\PushshiftAPI.py:252: UserWarning: Not all PushShift shards are active. Query results may be incomplete\n",
      "  warnings.warn(shards_down_message)\n",
      "C:\\Users\\Julia\\anaconda3\\lib\\site-packages\\psaw\\PushshiftAPI.py:192: UserWarning: Got non 200 code 429\n",
      "  warnings.warn(\"Got non 200 code %s\" % response.status_code)\n",
      "C:\\Users\\Julia\\anaconda3\\lib\\site-packages\\psaw\\PushshiftAPI.py:180: UserWarning: Unable to connect to pushshift.io. Retrying after backoff.\n",
      "  warnings.warn(\"Unable to connect to pushshift.io. Retrying after backoff.\")\n"
     ]
    }
   ],
   "source": [
    "#Thanks to dmarx for the clear code on pulling from PSAW! PSAW docs are surprisingly unclear.\n",
    "#https://github.com/dmarx/psaw\n",
    "api = PushshiftAPI()\n",
    "\n",
    "#Start date we're beginning to pull posts from\n",
    "start_epoch=int(dt.datetime(2010, 1, 1).timestamp())\n",
    "\n",
    "\n",
    "#Pulling submissions from mentalhealth (both the title and body of a post)\n",
    "\n",
    "gen_subMH = list(api.search_submissions(after=start_epoch,\n",
    "                            subreddit='mentalhealth',\n",
    "                            filter=['title', 'id','score','link_flair_text','selftext'],\n",
    "                            limit=1000000))\n",
    "\n",
    "\n",
    "#Converting to dataframe\n",
    "MHsub = pd.DataFrame([thing.d_ for thing in gen_subMH])\n"
   ]
  },
  {
   "cell_type": "code",
   "execution_count": 3,
   "id": "165cca7a",
   "metadata": {
    "ExecuteTime": {
     "end_time": "2022-09-18T21:23:10.418189Z",
     "start_time": "2022-09-18T21:22:53.194738Z"
    }
   },
   "outputs": [],
   "source": [
    "MHsub.to_csv('../Data/MHsub.csv',index=False)"
   ]
  },
  {
   "cell_type": "code",
   "execution_count": 4,
   "id": "785a786b",
   "metadata": {
    "ExecuteTime": {
     "end_time": "2022-09-18T22:57:14.543957Z",
     "start_time": "2022-09-18T21:23:10.427171Z"
    },
    "scrolled": true
   },
   "outputs": [
    {
     "name": "stderr",
     "output_type": "stream",
     "text": [
      "C:\\Users\\Julia\\anaconda3\\lib\\site-packages\\psaw\\PushshiftAPI.py:252: UserWarning: Not all PushShift shards are active. Query results may be incomplete\n",
      "  warnings.warn(shards_down_message)\n",
      "C:\\Users\\Julia\\anaconda3\\lib\\site-packages\\psaw\\PushshiftAPI.py:192: UserWarning: Got non 200 code 429\n",
      "  warnings.warn(\"Got non 200 code %s\" % response.status_code)\n",
      "C:\\Users\\Julia\\anaconda3\\lib\\site-packages\\psaw\\PushshiftAPI.py:180: UserWarning: Unable to connect to pushshift.io. Retrying after backoff.\n",
      "  warnings.warn(\"Unable to connect to pushshift.io. Retrying after backoff.\")\n"
     ]
    }
   ],
   "source": [
    "#Pulling comments from mental health\n",
    "\n",
    "gen_comMH = api.search_comments(after=start_epoch, \n",
    "                            subreddit='mentalhealth',\n",
    "                            filter=['body', 'link_id', 'id', 'score','submission'],\n",
    "                            #link_id = new_idsMH,\n",
    "                            limit=35000000)\n",
    "\n",
    "MHcom = pd.DataFrame([thing.d_ for thing in gen_comMH])"
   ]
  },
  {
   "cell_type": "code",
   "execution_count": 5,
   "id": "5fe48b92",
   "metadata": {
    "ExecuteTime": {
     "end_time": "2022-09-18T22:57:38.572099Z",
     "start_time": "2022-09-18T22:57:14.631323Z"
    }
   },
   "outputs": [],
   "source": [
    "MHcom.to_csv('../Data/MHcom.csv',index=False)"
   ]
  },
  {
   "cell_type": "markdown",
   "id": "f1fc2750",
   "metadata": {},
   "source": [
    "# Mental Illness subreddit"
   ]
  },
  {
   "cell_type": "code",
   "execution_count": 6,
   "id": "a1e7409c",
   "metadata": {
    "ExecuteTime": {
     "end_time": "2022-09-18T23:03:13.668402Z",
     "start_time": "2022-09-18T22:57:38.577089Z"
    }
   },
   "outputs": [
    {
     "name": "stderr",
     "output_type": "stream",
     "text": [
      "C:\\Users\\Julia\\anaconda3\\lib\\site-packages\\psaw\\PushshiftAPI.py:252: UserWarning: Not all PushShift shards are active. Query results may be incomplete\n",
      "  warnings.warn(shards_down_message)\n",
      "C:\\Users\\Julia\\anaconda3\\lib\\site-packages\\psaw\\PushshiftAPI.py:192: UserWarning: Got non 200 code 429\n",
      "  warnings.warn(\"Got non 200 code %s\" % response.status_code)\n",
      "C:\\Users\\Julia\\anaconda3\\lib\\site-packages\\psaw\\PushshiftAPI.py:180: UserWarning: Unable to connect to pushshift.io. Retrying after backoff.\n",
      "  warnings.warn(\"Unable to connect to pushshift.io. Retrying after backoff.\")\n"
     ]
    }
   ],
   "source": [
    "gen_subMI = list(api.search_submissions(after=start_epoch,\n",
    "                            subreddit='mentalillness',\n",
    "                            filter=['title', 'id','score','link_flair_text','selftext'],\n",
    "                            limit=1000000))\n",
    "\n",
    "\n",
    "#Converting to dataframe\n",
    "MIsub = pd.DataFrame([thing.d_ for thing in gen_subMI])"
   ]
  },
  {
   "cell_type": "code",
   "execution_count": 7,
   "id": "1b273d75",
   "metadata": {
    "ExecuteTime": {
     "end_time": "2022-09-18T23:03:15.239888Z",
     "start_time": "2022-09-18T23:03:13.681411Z"
    }
   },
   "outputs": [],
   "source": [
    "MIsub.to_csv('../Data/MIsub.csv',index=False)"
   ]
  },
  {
   "cell_type": "code",
   "execution_count": 8,
   "id": "987ecd65",
   "metadata": {
    "ExecuteTime": {
     "end_time": "2022-09-18T23:16:27.896527Z",
     "start_time": "2022-09-18T23:03:15.242882Z"
    }
   },
   "outputs": [
    {
     "name": "stderr",
     "output_type": "stream",
     "text": [
      "C:\\Users\\Julia\\anaconda3\\lib\\site-packages\\psaw\\PushshiftAPI.py:252: UserWarning: Not all PushShift shards are active. Query results may be incomplete\n",
      "  warnings.warn(shards_down_message)\n",
      "C:\\Users\\Julia\\anaconda3\\lib\\site-packages\\psaw\\PushshiftAPI.py:192: UserWarning: Got non 200 code 429\n",
      "  warnings.warn(\"Got non 200 code %s\" % response.status_code)\n",
      "C:\\Users\\Julia\\anaconda3\\lib\\site-packages\\psaw\\PushshiftAPI.py:180: UserWarning: Unable to connect to pushshift.io. Retrying after backoff.\n",
      "  warnings.warn(\"Unable to connect to pushshift.io. Retrying after backoff.\")\n"
     ]
    }
   ],
   "source": [
    "gen_comMI = api.search_comments(after=start_epoch, \n",
    "                            subreddit='mentalillness',\n",
    "                            filter=['body', 'link_id', 'id', 'score','submission'],\n",
    "                            #link_id = new_MIids,\n",
    "                            limit=35000000)\n",
    "\n",
    "MIcom = pd.DataFrame([thing.d_ for thing in gen_comMI])"
   ]
  },
  {
   "cell_type": "code",
   "execution_count": 9,
   "id": "db0e0541",
   "metadata": {
    "ExecuteTime": {
     "end_time": "2022-09-18T23:16:30.448626Z",
     "start_time": "2022-09-18T23:16:27.951685Z"
    },
    "scrolled": true
   },
   "outputs": [],
   "source": [
    "MIcom.to_csv('../Data/MIcom.csv',index=False)"
   ]
  },
  {
   "cell_type": "code",
   "execution_count": 10,
   "id": "36369ae4",
   "metadata": {
    "ExecuteTime": {
     "end_time": "2022-09-18T23:16:30.469630Z",
     "start_time": "2022-09-18T23:16:30.459631Z"
    }
   },
   "outputs": [],
   "source": [
    "#Get rid of emojis, get rid of removed comments"
   ]
  }
 ],
 "metadata": {
  "kernelspec": {
   "display_name": "Python 3 (ipykernel)",
   "language": "python",
   "name": "python3"
  },
  "language_info": {
   "codemirror_mode": {
    "name": "ipython",
    "version": 3
   },
   "file_extension": ".py",
   "mimetype": "text/x-python",
   "name": "python",
   "nbconvert_exporter": "python",
   "pygments_lexer": "ipython3",
   "version": "3.9.12"
  }
 },
 "nbformat": 4,
 "nbformat_minor": 5
}
