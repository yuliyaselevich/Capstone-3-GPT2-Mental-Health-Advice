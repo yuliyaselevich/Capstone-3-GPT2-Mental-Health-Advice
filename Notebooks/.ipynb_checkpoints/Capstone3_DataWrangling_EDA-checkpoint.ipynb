{
 "cells": [
  {
   "cell_type": "code",
   "execution_count": 24,
   "id": "0d576d86",
   "metadata": {
    "ExecuteTime": {
     "end_time": "2022-09-17T15:09:26.654543Z",
     "start_time": "2022-09-17T15:09:26.635529Z"
    }
   },
   "outputs": [],
   "source": [
    "#Essentials\n",
    "import pandas as pd\n",
    "import numpy as np\n",
    "import matplotlib.pyplot as plt\n",
    "import seaborn as sns\n",
    "import csv \n",
    "import datetime as dt\n",
    "\n",
    "#For scraping Reddit\n",
    "import praw\n",
    "from psaw import PushshiftAPI\n",
    "\n",
    "#For EDA\n",
    "import re\n",
    "from wordcloud import WordCloud, STOPWORDS\n",
    "from sklearn.feature_extraction.text import TfidfVectorizer\n",
    "from sklearn.neighbors import KNeighborsClassifier \n",
    "from sklearn.cluster import KMeans\n",
    "import sklearn.cluster\n",
    "import sklearn.decomposition\n",
    "import matplotlib.colors\n",
    "from textblob import TextBlob\n",
    "from gensim.models import Word2Vec\n",
    "import nltk\n",
    "from nltk import pos_tag\n",
    "from nltk.stem.wordnet import WordNetLemmatizer \n",
    "from nltk.tokenize import word_tokenize\n",
    "from nltk.corpus import stopwords\n",
    "import textstat\n",
    "import gensim.corpora as corpora\n",
    "from pprint import pprint\n",
    "import gensim\n",
    "from gensim.utils import simple_preprocess\n",
    "import pyLDAvis.gensim_models\n",
    "import pickle \n",
    "import pyLDAvis\n",
    "import os"
   ]
  },
  {
   "cell_type": "markdown",
   "id": "0a98ce7f",
   "metadata": {},
   "source": [
    "# Mental Heatlh"
   ]
  },
  {
   "cell_type": "code",
   "execution_count": 242,
   "id": "6056faa7",
   "metadata": {
    "ExecuteTime": {
     "end_time": "2022-09-18T20:18:14.944668Z",
     "start_time": "2022-09-18T20:17:50.301443Z"
    }
   },
   "outputs": [
    {
     "name": "stderr",
     "output_type": "stream",
     "text": [
      "C:\\Users\\Julia\\anaconda3\\lib\\site-packages\\psaw\\PushshiftAPI.py:252: UserWarning: Not all PushShift shards are active. Query results may be incomplete\n",
      "  warnings.warn(shards_down_message)\n"
     ]
    }
   ],
   "source": [
    "#Thanks to dmarx for the clear code on pulling from PSAW! PSAW docs are surprisingly unclear.\n",
    "#https://github.com/dmarx/psaw\n",
    "api = PushshiftAPI()\n",
    "\n",
    "#Start date we're beginning to pull posts from\n",
    "start_epoch=int(dt.datetime(2015, 1, 1).timestamp())\n",
    "\n",
    "\n",
    "#Pulling submissions from mentalhealth (both the title and body of a post)\n",
    "\n",
    "gen_subMH = list(api.search_submissions(after=start_epoch,\n",
    "                            subreddit='mentalhealth',\n",
    "                            filter=['title', 'id','score','link_flair_text','selftext'],\n",
    "                            limit=100))\n",
    "\n",
    "\n",
    "#Converting to dataframe\n",
    "MHsub = pd.DataFrame([thing.d_ for thing in gen_subMH])\n"
   ]
  },
  {
   "cell_type": "code",
   "execution_count": null,
   "id": "82be59ea",
   "metadata": {},
   "outputs": [],
   "source": [
    "MHsub.to_csv('../Data/MHsub.csv',index=False)"
   ]
  },
  {
   "cell_type": "code",
   "execution_count": 239,
   "id": "ceae7f9f",
   "metadata": {
    "ExecuteTime": {
     "end_time": "2022-09-18T20:16:51.365123Z",
     "start_time": "2022-09-18T16:34:47.418995Z"
    },
    "scrolled": true
   },
   "outputs": [
    {
     "name": "stderr",
     "output_type": "stream",
     "text": [
      "C:\\Users\\Julia\\anaconda3\\lib\\site-packages\\psaw\\PushshiftAPI.py:252: UserWarning: Not all PushShift shards are active. Query results may be incomplete\n",
      "  warnings.warn(shards_down_message)\n",
      "C:\\Users\\Julia\\anaconda3\\lib\\site-packages\\psaw\\PushshiftAPI.py:192: UserWarning: Got non 200 code 429\n",
      "  warnings.warn(\"Got non 200 code %s\" % response.status_code)\n",
      "\n",
      "KeyboardInterrupt\n",
      "\n"
     ]
    }
   ],
   "source": [
    "#Pulling comments from mental health\n",
    "\n",
    "gen_comMH = api.search_comments(after=start_epoch, \n",
    "                            subreddit='mentalhealth',\n",
    "                            filter=['body', 'link_id', 'id', 'score','submission'],\n",
    "                            #link_id = new_idsMH,\n",
    "                            limit=35000000)\n",
    "\n",
    "MHcom = pd.DataFrame([thing.d_ for thing in gen_comMH])"
   ]
  },
  {
   "cell_type": "code",
   "execution_count": 247,
   "id": "0a2288a3",
   "metadata": {
    "ExecuteTime": {
     "end_time": "2022-09-18T20:22:32.179158Z",
     "start_time": "2022-09-18T20:22:32.118113Z"
    }
   },
   "outputs": [],
   "source": [
    "MHcom.to_csv('../Data/MHcom.csv',index=False)"
   ]
  },
  {
   "cell_type": "markdown",
   "id": "b5a332fe",
   "metadata": {},
   "source": [
    "# Mental Illness subreddit"
   ]
  },
  {
   "cell_type": "code",
   "execution_count": 229,
   "id": "4c95c57b",
   "metadata": {
    "ExecuteTime": {
     "end_time": "2022-09-17T21:26:07.739513Z",
     "start_time": "2022-09-17T21:22:50.898413Z"
    }
   },
   "outputs": [
    {
     "name": "stderr",
     "output_type": "stream",
     "text": [
      "C:\\Users\\Julia\\anaconda3\\lib\\site-packages\\psaw\\PushshiftAPI.py:252: UserWarning: Not all PushShift shards are active. Query results may be incomplete\n",
      "  warnings.warn(shards_down_message)\n",
      "C:\\Users\\Julia\\anaconda3\\lib\\site-packages\\psaw\\PushshiftAPI.py:192: UserWarning: Got non 200 code 429\n",
      "  warnings.warn(\"Got non 200 code %s\" % response.status_code)\n"
     ]
    }
   ],
   "source": [
    "gen_subMI = list(api.search_submissions(after=start_epoch,\n",
    "                            subreddit='mentalillness',\n",
    "                            filter=['title', 'id','score','link_flair_text','selftext'],\n",
    "                            limit=1000000))\n",
    "\n",
    "\n",
    "#Converting to dataframe\n",
    "MIsub = pd.DataFrame([thing.d_ for thing in gen_subMI])"
   ]
  },
  {
   "cell_type": "code",
   "execution_count": 230,
   "id": "4de0e889",
   "metadata": {
    "ExecuteTime": {
     "end_time": "2022-09-17T21:28:13.853737Z",
     "start_time": "2022-09-17T21:28:13.823716Z"
    }
   },
   "outputs": [
    {
     "data": {
      "text/html": [
       "<div>\n",
       "<style scoped>\n",
       "    .dataframe tbody tr th:only-of-type {\n",
       "        vertical-align: middle;\n",
       "    }\n",
       "\n",
       "    .dataframe tbody tr th {\n",
       "        vertical-align: top;\n",
       "    }\n",
       "\n",
       "    .dataframe thead th {\n",
       "        text-align: right;\n",
       "    }\n",
       "</style>\n",
       "<table border=\"1\" class=\"dataframe\">\n",
       "  <thead>\n",
       "    <tr style=\"text-align: right;\">\n",
       "      <th></th>\n",
       "      <th>created_utc</th>\n",
       "      <th>id</th>\n",
       "      <th>link_flair_text</th>\n",
       "      <th>score</th>\n",
       "      <th>selftext</th>\n",
       "      <th>title</th>\n",
       "      <th>created</th>\n",
       "    </tr>\n",
       "  </thead>\n",
       "  <tbody>\n",
       "    <tr>\n",
       "      <th>0</th>\n",
       "      <td>1663448773</td>\n",
       "      <td>xgxo3z</td>\n",
       "      <td>Trigger Warning</td>\n",
       "      <td>1</td>\n",
       "      <td></td>\n",
       "      <td>Was it ok for my best friend to say, “well at ...</td>\n",
       "      <td>1.663463e+09</td>\n",
       "    </tr>\n",
       "    <tr>\n",
       "      <th>1</th>\n",
       "      <td>1663448392</td>\n",
       "      <td>xgxi9t</td>\n",
       "      <td>NaN</td>\n",
       "      <td>1</td>\n",
       "      <td></td>\n",
       "      <td>Taking so many stimulants : caffeine pills, we...</td>\n",
       "      <td>1.663463e+09</td>\n",
       "    </tr>\n",
       "    <tr>\n",
       "      <th>2</th>\n",
       "      <td>1663448330</td>\n",
       "      <td>xgxhd8</td>\n",
       "      <td>Trigger Warning</td>\n",
       "      <td>1</td>\n",
       "      <td></td>\n",
       "      <td>Bipolar depression- is being so depressed but ...</td>\n",
       "      <td>1.663463e+09</td>\n",
       "    </tr>\n",
       "    <tr>\n",
       "      <th>3</th>\n",
       "      <td>1663443535</td>\n",
       "      <td>xgvkr9</td>\n",
       "      <td>Relationships</td>\n",
       "      <td>1</td>\n",
       "      <td>heavy mention of killing . breif mention of ed...</td>\n",
       "      <td>worried about my boyfriend</td>\n",
       "      <td>1.663458e+09</td>\n",
       "    </tr>\n",
       "    <tr>\n",
       "      <th>4</th>\n",
       "      <td>1663438740</td>\n",
       "      <td>xgtoep</td>\n",
       "      <td>NaN</td>\n",
       "      <td>1</td>\n",
       "      <td>this has happened for a while, i seriously don...</td>\n",
       "      <td>sometimes i feel i've became a different person</td>\n",
       "      <td>1.663453e+09</td>\n",
       "    </tr>\n",
       "    <tr>\n",
       "      <th>...</th>\n",
       "      <td>...</td>\n",
       "      <td>...</td>\n",
       "      <td>...</td>\n",
       "      <td>...</td>\n",
       "      <td>...</td>\n",
       "      <td>...</td>\n",
       "      <td>...</td>\n",
       "    </tr>\n",
       "    <tr>\n",
       "      <th>50393</th>\n",
       "      <td>1421839647</td>\n",
       "      <td>2t5tjx</td>\n",
       "      <td>NaN</td>\n",
       "      <td>2</td>\n",
       "      <td></td>\n",
       "      <td>Community Hope founder, Carmela Lunt, dies</td>\n",
       "      <td>1.421854e+09</td>\n",
       "    </tr>\n",
       "    <tr>\n",
       "      <th>50394</th>\n",
       "      <td>1421055413</td>\n",
       "      <td>2s5g3q</td>\n",
       "      <td>NaN</td>\n",
       "      <td>2</td>\n",
       "      <td>Oftain if someone will repeat a word directly ...</td>\n",
       "      <td>Does this have a name?</td>\n",
       "      <td>1.421070e+09</td>\n",
       "    </tr>\n",
       "    <tr>\n",
       "      <th>50395</th>\n",
       "      <td>1420479090</td>\n",
       "      <td>2rf285</td>\n",
       "      <td>NaN</td>\n",
       "      <td>1</td>\n",
       "      <td></td>\n",
       "      <td>Found this mental illness blog... Def worth re...</td>\n",
       "      <td>1.420493e+09</td>\n",
       "    </tr>\n",
       "    <tr>\n",
       "      <th>50396</th>\n",
       "      <td>1420266714</td>\n",
       "      <td>2r6lc7</td>\n",
       "      <td>NaN</td>\n",
       "      <td>1</td>\n",
       "      <td></td>\n",
       "      <td>Texas Is About To Execute A Mentally Ill Man W...</td>\n",
       "      <td>1.420281e+09</td>\n",
       "    </tr>\n",
       "    <tr>\n",
       "      <th>50397</th>\n",
       "      <td>1420206535</td>\n",
       "      <td>2r3lqi</td>\n",
       "      <td>NaN</td>\n",
       "      <td>1</td>\n",
       "      <td>I [17f] have had the growing suspicion that I ...</td>\n",
       "      <td>Am I forgetting something?</td>\n",
       "      <td>1.420221e+09</td>\n",
       "    </tr>\n",
       "  </tbody>\n",
       "</table>\n",
       "<p>50398 rows × 7 columns</p>\n",
       "</div>"
      ],
      "text/plain": [
       "       created_utc      id  link_flair_text  score  \\\n",
       "0       1663448773  xgxo3z  Trigger Warning      1   \n",
       "1       1663448392  xgxi9t              NaN      1   \n",
       "2       1663448330  xgxhd8  Trigger Warning      1   \n",
       "3       1663443535  xgvkr9    Relationships      1   \n",
       "4       1663438740  xgtoep              NaN      1   \n",
       "...            ...     ...              ...    ...   \n",
       "50393   1421839647  2t5tjx              NaN      2   \n",
       "50394   1421055413  2s5g3q              NaN      2   \n",
       "50395   1420479090  2rf285              NaN      1   \n",
       "50396   1420266714  2r6lc7              NaN      1   \n",
       "50397   1420206535  2r3lqi              NaN      1   \n",
       "\n",
       "                                                selftext  \\\n",
       "0                                                          \n",
       "1                                                          \n",
       "2                                                          \n",
       "3      heavy mention of killing . breif mention of ed...   \n",
       "4      this has happened for a while, i seriously don...   \n",
       "...                                                  ...   \n",
       "50393                                                      \n",
       "50394  Oftain if someone will repeat a word directly ...   \n",
       "50395                                                      \n",
       "50396                                                      \n",
       "50397  I [17f] have had the growing suspicion that I ...   \n",
       "\n",
       "                                                   title       created  \n",
       "0      Was it ok for my best friend to say, “well at ...  1.663463e+09  \n",
       "1      Taking so many stimulants : caffeine pills, we...  1.663463e+09  \n",
       "2      Bipolar depression- is being so depressed but ...  1.663463e+09  \n",
       "3                             worried about my boyfriend  1.663458e+09  \n",
       "4        sometimes i feel i've became a different person  1.663453e+09  \n",
       "...                                                  ...           ...  \n",
       "50393         Community Hope founder, Carmela Lunt, dies  1.421854e+09  \n",
       "50394                             Does this have a name?  1.421070e+09  \n",
       "50395  Found this mental illness blog... Def worth re...  1.420493e+09  \n",
       "50396  Texas Is About To Execute A Mentally Ill Man W...  1.420281e+09  \n",
       "50397                         Am I forgetting something?  1.420221e+09  \n",
       "\n",
       "[50398 rows x 7 columns]"
      ]
     },
     "execution_count": 230,
     "metadata": {},
     "output_type": "execute_result"
    }
   ],
   "source": [
    "MIsub.to_csv('../Data/MIsub.csv',index=False)"
   ]
  },
  {
   "cell_type": "code",
   "execution_count": 233,
   "id": "c2340437",
   "metadata": {
    "ExecuteTime": {
     "end_time": "2022-09-17T21:35:10.435544Z",
     "start_time": "2022-09-17T21:28:23.216068Z"
    }
   },
   "outputs": [
    {
     "name": "stderr",
     "output_type": "stream",
     "text": [
      "C:\\Users\\Julia\\anaconda3\\lib\\site-packages\\psaw\\PushshiftAPI.py:192: UserWarning: Got non 200 code 414\n",
      "  warnings.warn(\"Got non 200 code %s\" % response.status_code)\n",
      "C:\\Users\\Julia\\anaconda3\\lib\\site-packages\\psaw\\PushshiftAPI.py:180: UserWarning: Unable to connect to pushshift.io. Retrying after backoff.\n",
      "  warnings.warn(\"Unable to connect to pushshift.io. Retrying after backoff.\")\n"
     ]
    },
    {
     "ename": "Exception",
     "evalue": "Unable to connect to pushshift.io. Max retries exceeded.",
     "output_type": "error",
     "traceback": [
      "\u001b[1;31m---------------------------------------------------------------------------\u001b[0m",
      "\u001b[1;31mException\u001b[0m                                 Traceback (most recent call last)",
      "Input \u001b[1;32mIn [233]\u001b[0m, in \u001b[0;36m<cell line: 7>\u001b[1;34m()\u001b[0m\n\u001b[0;32m      1\u001b[0m gen_comMI \u001b[38;5;241m=\u001b[39m api\u001b[38;5;241m.\u001b[39msearch_comments(after\u001b[38;5;241m=\u001b[39mstart_epoch, \n\u001b[0;32m      2\u001b[0m                             subreddit\u001b[38;5;241m=\u001b[39m\u001b[38;5;124m'\u001b[39m\u001b[38;5;124mmentalillness\u001b[39m\u001b[38;5;124m'\u001b[39m,\n\u001b[0;32m      3\u001b[0m                             \u001b[38;5;28mfilter\u001b[39m\u001b[38;5;241m=\u001b[39m[\u001b[38;5;124m'\u001b[39m\u001b[38;5;124mbody\u001b[39m\u001b[38;5;124m'\u001b[39m, \u001b[38;5;124m'\u001b[39m\u001b[38;5;124mlink_id\u001b[39m\u001b[38;5;124m'\u001b[39m, \u001b[38;5;124m'\u001b[39m\u001b[38;5;124mid\u001b[39m\u001b[38;5;124m'\u001b[39m, \u001b[38;5;124m'\u001b[39m\u001b[38;5;124mscore\u001b[39m\u001b[38;5;124m'\u001b[39m,\u001b[38;5;124m'\u001b[39m\u001b[38;5;124msubmission\u001b[39m\u001b[38;5;124m'\u001b[39m],\n\u001b[0;32m      4\u001b[0m                             link_id \u001b[38;5;241m=\u001b[39m new_MIids,\n\u001b[0;32m      5\u001b[0m                             limit\u001b[38;5;241m=\u001b[39m\u001b[38;5;241m35000000\u001b[39m)\n\u001b[1;32m----> 7\u001b[0m MIcom \u001b[38;5;241m=\u001b[39m pd\u001b[38;5;241m.\u001b[39mDataFrame([thing\u001b[38;5;241m.\u001b[39md_ \u001b[38;5;28;01mfor\u001b[39;00m thing \u001b[38;5;129;01min\u001b[39;00m gen_comMI])\n",
      "Input \u001b[1;32mIn [233]\u001b[0m, in \u001b[0;36m<listcomp>\u001b[1;34m(.0)\u001b[0m\n\u001b[0;32m      1\u001b[0m gen_comMI \u001b[38;5;241m=\u001b[39m api\u001b[38;5;241m.\u001b[39msearch_comments(after\u001b[38;5;241m=\u001b[39mstart_epoch, \n\u001b[0;32m      2\u001b[0m                             subreddit\u001b[38;5;241m=\u001b[39m\u001b[38;5;124m'\u001b[39m\u001b[38;5;124mmentalillness\u001b[39m\u001b[38;5;124m'\u001b[39m,\n\u001b[0;32m      3\u001b[0m                             \u001b[38;5;28mfilter\u001b[39m\u001b[38;5;241m=\u001b[39m[\u001b[38;5;124m'\u001b[39m\u001b[38;5;124mbody\u001b[39m\u001b[38;5;124m'\u001b[39m, \u001b[38;5;124m'\u001b[39m\u001b[38;5;124mlink_id\u001b[39m\u001b[38;5;124m'\u001b[39m, \u001b[38;5;124m'\u001b[39m\u001b[38;5;124mid\u001b[39m\u001b[38;5;124m'\u001b[39m, \u001b[38;5;124m'\u001b[39m\u001b[38;5;124mscore\u001b[39m\u001b[38;5;124m'\u001b[39m,\u001b[38;5;124m'\u001b[39m\u001b[38;5;124msubmission\u001b[39m\u001b[38;5;124m'\u001b[39m],\n\u001b[0;32m      4\u001b[0m                             link_id \u001b[38;5;241m=\u001b[39m new_MIids,\n\u001b[0;32m      5\u001b[0m                             limit\u001b[38;5;241m=\u001b[39m\u001b[38;5;241m35000000\u001b[39m)\n\u001b[1;32m----> 7\u001b[0m MIcom \u001b[38;5;241m=\u001b[39m pd\u001b[38;5;241m.\u001b[39mDataFrame([thing\u001b[38;5;241m.\u001b[39md_ \u001b[38;5;28;01mfor\u001b[39;00m thing \u001b[38;5;129;01min\u001b[39;00m gen_comMI])\n",
      "File \u001b[1;32m~\\anaconda3\\lib\\site-packages\\psaw\\PushshiftAPI.py:238\u001b[0m, in \u001b[0;36mPushshiftAPIMinimal._search\u001b[1;34m(self, kind, stop_condition, return_batch, dataset, **kwargs)\u001b[0m\n\u001b[0;32m    236\u001b[0m endpoint \u001b[38;5;241m=\u001b[39m \u001b[38;5;124m'\u001b[39m\u001b[38;5;132;01m{dataset}\u001b[39;00m\u001b[38;5;124m/\u001b[39m\u001b[38;5;132;01m{kind}\u001b[39;00m\u001b[38;5;124m/search\u001b[39m\u001b[38;5;124m'\u001b[39m\u001b[38;5;241m.\u001b[39mformat(dataset\u001b[38;5;241m=\u001b[39mdataset, kind\u001b[38;5;241m=\u001b[39mkind)\n\u001b[0;32m    237\u001b[0m url \u001b[38;5;241m=\u001b[39m \u001b[38;5;28mself\u001b[39m\u001b[38;5;241m.\u001b[39mbase_url\u001b[38;5;241m.\u001b[39mformat(endpoint\u001b[38;5;241m=\u001b[39mendpoint)\n\u001b[1;32m--> 238\u001b[0m \u001b[38;5;28;01mfor\u001b[39;00m response \u001b[38;5;129;01min\u001b[39;00m \u001b[38;5;28mself\u001b[39m\u001b[38;5;241m.\u001b[39m_handle_paging(url):\n\u001b[0;32m    239\u001b[0m     \u001b[38;5;28;01mif\u001b[39;00m \u001b[38;5;124m'\u001b[39m\u001b[38;5;124maggs\u001b[39m\u001b[38;5;124m'\u001b[39m \u001b[38;5;129;01min\u001b[39;00m response:\n\u001b[0;32m    240\u001b[0m         \u001b[38;5;28;01myield\u001b[39;00m response[\u001b[38;5;124m'\u001b[39m\u001b[38;5;124maggs\u001b[39m\u001b[38;5;124m'\u001b[39m]\n",
      "File \u001b[1;32m~\\anaconda3\\lib\\site-packages\\psaw\\PushshiftAPI.py:215\u001b[0m, in \u001b[0;36mPushshiftAPIMinimal._handle_paging\u001b[1;34m(self, url)\u001b[0m\n\u001b[0;32m    212\u001b[0m         \u001b[38;5;28;01mraise\u001b[39;00m \u001b[38;5;167;01mNotImplementedError\u001b[39;00m(err_msg\u001b[38;5;241m.\u001b[39mformat(\u001b[38;5;28mself\u001b[39m\u001b[38;5;241m.\u001b[39mmax_results_per_request))\n\u001b[0;32m    213\u001b[0m \u001b[38;5;28mself\u001b[39m\u001b[38;5;241m.\u001b[39m_add_nec_args(\u001b[38;5;28mself\u001b[39m\u001b[38;5;241m.\u001b[39mpayload)\n\u001b[1;32m--> 215\u001b[0m data \u001b[38;5;241m=\u001b[39m \u001b[38;5;28;43mself\u001b[39;49m\u001b[38;5;241;43m.\u001b[39;49m\u001b[43m_get\u001b[49m\u001b[43m(\u001b[49m\u001b[43murl\u001b[49m\u001b[43m,\u001b[49m\u001b[43m \u001b[49m\u001b[38;5;28;43mself\u001b[39;49m\u001b[38;5;241;43m.\u001b[39;49m\u001b[43mpayload\u001b[49m\u001b[43m)\u001b[49m\n\u001b[0;32m    216\u001b[0m \u001b[38;5;28;01myield\u001b[39;00m data\n\u001b[0;32m    217\u001b[0m \u001b[38;5;28;01mif\u001b[39;00m limit \u001b[38;5;129;01mis\u001b[39;00m \u001b[38;5;129;01mnot\u001b[39;00m \u001b[38;5;28;01mNone\u001b[39;00m:\n",
      "File \u001b[1;32m~\\anaconda3\\lib\\site-packages\\psaw\\PushshiftAPI.py:194\u001b[0m, in \u001b[0;36mPushshiftAPIMinimal._get\u001b[1;34m(self, url, payload)\u001b[0m\n\u001b[0;32m    192\u001b[0m         warnings\u001b[38;5;241m.\u001b[39mwarn(\u001b[38;5;124m\"\u001b[39m\u001b[38;5;124mGot non 200 code \u001b[39m\u001b[38;5;132;01m%s\u001b[39;00m\u001b[38;5;124m\"\u001b[39m \u001b[38;5;241m%\u001b[39m response\u001b[38;5;241m.\u001b[39mstatus_code)\n\u001b[0;32m    193\u001b[0m \u001b[38;5;28;01mif\u001b[39;00m \u001b[38;5;129;01mnot\u001b[39;00m success:\n\u001b[1;32m--> 194\u001b[0m     \u001b[38;5;28;01mraise\u001b[39;00m \u001b[38;5;167;01mException\u001b[39;00m(\u001b[38;5;124m\"\u001b[39m\u001b[38;5;124mUnable to connect to pushshift.io. Max retries exceeded.\u001b[39m\u001b[38;5;124m\"\u001b[39m)\n\u001b[0;32m    195\u001b[0m \u001b[38;5;28;01mreturn\u001b[39;00m json\u001b[38;5;241m.\u001b[39mloads(response\u001b[38;5;241m.\u001b[39mtext)\n",
      "\u001b[1;31mException\u001b[0m: Unable to connect to pushshift.io. Max retries exceeded."
     ]
    }
   ],
   "source": [
    "gen_comMI = api.search_comments(after=start_epoch, \n",
    "                            subreddit='mentalillness',\n",
    "                            filter=['body', 'link_id', 'id', 'score','submission'],\n",
    "                            #link_id = new_MIids,\n",
    "                            limit=35000000)\n",
    "\n",
    "MIcom = pd.DataFrame([thing.d_ for thing in gen_comMI])"
   ]
  },
  {
   "cell_type": "code",
   "execution_count": null,
   "id": "a17f6b16",
   "metadata": {
    "ExecuteTime": {
     "end_time": "2022-09-17T20:36:09.133247Z",
     "start_time": "2022-09-17T20:36:09.133247Z"
    },
    "scrolled": true
   },
   "outputs": [],
   "source": [
    "MIcom.to_csv('../Data/MIcom.csv',index=False)"
   ]
  },
  {
   "cell_type": "code",
   "execution_count": null,
   "id": "164d2597",
   "metadata": {
    "ExecuteTime": {
     "end_time": "2022-09-17T20:36:09.135248Z",
     "start_time": "2022-09-17T20:36:09.135248Z"
    }
   },
   "outputs": [],
   "source": [
    "#Get rid of emojis, get rid of removed comments"
   ]
  }
 ],
 "metadata": {
  "kernelspec": {
   "display_name": "Python 3 (ipykernel)",
   "language": "python",
   "name": "python3"
  },
  "language_info": {
   "codemirror_mode": {
    "name": "ipython",
    "version": 3
   },
   "file_extension": ".py",
   "mimetype": "text/x-python",
   "name": "python",
   "nbconvert_exporter": "python",
   "pygments_lexer": "ipython3",
   "version": "3.9.12"
  }
 },
 "nbformat": 4,
 "nbformat_minor": 5
}
