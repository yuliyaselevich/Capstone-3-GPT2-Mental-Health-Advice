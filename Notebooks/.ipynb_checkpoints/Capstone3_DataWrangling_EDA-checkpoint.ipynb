{
 "cells": [
  {
   "cell_type": "code",
   "execution_count": 24,
   "id": "0d576d86",
   "metadata": {
    "ExecuteTime": {
     "end_time": "2022-09-17T15:09:26.654543Z",
     "start_time": "2022-09-17T15:09:26.635529Z"
    }
   },
   "outputs": [],
   "source": [
    "#Essentials\n",
    "import pandas as pd\n",
    "import numpy as np\n",
    "import matplotlib.pyplot as plt\n",
    "import seaborn as sns\n",
    "import csv \n",
    "import datetime as dt\n",
    "\n",
    "#For scraping Reddit\n",
    "import praw\n",
    "from psaw import PushshiftAPI\n",
    "\n",
    "#For EDA\n",
    "import re\n",
    "from wordcloud import WordCloud, STOPWORDS\n",
    "from sklearn.feature_extraction.text import TfidfVectorizer\n",
    "from sklearn.neighbors import KNeighborsClassifier \n",
    "from sklearn.cluster import KMeans\n",
    "import sklearn.cluster\n",
    "import sklearn.decomposition\n",
    "import matplotlib.colors\n",
    "from textblob import TextBlob\n",
    "from gensim.models import Word2Vec\n",
    "import nltk\n",
    "from nltk import pos_tag\n",
    "from nltk.stem.wordnet import WordNetLemmatizer \n",
    "from nltk.tokenize import word_tokenize\n",
    "from nltk.corpus import stopwords\n",
    "import textstat\n",
    "import gensim.corpora as corpora\n",
    "from pprint import pprint\n",
    "import gensim\n",
    "from gensim.utils import simple_preprocess\n",
    "import pyLDAvis.gensim_models\n",
    "import pickle \n",
    "import pyLDAvis\n",
    "import os"
   ]
  },
  {
   "cell_type": "markdown",
   "id": "f5e570f5",
   "metadata": {},
   "source": [
    "# Scraping data from reddit"
   ]
  },
  {
   "cell_type": "code",
   "execution_count": 2,
   "id": "7ddddb50",
   "metadata": {
    "ExecuteTime": {
     "end_time": "2022-09-17T13:42:22.129519Z",
     "start_time": "2022-09-17T13:42:21.919871Z"
    }
   },
   "outputs": [],
   "source": [
    "# Before we can use praw, we have to create a Reddit instance do identify \n",
    "reddit = praw.Reddit(client_id='yyW8xfXOePfLhAE3sGhxXg', client_secret='ki5wj55ciBeoKhQghRtEJKS8QKJjPw', \n",
    "                     user_agent='Scraping')\n"
   ]
  },
  {
   "cell_type": "markdown",
   "id": "fe852d03",
   "metadata": {},
   "source": [
    "# Mental Heatlh"
   ]
  },
  {
   "cell_type": "code",
   "execution_count": 204,
   "id": "53a36f51",
   "metadata": {
    "ExecuteTime": {
     "end_time": "2022-09-17T19:45:39.896360Z",
     "start_time": "2022-09-17T19:45:39.330065Z"
    }
   },
   "outputs": [
    {
     "name": "stderr",
     "output_type": "stream",
     "text": [
      "C:\\Users\\Julia\\anaconda3\\lib\\site-packages\\psaw\\PushshiftAPI.py:252: UserWarning: Not all PushShift shards are active. Query results may be incomplete\n",
      "  warnings.warn(shards_down_message)\n"
     ]
    }
   ],
   "source": [
    "#Thanks to dmarx for the clear code on pulling from PSAW! PSAW docs are surprisingly unclear.\n",
    "#https://github.com/dmarx/psaw\n",
    "api = PushshiftAPI()\n",
    "\n",
    "#Start date we're beginning to pull posts from\n",
    "start_epoch=int(dt.datetime(2015, 1, 1).timestamp())\n",
    "\n",
    "\n",
    "#Pulling submissions from mentalhealth (both the title and body of a post)\n",
    "\n",
    "gen_subMH = list(api.search_submissions(after=start_epoch,\n",
    "                            subreddit='mentalhealth',\n",
    "                            filter=['title', 'id','score','link_flair_text','selftext'],\n",
    "                            limit=1000000))\n",
    "\n",
    "\n",
    "#Converting to dataframe\n",
    "MHsub = pd.DataFrame([thing.d_ for thing in gen_subMH])\n"
   ]
  },
  {
   "cell_type": "code",
   "execution_count": 205,
   "id": "9a73320d",
   "metadata": {
    "ExecuteTime": {
     "end_time": "2022-09-17T19:45:42.114254Z",
     "start_time": "2022-09-17T19:45:42.095253Z"
    }
   },
   "outputs": [
    {
     "data": {
      "text/html": [
       "<div>\n",
       "<style scoped>\n",
       "    .dataframe tbody tr th:only-of-type {\n",
       "        vertical-align: middle;\n",
       "    }\n",
       "\n",
       "    .dataframe tbody tr th {\n",
       "        vertical-align: top;\n",
       "    }\n",
       "\n",
       "    .dataframe thead th {\n",
       "        text-align: right;\n",
       "    }\n",
       "</style>\n",
       "<table border=\"1\" class=\"dataframe\">\n",
       "  <thead>\n",
       "    <tr style=\"text-align: right;\">\n",
       "      <th></th>\n",
       "      <th>created_utc</th>\n",
       "      <th>id</th>\n",
       "      <th>link_flair_text</th>\n",
       "      <th>score</th>\n",
       "      <th>selftext</th>\n",
       "      <th>title</th>\n",
       "      <th>created</th>\n",
       "    </tr>\n",
       "  </thead>\n",
       "  <tbody>\n",
       "    <tr>\n",
       "      <th>0</th>\n",
       "      <td>1663443811</td>\n",
       "      <td>xgvoop</td>\n",
       "      <td>Question</td>\n",
       "      <td>1</td>\n",
       "      <td>[removed]</td>\n",
       "      <td>How to overcome shower anxiety?</td>\n",
       "      <td>1.663458e+09</td>\n",
       "    </tr>\n",
       "    <tr>\n",
       "      <th>1</th>\n",
       "      <td>1663442751</td>\n",
       "      <td>xgv9ri</td>\n",
       "      <td>NaN</td>\n",
       "      <td>1</td>\n",
       "      <td>I (22m) realized I do not know what genuine ha...</td>\n",
       "      <td>Please, I need advice</td>\n",
       "      <td>1.663457e+09</td>\n",
       "    </tr>\n",
       "    <tr>\n",
       "      <th>2</th>\n",
       "      <td>1663442607</td>\n",
       "      <td>xgv7re</td>\n",
       "      <td>Venting</td>\n",
       "      <td>1</td>\n",
       "      <td>For some context, I also have ADHD. I grew up ...</td>\n",
       "      <td>I can’t handle my partners depression and ADD ...</td>\n",
       "      <td>1.663457e+09</td>\n",
       "    </tr>\n",
       "    <tr>\n",
       "      <th>3</th>\n",
       "      <td>1663442548</td>\n",
       "      <td>xgv6y3</td>\n",
       "      <td>Opinion / Thoughts</td>\n",
       "      <td>1</td>\n",
       "      <td>I'm a stereotypically depressed 17 year old, I...</td>\n",
       "      <td>everything is just continually bland</td>\n",
       "      <td>1.663457e+09</td>\n",
       "    </tr>\n",
       "    <tr>\n",
       "      <th>4</th>\n",
       "      <td>1663442532</td>\n",
       "      <td>xgv6qa</td>\n",
       "      <td>Venting</td>\n",
       "      <td>1</td>\n",
       "      <td>I'm tired. I'm struggling and I'm tired.\\n\\nI'...</td>\n",
       "      <td>struggling with mental health</td>\n",
       "      <td>1.663457e+09</td>\n",
       "    </tr>\n",
       "  </tbody>\n",
       "</table>\n",
       "</div>"
      ],
      "text/plain": [
       "   created_utc      id     link_flair_text  score  \\\n",
       "0   1663443811  xgvoop            Question      1   \n",
       "1   1663442751  xgv9ri                 NaN      1   \n",
       "2   1663442607  xgv7re             Venting      1   \n",
       "3   1663442548  xgv6y3  Opinion / Thoughts      1   \n",
       "4   1663442532  xgv6qa             Venting      1   \n",
       "\n",
       "                                            selftext  \\\n",
       "0                                          [removed]   \n",
       "1  I (22m) realized I do not know what genuine ha...   \n",
       "2  For some context, I also have ADHD. I grew up ...   \n",
       "3  I'm a stereotypically depressed 17 year old, I...   \n",
       "4  I'm tired. I'm struggling and I'm tired.\\n\\nI'...   \n",
       "\n",
       "                                               title       created  \n",
       "0                    How to overcome shower anxiety?  1.663458e+09  \n",
       "1                              Please, I need advice  1.663457e+09  \n",
       "2  I can’t handle my partners depression and ADD ...  1.663457e+09  \n",
       "3               everything is just continually bland  1.663457e+09  \n",
       "4                      struggling with mental health  1.663457e+09  "
      ]
     },
     "execution_count": 205,
     "metadata": {},
     "output_type": "execute_result"
    }
   ],
   "source": [
    "MHsub.head()"
   ]
  },
  {
   "cell_type": "code",
   "execution_count": 206,
   "id": "5aba6a60",
   "metadata": {
    "ExecuteTime": {
     "end_time": "2022-09-17T19:45:44.905438Z",
     "start_time": "2022-09-17T19:45:44.902435Z"
    }
   },
   "outputs": [],
   "source": [
    "MHids = list(MHsub.id)"
   ]
  },
  {
   "cell_type": "code",
   "execution_count": 207,
   "id": "d71b52de",
   "metadata": {
    "ExecuteTime": {
     "end_time": "2022-09-17T19:45:47.499585Z",
     "start_time": "2022-09-17T19:45:47.494582Z"
    }
   },
   "outputs": [],
   "source": [
    "new_idsMH = ['t3_' + i for i in MHids]"
   ]
  },
  {
   "cell_type": "code",
   "execution_count": 208,
   "id": "4fb30ce0",
   "metadata": {
    "ExecuteTime": {
     "end_time": "2022-09-17T19:46:00.156396Z",
     "start_time": "2022-09-17T19:45:59.175004Z"
    },
    "scrolled": true
   },
   "outputs": [
    {
     "name": "stderr",
     "output_type": "stream",
     "text": [
      "C:\\Users\\Julia\\anaconda3\\lib\\site-packages\\psaw\\PushshiftAPI.py:252: UserWarning: Not all PushShift shards are active. Query results may be incomplete\n",
      "  warnings.warn(shards_down_message)\n"
     ]
    }
   ],
   "source": [
    "#Pulling comments from relationship_advice\n",
    "\n",
    "gen_comMH = api.search_comments(after=start_epoch, \n",
    "                            subreddit='mentalhealth',\n",
    "                            filter=['body', 'link_id', 'id', 'score','submission'],\n",
    "                            link_id = new_idsMH)\n",
    "\n",
    "MHcom = pd.DataFrame([thing.d_ for thing in gen_comMH])"
   ]
  },
  {
   "cell_type": "code",
   "execution_count": 209,
   "id": "59c13404",
   "metadata": {
    "ExecuteTime": {
     "end_time": "2022-09-17T19:46:02.013326Z",
     "start_time": "2022-09-17T19:46:01.991324Z"
    }
   },
   "outputs": [
    {
     "data": {
      "text/html": [
       "<div>\n",
       "<style scoped>\n",
       "    .dataframe tbody tr th:only-of-type {\n",
       "        vertical-align: middle;\n",
       "    }\n",
       "\n",
       "    .dataframe tbody tr th {\n",
       "        vertical-align: top;\n",
       "    }\n",
       "\n",
       "    .dataframe thead th {\n",
       "        text-align: right;\n",
       "    }\n",
       "</style>\n",
       "<table border=\"1\" class=\"dataframe\">\n",
       "  <thead>\n",
       "    <tr style=\"text-align: right;\">\n",
       "      <th></th>\n",
       "      <th>body</th>\n",
       "      <th>created_utc</th>\n",
       "      <th>id</th>\n",
       "      <th>link_id</th>\n",
       "      <th>score</th>\n",
       "      <th>created</th>\n",
       "    </tr>\n",
       "  </thead>\n",
       "  <tbody>\n",
       "    <tr>\n",
       "      <th>0</th>\n",
       "      <td>Thank you for for sharing. A reminder: if you ...</td>\n",
       "      <td>1663443812</td>\n",
       "      <td>iou2sj0</td>\n",
       "      <td>t3_xgvoop</td>\n",
       "      <td>1</td>\n",
       "      <td>1.663458e+09</td>\n",
       "    </tr>\n",
       "    <tr>\n",
       "      <th>1</th>\n",
       "      <td>Are you okay now ? A job dealing with economy ...</td>\n",
       "      <td>1663443565</td>\n",
       "      <td>iou27bo</td>\n",
       "      <td>t3_xgu293</td>\n",
       "      <td>1</td>\n",
       "      <td>1.663458e+09</td>\n",
       "    </tr>\n",
       "    <tr>\n",
       "      <th>2</th>\n",
       "      <td>If you are struggling with motivation like me:...</td>\n",
       "      <td>1663443520</td>\n",
       "      <td>iou23ki</td>\n",
       "      <td>t3_xgumfz</td>\n",
       "      <td>1</td>\n",
       "      <td>1.663458e+09</td>\n",
       "    </tr>\n",
       "    <tr>\n",
       "      <th>3</th>\n",
       "      <td>Damn, I feel you. That's how I feel.</td>\n",
       "      <td>1663443462</td>\n",
       "      <td>iou1ylv</td>\n",
       "      <td>t3_xgusaw</td>\n",
       "      <td>1</td>\n",
       "      <td>1.663458e+09</td>\n",
       "    </tr>\n",
       "    <tr>\n",
       "      <th>4</th>\n",
       "      <td>Yeah I just always wear long sleeve shirts mys...</td>\n",
       "      <td>1663443148</td>\n",
       "      <td>iou1897</td>\n",
       "      <td>t3_xgv07m</td>\n",
       "      <td>1</td>\n",
       "      <td>1.663458e+09</td>\n",
       "    </tr>\n",
       "    <tr>\n",
       "      <th>...</th>\n",
       "      <td>...</td>\n",
       "      <td>...</td>\n",
       "      <td>...</td>\n",
       "      <td>...</td>\n",
       "      <td>...</td>\n",
       "      <td>...</td>\n",
       "    </tr>\n",
       "    <tr>\n",
       "      <th>246</th>\n",
       "      <td>Sorry to hear that ❤️</td>\n",
       "      <td>1663415774</td>\n",
       "      <td>iosbyzy</td>\n",
       "      <td>t3_xgkb2s</td>\n",
       "      <td>1</td>\n",
       "      <td>1.663430e+09</td>\n",
       "    </tr>\n",
       "    <tr>\n",
       "      <th>247</th>\n",
       "      <td>ive been seeing therapists for almost ten year...</td>\n",
       "      <td>1663415650</td>\n",
       "      <td>iosbs2z</td>\n",
       "      <td>t3_xgkb2s</td>\n",
       "      <td>1</td>\n",
       "      <td>1.663430e+09</td>\n",
       "    </tr>\n",
       "    <tr>\n",
       "      <th>248</th>\n",
       "      <td>I've been seeing psychiatrists for 25 years wi...</td>\n",
       "      <td>1663415578</td>\n",
       "      <td>iosbo5i</td>\n",
       "      <td>t3_xgkb2s</td>\n",
       "      <td>1</td>\n",
       "      <td>1.663430e+09</td>\n",
       "    </tr>\n",
       "    <tr>\n",
       "      <th>249</th>\n",
       "      <td>there is no inner strength. there is no inner ...</td>\n",
       "      <td>1663415515</td>\n",
       "      <td>iosbkht</td>\n",
       "      <td>t3_xgkb2s</td>\n",
       "      <td>1</td>\n",
       "      <td>1.663430e+09</td>\n",
       "    </tr>\n",
       "    <tr>\n",
       "      <th>250</th>\n",
       "      <td>You need to tap in to your inner strength and ...</td>\n",
       "      <td>1663415164</td>\n",
       "      <td>iosb0st</td>\n",
       "      <td>t3_xgkb2s</td>\n",
       "      <td>1</td>\n",
       "      <td>1.663430e+09</td>\n",
       "    </tr>\n",
       "  </tbody>\n",
       "</table>\n",
       "<p>251 rows × 6 columns</p>\n",
       "</div>"
      ],
      "text/plain": [
       "                                                  body  created_utc       id  \\\n",
       "0    Thank you for for sharing. A reminder: if you ...   1663443812  iou2sj0   \n",
       "1    Are you okay now ? A job dealing with economy ...   1663443565  iou27bo   \n",
       "2    If you are struggling with motivation like me:...   1663443520  iou23ki   \n",
       "3                 Damn, I feel you. That's how I feel.   1663443462  iou1ylv   \n",
       "4    Yeah I just always wear long sleeve shirts mys...   1663443148  iou1897   \n",
       "..                                                 ...          ...      ...   \n",
       "246                              Sorry to hear that ❤️   1663415774  iosbyzy   \n",
       "247  ive been seeing therapists for almost ten year...   1663415650  iosbs2z   \n",
       "248  I've been seeing psychiatrists for 25 years wi...   1663415578  iosbo5i   \n",
       "249  there is no inner strength. there is no inner ...   1663415515  iosbkht   \n",
       "250  You need to tap in to your inner strength and ...   1663415164  iosb0st   \n",
       "\n",
       "       link_id  score       created  \n",
       "0    t3_xgvoop      1  1.663458e+09  \n",
       "1    t3_xgu293      1  1.663458e+09  \n",
       "2    t3_xgumfz      1  1.663458e+09  \n",
       "3    t3_xgusaw      1  1.663458e+09  \n",
       "4    t3_xgv07m      1  1.663458e+09  \n",
       "..         ...    ...           ...  \n",
       "246  t3_xgkb2s      1  1.663430e+09  \n",
       "247  t3_xgkb2s      1  1.663430e+09  \n",
       "248  t3_xgkb2s      1  1.663430e+09  \n",
       "249  t3_xgkb2s      1  1.663430e+09  \n",
       "250  t3_xgkb2s      1  1.663430e+09  \n",
       "\n",
       "[251 rows x 6 columns]"
      ]
     },
     "execution_count": 209,
     "metadata": {},
     "output_type": "execute_result"
    }
   ],
   "source": [
    "MHcom"
   ]
  },
  {
   "cell_type": "markdown",
   "id": "f305dbb6",
   "metadata": {},
   "source": [
    "# Mental Illness subreddit"
   ]
  },
  {
   "cell_type": "code",
   "execution_count": 210,
   "id": "d3f8f13e",
   "metadata": {
    "ExecuteTime": {
     "end_time": "2022-09-17T19:46:31.828382Z",
     "start_time": "2022-09-17T19:46:31.479305Z"
    }
   },
   "outputs": [
    {
     "name": "stderr",
     "output_type": "stream",
     "text": [
      "C:\\Users\\Julia\\anaconda3\\lib\\site-packages\\psaw\\PushshiftAPI.py:252: UserWarning: Not all PushShift shards are active. Query results may be incomplete\n",
      "  warnings.warn(shards_down_message)\n"
     ]
    }
   ],
   "source": [
    "gen_subMI = list(api.search_submissions(after=start_epoch,\n",
    "                            subreddit='mentalillness',\n",
    "                            filter=['title', 'id','score','link_flair_text','selftext'],\n",
    "                            limit=1000000))\n",
    "\n",
    "\n",
    "#Converting to dataframe\n",
    "MIsub = pd.DataFrame([thing.d_ for thing in gen_subMI])"
   ]
  },
  {
   "cell_type": "code",
   "execution_count": 211,
   "id": "60991c48",
   "metadata": {
    "ExecuteTime": {
     "end_time": "2022-09-17T19:46:34.121152Z",
     "start_time": "2022-09-17T19:46:34.103152Z"
    }
   },
   "outputs": [
    {
     "data": {
      "text/html": [
       "<div>\n",
       "<style scoped>\n",
       "    .dataframe tbody tr th:only-of-type {\n",
       "        vertical-align: middle;\n",
       "    }\n",
       "\n",
       "    .dataframe tbody tr th {\n",
       "        vertical-align: top;\n",
       "    }\n",
       "\n",
       "    .dataframe thead th {\n",
       "        text-align: right;\n",
       "    }\n",
       "</style>\n",
       "<table border=\"1\" class=\"dataframe\">\n",
       "  <thead>\n",
       "    <tr style=\"text-align: right;\">\n",
       "      <th></th>\n",
       "      <th>created_utc</th>\n",
       "      <th>id</th>\n",
       "      <th>link_flair_text</th>\n",
       "      <th>score</th>\n",
       "      <th>selftext</th>\n",
       "      <th>title</th>\n",
       "      <th>created</th>\n",
       "    </tr>\n",
       "  </thead>\n",
       "  <tbody>\n",
       "    <tr>\n",
       "      <th>0</th>\n",
       "      <td>1663443535</td>\n",
       "      <td>xgvkr9</td>\n",
       "      <td>Relationships</td>\n",
       "      <td>1</td>\n",
       "      <td>heavy mention of killing . breif mention of ed...</td>\n",
       "      <td>worried about my boyfriend</td>\n",
       "      <td>1.663458e+09</td>\n",
       "    </tr>\n",
       "    <tr>\n",
       "      <th>1</th>\n",
       "      <td>1663438740</td>\n",
       "      <td>xgtoep</td>\n",
       "      <td>NaN</td>\n",
       "      <td>1</td>\n",
       "      <td>this has happened for a while, i seriously don...</td>\n",
       "      <td>sometimes i feel i've became a different person</td>\n",
       "      <td>1.663453e+09</td>\n",
       "    </tr>\n",
       "    <tr>\n",
       "      <th>2</th>\n",
       "      <td>1663438416</td>\n",
       "      <td>xgtjlr</td>\n",
       "      <td>NaN</td>\n",
       "      <td>1</td>\n",
       "      <td></td>\n",
       "      <td>dissociation *please read*</td>\n",
       "      <td>1.663453e+09</td>\n",
       "    </tr>\n",
       "    <tr>\n",
       "      <th>3</th>\n",
       "      <td>1663437352</td>\n",
       "      <td>xgt49i</td>\n",
       "      <td>NaN</td>\n",
       "      <td>1</td>\n",
       "      <td>[removed]</td>\n",
       "      <td>I'm not sick but I'm not well</td>\n",
       "      <td>1.663452e+09</td>\n",
       "    </tr>\n",
       "    <tr>\n",
       "      <th>4</th>\n",
       "      <td>1663435374</td>\n",
       "      <td>xgsbmp</td>\n",
       "      <td>Advice Needed</td>\n",
       "      <td>1</td>\n",
       "      <td></td>\n",
       "      <td>I really struggle with putting my problems int...</td>\n",
       "      <td>1.663450e+09</td>\n",
       "    </tr>\n",
       "    <tr>\n",
       "      <th>...</th>\n",
       "      <td>...</td>\n",
       "      <td>...</td>\n",
       "      <td>...</td>\n",
       "      <td>...</td>\n",
       "      <td>...</td>\n",
       "      <td>...</td>\n",
       "      <td>...</td>\n",
       "    </tr>\n",
       "    <tr>\n",
       "      <th>95</th>\n",
       "      <td>1663209714</td>\n",
       "      <td>xekxby</td>\n",
       "      <td>NaN</td>\n",
       "      <td>1</td>\n",
       "      <td></td>\n",
       "      <td>what are some mental disorders that cause sudd...</td>\n",
       "      <td>1.663224e+09</td>\n",
       "    </tr>\n",
       "    <tr>\n",
       "      <th>96</th>\n",
       "      <td>1663207653</td>\n",
       "      <td>xek6ht</td>\n",
       "      <td>NaN</td>\n",
       "      <td>1</td>\n",
       "      <td>[removed]</td>\n",
       "      <td>Sometimes I really wish I could either scream ...</td>\n",
       "      <td>1.663222e+09</td>\n",
       "    </tr>\n",
       "    <tr>\n",
       "      <th>97</th>\n",
       "      <td>1663206187</td>\n",
       "      <td>xejo26</td>\n",
       "      <td>NaN</td>\n",
       "      <td>1</td>\n",
       "      <td>My anxiety goes up and down throughout the wee...</td>\n",
       "      <td>Only feel anxiety</td>\n",
       "      <td>1.663221e+09</td>\n",
       "    </tr>\n",
       "    <tr>\n",
       "      <th>98</th>\n",
       "      <td>1663204914</td>\n",
       "      <td>xej81h</td>\n",
       "      <td>Medication</td>\n",
       "      <td>1</td>\n",
       "      <td>Been diagnosed with persistent depressive diso...</td>\n",
       "      <td>Overreacting</td>\n",
       "      <td>1.663219e+09</td>\n",
       "    </tr>\n",
       "    <tr>\n",
       "      <th>99</th>\n",
       "      <td>1663204556</td>\n",
       "      <td>xej38j</td>\n",
       "      <td>Medication</td>\n",
       "      <td>1</td>\n",
       "      <td></td>\n",
       "      <td>Too much feeling</td>\n",
       "      <td>1.663219e+09</td>\n",
       "    </tr>\n",
       "  </tbody>\n",
       "</table>\n",
       "<p>100 rows × 7 columns</p>\n",
       "</div>"
      ],
      "text/plain": [
       "    created_utc      id link_flair_text  score  \\\n",
       "0    1663443535  xgvkr9   Relationships      1   \n",
       "1    1663438740  xgtoep             NaN      1   \n",
       "2    1663438416  xgtjlr             NaN      1   \n",
       "3    1663437352  xgt49i             NaN      1   \n",
       "4    1663435374  xgsbmp   Advice Needed      1   \n",
       "..          ...     ...             ...    ...   \n",
       "95   1663209714  xekxby             NaN      1   \n",
       "96   1663207653  xek6ht             NaN      1   \n",
       "97   1663206187  xejo26             NaN      1   \n",
       "98   1663204914  xej81h      Medication      1   \n",
       "99   1663204556  xej38j      Medication      1   \n",
       "\n",
       "                                             selftext  \\\n",
       "0   heavy mention of killing . breif mention of ed...   \n",
       "1   this has happened for a while, i seriously don...   \n",
       "2                                                       \n",
       "3                                           [removed]   \n",
       "4                                                       \n",
       "..                                                ...   \n",
       "95                                                      \n",
       "96                                          [removed]   \n",
       "97  My anxiety goes up and down throughout the wee...   \n",
       "98  Been diagnosed with persistent depressive diso...   \n",
       "99                                                      \n",
       "\n",
       "                                                title       created  \n",
       "0                          worried about my boyfriend  1.663458e+09  \n",
       "1     sometimes i feel i've became a different person  1.663453e+09  \n",
       "2                          dissociation *please read*  1.663453e+09  \n",
       "3                       I'm not sick but I'm not well  1.663452e+09  \n",
       "4   I really struggle with putting my problems int...  1.663450e+09  \n",
       "..                                                ...           ...  \n",
       "95  what are some mental disorders that cause sudd...  1.663224e+09  \n",
       "96  Sometimes I really wish I could either scream ...  1.663222e+09  \n",
       "97                                  Only feel anxiety  1.663221e+09  \n",
       "98                                       Overreacting  1.663219e+09  \n",
       "99                                   Too much feeling  1.663219e+09  \n",
       "\n",
       "[100 rows x 7 columns]"
      ]
     },
     "execution_count": 211,
     "metadata": {},
     "output_type": "execute_result"
    }
   ],
   "source": [
    "MIsub"
   ]
  },
  {
   "cell_type": "code",
   "execution_count": 212,
   "id": "100a53c5",
   "metadata": {
    "ExecuteTime": {
     "end_time": "2022-09-17T19:46:45.052329Z",
     "start_time": "2022-09-17T19:46:45.048322Z"
    }
   },
   "outputs": [],
   "source": [
    "MIids = list(MIsub.id)"
   ]
  },
  {
   "cell_type": "code",
   "execution_count": 213,
   "id": "0d8813fe",
   "metadata": {
    "ExecuteTime": {
     "end_time": "2022-09-17T19:46:50.867172Z",
     "start_time": "2022-09-17T19:46:50.863171Z"
    }
   },
   "outputs": [],
   "source": [
    "new_MIids = ['t3_' + i for i in MIids]"
   ]
  },
  {
   "cell_type": "code",
   "execution_count": 214,
   "id": "3e6a3deb",
   "metadata": {
    "ExecuteTime": {
     "end_time": "2022-09-17T19:46:57.742794Z",
     "start_time": "2022-09-17T19:46:56.455087Z"
    }
   },
   "outputs": [
    {
     "name": "stderr",
     "output_type": "stream",
     "text": [
      "C:\\Users\\Julia\\anaconda3\\lib\\site-packages\\psaw\\PushshiftAPI.py:252: UserWarning: Not all PushShift shards are active. Query results may be incomplete\n",
      "  warnings.warn(shards_down_message)\n"
     ]
    }
   ],
   "source": [
    "gen_comMI = api.search_comments(after=start_epoch, \n",
    "                            subreddit='mentalillness',\n",
    "                            filter=['body', 'link_id', 'id', 'score','submission'],\n",
    "                            link_id = new_MIids)\n",
    "\n",
    "MIcom = pd.DataFrame([thing.d_ for thing in gen_comMI])"
   ]
  },
  {
   "cell_type": "code",
   "execution_count": 215,
   "id": "fbc6b34f",
   "metadata": {
    "ExecuteTime": {
     "end_time": "2022-09-17T19:46:58.446102Z",
     "start_time": "2022-09-17T19:46:58.430088Z"
    },
    "scrolled": true
   },
   "outputs": [
    {
     "data": {
      "text/html": [
       "<div>\n",
       "<style scoped>\n",
       "    .dataframe tbody tr th:only-of-type {\n",
       "        vertical-align: middle;\n",
       "    }\n",
       "\n",
       "    .dataframe tbody tr th {\n",
       "        vertical-align: top;\n",
       "    }\n",
       "\n",
       "    .dataframe thead th {\n",
       "        text-align: right;\n",
       "    }\n",
       "</style>\n",
       "<table border=\"1\" class=\"dataframe\">\n",
       "  <thead>\n",
       "    <tr style=\"text-align: right;\">\n",
       "      <th></th>\n",
       "      <th>body</th>\n",
       "      <th>created_utc</th>\n",
       "      <th>id</th>\n",
       "      <th>link_id</th>\n",
       "      <th>score</th>\n",
       "      <th>created</th>\n",
       "    </tr>\n",
       "  </thead>\n",
       "  <tbody>\n",
       "    <tr>\n",
       "      <th>0</th>\n",
       "      <td>Sometimes medication or therapy is not effecti...</td>\n",
       "      <td>1663442940</td>\n",
       "      <td>iou0qv1</td>\n",
       "      <td>t3_xg8718</td>\n",
       "      <td>1</td>\n",
       "      <td>1.663457e+09</td>\n",
       "    </tr>\n",
       "    <tr>\n",
       "      <th>1</th>\n",
       "      <td>I understand what you're saying but how does t...</td>\n",
       "      <td>1663441917</td>\n",
       "      <td>iotycyt</td>\n",
       "      <td>t3_xg8718</td>\n",
       "      <td>1</td>\n",
       "      <td>1.663456e+09</td>\n",
       "    </tr>\n",
       "    <tr>\n",
       "      <th>2</th>\n",
       "      <td>So sir it means dr remains safe?\\nMeans if a p...</td>\n",
       "      <td>1663441915</td>\n",
       "      <td>iotycuc</td>\n",
       "      <td>t3_xgj5q2</td>\n",
       "      <td>1</td>\n",
       "      <td>1.663456e+09</td>\n",
       "    </tr>\n",
       "    <tr>\n",
       "      <th>3</th>\n",
       "      <td>Lol, great! I do hope you find the answers you...</td>\n",
       "      <td>1663441797</td>\n",
       "      <td>ioty2u7</td>\n",
       "      <td>t3_xgj5q2</td>\n",
       "      <td>1</td>\n",
       "      <td>1.663456e+09</td>\n",
       "    </tr>\n",
       "    <tr>\n",
       "      <th>4</th>\n",
       "      <td>Sorry i dont want to hate u</td>\n",
       "      <td>1663441737</td>\n",
       "      <td>iotxxm8</td>\n",
       "      <td>t3_xgj5q2</td>\n",
       "      <td>1</td>\n",
       "      <td>1.663456e+09</td>\n",
       "    </tr>\n",
       "    <tr>\n",
       "      <th>...</th>\n",
       "      <td>...</td>\n",
       "      <td>...</td>\n",
       "      <td>...</td>\n",
       "      <td>...</td>\n",
       "      <td>...</td>\n",
       "      <td>...</td>\n",
       "    </tr>\n",
       "    <tr>\n",
       "      <th>175</th>\n",
       "      <td>BPD (borderline personality disorder) one of t...</td>\n",
       "      <td>1663214032</td>\n",
       "      <td>iohlbb5</td>\n",
       "      <td>t3_xekxby</td>\n",
       "      <td>1</td>\n",
       "      <td>1.663228e+09</td>\n",
       "    </tr>\n",
       "    <tr>\n",
       "      <th>176</th>\n",
       "      <td>It appears you may be asking if you or a loved...</td>\n",
       "      <td>1663213830</td>\n",
       "      <td>iohkxxj</td>\n",
       "      <td>t3_xemc5k</td>\n",
       "      <td>1</td>\n",
       "      <td>1.663228e+09</td>\n",
       "    </tr>\n",
       "    <tr>\n",
       "      <th>177</th>\n",
       "      <td>I’ll take you up on your offer. I’m not a psyc...</td>\n",
       "      <td>1663212058</td>\n",
       "      <td>iohhkib</td>\n",
       "      <td>t3_xel70i</td>\n",
       "      <td>1</td>\n",
       "      <td>1.663226e+09</td>\n",
       "    </tr>\n",
       "    <tr>\n",
       "      <th>178</th>\n",
       "      <td>Most of them. Because being crazy stresses peo...</td>\n",
       "      <td>1663210125</td>\n",
       "      <td>iohdovk</td>\n",
       "      <td>t3_xekxby</td>\n",
       "      <td>1</td>\n",
       "      <td>1.663225e+09</td>\n",
       "    </tr>\n",
       "    <tr>\n",
       "      <th>179</th>\n",
       "      <td>BPD is notorious  for that.  I have some issue...</td>\n",
       "      <td>1663209842</td>\n",
       "      <td>iohd3v8</td>\n",
       "      <td>t3_xekxby</td>\n",
       "      <td>1</td>\n",
       "      <td>1.663224e+09</td>\n",
       "    </tr>\n",
       "  </tbody>\n",
       "</table>\n",
       "<p>180 rows × 6 columns</p>\n",
       "</div>"
      ],
      "text/plain": [
       "                                                  body  created_utc       id  \\\n",
       "0    Sometimes medication or therapy is not effecti...   1663442940  iou0qv1   \n",
       "1    I understand what you're saying but how does t...   1663441917  iotycyt   \n",
       "2    So sir it means dr remains safe?\\nMeans if a p...   1663441915  iotycuc   \n",
       "3    Lol, great! I do hope you find the answers you...   1663441797  ioty2u7   \n",
       "4                          Sorry i dont want to hate u   1663441737  iotxxm8   \n",
       "..                                                 ...          ...      ...   \n",
       "175  BPD (borderline personality disorder) one of t...   1663214032  iohlbb5   \n",
       "176  It appears you may be asking if you or a loved...   1663213830  iohkxxj   \n",
       "177  I’ll take you up on your offer. I’m not a psyc...   1663212058  iohhkib   \n",
       "178  Most of them. Because being crazy stresses peo...   1663210125  iohdovk   \n",
       "179  BPD is notorious  for that.  I have some issue...   1663209842  iohd3v8   \n",
       "\n",
       "       link_id  score       created  \n",
       "0    t3_xg8718      1  1.663457e+09  \n",
       "1    t3_xg8718      1  1.663456e+09  \n",
       "2    t3_xgj5q2      1  1.663456e+09  \n",
       "3    t3_xgj5q2      1  1.663456e+09  \n",
       "4    t3_xgj5q2      1  1.663456e+09  \n",
       "..         ...    ...           ...  \n",
       "175  t3_xekxby      1  1.663228e+09  \n",
       "176  t3_xemc5k      1  1.663228e+09  \n",
       "177  t3_xel70i      1  1.663226e+09  \n",
       "178  t3_xekxby      1  1.663225e+09  \n",
       "179  t3_xekxby      1  1.663224e+09  \n",
       "\n",
       "[180 rows x 6 columns]"
      ]
     },
     "execution_count": 215,
     "metadata": {},
     "output_type": "execute_result"
    }
   ],
   "source": [
    "MIcom"
   ]
  },
  {
   "cell_type": "code",
   "execution_count": null,
   "id": "1987a945",
   "metadata": {},
   "outputs": [],
   "source": [
    "#Get rid of emojis, get rid of removed comments"
   ]
  }
 ],
 "metadata": {
  "kernelspec": {
   "display_name": "Python 3 (ipykernel)",
   "language": "python",
   "name": "python3"
  },
  "language_info": {
   "codemirror_mode": {
    "name": "ipython",
    "version": 3
   },
   "file_extension": ".py",
   "mimetype": "text/x-python",
   "name": "python",
   "nbconvert_exporter": "python",
   "pygments_lexer": "ipython3",
   "version": "3.9.12"
  }
 },
 "nbformat": 4,
 "nbformat_minor": 5
}
