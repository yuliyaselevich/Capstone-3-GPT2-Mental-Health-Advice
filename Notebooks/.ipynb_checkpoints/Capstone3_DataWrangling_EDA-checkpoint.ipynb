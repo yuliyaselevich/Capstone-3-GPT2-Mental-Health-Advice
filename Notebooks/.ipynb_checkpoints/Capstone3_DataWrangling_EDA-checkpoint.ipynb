{
 "cells": [
  {
   "cell_type": "code",
   "execution_count": 1,
   "id": "0d576d86",
   "metadata": {
    "ExecuteTime": {
     "end_time": "2022-09-21T21:57:05.635634Z",
     "start_time": "2022-09-21T21:56:48.566180Z"
    }
   },
   "outputs": [],
   "source": [
    "#Essentials\n",
    "import pandas as pd\n",
    "import numpy as np\n",
    "import matplotlib.pyplot as plt\n",
    "import seaborn as sns\n",
    "import csv \n",
    "import datetime as dt\n",
    "\n",
    "#For scraping Reddit\n",
    "import praw\n",
    "from psaw import PushshiftAPI\n",
    "\n",
    "#For EDA\n",
    "import re\n",
    "from wordcloud import WordCloud, STOPWORDS\n",
    "from sklearn.feature_extraction.text import TfidfVectorizer\n",
    "from sklearn.neighbors import KNeighborsClassifier \n",
    "from sklearn.cluster import KMeans\n",
    "import sklearn.cluster\n",
    "import sklearn.decomposition\n",
    "import matplotlib.colors\n",
    "from textblob import TextBlob\n",
    "from gensim.models import Word2Vec\n",
    "import nltk\n",
    "from nltk import pos_tag\n",
    "from nltk.stem.wordnet import WordNetLemmatizer \n",
    "from nltk.tokenize import word_tokenize\n",
    "from nltk.corpus import stopwords\n",
    "import textstat\n",
    "import gensim.corpora as corpora\n",
    "from pprint import pprint\n",
    "import gensim\n",
    "from gensim.utils import simple_preprocess\n",
    "import pyLDAvis.gensim_models\n",
    "import pickle \n",
    "import pyLDAvis\n",
    "import os"
   ]
  },
  {
   "cell_type": "markdown",
   "id": "3ab47326",
   "metadata": {},
   "source": [
    "# Mental Heatlh"
   ]
  },
  {
   "cell_type": "code",
   "execution_count": 2,
   "id": "b8743a3f",
   "metadata": {
    "ExecuteTime": {
     "end_time": "2022-09-18T21:22:53.185730Z",
     "start_time": "2022-09-18T20:58:04.726804Z"
    }
   },
   "outputs": [
    {
     "name": "stderr",
     "output_type": "stream",
     "text": [
      "C:\\Users\\Julia\\anaconda3\\lib\\site-packages\\psaw\\PushshiftAPI.py:252: UserWarning: Not all PushShift shards are active. Query results may be incomplete\n",
      "  warnings.warn(shards_down_message)\n",
      "C:\\Users\\Julia\\anaconda3\\lib\\site-packages\\psaw\\PushshiftAPI.py:192: UserWarning: Got non 200 code 429\n",
      "  warnings.warn(\"Got non 200 code %s\" % response.status_code)\n",
      "C:\\Users\\Julia\\anaconda3\\lib\\site-packages\\psaw\\PushshiftAPI.py:180: UserWarning: Unable to connect to pushshift.io. Retrying after backoff.\n",
      "  warnings.warn(\"Unable to connect to pushshift.io. Retrying after backoff.\")\n"
     ]
    }
   ],
   "source": [
    "#Thanks to dmarx for the clear code on pulling from PSAW! PSAW docs are surprisingly unclear.\n",
    "#https://github.com/dmarx/psaw\n",
    "api = PushshiftAPI()\n",
    "\n",
    "#Start date we're beginning to pull posts from\n",
    "start_epoch=int(dt.datetime(2010, 1, 1).timestamp())\n",
    "\n",
    "\n",
    "#Pulling submissions from mentalhealth (both the title and body of a post)\n",
    "\n",
    "gen_subMH = list(api.search_submissions(after=start_epoch,\n",
    "                            subreddit='mentalhealth',\n",
    "                            filter=['title', 'id','score','link_flair_text','selftext'],\n",
    "                            limit=1000000))\n",
    "\n",
    "\n",
    "#Converting to dataframe\n",
    "MHsub = pd.DataFrame([thing.d_ for thing in gen_subMH])\n"
   ]
  },
  {
   "cell_type": "code",
   "execution_count": 3,
   "id": "165cca7a",
   "metadata": {
    "ExecuteTime": {
     "end_time": "2022-09-18T21:23:10.418189Z",
     "start_time": "2022-09-18T21:22:53.194738Z"
    }
   },
   "outputs": [],
   "source": [
    "MHsub.to_csv('../Data/MHsub.csv',index=False)"
   ]
  },
  {
   "cell_type": "code",
   "execution_count": 4,
   "id": "785a786b",
   "metadata": {
    "ExecuteTime": {
     "end_time": "2022-09-18T22:57:14.543957Z",
     "start_time": "2022-09-18T21:23:10.427171Z"
    },
    "scrolled": true
   },
   "outputs": [
    {
     "name": "stderr",
     "output_type": "stream",
     "text": [
      "C:\\Users\\Julia\\anaconda3\\lib\\site-packages\\psaw\\PushshiftAPI.py:252: UserWarning: Not all PushShift shards are active. Query results may be incomplete\n",
      "  warnings.warn(shards_down_message)\n",
      "C:\\Users\\Julia\\anaconda3\\lib\\site-packages\\psaw\\PushshiftAPI.py:192: UserWarning: Got non 200 code 429\n",
      "  warnings.warn(\"Got non 200 code %s\" % response.status_code)\n",
      "C:\\Users\\Julia\\anaconda3\\lib\\site-packages\\psaw\\PushshiftAPI.py:180: UserWarning: Unable to connect to pushshift.io. Retrying after backoff.\n",
      "  warnings.warn(\"Unable to connect to pushshift.io. Retrying after backoff.\")\n"
     ]
    }
   ],
   "source": [
    "#Pulling comments from mental health\n",
    "\n",
    "gen_comMH = api.search_comments(after=start_epoch, \n",
    "                            subreddit='mentalhealth',\n",
    "                            filter=['body', 'link_id', 'id', 'score','submission'],\n",
    "                            #link_id = new_idsMH,\n",
    "                            limit=35000000)\n",
    "\n",
    "MHcom = pd.DataFrame([thing.d_ for thing in gen_comMH])"
   ]
  },
  {
   "cell_type": "code",
   "execution_count": 5,
   "id": "5fe48b92",
   "metadata": {
    "ExecuteTime": {
     "end_time": "2022-09-18T22:57:38.572099Z",
     "start_time": "2022-09-18T22:57:14.631323Z"
    }
   },
   "outputs": [],
   "source": [
    "MHcom.to_csv('../Data/MHcom.csv',index=False)"
   ]
  },
  {
   "cell_type": "markdown",
   "id": "f1fc2750",
   "metadata": {},
   "source": [
    "# Mental Illness subreddit"
   ]
  },
  {
   "cell_type": "code",
   "execution_count": 6,
   "id": "a1e7409c",
   "metadata": {
    "ExecuteTime": {
     "end_time": "2022-09-18T23:03:13.668402Z",
     "start_time": "2022-09-18T22:57:38.577089Z"
    }
   },
   "outputs": [
    {
     "name": "stderr",
     "output_type": "stream",
     "text": [
      "C:\\Users\\Julia\\anaconda3\\lib\\site-packages\\psaw\\PushshiftAPI.py:252: UserWarning: Not all PushShift shards are active. Query results may be incomplete\n",
      "  warnings.warn(shards_down_message)\n",
      "C:\\Users\\Julia\\anaconda3\\lib\\site-packages\\psaw\\PushshiftAPI.py:192: UserWarning: Got non 200 code 429\n",
      "  warnings.warn(\"Got non 200 code %s\" % response.status_code)\n",
      "C:\\Users\\Julia\\anaconda3\\lib\\site-packages\\psaw\\PushshiftAPI.py:180: UserWarning: Unable to connect to pushshift.io. Retrying after backoff.\n",
      "  warnings.warn(\"Unable to connect to pushshift.io. Retrying after backoff.\")\n"
     ]
    }
   ],
   "source": [
    "gen_subMI = list(api.search_submissions(after=start_epoch,\n",
    "                            subreddit='mentalillness',\n",
    "                            filter=['title', 'id','score','link_flair_text','selftext'],\n",
    "                            limit=1000000))\n",
    "\n",
    "\n",
    "#Converting to dataframe\n",
    "MIsub = pd.DataFrame([thing.d_ for thing in gen_subMI])"
   ]
  },
  {
   "cell_type": "code",
   "execution_count": 7,
   "id": "1b273d75",
   "metadata": {
    "ExecuteTime": {
     "end_time": "2022-09-18T23:03:15.239888Z",
     "start_time": "2022-09-18T23:03:13.681411Z"
    }
   },
   "outputs": [],
   "source": [
    "MIsub.to_csv('../Data/MIsub.csv',index=False)"
   ]
  },
  {
   "cell_type": "code",
   "execution_count": 8,
   "id": "987ecd65",
   "metadata": {
    "ExecuteTime": {
     "end_time": "2022-09-18T23:16:27.896527Z",
     "start_time": "2022-09-18T23:03:15.242882Z"
    }
   },
   "outputs": [
    {
     "name": "stderr",
     "output_type": "stream",
     "text": [
      "C:\\Users\\Julia\\anaconda3\\lib\\site-packages\\psaw\\PushshiftAPI.py:252: UserWarning: Not all PushShift shards are active. Query results may be incomplete\n",
      "  warnings.warn(shards_down_message)\n",
      "C:\\Users\\Julia\\anaconda3\\lib\\site-packages\\psaw\\PushshiftAPI.py:192: UserWarning: Got non 200 code 429\n",
      "  warnings.warn(\"Got non 200 code %s\" % response.status_code)\n",
      "C:\\Users\\Julia\\anaconda3\\lib\\site-packages\\psaw\\PushshiftAPI.py:180: UserWarning: Unable to connect to pushshift.io. Retrying after backoff.\n",
      "  warnings.warn(\"Unable to connect to pushshift.io. Retrying after backoff.\")\n"
     ]
    }
   ],
   "source": [
    "gen_comMI = api.search_comments(after=start_epoch, \n",
    "                            subreddit='mentalillness',\n",
    "                            filter=['body', 'link_id', 'id', 'score','submission'],\n",
    "                            #link_id = new_MIids,\n",
    "                            limit=35000000)\n",
    "\n",
    "MIcom = pd.DataFrame([thing.d_ for thing in gen_comMI])"
   ]
  },
  {
   "cell_type": "code",
   "execution_count": 9,
   "id": "db0e0541",
   "metadata": {
    "ExecuteTime": {
     "end_time": "2022-09-18T23:16:30.448626Z",
     "start_time": "2022-09-18T23:16:27.951685Z"
    },
    "scrolled": true
   },
   "outputs": [],
   "source": [
    "MIcom.to_csv('../Data/MIcom.csv',index=False)"
   ]
  },
  {
   "cell_type": "code",
   "execution_count": 3,
   "id": "7ede4b08",
   "metadata": {
    "ExecuteTime": {
     "end_time": "2022-09-21T21:57:48.314964Z",
     "start_time": "2022-09-21T21:57:22.465147Z"
    }
   },
   "outputs": [],
   "source": [
    "MHsub = pd.read_csv('../Data/MHsub.csv')\n",
    "MHcom = pd.read_csv('../Data/MHcom.csv')\n",
    "MIsub = pd.read_csv('../Data/MIsub.csv')\n",
    "MIcom = pd.read_csv('../Data/MIcom.csv')"
   ]
  },
  {
   "cell_type": "code",
   "execution_count": 4,
   "id": "a34df9d5",
   "metadata": {
    "ExecuteTime": {
     "end_time": "2022-09-21T21:58:03.075000Z",
     "start_time": "2022-09-21T21:58:02.759765Z"
    }
   },
   "outputs": [
    {
     "name": "stdout",
     "output_type": "stream",
     "text": [
      "<class 'pandas.core.frame.DataFrame'>\n",
      "RangeIndex: 364797 entries, 0 to 364796\n",
      "Data columns (total 7 columns):\n",
      " #   Column           Non-Null Count   Dtype  \n",
      "---  ------           --------------   -----  \n",
      " 0   created_utc      364797 non-null  int64  \n",
      " 1   id               364797 non-null  object \n",
      " 2   score            364797 non-null  int64  \n",
      " 3   selftext         343794 non-null  object \n",
      " 4   title            364797 non-null  object \n",
      " 5   created          364797 non-null  float64\n",
      " 6   link_flair_text  141878 non-null  object \n",
      "dtypes: float64(1), int64(2), object(4)\n",
      "memory usage: 19.5+ MB\n"
     ]
    }
   ],
   "source": [
    "MHsub.info()"
   ]
  },
  {
   "cell_type": "code",
   "execution_count": 8,
   "id": "aafff817",
   "metadata": {
    "ExecuteTime": {
     "end_time": "2022-09-21T23:34:59.841817Z",
     "start_time": "2022-09-21T23:34:59.428236Z"
    }
   },
   "outputs": [
    {
     "data": {
      "text/html": [
       "<div>\n",
       "<style scoped>\n",
       "    .dataframe tbody tr th:only-of-type {\n",
       "        vertical-align: middle;\n",
       "    }\n",
       "\n",
       "    .dataframe tbody tr th {\n",
       "        vertical-align: top;\n",
       "    }\n",
       "\n",
       "    .dataframe thead th {\n",
       "        text-align: right;\n",
       "    }\n",
       "</style>\n",
       "<table border=\"1\" class=\"dataframe\">\n",
       "  <thead>\n",
       "    <tr style=\"text-align: right;\">\n",
       "      <th></th>\n",
       "      <th>created_utc</th>\n",
       "      <th>id</th>\n",
       "      <th>score</th>\n",
       "      <th>selftext</th>\n",
       "      <th>title</th>\n",
       "      <th>created</th>\n",
       "      <th>link_flair_text</th>\n",
       "    </tr>\n",
       "  </thead>\n",
       "  <tbody>\n",
       "    <tr>\n",
       "      <th>0</th>\n",
       "      <td>1663534517</td>\n",
       "      <td>xhrtbf</td>\n",
       "      <td>1</td>\n",
       "      <td>I don’t entirely want to reach out to people h...</td>\n",
       "      <td>How do I stop villainizing myself.</td>\n",
       "      <td>1.663549e+09</td>\n",
       "      <td>NaN</td>\n",
       "    </tr>\n",
       "    <tr>\n",
       "      <th>1</th>\n",
       "      <td>1663534244</td>\n",
       "      <td>xhrpbh</td>\n",
       "      <td>1</td>\n",
       "      <td>I suffer from anxiety attacks regularly, usual...</td>\n",
       "      <td>is this a panic attack or something else?</td>\n",
       "      <td>1.663549e+09</td>\n",
       "      <td>NaN</td>\n",
       "    </tr>\n",
       "    <tr>\n",
       "      <th>2</th>\n",
       "      <td>1663533992</td>\n",
       "      <td>xhrlh6</td>\n",
       "      <td>1</td>\n",
       "      <td>I've been having these thoughts lately like\\n\\...</td>\n",
       "      <td>do you ever feel like not being alive anymore</td>\n",
       "      <td>1.663548e+09</td>\n",
       "      <td>NaN</td>\n",
       "    </tr>\n",
       "    <tr>\n",
       "      <th>3</th>\n",
       "      <td>1663533274</td>\n",
       "      <td>xhrats</td>\n",
       "      <td>1</td>\n",
       "      <td>For some miraculous reason, I got a girlfriend...</td>\n",
       "      <td>Being normal</td>\n",
       "      <td>1.663548e+09</td>\n",
       "      <td>Opinion / Thoughts</td>\n",
       "    </tr>\n",
       "    <tr>\n",
       "      <th>4</th>\n",
       "      <td>1663533255</td>\n",
       "      <td>xhrajv</td>\n",
       "      <td>1</td>\n",
       "      <td>I've been going through a hard time lately and...</td>\n",
       "      <td>why do depressed people shave their heads</td>\n",
       "      <td>1.663548e+09</td>\n",
       "      <td>NaN</td>\n",
       "    </tr>\n",
       "    <tr>\n",
       "      <th>...</th>\n",
       "      <td>...</td>\n",
       "      <td>...</td>\n",
       "      <td>...</td>\n",
       "      <td>...</td>\n",
       "      <td>...</td>\n",
       "      <td>...</td>\n",
       "      <td>...</td>\n",
       "    </tr>\n",
       "    <tr>\n",
       "      <th>364792</th>\n",
       "      <td>1276360991</td>\n",
       "      <td>cease</td>\n",
       "      <td>1</td>\n",
       "      <td>NaN</td>\n",
       "      <td>Bipolar Blogger</td>\n",
       "      <td>1.276375e+09</td>\n",
       "      <td>NaN</td>\n",
       "    </tr>\n",
       "    <tr>\n",
       "      <th>364793</th>\n",
       "      <td>1276360127</td>\n",
       "      <td>ceang</td>\n",
       "      <td>0</td>\n",
       "      <td>NaN</td>\n",
       "      <td>Bipolar in Real Life</td>\n",
       "      <td>1.276375e+09</td>\n",
       "      <td>NaN</td>\n",
       "    </tr>\n",
       "    <tr>\n",
       "      <th>364794</th>\n",
       "      <td>1273693329</td>\n",
       "      <td>c3963</td>\n",
       "      <td>1</td>\n",
       "      <td>NaN</td>\n",
       "      <td>Texas Receives 'D' for Mental Health and Addic...</td>\n",
       "      <td>1.273708e+09</td>\n",
       "      <td>NaN</td>\n",
       "    </tr>\n",
       "    <tr>\n",
       "      <th>364795</th>\n",
       "      <td>1273002455</td>\n",
       "      <td>c02w6</td>\n",
       "      <td>1</td>\n",
       "      <td>NaN</td>\n",
       "      <td>Mental Health Threat: Growing Concern in Today...</td>\n",
       "      <td>1.273017e+09</td>\n",
       "      <td>NaN</td>\n",
       "    </tr>\n",
       "    <tr>\n",
       "      <th>364796</th>\n",
       "      <td>1265475478</td>\n",
       "      <td>ayvcs</td>\n",
       "      <td>1</td>\n",
       "      <td>NaN</td>\n",
       "      <td>Mental Health Article and Online Researching</td>\n",
       "      <td>1.265490e+09</td>\n",
       "      <td>NaN</td>\n",
       "    </tr>\n",
       "  </tbody>\n",
       "</table>\n",
       "<p>364797 rows × 7 columns</p>\n",
       "</div>"
      ],
      "text/plain": [
       "        created_utc      id  score  \\\n",
       "0        1663534517  xhrtbf      1   \n",
       "1        1663534244  xhrpbh      1   \n",
       "2        1663533992  xhrlh6      1   \n",
       "3        1663533274  xhrats      1   \n",
       "4        1663533255  xhrajv      1   \n",
       "...             ...     ...    ...   \n",
       "364792   1276360991   cease      1   \n",
       "364793   1276360127   ceang      0   \n",
       "364794   1273693329   c3963      1   \n",
       "364795   1273002455   c02w6      1   \n",
       "364796   1265475478   ayvcs      1   \n",
       "\n",
       "                                                 selftext  \\\n",
       "0       I don’t entirely want to reach out to people h...   \n",
       "1       I suffer from anxiety attacks regularly, usual...   \n",
       "2       I've been having these thoughts lately like\\n\\...   \n",
       "3       For some miraculous reason, I got a girlfriend...   \n",
       "4       I've been going through a hard time lately and...   \n",
       "...                                                   ...   \n",
       "364792                                                NaN   \n",
       "364793                                                NaN   \n",
       "364794                                                NaN   \n",
       "364795                                                NaN   \n",
       "364796                                                NaN   \n",
       "\n",
       "                                                    title       created  \\\n",
       "0                      How do I stop villainizing myself.  1.663549e+09   \n",
       "1               is this a panic attack or something else?  1.663549e+09   \n",
       "2           do you ever feel like not being alive anymore  1.663548e+09   \n",
       "3                                            Being normal  1.663548e+09   \n",
       "4               why do depressed people shave their heads  1.663548e+09   \n",
       "...                                                   ...           ...   \n",
       "364792                                    Bipolar Blogger  1.276375e+09   \n",
       "364793                               Bipolar in Real Life  1.276375e+09   \n",
       "364794  Texas Receives 'D' for Mental Health and Addic...  1.273708e+09   \n",
       "364795  Mental Health Threat: Growing Concern in Today...  1.273017e+09   \n",
       "364796       Mental Health Article and Online Researching  1.265490e+09   \n",
       "\n",
       "           link_flair_text  \n",
       "0                      NaN  \n",
       "1                      NaN  \n",
       "2                      NaN  \n",
       "3       Opinion / Thoughts  \n",
       "4                      NaN  \n",
       "...                    ...  \n",
       "364792                 NaN  \n",
       "364793                 NaN  \n",
       "364794                 NaN  \n",
       "364795                 NaN  \n",
       "364796                 NaN  \n",
       "\n",
       "[364797 rows x 7 columns]"
      ]
     },
     "execution_count": 8,
     "metadata": {},
     "output_type": "execute_result"
    }
   ],
   "source": [
    "MHsub"
   ]
  },
  {
   "cell_type": "code",
   "execution_count": 9,
   "id": "1317eae0",
   "metadata": {
    "ExecuteTime": {
     "end_time": "2022-09-21T23:36:42.337409Z",
     "start_time": "2022-09-21T23:36:42.278369Z"
    }
   },
   "outputs": [
    {
     "data": {
      "text/html": [
       "<div>\n",
       "<style scoped>\n",
       "    .dataframe tbody tr th:only-of-type {\n",
       "        vertical-align: middle;\n",
       "    }\n",
       "\n",
       "    .dataframe tbody tr th {\n",
       "        vertical-align: top;\n",
       "    }\n",
       "\n",
       "    .dataframe thead th {\n",
       "        text-align: right;\n",
       "    }\n",
       "</style>\n",
       "<table border=\"1\" class=\"dataframe\">\n",
       "  <thead>\n",
       "    <tr style=\"text-align: right;\">\n",
       "      <th></th>\n",
       "      <th>body</th>\n",
       "      <th>created_utc</th>\n",
       "      <th>id</th>\n",
       "      <th>link_id</th>\n",
       "      <th>score</th>\n",
       "      <th>created</th>\n",
       "    </tr>\n",
       "  </thead>\n",
       "  <tbody>\n",
       "    <tr>\n",
       "      <th>0</th>\n",
       "      <td>[removed]</td>\n",
       "      <td>1663536087</td>\n",
       "      <td>iozbxkr</td>\n",
       "      <td>t3_xhsag5</td>\n",
       "      <td>1</td>\n",
       "      <td>1.663550e+09</td>\n",
       "    </tr>\n",
       "    <tr>\n",
       "      <th>1</th>\n",
       "      <td>Bro it seems you may actually delusional no ju...</td>\n",
       "      <td>1663536013</td>\n",
       "      <td>iozbqlk</td>\n",
       "      <td>t3_xhsag5</td>\n",
       "      <td>1</td>\n",
       "      <td>1.663550e+09</td>\n",
       "    </tr>\n",
       "    <tr>\n",
       "      <th>2</th>\n",
       "      <td>Thank you for for sharing. A reminder: if you ...</td>\n",
       "      <td>1663535972</td>\n",
       "      <td>iozbmub</td>\n",
       "      <td>t3_xhsf3f</td>\n",
       "      <td>1</td>\n",
       "      <td>1.663550e+09</td>\n",
       "    </tr>\n",
       "    <tr>\n",
       "      <th>3</th>\n",
       "      <td>Thanks</td>\n",
       "      <td>1663535958</td>\n",
       "      <td>iozbljf</td>\n",
       "      <td>t3_xhkzmw</td>\n",
       "      <td>1</td>\n",
       "      <td>1.663550e+09</td>\n",
       "    </tr>\n",
       "    <tr>\n",
       "      <th>4</th>\n",
       "      <td>I definitely have body image issues and I’m th...</td>\n",
       "      <td>1663535919</td>\n",
       "      <td>iozbi1l</td>\n",
       "      <td>t3_xhkzmw</td>\n",
       "      <td>1</td>\n",
       "      <td>1.663550e+09</td>\n",
       "    </tr>\n",
       "    <tr>\n",
       "      <th>...</th>\n",
       "      <td>...</td>\n",
       "      <td>...</td>\n",
       "      <td>...</td>\n",
       "      <td>...</td>\n",
       "      <td>...</td>\n",
       "      <td>...</td>\n",
       "    </tr>\n",
       "    <tr>\n",
       "      <th>1360964</th>\n",
       "      <td>Hello. I'll look someone up on the tubes out h...</td>\n",
       "      <td>1323379484</td>\n",
       "      <td>c36d25d</td>\n",
       "      <td>t3_n4rfh</td>\n",
       "      <td>1</td>\n",
       "      <td>1.323394e+09</td>\n",
       "    </tr>\n",
       "    <tr>\n",
       "      <th>1360965</th>\n",
       "      <td>Hello,  I work as a case manager at Momentum f...</td>\n",
       "      <td>1323377977</td>\n",
       "      <td>c36crmd</td>\n",
       "      <td>t3_n4rfh</td>\n",
       "      <td>1</td>\n",
       "      <td>1.323392e+09</td>\n",
       "    </tr>\n",
       "    <tr>\n",
       "      <th>1360966</th>\n",
       "      <td>Hi,\\n\\nSee a doctor. A good one.\\n\\nI've suffe...</td>\n",
       "      <td>1322402458</td>\n",
       "      <td>c3340lm</td>\n",
       "      <td>t3_mdhe2</td>\n",
       "      <td>2</td>\n",
       "      <td>1.322417e+09</td>\n",
       "    </tr>\n",
       "    <tr>\n",
       "      <th>1360967</th>\n",
       "      <td>you're not alone, i feel paranoia everywhere i...</td>\n",
       "      <td>1322024593</td>\n",
       "      <td>c322sel</td>\n",
       "      <td>t3_mdhe2</td>\n",
       "      <td>2</td>\n",
       "      <td>1.322039e+09</td>\n",
       "    </tr>\n",
       "    <tr>\n",
       "      <th>1360968</th>\n",
       "      <td>Hello,\\n\\nI am a case manager at Momentum for ...</td>\n",
       "      <td>1321410497</td>\n",
       "      <td>c30499p</td>\n",
       "      <td>t3_mdhe2</td>\n",
       "      <td>2</td>\n",
       "      <td>1.321425e+09</td>\n",
       "    </tr>\n",
       "  </tbody>\n",
       "</table>\n",
       "<p>1360969 rows × 6 columns</p>\n",
       "</div>"
      ],
      "text/plain": [
       "                                                      body  created_utc  \\\n",
       "0                                                [removed]   1663536087   \n",
       "1        Bro it seems you may actually delusional no ju...   1663536013   \n",
       "2        Thank you for for sharing. A reminder: if you ...   1663535972   \n",
       "3                                                   Thanks   1663535958   \n",
       "4        I definitely have body image issues and I’m th...   1663535919   \n",
       "...                                                    ...          ...   \n",
       "1360964  Hello. I'll look someone up on the tubes out h...   1323379484   \n",
       "1360965  Hello,  I work as a case manager at Momentum f...   1323377977   \n",
       "1360966  Hi,\\n\\nSee a doctor. A good one.\\n\\nI've suffe...   1322402458   \n",
       "1360967  you're not alone, i feel paranoia everywhere i...   1322024593   \n",
       "1360968  Hello,\\n\\nI am a case manager at Momentum for ...   1321410497   \n",
       "\n",
       "              id    link_id  score       created  \n",
       "0        iozbxkr  t3_xhsag5      1  1.663550e+09  \n",
       "1        iozbqlk  t3_xhsag5      1  1.663550e+09  \n",
       "2        iozbmub  t3_xhsf3f      1  1.663550e+09  \n",
       "3        iozbljf  t3_xhkzmw      1  1.663550e+09  \n",
       "4        iozbi1l  t3_xhkzmw      1  1.663550e+09  \n",
       "...          ...        ...    ...           ...  \n",
       "1360964  c36d25d   t3_n4rfh      1  1.323394e+09  \n",
       "1360965  c36crmd   t3_n4rfh      1  1.323392e+09  \n",
       "1360966  c3340lm   t3_mdhe2      2  1.322417e+09  \n",
       "1360967  c322sel   t3_mdhe2      2  1.322039e+09  \n",
       "1360968  c30499p   t3_mdhe2      2  1.321425e+09  \n",
       "\n",
       "[1360969 rows x 6 columns]"
      ]
     },
     "execution_count": 9,
     "metadata": {},
     "output_type": "execute_result"
    }
   ],
   "source": [
    "MHcom"
   ]
  },
  {
   "cell_type": "code",
   "execution_count": 7,
   "id": "710f85d9",
   "metadata": {
    "ExecuteTime": {
     "end_time": "2022-09-21T21:58:54.410735Z",
     "start_time": "2022-09-21T21:58:54.379712Z"
    }
   },
   "outputs": [
    {
     "data": {
      "text/plain": [
       "Question                           42488\n",
       "Need Support                       35985\n",
       "Venting                            31588\n",
       "Opinion / Thoughts                 13673\n",
       "Sadness / Grief                     5798\n",
       "                                   ...  \n",
       "*Serious Post, No memes please*        1\n",
       "how are you?                           1\n",
       "Venting Question                       1\n",
       "Trauma                                 1\n",
       "[Venting/Support]                      1\n",
       "Name: link_flair_text, Length: 2021, dtype: int64"
      ]
     },
     "execution_count": 7,
     "metadata": {},
     "output_type": "execute_result"
    }
   ],
   "source": [
    "MHsub.link_flair_text.value_counts()"
   ]
  },
  {
   "cell_type": "code",
   "execution_count": 5,
   "id": "8dc97723",
   "metadata": {
    "ExecuteTime": {
     "end_time": "2022-09-21T21:58:17.218060Z",
     "start_time": "2022-09-21T21:58:17.163022Z"
    }
   },
   "outputs": [
    {
     "name": "stdout",
     "output_type": "stream",
     "text": [
      "<class 'pandas.core.frame.DataFrame'>\n",
      "RangeIndex: 50493 entries, 0 to 50492\n",
      "Data columns (total 7 columns):\n",
      " #   Column           Non-Null Count  Dtype  \n",
      "---  ------           --------------  -----  \n",
      " 0   created_utc      50493 non-null  int64  \n",
      " 1   id               50493 non-null  object \n",
      " 2   link_flair_text  28390 non-null  object \n",
      " 3   score            50493 non-null  int64  \n",
      " 4   selftext         41977 non-null  object \n",
      " 5   title            50493 non-null  object \n",
      " 6   created          50493 non-null  float64\n",
      "dtypes: float64(1), int64(2), object(4)\n",
      "memory usage: 2.7+ MB\n"
     ]
    }
   ],
   "source": [
    "MIsub.info()"
   ]
  },
  {
   "cell_type": "code",
   "execution_count": 10,
   "id": "36369ae4",
   "metadata": {
    "ExecuteTime": {
     "end_time": "2022-09-18T23:16:30.469630Z",
     "start_time": "2022-09-18T23:16:30.459631Z"
    }
   },
   "outputs": [],
   "source": [
    "#Get rid of emojis, get rid of removed comments"
   ]
  }
 ],
 "metadata": {
  "kernelspec": {
   "display_name": "Python 3 (ipykernel)",
   "language": "python",
   "name": "python3"
  },
  "language_info": {
   "codemirror_mode": {
    "name": "ipython",
    "version": 3
   },
   "file_extension": ".py",
   "mimetype": "text/x-python",
   "name": "python",
   "nbconvert_exporter": "python",
   "pygments_lexer": "ipython3",
   "version": "3.9.12"
  }
 },
 "nbformat": 4,
 "nbformat_minor": 5
}
