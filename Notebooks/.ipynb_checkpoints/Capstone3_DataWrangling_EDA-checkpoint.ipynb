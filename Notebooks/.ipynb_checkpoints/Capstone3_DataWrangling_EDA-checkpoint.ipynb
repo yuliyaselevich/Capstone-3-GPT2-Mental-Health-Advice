{
 "cells": [
  {
   "cell_type": "code",
   "execution_count": 1,
   "id": "0d576d86",
   "metadata": {
    "ExecuteTime": {
     "end_time": "2022-10-23T21:39:23.050761Z",
     "start_time": "2022-10-23T21:39:18.267178Z"
    }
   },
   "outputs": [
    {
     "name": "stderr",
     "output_type": "stream",
     "text": [
      "C:\\Users\\Julia\\anaconda3\\lib\\site-packages\\past\\builtins\\misc.py:45: DeprecationWarning: the imp module is deprecated in favour of importlib; see the module's documentation for alternative uses\n",
      "  from imp import reload\n"
     ]
    }
   ],
   "source": [
    "#Essentials\n",
    "import pandas as pd\n",
    "import numpy as np\n",
    "import matplotlib.pyplot as plt\n",
    "import seaborn as sns\n",
    "import csv \n",
    "import datetime as dt\n",
    "\n",
    "#For scraping Reddit\n",
    "import praw\n",
    "from psaw import PushshiftAPI\n",
    "\n",
    "#For EDA\n",
    "import re\n",
    "from wordcloud import WordCloud, STOPWORDS\n",
    "from sklearn.feature_extraction.text import TfidfVectorizer, CountVectorizer\n",
    "from sklearn.neighbors import KNeighborsClassifier \n",
    "from sklearn.cluster import KMeans\n",
    "import sklearn.cluster\n",
    "import sklearn.decomposition\n",
    "import matplotlib.colors\n",
    "from textblob import TextBlob\n",
    "from gensim.models import Word2Vec\n",
    "import nltk\n",
    "import nltk.corpus\n",
    "from nltk.corpus import nps_chat, wordnet\n",
    "from nltk import pos_tag\n",
    "from nltk.stem.wordnet import WordNetLemmatizer \n",
    "from nltk.tokenize import word_tokenize\n",
    "from nltk.corpus import stopwords\n",
    "from nltk import NaiveBayesClassifier\n",
    "from nltk import TweetTokenizer\n",
    "import textstat\n",
    "import gensim.corpora as corpora\n",
    "from pprint import pprint\n",
    "import gensim\n",
    "from gensim.utils import simple_preprocess\n",
    "import pyLDAvis.gensim_models\n",
    "import pickle \n",
    "import pyLDAvis\n",
    "import os\n",
    "import emot\n",
    "import demoji\n",
    "import contractions\n",
    "from spellchecker import SpellChecker"
   ]
  },
  {
   "cell_type": "code",
   "execution_count": 31,
   "id": "94149f35",
   "metadata": {
    "ExecuteTime": {
     "end_time": "2022-10-19T18:28:40.106483Z",
     "start_time": "2022-10-19T18:28:38.903597Z"
    }
   },
   "outputs": [
    {
     "name": "stderr",
     "output_type": "stream",
     "text": [
      "[nltk_data] Downloading package punkt to\n",
      "[nltk_data]     C:\\Users\\Julia\\AppData\\Roaming\\nltk_data...\n",
      "[nltk_data]   Package punkt is already up-to-date!\n",
      "[nltk_data] Downloading package nps_chat to\n",
      "[nltk_data]     C:\\Users\\Julia\\AppData\\Roaming\\nltk_data...\n",
      "[nltk_data]   Package nps_chat is already up-to-date!\n",
      "[nltk_data] Downloading package stopwords to\n",
      "[nltk_data]     C:\\Users\\Julia\\AppData\\Roaming\\nltk_data...\n",
      "[nltk_data]   Package stopwords is already up-to-date!\n",
      "[nltk_data] Downloading package averaged_perceptron_tagger to\n",
      "[nltk_data]     C:\\Users\\Julia\\AppData\\Roaming\\nltk_data...\n",
      "[nltk_data]   Package averaged_perceptron_tagger is already up-to-\n",
      "[nltk_data]       date!\n",
      "[nltk_data] Downloading package wordnet to\n",
      "[nltk_data]     C:\\Users\\Julia\\AppData\\Roaming\\nltk_data...\n",
      "[nltk_data]   Package wordnet is already up-to-date!\n",
      "[nltk_data] Downloading package omw-1.4 to\n",
      "[nltk_data]     C:\\Users\\Julia\\AppData\\Roaming\\nltk_data...\n"
     ]
    },
    {
     "data": {
      "text/plain": [
       "True"
      ]
     },
     "execution_count": 31,
     "metadata": {},
     "output_type": "execute_result"
    }
   ],
   "source": [
    "nltk.download('punkt')\n",
    "nltk.download('nps_chat')\n",
    "nltk.download('stopwords')\n",
    "nltk.download('averaged_perceptron_tagger')\n",
    "nltk.download('wordnet')\n",
    "nltk.download('omw-1.4')"
   ]
  },
  {
   "cell_type": "markdown",
   "id": "3ab47326",
   "metadata": {},
   "source": [
    "# Mental Heatlh"
   ]
  },
  {
   "cell_type": "code",
   "execution_count": 2,
   "id": "b8743a3f",
   "metadata": {
    "ExecuteTime": {
     "end_time": "2022-09-18T21:22:53.185730Z",
     "start_time": "2022-09-18T20:58:04.726804Z"
    }
   },
   "outputs": [
    {
     "name": "stderr",
     "output_type": "stream",
     "text": [
      "C:\\Users\\Julia\\anaconda3\\lib\\site-packages\\psaw\\PushshiftAPI.py:252: UserWarning: Not all PushShift shards are active. Query results may be incomplete\n",
      "  warnings.warn(shards_down_message)\n",
      "C:\\Users\\Julia\\anaconda3\\lib\\site-packages\\psaw\\PushshiftAPI.py:192: UserWarning: Got non 200 code 429\n",
      "  warnings.warn(\"Got non 200 code %s\" % response.status_code)\n",
      "C:\\Users\\Julia\\anaconda3\\lib\\site-packages\\psaw\\PushshiftAPI.py:180: UserWarning: Unable to connect to pushshift.io. Retrying after backoff.\n",
      "  warnings.warn(\"Unable to connect to pushshift.io. Retrying after backoff.\")\n"
     ]
    }
   ],
   "source": [
    "#Thanks to dmarx for the clear code on pulling from PSAW! PSAW docs are surprisingly unclear.\n",
    "#https://github.com/dmarx/psaw\n",
    "api = PushshiftAPI()\n",
    "\n",
    "#Start date we're beginning to pull posts from\n",
    "start_epoch=int(dt.datetime(2010, 1, 1).timestamp())\n",
    "\n",
    "\n",
    "#Pulling submissions from mentalhealth (both the title and body of a post)\n",
    "\n",
    "gen_subMH = list(api.search_submissions(after=start_epoch,\n",
    "                            subreddit='mentalhealth',\n",
    "                            filter=['title', 'id','score','link_flair_text','selftext'],\n",
    "                            limit=1000000))\n",
    "\n",
    "\n",
    "#Converting to dataframe\n",
    "MHsub = pd.DataFrame([thing.d_ for thing in gen_subMH])\n"
   ]
  },
  {
   "cell_type": "code",
   "execution_count": 3,
   "id": "165cca7a",
   "metadata": {
    "ExecuteTime": {
     "end_time": "2022-09-18T21:23:10.418189Z",
     "start_time": "2022-09-18T21:22:53.194738Z"
    }
   },
   "outputs": [],
   "source": [
    "MHsub.to_csv('../Data/MHsub.csv',index=False)"
   ]
  },
  {
   "cell_type": "code",
   "execution_count": 4,
   "id": "785a786b",
   "metadata": {
    "ExecuteTime": {
     "end_time": "2022-09-18T22:57:14.543957Z",
     "start_time": "2022-09-18T21:23:10.427171Z"
    },
    "scrolled": true
   },
   "outputs": [
    {
     "name": "stderr",
     "output_type": "stream",
     "text": [
      "C:\\Users\\Julia\\anaconda3\\lib\\site-packages\\psaw\\PushshiftAPI.py:252: UserWarning: Not all PushShift shards are active. Query results may be incomplete\n",
      "  warnings.warn(shards_down_message)\n",
      "C:\\Users\\Julia\\anaconda3\\lib\\site-packages\\psaw\\PushshiftAPI.py:192: UserWarning: Got non 200 code 429\n",
      "  warnings.warn(\"Got non 200 code %s\" % response.status_code)\n",
      "C:\\Users\\Julia\\anaconda3\\lib\\site-packages\\psaw\\PushshiftAPI.py:180: UserWarning: Unable to connect to pushshift.io. Retrying after backoff.\n",
      "  warnings.warn(\"Unable to connect to pushshift.io. Retrying after backoff.\")\n"
     ]
    }
   ],
   "source": [
    "#Pulling comments from mental health\n",
    "\n",
    "gen_comMH = api.search_comments(after=start_epoch, \n",
    "                            subreddit='mentalhealth',\n",
    "                            filter=['body', 'link_id', 'id', 'score','submission'],\n",
    "                            #link_id = new_idsMH,\n",
    "                            limit=35000000)\n",
    "\n",
    "MHcom = pd.DataFrame([thing.d_ for thing in gen_comMH])"
   ]
  },
  {
   "cell_type": "code",
   "execution_count": 5,
   "id": "5fe48b92",
   "metadata": {
    "ExecuteTime": {
     "end_time": "2022-09-18T22:57:38.572099Z",
     "start_time": "2022-09-18T22:57:14.631323Z"
    }
   },
   "outputs": [],
   "source": [
    "MHcom.to_csv('../Data/MHcom.csv',index=False)"
   ]
  },
  {
   "cell_type": "markdown",
   "id": "f1fc2750",
   "metadata": {},
   "source": [
    "# Mental Illness subreddit"
   ]
  },
  {
   "cell_type": "code",
   "execution_count": 6,
   "id": "a1e7409c",
   "metadata": {
    "ExecuteTime": {
     "end_time": "2022-09-18T23:03:13.668402Z",
     "start_time": "2022-09-18T22:57:38.577089Z"
    }
   },
   "outputs": [
    {
     "name": "stderr",
     "output_type": "stream",
     "text": [
      "C:\\Users\\Julia\\anaconda3\\lib\\site-packages\\psaw\\PushshiftAPI.py:252: UserWarning: Not all PushShift shards are active. Query results may be incomplete\n",
      "  warnings.warn(shards_down_message)\n",
      "C:\\Users\\Julia\\anaconda3\\lib\\site-packages\\psaw\\PushshiftAPI.py:192: UserWarning: Got non 200 code 429\n",
      "  warnings.warn(\"Got non 200 code %s\" % response.status_code)\n",
      "C:\\Users\\Julia\\anaconda3\\lib\\site-packages\\psaw\\PushshiftAPI.py:180: UserWarning: Unable to connect to pushshift.io. Retrying after backoff.\n",
      "  warnings.warn(\"Unable to connect to pushshift.io. Retrying after backoff.\")\n"
     ]
    }
   ],
   "source": [
    "gen_subMI = list(api.search_submissions(after=start_epoch,\n",
    "                            subreddit='mentalillness',\n",
    "                            filter=['title', 'id','score','link_flair_text','selftext'],\n",
    "                            limit=1000000))\n",
    "\n",
    "\n",
    "#Converting to dataframe\n",
    "MIsub = pd.DataFrame([thing.d_ for thing in gen_subMI])"
   ]
  },
  {
   "cell_type": "code",
   "execution_count": 7,
   "id": "1b273d75",
   "metadata": {
    "ExecuteTime": {
     "end_time": "2022-09-18T23:03:15.239888Z",
     "start_time": "2022-09-18T23:03:13.681411Z"
    }
   },
   "outputs": [],
   "source": [
    "MIsub.to_csv('../Data/MIsub.csv',index=False)"
   ]
  },
  {
   "cell_type": "code",
   "execution_count": 8,
   "id": "987ecd65",
   "metadata": {
    "ExecuteTime": {
     "end_time": "2022-09-18T23:16:27.896527Z",
     "start_time": "2022-09-18T23:03:15.242882Z"
    }
   },
   "outputs": [
    {
     "name": "stderr",
     "output_type": "stream",
     "text": [
      "C:\\Users\\Julia\\anaconda3\\lib\\site-packages\\psaw\\PushshiftAPI.py:252: UserWarning: Not all PushShift shards are active. Query results may be incomplete\n",
      "  warnings.warn(shards_down_message)\n",
      "C:\\Users\\Julia\\anaconda3\\lib\\site-packages\\psaw\\PushshiftAPI.py:192: UserWarning: Got non 200 code 429\n",
      "  warnings.warn(\"Got non 200 code %s\" % response.status_code)\n",
      "C:\\Users\\Julia\\anaconda3\\lib\\site-packages\\psaw\\PushshiftAPI.py:180: UserWarning: Unable to connect to pushshift.io. Retrying after backoff.\n",
      "  warnings.warn(\"Unable to connect to pushshift.io. Retrying after backoff.\")\n"
     ]
    }
   ],
   "source": [
    "gen_comMI = api.search_comments(after=start_epoch, \n",
    "                            subreddit='mentalillness',\n",
    "                            filter=['body', 'link_id', 'id', 'score','submission'],\n",
    "                            #link_id = new_MIids,\n",
    "                            limit=35000000)\n",
    "\n",
    "MIcom = pd.DataFrame([thing.d_ for thing in gen_comMI])"
   ]
  },
  {
   "cell_type": "code",
   "execution_count": 9,
   "id": "db0e0541",
   "metadata": {
    "ExecuteTime": {
     "end_time": "2022-09-18T23:16:30.448626Z",
     "start_time": "2022-09-18T23:16:27.951685Z"
    },
    "scrolled": true
   },
   "outputs": [],
   "source": [
    "MIcom.to_csv('../Data/MIcom.csv',index=False)"
   ]
  },
  {
   "cell_type": "markdown",
   "id": "e1351904",
   "metadata": {},
   "source": [
    "# Loading the data"
   ]
  },
  {
   "cell_type": "code",
   "execution_count": 223,
   "id": "7ede4b08",
   "metadata": {
    "ExecuteTime": {
     "end_time": "2022-10-06T19:14:27.244385Z",
     "start_time": "2022-10-06T19:13:35.723167Z"
    }
   },
   "outputs": [],
   "source": [
    "MHsub = pd.read_csv('../Data/MHsub.csv')\n",
    "MHcom = pd.read_csv('../Data/MHcom.csv')\n",
    "MIsub = pd.read_csv('../Data/MIsub.csv')\n",
    "MIcom = pd.read_csv('../Data/MIcom.csv')"
   ]
  },
  {
   "cell_type": "markdown",
   "id": "af54e452",
   "metadata": {},
   "source": [
    "# Cleaning the data"
   ]
  },
  {
   "cell_type": "markdown",
   "id": "72f1d64b",
   "metadata": {},
   "source": [
    "# We can merge submissions from mentalhealth and mentalillness subreddits"
   ]
  },
  {
   "cell_type": "code",
   "execution_count": 224,
   "id": "9b646a04",
   "metadata": {
    "ExecuteTime": {
     "end_time": "2022-10-06T19:14:42.384770Z",
     "start_time": "2022-10-06T19:14:41.901180Z"
    }
   },
   "outputs": [],
   "source": [
    "all_sub = pd.concat([MHsub,MIsub])\n",
    "all_sub.reset_index(inplace=True,drop=True)"
   ]
  },
  {
   "cell_type": "code",
   "execution_count": 225,
   "id": "a34df9d5",
   "metadata": {
    "ExecuteTime": {
     "end_time": "2022-10-06T19:14:44.849553Z",
     "start_time": "2022-10-06T19:14:44.675424Z"
    }
   },
   "outputs": [
    {
     "data": {
      "text/html": [
       "<div>\n",
       "<style scoped>\n",
       "    .dataframe tbody tr th:only-of-type {\n",
       "        vertical-align: middle;\n",
       "    }\n",
       "\n",
       "    .dataframe tbody tr th {\n",
       "        vertical-align: top;\n",
       "    }\n",
       "\n",
       "    .dataframe thead th {\n",
       "        text-align: right;\n",
       "    }\n",
       "</style>\n",
       "<table border=\"1\" class=\"dataframe\">\n",
       "  <thead>\n",
       "    <tr style=\"text-align: right;\">\n",
       "      <th></th>\n",
       "      <th>created_utc</th>\n",
       "      <th>id</th>\n",
       "      <th>score</th>\n",
       "      <th>selftext</th>\n",
       "      <th>title</th>\n",
       "      <th>created</th>\n",
       "      <th>link_flair_text</th>\n",
       "    </tr>\n",
       "  </thead>\n",
       "  <tbody>\n",
       "    <tr>\n",
       "      <th>0</th>\n",
       "      <td>1663534517</td>\n",
       "      <td>xhrtbf</td>\n",
       "      <td>1</td>\n",
       "      <td>I don’t entirely want to reach out to people h...</td>\n",
       "      <td>How do I stop villainizing myself.</td>\n",
       "      <td>1.663549e+09</td>\n",
       "      <td>NaN</td>\n",
       "    </tr>\n",
       "    <tr>\n",
       "      <th>1</th>\n",
       "      <td>1663534244</td>\n",
       "      <td>xhrpbh</td>\n",
       "      <td>1</td>\n",
       "      <td>I suffer from anxiety attacks regularly, usual...</td>\n",
       "      <td>is this a panic attack or something else?</td>\n",
       "      <td>1.663549e+09</td>\n",
       "      <td>NaN</td>\n",
       "    </tr>\n",
       "    <tr>\n",
       "      <th>2</th>\n",
       "      <td>1663533992</td>\n",
       "      <td>xhrlh6</td>\n",
       "      <td>1</td>\n",
       "      <td>I've been having these thoughts lately like\\n\\...</td>\n",
       "      <td>do you ever feel like not being alive anymore</td>\n",
       "      <td>1.663548e+09</td>\n",
       "      <td>NaN</td>\n",
       "    </tr>\n",
       "    <tr>\n",
       "      <th>3</th>\n",
       "      <td>1663533274</td>\n",
       "      <td>xhrats</td>\n",
       "      <td>1</td>\n",
       "      <td>For some miraculous reason, I got a girlfriend...</td>\n",
       "      <td>Being normal</td>\n",
       "      <td>1.663548e+09</td>\n",
       "      <td>Opinion / Thoughts</td>\n",
       "    </tr>\n",
       "    <tr>\n",
       "      <th>4</th>\n",
       "      <td>1663533255</td>\n",
       "      <td>xhrajv</td>\n",
       "      <td>1</td>\n",
       "      <td>I've been going through a hard time lately and...</td>\n",
       "      <td>why do depressed people shave their heads</td>\n",
       "      <td>1.663548e+09</td>\n",
       "      <td>NaN</td>\n",
       "    </tr>\n",
       "    <tr>\n",
       "      <th>...</th>\n",
       "      <td>...</td>\n",
       "      <td>...</td>\n",
       "      <td>...</td>\n",
       "      <td>...</td>\n",
       "      <td>...</td>\n",
       "      <td>...</td>\n",
       "      <td>...</td>\n",
       "    </tr>\n",
       "    <tr>\n",
       "      <th>415285</th>\n",
       "      <td>1353891546</td>\n",
       "      <td>13sbe9</td>\n",
       "      <td>1</td>\n",
       "      <td>NaN</td>\n",
       "      <td>I look again to make sure so one is near me an...</td>\n",
       "      <td>1.353906e+09</td>\n",
       "      <td>NaN</td>\n",
       "    </tr>\n",
       "    <tr>\n",
       "      <th>415286</th>\n",
       "      <td>1348724331</td>\n",
       "      <td>10juc6</td>\n",
       "      <td>1</td>\n",
       "      <td>NaN</td>\n",
       "      <td>NAMI | Peer-to-Peer is a unique, experiential ...</td>\n",
       "      <td>1.348739e+09</td>\n",
       "      <td>NaN</td>\n",
       "    </tr>\n",
       "    <tr>\n",
       "      <th>415287</th>\n",
       "      <td>1344639905</td>\n",
       "      <td>y0sqy</td>\n",
       "      <td>0</td>\n",
       "      <td>AMA</td>\n",
       "      <td>I am rooster illusion</td>\n",
       "      <td>1.344654e+09</td>\n",
       "      <td>NaN</td>\n",
       "    </tr>\n",
       "    <tr>\n",
       "      <th>415288</th>\n",
       "      <td>1321506737</td>\n",
       "      <td>mfckr</td>\n",
       "      <td>1</td>\n",
       "      <td>so i have a lot of random impluses. crazy shit...</td>\n",
       "      <td>crazy motherfucker</td>\n",
       "      <td>1.321521e+09</td>\n",
       "      <td>NaN</td>\n",
       "    </tr>\n",
       "    <tr>\n",
       "      <th>415289</th>\n",
       "      <td>1319162763</td>\n",
       "      <td>ljftm</td>\n",
       "      <td>1</td>\n",
       "      <td>NaN</td>\n",
       "      <td>Do you love someone who has a mental illness?</td>\n",
       "      <td>1.319177e+09</td>\n",
       "      <td>NaN</td>\n",
       "    </tr>\n",
       "  </tbody>\n",
       "</table>\n",
       "<p>415290 rows × 7 columns</p>\n",
       "</div>"
      ],
      "text/plain": [
       "        created_utc      id  score  \\\n",
       "0        1663534517  xhrtbf      1   \n",
       "1        1663534244  xhrpbh      1   \n",
       "2        1663533992  xhrlh6      1   \n",
       "3        1663533274  xhrats      1   \n",
       "4        1663533255  xhrajv      1   \n",
       "...             ...     ...    ...   \n",
       "415285   1353891546  13sbe9      1   \n",
       "415286   1348724331  10juc6      1   \n",
       "415287   1344639905   y0sqy      0   \n",
       "415288   1321506737   mfckr      1   \n",
       "415289   1319162763   ljftm      1   \n",
       "\n",
       "                                                 selftext  \\\n",
       "0       I don’t entirely want to reach out to people h...   \n",
       "1       I suffer from anxiety attacks regularly, usual...   \n",
       "2       I've been having these thoughts lately like\\n\\...   \n",
       "3       For some miraculous reason, I got a girlfriend...   \n",
       "4       I've been going through a hard time lately and...   \n",
       "...                                                   ...   \n",
       "415285                                                NaN   \n",
       "415286                                                NaN   \n",
       "415287                                                AMA   \n",
       "415288  so i have a lot of random impluses. crazy shit...   \n",
       "415289                                                NaN   \n",
       "\n",
       "                                                    title       created  \\\n",
       "0                      How do I stop villainizing myself.  1.663549e+09   \n",
       "1               is this a panic attack or something else?  1.663549e+09   \n",
       "2           do you ever feel like not being alive anymore  1.663548e+09   \n",
       "3                                            Being normal  1.663548e+09   \n",
       "4               why do depressed people shave their heads  1.663548e+09   \n",
       "...                                                   ...           ...   \n",
       "415285  I look again to make sure so one is near me an...  1.353906e+09   \n",
       "415286  NAMI | Peer-to-Peer is a unique, experiential ...  1.348739e+09   \n",
       "415287                              I am rooster illusion  1.344654e+09   \n",
       "415288                                 crazy motherfucker  1.321521e+09   \n",
       "415289      Do you love someone who has a mental illness?  1.319177e+09   \n",
       "\n",
       "           link_flair_text  \n",
       "0                      NaN  \n",
       "1                      NaN  \n",
       "2                      NaN  \n",
       "3       Opinion / Thoughts  \n",
       "4                      NaN  \n",
       "...                    ...  \n",
       "415285                 NaN  \n",
       "415286                 NaN  \n",
       "415287                 NaN  \n",
       "415288                 NaN  \n",
       "415289                 NaN  \n",
       "\n",
       "[415290 rows x 7 columns]"
      ]
     },
     "execution_count": 225,
     "metadata": {},
     "output_type": "execute_result"
    }
   ],
   "source": [
    "all_sub"
   ]
  },
  {
   "cell_type": "code",
   "execution_count": 226,
   "id": "d5c7a981",
   "metadata": {
    "ExecuteTime": {
     "end_time": "2022-10-06T19:14:52.179647Z",
     "start_time": "2022-10-06T19:14:52.103607Z"
    }
   },
   "outputs": [],
   "source": [
    "all_sub['created'] = pd.to_datetime(all_sub['created'], unit='s')"
   ]
  },
  {
   "cell_type": "code",
   "execution_count": 227,
   "id": "56fe5f94",
   "metadata": {
    "ExecuteTime": {
     "end_time": "2022-10-06T19:15:12.029307Z",
     "start_time": "2022-10-06T19:15:11.911220Z"
    }
   },
   "outputs": [],
   "source": [
    "all_sub = all_sub.drop(columns=['created_utc','score','link_flair_text'])"
   ]
  },
  {
   "cell_type": "code",
   "execution_count": 228,
   "id": "768aa24b",
   "metadata": {
    "ExecuteTime": {
     "end_time": "2022-10-06T19:15:14.715204Z",
     "start_time": "2022-10-06T19:15:14.550088Z"
    }
   },
   "outputs": [],
   "source": [
    "all_sub = all_sub.rename(columns={'selftext': 'post_body'})"
   ]
  },
  {
   "cell_type": "code",
   "execution_count": 234,
   "id": "89a5aabd",
   "metadata": {
    "ExecuteTime": {
     "end_time": "2022-10-06T19:17:33.859231Z",
     "start_time": "2022-10-06T19:17:30.144931Z"
    }
   },
   "outputs": [],
   "source": [
    "#making the title & post_body lowercase for future processing.\n",
    "all_sub['post_body'] = all_sub['post_body'].astype(str)\n",
    "all_sub['title'] = all_sub['title'].astype(str)\n",
    "all_sub['title'] = all_sub['title'].apply(lambda x: x.lower())\n",
    "all_sub['post_body'] = all_sub['post_body'].apply(lambda x: x.lower())"
   ]
  },
  {
   "cell_type": "markdown",
   "id": "a9cb5a0f",
   "metadata": {
    "ExecuteTime": {
     "end_time": "2022-10-06T19:17:39.840703Z",
     "start_time": "2022-10-06T19:17:39.824705Z"
    }
   },
   "source": [
    "# Merging two dataframes with comments"
   ]
  },
  {
   "cell_type": "code",
   "execution_count": 236,
   "id": "06ad8704",
   "metadata": {
    "ExecuteTime": {
     "end_time": "2022-10-06T19:18:52.664959Z",
     "start_time": "2022-10-06T19:18:52.202318Z"
    }
   },
   "outputs": [],
   "source": [
    "all_com = pd.concat([MHcom,MIcom])"
   ]
  },
  {
   "cell_type": "code",
   "execution_count": 237,
   "id": "5eeecdbd",
   "metadata": {
    "ExecuteTime": {
     "end_time": "2022-10-06T19:19:27.620576Z",
     "start_time": "2022-10-06T19:19:27.593414Z"
    }
   },
   "outputs": [
    {
     "data": {
      "text/html": [
       "<div>\n",
       "<style scoped>\n",
       "    .dataframe tbody tr th:only-of-type {\n",
       "        vertical-align: middle;\n",
       "    }\n",
       "\n",
       "    .dataframe tbody tr th {\n",
       "        vertical-align: top;\n",
       "    }\n",
       "\n",
       "    .dataframe thead th {\n",
       "        text-align: right;\n",
       "    }\n",
       "</style>\n",
       "<table border=\"1\" class=\"dataframe\">\n",
       "  <thead>\n",
       "    <tr style=\"text-align: right;\">\n",
       "      <th></th>\n",
       "      <th>body</th>\n",
       "      <th>created_utc</th>\n",
       "      <th>id</th>\n",
       "      <th>link_id</th>\n",
       "      <th>score</th>\n",
       "      <th>created</th>\n",
       "    </tr>\n",
       "  </thead>\n",
       "  <tbody>\n",
       "    <tr>\n",
       "      <th>0</th>\n",
       "      <td>[removed]</td>\n",
       "      <td>1663536087</td>\n",
       "      <td>iozbxkr</td>\n",
       "      <td>t3_xhsag5</td>\n",
       "      <td>1</td>\n",
       "      <td>1.663550e+09</td>\n",
       "    </tr>\n",
       "    <tr>\n",
       "      <th>1</th>\n",
       "      <td>Bro it seems you may actually delusional no ju...</td>\n",
       "      <td>1663536013</td>\n",
       "      <td>iozbqlk</td>\n",
       "      <td>t3_xhsag5</td>\n",
       "      <td>1</td>\n",
       "      <td>1.663550e+09</td>\n",
       "    </tr>\n",
       "    <tr>\n",
       "      <th>2</th>\n",
       "      <td>Thank you for for sharing. A reminder: if you ...</td>\n",
       "      <td>1663535972</td>\n",
       "      <td>iozbmub</td>\n",
       "      <td>t3_xhsf3f</td>\n",
       "      <td>1</td>\n",
       "      <td>1.663550e+09</td>\n",
       "    </tr>\n",
       "    <tr>\n",
       "      <th>3</th>\n",
       "      <td>Thanks</td>\n",
       "      <td>1663535958</td>\n",
       "      <td>iozbljf</td>\n",
       "      <td>t3_xhkzmw</td>\n",
       "      <td>1</td>\n",
       "      <td>1.663550e+09</td>\n",
       "    </tr>\n",
       "    <tr>\n",
       "      <th>4</th>\n",
       "      <td>I definitely have body image issues and I’m th...</td>\n",
       "      <td>1663535919</td>\n",
       "      <td>iozbi1l</td>\n",
       "      <td>t3_xhkzmw</td>\n",
       "      <td>1</td>\n",
       "      <td>1.663550e+09</td>\n",
       "    </tr>\n",
       "    <tr>\n",
       "      <th>...</th>\n",
       "      <td>...</td>\n",
       "      <td>...</td>\n",
       "      <td>...</td>\n",
       "      <td>...</td>\n",
       "      <td>...</td>\n",
       "      <td>...</td>\n",
       "    </tr>\n",
       "    <tr>\n",
       "      <th>195872</th>\n",
       "      <td>This further stigmatizes mental illness. It do...</td>\n",
       "      <td>1388387508</td>\n",
       "      <td>ced74e0</td>\n",
       "      <td>t3_1r79dm</td>\n",
       "      <td>3</td>\n",
       "      <td>1.388402e+09</td>\n",
       "    </tr>\n",
       "    <tr>\n",
       "      <th>195873</th>\n",
       "      <td>I hear ya. Sister suffers from bi-polar and mi...</td>\n",
       "      <td>1388367327</td>\n",
       "      <td>cecz8pw</td>\n",
       "      <td>t3_1qbx9v</td>\n",
       "      <td>2</td>\n",
       "      <td>1.388382e+09</td>\n",
       "    </tr>\n",
       "    <tr>\n",
       "      <th>195874</th>\n",
       "      <td>If i have to read another overwrought analogy ...</td>\n",
       "      <td>1387557036</td>\n",
       "      <td>ce6e980</td>\n",
       "      <td>t3_1r79dm</td>\n",
       "      <td>2</td>\n",
       "      <td>1.387571e+09</td>\n",
       "    </tr>\n",
       "    <tr>\n",
       "      <th>195875</th>\n",
       "      <td>Ugh, that's atrocious.  Just because I can't w...</td>\n",
       "      <td>1385376904</td>\n",
       "      <td>cdmivce</td>\n",
       "      <td>t3_1r79dm</td>\n",
       "      <td>7</td>\n",
       "      <td>1.385391e+09</td>\n",
       "    </tr>\n",
       "    <tr>\n",
       "      <th>195876</th>\n",
       "      <td>Best quote from the interview: Are you telling...</td>\n",
       "      <td>1370800725</td>\n",
       "      <td>cafcjn9</td>\n",
       "      <td>t3_1fzphf</td>\n",
       "      <td>1</td>\n",
       "      <td>1.370815e+09</td>\n",
       "    </tr>\n",
       "  </tbody>\n",
       "</table>\n",
       "<p>1556846 rows × 6 columns</p>\n",
       "</div>"
      ],
      "text/plain": [
       "                                                     body  created_utc  \\\n",
       "0                                               [removed]   1663536087   \n",
       "1       Bro it seems you may actually delusional no ju...   1663536013   \n",
       "2       Thank you for for sharing. A reminder: if you ...   1663535972   \n",
       "3                                                  Thanks   1663535958   \n",
       "4       I definitely have body image issues and I’m th...   1663535919   \n",
       "...                                                   ...          ...   \n",
       "195872  This further stigmatizes mental illness. It do...   1388387508   \n",
       "195873  I hear ya. Sister suffers from bi-polar and mi...   1388367327   \n",
       "195874  If i have to read another overwrought analogy ...   1387557036   \n",
       "195875  Ugh, that's atrocious.  Just because I can't w...   1385376904   \n",
       "195876  Best quote from the interview: Are you telling...   1370800725   \n",
       "\n",
       "             id    link_id  score       created  \n",
       "0       iozbxkr  t3_xhsag5      1  1.663550e+09  \n",
       "1       iozbqlk  t3_xhsag5      1  1.663550e+09  \n",
       "2       iozbmub  t3_xhsf3f      1  1.663550e+09  \n",
       "3       iozbljf  t3_xhkzmw      1  1.663550e+09  \n",
       "4       iozbi1l  t3_xhkzmw      1  1.663550e+09  \n",
       "...         ...        ...    ...           ...  \n",
       "195872  ced74e0  t3_1r79dm      3  1.388402e+09  \n",
       "195873  cecz8pw  t3_1qbx9v      2  1.388382e+09  \n",
       "195874  ce6e980  t3_1r79dm      2  1.387571e+09  \n",
       "195875  cdmivce  t3_1r79dm      7  1.385391e+09  \n",
       "195876  cafcjn9  t3_1fzphf      1  1.370815e+09  \n",
       "\n",
       "[1556846 rows x 6 columns]"
      ]
     },
     "execution_count": 237,
     "metadata": {},
     "output_type": "execute_result"
    }
   ],
   "source": [
    "all_com"
   ]
  },
  {
   "cell_type": "code",
   "execution_count": 238,
   "id": "f4d2c133",
   "metadata": {
    "ExecuteTime": {
     "end_time": "2022-10-06T19:19:59.617923Z",
     "start_time": "2022-10-06T19:19:59.245713Z"
    }
   },
   "outputs": [],
   "source": [
    "all_com['body'] = all_com['body'].astype('string')"
   ]
  },
  {
   "cell_type": "code",
   "execution_count": 239,
   "id": "fb0a8f52",
   "metadata": {
    "ExecuteTime": {
     "end_time": "2022-10-06T19:21:21.877262Z",
     "start_time": "2022-10-06T19:21:18.719402Z"
    }
   },
   "outputs": [],
   "source": [
    "# removing all duplicate comments which mostly include automatic replies from bots or [removed] and [deleted] comments\n",
    "all_com = all_com[~all_com.body.duplicated(keep=False)].reset_index(drop=True)"
   ]
  },
  {
   "cell_type": "code",
   "execution_count": 241,
   "id": "5dd9027d",
   "metadata": {
    "ExecuteTime": {
     "end_time": "2022-10-06T19:22:36.240552Z",
     "start_time": "2022-10-06T19:22:29.533763Z"
    }
   },
   "outputs": [],
   "source": [
    "# list of indexes of all comments that have only one word.\n",
    "one_word = list(all_com[[len(i.split())==1 for i in all_com['body'].values]].index)\n",
    "# dropping all the comments that have one word only\n",
    "all_com = all_com.drop(index=one_word).reset_index(drop=True)"
   ]
  },
  {
   "cell_type": "code",
   "execution_count": 243,
   "id": "84e61b57",
   "metadata": {
    "ExecuteTime": {
     "end_time": "2022-10-06T19:23:12.453162Z",
     "start_time": "2022-10-06T19:23:09.260837Z"
    }
   },
   "outputs": [],
   "source": [
    "# grouping all comments with the same link_id (i.e. beloning to the same submission)\n",
    "all_com = pd.DataFrame(all_com.groupby('link_id')['body'].sum()).reset_index(level=0)"
   ]
  },
  {
   "cell_type": "code",
   "execution_count": 244,
   "id": "7f1c6380",
   "metadata": {
    "ExecuteTime": {
     "end_time": "2022-10-06T19:24:15.570779Z",
     "start_time": "2022-10-06T19:24:15.393653Z"
    }
   },
   "outputs": [],
   "source": [
    "# removing 't3_' from link_id to find a match in dataframe withs submissions\n",
    "all_com['link_id'] = all_com.link_id.map(lambda x: x.strip(\"t3_\"))\n",
    "all_com.rename(columns={'link_id':'id'},inplace=True)"
   ]
  },
  {
   "cell_type": "code",
   "execution_count": 252,
   "id": "013f849a",
   "metadata": {
    "ExecuteTime": {
     "end_time": "2022-10-06T19:28:14.888935Z",
     "start_time": "2022-10-06T19:28:08.266168Z"
    }
   },
   "outputs": [],
   "source": [
    "# merging submissions and comments on their id\n",
    "all_data = pd.merge(all_sub,all_com,how='left',on=['id'])"
   ]
  },
  {
   "cell_type": "code",
   "execution_count": 255,
   "id": "fb4fab76",
   "metadata": {
    "ExecuteTime": {
     "end_time": "2022-10-06T19:29:30.000502Z",
     "start_time": "2022-10-06T19:29:29.780334Z"
    }
   },
   "outputs": [],
   "source": [
    "all_data = all_data[all_data['body'] != '<NA>'].reset_index(drop=True)"
   ]
  },
  {
   "cell_type": "code",
   "execution_count": 257,
   "id": "ee6add00",
   "metadata": {
    "ExecuteTime": {
     "end_time": "2022-10-06T19:30:36.689200Z",
     "start_time": "2022-10-06T19:30:36.665196Z"
    }
   },
   "outputs": [
    {
     "data": {
      "text/html": [
       "<div>\n",
       "<style scoped>\n",
       "    .dataframe tbody tr th:only-of-type {\n",
       "        vertical-align: middle;\n",
       "    }\n",
       "\n",
       "    .dataframe tbody tr th {\n",
       "        vertical-align: top;\n",
       "    }\n",
       "\n",
       "    .dataframe thead th {\n",
       "        text-align: right;\n",
       "    }\n",
       "</style>\n",
       "<table border=\"1\" class=\"dataframe\">\n",
       "  <thead>\n",
       "    <tr style=\"text-align: right;\">\n",
       "      <th></th>\n",
       "      <th>id</th>\n",
       "      <th>post_body</th>\n",
       "      <th>title</th>\n",
       "      <th>created</th>\n",
       "      <th>comment_body</th>\n",
       "    </tr>\n",
       "  </thead>\n",
       "  <tbody>\n",
       "    <tr>\n",
       "      <th>0</th>\n",
       "      <td>xhrlh6</td>\n",
       "      <td>i've been having these thoughts lately like\\n\\...</td>\n",
       "      <td>do you ever feel like not being alive anymore</td>\n",
       "      <td>2022-09-19 00:46:32</td>\n",
       "      <td>As for anchors My only anchor is I need to be ...</td>\n",
       "    </tr>\n",
       "    <tr>\n",
       "      <th>1</th>\n",
       "      <td>xhrajv</td>\n",
       "      <td>i've been going through a hard time lately and...</td>\n",
       "      <td>why do depressed people shave their heads</td>\n",
       "      <td>2022-09-19 00:34:15</td>\n",
       "      <td>I don’t know because I never had the urge but ...</td>\n",
       "    </tr>\n",
       "    <tr>\n",
       "      <th>2</th>\n",
       "      <td>xhr49p</td>\n",
       "      <td>idk why but every now and then i'll just get t...</td>\n",
       "      <td>random urge to kill people</td>\n",
       "      <td>2022-09-19 00:27:15</td>\n",
       "      <td>You are a coward that can't handle the fact th...</td>\n",
       "    </tr>\n",
       "    <tr>\n",
       "      <th>3</th>\n",
       "      <td>xhq4pa</td>\n",
       "      <td>i have ocd that gives me intrusive thoughts ab...</td>\n",
       "      <td>need a therapist that specializes in concernin...</td>\n",
       "      <td>2022-09-18 23:46:40</td>\n",
       "      <td>Unless there is an actual crime or abuse to re...</td>\n",
       "    </tr>\n",
       "    <tr>\n",
       "      <th>4</th>\n",
       "      <td>xhpsmb</td>\n",
       "      <td>i have no friends, i don't like my family at a...</td>\n",
       "      <td>17m i think i should end my life early</td>\n",
       "      <td>2022-09-18 23:33:01</td>\n",
       "      <td>Aye yes, I know when I get depressed I sit in ...</td>\n",
       "    </tr>\n",
       "  </tbody>\n",
       "</table>\n",
       "</div>"
      ],
      "text/plain": [
       "       id                                          post_body  \\\n",
       "0  xhrlh6  i've been having these thoughts lately like\\n\\...   \n",
       "1  xhrajv  i've been going through a hard time lately and...   \n",
       "2  xhr49p  idk why but every now and then i'll just get t...   \n",
       "3  xhq4pa  i have ocd that gives me intrusive thoughts ab...   \n",
       "4  xhpsmb  i have no friends, i don't like my family at a...   \n",
       "\n",
       "                                               title             created  \\\n",
       "0      do you ever feel like not being alive anymore 2022-09-19 00:46:32   \n",
       "1          why do depressed people shave their heads 2022-09-19 00:34:15   \n",
       "2                         random urge to kill people 2022-09-19 00:27:15   \n",
       "3  need a therapist that specializes in concernin... 2022-09-18 23:46:40   \n",
       "4             17m i think i should end my life early 2022-09-18 23:33:01   \n",
       "\n",
       "                                        comment_body  \n",
       "0  As for anchors My only anchor is I need to be ...  \n",
       "1  I don’t know because I never had the urge but ...  \n",
       "2  You are a coward that can't handle the fact th...  \n",
       "3  Unless there is an actual crime or abuse to re...  \n",
       "4  Aye yes, I know when I get depressed I sit in ...  "
      ]
     },
     "execution_count": 257,
     "metadata": {},
     "output_type": "execute_result"
    }
   ],
   "source": [
    "all_data.rename(columns = {'body':'comment_body'},inplace=True)\n",
    "all_data.head()"
   ]
  },
  {
   "cell_type": "markdown",
   "id": "98a7b201",
   "metadata": {},
   "source": [
    "# Since we're only interested in submissions that have a question, we will need to analyze all the titles of submission and check if they are questions of not"
   ]
  },
  {
   "cell_type": "code",
   "execution_count": 260,
   "id": "3aa2cc2c",
   "metadata": {
    "ExecuteTime": {
     "end_time": "2022-10-06T19:31:04.796879Z",
     "start_time": "2022-10-06T19:31:04.752838Z"
    }
   },
   "outputs": [],
   "source": [
    "question_words = [\"what\", \"why\", \"when\", \"where\", \"name\", \"is\", \"how\", \"do\", \"does\", \n",
    "                  \"which\", \"are\", \"could\", \"would\", \"should\", \"has\", \"have\", \"whom\", \n",
    "                  \"whose\", \"don't\",'am','can',\"do i\", \"do you\", \"what\", \"who\", \"is it\", \n",
    "                  \"why\",\"would you\", \"how\",\"is there\",\"are there\", \"is it so\", \"is this true\" ,\n",
    "                  \"to know\", \"is that true\", \"are we\", \"am i\", \"question is\", \"tell me more\", \n",
    "                  \"can i\", \"can we\", \"tell me\", \"can you explain\",\"didn't\",\"doesn't\",\"haven't\",\"isn't\",\"aren't\",\"can't\",\"couldn't\",\"wouldn't\",\"won't\",\"shouldn't\"]\n",
    "\n",
    "def is_question(text):\n",
    "    question = text.lower()\n",
    "    question = word_tokenize(question)\n",
    "    if any(x in question[0] for x in question_words):\n",
    "        res = True\n",
    "    else:\n",
    "        res = False\n",
    "    return res"
   ]
  },
  {
   "cell_type": "code",
   "execution_count": 261,
   "id": "01d04739",
   "metadata": {
    "ExecuteTime": {
     "end_time": "2022-10-06T19:31:39.937294Z",
     "start_time": "2022-10-06T19:31:16.747578Z"
    }
   },
   "outputs": [],
   "source": [
    "all_data['question'] = all_data.title.apply(is_question)"
   ]
  },
  {
   "cell_type": "code",
   "execution_count": 265,
   "id": "afb58d09",
   "metadata": {
    "ExecuteTime": {
     "end_time": "2022-10-06T19:34:45.045065Z",
     "start_time": "2022-10-06T19:34:41.531537Z"
    }
   },
   "outputs": [
    {
     "name": "stdout",
     "output_type": "stream",
     "text": [
      "Accuracy is :  0.6685606060606061\n"
     ]
    }
   ],
   "source": [
    "### adapted from https://github.com/kartikn27/nlp-question-detection/blob/master/method2.py\n",
    "class IsQuestion():\n",
    "    \n",
    "    # Init constructor\n",
    "    def __init__(self):\n",
    "        posts = self.__get_posts()\n",
    "        feature_set = self.__get_feature_set(posts)\n",
    "        self.classifier = self.__perform_classification(feature_set)\n",
    "        \n",
    "    # Method (Private): __get_posts\n",
    "    # Input: None\n",
    "    # Output: Posts (Text) from NLTK's nps_chat package\n",
    "    def __get_posts(self):\n",
    "        return nltk.corpus.nps_chat.xml_posts()\n",
    "    \n",
    "    # Method (Private): __get_feature_set\n",
    "    # Input: Posts from NLTK's nps_chat package\n",
    "    # Processing: 1. preserve alpha numeric characters, whitespace, apostrophe\n",
    "    # 2. Tokenize sentences using NLTK's word_tokenize\n",
    "    # 3. Create a dictionary of list of tuples for each post where tuples index 0 is the dictionary of words occuring in the sentence and index 1 is the class as received from nps_chat package \n",
    "    # Return: List of tuples for each post\n",
    "    def __get_feature_set(self, posts):\n",
    "        feature_list = []\n",
    "        for post in posts:\n",
    "            post_text = post.text            \n",
    "            features = {}\n",
    "            words = nltk.word_tokenize(post_text)\n",
    "            for word in words:\n",
    "                features['contains({})'.format(word.lower())] = True\n",
    "            feature_list.append((features, post.get('class')))\n",
    "        return feature_list\n",
    "    \n",
    "    # Method (Private): __perform_classification\n",
    "    # Input: List of tuples for each post\n",
    "    # Processing: 1. Divide data into 80% training and 10% testing sets\n",
    "    # 2. Use NLTK's Multinomial Naive Bayes to perform classifcation\n",
    "    # 3. Print the Accuracy of the model\n",
    "    # Return: Classifier object\n",
    "    def __perform_classification(self, feature_set):\n",
    "        training_size = int(len(feature_set) * 0.1)\n",
    "        train_set, test_set = feature_set[training_size:], feature_set[:training_size]\n",
    "        classifier = nltk.NaiveBayesClassifier.train(train_set)\n",
    "        print('Accuracy is : ', nltk.classify.accuracy(classifier, test_set))\n",
    "        return classifier\n",
    "        \n",
    "    # Method (private): __get_question_words_set\n",
    "    # Input: None\n",
    "    # Return: Set of commonly occuring words in questions\n",
    "    def __get_question_words_set(self):\n",
    "        question_word_list = ['what', 'where', 'when','how','why','did','do','does','have','has','am','is','are',\n",
    "                              'can','could','may','would','will','should',\"has\", \"have\", \"whom\",'whose',\"didn't\",\n",
    "                              \"doesn't\",\"haven't\",\"isn't\",\"aren't\",\"can't\",\"couldn't\",\"wouldn't\",\"won't\",\"shouldn't\",'?',\n",
    "                             \"what\", \"why\", \"when\", \"where\", \"name\", \"is\", \"how\", \"do\", \"does\", \n",
    "                  \"which\", \"are\", \"could\", \"would\", \"should\", \"has\", \"have\", \"whom\", \n",
    "                  \"whose\", \"don't\",'am','can',\"do i\", \"do you\", \"what\", \"who\", \"is it\", \n",
    "                  \"why\",\"would you\", \"how\",\"is there\",\"are there\", \"is it so\", \"is this true\" ,\n",
    "                  \"to know\", \"is that true\", \"are we\", \"am i\", \"question is\", \"tell me more\", \n",
    "                  \"can i\", \"can we\", \"tell me\", \"can you explain\",\"didn't\",\"doesn't\",\"haven't\",\"isn't\",\"aren't\",\"can't\",\"couldn't\",\"wouldn't\",\"won't\",\"shouldn't\"]\n",
    "        return set(question_word_list)        \n",
    "    \n",
    "    # Method (Public): predict_question\n",
    "    # Input: Sentence to be predicted\n",
    "    # Return: 1 - If sentence is question | 0 - If sentence is not question\n",
    "    def predict_question(self, text):\n",
    "        words = nltk.word_tokenize(text.lower())        \n",
    "        if self.__get_question_words_set().intersection(words) == False:\n",
    "            return 0\n",
    "        if '?' in text:\n",
    "            return 1\n",
    "        \n",
    "        features = {}\n",
    "        for word in words:\n",
    "            features['contains({})'.format(word.lower())] = True            \n",
    "        \n",
    "        prediction_result = self.classifier.classify(features)\n",
    "        if prediction_result == 'whQuestion' or prediction_result == 'ynQuestion':\n",
    "            return 1\n",
    "        return 0\n",
    "    \n",
    "    # Method (Public): predict_question_type\n",
    "    # Input: Sentence to be predicted\n",
    "    # Return: 'WH' - If question is WH question | 'YN' - If sentence is Yes/NO question | 'unknown' - If unknown question type\n",
    "    def predict_question_type(self, text):\n",
    "        words = nltk.word_tokenize(text.lower())                \n",
    "        features = {}\n",
    "        for word in words:\n",
    "            features['contains({})'.format(word.lower())] = True            \n",
    "        \n",
    "        prediction_result = self.classifier.classify(features)\n",
    "        if prediction_result == 'whQuestion':\n",
    "            return 'WH'\n",
    "        elif prediction_result == 'ynQuestion':\n",
    "            return 'YN'\n",
    "        else:\n",
    "            return 'unknown'\n",
    "\n",
    "\n",
    "isQ = IsQuestion()"
   ]
  },
  {
   "cell_type": "code",
   "execution_count": 266,
   "id": "ebb025c4",
   "metadata": {
    "ExecuteTime": {
     "end_time": "2022-10-06T19:36:10.450087Z",
     "start_time": "2022-10-06T19:34:49.089283Z"
    }
   },
   "outputs": [],
   "source": [
    "all_data['is_question'] = all_data['title'].apply(isQ.predict_question)"
   ]
  },
  {
   "cell_type": "code",
   "execution_count": 267,
   "id": "8b4df61d",
   "metadata": {
    "ExecuteTime": {
     "end_time": "2022-10-06T19:36:12.711570Z",
     "start_time": "2022-10-06T19:36:12.689555Z"
    }
   },
   "outputs": [
    {
     "data": {
      "text/html": [
       "<div>\n",
       "<style scoped>\n",
       "    .dataframe tbody tr th:only-of-type {\n",
       "        vertical-align: middle;\n",
       "    }\n",
       "\n",
       "    .dataframe tbody tr th {\n",
       "        vertical-align: top;\n",
       "    }\n",
       "\n",
       "    .dataframe thead th {\n",
       "        text-align: right;\n",
       "    }\n",
       "</style>\n",
       "<table border=\"1\" class=\"dataframe\">\n",
       "  <thead>\n",
       "    <tr style=\"text-align: right;\">\n",
       "      <th></th>\n",
       "      <th>id</th>\n",
       "      <th>post_body</th>\n",
       "      <th>title</th>\n",
       "      <th>created</th>\n",
       "      <th>comment_body</th>\n",
       "      <th>question</th>\n",
       "      <th>is_question</th>\n",
       "    </tr>\n",
       "  </thead>\n",
       "  <tbody>\n",
       "    <tr>\n",
       "      <th>0</th>\n",
       "      <td>xhrlh6</td>\n",
       "      <td>i've been having these thoughts lately like\\n\\...</td>\n",
       "      <td>do you ever feel like not being alive anymore</td>\n",
       "      <td>2022-09-19 00:46:32</td>\n",
       "      <td>As for anchors My only anchor is I need to be ...</td>\n",
       "      <td>True</td>\n",
       "      <td>0</td>\n",
       "    </tr>\n",
       "    <tr>\n",
       "      <th>1</th>\n",
       "      <td>xhrajv</td>\n",
       "      <td>i've been going through a hard time lately and...</td>\n",
       "      <td>why do depressed people shave their heads</td>\n",
       "      <td>2022-09-19 00:34:15</td>\n",
       "      <td>I don’t know because I never had the urge but ...</td>\n",
       "      <td>True</td>\n",
       "      <td>0</td>\n",
       "    </tr>\n",
       "    <tr>\n",
       "      <th>2</th>\n",
       "      <td>xhr49p</td>\n",
       "      <td>idk why but every now and then i'll just get t...</td>\n",
       "      <td>random urge to kill people</td>\n",
       "      <td>2022-09-19 00:27:15</td>\n",
       "      <td>You are a coward that can't handle the fact th...</td>\n",
       "      <td>True</td>\n",
       "      <td>0</td>\n",
       "    </tr>\n",
       "    <tr>\n",
       "      <th>3</th>\n",
       "      <td>xhq4pa</td>\n",
       "      <td>i have ocd that gives me intrusive thoughts ab...</td>\n",
       "      <td>need a therapist that specializes in concernin...</td>\n",
       "      <td>2022-09-18 23:46:40</td>\n",
       "      <td>Unless there is an actual crime or abuse to re...</td>\n",
       "      <td>False</td>\n",
       "      <td>0</td>\n",
       "    </tr>\n",
       "    <tr>\n",
       "      <th>4</th>\n",
       "      <td>xhpsmb</td>\n",
       "      <td>i have no friends, i don't like my family at a...</td>\n",
       "      <td>17m i think i should end my life early</td>\n",
       "      <td>2022-09-18 23:33:01</td>\n",
       "      <td>Aye yes, I know when I get depressed I sit in ...</td>\n",
       "      <td>False</td>\n",
       "      <td>0</td>\n",
       "    </tr>\n",
       "    <tr>\n",
       "      <th>...</th>\n",
       "      <td>...</td>\n",
       "      <td>...</td>\n",
       "      <td>...</td>\n",
       "      <td>...</td>\n",
       "      <td>...</td>\n",
       "      <td>...</td>\n",
       "      <td>...</td>\n",
       "    </tr>\n",
       "    <tr>\n",
       "      <th>202303</th>\n",
       "      <td>2glqvl</td>\n",
       "      <td>i've been struggling with mental illness (depr...</td>\n",
       "      <td>does mental illness, with a suicide attempt, q...</td>\n",
       "      <td>2014-09-17 02:26:12</td>\n",
       "      <td>Yes. It is a life threatening illness. You wil...</td>\n",
       "      <td>True</td>\n",
       "      <td>1</td>\n",
       "    </tr>\n",
       "    <tr>\n",
       "      <th>202304</th>\n",
       "      <td>2ea7v6</td>\n",
       "      <td>so, i am getting really bad. i hear strange to...</td>\n",
       "      <td>i am scared. everything in here and on /r/depr...</td>\n",
       "      <td>2014-08-22 19:17:29</td>\n",
       "      <td>I see mental illness as a disease that gets yo...</td>\n",
       "      <td>False</td>\n",
       "      <td>0</td>\n",
       "    </tr>\n",
       "    <tr>\n",
       "      <th>202305</th>\n",
       "      <td>27k65x</td>\n",
       "      <td>my husband and i are both pretty fucked up rig...</td>\n",
       "      <td>losing it</td>\n",
       "      <td>2014-06-07 21:27:59</td>\n",
       "      <td>It's unfortunate to hear that one good thing l...</td>\n",
       "      <td>False</td>\n",
       "      <td>0</td>\n",
       "    </tr>\n",
       "    <tr>\n",
       "      <th>202306</th>\n",
       "      <td>200k7v</td>\n",
       "      <td>nan</td>\n",
       "      <td>love suicide</td>\n",
       "      <td>2014-03-10 06:24:27</td>\n",
       "      <td>Just posted a link to a blog post I did on men...</td>\n",
       "      <td>False</td>\n",
       "      <td>0</td>\n",
       "    </tr>\n",
       "    <tr>\n",
       "      <th>202307</th>\n",
       "      <td>1wmc1o</td>\n",
       "      <td>nan</td>\n",
       "      <td>let’s talk privately a minute about mental health</td>\n",
       "      <td>2014-01-31 08:13:02</td>\n",
       "      <td>Kick ass article.</td>\n",
       "      <td>False</td>\n",
       "      <td>0</td>\n",
       "    </tr>\n",
       "  </tbody>\n",
       "</table>\n",
       "<p>202308 rows × 7 columns</p>\n",
       "</div>"
      ],
      "text/plain": [
       "            id                                          post_body  \\\n",
       "0       xhrlh6  i've been having these thoughts lately like\\n\\...   \n",
       "1       xhrajv  i've been going through a hard time lately and...   \n",
       "2       xhr49p  idk why but every now and then i'll just get t...   \n",
       "3       xhq4pa  i have ocd that gives me intrusive thoughts ab...   \n",
       "4       xhpsmb  i have no friends, i don't like my family at a...   \n",
       "...        ...                                                ...   \n",
       "202303  2glqvl  i've been struggling with mental illness (depr...   \n",
       "202304  2ea7v6  so, i am getting really bad. i hear strange to...   \n",
       "202305  27k65x  my husband and i are both pretty fucked up rig...   \n",
       "202306  200k7v                                                nan   \n",
       "202307  1wmc1o                                                nan   \n",
       "\n",
       "                                                    title             created  \\\n",
       "0           do you ever feel like not being alive anymore 2022-09-19 00:46:32   \n",
       "1               why do depressed people shave their heads 2022-09-19 00:34:15   \n",
       "2                              random urge to kill people 2022-09-19 00:27:15   \n",
       "3       need a therapist that specializes in concernin... 2022-09-18 23:46:40   \n",
       "4                  17m i think i should end my life early 2022-09-18 23:33:01   \n",
       "...                                                   ...                 ...   \n",
       "202303  does mental illness, with a suicide attempt, q... 2014-09-17 02:26:12   \n",
       "202304  i am scared. everything in here and on /r/depr... 2014-08-22 19:17:29   \n",
       "202305                                          losing it 2014-06-07 21:27:59   \n",
       "202306                                       love suicide 2014-03-10 06:24:27   \n",
       "202307  let’s talk privately a minute about mental health 2014-01-31 08:13:02   \n",
       "\n",
       "                                             comment_body  question  \\\n",
       "0       As for anchors My only anchor is I need to be ...      True   \n",
       "1       I don’t know because I never had the urge but ...      True   \n",
       "2       You are a coward that can't handle the fact th...      True   \n",
       "3       Unless there is an actual crime or abuse to re...     False   \n",
       "4       Aye yes, I know when I get depressed I sit in ...     False   \n",
       "...                                                   ...       ...   \n",
       "202303  Yes. It is a life threatening illness. You wil...      True   \n",
       "202304  I see mental illness as a disease that gets yo...     False   \n",
       "202305  It's unfortunate to hear that one good thing l...     False   \n",
       "202306  Just posted a link to a blog post I did on men...     False   \n",
       "202307                                 Kick ass article.      False   \n",
       "\n",
       "        is_question  \n",
       "0                 0  \n",
       "1                 0  \n",
       "2                 0  \n",
       "3                 0  \n",
       "4                 0  \n",
       "...             ...  \n",
       "202303            1  \n",
       "202304            0  \n",
       "202305            0  \n",
       "202306            0  \n",
       "202307            0  \n",
       "\n",
       "[202308 rows x 7 columns]"
      ]
     },
     "execution_count": 267,
     "metadata": {},
     "output_type": "execute_result"
    }
   ],
   "source": [
    "all_data"
   ]
  },
  {
   "cell_type": "code",
   "execution_count": 268,
   "id": "6f0e174e",
   "metadata": {
    "ExecuteTime": {
     "end_time": "2022-10-06T19:38:18.107294Z",
     "start_time": "2022-10-06T19:38:15.460219Z"
    }
   },
   "outputs": [],
   "source": [
    "# since both ways i used are not perfectly accurate, I'm going to keep rows that have 'question' != False and \"is_question\" != 0\n",
    "all_data = all_data.loc[~((all_data['question'] == False) & (all_data['is_question'] == 0))]"
   ]
  },
  {
   "cell_type": "code",
   "execution_count": 270,
   "id": "218818a1",
   "metadata": {
    "ExecuteTime": {
     "end_time": "2022-10-06T19:39:31.851797Z",
     "start_time": "2022-10-06T19:39:31.770702Z"
    }
   },
   "outputs": [],
   "source": [
    "all_data = all_data.drop(columns=['question','is_question']).reset_index(drop=True)"
   ]
  },
  {
   "cell_type": "code",
   "execution_count": 271,
   "id": "1ee6d1ab",
   "metadata": {
    "ExecuteTime": {
     "end_time": "2022-10-06T19:39:36.204623Z",
     "start_time": "2022-10-06T19:39:36.185608Z"
    }
   },
   "outputs": [
    {
     "data": {
      "text/html": [
       "<div>\n",
       "<style scoped>\n",
       "    .dataframe tbody tr th:only-of-type {\n",
       "        vertical-align: middle;\n",
       "    }\n",
       "\n",
       "    .dataframe tbody tr th {\n",
       "        vertical-align: top;\n",
       "    }\n",
       "\n",
       "    .dataframe thead th {\n",
       "        text-align: right;\n",
       "    }\n",
       "</style>\n",
       "<table border=\"1\" class=\"dataframe\">\n",
       "  <thead>\n",
       "    <tr style=\"text-align: right;\">\n",
       "      <th></th>\n",
       "      <th>id</th>\n",
       "      <th>post_body</th>\n",
       "      <th>title</th>\n",
       "      <th>created</th>\n",
       "      <th>comment_body</th>\n",
       "    </tr>\n",
       "  </thead>\n",
       "  <tbody>\n",
       "    <tr>\n",
       "      <th>0</th>\n",
       "      <td>xhrlh6</td>\n",
       "      <td>i've been having these thoughts lately like\\n\\...</td>\n",
       "      <td>do you ever feel like not being alive anymore</td>\n",
       "      <td>2022-09-19 00:46:32</td>\n",
       "      <td>As for anchors My only anchor is I need to be ...</td>\n",
       "    </tr>\n",
       "    <tr>\n",
       "      <th>1</th>\n",
       "      <td>xhrajv</td>\n",
       "      <td>i've been going through a hard time lately and...</td>\n",
       "      <td>why do depressed people shave their heads</td>\n",
       "      <td>2022-09-19 00:34:15</td>\n",
       "      <td>I don’t know because I never had the urge but ...</td>\n",
       "    </tr>\n",
       "    <tr>\n",
       "      <th>2</th>\n",
       "      <td>xhr49p</td>\n",
       "      <td>idk why but every now and then i'll just get t...</td>\n",
       "      <td>random urge to kill people</td>\n",
       "      <td>2022-09-19 00:27:15</td>\n",
       "      <td>You are a coward that can't handle the fact th...</td>\n",
       "    </tr>\n",
       "    <tr>\n",
       "      <th>3</th>\n",
       "      <td>xhowxf</td>\n",
       "      <td>when i get really anxious, i slap my arm and t...</td>\n",
       "      <td>is slapping my arm when i’m anxious normal?</td>\n",
       "      <td>2022-09-18 22:58:06</td>\n",
       "      <td>'Normal' and 'crazy' aren't binary opposites, ...</td>\n",
       "    </tr>\n",
       "    <tr>\n",
       "      <th>4</th>\n",
       "      <td>xhovdn</td>\n",
       "      <td>i’ve been to a few psychiatrists/therapists ov...</td>\n",
       "      <td>tips to find a psychiatrist that specializes i...</td>\n",
       "      <td>2022-09-18 22:56:17</td>\n",
       "      <td>I would assume the majority are aware of anxie...</td>\n",
       "    </tr>\n",
       "    <tr>\n",
       "      <th>...</th>\n",
       "      <td>...</td>\n",
       "      <td>...</td>\n",
       "      <td>...</td>\n",
       "      <td>...</td>\n",
       "      <td>...</td>\n",
       "    </tr>\n",
       "    <tr>\n",
       "      <th>82561</th>\n",
       "      <td>2wigq2</td>\n",
       "      <td>i'm not looking for a diagnosis, just some ins...</td>\n",
       "      <td>have you heard of this?</td>\n",
       "      <td>2015-02-20 08:05:16</td>\n",
       "      <td>I assume you have some sort of existing medica...</td>\n",
       "    </tr>\n",
       "    <tr>\n",
       "      <th>82562</th>\n",
       "      <td>2vr17i</td>\n",
       "      <td>how do i find friends to have adventures with ...</td>\n",
       "      <td>how do i stop my intensity?</td>\n",
       "      <td>2015-02-13 13:12:20</td>\n",
       "      <td>I have been diagnosed officially and I am not ...</td>\n",
       "    </tr>\n",
       "    <tr>\n",
       "      <th>82563</th>\n",
       "      <td>2s5g3q</td>\n",
       "      <td>oftain if someone will repeat a word directly ...</td>\n",
       "      <td>does this have a name?</td>\n",
       "      <td>2015-01-12 13:36:53</td>\n",
       "      <td>I asked my councillor but he wasn't too sure, ...</td>\n",
       "    </tr>\n",
       "    <tr>\n",
       "      <th>82564</th>\n",
       "      <td>2n3gpd</td>\n",
       "      <td>the patterns of loosely related random words a...</td>\n",
       "      <td>do schizophrenics 'understand' other schizophr...</td>\n",
       "      <td>2014-11-22 22:08:51</td>\n",
       "      <td>I don't think it works that way. I do find tha...</td>\n",
       "    </tr>\n",
       "    <tr>\n",
       "      <th>82565</th>\n",
       "      <td>2glqvl</td>\n",
       "      <td>i've been struggling with mental illness (depr...</td>\n",
       "      <td>does mental illness, with a suicide attempt, q...</td>\n",
       "      <td>2014-09-17 02:26:12</td>\n",
       "      <td>Yes. It is a life threatening illness. You wil...</td>\n",
       "    </tr>\n",
       "  </tbody>\n",
       "</table>\n",
       "<p>82566 rows × 5 columns</p>\n",
       "</div>"
      ],
      "text/plain": [
       "           id                                          post_body  \\\n",
       "0      xhrlh6  i've been having these thoughts lately like\\n\\...   \n",
       "1      xhrajv  i've been going through a hard time lately and...   \n",
       "2      xhr49p  idk why but every now and then i'll just get t...   \n",
       "3      xhowxf  when i get really anxious, i slap my arm and t...   \n",
       "4      xhovdn  i’ve been to a few psychiatrists/therapists ov...   \n",
       "...       ...                                                ...   \n",
       "82561  2wigq2  i'm not looking for a diagnosis, just some ins...   \n",
       "82562  2vr17i  how do i find friends to have adventures with ...   \n",
       "82563  2s5g3q  oftain if someone will repeat a word directly ...   \n",
       "82564  2n3gpd  the patterns of loosely related random words a...   \n",
       "82565  2glqvl  i've been struggling with mental illness (depr...   \n",
       "\n",
       "                                                   title             created  \\\n",
       "0          do you ever feel like not being alive anymore 2022-09-19 00:46:32   \n",
       "1              why do depressed people shave their heads 2022-09-19 00:34:15   \n",
       "2                             random urge to kill people 2022-09-19 00:27:15   \n",
       "3            is slapping my arm when i’m anxious normal? 2022-09-18 22:58:06   \n",
       "4      tips to find a psychiatrist that specializes i... 2022-09-18 22:56:17   \n",
       "...                                                  ...                 ...   \n",
       "82561                            have you heard of this? 2015-02-20 08:05:16   \n",
       "82562                        how do i stop my intensity? 2015-02-13 13:12:20   \n",
       "82563                             does this have a name? 2015-01-12 13:36:53   \n",
       "82564  do schizophrenics 'understand' other schizophr... 2014-11-22 22:08:51   \n",
       "82565  does mental illness, with a suicide attempt, q... 2014-09-17 02:26:12   \n",
       "\n",
       "                                            comment_body  \n",
       "0      As for anchors My only anchor is I need to be ...  \n",
       "1      I don’t know because I never had the urge but ...  \n",
       "2      You are a coward that can't handle the fact th...  \n",
       "3      'Normal' and 'crazy' aren't binary opposites, ...  \n",
       "4      I would assume the majority are aware of anxie...  \n",
       "...                                                  ...  \n",
       "82561  I assume you have some sort of existing medica...  \n",
       "82562  I have been diagnosed officially and I am not ...  \n",
       "82563  I asked my councillor but he wasn't too sure, ...  \n",
       "82564  I don't think it works that way. I do find tha...  \n",
       "82565  Yes. It is a life threatening illness. You wil...  \n",
       "\n",
       "[82566 rows x 5 columns]"
      ]
     },
     "execution_count": 271,
     "metadata": {},
     "output_type": "execute_result"
    }
   ],
   "source": [
    "all_data"
   ]
  },
  {
   "cell_type": "code",
   "execution_count": 273,
   "id": "7ad71ee1",
   "metadata": {
    "ExecuteTime": {
     "end_time": "2022-10-06T19:43:34.084595Z",
     "start_time": "2022-10-06T19:43:34.046570Z"
    }
   },
   "outputs": [],
   "source": [
    "# Dropping the columns that doesn't encode useful information and renaming the columns nicely for intepretability\n",
    "all_data.drop(['id','created'], axis = 1, inplace = True)"
   ]
  },
  {
   "cell_type": "code",
   "execution_count": 282,
   "id": "b19001bb",
   "metadata": {
    "ExecuteTime": {
     "end_time": "2022-10-06T19:51:51.243967Z",
     "start_time": "2022-10-06T19:51:50.927325Z"
    }
   },
   "outputs": [
    {
     "data": {
      "text/plain": [
       "'I won 1st_place_medal in cricket'"
      ]
     },
     "execution_count": 282,
     "metadata": {},
     "output_type": "execute_result"
    }
   ],
   "source": [
    "# Replacing emojis with text\n",
    "with open('Emoji_Dict.p', 'rb') as fp:\n",
    "    Emoji_Dict = pickle.load(fp)\n",
    "Emoji_Dict = {v: k for k, v in Emoji_Dict.items()}\n",
    "\n",
    "def convert_emojis_to_word(text):\n",
    "    for emot in Emoji_Dict:\n",
    "        text = re.sub(r'('+emot+')', \"_\".join(Emoji_Dict[emot].replace(\",\",\"\").replace(\":\",\"\").split()), text)\n",
    "    return text\n",
    "# Example\n",
    "text = \"I won 🥇 in 🏏\"\n",
    "convert_emojis_to_word(text)"
   ]
  },
  {
   "cell_type": "code",
   "execution_count": 283,
   "id": "d848f9b5",
   "metadata": {
    "ExecuteTime": {
     "end_time": "2022-10-06T22:16:37.457369Z",
     "start_time": "2022-10-06T19:52:35.430369Z"
    }
   },
   "outputs": [],
   "source": [
    "all_data['title'] = all_data['title'].apply(convert_emojis_to_word)"
   ]
  },
  {
   "cell_type": "code",
   "execution_count": 285,
   "id": "f0672e5b",
   "metadata": {
    "ExecuteTime": {
     "end_time": "2022-10-07T00:46:31.770183Z",
     "start_time": "2022-10-06T22:21:23.070255Z"
    }
   },
   "outputs": [],
   "source": [
    "all_data['post_body'] = all_data['post_body'].apply(convert_emojis_to_word)"
   ]
  },
  {
   "cell_type": "code",
   "execution_count": 286,
   "id": "963af07c",
   "metadata": {
    "ExecuteTime": {
     "end_time": "2022-10-07T03:14:31.921493Z",
     "start_time": "2022-10-07T00:46:31.823295Z"
    }
   },
   "outputs": [],
   "source": [
    "all_data['comment_body'] = all_data['comment_body'].apply(convert_emojis_to_word)"
   ]
  },
  {
   "cell_type": "code",
   "execution_count": 287,
   "id": "57184643",
   "metadata": {
    "ExecuteTime": {
     "end_time": "2022-10-07T03:14:41.309392Z",
     "start_time": "2022-10-07T03:14:31.931497Z"
    }
   },
   "outputs": [],
   "source": [
    "all_data.to_csv('../Data/all_data.csv',index=False)"
   ]
  },
  {
   "cell_type": "markdown",
   "id": "d6c623d3",
   "metadata": {},
   "source": [
    "# Load the data not to run the code above all over again"
   ]
  },
  {
   "cell_type": "code",
   "execution_count": 36,
   "id": "67da9367",
   "metadata": {
    "ExecuteTime": {
     "end_time": "2022-10-23T21:18:40.212208Z",
     "start_time": "2022-10-23T21:18:37.034851Z"
    }
   },
   "outputs": [],
   "source": [
    "all_data = pd.read_csv('../Data/all_data.csv')"
   ]
  },
  {
   "cell_type": "code",
   "execution_count": 37,
   "id": "57d9a2fa",
   "metadata": {
    "ExecuteTime": {
     "end_time": "2022-10-23T21:18:42.209978Z",
     "start_time": "2022-10-23T21:18:42.195967Z"
    }
   },
   "outputs": [
    {
     "data": {
      "text/html": [
       "<div>\n",
       "<style scoped>\n",
       "    .dataframe tbody tr th:only-of-type {\n",
       "        vertical-align: middle;\n",
       "    }\n",
       "\n",
       "    .dataframe tbody tr th {\n",
       "        vertical-align: top;\n",
       "    }\n",
       "\n",
       "    .dataframe thead th {\n",
       "        text-align: right;\n",
       "    }\n",
       "</style>\n",
       "<table border=\"1\" class=\"dataframe\">\n",
       "  <thead>\n",
       "    <tr style=\"text-align: right;\">\n",
       "      <th></th>\n",
       "      <th>post_body</th>\n",
       "      <th>title</th>\n",
       "      <th>comment_body</th>\n",
       "    </tr>\n",
       "  </thead>\n",
       "  <tbody>\n",
       "    <tr>\n",
       "      <th>0</th>\n",
       "      <td>i've been having these thoughts lately like\\n\\...</td>\n",
       "      <td>do you ever feel like not being alive anymore</td>\n",
       "      <td>As for anchors My only anchor is I need to be ...</td>\n",
       "    </tr>\n",
       "    <tr>\n",
       "      <th>1</th>\n",
       "      <td>i've been going through a hard time lately and...</td>\n",
       "      <td>why do depressed people shave their heads</td>\n",
       "      <td>I don’t know because I never had the urge but ...</td>\n",
       "    </tr>\n",
       "    <tr>\n",
       "      <th>2</th>\n",
       "      <td>idk why but every now and then i'll just get t...</td>\n",
       "      <td>random urge to kill people</td>\n",
       "      <td>You are a coward that can't handle the fact th...</td>\n",
       "    </tr>\n",
       "    <tr>\n",
       "      <th>3</th>\n",
       "      <td>when i get really anxious, i slap my arm and t...</td>\n",
       "      <td>is slapping my arm when i’m anxious normal?</td>\n",
       "      <td>'Normal' and 'crazy' aren't binary opposites, ...</td>\n",
       "    </tr>\n",
       "    <tr>\n",
       "      <th>4</th>\n",
       "      <td>i’ve been to a few psychiatrists/therapists ov...</td>\n",
       "      <td>tips to find a psychiatrist that specializes i...</td>\n",
       "      <td>I would assume the majority are aware of anxie...</td>\n",
       "    </tr>\n",
       "    <tr>\n",
       "      <th>...</th>\n",
       "      <td>...</td>\n",
       "      <td>...</td>\n",
       "      <td>...</td>\n",
       "    </tr>\n",
       "    <tr>\n",
       "      <th>82561</th>\n",
       "      <td>i'm not looking for a diagnosis, just some ins...</td>\n",
       "      <td>have you heard of this?</td>\n",
       "      <td>I assume you have some sort of existing medica...</td>\n",
       "    </tr>\n",
       "    <tr>\n",
       "      <th>82562</th>\n",
       "      <td>how do i find friends to have adventures with ...</td>\n",
       "      <td>how do i stop my intensity?</td>\n",
       "      <td>I have been diagnosed officially and I am not ...</td>\n",
       "    </tr>\n",
       "    <tr>\n",
       "      <th>82563</th>\n",
       "      <td>oftain if someone will repeat a word directly ...</td>\n",
       "      <td>does this have a name?</td>\n",
       "      <td>I asked my councillor but he wasn't too sure, ...</td>\n",
       "    </tr>\n",
       "    <tr>\n",
       "      <th>82564</th>\n",
       "      <td>the patterns of loosely related random words a...</td>\n",
       "      <td>do schizophrenics 'understand' other schizophr...</td>\n",
       "      <td>I don't think it works that way. I do find tha...</td>\n",
       "    </tr>\n",
       "    <tr>\n",
       "      <th>82565</th>\n",
       "      <td>i've been struggling with mental illness (depr...</td>\n",
       "      <td>does mental illness, with a suicide attempt, q...</td>\n",
       "      <td>Yes. It is a life threatening illness. You wil...</td>\n",
       "    </tr>\n",
       "  </tbody>\n",
       "</table>\n",
       "<p>82566 rows × 3 columns</p>\n",
       "</div>"
      ],
      "text/plain": [
       "                                               post_body  \\\n",
       "0      i've been having these thoughts lately like\\n\\...   \n",
       "1      i've been going through a hard time lately and...   \n",
       "2      idk why but every now and then i'll just get t...   \n",
       "3      when i get really anxious, i slap my arm and t...   \n",
       "4      i’ve been to a few psychiatrists/therapists ov...   \n",
       "...                                                  ...   \n",
       "82561  i'm not looking for a diagnosis, just some ins...   \n",
       "82562  how do i find friends to have adventures with ...   \n",
       "82563  oftain if someone will repeat a word directly ...   \n",
       "82564  the patterns of loosely related random words a...   \n",
       "82565  i've been struggling with mental illness (depr...   \n",
       "\n",
       "                                                   title  \\\n",
       "0          do you ever feel like not being alive anymore   \n",
       "1              why do depressed people shave their heads   \n",
       "2                             random urge to kill people   \n",
       "3            is slapping my arm when i’m anxious normal?   \n",
       "4      tips to find a psychiatrist that specializes i...   \n",
       "...                                                  ...   \n",
       "82561                            have you heard of this?   \n",
       "82562                        how do i stop my intensity?   \n",
       "82563                             does this have a name?   \n",
       "82564  do schizophrenics 'understand' other schizophr...   \n",
       "82565  does mental illness, with a suicide attempt, q...   \n",
       "\n",
       "                                            comment_body  \n",
       "0      As for anchors My only anchor is I need to be ...  \n",
       "1      I don’t know because I never had the urge but ...  \n",
       "2      You are a coward that can't handle the fact th...  \n",
       "3      'Normal' and 'crazy' aren't binary opposites, ...  \n",
       "4      I would assume the majority are aware of anxie...  \n",
       "...                                                  ...  \n",
       "82561  I assume you have some sort of existing medica...  \n",
       "82562  I have been diagnosed officially and I am not ...  \n",
       "82563  I asked my councillor but he wasn't too sure, ...  \n",
       "82564  I don't think it works that way. I do find tha...  \n",
       "82565  Yes. It is a life threatening illness. You wil...  \n",
       "\n",
       "[82566 rows x 3 columns]"
      ]
     },
     "execution_count": 37,
     "metadata": {},
     "output_type": "execute_result"
    }
   ],
   "source": [
    "all_data"
   ]
  },
  {
   "cell_type": "code",
   "execution_count": 38,
   "id": "e1badeeb",
   "metadata": {
    "ExecuteTime": {
     "end_time": "2022-10-23T21:18:44.921275Z",
     "start_time": "2022-10-23T21:18:43.650307Z"
    }
   },
   "outputs": [],
   "source": [
    "# lower all text\n",
    "all_data = all_data.apply(lambda x: x.str.lower())"
   ]
  },
  {
   "cell_type": "code",
   "execution_count": 5,
   "id": "a1764cb1",
   "metadata": {
    "ExecuteTime": {
     "end_time": "2022-10-23T20:38:34.635114Z",
     "start_time": "2022-10-23T20:38:34.590082Z"
    }
   },
   "outputs": [],
   "source": [
    "# convert to string\n",
    "all_data = all_data.astype('string')"
   ]
  },
  {
   "cell_type": "code",
   "execution_count": 39,
   "id": "9ace2eb1",
   "metadata": {
    "ExecuteTime": {
     "end_time": "2022-10-23T21:18:49.886115Z",
     "start_time": "2022-10-23T21:18:49.739619Z"
    }
   },
   "outputs": [],
   "source": [
    "# replace all duplicated post_body with null values\n",
    "duplicated = all_data.duplicated('post_body')\n",
    "all_data.loc[duplicated, ['post_body']] = \" \""
   ]
  },
  {
   "cell_type": "code",
   "execution_count": 7,
   "id": "4491355d",
   "metadata": {
    "ExecuteTime": {
     "end_time": "2022-10-19T17:40:06.936014Z",
     "start_time": "2022-10-19T17:40:06.705814Z"
    }
   },
   "outputs": [],
   "source": [
    "# merge title and post_body\n",
    "all_data['title'] = all_data['title'] + ' '  + all_data['post_body']"
   ]
  },
  {
   "cell_type": "code",
   "execution_count": 8,
   "id": "4d0764cf",
   "metadata": {
    "ExecuteTime": {
     "end_time": "2022-10-19T17:40:08.918274Z",
     "start_time": "2022-10-19T17:40:08.888265Z"
    }
   },
   "outputs": [],
   "source": [
    "all_data.drop(columns=['post_body'],inplace=True)"
   ]
  },
  {
   "cell_type": "code",
   "execution_count": 40,
   "id": "3b151555",
   "metadata": {
    "ExecuteTime": {
     "end_time": "2022-10-23T21:18:52.278863Z",
     "start_time": "2022-10-23T21:18:52.186773Z"
    }
   },
   "outputs": [],
   "source": [
    "all_data = all_data.dropna()"
   ]
  },
  {
   "cell_type": "code",
   "execution_count": 41,
   "id": "eb37f0f9",
   "metadata": {
    "ExecuteTime": {
     "end_time": "2022-10-23T21:18:57.295150Z",
     "start_time": "2022-10-23T21:18:54.050711Z"
    }
   },
   "outputs": [],
   "source": [
    "# remove links\n",
    "def remove_links(doc):\n",
    "    return [re.sub(r'^https?:\\/\\/.*[\\r\\n]*', '', token, flags=re.MULTILINE) for token in doc]\n",
    "all_data = all_data.apply(lambda x: remove_links(x))"
   ]
  },
  {
   "cell_type": "code",
   "execution_count": 9,
   "id": "2cc27cea",
   "metadata": {
    "ExecuteTime": {
     "end_time": "2022-10-23T20:47:40.438718Z",
     "start_time": "2022-10-23T20:39:07.678889Z"
    }
   },
   "outputs": [],
   "source": [
    "# remove punctuation\n",
    "import string\n",
    "punctuation = ['\\u200d','?', '....','..','...','','@','#', ',', '.', '\"', ':', ')', '(', '-', '!', '|', ';', \"'\", '$', '&', '/', '[', ']', '>', '%', '=', '*', '+', '\\\\', \n",
    "    '•', '~', '£', '·', '_', '{', '}', '©', '^', '®', '`',  '<', '→', '°', '€', '™', '›',  '♥', '←', '×', '§', '″', '′', 'Â', '█', \n",
    "    '½', 'à', '…', '“', '★', '”', '–', '●', 'â', '►', '−', '¢', '²', '¬', '░', '¶', '↑', '±', '¿', '▾', '═', '¦', '║', '―', '¥', '▓', \n",
    "    '—', '‹', '─', '▒', '：', '¼', '⊕', '▼', '▪', '†', '■', '’', '▀', '¨', '▄', '♫', '☆', 'é', '¯', '♦', '¤', '▲', 'è', '¸', '¾', \n",
    "    'Ã', '⋅', '‘', '∞', '∙', '）', '↓', '、', '│', '（', '»', '，', '♪', '╩', '╚', '³', '・', '╦', '╣', '╔', '╗', '▬', '❤', 'ï', 'Ø', \n",
    "    '¹', '≤', '‡', '√', '!','🅰','🅱', \"\\n\"]\n",
    "def remove_punct(string):\n",
    "    for el in string:\n",
    "        if el in punctuation:\n",
    "            string = string.replace(el, \"\")\n",
    "    return string\n",
    "all_data['title'] = all_data.title.apply(lambda x: remove_punct(x))\n",
    "all_data['comment_body'] = all_data.comment_body.apply(lambda x: remove_punct(x))\n",
    "all_data['post_body'] = all_data.post_body.apply(lambda x: remove_punct(x))"
   ]
  },
  {
   "cell_type": "code",
   "execution_count": 42,
   "id": "9a0e7a0b",
   "metadata": {
    "ExecuteTime": {
     "end_time": "2022-10-23T21:18:59.904269Z",
     "start_time": "2022-10-23T21:18:59.890259Z"
    }
   },
   "outputs": [
    {
     "data": {
      "text/html": [
       "<div>\n",
       "<style scoped>\n",
       "    .dataframe tbody tr th:only-of-type {\n",
       "        vertical-align: middle;\n",
       "    }\n",
       "\n",
       "    .dataframe tbody tr th {\n",
       "        vertical-align: top;\n",
       "    }\n",
       "\n",
       "    .dataframe thead th {\n",
       "        text-align: right;\n",
       "    }\n",
       "</style>\n",
       "<table border=\"1\" class=\"dataframe\">\n",
       "  <thead>\n",
       "    <tr style=\"text-align: right;\">\n",
       "      <th></th>\n",
       "      <th>post_body</th>\n",
       "      <th>title</th>\n",
       "      <th>comment_body</th>\n",
       "    </tr>\n",
       "  </thead>\n",
       "  <tbody>\n",
       "    <tr>\n",
       "      <th>0</th>\n",
       "      <td>i've been having these thoughts lately like\\n\\...</td>\n",
       "      <td>do you ever feel like not being alive anymore</td>\n",
       "      <td>as for anchors my only anchor is i need to be ...</td>\n",
       "    </tr>\n",
       "    <tr>\n",
       "      <th>1</th>\n",
       "      <td>i've been going through a hard time lately and...</td>\n",
       "      <td>why do depressed people shave their heads</td>\n",
       "      <td>i don’t know because i never had the urge but ...</td>\n",
       "    </tr>\n",
       "    <tr>\n",
       "      <th>2</th>\n",
       "      <td>idk why but every now and then i'll just get t...</td>\n",
       "      <td>random urge to kill people</td>\n",
       "      <td>you are a coward that can't handle the fact th...</td>\n",
       "    </tr>\n",
       "    <tr>\n",
       "      <th>3</th>\n",
       "      <td>when i get really anxious, i slap my arm and t...</td>\n",
       "      <td>is slapping my arm when i’m anxious normal?</td>\n",
       "      <td>'normal' and 'crazy' aren't binary opposites, ...</td>\n",
       "    </tr>\n",
       "    <tr>\n",
       "      <th>4</th>\n",
       "      <td>i’ve been to a few psychiatrists/therapists ov...</td>\n",
       "      <td>tips to find a psychiatrist that specializes i...</td>\n",
       "      <td>i would assume the majority are aware of anxie...</td>\n",
       "    </tr>\n",
       "    <tr>\n",
       "      <th>...</th>\n",
       "      <td>...</td>\n",
       "      <td>...</td>\n",
       "      <td>...</td>\n",
       "    </tr>\n",
       "    <tr>\n",
       "      <th>82561</th>\n",
       "      <td>i'm not looking for a diagnosis, just some ins...</td>\n",
       "      <td>have you heard of this?</td>\n",
       "      <td>i assume you have some sort of existing medica...</td>\n",
       "    </tr>\n",
       "    <tr>\n",
       "      <th>82562</th>\n",
       "      <td>how do i find friends to have adventures with ...</td>\n",
       "      <td>how do i stop my intensity?</td>\n",
       "      <td>i have been diagnosed officially and i am not ...</td>\n",
       "    </tr>\n",
       "    <tr>\n",
       "      <th>82563</th>\n",
       "      <td>oftain if someone will repeat a word directly ...</td>\n",
       "      <td>does this have a name?</td>\n",
       "      <td>i asked my councillor but he wasn't too sure, ...</td>\n",
       "    </tr>\n",
       "    <tr>\n",
       "      <th>82564</th>\n",
       "      <td>the patterns of loosely related random words a...</td>\n",
       "      <td>do schizophrenics 'understand' other schizophr...</td>\n",
       "      <td>i don't think it works that way. i do find tha...</td>\n",
       "    </tr>\n",
       "    <tr>\n",
       "      <th>82565</th>\n",
       "      <td>i've been struggling with mental illness (depr...</td>\n",
       "      <td>does mental illness, with a suicide attempt, q...</td>\n",
       "      <td>yes. it is a life threatening illness. you wil...</td>\n",
       "    </tr>\n",
       "  </tbody>\n",
       "</table>\n",
       "<p>82565 rows × 3 columns</p>\n",
       "</div>"
      ],
      "text/plain": [
       "                                               post_body  \\\n",
       "0      i've been having these thoughts lately like\\n\\...   \n",
       "1      i've been going through a hard time lately and...   \n",
       "2      idk why but every now and then i'll just get t...   \n",
       "3      when i get really anxious, i slap my arm and t...   \n",
       "4      i’ve been to a few psychiatrists/therapists ov...   \n",
       "...                                                  ...   \n",
       "82561  i'm not looking for a diagnosis, just some ins...   \n",
       "82562  how do i find friends to have adventures with ...   \n",
       "82563  oftain if someone will repeat a word directly ...   \n",
       "82564  the patterns of loosely related random words a...   \n",
       "82565  i've been struggling with mental illness (depr...   \n",
       "\n",
       "                                                   title  \\\n",
       "0          do you ever feel like not being alive anymore   \n",
       "1              why do depressed people shave their heads   \n",
       "2                             random urge to kill people   \n",
       "3            is slapping my arm when i’m anxious normal?   \n",
       "4      tips to find a psychiatrist that specializes i...   \n",
       "...                                                  ...   \n",
       "82561                            have you heard of this?   \n",
       "82562                        how do i stop my intensity?   \n",
       "82563                             does this have a name?   \n",
       "82564  do schizophrenics 'understand' other schizophr...   \n",
       "82565  does mental illness, with a suicide attempt, q...   \n",
       "\n",
       "                                            comment_body  \n",
       "0      as for anchors my only anchor is i need to be ...  \n",
       "1      i don’t know because i never had the urge but ...  \n",
       "2      you are a coward that can't handle the fact th...  \n",
       "3      'normal' and 'crazy' aren't binary opposites, ...  \n",
       "4      i would assume the majority are aware of anxie...  \n",
       "...                                                  ...  \n",
       "82561  i assume you have some sort of existing medica...  \n",
       "82562  i have been diagnosed officially and i am not ...  \n",
       "82563  i asked my councillor but he wasn't too sure, ...  \n",
       "82564  i don't think it works that way. i do find tha...  \n",
       "82565  yes. it is a life threatening illness. you wil...  \n",
       "\n",
       "[82565 rows x 3 columns]"
      ]
     },
     "execution_count": 42,
     "metadata": {},
     "output_type": "execute_result"
    }
   ],
   "source": [
    "all_data"
   ]
  },
  {
   "cell_type": "code",
   "execution_count": 11,
   "id": "862edd52",
   "metadata": {
    "ExecuteTime": {
     "end_time": "2022-10-23T20:47:58.781802Z",
     "start_time": "2022-10-23T20:47:53.998128Z"
    }
   },
   "outputs": [
    {
     "name": "stderr",
     "output_type": "stream",
     "text": [
      "C:\\Users\\Julia\\AppData\\Local\\Temp\\ipykernel_25384\\3207686.py:2: FutureWarning: The default value of regex will change from True to False in a future version.\n",
      "  all_data['title'] = all_data['title'].str.replace('\\\\d+', '')\n",
      "C:\\Users\\Julia\\AppData\\Local\\Temp\\ipykernel_25384\\3207686.py:3: FutureWarning: The default value of regex will change from True to False in a future version.\n",
      "  all_data['comment_body'] = all_data['comment_body'].str.replace('\\\\d+', '')\n",
      "C:\\Users\\Julia\\AppData\\Local\\Temp\\ipykernel_25384\\3207686.py:4: FutureWarning: The default value of regex will change from True to False in a future version.\n",
      "  all_data['post_body'] = all_data['post_body'].str.replace('\\\\d+', '')\n"
     ]
    }
   ],
   "source": [
    "# remove digits\n",
    "all_data['title'] = all_data['title'].str.replace('\\\\d+', '')\n",
    "all_data['comment_body'] = all_data['comment_body'].str.replace('\\\\d+', '')\n",
    "all_data['post_body'] = all_data['post_body'].str.replace('\\\\d+', '')"
   ]
  },
  {
   "cell_type": "code",
   "execution_count": 48,
   "id": "83ca0b2b",
   "metadata": {
    "ExecuteTime": {
     "end_time": "2022-10-20T18:32:26.828141Z",
     "start_time": "2022-10-20T18:32:10.543299Z"
    }
   },
   "outputs": [],
   "source": [
    "# expand contractions\n",
    "all_data['title'] = all_data.title.apply(lambda x: contractions.fix(x))\n",
    "all_data['comment_body'] = all_data.comment_body.apply(lambda x: contractions.fix(x))\n",
    "all_data['post_body'] = all_data.post_body.apply(lambda x: contractions.fix(x))"
   ]
  },
  {
   "cell_type": "code",
   "execution_count": 49,
   "id": "36414116",
   "metadata": {
    "ExecuteTime": {
     "end_time": "2022-10-20T18:50:11.356656Z",
     "start_time": "2022-10-20T18:32:36.983493Z"
    }
   },
   "outputs": [],
   "source": [
    "# remove emojis that weren't converted into text\n",
    "def remove_em(text):\n",
    "    dem = demoji.findall(text)\n",
    "    for item in dem.keys():\n",
    "        text = text.replace(item, \"\")\n",
    "    return text\n",
    "all_data['title'] = all_data.title.apply(remove_em)\n",
    "all_data['comment_body'] = all_data.comment_body.apply(remove_em)\n",
    "all_data['post_body'] = all_data.post_body.apply(remove_em)"
   ]
  },
  {
   "cell_type": "code",
   "execution_count": 43,
   "id": "5f74c7d0",
   "metadata": {
    "ExecuteTime": {
     "end_time": "2022-10-23T21:19:21.831031Z",
     "start_time": "2022-10-23T21:19:07.932292Z"
    }
   },
   "outputs": [],
   "source": [
    "# remove extra space between tokens\n",
    "def remove_space(string):\n",
    "    result = re.sub('\\\\s+',' ', string)\n",
    "    return result\n",
    "all_data['title'] = all_data.title.apply(remove_space)\n",
    "all_data['comment_body'] = all_data.comment_body.apply(remove_space)\n",
    "all_data['post_body'] = all_data.post_body.apply(remove_space)"
   ]
  },
  {
   "cell_type": "code",
   "execution_count": 20,
   "id": "ee2f1da0",
   "metadata": {
    "ExecuteTime": {
     "end_time": "2022-10-19T18:23:47.097182Z",
     "start_time": "2022-10-19T18:23:37.918400Z"
    }
   },
   "outputs": [],
   "source": [
    "# tokenize all text\n",
    "def word_tokenize(sentence):\n",
    "    return sentence.split()\n",
    "all_data = all_data.apply(lambda x: word_tokenize(x.str))"
   ]
  },
  {
   "cell_type": "code",
   "execution_count": 23,
   "id": "de951613",
   "metadata": {
    "ExecuteTime": {
     "end_time": "2022-10-19T18:26:37.829581Z",
     "start_time": "2022-10-19T18:26:37.823576Z"
    }
   },
   "outputs": [],
   "source": [
    "def get_wordnet_pos(word):\n",
    "    \"\"\"Map POS tag to first character lemmatize() accepts\"\"\"\n",
    "    tag = nltk.pos_tag([word])[0][1][0].upper()\n",
    "    tag_dict = {\"J\": wordnet.ADJ,\n",
    "                    \"N\": wordnet.NOUN,\n",
    "                    \"V\": wordnet.VERB,\n",
    "                    \"R\": wordnet.ADV}\n",
    "    return tag_dict.get(tag, wordnet.NOUN)"
   ]
  },
  {
   "cell_type": "code",
   "execution_count": 32,
   "id": "06c4e231",
   "metadata": {
    "ExecuteTime": {
     "end_time": "2022-10-20T00:51:49.189056Z",
     "start_time": "2022-10-19T18:28:50.552137Z"
    }
   },
   "outputs": [],
   "source": [
    "# Lemmatize words\n",
    "lemmatizer = WordNetLemmatizer()\n",
    "def lemmatize_text(x):\n",
    "    ''' This lemmatizer fuunction should work on a single list of tokenized data'''\n",
    "    # Turning list into a string\n",
    "    x = \" \".join(x)\n",
    "    # Returning a list again\n",
    "    return [lemmatizer.lemmatize(w, get_wordnet_pos(w)) for w in nltk.word_tokenize(x)]\n",
    "all_data['title'] = all_data.title.apply(lemmatize_text)\n",
    "all_data['comment_body'] = all_data.comment_body.apply(lemmatize_text)"
   ]
  },
  {
   "cell_type": "code",
   "execution_count": 44,
   "id": "abe0ada1",
   "metadata": {
    "ExecuteTime": {
     "end_time": "2022-10-23T21:19:26.897275Z",
     "start_time": "2022-10-23T21:19:26.882264Z"
    }
   },
   "outputs": [
    {
     "data": {
      "text/html": [
       "<div>\n",
       "<style scoped>\n",
       "    .dataframe tbody tr th:only-of-type {\n",
       "        vertical-align: middle;\n",
       "    }\n",
       "\n",
       "    .dataframe tbody tr th {\n",
       "        vertical-align: top;\n",
       "    }\n",
       "\n",
       "    .dataframe thead th {\n",
       "        text-align: right;\n",
       "    }\n",
       "</style>\n",
       "<table border=\"1\" class=\"dataframe\">\n",
       "  <thead>\n",
       "    <tr style=\"text-align: right;\">\n",
       "      <th></th>\n",
       "      <th>post_body</th>\n",
       "      <th>title</th>\n",
       "      <th>comment_body</th>\n",
       "    </tr>\n",
       "  </thead>\n",
       "  <tbody>\n",
       "    <tr>\n",
       "      <th>0</th>\n",
       "      <td>i've been having these thoughts lately like \"t...</td>\n",
       "      <td>do you ever feel like not being alive anymore</td>\n",
       "      <td>as for anchors my only anchor is i need to be ...</td>\n",
       "    </tr>\n",
       "    <tr>\n",
       "      <th>1</th>\n",
       "      <td>i've been going through a hard time lately and...</td>\n",
       "      <td>why do depressed people shave their heads</td>\n",
       "      <td>i don’t know because i never had the urge but ...</td>\n",
       "    </tr>\n",
       "    <tr>\n",
       "      <th>2</th>\n",
       "      <td>idk why but every now and then i'll just get t...</td>\n",
       "      <td>random urge to kill people</td>\n",
       "      <td>you are a coward that can't handle the fact th...</td>\n",
       "    </tr>\n",
       "    <tr>\n",
       "      <th>3</th>\n",
       "      <td>when i get really anxious, i slap my arm and t...</td>\n",
       "      <td>is slapping my arm when i’m anxious normal?</td>\n",
       "      <td>'normal' and 'crazy' aren't binary opposites, ...</td>\n",
       "    </tr>\n",
       "    <tr>\n",
       "      <th>4</th>\n",
       "      <td>i’ve been to a few psychiatrists/therapists ov...</td>\n",
       "      <td>tips to find a psychiatrist that specializes i...</td>\n",
       "      <td>i would assume the majority are aware of anxie...</td>\n",
       "    </tr>\n",
       "    <tr>\n",
       "      <th>...</th>\n",
       "      <td>...</td>\n",
       "      <td>...</td>\n",
       "      <td>...</td>\n",
       "    </tr>\n",
       "    <tr>\n",
       "      <th>82561</th>\n",
       "      <td>i'm not looking for a diagnosis, just some ins...</td>\n",
       "      <td>have you heard of this?</td>\n",
       "      <td>i assume you have some sort of existing medica...</td>\n",
       "    </tr>\n",
       "    <tr>\n",
       "      <th>82562</th>\n",
       "      <td>how do i find friends to have adventures with ...</td>\n",
       "      <td>how do i stop my intensity?</td>\n",
       "      <td>i have been diagnosed officially and i am not ...</td>\n",
       "    </tr>\n",
       "    <tr>\n",
       "      <th>82563</th>\n",
       "      <td>oftain if someone will repeat a word directly ...</td>\n",
       "      <td>does this have a name?</td>\n",
       "      <td>i asked my councillor but he wasn't too sure, ...</td>\n",
       "    </tr>\n",
       "    <tr>\n",
       "      <th>82564</th>\n",
       "      <td>the patterns of loosely related random words a...</td>\n",
       "      <td>do schizophrenics 'understand' other schizophr...</td>\n",
       "      <td>i don't think it works that way. i do find tha...</td>\n",
       "    </tr>\n",
       "    <tr>\n",
       "      <th>82565</th>\n",
       "      <td>i've been struggling with mental illness (depr...</td>\n",
       "      <td>does mental illness, with a suicide attempt, q...</td>\n",
       "      <td>yes. it is a life threatening illness. you wil...</td>\n",
       "    </tr>\n",
       "  </tbody>\n",
       "</table>\n",
       "<p>82565 rows × 3 columns</p>\n",
       "</div>"
      ],
      "text/plain": [
       "                                               post_body  \\\n",
       "0      i've been having these thoughts lately like \"t...   \n",
       "1      i've been going through a hard time lately and...   \n",
       "2      idk why but every now and then i'll just get t...   \n",
       "3      when i get really anxious, i slap my arm and t...   \n",
       "4      i’ve been to a few psychiatrists/therapists ov...   \n",
       "...                                                  ...   \n",
       "82561  i'm not looking for a diagnosis, just some ins...   \n",
       "82562  how do i find friends to have adventures with ...   \n",
       "82563  oftain if someone will repeat a word directly ...   \n",
       "82564  the patterns of loosely related random words a...   \n",
       "82565  i've been struggling with mental illness (depr...   \n",
       "\n",
       "                                                   title  \\\n",
       "0          do you ever feel like not being alive anymore   \n",
       "1              why do depressed people shave their heads   \n",
       "2                             random urge to kill people   \n",
       "3            is slapping my arm when i’m anxious normal?   \n",
       "4      tips to find a psychiatrist that specializes i...   \n",
       "...                                                  ...   \n",
       "82561                            have you heard of this?   \n",
       "82562                        how do i stop my intensity?   \n",
       "82563                             does this have a name?   \n",
       "82564  do schizophrenics 'understand' other schizophr...   \n",
       "82565  does mental illness, with a suicide attempt, q...   \n",
       "\n",
       "                                            comment_body  \n",
       "0      as for anchors my only anchor is i need to be ...  \n",
       "1      i don’t know because i never had the urge but ...  \n",
       "2      you are a coward that can't handle the fact th...  \n",
       "3      'normal' and 'crazy' aren't binary opposites, ...  \n",
       "4      i would assume the majority are aware of anxie...  \n",
       "...                                                  ...  \n",
       "82561  i assume you have some sort of existing medica...  \n",
       "82562  i have been diagnosed officially and i am not ...  \n",
       "82563  i asked my councillor but he wasn't too sure, ...  \n",
       "82564  i don't think it works that way. i do find tha...  \n",
       "82565  yes. it is a life threatening illness. you wil...  \n",
       "\n",
       "[82565 rows x 3 columns]"
      ]
     },
     "execution_count": 44,
     "metadata": {},
     "output_type": "execute_result"
    }
   ],
   "source": [
    "all_data"
   ]
  },
  {
   "cell_type": "code",
   "execution_count": 45,
   "id": "23b91a9e",
   "metadata": {
    "ExecuteTime": {
     "end_time": "2022-10-23T21:19:38.206741Z",
     "start_time": "2022-10-23T21:19:32.321788Z"
    }
   },
   "outputs": [],
   "source": [
    "all_data.to_csv('../Data/all_data2.csv',index=False)"
   ]
  },
  {
   "cell_type": "code",
   "execution_count": 46,
   "id": "62c2d913",
   "metadata": {
    "ExecuteTime": {
     "end_time": "2022-10-23T21:19:40.129214Z",
     "start_time": "2022-10-23T21:19:40.090677Z"
    }
   },
   "outputs": [],
   "source": [
    "#adding encoding for GPT to recognize the start of the text, the prompt ([WP]), followed by the comment\n",
    "#[RESPONSE], and the end of the text. I'm combining the two into one column so it can more easily be \n",
    "#assimilated into a .txt file.\n",
    "all_data['title'] = '<|startoftext|>[WP]' + all_data['title'].astype(str)"
   ]
  },
  {
   "cell_type": "code",
   "execution_count": 47,
   "id": "73bb9288",
   "metadata": {
    "ExecuteTime": {
     "end_time": "2022-10-23T21:19:51.587947Z",
     "start_time": "2022-10-23T21:19:50.195505Z"
    }
   },
   "outputs": [],
   "source": [
    "all_data['comment_body'] = '[RESPONSE]' + all_data['comment_body'].astype(str) + '<|endoftext|>'"
   ]
  },
  {
   "cell_type": "code",
   "execution_count": 48,
   "id": "c7673b62",
   "metadata": {
    "ExecuteTime": {
     "end_time": "2022-10-23T21:19:54.589711Z",
     "start_time": "2022-10-23T21:19:53.610399Z"
    }
   },
   "outputs": [],
   "source": [
    "all_data['GPT2_data'] = all_data[['title', 'comment_body']].agg(' '.join, axis='columns')"
   ]
  },
  {
   "cell_type": "code",
   "execution_count": 49,
   "id": "cf861d16",
   "metadata": {
    "ExecuteTime": {
     "end_time": "2022-10-23T21:19:56.381464Z",
     "start_time": "2022-10-23T21:19:56.329427Z"
    }
   },
   "outputs": [],
   "source": [
    "GPT2_data = all_data[['GPT2_data']].copy()"
   ]
  },
  {
   "cell_type": "code",
   "execution_count": 50,
   "id": "6be58bbd",
   "metadata": {
    "ExecuteTime": {
     "end_time": "2022-10-23T21:19:57.581114Z",
     "start_time": "2022-10-23T21:19:57.569103Z"
    }
   },
   "outputs": [
    {
     "data": {
      "text/html": [
       "<div>\n",
       "<style scoped>\n",
       "    .dataframe tbody tr th:only-of-type {\n",
       "        vertical-align: middle;\n",
       "    }\n",
       "\n",
       "    .dataframe tbody tr th {\n",
       "        vertical-align: top;\n",
       "    }\n",
       "\n",
       "    .dataframe thead th {\n",
       "        text-align: right;\n",
       "    }\n",
       "</style>\n",
       "<table border=\"1\" class=\"dataframe\">\n",
       "  <thead>\n",
       "    <tr style=\"text-align: right;\">\n",
       "      <th></th>\n",
       "      <th>GPT2_data</th>\n",
       "    </tr>\n",
       "  </thead>\n",
       "  <tbody>\n",
       "    <tr>\n",
       "      <th>0</th>\n",
       "      <td>&lt;|startoftext|&gt;[WP]do you ever feel like not b...</td>\n",
       "    </tr>\n",
       "    <tr>\n",
       "      <th>1</th>\n",
       "      <td>&lt;|startoftext|&gt;[WP]why do depressed people sha...</td>\n",
       "    </tr>\n",
       "    <tr>\n",
       "      <th>2</th>\n",
       "      <td>&lt;|startoftext|&gt;[WP]random urge to kill people ...</td>\n",
       "    </tr>\n",
       "    <tr>\n",
       "      <th>3</th>\n",
       "      <td>&lt;|startoftext|&gt;[WP]is slapping my arm when i’m...</td>\n",
       "    </tr>\n",
       "    <tr>\n",
       "      <th>4</th>\n",
       "      <td>&lt;|startoftext|&gt;[WP]tips to find a psychiatrist...</td>\n",
       "    </tr>\n",
       "    <tr>\n",
       "      <th>...</th>\n",
       "      <td>...</td>\n",
       "    </tr>\n",
       "    <tr>\n",
       "      <th>82561</th>\n",
       "      <td>&lt;|startoftext|&gt;[WP]have you heard of this? [RE...</td>\n",
       "    </tr>\n",
       "    <tr>\n",
       "      <th>82562</th>\n",
       "      <td>&lt;|startoftext|&gt;[WP]how do i stop my intensity?...</td>\n",
       "    </tr>\n",
       "    <tr>\n",
       "      <th>82563</th>\n",
       "      <td>&lt;|startoftext|&gt;[WP]does this have a name? [RES...</td>\n",
       "    </tr>\n",
       "    <tr>\n",
       "      <th>82564</th>\n",
       "      <td>&lt;|startoftext|&gt;[WP]do schizophrenics 'understa...</td>\n",
       "    </tr>\n",
       "    <tr>\n",
       "      <th>82565</th>\n",
       "      <td>&lt;|startoftext|&gt;[WP]does mental illness, with a...</td>\n",
       "    </tr>\n",
       "  </tbody>\n",
       "</table>\n",
       "<p>82565 rows × 1 columns</p>\n",
       "</div>"
      ],
      "text/plain": [
       "                                               GPT2_data\n",
       "0      <|startoftext|>[WP]do you ever feel like not b...\n",
       "1      <|startoftext|>[WP]why do depressed people sha...\n",
       "2      <|startoftext|>[WP]random urge to kill people ...\n",
       "3      <|startoftext|>[WP]is slapping my arm when i’m...\n",
       "4      <|startoftext|>[WP]tips to find a psychiatrist...\n",
       "...                                                  ...\n",
       "82561  <|startoftext|>[WP]have you heard of this? [RE...\n",
       "82562  <|startoftext|>[WP]how do i stop my intensity?...\n",
       "82563  <|startoftext|>[WP]does this have a name? [RES...\n",
       "82564  <|startoftext|>[WP]do schizophrenics 'understa...\n",
       "82565  <|startoftext|>[WP]does mental illness, with a...\n",
       "\n",
       "[82565 rows x 1 columns]"
      ]
     },
     "execution_count": 50,
     "metadata": {},
     "output_type": "execute_result"
    }
   ],
   "source": [
    "GPT2_data"
   ]
  },
  {
   "cell_type": "code",
   "execution_count": 51,
   "id": "5324f20c",
   "metadata": {
    "ExecuteTime": {
     "end_time": "2022-10-23T21:20:06.595296Z",
     "start_time": "2022-10-23T21:20:02.770359Z"
    }
   },
   "outputs": [],
   "source": [
    "GPT2_data.to_csv(\"../Data/GPT2_data.csv\", index=False)"
   ]
  },
  {
   "cell_type": "code",
   "execution_count": 52,
   "id": "6c9f0db4",
   "metadata": {
    "ExecuteTime": {
     "end_time": "2022-10-23T21:20:09.748053Z",
     "start_time": "2022-10-23T21:20:08.065492Z"
    }
   },
   "outputs": [],
   "source": [
    "#conversion to .txt\n",
    "with open('../Data/GPT2_data.csv', 'r', encoding=\"utf8\") as inp, open('../Data/GPT2_data.txt', 'w', encoding='utf-8') as out:\n",
    "    for line in inp:\n",
    "        line = line.replace(',', ':')\n",
    "        out.write(line)"
   ]
  },
  {
   "cell_type": "code",
   "execution_count": 2,
   "id": "63b5cfb3",
   "metadata": {
    "ExecuteTime": {
     "end_time": "2022-10-23T21:39:32.580407Z",
     "start_time": "2022-10-23T21:39:29.371118Z"
    }
   },
   "outputs": [],
   "source": [
    "all_data2 = pd.read_csv('../Data/all_data2.csv')"
   ]
  },
  {
   "cell_type": "markdown",
   "id": "fc8286ae",
   "metadata": {},
   "source": [
    "# Sentiment analysis and EDA"
   ]
  },
  {
   "cell_type": "code",
   "execution_count": 3,
   "id": "cc73f7fa",
   "metadata": {
    "ExecuteTime": {
     "end_time": "2022-10-23T21:39:33.481828Z",
     "start_time": "2022-10-23T21:39:33.418785Z"
    }
   },
   "outputs": [],
   "source": [
    "all_data2 = all_data2.drop(columns=['post_body'])"
   ]
  },
  {
   "cell_type": "code",
   "execution_count": 4,
   "id": "c9159a0f",
   "metadata": {
    "ExecuteTime": {
     "end_time": "2022-10-23T21:39:34.444165Z",
     "start_time": "2022-10-23T21:39:34.419147Z"
    }
   },
   "outputs": [
    {
     "data": {
      "text/html": [
       "<div>\n",
       "<style scoped>\n",
       "    .dataframe tbody tr th:only-of-type {\n",
       "        vertical-align: middle;\n",
       "    }\n",
       "\n",
       "    .dataframe tbody tr th {\n",
       "        vertical-align: top;\n",
       "    }\n",
       "\n",
       "    .dataframe thead th {\n",
       "        text-align: right;\n",
       "    }\n",
       "</style>\n",
       "<table border=\"1\" class=\"dataframe\">\n",
       "  <thead>\n",
       "    <tr style=\"text-align: right;\">\n",
       "      <th></th>\n",
       "      <th>title</th>\n",
       "      <th>comment_body</th>\n",
       "    </tr>\n",
       "  </thead>\n",
       "  <tbody>\n",
       "    <tr>\n",
       "      <th>0</th>\n",
       "      <td>do you ever feel like not being alive anymore</td>\n",
       "      <td>as for anchors my only anchor is i need to be ...</td>\n",
       "    </tr>\n",
       "    <tr>\n",
       "      <th>1</th>\n",
       "      <td>why do depressed people shave their heads</td>\n",
       "      <td>i don’t know because i never had the urge but ...</td>\n",
       "    </tr>\n",
       "    <tr>\n",
       "      <th>2</th>\n",
       "      <td>random urge to kill people</td>\n",
       "      <td>you are a coward that can't handle the fact th...</td>\n",
       "    </tr>\n",
       "    <tr>\n",
       "      <th>3</th>\n",
       "      <td>is slapping my arm when i’m anxious normal?</td>\n",
       "      <td>'normal' and 'crazy' aren't binary opposites, ...</td>\n",
       "    </tr>\n",
       "    <tr>\n",
       "      <th>4</th>\n",
       "      <td>tips to find a psychiatrist that specializes i...</td>\n",
       "      <td>i would assume the majority are aware of anxie...</td>\n",
       "    </tr>\n",
       "    <tr>\n",
       "      <th>...</th>\n",
       "      <td>...</td>\n",
       "      <td>...</td>\n",
       "    </tr>\n",
       "    <tr>\n",
       "      <th>82560</th>\n",
       "      <td>have you heard of this?</td>\n",
       "      <td>i assume you have some sort of existing medica...</td>\n",
       "    </tr>\n",
       "    <tr>\n",
       "      <th>82561</th>\n",
       "      <td>how do i stop my intensity?</td>\n",
       "      <td>i have been diagnosed officially and i am not ...</td>\n",
       "    </tr>\n",
       "    <tr>\n",
       "      <th>82562</th>\n",
       "      <td>does this have a name?</td>\n",
       "      <td>i asked my councillor but he wasn't too sure, ...</td>\n",
       "    </tr>\n",
       "    <tr>\n",
       "      <th>82563</th>\n",
       "      <td>do schizophrenics 'understand' other schizophr...</td>\n",
       "      <td>i don't think it works that way. i do find tha...</td>\n",
       "    </tr>\n",
       "    <tr>\n",
       "      <th>82564</th>\n",
       "      <td>does mental illness, with a suicide attempt, q...</td>\n",
       "      <td>yes. it is a life threatening illness. you wil...</td>\n",
       "    </tr>\n",
       "  </tbody>\n",
       "</table>\n",
       "<p>82565 rows × 2 columns</p>\n",
       "</div>"
      ],
      "text/plain": [
       "                                                   title  \\\n",
       "0          do you ever feel like not being alive anymore   \n",
       "1              why do depressed people shave their heads   \n",
       "2                             random urge to kill people   \n",
       "3            is slapping my arm when i’m anxious normal?   \n",
       "4      tips to find a psychiatrist that specializes i...   \n",
       "...                                                  ...   \n",
       "82560                            have you heard of this?   \n",
       "82561                        how do i stop my intensity?   \n",
       "82562                             does this have a name?   \n",
       "82563  do schizophrenics 'understand' other schizophr...   \n",
       "82564  does mental illness, with a suicide attempt, q...   \n",
       "\n",
       "                                            comment_body  \n",
       "0      as for anchors my only anchor is i need to be ...  \n",
       "1      i don’t know because i never had the urge but ...  \n",
       "2      you are a coward that can't handle the fact th...  \n",
       "3      'normal' and 'crazy' aren't binary opposites, ...  \n",
       "4      i would assume the majority are aware of anxie...  \n",
       "...                                                  ...  \n",
       "82560  i assume you have some sort of existing medica...  \n",
       "82561  i have been diagnosed officially and i am not ...  \n",
       "82562  i asked my councillor but he wasn't too sure, ...  \n",
       "82563  i don't think it works that way. i do find tha...  \n",
       "82564  yes. it is a life threatening illness. you wil...  \n",
       "\n",
       "[82565 rows x 2 columns]"
      ]
     },
     "execution_count": 4,
     "metadata": {},
     "output_type": "execute_result"
    }
   ],
   "source": [
    "all_data2"
   ]
  },
  {
   "cell_type": "code",
   "execution_count": 65,
   "id": "a4092b2b",
   "metadata": {
    "ExecuteTime": {
     "end_time": "2022-10-23T21:34:33.988179Z",
     "start_time": "2022-10-23T21:34:27.109428Z"
    }
   },
   "outputs": [
    {
     "name": "stdout",
     "output_type": "stream",
     "text": [
      "Collecting wasabi==0.9.1Note: you may need to restart the kernel to use updated packages.\n",
      "\n",
      "  Downloading wasabi-0.9.1-py3-none-any.whl (26 kB)\n",
      "Installing collected packages: wasabi\n",
      "  Attempting uninstall: wasabi\n",
      "    Found existing installation: wasabi 0.10.0\n",
      "    Uninstalling wasabi-0.10.0:\n",
      "      Successfully uninstalled wasabi-0.10.0\n",
      "Successfully installed wasabi-0.9.1\n"
     ]
    },
    {
     "name": "stderr",
     "output_type": "stream",
     "text": [
      "ERROR: pip's dependency resolver does not currently take into account all the packages that are installed. This behaviour is the source of the following dependency conflicts.\n",
      "thinc 8.0.15 requires pydantic!=1.8,!=1.8.1,<1.9.0,>=1.7.4, but you have pydantic 1.9.0 which is incompatible.\n",
      "spacy 3.3.1 requires pydantic!=1.8,!=1.8.1,<1.9.0,>=1.7.4, but you have pydantic 1.9.0 which is incompatible.\n"
     ]
    }
   ],
   "source": [
    "pip install wasabi==0.9.1"
   ]
  },
  {
   "cell_type": "code",
   "execution_count": 7,
   "id": "343c41b5",
   "metadata": {
    "ExecuteTime": {
     "end_time": "2022-10-23T21:38:45.756305Z",
     "start_time": "2022-10-23T21:38:27.146710Z"
    }
   },
   "outputs": [
    {
     "name": "stdout",
     "output_type": "stream",
     "text": [
      "Collecting https://github.com/explosion/spacy-models/releases/download/en_core_web_sm-2.2.0/en_core_web_sm-2.2.0.tar.gzNote: you may need to restart the kernel to use updated packages.\n"
     ]
    },
    {
     "name": "stderr",
     "output_type": "stream",
     "text": [
      "ERROR: Could not install packages due to an OSError: [WinError 5] Access is denied: 'C:\\\\Users\\\\Julia\\\\anaconda3\\\\Lib\\\\site-packages\\\\~ydantic\\\\annotated_types.cp39-win_amd64.pyd'\n",
      "Consider using the `--user` option or check the permissions.\n",
      "\n"
     ]
    },
    {
     "name": "stdout",
     "output_type": "stream",
     "text": [
      "\n",
      "  Downloading https://github.com/explosion/spacy-models/releases/download/en_core_web_sm-2.2.0/en_core_web_sm-2.2.0.tar.gz (12.0 MB)\n",
      "     --------------------------------------- 12.0/12.0 MB 18.7 MB/s eta 0:00:00\n",
      "  Preparing metadata (setup.py): started\n",
      "  Preparing metadata (setup.py): finished with status 'done'\n",
      "Requirement already satisfied: spacy>=2.2.0 in c:\\users\\julia\\anaconda3\\lib\\site-packages (from en-core-web-sm==2.2.0) (3.3.1)\n",
      "Requirement already satisfied: typer<0.5.0,>=0.3.0 in c:\\users\\julia\\anaconda3\\lib\\site-packages (from spacy>=2.2.0->en-core-web-sm==2.2.0) (0.4.2)\n",
      "Requirement already satisfied: jinja2 in c:\\users\\julia\\anaconda3\\lib\\site-packages (from spacy>=2.2.0->en-core-web-sm==2.2.0) (2.11.3)\n",
      "Requirement already satisfied: pathy>=0.3.5 in c:\\users\\julia\\anaconda3\\lib\\site-packages (from spacy>=2.2.0->en-core-web-sm==2.2.0) (0.6.2)\n",
      "Requirement already satisfied: tqdm<5.0.0,>=4.38.0 in c:\\users\\julia\\anaconda3\\lib\\site-packages (from spacy>=2.2.0->en-core-web-sm==2.2.0) (4.64.1)\n",
      "Requirement already satisfied: catalogue<2.1.0,>=2.0.6 in c:\\users\\julia\\anaconda3\\lib\\site-packages (from spacy>=2.2.0->en-core-web-sm==2.2.0) (2.0.8)\n",
      "Requirement already satisfied: spacy-legacy<3.1.0,>=3.0.9 in c:\\users\\julia\\anaconda3\\lib\\site-packages (from spacy>=2.2.0->en-core-web-sm==2.2.0) (3.0.10)\n",
      "Requirement already satisfied: srsly<3.0.0,>=2.4.3 in c:\\users\\julia\\anaconda3\\lib\\site-packages (from spacy>=2.2.0->en-core-web-sm==2.2.0) (2.4.3)\n",
      "Requirement already satisfied: spacy-loggers<2.0.0,>=1.0.0 in c:\\users\\julia\\anaconda3\\lib\\site-packages (from spacy>=2.2.0->en-core-web-sm==2.2.0) (1.0.3)\n",
      "Requirement already satisfied: packaging>=20.0 in c:\\users\\julia\\anaconda3\\lib\\site-packages (from spacy>=2.2.0->en-core-web-sm==2.2.0) (21.3)\n",
      "Requirement already satisfied: blis<0.8.0,>=0.4.0 in c:\\users\\julia\\anaconda3\\lib\\site-packages (from spacy>=2.2.0->en-core-web-sm==2.2.0) (0.7.8)\n",
      "Requirement already satisfied: requests<3.0.0,>=2.13.0 in c:\\users\\julia\\anaconda3\\lib\\site-packages (from spacy>=2.2.0->en-core-web-sm==2.2.0) (2.28.1)\n",
      "Requirement already satisfied: cymem<2.1.0,>=2.0.2 in c:\\users\\julia\\anaconda3\\lib\\site-packages (from spacy>=2.2.0->en-core-web-sm==2.2.0) (2.0.6)\n",
      "Collecting pydantic!=1.8,!=1.8.1,<1.9.0,>=1.7.4\n",
      "  Downloading pydantic-1.8.2-cp39-cp39-win_amd64.whl (1.9 MB)\n",
      "     ---------------------------------------- 1.9/1.9 MB 15.5 MB/s eta 0:00:00\n",
      "Requirement already satisfied: setuptools in c:\\users\\julia\\anaconda3\\lib\\site-packages (from spacy>=2.2.0->en-core-web-sm==2.2.0) (63.4.1)\n",
      "Requirement already satisfied: thinc<8.1.0,>=8.0.14 in c:\\users\\julia\\anaconda3\\lib\\site-packages (from spacy>=2.2.0->en-core-web-sm==2.2.0) (8.0.15)\n",
      "Requirement already satisfied: wasabi<1.1.0,>=0.9.1 in c:\\users\\julia\\anaconda3\\lib\\site-packages (from spacy>=2.2.0->en-core-web-sm==2.2.0) (0.9.1)\n",
      "Requirement already satisfied: numpy>=1.15.0 in c:\\users\\julia\\anaconda3\\lib\\site-packages (from spacy>=2.2.0->en-core-web-sm==2.2.0) (1.21.5)\n",
      "Requirement already satisfied: murmurhash<1.1.0,>=0.28.0 in c:\\users\\julia\\anaconda3\\lib\\site-packages (from spacy>=2.2.0->en-core-web-sm==2.2.0) (1.0.7)\n",
      "Requirement already satisfied: preshed<3.1.0,>=3.0.2 in c:\\users\\julia\\anaconda3\\lib\\site-packages (from spacy>=2.2.0->en-core-web-sm==2.2.0) (3.0.6)\n",
      "Requirement already satisfied: langcodes<4.0.0,>=3.2.0 in c:\\users\\julia\\anaconda3\\lib\\site-packages (from spacy>=2.2.0->en-core-web-sm==2.2.0) (3.3.0)\n",
      "Requirement already satisfied: pyparsing!=3.0.5,>=2.0.2 in c:\\users\\julia\\anaconda3\\lib\\site-packages (from packaging>=20.0->spacy>=2.2.0->en-core-web-sm==2.2.0) (3.0.9)\n",
      "Requirement already satisfied: smart-open<6.0.0,>=5.2.1 in c:\\users\\julia\\anaconda3\\lib\\site-packages (from pathy>=0.3.5->spacy>=2.2.0->en-core-web-sm==2.2.0) (5.2.1)\n",
      "Requirement already satisfied: typing-extensions>=3.7.4.3 in c:\\users\\julia\\anaconda3\\lib\\site-packages (from pydantic!=1.8,!=1.8.1,<1.9.0,>=1.7.4->spacy>=2.2.0->en-core-web-sm==2.2.0) (4.3.0)\n",
      "Requirement already satisfied: certifi>=2017.4.17 in c:\\users\\julia\\anaconda3\\lib\\site-packages (from requests<3.0.0,>=2.13.0->spacy>=2.2.0->en-core-web-sm==2.2.0) (2022.9.24)\n",
      "Requirement already satisfied: urllib3<1.27,>=1.21.1 in c:\\users\\julia\\anaconda3\\lib\\site-packages (from requests<3.0.0,>=2.13.0->spacy>=2.2.0->en-core-web-sm==2.2.0) (1.26.11)\n",
      "Requirement already satisfied: idna<4,>=2.5 in c:\\users\\julia\\anaconda3\\lib\\site-packages (from requests<3.0.0,>=2.13.0->spacy>=2.2.0->en-core-web-sm==2.2.0) (3.3)\n",
      "Requirement already satisfied: charset-normalizer<3,>=2 in c:\\users\\julia\\anaconda3\\lib\\site-packages (from requests<3.0.0,>=2.13.0->spacy>=2.2.0->en-core-web-sm==2.2.0) (2.0.4)\n",
      "Requirement already satisfied: colorama in c:\\users\\julia\\anaconda3\\lib\\site-packages (from tqdm<5.0.0,>=4.38.0->spacy>=2.2.0->en-core-web-sm==2.2.0) (0.4.5)\n",
      "Requirement already satisfied: click<9.0.0,>=7.1.1 in c:\\users\\julia\\anaconda3\\lib\\site-packages (from typer<0.5.0,>=0.3.0->spacy>=2.2.0->en-core-web-sm==2.2.0) (7.1.2)\n",
      "Requirement already satisfied: MarkupSafe>=0.23 in c:\\users\\julia\\anaconda3\\lib\\site-packages (from jinja2->spacy>=2.2.0->en-core-web-sm==2.2.0) (2.0.1)\n",
      "Building wheels for collected packages: en-core-web-sm\n",
      "  Building wheel for en-core-web-sm (setup.py): started\n",
      "  Building wheel for en-core-web-sm (setup.py): finished with status 'done'\n",
      "  Created wheel for en-core-web-sm: filename=en_core_web_sm-2.2.0-py3-none-any.whl size=12019105 sha256=a6c019b06de404d4329d13e6376247a32875b72606ce315a99f4916ab7ba17c3\n",
      "  Stored in directory: c:\\users\\julia\\appdata\\local\\pip\\cache\\wheels\\02\\87\\47\\4d729a97cc46afa46135595b4de32d01461f05947df39166d7\n",
      "Successfully built en-core-web-sm\n",
      "Installing collected packages: pydantic, en-core-web-sm\n",
      "  Attempting uninstall: pydantic\n",
      "    Found existing installation: pydantic 1.9.0\n",
      "    Uninstalling pydantic-1.9.0:\n",
      "      Successfully uninstalled pydantic-1.9.0\n"
     ]
    }
   ],
   "source": [
    "pip install https://github.com/explosion/spacy-models/releases/download/en_core_web_sm-2.2.0/en_core_web_sm-2.2.0.tar.gz"
   ]
  },
  {
   "cell_type": "code",
   "execution_count": 8,
   "id": "fd23d1a5",
   "metadata": {
    "ExecuteTime": {
     "end_time": "2022-10-23T21:41:32.816128Z",
     "start_time": "2022-10-23T21:41:32.113548Z"
    }
   },
   "outputs": [],
   "source": [
    "import spacy\n",
    "nlp = spacy.load('en_core_web_sm',disable=['parser', 'ner'])"
   ]
  },
  {
   "cell_type": "code",
   "execution_count": null,
   "id": "a0d2d161",
   "metadata": {},
   "outputs": [],
   "source": [
    "all_data2['lemmatized_title']=all_data2['title'].apply(lambda x: ' '.join([token.lemma_ for token in list(nlp(x)) if (token.is_stop==False)]))"
   ]
  },
  {
   "cell_type": "code",
   "execution_count": null,
   "id": "3331116c",
   "metadata": {},
   "outputs": [],
   "source": []
  },
  {
   "cell_type": "code",
   "execution_count": 64,
   "id": "4e5f573d",
   "metadata": {
    "ExecuteTime": {
     "end_time": "2022-10-23T21:31:55.419659Z",
     "start_time": "2022-10-23T21:31:55.191406Z"
    }
   },
   "outputs": [
    {
     "ename": "UnsupportedOperation",
     "evalue": "fileno",
     "output_type": "error",
     "traceback": [
      "\u001b[1;31m---------------------------------------------------------------------------\u001b[0m",
      "\u001b[1;31mUnsupportedOperation\u001b[0m                      Traceback (most recent call last)",
      "Input \u001b[1;32mIn [64]\u001b[0m, in \u001b[0;36m<cell line: 1>\u001b[1;34m()\u001b[0m\n\u001b[1;32m----> 1\u001b[0m \u001b[38;5;28;01mimport\u001b[39;00m \u001b[38;5;21;01mspacy\u001b[39;00m\n\u001b[0;32m      2\u001b[0m nlp \u001b[38;5;241m=\u001b[39m spacy\u001b[38;5;241m.\u001b[39mload(\u001b[38;5;124m'\u001b[39m\u001b[38;5;124men_core_web_sm\u001b[39m\u001b[38;5;124m'\u001b[39m)\n",
      "File \u001b[1;32m~\\anaconda3\\lib\\site-packages\\spacy\\__init__.py:11\u001b[0m, in \u001b[0;36m<module>\u001b[1;34m\u001b[0m\n\u001b[0;32m      8\u001b[0m setup_default_warnings()  \u001b[38;5;66;03m# noqa: E402\u001b[39;00m\n\u001b[0;32m     10\u001b[0m \u001b[38;5;66;03m# These are imported as part of the API\u001b[39;00m\n\u001b[1;32m---> 11\u001b[0m \u001b[38;5;28;01mfrom\u001b[39;00m \u001b[38;5;21;01mthinc\u001b[39;00m\u001b[38;5;21;01m.\u001b[39;00m\u001b[38;5;21;01mapi\u001b[39;00m \u001b[38;5;28;01mimport\u001b[39;00m prefer_gpu, require_gpu, require_cpu  \u001b[38;5;66;03m# noqa: F401\u001b[39;00m\n\u001b[0;32m     12\u001b[0m \u001b[38;5;28;01mfrom\u001b[39;00m \u001b[38;5;21;01mthinc\u001b[39;00m\u001b[38;5;21;01m.\u001b[39;00m\u001b[38;5;21;01mapi\u001b[39;00m \u001b[38;5;28;01mimport\u001b[39;00m Config\n\u001b[0;32m     14\u001b[0m \u001b[38;5;28;01mfrom\u001b[39;00m \u001b[38;5;21;01m.\u001b[39;00m \u001b[38;5;28;01mimport\u001b[39;00m pipeline  \u001b[38;5;66;03m# noqa: F401\u001b[39;00m\n",
      "File \u001b[1;32m~\\anaconda3\\lib\\site-packages\\thinc\\__init__.py:5\u001b[0m, in \u001b[0;36m<module>\u001b[1;34m\u001b[0m\n\u001b[0;32m      2\u001b[0m \u001b[38;5;28;01mimport\u001b[39;00m \u001b[38;5;21;01mnumpy\u001b[39;00m\n\u001b[0;32m      4\u001b[0m \u001b[38;5;28;01mfrom\u001b[39;00m \u001b[38;5;21;01m.\u001b[39;00m\u001b[38;5;21;01mabout\u001b[39;00m \u001b[38;5;28;01mimport\u001b[39;00m __version__\n\u001b[1;32m----> 5\u001b[0m \u001b[38;5;28;01mfrom\u001b[39;00m \u001b[38;5;21;01m.\u001b[39;00m\u001b[38;5;21;01mconfig\u001b[39;00m \u001b[38;5;28;01mimport\u001b[39;00m registry\n",
      "File \u001b[1;32m~\\anaconda3\\lib\\site-packages\\thinc\\config.py:13\u001b[0m, in \u001b[0;36m<module>\u001b[1;34m\u001b[0m\n\u001b[0;32m     11\u001b[0m \u001b[38;5;28;01mfrom\u001b[39;00m \u001b[38;5;21;01mpydantic\u001b[39;00m\u001b[38;5;21;01m.\u001b[39;00m\u001b[38;5;21;01mmain\u001b[39;00m \u001b[38;5;28;01mimport\u001b[39;00m ModelMetaclass\n\u001b[0;32m     12\u001b[0m \u001b[38;5;28;01mfrom\u001b[39;00m \u001b[38;5;21;01mpydantic\u001b[39;00m\u001b[38;5;21;01m.\u001b[39;00m\u001b[38;5;21;01mfields\u001b[39;00m \u001b[38;5;28;01mimport\u001b[39;00m ModelField\n\u001b[1;32m---> 13\u001b[0m \u001b[38;5;28;01mfrom\u001b[39;00m \u001b[38;5;21;01mwasabi\u001b[39;00m \u001b[38;5;28;01mimport\u001b[39;00m table\n\u001b[0;32m     14\u001b[0m \u001b[38;5;28;01mimport\u001b[39;00m \u001b[38;5;21;01msrsly\u001b[39;00m\n\u001b[0;32m     15\u001b[0m \u001b[38;5;28;01mimport\u001b[39;00m \u001b[38;5;21;01mcatalogue\u001b[39;00m\n",
      "File \u001b[1;32m~\\anaconda3\\lib\\site-packages\\wasabi\\__init__.py:12\u001b[0m, in \u001b[0;36m<module>\u001b[1;34m\u001b[0m\n\u001b[0;32m      9\u001b[0m \u001b[38;5;28;01mfrom\u001b[39;00m \u001b[38;5;21;01m.\u001b[39;00m\u001b[38;5;21;01mutil\u001b[39;00m \u001b[38;5;28;01mimport\u001b[39;00m MESSAGES  \u001b[38;5;66;03m# noqa\u001b[39;00m\n\u001b[0;32m     10\u001b[0m \u001b[38;5;28;01mfrom\u001b[39;00m \u001b[38;5;21;01m.\u001b[39;00m\u001b[38;5;21;01mabout\u001b[39;00m \u001b[38;5;28;01mimport\u001b[39;00m __version__  \u001b[38;5;66;03m# noqa\u001b[39;00m\n\u001b[1;32m---> 12\u001b[0m msg \u001b[38;5;241m=\u001b[39m \u001b[43mPrinter\u001b[49m\u001b[43m(\u001b[49m\u001b[43m)\u001b[49m\n",
      "File \u001b[1;32m~\\anaconda3\\lib\\site-packages\\wasabi\\printer.py:56\u001b[0m, in \u001b[0;36mPrinter.__init__\u001b[1;34m(self, pretty, no_print, colors, icons, line_max, animation, animation_ascii, hide_animation, ignore_warnings, env_prefix, timestamp)\u001b[0m\n\u001b[0;32m     54\u001b[0m \u001b[38;5;28mself\u001b[39m\u001b[38;5;241m.\u001b[39mpretty \u001b[38;5;241m=\u001b[39m pretty \u001b[38;5;129;01mand\u001b[39;00m \u001b[38;5;129;01mnot\u001b[39;00m env_no_pretty\n\u001b[0;32m     55\u001b[0m \u001b[38;5;28mself\u001b[39m\u001b[38;5;241m.\u001b[39mno_print \u001b[38;5;241m=\u001b[39m no_print\n\u001b[1;32m---> 56\u001b[0m \u001b[38;5;28mself\u001b[39m\u001b[38;5;241m.\u001b[39mshow_color \u001b[38;5;241m=\u001b[39m \u001b[43msupports_ansi\u001b[49m\u001b[43m(\u001b[49m\u001b[43m)\u001b[49m \u001b[38;5;129;01mand\u001b[39;00m \u001b[38;5;129;01mnot\u001b[39;00m env_log_friendly\n\u001b[0;32m     57\u001b[0m \u001b[38;5;28mself\u001b[39m\u001b[38;5;241m.\u001b[39mhide_animation \u001b[38;5;241m=\u001b[39m hide_animation \u001b[38;5;129;01mor\u001b[39;00m env_log_friendly\n\u001b[0;32m     58\u001b[0m \u001b[38;5;28mself\u001b[39m\u001b[38;5;241m.\u001b[39mignore_warnings \u001b[38;5;241m=\u001b[39m ignore_warnings\n",
      "File \u001b[1;32m~\\anaconda3\\lib\\site-packages\\wasabi\\util.py:264\u001b[0m, in \u001b[0;36msupports_ansi\u001b[1;34m()\u001b[0m\n\u001b[0;32m    262\u001b[0m     \u001b[38;5;28;01mif\u001b[39;00m \u001b[38;5;124m\"\u001b[39m\u001b[38;5;124mANSICON\u001b[39m\u001b[38;5;124m\"\u001b[39m \u001b[38;5;129;01min\u001b[39;00m os\u001b[38;5;241m.\u001b[39menviron:\n\u001b[0;32m    263\u001b[0m         \u001b[38;5;28;01mreturn\u001b[39;00m \u001b[38;5;28;01mTrue\u001b[39;00m\n\u001b[1;32m--> 264\u001b[0m     \u001b[38;5;28;01mreturn\u001b[39;00m \u001b[43m_windows_console_supports_ansi\u001b[49m\u001b[43m(\u001b[49m\u001b[43m)\u001b[49m\n\u001b[0;32m    266\u001b[0m \u001b[38;5;28;01mreturn\u001b[39;00m \u001b[38;5;28;01mTrue\u001b[39;00m\n",
      "File \u001b[1;32m~\\anaconda3\\lib\\site-packages\\wasabi\\util.py:236\u001b[0m, in \u001b[0;36m_windows_console_supports_ansi\u001b[1;34m()\u001b[0m\n\u001b[0;32m    233\u001b[0m     \u001b[38;5;28;01mif\u001b[39;00m \u001b[38;5;129;01mnot\u001b[39;00m ok:\n\u001b[0;32m    234\u001b[0m         \u001b[38;5;28;01mraise\u001b[39;00m ctypes\u001b[38;5;241m.\u001b[39mWinError()\n\u001b[1;32m--> 236\u001b[0m console \u001b[38;5;241m=\u001b[39m msvcrt\u001b[38;5;241m.\u001b[39mget_osfhandle(\u001b[43msys\u001b[49m\u001b[38;5;241;43m.\u001b[39;49m\u001b[43mstdout\u001b[49m\u001b[38;5;241;43m.\u001b[39;49m\u001b[43mfileno\u001b[49m\u001b[43m(\u001b[49m\u001b[43m)\u001b[49m)\n\u001b[0;32m    237\u001b[0m \u001b[38;5;28;01mtry\u001b[39;00m:\n\u001b[0;32m    238\u001b[0m     \u001b[38;5;66;03m# Try to enable ANSI output support\u001b[39;00m\n\u001b[0;32m    239\u001b[0m     flags \u001b[38;5;241m=\u001b[39m GetConsoleMode(console)\n",
      "File \u001b[1;32m~\\anaconda3\\lib\\site-packages\\ipykernel\\iostream.py:311\u001b[0m, in \u001b[0;36mOutStream.fileno\u001b[1;34m(self)\u001b[0m\n\u001b[0;32m    309\u001b[0m     \u001b[38;5;28;01mreturn\u001b[39;00m \u001b[38;5;28mself\u001b[39m\u001b[38;5;241m.\u001b[39m_original_stdstream_copy\n\u001b[0;32m    310\u001b[0m \u001b[38;5;28;01melse\u001b[39;00m:\n\u001b[1;32m--> 311\u001b[0m     \u001b[38;5;28;01mraise\u001b[39;00m io\u001b[38;5;241m.\u001b[39mUnsupportedOperation(\u001b[38;5;124m\"\u001b[39m\u001b[38;5;124mfileno\u001b[39m\u001b[38;5;124m\"\u001b[39m)\n",
      "\u001b[1;31mUnsupportedOperation\u001b[0m: fileno"
     ]
    }
   ],
   "source": [
    "# remove stop words\n",
    "def remove_stopwords(token_list):\n",
    "    stop_words = set(stopwords.words('english'))\n",
    "    filtered_sentence = [w for w in token_list if not w.lower() in stop_words]\n",
    "    #filtered_sentence = ' '.join(filtered_sentence)\n",
    "    return filtered_sentence\n",
    "all_data['cleaned_title'] = all_data.title.apply(remove_stopwords)\n",
    "all_data['cleaned_comment'] = all_data.comment_body.apply(remove_stopwords)"
   ]
  },
  {
   "cell_type": "code",
   "execution_count": null,
   "id": "bca4eef7",
   "metadata": {},
   "outputs": [],
   "source": []
  },
  {
   "cell_type": "code",
   "execution_count": null,
   "id": "ecf41498",
   "metadata": {},
   "outputs": [],
   "source": []
  },
  {
   "cell_type": "code",
   "execution_count": 60,
   "id": "1c799fc4",
   "metadata": {
    "ExecuteTime": {
     "end_time": "2022-10-23T21:22:18.641986Z",
     "start_time": "2022-10-23T21:21:06.073163Z"
    }
   },
   "outputs": [],
   "source": []
  },
  {
   "cell_type": "code",
   "execution_count": 59,
   "id": "34559bc9",
   "metadata": {
    "ExecuteTime": {
     "end_time": "2022-10-23T21:21:00.432335Z",
     "start_time": "2022-10-23T21:21:00.418338Z"
    }
   },
   "outputs": [
    {
     "data": {
      "text/html": [
       "<div>\n",
       "<style scoped>\n",
       "    .dataframe tbody tr th:only-of-type {\n",
       "        vertical-align: middle;\n",
       "    }\n",
       "\n",
       "    .dataframe tbody tr th {\n",
       "        vertical-align: top;\n",
       "    }\n",
       "\n",
       "    .dataframe thead th {\n",
       "        text-align: right;\n",
       "    }\n",
       "</style>\n",
       "<table border=\"1\" class=\"dataframe\">\n",
       "  <thead>\n",
       "    <tr style=\"text-align: right;\">\n",
       "      <th></th>\n",
       "      <th>post_body</th>\n",
       "      <th>title</th>\n",
       "      <th>comment_body</th>\n",
       "      <th>GPT2_data</th>\n",
       "    </tr>\n",
       "  </thead>\n",
       "  <tbody>\n",
       "    <tr>\n",
       "      <th>0</th>\n",
       "      <td>i've been having these thoughts lately like \"t...</td>\n",
       "      <td>&lt;|startoftext|&gt;[WP]do you ever feel like not b...</td>\n",
       "      <td>[RESPONSE]as for anchors my only anchor is i n...</td>\n",
       "      <td>&lt;|startoftext|&gt;[WP]do you ever feel like not b...</td>\n",
       "    </tr>\n",
       "    <tr>\n",
       "      <th>1</th>\n",
       "      <td>i've been going through a hard time lately and...</td>\n",
       "      <td>&lt;|startoftext|&gt;[WP]why do depressed people sha...</td>\n",
       "      <td>[RESPONSE]i don’t know because i never had the...</td>\n",
       "      <td>&lt;|startoftext|&gt;[WP]why do depressed people sha...</td>\n",
       "    </tr>\n",
       "    <tr>\n",
       "      <th>2</th>\n",
       "      <td>idk why but every now and then i'll just get t...</td>\n",
       "      <td>&lt;|startoftext|&gt;[WP]random urge to kill people</td>\n",
       "      <td>[RESPONSE]you are a coward that can't handle t...</td>\n",
       "      <td>&lt;|startoftext|&gt;[WP]random urge to kill people ...</td>\n",
       "    </tr>\n",
       "    <tr>\n",
       "      <th>3</th>\n",
       "      <td>when i get really anxious, i slap my arm and t...</td>\n",
       "      <td>&lt;|startoftext|&gt;[WP]is slapping my arm when i’m...</td>\n",
       "      <td>[RESPONSE]'normal' and 'crazy' aren't binary o...</td>\n",
       "      <td>&lt;|startoftext|&gt;[WP]is slapping my arm when i’m...</td>\n",
       "    </tr>\n",
       "    <tr>\n",
       "      <th>4</th>\n",
       "      <td>i’ve been to a few psychiatrists/therapists ov...</td>\n",
       "      <td>&lt;|startoftext|&gt;[WP]tips to find a psychiatrist...</td>\n",
       "      <td>[RESPONSE]i would assume the majority are awar...</td>\n",
       "      <td>&lt;|startoftext|&gt;[WP]tips to find a psychiatrist...</td>\n",
       "    </tr>\n",
       "    <tr>\n",
       "      <th>...</th>\n",
       "      <td>...</td>\n",
       "      <td>...</td>\n",
       "      <td>...</td>\n",
       "      <td>...</td>\n",
       "    </tr>\n",
       "    <tr>\n",
       "      <th>82561</th>\n",
       "      <td>i'm not looking for a diagnosis, just some ins...</td>\n",
       "      <td>&lt;|startoftext|&gt;[WP]have you heard of this?</td>\n",
       "      <td>[RESPONSE]i assume you have some sort of exist...</td>\n",
       "      <td>&lt;|startoftext|&gt;[WP]have you heard of this? [RE...</td>\n",
       "    </tr>\n",
       "    <tr>\n",
       "      <th>82562</th>\n",
       "      <td>how do i find friends to have adventures with ...</td>\n",
       "      <td>&lt;|startoftext|&gt;[WP]how do i stop my intensity?</td>\n",
       "      <td>[RESPONSE]i have been diagnosed officially and...</td>\n",
       "      <td>&lt;|startoftext|&gt;[WP]how do i stop my intensity?...</td>\n",
       "    </tr>\n",
       "    <tr>\n",
       "      <th>82563</th>\n",
       "      <td>oftain if someone will repeat a word directly ...</td>\n",
       "      <td>&lt;|startoftext|&gt;[WP]does this have a name?</td>\n",
       "      <td>[RESPONSE]i asked my councillor but he wasn't ...</td>\n",
       "      <td>&lt;|startoftext|&gt;[WP]does this have a name? [RES...</td>\n",
       "    </tr>\n",
       "    <tr>\n",
       "      <th>82564</th>\n",
       "      <td>the patterns of loosely related random words a...</td>\n",
       "      <td>&lt;|startoftext|&gt;[WP]do schizophrenics 'understa...</td>\n",
       "      <td>[RESPONSE]i don't think it works that way. i d...</td>\n",
       "      <td>&lt;|startoftext|&gt;[WP]do schizophrenics 'understa...</td>\n",
       "    </tr>\n",
       "    <tr>\n",
       "      <th>82565</th>\n",
       "      <td>i've been struggling with mental illness (depr...</td>\n",
       "      <td>&lt;|startoftext|&gt;[WP]does mental illness, with a...</td>\n",
       "      <td>[RESPONSE]yes. it is a life threatening illnes...</td>\n",
       "      <td>&lt;|startoftext|&gt;[WP]does mental illness, with a...</td>\n",
       "    </tr>\n",
       "  </tbody>\n",
       "</table>\n",
       "<p>82565 rows × 4 columns</p>\n",
       "</div>"
      ],
      "text/plain": [
       "                                               post_body  \\\n",
       "0      i've been having these thoughts lately like \"t...   \n",
       "1      i've been going through a hard time lately and...   \n",
       "2      idk why but every now and then i'll just get t...   \n",
       "3      when i get really anxious, i slap my arm and t...   \n",
       "4      i’ve been to a few psychiatrists/therapists ov...   \n",
       "...                                                  ...   \n",
       "82561  i'm not looking for a diagnosis, just some ins...   \n",
       "82562  how do i find friends to have adventures with ...   \n",
       "82563  oftain if someone will repeat a word directly ...   \n",
       "82564  the patterns of loosely related random words a...   \n",
       "82565  i've been struggling with mental illness (depr...   \n",
       "\n",
       "                                                   title  \\\n",
       "0      <|startoftext|>[WP]do you ever feel like not b...   \n",
       "1      <|startoftext|>[WP]why do depressed people sha...   \n",
       "2          <|startoftext|>[WP]random urge to kill people   \n",
       "3      <|startoftext|>[WP]is slapping my arm when i’m...   \n",
       "4      <|startoftext|>[WP]tips to find a psychiatrist...   \n",
       "...                                                  ...   \n",
       "82561         <|startoftext|>[WP]have you heard of this?   \n",
       "82562     <|startoftext|>[WP]how do i stop my intensity?   \n",
       "82563          <|startoftext|>[WP]does this have a name?   \n",
       "82564  <|startoftext|>[WP]do schizophrenics 'understa...   \n",
       "82565  <|startoftext|>[WP]does mental illness, with a...   \n",
       "\n",
       "                                            comment_body  \\\n",
       "0      [RESPONSE]as for anchors my only anchor is i n...   \n",
       "1      [RESPONSE]i don’t know because i never had the...   \n",
       "2      [RESPONSE]you are a coward that can't handle t...   \n",
       "3      [RESPONSE]'normal' and 'crazy' aren't binary o...   \n",
       "4      [RESPONSE]i would assume the majority are awar...   \n",
       "...                                                  ...   \n",
       "82561  [RESPONSE]i assume you have some sort of exist...   \n",
       "82562  [RESPONSE]i have been diagnosed officially and...   \n",
       "82563  [RESPONSE]i asked my councillor but he wasn't ...   \n",
       "82564  [RESPONSE]i don't think it works that way. i d...   \n",
       "82565  [RESPONSE]yes. it is a life threatening illnes...   \n",
       "\n",
       "                                               GPT2_data  \n",
       "0      <|startoftext|>[WP]do you ever feel like not b...  \n",
       "1      <|startoftext|>[WP]why do depressed people sha...  \n",
       "2      <|startoftext|>[WP]random urge to kill people ...  \n",
       "3      <|startoftext|>[WP]is slapping my arm when i’m...  \n",
       "4      <|startoftext|>[WP]tips to find a psychiatrist...  \n",
       "...                                                  ...  \n",
       "82561  <|startoftext|>[WP]have you heard of this? [RE...  \n",
       "82562  <|startoftext|>[WP]how do i stop my intensity?...  \n",
       "82563  <|startoftext|>[WP]does this have a name? [RES...  \n",
       "82564  <|startoftext|>[WP]do schizophrenics 'understa...  \n",
       "82565  <|startoftext|>[WP]does mental illness, with a...  \n",
       "\n",
       "[82565 rows x 4 columns]"
      ]
     },
     "execution_count": 59,
     "metadata": {},
     "output_type": "execute_result"
    }
   ],
   "source": [
    "all_data"
   ]
  },
  {
   "cell_type": "code",
   "execution_count": 52,
   "id": "549b15fd",
   "metadata": {
    "ExecuteTime": {
     "end_time": "2022-10-20T18:53:05.181398Z",
     "start_time": "2022-10-20T18:53:05.139367Z"
    }
   },
   "outputs": [],
   "source": [
    "# Writing a function to plot the counts that are in the data\n",
    "\n",
    "def top10_bagofwords(data, title):\n",
    "    ''' Taking as input the data and plots the top 10 words based on counts in this text data'''\n",
    "    bagofwords = CountVectorizer()\n",
    "    inbound = bagofwords.fit_transform(data)\n",
    "    inbound # Output will be a sparse matrix\n",
    "    # Inspecting of often contractions and colloquial language is used\n",
    "    word_counts = np.array(np.sum(inbound, axis=0)).reshape((-1,))\n",
    "    words = np.array(bagofwords.get_feature_names())\n",
    "    words_df = pd.DataFrame({\"word\":words, \n",
    "                             \"count\":word_counts})\n",
    "    words_rank = words_df.sort_values(by=\"count\", ascending=False)\n",
    "    # words_rank.to_csv('words_rank.csv') # Storing it in a csv so I can inspect and go through it myself\n",
    "    words_rank.head()\n",
    "    # Visualizing top 10 words\n",
    "    #plt.figure(figsize=(12,6))\n",
    "    #sns.barplot(words_rank['word'][:10], words_rank['count'][:10].astype(str), palette = 'inferno')\n",
    "    #plt.title(title) \n",
    "    #plt.show()\n",
    "    return words_rank"
   ]
  },
  {
   "cell_type": "code",
   "execution_count": 56,
   "id": "4ae657c1",
   "metadata": {
    "ExecuteTime": {
     "end_time": "2022-10-20T18:58:55.177061Z",
     "start_time": "2022-10-20T18:55:51.042625Z"
    }
   },
   "outputs": [
    {
     "ename": "AttributeError",
     "evalue": "'list' object has no attribute 'lower'",
     "output_type": "error",
     "traceback": [
      "\u001b[1;31m---------------------------------------------------------------------------\u001b[0m",
      "\u001b[1;31mAttributeError\u001b[0m                            Traceback (most recent call last)",
      "Input \u001b[1;32mIn [56]\u001b[0m, in \u001b[0;36m<cell line: 1>\u001b[1;34m()\u001b[0m\n\u001b[1;32m----> 1\u001b[0m \u001b[43mtop10_bagofwords\u001b[49m\u001b[43m(\u001b[49m\u001b[43mall_data\u001b[49m\u001b[38;5;241;43m.\u001b[39;49m\u001b[43mtitle\u001b[49m\u001b[43m,\u001b[49m\u001b[43m \u001b[49m\u001b[38;5;124;43m\"\u001b[39;49m\u001b[38;5;124;43mtop\u001b[39;49m\u001b[38;5;124;43m\"\u001b[39;49m\u001b[43m)\u001b[49m\n",
      "Input \u001b[1;32mIn [52]\u001b[0m, in \u001b[0;36mtop10_bagofwords\u001b[1;34m(data, title)\u001b[0m\n\u001b[0;32m      4\u001b[0m \u001b[38;5;124;03m''' Taking as input the data and plots the top 10 words based on counts in this text data'''\u001b[39;00m\n\u001b[0;32m      5\u001b[0m bagofwords \u001b[38;5;241m=\u001b[39m CountVectorizer()\n\u001b[1;32m----> 6\u001b[0m inbound \u001b[38;5;241m=\u001b[39m \u001b[43mbagofwords\u001b[49m\u001b[38;5;241;43m.\u001b[39;49m\u001b[43mfit_transform\u001b[49m\u001b[43m(\u001b[49m\u001b[43mdata\u001b[49m\u001b[43m)\u001b[49m\n\u001b[0;32m      7\u001b[0m inbound \u001b[38;5;66;03m# Output will be a sparse matrix\u001b[39;00m\n\u001b[0;32m      8\u001b[0m \u001b[38;5;66;03m# Inspecting of often contractions and colloquial language is used\u001b[39;00m\n",
      "File \u001b[1;32m~\\anaconda3\\lib\\site-packages\\sklearn\\feature_extraction\\text.py:1338\u001b[0m, in \u001b[0;36mCountVectorizer.fit_transform\u001b[1;34m(self, raw_documents, y)\u001b[0m\n\u001b[0;32m   1330\u001b[0m             warnings\u001b[38;5;241m.\u001b[39mwarn(\n\u001b[0;32m   1331\u001b[0m                 \u001b[38;5;124m\"\u001b[39m\u001b[38;5;124mUpper case characters found in\u001b[39m\u001b[38;5;124m\"\u001b[39m\n\u001b[0;32m   1332\u001b[0m                 \u001b[38;5;124m\"\u001b[39m\u001b[38;5;124m vocabulary while \u001b[39m\u001b[38;5;124m'\u001b[39m\u001b[38;5;124mlowercase\u001b[39m\u001b[38;5;124m'\u001b[39m\u001b[38;5;124m\"\u001b[39m\n\u001b[0;32m   1333\u001b[0m                 \u001b[38;5;124m\"\u001b[39m\u001b[38;5;124m is True. These entries will not\u001b[39m\u001b[38;5;124m\"\u001b[39m\n\u001b[0;32m   1334\u001b[0m                 \u001b[38;5;124m\"\u001b[39m\u001b[38;5;124m be matched with any documents\u001b[39m\u001b[38;5;124m\"\u001b[39m\n\u001b[0;32m   1335\u001b[0m             )\n\u001b[0;32m   1336\u001b[0m             \u001b[38;5;28;01mbreak\u001b[39;00m\n\u001b[1;32m-> 1338\u001b[0m vocabulary, X \u001b[38;5;241m=\u001b[39m \u001b[38;5;28;43mself\u001b[39;49m\u001b[38;5;241;43m.\u001b[39;49m\u001b[43m_count_vocab\u001b[49m\u001b[43m(\u001b[49m\u001b[43mraw_documents\u001b[49m\u001b[43m,\u001b[49m\u001b[43m \u001b[49m\u001b[38;5;28;43mself\u001b[39;49m\u001b[38;5;241;43m.\u001b[39;49m\u001b[43mfixed_vocabulary_\u001b[49m\u001b[43m)\u001b[49m\n\u001b[0;32m   1340\u001b[0m \u001b[38;5;28;01mif\u001b[39;00m \u001b[38;5;28mself\u001b[39m\u001b[38;5;241m.\u001b[39mbinary:\n\u001b[0;32m   1341\u001b[0m     X\u001b[38;5;241m.\u001b[39mdata\u001b[38;5;241m.\u001b[39mfill(\u001b[38;5;241m1\u001b[39m)\n",
      "File \u001b[1;32m~\\anaconda3\\lib\\site-packages\\sklearn\\feature_extraction\\text.py:1209\u001b[0m, in \u001b[0;36mCountVectorizer._count_vocab\u001b[1;34m(self, raw_documents, fixed_vocab)\u001b[0m\n\u001b[0;32m   1207\u001b[0m \u001b[38;5;28;01mfor\u001b[39;00m doc \u001b[38;5;129;01min\u001b[39;00m raw_documents:\n\u001b[0;32m   1208\u001b[0m     feature_counter \u001b[38;5;241m=\u001b[39m {}\n\u001b[1;32m-> 1209\u001b[0m     \u001b[38;5;28;01mfor\u001b[39;00m feature \u001b[38;5;129;01min\u001b[39;00m \u001b[43manalyze\u001b[49m\u001b[43m(\u001b[49m\u001b[43mdoc\u001b[49m\u001b[43m)\u001b[49m:\n\u001b[0;32m   1210\u001b[0m         \u001b[38;5;28;01mtry\u001b[39;00m:\n\u001b[0;32m   1211\u001b[0m             feature_idx \u001b[38;5;241m=\u001b[39m vocabulary[feature]\n",
      "File \u001b[1;32m~\\anaconda3\\lib\\site-packages\\sklearn\\feature_extraction\\text.py:111\u001b[0m, in \u001b[0;36m_analyze\u001b[1;34m(doc, analyzer, tokenizer, ngrams, preprocessor, decoder, stop_words)\u001b[0m\n\u001b[0;32m    109\u001b[0m \u001b[38;5;28;01melse\u001b[39;00m:\n\u001b[0;32m    110\u001b[0m     \u001b[38;5;28;01mif\u001b[39;00m preprocessor \u001b[38;5;129;01mis\u001b[39;00m \u001b[38;5;129;01mnot\u001b[39;00m \u001b[38;5;28;01mNone\u001b[39;00m:\n\u001b[1;32m--> 111\u001b[0m         doc \u001b[38;5;241m=\u001b[39m \u001b[43mpreprocessor\u001b[49m\u001b[43m(\u001b[49m\u001b[43mdoc\u001b[49m\u001b[43m)\u001b[49m\n\u001b[0;32m    112\u001b[0m     \u001b[38;5;28;01mif\u001b[39;00m tokenizer \u001b[38;5;129;01mis\u001b[39;00m \u001b[38;5;129;01mnot\u001b[39;00m \u001b[38;5;28;01mNone\u001b[39;00m:\n\u001b[0;32m    113\u001b[0m         doc \u001b[38;5;241m=\u001b[39m tokenizer(doc)\n",
      "File \u001b[1;32m~\\anaconda3\\lib\\site-packages\\sklearn\\feature_extraction\\text.py:69\u001b[0m, in \u001b[0;36m_preprocess\u001b[1;34m(doc, accent_function, lower)\u001b[0m\n\u001b[0;32m     50\u001b[0m \u001b[38;5;124;03m\"\"\"Chain together an optional series of text preprocessing steps to\u001b[39;00m\n\u001b[0;32m     51\u001b[0m \u001b[38;5;124;03mapply to a document.\u001b[39;00m\n\u001b[0;32m     52\u001b[0m \n\u001b[1;32m   (...)\u001b[0m\n\u001b[0;32m     66\u001b[0m \u001b[38;5;124;03m    preprocessed string\u001b[39;00m\n\u001b[0;32m     67\u001b[0m \u001b[38;5;124;03m\"\"\"\u001b[39;00m\n\u001b[0;32m     68\u001b[0m \u001b[38;5;28;01mif\u001b[39;00m lower:\n\u001b[1;32m---> 69\u001b[0m     doc \u001b[38;5;241m=\u001b[39m \u001b[43mdoc\u001b[49m\u001b[38;5;241;43m.\u001b[39;49m\u001b[43mlower\u001b[49m()\n\u001b[0;32m     70\u001b[0m \u001b[38;5;28;01mif\u001b[39;00m accent_function \u001b[38;5;129;01mis\u001b[39;00m \u001b[38;5;129;01mnot\u001b[39;00m \u001b[38;5;28;01mNone\u001b[39;00m:\n\u001b[0;32m     71\u001b[0m     doc \u001b[38;5;241m=\u001b[39m accent_function(doc)\n",
      "\u001b[1;31mAttributeError\u001b[0m: 'list' object has no attribute 'lower'"
     ]
    }
   ],
   "source": [
    "top10_bagofwords(all_data.title, \"top\")"
   ]
  },
  {
   "cell_type": "code",
   "execution_count": null,
   "id": "1d74bb20",
   "metadata": {
    "ExecuteTime": {
     "end_time": "2022-10-07T16:13:53.561942Z",
     "start_time": "2022-10-07T16:13:53.560935Z"
    }
   },
   "outputs": [],
   "source": []
  }
 ],
 "metadata": {
  "kernelspec": {
   "display_name": "Python 3 (ipykernel)",
   "language": "python",
   "name": "python3"
  },
  "language_info": {
   "codemirror_mode": {
    "name": "ipython",
    "version": 3
   },
   "file_extension": ".py",
   "mimetype": "text/x-python",
   "name": "python",
   "nbconvert_exporter": "python",
   "pygments_lexer": "ipython3",
   "version": "3.9.12"
  }
 },
 "nbformat": 4,
 "nbformat_minor": 5
}
