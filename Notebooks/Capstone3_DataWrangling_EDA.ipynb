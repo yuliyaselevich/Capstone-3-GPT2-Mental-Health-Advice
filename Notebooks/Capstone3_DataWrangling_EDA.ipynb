{
 "cells": [
  {
   "cell_type": "code",
   "execution_count": 1,
   "id": "0d576d86",
   "metadata": {
    "ExecuteTime": {
     "end_time": "2022-11-13T18:08:39.495893Z",
     "start_time": "2022-11-13T18:08:07.801687Z"
    }
   },
   "outputs": [
    {
     "name": "stderr",
     "output_type": "stream",
     "text": [
      "C:\\Users\\Julia\\anaconda3\\lib\\site-packages\\past\\builtins\\misc.py:45: DeprecationWarning: the imp module is deprecated in favour of importlib; see the module's documentation for alternative uses\n",
      "  from imp import reload\n"
     ]
    }
   ],
   "source": [
    "#Essentials\n",
    "import pandas as pd\n",
    "import numpy as np\n",
    "import matplotlib.pyplot as plt\n",
    "import seaborn as sns\n",
    "import csv \n",
    "import datetime as dt\n",
    "\n",
    "#For scraping Reddit\n",
    "import praw\n",
    "from psaw import PushshiftAPI\n",
    "\n",
    "#For EDA\n",
    "import re\n",
    "from wordcloud import WordCloud, STOPWORDS\n",
    "from sklearn.feature_extraction.text import TfidfVectorizer, CountVectorizer\n",
    "from sklearn.neighbors import KNeighborsClassifier \n",
    "from sklearn.cluster import KMeans\n",
    "import sklearn.cluster\n",
    "import sklearn.decomposition\n",
    "import matplotlib.colors\n",
    "from textblob import TextBlob\n",
    "from gensim.models import Word2Vec\n",
    "import nltk\n",
    "import nltk.corpus\n",
    "from nltk.corpus import nps_chat, wordnet\n",
    "from nltk import pos_tag\n",
    "from nltk.stem.wordnet import WordNetLemmatizer \n",
    "from nltk.tokenize import word_tokenize\n",
    "from nltk.corpus import stopwords\n",
    "from nltk import NaiveBayesClassifier\n",
    "from nltk import TweetTokenizer\n",
    "import textstat\n",
    "import gensim.corpora as corpora\n",
    "from pprint import pprint\n",
    "import gensim\n",
    "from gensim.utils import simple_preprocess\n",
    "from sklearn.feature_extraction.text import TfidfVectorizer\n",
    "from sklearn.cluster import KMeans\n",
    "from sklearn.metrics import adjusted_rand_score\n",
    "import gensim.corpora as corpora\n",
    "from gensim.corpora.dictionary import Dictionary\n",
    "from gensim.models.coherencemodel import CoherenceModel\n",
    "import pyLDAvis.gensim_models\n",
    "import pickle \n",
    "import pyLDAvis\n",
    "import os\n",
    "import emot\n",
    "import demoji\n",
    "import contractions\n",
    "from spellchecker import SpellChecker\n",
    "from pprint import pprint"
   ]
  },
  {
   "cell_type": "code",
   "execution_count": 31,
   "id": "94149f35",
   "metadata": {
    "ExecuteTime": {
     "end_time": "2022-10-19T18:28:40.106483Z",
     "start_time": "2022-10-19T18:28:38.903597Z"
    }
   },
   "outputs": [
    {
     "name": "stderr",
     "output_type": "stream",
     "text": [
      "[nltk_data] Downloading package punkt to\n",
      "[nltk_data]     C:\\Users\\Julia\\AppData\\Roaming\\nltk_data...\n",
      "[nltk_data]   Package punkt is already up-to-date!\n",
      "[nltk_data] Downloading package nps_chat to\n",
      "[nltk_data]     C:\\Users\\Julia\\AppData\\Roaming\\nltk_data...\n",
      "[nltk_data]   Package nps_chat is already up-to-date!\n",
      "[nltk_data] Downloading package stopwords to\n",
      "[nltk_data]     C:\\Users\\Julia\\AppData\\Roaming\\nltk_data...\n",
      "[nltk_data]   Package stopwords is already up-to-date!\n",
      "[nltk_data] Downloading package averaged_perceptron_tagger to\n",
      "[nltk_data]     C:\\Users\\Julia\\AppData\\Roaming\\nltk_data...\n",
      "[nltk_data]   Package averaged_perceptron_tagger is already up-to-\n",
      "[nltk_data]       date!\n",
      "[nltk_data] Downloading package wordnet to\n",
      "[nltk_data]     C:\\Users\\Julia\\AppData\\Roaming\\nltk_data...\n",
      "[nltk_data]   Package wordnet is already up-to-date!\n",
      "[nltk_data] Downloading package omw-1.4 to\n",
      "[nltk_data]     C:\\Users\\Julia\\AppData\\Roaming\\nltk_data...\n"
     ]
    },
    {
     "data": {
      "text/plain": [
       "True"
      ]
     },
     "execution_count": 31,
     "metadata": {},
     "output_type": "execute_result"
    }
   ],
   "source": [
    "nltk.download('punkt')\n",
    "nltk.download('nps_chat')\n",
    "nltk.download('stopwords')\n",
    "nltk.download('averaged_perceptron_tagger')\n",
    "nltk.download('wordnet')\n",
    "nltk.download('omw-1.4')"
   ]
  },
  {
   "cell_type": "markdown",
   "id": "3ab47326",
   "metadata": {},
   "source": [
    "# Mental Heatlh"
   ]
  },
  {
   "cell_type": "code",
   "execution_count": 2,
   "id": "b8743a3f",
   "metadata": {
    "ExecuteTime": {
     "end_time": "2022-09-18T21:22:53.185730Z",
     "start_time": "2022-09-18T20:58:04.726804Z"
    }
   },
   "outputs": [
    {
     "name": "stderr",
     "output_type": "stream",
     "text": [
      "C:\\Users\\Julia\\anaconda3\\lib\\site-packages\\psaw\\PushshiftAPI.py:252: UserWarning: Not all PushShift shards are active. Query results may be incomplete\n",
      "  warnings.warn(shards_down_message)\n",
      "C:\\Users\\Julia\\anaconda3\\lib\\site-packages\\psaw\\PushshiftAPI.py:192: UserWarning: Got non 200 code 429\n",
      "  warnings.warn(\"Got non 200 code %s\" % response.status_code)\n",
      "C:\\Users\\Julia\\anaconda3\\lib\\site-packages\\psaw\\PushshiftAPI.py:180: UserWarning: Unable to connect to pushshift.io. Retrying after backoff.\n",
      "  warnings.warn(\"Unable to connect to pushshift.io. Retrying after backoff.\")\n"
     ]
    }
   ],
   "source": [
    "#Thanks to dmarx for the clear code on pulling from PSAW! PSAW docs are surprisingly unclear.\n",
    "#https://github.com/dmarx/psaw\n",
    "api = PushshiftAPI()\n",
    "\n",
    "#Start date we're beginning to pull posts from\n",
    "start_epoch=int(dt.datetime(2010, 1, 1).timestamp())\n",
    "\n",
    "\n",
    "#Pulling submissions from mentalhealth (both the title and body of a post)\n",
    "\n",
    "gen_subMH = list(api.search_submissions(after=start_epoch,\n",
    "                            subreddit='mentalhealth',\n",
    "                            filter=['title', 'id','score','link_flair_text','selftext'],\n",
    "                            limit=1000000))\n",
    "\n",
    "\n",
    "#Converting to dataframe\n",
    "MHsub = pd.DataFrame([thing.d_ for thing in gen_subMH])\n"
   ]
  },
  {
   "cell_type": "code",
   "execution_count": 3,
   "id": "165cca7a",
   "metadata": {
    "ExecuteTime": {
     "end_time": "2022-09-18T21:23:10.418189Z",
     "start_time": "2022-09-18T21:22:53.194738Z"
    }
   },
   "outputs": [],
   "source": [
    "MHsub.to_csv('../Data/MHsub.csv',index=False)"
   ]
  },
  {
   "cell_type": "code",
   "execution_count": 4,
   "id": "785a786b",
   "metadata": {
    "ExecuteTime": {
     "end_time": "2022-09-18T22:57:14.543957Z",
     "start_time": "2022-09-18T21:23:10.427171Z"
    },
    "scrolled": true
   },
   "outputs": [
    {
     "name": "stderr",
     "output_type": "stream",
     "text": [
      "C:\\Users\\Julia\\anaconda3\\lib\\site-packages\\psaw\\PushshiftAPI.py:252: UserWarning: Not all PushShift shards are active. Query results may be incomplete\n",
      "  warnings.warn(shards_down_message)\n",
      "C:\\Users\\Julia\\anaconda3\\lib\\site-packages\\psaw\\PushshiftAPI.py:192: UserWarning: Got non 200 code 429\n",
      "  warnings.warn(\"Got non 200 code %s\" % response.status_code)\n",
      "C:\\Users\\Julia\\anaconda3\\lib\\site-packages\\psaw\\PushshiftAPI.py:180: UserWarning: Unable to connect to pushshift.io. Retrying after backoff.\n",
      "  warnings.warn(\"Unable to connect to pushshift.io. Retrying after backoff.\")\n"
     ]
    }
   ],
   "source": [
    "#Pulling comments from mental health\n",
    "\n",
    "gen_comMH = api.search_comments(after=start_epoch, \n",
    "                            subreddit='mentalhealth',\n",
    "                            filter=['body', 'link_id', 'id', 'score','submission'],\n",
    "                            #link_id = new_idsMH,\n",
    "                            limit=35000000)\n",
    "\n",
    "MHcom = pd.DataFrame([thing.d_ for thing in gen_comMH])"
   ]
  },
  {
   "cell_type": "code",
   "execution_count": 5,
   "id": "5fe48b92",
   "metadata": {
    "ExecuteTime": {
     "end_time": "2022-09-18T22:57:38.572099Z",
     "start_time": "2022-09-18T22:57:14.631323Z"
    }
   },
   "outputs": [],
   "source": [
    "MHcom.to_csv('../Data/MHcom.csv',index=False)"
   ]
  },
  {
   "cell_type": "markdown",
   "id": "f1fc2750",
   "metadata": {},
   "source": [
    "# Mental Illness subreddit"
   ]
  },
  {
   "cell_type": "code",
   "execution_count": 6,
   "id": "a1e7409c",
   "metadata": {
    "ExecuteTime": {
     "end_time": "2022-09-18T23:03:13.668402Z",
     "start_time": "2022-09-18T22:57:38.577089Z"
    }
   },
   "outputs": [
    {
     "name": "stderr",
     "output_type": "stream",
     "text": [
      "C:\\Users\\Julia\\anaconda3\\lib\\site-packages\\psaw\\PushshiftAPI.py:252: UserWarning: Not all PushShift shards are active. Query results may be incomplete\n",
      "  warnings.warn(shards_down_message)\n",
      "C:\\Users\\Julia\\anaconda3\\lib\\site-packages\\psaw\\PushshiftAPI.py:192: UserWarning: Got non 200 code 429\n",
      "  warnings.warn(\"Got non 200 code %s\" % response.status_code)\n",
      "C:\\Users\\Julia\\anaconda3\\lib\\site-packages\\psaw\\PushshiftAPI.py:180: UserWarning: Unable to connect to pushshift.io. Retrying after backoff.\n",
      "  warnings.warn(\"Unable to connect to pushshift.io. Retrying after backoff.\")\n"
     ]
    }
   ],
   "source": [
    "gen_subMI = list(api.search_submissions(after=start_epoch,\n",
    "                            subreddit='mentalillness',\n",
    "                            filter=['title', 'id','score','link_flair_text','selftext'],\n",
    "                            limit=1000000))\n",
    "\n",
    "\n",
    "#Converting to dataframe\n",
    "MIsub = pd.DataFrame([thing.d_ for thing in gen_subMI])"
   ]
  },
  {
   "cell_type": "code",
   "execution_count": 7,
   "id": "1b273d75",
   "metadata": {
    "ExecuteTime": {
     "end_time": "2022-09-18T23:03:15.239888Z",
     "start_time": "2022-09-18T23:03:13.681411Z"
    }
   },
   "outputs": [],
   "source": [
    "MIsub.to_csv('../Data/MIsub.csv',index=False)"
   ]
  },
  {
   "cell_type": "code",
   "execution_count": 8,
   "id": "987ecd65",
   "metadata": {
    "ExecuteTime": {
     "end_time": "2022-09-18T23:16:27.896527Z",
     "start_time": "2022-09-18T23:03:15.242882Z"
    }
   },
   "outputs": [
    {
     "name": "stderr",
     "output_type": "stream",
     "text": [
      "C:\\Users\\Julia\\anaconda3\\lib\\site-packages\\psaw\\PushshiftAPI.py:252: UserWarning: Not all PushShift shards are active. Query results may be incomplete\n",
      "  warnings.warn(shards_down_message)\n",
      "C:\\Users\\Julia\\anaconda3\\lib\\site-packages\\psaw\\PushshiftAPI.py:192: UserWarning: Got non 200 code 429\n",
      "  warnings.warn(\"Got non 200 code %s\" % response.status_code)\n",
      "C:\\Users\\Julia\\anaconda3\\lib\\site-packages\\psaw\\PushshiftAPI.py:180: UserWarning: Unable to connect to pushshift.io. Retrying after backoff.\n",
      "  warnings.warn(\"Unable to connect to pushshift.io. Retrying after backoff.\")\n"
     ]
    }
   ],
   "source": [
    "gen_comMI = api.search_comments(after=start_epoch, \n",
    "                            subreddit='mentalillness',\n",
    "                            filter=['body', 'link_id', 'id', 'score','submission'],\n",
    "                            #link_id = new_MIids,\n",
    "                            limit=35000000)\n",
    "\n",
    "MIcom = pd.DataFrame([thing.d_ for thing in gen_comMI])"
   ]
  },
  {
   "cell_type": "code",
   "execution_count": 9,
   "id": "db0e0541",
   "metadata": {
    "ExecuteTime": {
     "end_time": "2022-09-18T23:16:30.448626Z",
     "start_time": "2022-09-18T23:16:27.951685Z"
    },
    "scrolled": true
   },
   "outputs": [],
   "source": [
    "MIcom.to_csv('../Data/MIcom.csv',index=False)"
   ]
  },
  {
   "cell_type": "markdown",
   "id": "e1351904",
   "metadata": {},
   "source": [
    "# Loading the data"
   ]
  },
  {
   "cell_type": "code",
   "execution_count": 2,
   "id": "7ede4b08",
   "metadata": {
    "ExecuteTime": {
     "end_time": "2022-11-09T00:07:32.792634Z",
     "start_time": "2022-11-09T00:07:11.083086Z"
    }
   },
   "outputs": [],
   "source": [
    "MHsub = pd.read_csv('../Data/MHsub.csv')\n",
    "MHcom = pd.read_csv('../Data/MHcom.csv')\n",
    "MIsub = pd.read_csv('../Data/MIsub.csv')\n",
    "MIcom = pd.read_csv('../Data/MIcom.csv')"
   ]
  },
  {
   "cell_type": "markdown",
   "id": "af54e452",
   "metadata": {},
   "source": [
    "# Cleaning the data"
   ]
  },
  {
   "cell_type": "markdown",
   "id": "72f1d64b",
   "metadata": {},
   "source": [
    "# We can merge submissions from mentalhealth and mentalillness subreddits"
   ]
  },
  {
   "cell_type": "code",
   "execution_count": 3,
   "id": "9b646a04",
   "metadata": {
    "ExecuteTime": {
     "end_time": "2022-11-09T00:07:35.250968Z",
     "start_time": "2022-11-09T00:07:34.947191Z"
    }
   },
   "outputs": [],
   "source": [
    "all_sub = pd.concat([MHsub,MIsub])\n",
    "all_sub.reset_index(inplace=True,drop=True)"
   ]
  },
  {
   "cell_type": "code",
   "execution_count": 4,
   "id": "a34df9d5",
   "metadata": {
    "ExecuteTime": {
     "end_time": "2022-11-09T00:07:36.118723Z",
     "start_time": "2022-11-09T00:07:36.066673Z"
    }
   },
   "outputs": [
    {
     "data": {
      "text/html": [
       "<div>\n",
       "<style scoped>\n",
       "    .dataframe tbody tr th:only-of-type {\n",
       "        vertical-align: middle;\n",
       "    }\n",
       "\n",
       "    .dataframe tbody tr th {\n",
       "        vertical-align: top;\n",
       "    }\n",
       "\n",
       "    .dataframe thead th {\n",
       "        text-align: right;\n",
       "    }\n",
       "</style>\n",
       "<table border=\"1\" class=\"dataframe\">\n",
       "  <thead>\n",
       "    <tr style=\"text-align: right;\">\n",
       "      <th></th>\n",
       "      <th>created_utc</th>\n",
       "      <th>id</th>\n",
       "      <th>score</th>\n",
       "      <th>selftext</th>\n",
       "      <th>title</th>\n",
       "      <th>created</th>\n",
       "      <th>link_flair_text</th>\n",
       "    </tr>\n",
       "  </thead>\n",
       "  <tbody>\n",
       "    <tr>\n",
       "      <th>0</th>\n",
       "      <td>1663534517</td>\n",
       "      <td>xhrtbf</td>\n",
       "      <td>1</td>\n",
       "      <td>I don’t entirely want to reach out to people h...</td>\n",
       "      <td>How do I stop villainizing myself.</td>\n",
       "      <td>1.663549e+09</td>\n",
       "      <td>NaN</td>\n",
       "    </tr>\n",
       "    <tr>\n",
       "      <th>1</th>\n",
       "      <td>1663534244</td>\n",
       "      <td>xhrpbh</td>\n",
       "      <td>1</td>\n",
       "      <td>I suffer from anxiety attacks regularly, usual...</td>\n",
       "      <td>is this a panic attack or something else?</td>\n",
       "      <td>1.663549e+09</td>\n",
       "      <td>NaN</td>\n",
       "    </tr>\n",
       "    <tr>\n",
       "      <th>2</th>\n",
       "      <td>1663533992</td>\n",
       "      <td>xhrlh6</td>\n",
       "      <td>1</td>\n",
       "      <td>I've been having these thoughts lately like\\n\\...</td>\n",
       "      <td>do you ever feel like not being alive anymore</td>\n",
       "      <td>1.663548e+09</td>\n",
       "      <td>NaN</td>\n",
       "    </tr>\n",
       "    <tr>\n",
       "      <th>3</th>\n",
       "      <td>1663533274</td>\n",
       "      <td>xhrats</td>\n",
       "      <td>1</td>\n",
       "      <td>For some miraculous reason, I got a girlfriend...</td>\n",
       "      <td>Being normal</td>\n",
       "      <td>1.663548e+09</td>\n",
       "      <td>Opinion / Thoughts</td>\n",
       "    </tr>\n",
       "    <tr>\n",
       "      <th>4</th>\n",
       "      <td>1663533255</td>\n",
       "      <td>xhrajv</td>\n",
       "      <td>1</td>\n",
       "      <td>I've been going through a hard time lately and...</td>\n",
       "      <td>why do depressed people shave their heads</td>\n",
       "      <td>1.663548e+09</td>\n",
       "      <td>NaN</td>\n",
       "    </tr>\n",
       "    <tr>\n",
       "      <th>...</th>\n",
       "      <td>...</td>\n",
       "      <td>...</td>\n",
       "      <td>...</td>\n",
       "      <td>...</td>\n",
       "      <td>...</td>\n",
       "      <td>...</td>\n",
       "      <td>...</td>\n",
       "    </tr>\n",
       "    <tr>\n",
       "      <th>415285</th>\n",
       "      <td>1353891546</td>\n",
       "      <td>13sbe9</td>\n",
       "      <td>1</td>\n",
       "      <td>NaN</td>\n",
       "      <td>I look again to make sure so one is near me an...</td>\n",
       "      <td>1.353906e+09</td>\n",
       "      <td>NaN</td>\n",
       "    </tr>\n",
       "    <tr>\n",
       "      <th>415286</th>\n",
       "      <td>1348724331</td>\n",
       "      <td>10juc6</td>\n",
       "      <td>1</td>\n",
       "      <td>NaN</td>\n",
       "      <td>NAMI | Peer-to-Peer is a unique, experiential ...</td>\n",
       "      <td>1.348739e+09</td>\n",
       "      <td>NaN</td>\n",
       "    </tr>\n",
       "    <tr>\n",
       "      <th>415287</th>\n",
       "      <td>1344639905</td>\n",
       "      <td>y0sqy</td>\n",
       "      <td>0</td>\n",
       "      <td>AMA</td>\n",
       "      <td>I am rooster illusion</td>\n",
       "      <td>1.344654e+09</td>\n",
       "      <td>NaN</td>\n",
       "    </tr>\n",
       "    <tr>\n",
       "      <th>415288</th>\n",
       "      <td>1321506737</td>\n",
       "      <td>mfckr</td>\n",
       "      <td>1</td>\n",
       "      <td>so i have a lot of random impluses. crazy shit...</td>\n",
       "      <td>crazy motherfucker</td>\n",
       "      <td>1.321521e+09</td>\n",
       "      <td>NaN</td>\n",
       "    </tr>\n",
       "    <tr>\n",
       "      <th>415289</th>\n",
       "      <td>1319162763</td>\n",
       "      <td>ljftm</td>\n",
       "      <td>1</td>\n",
       "      <td>NaN</td>\n",
       "      <td>Do you love someone who has a mental illness?</td>\n",
       "      <td>1.319177e+09</td>\n",
       "      <td>NaN</td>\n",
       "    </tr>\n",
       "  </tbody>\n",
       "</table>\n",
       "<p>415290 rows × 7 columns</p>\n",
       "</div>"
      ],
      "text/plain": [
       "        created_utc      id  score  \\\n",
       "0        1663534517  xhrtbf      1   \n",
       "1        1663534244  xhrpbh      1   \n",
       "2        1663533992  xhrlh6      1   \n",
       "3        1663533274  xhrats      1   \n",
       "4        1663533255  xhrajv      1   \n",
       "...             ...     ...    ...   \n",
       "415285   1353891546  13sbe9      1   \n",
       "415286   1348724331  10juc6      1   \n",
       "415287   1344639905   y0sqy      0   \n",
       "415288   1321506737   mfckr      1   \n",
       "415289   1319162763   ljftm      1   \n",
       "\n",
       "                                                 selftext  \\\n",
       "0       I don’t entirely want to reach out to people h...   \n",
       "1       I suffer from anxiety attacks regularly, usual...   \n",
       "2       I've been having these thoughts lately like\\n\\...   \n",
       "3       For some miraculous reason, I got a girlfriend...   \n",
       "4       I've been going through a hard time lately and...   \n",
       "...                                                   ...   \n",
       "415285                                                NaN   \n",
       "415286                                                NaN   \n",
       "415287                                                AMA   \n",
       "415288  so i have a lot of random impluses. crazy shit...   \n",
       "415289                                                NaN   \n",
       "\n",
       "                                                    title       created  \\\n",
       "0                      How do I stop villainizing myself.  1.663549e+09   \n",
       "1               is this a panic attack or something else?  1.663549e+09   \n",
       "2           do you ever feel like not being alive anymore  1.663548e+09   \n",
       "3                                            Being normal  1.663548e+09   \n",
       "4               why do depressed people shave their heads  1.663548e+09   \n",
       "...                                                   ...           ...   \n",
       "415285  I look again to make sure so one is near me an...  1.353906e+09   \n",
       "415286  NAMI | Peer-to-Peer is a unique, experiential ...  1.348739e+09   \n",
       "415287                              I am rooster illusion  1.344654e+09   \n",
       "415288                                 crazy motherfucker  1.321521e+09   \n",
       "415289      Do you love someone who has a mental illness?  1.319177e+09   \n",
       "\n",
       "           link_flair_text  \n",
       "0                      NaN  \n",
       "1                      NaN  \n",
       "2                      NaN  \n",
       "3       Opinion / Thoughts  \n",
       "4                      NaN  \n",
       "...                    ...  \n",
       "415285                 NaN  \n",
       "415286                 NaN  \n",
       "415287                 NaN  \n",
       "415288                 NaN  \n",
       "415289                 NaN  \n",
       "\n",
       "[415290 rows x 7 columns]"
      ]
     },
     "execution_count": 4,
     "metadata": {},
     "output_type": "execute_result"
    }
   ],
   "source": [
    "all_sub"
   ]
  },
  {
   "cell_type": "code",
   "execution_count": 5,
   "id": "d5c7a981",
   "metadata": {
    "ExecuteTime": {
     "end_time": "2022-11-09T00:07:39.216735Z",
     "start_time": "2022-11-09T00:07:39.177689Z"
    }
   },
   "outputs": [],
   "source": [
    "all_sub['created'] = pd.to_datetime(all_sub['created'], unit='s')"
   ]
  },
  {
   "cell_type": "code",
   "execution_count": 6,
   "id": "56fe5f94",
   "metadata": {
    "ExecuteTime": {
     "end_time": "2022-11-09T00:07:41.356481Z",
     "start_time": "2022-11-09T00:07:41.312437Z"
    }
   },
   "outputs": [],
   "source": [
    "all_sub = all_sub.drop(columns=['created_utc','score','link_flair_text'])"
   ]
  },
  {
   "cell_type": "code",
   "execution_count": 7,
   "id": "768aa24b",
   "metadata": {
    "ExecuteTime": {
     "end_time": "2022-11-09T00:07:43.414336Z",
     "start_time": "2022-11-09T00:07:43.241196Z"
    }
   },
   "outputs": [],
   "source": [
    "all_sub = all_sub.rename(columns={'selftext': 'post_body'})"
   ]
  },
  {
   "cell_type": "code",
   "execution_count": 8,
   "id": "89a5aabd",
   "metadata": {
    "ExecuteTime": {
     "end_time": "2022-11-09T00:07:47.066205Z",
     "start_time": "2022-11-09T00:07:44.818595Z"
    }
   },
   "outputs": [],
   "source": [
    "#making the title & post_body lowercase for future processing.\n",
    "all_sub['post_body'] = all_sub['post_body'].astype(str)\n",
    "all_sub['title'] = all_sub['title'].astype(str)\n",
    "all_sub['title'] = all_sub['title'].apply(lambda x: x.lower())\n",
    "all_sub['post_body'] = all_sub['post_body'].apply(lambda x: x.lower())"
   ]
  },
  {
   "cell_type": "markdown",
   "id": "a9cb5a0f",
   "metadata": {
    "ExecuteTime": {
     "end_time": "2022-10-06T19:17:39.840703Z",
     "start_time": "2022-10-06T19:17:39.824705Z"
    }
   },
   "source": [
    "# Merging two dataframes with comments"
   ]
  },
  {
   "cell_type": "code",
   "execution_count": 9,
   "id": "06ad8704",
   "metadata": {
    "ExecuteTime": {
     "end_time": "2022-11-09T00:07:48.508871Z",
     "start_time": "2022-11-09T00:07:48.170591Z"
    }
   },
   "outputs": [],
   "source": [
    "all_com = pd.concat([MHcom,MIcom])"
   ]
  },
  {
   "cell_type": "code",
   "execution_count": 10,
   "id": "5eeecdbd",
   "metadata": {
    "ExecuteTime": {
     "end_time": "2022-11-09T00:07:49.589204Z",
     "start_time": "2022-11-09T00:07:49.572192Z"
    }
   },
   "outputs": [
    {
     "data": {
      "text/html": [
       "<div>\n",
       "<style scoped>\n",
       "    .dataframe tbody tr th:only-of-type {\n",
       "        vertical-align: middle;\n",
       "    }\n",
       "\n",
       "    .dataframe tbody tr th {\n",
       "        vertical-align: top;\n",
       "    }\n",
       "\n",
       "    .dataframe thead th {\n",
       "        text-align: right;\n",
       "    }\n",
       "</style>\n",
       "<table border=\"1\" class=\"dataframe\">\n",
       "  <thead>\n",
       "    <tr style=\"text-align: right;\">\n",
       "      <th></th>\n",
       "      <th>body</th>\n",
       "      <th>created_utc</th>\n",
       "      <th>id</th>\n",
       "      <th>link_id</th>\n",
       "      <th>score</th>\n",
       "      <th>created</th>\n",
       "    </tr>\n",
       "  </thead>\n",
       "  <tbody>\n",
       "    <tr>\n",
       "      <th>0</th>\n",
       "      <td>[removed]</td>\n",
       "      <td>1663536087</td>\n",
       "      <td>iozbxkr</td>\n",
       "      <td>t3_xhsag5</td>\n",
       "      <td>1</td>\n",
       "      <td>1.663550e+09</td>\n",
       "    </tr>\n",
       "    <tr>\n",
       "      <th>1</th>\n",
       "      <td>Bro it seems you may actually delusional no ju...</td>\n",
       "      <td>1663536013</td>\n",
       "      <td>iozbqlk</td>\n",
       "      <td>t3_xhsag5</td>\n",
       "      <td>1</td>\n",
       "      <td>1.663550e+09</td>\n",
       "    </tr>\n",
       "    <tr>\n",
       "      <th>2</th>\n",
       "      <td>Thank you for for sharing. A reminder: if you ...</td>\n",
       "      <td>1663535972</td>\n",
       "      <td>iozbmub</td>\n",
       "      <td>t3_xhsf3f</td>\n",
       "      <td>1</td>\n",
       "      <td>1.663550e+09</td>\n",
       "    </tr>\n",
       "    <tr>\n",
       "      <th>3</th>\n",
       "      <td>Thanks</td>\n",
       "      <td>1663535958</td>\n",
       "      <td>iozbljf</td>\n",
       "      <td>t3_xhkzmw</td>\n",
       "      <td>1</td>\n",
       "      <td>1.663550e+09</td>\n",
       "    </tr>\n",
       "    <tr>\n",
       "      <th>4</th>\n",
       "      <td>I definitely have body image issues and I’m th...</td>\n",
       "      <td>1663535919</td>\n",
       "      <td>iozbi1l</td>\n",
       "      <td>t3_xhkzmw</td>\n",
       "      <td>1</td>\n",
       "      <td>1.663550e+09</td>\n",
       "    </tr>\n",
       "    <tr>\n",
       "      <th>...</th>\n",
       "      <td>...</td>\n",
       "      <td>...</td>\n",
       "      <td>...</td>\n",
       "      <td>...</td>\n",
       "      <td>...</td>\n",
       "      <td>...</td>\n",
       "    </tr>\n",
       "    <tr>\n",
       "      <th>195872</th>\n",
       "      <td>This further stigmatizes mental illness. It do...</td>\n",
       "      <td>1388387508</td>\n",
       "      <td>ced74e0</td>\n",
       "      <td>t3_1r79dm</td>\n",
       "      <td>3</td>\n",
       "      <td>1.388402e+09</td>\n",
       "    </tr>\n",
       "    <tr>\n",
       "      <th>195873</th>\n",
       "      <td>I hear ya. Sister suffers from bi-polar and mi...</td>\n",
       "      <td>1388367327</td>\n",
       "      <td>cecz8pw</td>\n",
       "      <td>t3_1qbx9v</td>\n",
       "      <td>2</td>\n",
       "      <td>1.388382e+09</td>\n",
       "    </tr>\n",
       "    <tr>\n",
       "      <th>195874</th>\n",
       "      <td>If i have to read another overwrought analogy ...</td>\n",
       "      <td>1387557036</td>\n",
       "      <td>ce6e980</td>\n",
       "      <td>t3_1r79dm</td>\n",
       "      <td>2</td>\n",
       "      <td>1.387571e+09</td>\n",
       "    </tr>\n",
       "    <tr>\n",
       "      <th>195875</th>\n",
       "      <td>Ugh, that's atrocious.  Just because I can't w...</td>\n",
       "      <td>1385376904</td>\n",
       "      <td>cdmivce</td>\n",
       "      <td>t3_1r79dm</td>\n",
       "      <td>7</td>\n",
       "      <td>1.385391e+09</td>\n",
       "    </tr>\n",
       "    <tr>\n",
       "      <th>195876</th>\n",
       "      <td>Best quote from the interview: Are you telling...</td>\n",
       "      <td>1370800725</td>\n",
       "      <td>cafcjn9</td>\n",
       "      <td>t3_1fzphf</td>\n",
       "      <td>1</td>\n",
       "      <td>1.370815e+09</td>\n",
       "    </tr>\n",
       "  </tbody>\n",
       "</table>\n",
       "<p>1556846 rows × 6 columns</p>\n",
       "</div>"
      ],
      "text/plain": [
       "                                                     body  created_utc  \\\n",
       "0                                               [removed]   1663536087   \n",
       "1       Bro it seems you may actually delusional no ju...   1663536013   \n",
       "2       Thank you for for sharing. A reminder: if you ...   1663535972   \n",
       "3                                                  Thanks   1663535958   \n",
       "4       I definitely have body image issues and I’m th...   1663535919   \n",
       "...                                                   ...          ...   \n",
       "195872  This further stigmatizes mental illness. It do...   1388387508   \n",
       "195873  I hear ya. Sister suffers from bi-polar and mi...   1388367327   \n",
       "195874  If i have to read another overwrought analogy ...   1387557036   \n",
       "195875  Ugh, that's atrocious.  Just because I can't w...   1385376904   \n",
       "195876  Best quote from the interview: Are you telling...   1370800725   \n",
       "\n",
       "             id    link_id  score       created  \n",
       "0       iozbxkr  t3_xhsag5      1  1.663550e+09  \n",
       "1       iozbqlk  t3_xhsag5      1  1.663550e+09  \n",
       "2       iozbmub  t3_xhsf3f      1  1.663550e+09  \n",
       "3       iozbljf  t3_xhkzmw      1  1.663550e+09  \n",
       "4       iozbi1l  t3_xhkzmw      1  1.663550e+09  \n",
       "...         ...        ...    ...           ...  \n",
       "195872  ced74e0  t3_1r79dm      3  1.388402e+09  \n",
       "195873  cecz8pw  t3_1qbx9v      2  1.388382e+09  \n",
       "195874  ce6e980  t3_1r79dm      2  1.387571e+09  \n",
       "195875  cdmivce  t3_1r79dm      7  1.385391e+09  \n",
       "195876  cafcjn9  t3_1fzphf      1  1.370815e+09  \n",
       "\n",
       "[1556846 rows x 6 columns]"
      ]
     },
     "execution_count": 10,
     "metadata": {},
     "output_type": "execute_result"
    }
   ],
   "source": [
    "all_com"
   ]
  },
  {
   "cell_type": "code",
   "execution_count": 11,
   "id": "f4d2c133",
   "metadata": {
    "ExecuteTime": {
     "end_time": "2022-11-09T00:07:53.622473Z",
     "start_time": "2022-11-09T00:07:53.314940Z"
    }
   },
   "outputs": [],
   "source": [
    "all_com['body'] = all_com['body'].astype('string')"
   ]
  },
  {
   "cell_type": "code",
   "execution_count": 239,
   "id": "fb0a8f52",
   "metadata": {
    "ExecuteTime": {
     "end_time": "2022-10-06T19:21:21.877262Z",
     "start_time": "2022-10-06T19:21:18.719402Z"
    }
   },
   "outputs": [],
   "source": [
    "# removing all duplicate comments which mostly include automatic replies from bots or [removed] and [deleted] comments\n",
    "all_com = all_com[~all_com.body.duplicated(keep=False)].reset_index(drop=True)"
   ]
  },
  {
   "cell_type": "code",
   "execution_count": 241,
   "id": "5dd9027d",
   "metadata": {
    "ExecuteTime": {
     "end_time": "2022-10-06T19:22:36.240552Z",
     "start_time": "2022-10-06T19:22:29.533763Z"
    }
   },
   "outputs": [],
   "source": [
    "# list of indexes of all comments that have only one word.\n",
    "one_word = list(all_com[[len(i.split())==1 for i in all_com['body'].values]].index)\n",
    "# dropping all the comments that have one word only\n",
    "all_com = all_com.drop(index=one_word).reset_index(drop=True)"
   ]
  },
  {
   "cell_type": "code",
   "execution_count": 243,
   "id": "84e61b57",
   "metadata": {
    "ExecuteTime": {
     "end_time": "2022-10-06T19:23:12.453162Z",
     "start_time": "2022-10-06T19:23:09.260837Z"
    }
   },
   "outputs": [],
   "source": [
    "# grouping all comments with the same link_id (i.e. beloning to the same submission)\n",
    "all_com = pd.DataFrame(all_com.groupby('link_id')['body'].sum()).reset_index(level=0)"
   ]
  },
  {
   "cell_type": "code",
   "execution_count": 244,
   "id": "7f1c6380",
   "metadata": {
    "ExecuteTime": {
     "end_time": "2022-10-06T19:24:15.570779Z",
     "start_time": "2022-10-06T19:24:15.393653Z"
    }
   },
   "outputs": [],
   "source": [
    "# removing 't3_' from link_id to find a match in dataframe withs submissions\n",
    "all_com['link_id'] = all_com.link_id.map(lambda x: x.strip(\"t3_\"))\n",
    "all_com.rename(columns={'link_id':'id'},inplace=True)"
   ]
  },
  {
   "cell_type": "code",
   "execution_count": 252,
   "id": "013f849a",
   "metadata": {
    "ExecuteTime": {
     "end_time": "2022-10-06T19:28:14.888935Z",
     "start_time": "2022-10-06T19:28:08.266168Z"
    }
   },
   "outputs": [],
   "source": [
    "# merging submissions and comments on their id\n",
    "all_data = pd.merge(all_sub,all_com,how='left',on=['id'])"
   ]
  },
  {
   "cell_type": "code",
   "execution_count": 255,
   "id": "fb4fab76",
   "metadata": {
    "ExecuteTime": {
     "end_time": "2022-10-06T19:29:30.000502Z",
     "start_time": "2022-10-06T19:29:29.780334Z"
    }
   },
   "outputs": [],
   "source": [
    "all_data = all_data[all_data['body'] != '<NA>'].reset_index(drop=True)"
   ]
  },
  {
   "cell_type": "code",
   "execution_count": 257,
   "id": "ee6add00",
   "metadata": {
    "ExecuteTime": {
     "end_time": "2022-10-06T19:30:36.689200Z",
     "start_time": "2022-10-06T19:30:36.665196Z"
    }
   },
   "outputs": [
    {
     "data": {
      "text/html": [
       "<div>\n",
       "<style scoped>\n",
       "    .dataframe tbody tr th:only-of-type {\n",
       "        vertical-align: middle;\n",
       "    }\n",
       "\n",
       "    .dataframe tbody tr th {\n",
       "        vertical-align: top;\n",
       "    }\n",
       "\n",
       "    .dataframe thead th {\n",
       "        text-align: right;\n",
       "    }\n",
       "</style>\n",
       "<table border=\"1\" class=\"dataframe\">\n",
       "  <thead>\n",
       "    <tr style=\"text-align: right;\">\n",
       "      <th></th>\n",
       "      <th>id</th>\n",
       "      <th>post_body</th>\n",
       "      <th>title</th>\n",
       "      <th>created</th>\n",
       "      <th>comment_body</th>\n",
       "    </tr>\n",
       "  </thead>\n",
       "  <tbody>\n",
       "    <tr>\n",
       "      <th>0</th>\n",
       "      <td>xhrlh6</td>\n",
       "      <td>i've been having these thoughts lately like\\n\\...</td>\n",
       "      <td>do you ever feel like not being alive anymore</td>\n",
       "      <td>2022-09-19 00:46:32</td>\n",
       "      <td>As for anchors My only anchor is I need to be ...</td>\n",
       "    </tr>\n",
       "    <tr>\n",
       "      <th>1</th>\n",
       "      <td>xhrajv</td>\n",
       "      <td>i've been going through a hard time lately and...</td>\n",
       "      <td>why do depressed people shave their heads</td>\n",
       "      <td>2022-09-19 00:34:15</td>\n",
       "      <td>I don’t know because I never had the urge but ...</td>\n",
       "    </tr>\n",
       "    <tr>\n",
       "      <th>2</th>\n",
       "      <td>xhr49p</td>\n",
       "      <td>idk why but every now and then i'll just get t...</td>\n",
       "      <td>random urge to kill people</td>\n",
       "      <td>2022-09-19 00:27:15</td>\n",
       "      <td>You are a coward that can't handle the fact th...</td>\n",
       "    </tr>\n",
       "    <tr>\n",
       "      <th>3</th>\n",
       "      <td>xhq4pa</td>\n",
       "      <td>i have ocd that gives me intrusive thoughts ab...</td>\n",
       "      <td>need a therapist that specializes in concernin...</td>\n",
       "      <td>2022-09-18 23:46:40</td>\n",
       "      <td>Unless there is an actual crime or abuse to re...</td>\n",
       "    </tr>\n",
       "    <tr>\n",
       "      <th>4</th>\n",
       "      <td>xhpsmb</td>\n",
       "      <td>i have no friends, i don't like my family at a...</td>\n",
       "      <td>17m i think i should end my life early</td>\n",
       "      <td>2022-09-18 23:33:01</td>\n",
       "      <td>Aye yes, I know when I get depressed I sit in ...</td>\n",
       "    </tr>\n",
       "  </tbody>\n",
       "</table>\n",
       "</div>"
      ],
      "text/plain": [
       "       id                                          post_body  \\\n",
       "0  xhrlh6  i've been having these thoughts lately like\\n\\...   \n",
       "1  xhrajv  i've been going through a hard time lately and...   \n",
       "2  xhr49p  idk why but every now and then i'll just get t...   \n",
       "3  xhq4pa  i have ocd that gives me intrusive thoughts ab...   \n",
       "4  xhpsmb  i have no friends, i don't like my family at a...   \n",
       "\n",
       "                                               title             created  \\\n",
       "0      do you ever feel like not being alive anymore 2022-09-19 00:46:32   \n",
       "1          why do depressed people shave their heads 2022-09-19 00:34:15   \n",
       "2                         random urge to kill people 2022-09-19 00:27:15   \n",
       "3  need a therapist that specializes in concernin... 2022-09-18 23:46:40   \n",
       "4             17m i think i should end my life early 2022-09-18 23:33:01   \n",
       "\n",
       "                                        comment_body  \n",
       "0  As for anchors My only anchor is I need to be ...  \n",
       "1  I don’t know because I never had the urge but ...  \n",
       "2  You are a coward that can't handle the fact th...  \n",
       "3  Unless there is an actual crime or abuse to re...  \n",
       "4  Aye yes, I know when I get depressed I sit in ...  "
      ]
     },
     "execution_count": 257,
     "metadata": {},
     "output_type": "execute_result"
    }
   ],
   "source": [
    "all_data.rename(columns = {'body':'comment_body'},inplace=True)\n",
    "all_data.head()"
   ]
  },
  {
   "cell_type": "markdown",
   "id": "98a7b201",
   "metadata": {},
   "source": [
    "# Since we're only interested in submissions that have a question, we will need to analyze all the titles of submission and check if they are questions of not"
   ]
  },
  {
   "cell_type": "code",
   "execution_count": 260,
   "id": "3aa2cc2c",
   "metadata": {
    "ExecuteTime": {
     "end_time": "2022-10-06T19:31:04.796879Z",
     "start_time": "2022-10-06T19:31:04.752838Z"
    }
   },
   "outputs": [],
   "source": [
    "question_words = [\"what\", \"why\", \"when\", \"where\", \"name\", \"is\", \"how\", \"do\", \"does\", \n",
    "                  \"which\", \"are\", \"could\", \"would\", \"should\", \"has\", \"have\", \"whom\", \n",
    "                  \"whose\", \"don't\",'am','can',\"do i\", \"do you\", \"what\", \"who\", \"is it\", \n",
    "                  \"why\",\"would you\", \"how\",\"is there\",\"are there\", \"is it so\", \"is this true\" ,\n",
    "                  \"to know\", \"is that true\", \"are we\", \"am i\", \"question is\", \"tell me more\", \n",
    "                  \"can i\", \"can we\", \"tell me\", \"can you explain\",\"didn't\",\"doesn't\",\"haven't\",\"isn't\",\"aren't\",\"can't\",\"couldn't\",\"wouldn't\",\"won't\",\"shouldn't\"]\n",
    "\n",
    "def is_question(text):\n",
    "    question = text.lower()\n",
    "    question = word_tokenize(question)\n",
    "    if any(x in question[0] for x in question_words):\n",
    "        res = True\n",
    "    else:\n",
    "        res = False\n",
    "    return res"
   ]
  },
  {
   "cell_type": "code",
   "execution_count": 261,
   "id": "01d04739",
   "metadata": {
    "ExecuteTime": {
     "end_time": "2022-10-06T19:31:39.937294Z",
     "start_time": "2022-10-06T19:31:16.747578Z"
    }
   },
   "outputs": [],
   "source": [
    "all_data['question'] = all_data.title.apply(is_question)"
   ]
  },
  {
   "cell_type": "code",
   "execution_count": 17,
   "id": "afb58d09",
   "metadata": {
    "ExecuteTime": {
     "end_time": "2022-11-09T00:35:59.276168Z",
     "start_time": "2022-11-09T00:35:54.252282Z"
    }
   },
   "outputs": [
    {
     "name": "stdout",
     "output_type": "stream",
     "text": [
      "Accuracy is :  0.6685606060606061\n"
     ]
    }
   ],
   "source": [
    "### adapted from https://github.com/kartikn27/nlp-question-detection/blob/master/method2.py\n",
    "class IsQuestion():\n",
    "    \n",
    "    # Init constructor\n",
    "    def __init__(self):\n",
    "        posts = self.__get_posts()\n",
    "        feature_set = self.__get_feature_set(posts)\n",
    "        self.classifier = self.__perform_classification(feature_set)\n",
    "        \n",
    "    # get_posts\n",
    "    def __get_posts(self):\n",
    "        return nltk.corpus.nps_chat.xml_posts()\n",
    "    \n",
    "    # get_feature_set\n",
    "    def __get_feature_set(self, posts):\n",
    "        feature_list = []\n",
    "        for post in posts:\n",
    "            post_text = post.text            \n",
    "            features = {}\n",
    "            words = nltk.word_tokenize(post_text)\n",
    "            for word in words:\n",
    "                features['contains({})'.format(word.lower())] = True\n",
    "            feature_list.append((features, post.get('class')))\n",
    "        return feature_list\n",
    "    \n",
    "    # perform_classification\n",
    "    def __perform_classification(self, feature_set):\n",
    "        training_size = int(len(feature_set) * 0.1)\n",
    "        train_set, test_set = feature_set[training_size:], feature_set[:training_size]\n",
    "        classifier = nltk.NaiveBayesClassifier.train(train_set)\n",
    "        print('Accuracy is : ', nltk.classify.accuracy(classifier, test_set))\n",
    "        return classifier\n",
    "        \n",
    "    #  get_question_words_set\n",
    "    def __get_question_words_set(self):\n",
    "        question_word_list = ['what', 'where', 'when','how','why','did','do','does','have','has','am','is','are',\n",
    "                              'can','could','may','would','will','should',\"has\", \"have\", \"whom\",'whose',\"didn't\",\n",
    "                              \"doesn't\",\"haven't\",\"isn't\",\"aren't\",\"can't\",\"couldn't\",\"wouldn't\",\"won't\",\"shouldn't\",'?',\n",
    "                             \"what\", \"why\", \"when\", \"where\", \"name\", \"is\", \"how\", \"do\", \"does\", \n",
    "                  \"which\", \"are\", \"could\", \"would\", \"should\", \"has\", \"have\", \"whom\", \n",
    "                  \"whose\", \"don't\",'am','can',\"do i\", \"do you\", \"what\", \"who\", \"is it\", \n",
    "                  \"why\",\"would you\", \"how\",\"is there\",\"are there\", \"is it so\", \"is this true\" ,\n",
    "                  \"to know\", \"is that true\", \"are we\", \"am i\", \"question is\", \"tell me more\", \n",
    "                  \"can i\", \"can we\", \"tell me\", \"can you explain\",\"didn't\",\"doesn't\",\"haven't\",\"isn't\",\"aren't\",\"can't\",\"couldn't\",\"wouldn't\",\"won't\",\"shouldn't\"]\n",
    "        return set(question_word_list)        \n",
    "    \n",
    "    # predict_question\n",
    "    def predict_question(self, text):\n",
    "        words = nltk.word_tokenize(text.lower())        \n",
    "        if self.__get_question_words_set().intersection(words) == False:\n",
    "            return 0\n",
    "        if '?' in text:\n",
    "            return 1\n",
    "        \n",
    "        features = {}\n",
    "        for word in words:\n",
    "            features['contains({})'.format(word.lower())] = True            \n",
    "        \n",
    "        prediction_result = self.classifier.classify(features)\n",
    "        if prediction_result == 'whQuestion' or prediction_result == 'ynQuestion':\n",
    "            return 1\n",
    "        return 0\n",
    "\n",
    "isQ = IsQuestion()"
   ]
  },
  {
   "cell_type": "code",
   "execution_count": 266,
   "id": "ebb025c4",
   "metadata": {
    "ExecuteTime": {
     "end_time": "2022-10-06T19:36:10.450087Z",
     "start_time": "2022-10-06T19:34:49.089283Z"
    }
   },
   "outputs": [],
   "source": [
    "all_data['is_question'] = all_data['title'].apply(isQ.predict_question)"
   ]
  },
  {
   "cell_type": "code",
   "execution_count": 267,
   "id": "8b4df61d",
   "metadata": {
    "ExecuteTime": {
     "end_time": "2022-10-06T19:36:12.711570Z",
     "start_time": "2022-10-06T19:36:12.689555Z"
    }
   },
   "outputs": [
    {
     "data": {
      "text/html": [
       "<div>\n",
       "<style scoped>\n",
       "    .dataframe tbody tr th:only-of-type {\n",
       "        vertical-align: middle;\n",
       "    }\n",
       "\n",
       "    .dataframe tbody tr th {\n",
       "        vertical-align: top;\n",
       "    }\n",
       "\n",
       "    .dataframe thead th {\n",
       "        text-align: right;\n",
       "    }\n",
       "</style>\n",
       "<table border=\"1\" class=\"dataframe\">\n",
       "  <thead>\n",
       "    <tr style=\"text-align: right;\">\n",
       "      <th></th>\n",
       "      <th>id</th>\n",
       "      <th>post_body</th>\n",
       "      <th>title</th>\n",
       "      <th>created</th>\n",
       "      <th>comment_body</th>\n",
       "      <th>question</th>\n",
       "      <th>is_question</th>\n",
       "    </tr>\n",
       "  </thead>\n",
       "  <tbody>\n",
       "    <tr>\n",
       "      <th>0</th>\n",
       "      <td>xhrlh6</td>\n",
       "      <td>i've been having these thoughts lately like\\n\\...</td>\n",
       "      <td>do you ever feel like not being alive anymore</td>\n",
       "      <td>2022-09-19 00:46:32</td>\n",
       "      <td>As for anchors My only anchor is I need to be ...</td>\n",
       "      <td>True</td>\n",
       "      <td>0</td>\n",
       "    </tr>\n",
       "    <tr>\n",
       "      <th>1</th>\n",
       "      <td>xhrajv</td>\n",
       "      <td>i've been going through a hard time lately and...</td>\n",
       "      <td>why do depressed people shave their heads</td>\n",
       "      <td>2022-09-19 00:34:15</td>\n",
       "      <td>I don’t know because I never had the urge but ...</td>\n",
       "      <td>True</td>\n",
       "      <td>0</td>\n",
       "    </tr>\n",
       "    <tr>\n",
       "      <th>2</th>\n",
       "      <td>xhr49p</td>\n",
       "      <td>idk why but every now and then i'll just get t...</td>\n",
       "      <td>random urge to kill people</td>\n",
       "      <td>2022-09-19 00:27:15</td>\n",
       "      <td>You are a coward that can't handle the fact th...</td>\n",
       "      <td>True</td>\n",
       "      <td>0</td>\n",
       "    </tr>\n",
       "    <tr>\n",
       "      <th>3</th>\n",
       "      <td>xhq4pa</td>\n",
       "      <td>i have ocd that gives me intrusive thoughts ab...</td>\n",
       "      <td>need a therapist that specializes in concernin...</td>\n",
       "      <td>2022-09-18 23:46:40</td>\n",
       "      <td>Unless there is an actual crime or abuse to re...</td>\n",
       "      <td>False</td>\n",
       "      <td>0</td>\n",
       "    </tr>\n",
       "    <tr>\n",
       "      <th>4</th>\n",
       "      <td>xhpsmb</td>\n",
       "      <td>i have no friends, i don't like my family at a...</td>\n",
       "      <td>17m i think i should end my life early</td>\n",
       "      <td>2022-09-18 23:33:01</td>\n",
       "      <td>Aye yes, I know when I get depressed I sit in ...</td>\n",
       "      <td>False</td>\n",
       "      <td>0</td>\n",
       "    </tr>\n",
       "    <tr>\n",
       "      <th>...</th>\n",
       "      <td>...</td>\n",
       "      <td>...</td>\n",
       "      <td>...</td>\n",
       "      <td>...</td>\n",
       "      <td>...</td>\n",
       "      <td>...</td>\n",
       "      <td>...</td>\n",
       "    </tr>\n",
       "    <tr>\n",
       "      <th>202303</th>\n",
       "      <td>2glqvl</td>\n",
       "      <td>i've been struggling with mental illness (depr...</td>\n",
       "      <td>does mental illness, with a suicide attempt, q...</td>\n",
       "      <td>2014-09-17 02:26:12</td>\n",
       "      <td>Yes. It is a life threatening illness. You wil...</td>\n",
       "      <td>True</td>\n",
       "      <td>1</td>\n",
       "    </tr>\n",
       "    <tr>\n",
       "      <th>202304</th>\n",
       "      <td>2ea7v6</td>\n",
       "      <td>so, i am getting really bad. i hear strange to...</td>\n",
       "      <td>i am scared. everything in here and on /r/depr...</td>\n",
       "      <td>2014-08-22 19:17:29</td>\n",
       "      <td>I see mental illness as a disease that gets yo...</td>\n",
       "      <td>False</td>\n",
       "      <td>0</td>\n",
       "    </tr>\n",
       "    <tr>\n",
       "      <th>202305</th>\n",
       "      <td>27k65x</td>\n",
       "      <td>my husband and i are both pretty fucked up rig...</td>\n",
       "      <td>losing it</td>\n",
       "      <td>2014-06-07 21:27:59</td>\n",
       "      <td>It's unfortunate to hear that one good thing l...</td>\n",
       "      <td>False</td>\n",
       "      <td>0</td>\n",
       "    </tr>\n",
       "    <tr>\n",
       "      <th>202306</th>\n",
       "      <td>200k7v</td>\n",
       "      <td>nan</td>\n",
       "      <td>love suicide</td>\n",
       "      <td>2014-03-10 06:24:27</td>\n",
       "      <td>Just posted a link to a blog post I did on men...</td>\n",
       "      <td>False</td>\n",
       "      <td>0</td>\n",
       "    </tr>\n",
       "    <tr>\n",
       "      <th>202307</th>\n",
       "      <td>1wmc1o</td>\n",
       "      <td>nan</td>\n",
       "      <td>let’s talk privately a minute about mental health</td>\n",
       "      <td>2014-01-31 08:13:02</td>\n",
       "      <td>Kick ass article.</td>\n",
       "      <td>False</td>\n",
       "      <td>0</td>\n",
       "    </tr>\n",
       "  </tbody>\n",
       "</table>\n",
       "<p>202308 rows × 7 columns</p>\n",
       "</div>"
      ],
      "text/plain": [
       "            id                                          post_body  \\\n",
       "0       xhrlh6  i've been having these thoughts lately like\\n\\...   \n",
       "1       xhrajv  i've been going through a hard time lately and...   \n",
       "2       xhr49p  idk why but every now and then i'll just get t...   \n",
       "3       xhq4pa  i have ocd that gives me intrusive thoughts ab...   \n",
       "4       xhpsmb  i have no friends, i don't like my family at a...   \n",
       "...        ...                                                ...   \n",
       "202303  2glqvl  i've been struggling with mental illness (depr...   \n",
       "202304  2ea7v6  so, i am getting really bad. i hear strange to...   \n",
       "202305  27k65x  my husband and i are both pretty fucked up rig...   \n",
       "202306  200k7v                                                nan   \n",
       "202307  1wmc1o                                                nan   \n",
       "\n",
       "                                                    title             created  \\\n",
       "0           do you ever feel like not being alive anymore 2022-09-19 00:46:32   \n",
       "1               why do depressed people shave their heads 2022-09-19 00:34:15   \n",
       "2                              random urge to kill people 2022-09-19 00:27:15   \n",
       "3       need a therapist that specializes in concernin... 2022-09-18 23:46:40   \n",
       "4                  17m i think i should end my life early 2022-09-18 23:33:01   \n",
       "...                                                   ...                 ...   \n",
       "202303  does mental illness, with a suicide attempt, q... 2014-09-17 02:26:12   \n",
       "202304  i am scared. everything in here and on /r/depr... 2014-08-22 19:17:29   \n",
       "202305                                          losing it 2014-06-07 21:27:59   \n",
       "202306                                       love suicide 2014-03-10 06:24:27   \n",
       "202307  let’s talk privately a minute about mental health 2014-01-31 08:13:02   \n",
       "\n",
       "                                             comment_body  question  \\\n",
       "0       As for anchors My only anchor is I need to be ...      True   \n",
       "1       I don’t know because I never had the urge but ...      True   \n",
       "2       You are a coward that can't handle the fact th...      True   \n",
       "3       Unless there is an actual crime or abuse to re...     False   \n",
       "4       Aye yes, I know when I get depressed I sit in ...     False   \n",
       "...                                                   ...       ...   \n",
       "202303  Yes. It is a life threatening illness. You wil...      True   \n",
       "202304  I see mental illness as a disease that gets yo...     False   \n",
       "202305  It's unfortunate to hear that one good thing l...     False   \n",
       "202306  Just posted a link to a blog post I did on men...     False   \n",
       "202307                                 Kick ass article.      False   \n",
       "\n",
       "        is_question  \n",
       "0                 0  \n",
       "1                 0  \n",
       "2                 0  \n",
       "3                 0  \n",
       "4                 0  \n",
       "...             ...  \n",
       "202303            1  \n",
       "202304            0  \n",
       "202305            0  \n",
       "202306            0  \n",
       "202307            0  \n",
       "\n",
       "[202308 rows x 7 columns]"
      ]
     },
     "execution_count": 267,
     "metadata": {},
     "output_type": "execute_result"
    }
   ],
   "source": [
    "all_data"
   ]
  },
  {
   "cell_type": "code",
   "execution_count": 268,
   "id": "6f0e174e",
   "metadata": {
    "ExecuteTime": {
     "end_time": "2022-10-06T19:38:18.107294Z",
     "start_time": "2022-10-06T19:38:15.460219Z"
    }
   },
   "outputs": [],
   "source": [
    "# since both ways i used are not perfectly accurate, I'm going to keep rows that have 'question' != False and \"is_question\" != 0\n",
    "all_data = all_data.loc[~((all_data['question'] == False) & (all_data['is_question'] == 0))]"
   ]
  },
  {
   "cell_type": "code",
   "execution_count": 270,
   "id": "218818a1",
   "metadata": {
    "ExecuteTime": {
     "end_time": "2022-10-06T19:39:31.851797Z",
     "start_time": "2022-10-06T19:39:31.770702Z"
    }
   },
   "outputs": [],
   "source": [
    "all_data = all_data.drop(columns=['question','is_question']).reset_index(drop=True)"
   ]
  },
  {
   "cell_type": "code",
   "execution_count": 271,
   "id": "1ee6d1ab",
   "metadata": {
    "ExecuteTime": {
     "end_time": "2022-10-06T19:39:36.204623Z",
     "start_time": "2022-10-06T19:39:36.185608Z"
    }
   },
   "outputs": [
    {
     "data": {
      "text/html": [
       "<div>\n",
       "<style scoped>\n",
       "    .dataframe tbody tr th:only-of-type {\n",
       "        vertical-align: middle;\n",
       "    }\n",
       "\n",
       "    .dataframe tbody tr th {\n",
       "        vertical-align: top;\n",
       "    }\n",
       "\n",
       "    .dataframe thead th {\n",
       "        text-align: right;\n",
       "    }\n",
       "</style>\n",
       "<table border=\"1\" class=\"dataframe\">\n",
       "  <thead>\n",
       "    <tr style=\"text-align: right;\">\n",
       "      <th></th>\n",
       "      <th>id</th>\n",
       "      <th>post_body</th>\n",
       "      <th>title</th>\n",
       "      <th>created</th>\n",
       "      <th>comment_body</th>\n",
       "    </tr>\n",
       "  </thead>\n",
       "  <tbody>\n",
       "    <tr>\n",
       "      <th>0</th>\n",
       "      <td>xhrlh6</td>\n",
       "      <td>i've been having these thoughts lately like\\n\\...</td>\n",
       "      <td>do you ever feel like not being alive anymore</td>\n",
       "      <td>2022-09-19 00:46:32</td>\n",
       "      <td>As for anchors My only anchor is I need to be ...</td>\n",
       "    </tr>\n",
       "    <tr>\n",
       "      <th>1</th>\n",
       "      <td>xhrajv</td>\n",
       "      <td>i've been going through a hard time lately and...</td>\n",
       "      <td>why do depressed people shave their heads</td>\n",
       "      <td>2022-09-19 00:34:15</td>\n",
       "      <td>I don’t know because I never had the urge but ...</td>\n",
       "    </tr>\n",
       "    <tr>\n",
       "      <th>2</th>\n",
       "      <td>xhr49p</td>\n",
       "      <td>idk why but every now and then i'll just get t...</td>\n",
       "      <td>random urge to kill people</td>\n",
       "      <td>2022-09-19 00:27:15</td>\n",
       "      <td>You are a coward that can't handle the fact th...</td>\n",
       "    </tr>\n",
       "    <tr>\n",
       "      <th>3</th>\n",
       "      <td>xhowxf</td>\n",
       "      <td>when i get really anxious, i slap my arm and t...</td>\n",
       "      <td>is slapping my arm when i’m anxious normal?</td>\n",
       "      <td>2022-09-18 22:58:06</td>\n",
       "      <td>'Normal' and 'crazy' aren't binary opposites, ...</td>\n",
       "    </tr>\n",
       "    <tr>\n",
       "      <th>4</th>\n",
       "      <td>xhovdn</td>\n",
       "      <td>i’ve been to a few psychiatrists/therapists ov...</td>\n",
       "      <td>tips to find a psychiatrist that specializes i...</td>\n",
       "      <td>2022-09-18 22:56:17</td>\n",
       "      <td>I would assume the majority are aware of anxie...</td>\n",
       "    </tr>\n",
       "    <tr>\n",
       "      <th>...</th>\n",
       "      <td>...</td>\n",
       "      <td>...</td>\n",
       "      <td>...</td>\n",
       "      <td>...</td>\n",
       "      <td>...</td>\n",
       "    </tr>\n",
       "    <tr>\n",
       "      <th>82561</th>\n",
       "      <td>2wigq2</td>\n",
       "      <td>i'm not looking for a diagnosis, just some ins...</td>\n",
       "      <td>have you heard of this?</td>\n",
       "      <td>2015-02-20 08:05:16</td>\n",
       "      <td>I assume you have some sort of existing medica...</td>\n",
       "    </tr>\n",
       "    <tr>\n",
       "      <th>82562</th>\n",
       "      <td>2vr17i</td>\n",
       "      <td>how do i find friends to have adventures with ...</td>\n",
       "      <td>how do i stop my intensity?</td>\n",
       "      <td>2015-02-13 13:12:20</td>\n",
       "      <td>I have been diagnosed officially and I am not ...</td>\n",
       "    </tr>\n",
       "    <tr>\n",
       "      <th>82563</th>\n",
       "      <td>2s5g3q</td>\n",
       "      <td>oftain if someone will repeat a word directly ...</td>\n",
       "      <td>does this have a name?</td>\n",
       "      <td>2015-01-12 13:36:53</td>\n",
       "      <td>I asked my councillor but he wasn't too sure, ...</td>\n",
       "    </tr>\n",
       "    <tr>\n",
       "      <th>82564</th>\n",
       "      <td>2n3gpd</td>\n",
       "      <td>the patterns of loosely related random words a...</td>\n",
       "      <td>do schizophrenics 'understand' other schizophr...</td>\n",
       "      <td>2014-11-22 22:08:51</td>\n",
       "      <td>I don't think it works that way. I do find tha...</td>\n",
       "    </tr>\n",
       "    <tr>\n",
       "      <th>82565</th>\n",
       "      <td>2glqvl</td>\n",
       "      <td>i've been struggling with mental illness (depr...</td>\n",
       "      <td>does mental illness, with a suicide attempt, q...</td>\n",
       "      <td>2014-09-17 02:26:12</td>\n",
       "      <td>Yes. It is a life threatening illness. You wil...</td>\n",
       "    </tr>\n",
       "  </tbody>\n",
       "</table>\n",
       "<p>82566 rows × 5 columns</p>\n",
       "</div>"
      ],
      "text/plain": [
       "           id                                          post_body  \\\n",
       "0      xhrlh6  i've been having these thoughts lately like\\n\\...   \n",
       "1      xhrajv  i've been going through a hard time lately and...   \n",
       "2      xhr49p  idk why but every now and then i'll just get t...   \n",
       "3      xhowxf  when i get really anxious, i slap my arm and t...   \n",
       "4      xhovdn  i’ve been to a few psychiatrists/therapists ov...   \n",
       "...       ...                                                ...   \n",
       "82561  2wigq2  i'm not looking for a diagnosis, just some ins...   \n",
       "82562  2vr17i  how do i find friends to have adventures with ...   \n",
       "82563  2s5g3q  oftain if someone will repeat a word directly ...   \n",
       "82564  2n3gpd  the patterns of loosely related random words a...   \n",
       "82565  2glqvl  i've been struggling with mental illness (depr...   \n",
       "\n",
       "                                                   title             created  \\\n",
       "0          do you ever feel like not being alive anymore 2022-09-19 00:46:32   \n",
       "1              why do depressed people shave their heads 2022-09-19 00:34:15   \n",
       "2                             random urge to kill people 2022-09-19 00:27:15   \n",
       "3            is slapping my arm when i’m anxious normal? 2022-09-18 22:58:06   \n",
       "4      tips to find a psychiatrist that specializes i... 2022-09-18 22:56:17   \n",
       "...                                                  ...                 ...   \n",
       "82561                            have you heard of this? 2015-02-20 08:05:16   \n",
       "82562                        how do i stop my intensity? 2015-02-13 13:12:20   \n",
       "82563                             does this have a name? 2015-01-12 13:36:53   \n",
       "82564  do schizophrenics 'understand' other schizophr... 2014-11-22 22:08:51   \n",
       "82565  does mental illness, with a suicide attempt, q... 2014-09-17 02:26:12   \n",
       "\n",
       "                                            comment_body  \n",
       "0      As for anchors My only anchor is I need to be ...  \n",
       "1      I don’t know because I never had the urge but ...  \n",
       "2      You are a coward that can't handle the fact th...  \n",
       "3      'Normal' and 'crazy' aren't binary opposites, ...  \n",
       "4      I would assume the majority are aware of anxie...  \n",
       "...                                                  ...  \n",
       "82561  I assume you have some sort of existing medica...  \n",
       "82562  I have been diagnosed officially and I am not ...  \n",
       "82563  I asked my councillor but he wasn't too sure, ...  \n",
       "82564  I don't think it works that way. I do find tha...  \n",
       "82565  Yes. It is a life threatening illness. You wil...  \n",
       "\n",
       "[82566 rows x 5 columns]"
      ]
     },
     "execution_count": 271,
     "metadata": {},
     "output_type": "execute_result"
    }
   ],
   "source": [
    "all_data"
   ]
  },
  {
   "cell_type": "code",
   "execution_count": 273,
   "id": "7ad71ee1",
   "metadata": {
    "ExecuteTime": {
     "end_time": "2022-10-06T19:43:34.084595Z",
     "start_time": "2022-10-06T19:43:34.046570Z"
    }
   },
   "outputs": [],
   "source": [
    "# Dropping the columns that doesn't encode useful information and renaming the columns nicely for intepretability\n",
    "all_data.drop(['id','created'], axis = 1, inplace = True)"
   ]
  },
  {
   "cell_type": "code",
   "execution_count": 282,
   "id": "b19001bb",
   "metadata": {
    "ExecuteTime": {
     "end_time": "2022-10-06T19:51:51.243967Z",
     "start_time": "2022-10-06T19:51:50.927325Z"
    }
   },
   "outputs": [
    {
     "data": {
      "text/plain": [
       "'I won 1st_place_medal in cricket'"
      ]
     },
     "execution_count": 282,
     "metadata": {},
     "output_type": "execute_result"
    }
   ],
   "source": [
    "# Replacing emojis with text\n",
    "with open('Emoji_Dict.p', 'rb') as fp:\n",
    "    Emoji_Dict = pickle.load(fp)\n",
    "Emoji_Dict = {v: k for k, v in Emoji_Dict.items()}\n",
    "\n",
    "def convert_emojis_to_word(text):\n",
    "    for emot in Emoji_Dict:\n",
    "        text = re.sub(r'('+emot+')', \"_\".join(Emoji_Dict[emot].replace(\",\",\"\").replace(\":\",\"\").split()), text)\n",
    "    return text\n",
    "# Example\n",
    "text = \"I won 🥇 in 🏏\"\n",
    "convert_emojis_to_word(text)"
   ]
  },
  {
   "cell_type": "code",
   "execution_count": 283,
   "id": "d848f9b5",
   "metadata": {
    "ExecuteTime": {
     "end_time": "2022-10-06T22:16:37.457369Z",
     "start_time": "2022-10-06T19:52:35.430369Z"
    }
   },
   "outputs": [],
   "source": [
    "all_data['title'] = all_data['title'].apply(convert_emojis_to_word)"
   ]
  },
  {
   "cell_type": "code",
   "execution_count": 285,
   "id": "f0672e5b",
   "metadata": {
    "ExecuteTime": {
     "end_time": "2022-10-07T00:46:31.770183Z",
     "start_time": "2022-10-06T22:21:23.070255Z"
    }
   },
   "outputs": [],
   "source": [
    "all_data['post_body'] = all_data['post_body'].apply(convert_emojis_to_word)"
   ]
  },
  {
   "cell_type": "code",
   "execution_count": 286,
   "id": "963af07c",
   "metadata": {
    "ExecuteTime": {
     "end_time": "2022-10-07T03:14:31.921493Z",
     "start_time": "2022-10-07T00:46:31.823295Z"
    }
   },
   "outputs": [],
   "source": [
    "all_data['comment_body'] = all_data['comment_body'].apply(convert_emojis_to_word)"
   ]
  },
  {
   "cell_type": "code",
   "execution_count": 287,
   "id": "57184643",
   "metadata": {
    "ExecuteTime": {
     "end_time": "2022-10-07T03:14:41.309392Z",
     "start_time": "2022-10-07T03:14:31.931497Z"
    }
   },
   "outputs": [],
   "source": [
    "all_data.to_csv('../Data/all_data.csv',index=False)"
   ]
  },
  {
   "cell_type": "markdown",
   "id": "d6c623d3",
   "metadata": {},
   "source": [
    "# Load the data not to run the code above all over again"
   ]
  },
  {
   "cell_type": "code",
   "execution_count": 109,
   "id": "67da9367",
   "metadata": {
    "ExecuteTime": {
     "end_time": "2022-10-24T00:01:08.676046Z",
     "start_time": "2022-10-24T00:01:05.346378Z"
    }
   },
   "outputs": [],
   "source": [
    "all_data = pd.read_csv('../Data/all_data.csv')"
   ]
  },
  {
   "cell_type": "code",
   "execution_count": 37,
   "id": "57d9a2fa",
   "metadata": {
    "ExecuteTime": {
     "end_time": "2022-10-23T21:18:42.209978Z",
     "start_time": "2022-10-23T21:18:42.195967Z"
    }
   },
   "outputs": [
    {
     "data": {
      "text/html": [
       "<div>\n",
       "<style scoped>\n",
       "    .dataframe tbody tr th:only-of-type {\n",
       "        vertical-align: middle;\n",
       "    }\n",
       "\n",
       "    .dataframe tbody tr th {\n",
       "        vertical-align: top;\n",
       "    }\n",
       "\n",
       "    .dataframe thead th {\n",
       "        text-align: right;\n",
       "    }\n",
       "</style>\n",
       "<table border=\"1\" class=\"dataframe\">\n",
       "  <thead>\n",
       "    <tr style=\"text-align: right;\">\n",
       "      <th></th>\n",
       "      <th>post_body</th>\n",
       "      <th>title</th>\n",
       "      <th>comment_body</th>\n",
       "    </tr>\n",
       "  </thead>\n",
       "  <tbody>\n",
       "    <tr>\n",
       "      <th>0</th>\n",
       "      <td>i've been having these thoughts lately like\\n\\...</td>\n",
       "      <td>do you ever feel like not being alive anymore</td>\n",
       "      <td>As for anchors My only anchor is I need to be ...</td>\n",
       "    </tr>\n",
       "    <tr>\n",
       "      <th>1</th>\n",
       "      <td>i've been going through a hard time lately and...</td>\n",
       "      <td>why do depressed people shave their heads</td>\n",
       "      <td>I don’t know because I never had the urge but ...</td>\n",
       "    </tr>\n",
       "    <tr>\n",
       "      <th>2</th>\n",
       "      <td>idk why but every now and then i'll just get t...</td>\n",
       "      <td>random urge to kill people</td>\n",
       "      <td>You are a coward that can't handle the fact th...</td>\n",
       "    </tr>\n",
       "    <tr>\n",
       "      <th>3</th>\n",
       "      <td>when i get really anxious, i slap my arm and t...</td>\n",
       "      <td>is slapping my arm when i’m anxious normal?</td>\n",
       "      <td>'Normal' and 'crazy' aren't binary opposites, ...</td>\n",
       "    </tr>\n",
       "    <tr>\n",
       "      <th>4</th>\n",
       "      <td>i’ve been to a few psychiatrists/therapists ov...</td>\n",
       "      <td>tips to find a psychiatrist that specializes i...</td>\n",
       "      <td>I would assume the majority are aware of anxie...</td>\n",
       "    </tr>\n",
       "    <tr>\n",
       "      <th>...</th>\n",
       "      <td>...</td>\n",
       "      <td>...</td>\n",
       "      <td>...</td>\n",
       "    </tr>\n",
       "    <tr>\n",
       "      <th>82561</th>\n",
       "      <td>i'm not looking for a diagnosis, just some ins...</td>\n",
       "      <td>have you heard of this?</td>\n",
       "      <td>I assume you have some sort of existing medica...</td>\n",
       "    </tr>\n",
       "    <tr>\n",
       "      <th>82562</th>\n",
       "      <td>how do i find friends to have adventures with ...</td>\n",
       "      <td>how do i stop my intensity?</td>\n",
       "      <td>I have been diagnosed officially and I am not ...</td>\n",
       "    </tr>\n",
       "    <tr>\n",
       "      <th>82563</th>\n",
       "      <td>oftain if someone will repeat a word directly ...</td>\n",
       "      <td>does this have a name?</td>\n",
       "      <td>I asked my councillor but he wasn't too sure, ...</td>\n",
       "    </tr>\n",
       "    <tr>\n",
       "      <th>82564</th>\n",
       "      <td>the patterns of loosely related random words a...</td>\n",
       "      <td>do schizophrenics 'understand' other schizophr...</td>\n",
       "      <td>I don't think it works that way. I do find tha...</td>\n",
       "    </tr>\n",
       "    <tr>\n",
       "      <th>82565</th>\n",
       "      <td>i've been struggling with mental illness (depr...</td>\n",
       "      <td>does mental illness, with a suicide attempt, q...</td>\n",
       "      <td>Yes. It is a life threatening illness. You wil...</td>\n",
       "    </tr>\n",
       "  </tbody>\n",
       "</table>\n",
       "<p>82566 rows × 3 columns</p>\n",
       "</div>"
      ],
      "text/plain": [
       "                                               post_body  \\\n",
       "0      i've been having these thoughts lately like\\n\\...   \n",
       "1      i've been going through a hard time lately and...   \n",
       "2      idk why but every now and then i'll just get t...   \n",
       "3      when i get really anxious, i slap my arm and t...   \n",
       "4      i’ve been to a few psychiatrists/therapists ov...   \n",
       "...                                                  ...   \n",
       "82561  i'm not looking for a diagnosis, just some ins...   \n",
       "82562  how do i find friends to have adventures with ...   \n",
       "82563  oftain if someone will repeat a word directly ...   \n",
       "82564  the patterns of loosely related random words a...   \n",
       "82565  i've been struggling with mental illness (depr...   \n",
       "\n",
       "                                                   title  \\\n",
       "0          do you ever feel like not being alive anymore   \n",
       "1              why do depressed people shave their heads   \n",
       "2                             random urge to kill people   \n",
       "3            is slapping my arm when i’m anxious normal?   \n",
       "4      tips to find a psychiatrist that specializes i...   \n",
       "...                                                  ...   \n",
       "82561                            have you heard of this?   \n",
       "82562                        how do i stop my intensity?   \n",
       "82563                             does this have a name?   \n",
       "82564  do schizophrenics 'understand' other schizophr...   \n",
       "82565  does mental illness, with a suicide attempt, q...   \n",
       "\n",
       "                                            comment_body  \n",
       "0      As for anchors My only anchor is I need to be ...  \n",
       "1      I don’t know because I never had the urge but ...  \n",
       "2      You are a coward that can't handle the fact th...  \n",
       "3      'Normal' and 'crazy' aren't binary opposites, ...  \n",
       "4      I would assume the majority are aware of anxie...  \n",
       "...                                                  ...  \n",
       "82561  I assume you have some sort of existing medica...  \n",
       "82562  I have been diagnosed officially and I am not ...  \n",
       "82563  I asked my councillor but he wasn't too sure, ...  \n",
       "82564  I don't think it works that way. I do find tha...  \n",
       "82565  Yes. It is a life threatening illness. You wil...  \n",
       "\n",
       "[82566 rows x 3 columns]"
      ]
     },
     "execution_count": 37,
     "metadata": {},
     "output_type": "execute_result"
    }
   ],
   "source": [
    "all_data"
   ]
  },
  {
   "cell_type": "code",
   "execution_count": 38,
   "id": "e1badeeb",
   "metadata": {
    "ExecuteTime": {
     "end_time": "2022-10-23T21:18:44.921275Z",
     "start_time": "2022-10-23T21:18:43.650307Z"
    }
   },
   "outputs": [],
   "source": [
    "# lower all text\n",
    "all_data = all_data.apply(lambda x: x.str.lower())"
   ]
  },
  {
   "cell_type": "code",
   "execution_count": 5,
   "id": "a1764cb1",
   "metadata": {
    "ExecuteTime": {
     "end_time": "2022-10-23T20:38:34.635114Z",
     "start_time": "2022-10-23T20:38:34.590082Z"
    }
   },
   "outputs": [],
   "source": [
    "# convert to string\n",
    "all_data = all_data.astype('string')"
   ]
  },
  {
   "cell_type": "code",
   "execution_count": 39,
   "id": "9ace2eb1",
   "metadata": {
    "ExecuteTime": {
     "end_time": "2022-10-23T21:18:49.886115Z",
     "start_time": "2022-10-23T21:18:49.739619Z"
    }
   },
   "outputs": [],
   "source": [
    "# replace all duplicated post_body with null values\n",
    "duplicated = all_data.duplicated('post_body')\n",
    "all_data.loc[duplicated, ['post_body']] = \" \""
   ]
  },
  {
   "cell_type": "code",
   "execution_count": 7,
   "id": "4491355d",
   "metadata": {
    "ExecuteTime": {
     "end_time": "2022-10-19T17:40:06.936014Z",
     "start_time": "2022-10-19T17:40:06.705814Z"
    }
   },
   "outputs": [],
   "source": [
    "# merge title and post_body\n",
    "all_data['title'] = all_data['title'] + ' '  + all_data['post_body']"
   ]
  },
  {
   "cell_type": "code",
   "execution_count": 8,
   "id": "4d0764cf",
   "metadata": {
    "ExecuteTime": {
     "end_time": "2022-10-19T17:40:08.918274Z",
     "start_time": "2022-10-19T17:40:08.888265Z"
    }
   },
   "outputs": [],
   "source": [
    "all_data.drop(columns=['post_body'],inplace=True)"
   ]
  },
  {
   "cell_type": "code",
   "execution_count": 40,
   "id": "3b151555",
   "metadata": {
    "ExecuteTime": {
     "end_time": "2022-10-23T21:18:52.278863Z",
     "start_time": "2022-10-23T21:18:52.186773Z"
    }
   },
   "outputs": [],
   "source": [
    "all_data = all_data.dropna()"
   ]
  },
  {
   "cell_type": "code",
   "execution_count": 2,
   "id": "eb37f0f9",
   "metadata": {
    "ExecuteTime": {
     "end_time": "2022-10-24T00:21:55.241111Z",
     "start_time": "2022-10-24T00:21:55.233104Z"
    }
   },
   "outputs": [],
   "source": [
    "# remove links\n",
    "def remove_links(doc):\n",
    "    return [re.sub(r'^https?:\\/\\/.*[\\r\\n]*', '', token, flags=re.MULTILINE) for token in doc]\n",
    "all_data = all_data.astype('string').apply(lambda x: remove_links(x))"
   ]
  },
  {
   "cell_type": "code",
   "execution_count": 9,
   "id": "2cc27cea",
   "metadata": {
    "ExecuteTime": {
     "end_time": "2022-10-23T20:47:40.438718Z",
     "start_time": "2022-10-23T20:39:07.678889Z"
    }
   },
   "outputs": [],
   "source": [
    "# remove punctuation\n",
    "import string\n",
    "punctuation = ['\\u200d','?', '....','..','...','','@','#', ',', '.', '\"', ':', ')', '(', '-', '!', '|', ';', \"'\", '$', '&', '/', '[', ']', '>', '%', '=', '*', '+', '\\\\', \n",
    "    '•', '~', '£', '·', '_', '{', '}', '©', '^', '®', '`',  '<', '→', '°', '€', '™', '›',  '♥', '←', '×', '§', '″', '′', 'Â', '█', \n",
    "    '½', 'à', '…', '“', '★', '”', '–', '●', 'â', '►', '−', '¢', '²', '¬', '░', '¶', '↑', '±', '¿', '▾', '═', '¦', '║', '―', '¥', '▓', \n",
    "    '—', '‹', '─', '▒', '：', '¼', '⊕', '▼', '▪', '†', '■', '’', '▀', '¨', '▄', '♫', '☆', 'é', '¯', '♦', '¤', '▲', 'è', '¸', '¾', \n",
    "    'Ã', '⋅', '‘', '∞', '∙', '）', '↓', '、', '│', '（', '»', '，', '♪', '╩', '╚', '³', '・', '╦', '╣', '╔', '╗', '▬', '❤', 'ï', 'Ø', \n",
    "    '¹', '≤', '‡', '√', '!','🅰','🅱', \"\\n\"]\n",
    "def remove_punct(string):\n",
    "    for el in string:\n",
    "        if el in punctuation:\n",
    "            string = string.replace(el, \"\")\n",
    "    return string\n",
    "all_data['title'] = all_data.title.apply(lambda x: remove_punct(x))\n",
    "all_data['comment_body'] = all_data.comment_body.apply(lambda x: remove_punct(x))\n",
    "all_data['post_body'] = all_data.post_body.apply(lambda x: remove_punct(x))"
   ]
  },
  {
   "cell_type": "code",
   "execution_count": 42,
   "id": "9a0e7a0b",
   "metadata": {
    "ExecuteTime": {
     "end_time": "2022-10-23T21:18:59.904269Z",
     "start_time": "2022-10-23T21:18:59.890259Z"
    }
   },
   "outputs": [
    {
     "data": {
      "text/html": [
       "<div>\n",
       "<style scoped>\n",
       "    .dataframe tbody tr th:only-of-type {\n",
       "        vertical-align: middle;\n",
       "    }\n",
       "\n",
       "    .dataframe tbody tr th {\n",
       "        vertical-align: top;\n",
       "    }\n",
       "\n",
       "    .dataframe thead th {\n",
       "        text-align: right;\n",
       "    }\n",
       "</style>\n",
       "<table border=\"1\" class=\"dataframe\">\n",
       "  <thead>\n",
       "    <tr style=\"text-align: right;\">\n",
       "      <th></th>\n",
       "      <th>post_body</th>\n",
       "      <th>title</th>\n",
       "      <th>comment_body</th>\n",
       "    </tr>\n",
       "  </thead>\n",
       "  <tbody>\n",
       "    <tr>\n",
       "      <th>0</th>\n",
       "      <td>i've been having these thoughts lately like\\n\\...</td>\n",
       "      <td>do you ever feel like not being alive anymore</td>\n",
       "      <td>as for anchors my only anchor is i need to be ...</td>\n",
       "    </tr>\n",
       "    <tr>\n",
       "      <th>1</th>\n",
       "      <td>i've been going through a hard time lately and...</td>\n",
       "      <td>why do depressed people shave their heads</td>\n",
       "      <td>i don’t know because i never had the urge but ...</td>\n",
       "    </tr>\n",
       "    <tr>\n",
       "      <th>2</th>\n",
       "      <td>idk why but every now and then i'll just get t...</td>\n",
       "      <td>random urge to kill people</td>\n",
       "      <td>you are a coward that can't handle the fact th...</td>\n",
       "    </tr>\n",
       "    <tr>\n",
       "      <th>3</th>\n",
       "      <td>when i get really anxious, i slap my arm and t...</td>\n",
       "      <td>is slapping my arm when i’m anxious normal?</td>\n",
       "      <td>'normal' and 'crazy' aren't binary opposites, ...</td>\n",
       "    </tr>\n",
       "    <tr>\n",
       "      <th>4</th>\n",
       "      <td>i’ve been to a few psychiatrists/therapists ov...</td>\n",
       "      <td>tips to find a psychiatrist that specializes i...</td>\n",
       "      <td>i would assume the majority are aware of anxie...</td>\n",
       "    </tr>\n",
       "    <tr>\n",
       "      <th>...</th>\n",
       "      <td>...</td>\n",
       "      <td>...</td>\n",
       "      <td>...</td>\n",
       "    </tr>\n",
       "    <tr>\n",
       "      <th>82561</th>\n",
       "      <td>i'm not looking for a diagnosis, just some ins...</td>\n",
       "      <td>have you heard of this?</td>\n",
       "      <td>i assume you have some sort of existing medica...</td>\n",
       "    </tr>\n",
       "    <tr>\n",
       "      <th>82562</th>\n",
       "      <td>how do i find friends to have adventures with ...</td>\n",
       "      <td>how do i stop my intensity?</td>\n",
       "      <td>i have been diagnosed officially and i am not ...</td>\n",
       "    </tr>\n",
       "    <tr>\n",
       "      <th>82563</th>\n",
       "      <td>oftain if someone will repeat a word directly ...</td>\n",
       "      <td>does this have a name?</td>\n",
       "      <td>i asked my councillor but he wasn't too sure, ...</td>\n",
       "    </tr>\n",
       "    <tr>\n",
       "      <th>82564</th>\n",
       "      <td>the patterns of loosely related random words a...</td>\n",
       "      <td>do schizophrenics 'understand' other schizophr...</td>\n",
       "      <td>i don't think it works that way. i do find tha...</td>\n",
       "    </tr>\n",
       "    <tr>\n",
       "      <th>82565</th>\n",
       "      <td>i've been struggling with mental illness (depr...</td>\n",
       "      <td>does mental illness, with a suicide attempt, q...</td>\n",
       "      <td>yes. it is a life threatening illness. you wil...</td>\n",
       "    </tr>\n",
       "  </tbody>\n",
       "</table>\n",
       "<p>82565 rows × 3 columns</p>\n",
       "</div>"
      ],
      "text/plain": [
       "                                               post_body  \\\n",
       "0      i've been having these thoughts lately like\\n\\...   \n",
       "1      i've been going through a hard time lately and...   \n",
       "2      idk why but every now and then i'll just get t...   \n",
       "3      when i get really anxious, i slap my arm and t...   \n",
       "4      i’ve been to a few psychiatrists/therapists ov...   \n",
       "...                                                  ...   \n",
       "82561  i'm not looking for a diagnosis, just some ins...   \n",
       "82562  how do i find friends to have adventures with ...   \n",
       "82563  oftain if someone will repeat a word directly ...   \n",
       "82564  the patterns of loosely related random words a...   \n",
       "82565  i've been struggling with mental illness (depr...   \n",
       "\n",
       "                                                   title  \\\n",
       "0          do you ever feel like not being alive anymore   \n",
       "1              why do depressed people shave their heads   \n",
       "2                             random urge to kill people   \n",
       "3            is slapping my arm when i’m anxious normal?   \n",
       "4      tips to find a psychiatrist that specializes i...   \n",
       "...                                                  ...   \n",
       "82561                            have you heard of this?   \n",
       "82562                        how do i stop my intensity?   \n",
       "82563                             does this have a name?   \n",
       "82564  do schizophrenics 'understand' other schizophr...   \n",
       "82565  does mental illness, with a suicide attempt, q...   \n",
       "\n",
       "                                            comment_body  \n",
       "0      as for anchors my only anchor is i need to be ...  \n",
       "1      i don’t know because i never had the urge but ...  \n",
       "2      you are a coward that can't handle the fact th...  \n",
       "3      'normal' and 'crazy' aren't binary opposites, ...  \n",
       "4      i would assume the majority are aware of anxie...  \n",
       "...                                                  ...  \n",
       "82561  i assume you have some sort of existing medica...  \n",
       "82562  i have been diagnosed officially and i am not ...  \n",
       "82563  i asked my councillor but he wasn't too sure, ...  \n",
       "82564  i don't think it works that way. i do find tha...  \n",
       "82565  yes. it is a life threatening illness. you wil...  \n",
       "\n",
       "[82565 rows x 3 columns]"
      ]
     },
     "execution_count": 42,
     "metadata": {},
     "output_type": "execute_result"
    }
   ],
   "source": [
    "all_data"
   ]
  },
  {
   "cell_type": "code",
   "execution_count": 11,
   "id": "862edd52",
   "metadata": {
    "ExecuteTime": {
     "end_time": "2022-10-23T20:47:58.781802Z",
     "start_time": "2022-10-23T20:47:53.998128Z"
    }
   },
   "outputs": [
    {
     "name": "stderr",
     "output_type": "stream",
     "text": [
      "C:\\Users\\Julia\\AppData\\Local\\Temp\\ipykernel_25384\\3207686.py:2: FutureWarning: The default value of regex will change from True to False in a future version.\n",
      "  all_data['title'] = all_data['title'].str.replace('\\\\d+', '')\n",
      "C:\\Users\\Julia\\AppData\\Local\\Temp\\ipykernel_25384\\3207686.py:3: FutureWarning: The default value of regex will change from True to False in a future version.\n",
      "  all_data['comment_body'] = all_data['comment_body'].str.replace('\\\\d+', '')\n",
      "C:\\Users\\Julia\\AppData\\Local\\Temp\\ipykernel_25384\\3207686.py:4: FutureWarning: The default value of regex will change from True to False in a future version.\n",
      "  all_data['post_body'] = all_data['post_body'].str.replace('\\\\d+', '')\n"
     ]
    }
   ],
   "source": [
    "# remove digits\n",
    "all_data['title'] = all_data['title'].str.replace('\\\\d+', '')\n",
    "all_data['comment_body'] = all_data['comment_body'].str.replace('\\\\d+', '')\n",
    "all_data['post_body'] = all_data['post_body'].str.replace('\\\\d+', '')"
   ]
  },
  {
   "cell_type": "code",
   "execution_count": 48,
   "id": "83ca0b2b",
   "metadata": {
    "ExecuteTime": {
     "end_time": "2022-10-20T18:32:26.828141Z",
     "start_time": "2022-10-20T18:32:10.543299Z"
    }
   },
   "outputs": [],
   "source": [
    "# expand contractions\n",
    "all_data['title'] = all_data.title.apply(lambda x: contractions.fix(x))\n",
    "all_data['comment_body'] = all_data.comment_body.apply(lambda x: contractions.fix(x))\n",
    "all_data['post_body'] = all_data.post_body.apply(lambda x: contractions.fix(x))"
   ]
  },
  {
   "cell_type": "code",
   "execution_count": 49,
   "id": "36414116",
   "metadata": {
    "ExecuteTime": {
     "end_time": "2022-10-20T18:50:11.356656Z",
     "start_time": "2022-10-20T18:32:36.983493Z"
    }
   },
   "outputs": [],
   "source": [
    "# remove emojis that weren't converted into text\n",
    "def remove_em(text):\n",
    "    dem = demoji.findall(text)\n",
    "    for item in dem.keys():\n",
    "        text = text.replace(item, \"\")\n",
    "    return text\n",
    "all_data['title'] = all_data.title.apply(remove_em)\n",
    "all_data['comment_body'] = all_data.comment_body.apply(remove_em)\n",
    "all_data['post_body'] = all_data.post_body.apply(remove_em)"
   ]
  },
  {
   "cell_type": "code",
   "execution_count": 43,
   "id": "5f74c7d0",
   "metadata": {
    "ExecuteTime": {
     "end_time": "2022-10-23T21:19:21.831031Z",
     "start_time": "2022-10-23T21:19:07.932292Z"
    }
   },
   "outputs": [],
   "source": [
    "# remove extra space between tokens\n",
    "def remove_space(string):\n",
    "    result = re.sub('\\\\s+',' ', string)\n",
    "    return result\n",
    "all_data['title'] = all_data.title.apply(remove_space)\n",
    "all_data['comment_body'] = all_data.comment_body.apply(remove_space)\n",
    "all_data['post_body'] = all_data.post_body.apply(remove_space)"
   ]
  },
  {
   "cell_type": "code",
   "execution_count": 20,
   "id": "ee2f1da0",
   "metadata": {
    "ExecuteTime": {
     "end_time": "2022-10-19T18:23:47.097182Z",
     "start_time": "2022-10-19T18:23:37.918400Z"
    }
   },
   "outputs": [],
   "source": [
    "# tokenize all text\n",
    "def word_tokenize(sentence):\n",
    "    return sentence.split()\n",
    "all_data = all_data.apply(lambda x: word_tokenize(x.str))"
   ]
  },
  {
   "cell_type": "code",
   "execution_count": 23,
   "id": "de951613",
   "metadata": {
    "ExecuteTime": {
     "end_time": "2022-10-19T18:26:37.829581Z",
     "start_time": "2022-10-19T18:26:37.823576Z"
    }
   },
   "outputs": [],
   "source": [
    "def get_wordnet_pos(word):\n",
    "    \"\"\"Map POS tag to first character lemmatize() accepts\"\"\"\n",
    "    tag = nltk.pos_tag([word])[0][1][0].upper()\n",
    "    tag_dict = {\"J\": wordnet.ADJ,\n",
    "                    \"N\": wordnet.NOUN,\n",
    "                    \"V\": wordnet.VERB,\n",
    "                    \"R\": wordnet.ADV}\n",
    "    return tag_dict.get(tag, wordnet.NOUN)"
   ]
  },
  {
   "cell_type": "code",
   "execution_count": 32,
   "id": "06c4e231",
   "metadata": {
    "ExecuteTime": {
     "end_time": "2022-10-20T00:51:49.189056Z",
     "start_time": "2022-10-19T18:28:50.552137Z"
    }
   },
   "outputs": [],
   "source": [
    "# Lemmatize words\n",
    "lemmatizer = WordNetLemmatizer()\n",
    "def lemmatize_text(x):\n",
    "    ''' This lemmatizer fuunction should work on a single list of tokenized data'''\n",
    "    # Turning list into a string\n",
    "    x = \" \".join(x)\n",
    "    # Returning a list again\n",
    "    return [lemmatizer.lemmatize(w, get_wordnet_pos(w)) for w in nltk.word_tokenize(x)]\n",
    "all_data['title'] = all_data.title.apply(lemmatize_text)\n",
    "all_data['comment_body'] = all_data.comment_body.apply(lemmatize_text)"
   ]
  },
  {
   "cell_type": "code",
   "execution_count": 44,
   "id": "abe0ada1",
   "metadata": {
    "ExecuteTime": {
     "end_time": "2022-10-23T21:19:26.897275Z",
     "start_time": "2022-10-23T21:19:26.882264Z"
    }
   },
   "outputs": [
    {
     "data": {
      "text/html": [
       "<div>\n",
       "<style scoped>\n",
       "    .dataframe tbody tr th:only-of-type {\n",
       "        vertical-align: middle;\n",
       "    }\n",
       "\n",
       "    .dataframe tbody tr th {\n",
       "        vertical-align: top;\n",
       "    }\n",
       "\n",
       "    .dataframe thead th {\n",
       "        text-align: right;\n",
       "    }\n",
       "</style>\n",
       "<table border=\"1\" class=\"dataframe\">\n",
       "  <thead>\n",
       "    <tr style=\"text-align: right;\">\n",
       "      <th></th>\n",
       "      <th>post_body</th>\n",
       "      <th>title</th>\n",
       "      <th>comment_body</th>\n",
       "    </tr>\n",
       "  </thead>\n",
       "  <tbody>\n",
       "    <tr>\n",
       "      <th>0</th>\n",
       "      <td>i've been having these thoughts lately like \"t...</td>\n",
       "      <td>do you ever feel like not being alive anymore</td>\n",
       "      <td>as for anchors my only anchor is i need to be ...</td>\n",
       "    </tr>\n",
       "    <tr>\n",
       "      <th>1</th>\n",
       "      <td>i've been going through a hard time lately and...</td>\n",
       "      <td>why do depressed people shave their heads</td>\n",
       "      <td>i don’t know because i never had the urge but ...</td>\n",
       "    </tr>\n",
       "    <tr>\n",
       "      <th>2</th>\n",
       "      <td>idk why but every now and then i'll just get t...</td>\n",
       "      <td>random urge to kill people</td>\n",
       "      <td>you are a coward that can't handle the fact th...</td>\n",
       "    </tr>\n",
       "    <tr>\n",
       "      <th>3</th>\n",
       "      <td>when i get really anxious, i slap my arm and t...</td>\n",
       "      <td>is slapping my arm when i’m anxious normal?</td>\n",
       "      <td>'normal' and 'crazy' aren't binary opposites, ...</td>\n",
       "    </tr>\n",
       "    <tr>\n",
       "      <th>4</th>\n",
       "      <td>i’ve been to a few psychiatrists/therapists ov...</td>\n",
       "      <td>tips to find a psychiatrist that specializes i...</td>\n",
       "      <td>i would assume the majority are aware of anxie...</td>\n",
       "    </tr>\n",
       "    <tr>\n",
       "      <th>...</th>\n",
       "      <td>...</td>\n",
       "      <td>...</td>\n",
       "      <td>...</td>\n",
       "    </tr>\n",
       "    <tr>\n",
       "      <th>82561</th>\n",
       "      <td>i'm not looking for a diagnosis, just some ins...</td>\n",
       "      <td>have you heard of this?</td>\n",
       "      <td>i assume you have some sort of existing medica...</td>\n",
       "    </tr>\n",
       "    <tr>\n",
       "      <th>82562</th>\n",
       "      <td>how do i find friends to have adventures with ...</td>\n",
       "      <td>how do i stop my intensity?</td>\n",
       "      <td>i have been diagnosed officially and i am not ...</td>\n",
       "    </tr>\n",
       "    <tr>\n",
       "      <th>82563</th>\n",
       "      <td>oftain if someone will repeat a word directly ...</td>\n",
       "      <td>does this have a name?</td>\n",
       "      <td>i asked my councillor but he wasn't too sure, ...</td>\n",
       "    </tr>\n",
       "    <tr>\n",
       "      <th>82564</th>\n",
       "      <td>the patterns of loosely related random words a...</td>\n",
       "      <td>do schizophrenics 'understand' other schizophr...</td>\n",
       "      <td>i don't think it works that way. i do find tha...</td>\n",
       "    </tr>\n",
       "    <tr>\n",
       "      <th>82565</th>\n",
       "      <td>i've been struggling with mental illness (depr...</td>\n",
       "      <td>does mental illness, with a suicide attempt, q...</td>\n",
       "      <td>yes. it is a life threatening illness. you wil...</td>\n",
       "    </tr>\n",
       "  </tbody>\n",
       "</table>\n",
       "<p>82565 rows × 3 columns</p>\n",
       "</div>"
      ],
      "text/plain": [
       "                                               post_body  \\\n",
       "0      i've been having these thoughts lately like \"t...   \n",
       "1      i've been going through a hard time lately and...   \n",
       "2      idk why but every now and then i'll just get t...   \n",
       "3      when i get really anxious, i slap my arm and t...   \n",
       "4      i’ve been to a few psychiatrists/therapists ov...   \n",
       "...                                                  ...   \n",
       "82561  i'm not looking for a diagnosis, just some ins...   \n",
       "82562  how do i find friends to have adventures with ...   \n",
       "82563  oftain if someone will repeat a word directly ...   \n",
       "82564  the patterns of loosely related random words a...   \n",
       "82565  i've been struggling with mental illness (depr...   \n",
       "\n",
       "                                                   title  \\\n",
       "0          do you ever feel like not being alive anymore   \n",
       "1              why do depressed people shave their heads   \n",
       "2                             random urge to kill people   \n",
       "3            is slapping my arm when i’m anxious normal?   \n",
       "4      tips to find a psychiatrist that specializes i...   \n",
       "...                                                  ...   \n",
       "82561                            have you heard of this?   \n",
       "82562                        how do i stop my intensity?   \n",
       "82563                             does this have a name?   \n",
       "82564  do schizophrenics 'understand' other schizophr...   \n",
       "82565  does mental illness, with a suicide attempt, q...   \n",
       "\n",
       "                                            comment_body  \n",
       "0      as for anchors my only anchor is i need to be ...  \n",
       "1      i don’t know because i never had the urge but ...  \n",
       "2      you are a coward that can't handle the fact th...  \n",
       "3      'normal' and 'crazy' aren't binary opposites, ...  \n",
       "4      i would assume the majority are aware of anxie...  \n",
       "...                                                  ...  \n",
       "82561  i assume you have some sort of existing medica...  \n",
       "82562  i have been diagnosed officially and i am not ...  \n",
       "82563  i asked my councillor but he wasn't too sure, ...  \n",
       "82564  i don't think it works that way. i do find tha...  \n",
       "82565  yes. it is a life threatening illness. you wil...  \n",
       "\n",
       "[82565 rows x 3 columns]"
      ]
     },
     "execution_count": 44,
     "metadata": {},
     "output_type": "execute_result"
    }
   ],
   "source": [
    "all_data"
   ]
  },
  {
   "cell_type": "code",
   "execution_count": 45,
   "id": "23b91a9e",
   "metadata": {
    "ExecuteTime": {
     "end_time": "2022-10-23T21:19:38.206741Z",
     "start_time": "2022-10-23T21:19:32.321788Z"
    }
   },
   "outputs": [],
   "source": [
    "all_data.to_csv('../Data/all_data2.csv',index=False)"
   ]
  },
  {
   "cell_type": "code",
   "execution_count": 46,
   "id": "62c2d913",
   "metadata": {
    "ExecuteTime": {
     "end_time": "2022-10-23T21:19:40.129214Z",
     "start_time": "2022-10-23T21:19:40.090677Z"
    }
   },
   "outputs": [],
   "source": [
    "#adding encoding for GPT to recognize the start of the text, the prompt ([WP]), followed by the comment\n",
    "#[RESPONSE], and the end of the text. I'm combining the two into one column so it can more easily be \n",
    "#assimilated into a .txt file.\n",
    "all_data['title'] = '<|startoftext|>[WP]' + all_data['title'].astype(str)"
   ]
  },
  {
   "cell_type": "code",
   "execution_count": 47,
   "id": "73bb9288",
   "metadata": {
    "ExecuteTime": {
     "end_time": "2022-10-23T21:19:51.587947Z",
     "start_time": "2022-10-23T21:19:50.195505Z"
    }
   },
   "outputs": [],
   "source": [
    "all_data['comment_body'] = '[RESPONSE]' + all_data['comment_body'].astype(str) + '<|endoftext|>'"
   ]
  },
  {
   "cell_type": "code",
   "execution_count": 48,
   "id": "c7673b62",
   "metadata": {
    "ExecuteTime": {
     "end_time": "2022-10-23T21:19:54.589711Z",
     "start_time": "2022-10-23T21:19:53.610399Z"
    }
   },
   "outputs": [],
   "source": [
    "all_data['GPT2_data'] = all_data[['title', 'comment_body']].agg(' '.join, axis='columns')"
   ]
  },
  {
   "cell_type": "code",
   "execution_count": 49,
   "id": "cf861d16",
   "metadata": {
    "ExecuteTime": {
     "end_time": "2022-10-23T21:19:56.381464Z",
     "start_time": "2022-10-23T21:19:56.329427Z"
    }
   },
   "outputs": [],
   "source": [
    "GPT2_data = all_data[['GPT2_data']].copy()"
   ]
  },
  {
   "cell_type": "code",
   "execution_count": 50,
   "id": "6be58bbd",
   "metadata": {
    "ExecuteTime": {
     "end_time": "2022-10-23T21:19:57.581114Z",
     "start_time": "2022-10-23T21:19:57.569103Z"
    }
   },
   "outputs": [
    {
     "data": {
      "text/html": [
       "<div>\n",
       "<style scoped>\n",
       "    .dataframe tbody tr th:only-of-type {\n",
       "        vertical-align: middle;\n",
       "    }\n",
       "\n",
       "    .dataframe tbody tr th {\n",
       "        vertical-align: top;\n",
       "    }\n",
       "\n",
       "    .dataframe thead th {\n",
       "        text-align: right;\n",
       "    }\n",
       "</style>\n",
       "<table border=\"1\" class=\"dataframe\">\n",
       "  <thead>\n",
       "    <tr style=\"text-align: right;\">\n",
       "      <th></th>\n",
       "      <th>GPT2_data</th>\n",
       "    </tr>\n",
       "  </thead>\n",
       "  <tbody>\n",
       "    <tr>\n",
       "      <th>0</th>\n",
       "      <td>&lt;|startoftext|&gt;[WP]do you ever feel like not b...</td>\n",
       "    </tr>\n",
       "    <tr>\n",
       "      <th>1</th>\n",
       "      <td>&lt;|startoftext|&gt;[WP]why do depressed people sha...</td>\n",
       "    </tr>\n",
       "    <tr>\n",
       "      <th>2</th>\n",
       "      <td>&lt;|startoftext|&gt;[WP]random urge to kill people ...</td>\n",
       "    </tr>\n",
       "    <tr>\n",
       "      <th>3</th>\n",
       "      <td>&lt;|startoftext|&gt;[WP]is slapping my arm when i’m...</td>\n",
       "    </tr>\n",
       "    <tr>\n",
       "      <th>4</th>\n",
       "      <td>&lt;|startoftext|&gt;[WP]tips to find a psychiatrist...</td>\n",
       "    </tr>\n",
       "    <tr>\n",
       "      <th>...</th>\n",
       "      <td>...</td>\n",
       "    </tr>\n",
       "    <tr>\n",
       "      <th>82561</th>\n",
       "      <td>&lt;|startoftext|&gt;[WP]have you heard of this? [RE...</td>\n",
       "    </tr>\n",
       "    <tr>\n",
       "      <th>82562</th>\n",
       "      <td>&lt;|startoftext|&gt;[WP]how do i stop my intensity?...</td>\n",
       "    </tr>\n",
       "    <tr>\n",
       "      <th>82563</th>\n",
       "      <td>&lt;|startoftext|&gt;[WP]does this have a name? [RES...</td>\n",
       "    </tr>\n",
       "    <tr>\n",
       "      <th>82564</th>\n",
       "      <td>&lt;|startoftext|&gt;[WP]do schizophrenics 'understa...</td>\n",
       "    </tr>\n",
       "    <tr>\n",
       "      <th>82565</th>\n",
       "      <td>&lt;|startoftext|&gt;[WP]does mental illness, with a...</td>\n",
       "    </tr>\n",
       "  </tbody>\n",
       "</table>\n",
       "<p>82565 rows × 1 columns</p>\n",
       "</div>"
      ],
      "text/plain": [
       "                                               GPT2_data\n",
       "0      <|startoftext|>[WP]do you ever feel like not b...\n",
       "1      <|startoftext|>[WP]why do depressed people sha...\n",
       "2      <|startoftext|>[WP]random urge to kill people ...\n",
       "3      <|startoftext|>[WP]is slapping my arm when i’m...\n",
       "4      <|startoftext|>[WP]tips to find a psychiatrist...\n",
       "...                                                  ...\n",
       "82561  <|startoftext|>[WP]have you heard of this? [RE...\n",
       "82562  <|startoftext|>[WP]how do i stop my intensity?...\n",
       "82563  <|startoftext|>[WP]does this have a name? [RES...\n",
       "82564  <|startoftext|>[WP]do schizophrenics 'understa...\n",
       "82565  <|startoftext|>[WP]does mental illness, with a...\n",
       "\n",
       "[82565 rows x 1 columns]"
      ]
     },
     "execution_count": 50,
     "metadata": {},
     "output_type": "execute_result"
    }
   ],
   "source": [
    "GPT2_data"
   ]
  },
  {
   "cell_type": "code",
   "execution_count": 51,
   "id": "5324f20c",
   "metadata": {
    "ExecuteTime": {
     "end_time": "2022-10-23T21:20:06.595296Z",
     "start_time": "2022-10-23T21:20:02.770359Z"
    }
   },
   "outputs": [],
   "source": [
    "GPT2_data.to_csv(\"../Data/GPT2_data.csv\", index=False)"
   ]
  },
  {
   "cell_type": "code",
   "execution_count": 52,
   "id": "6c9f0db4",
   "metadata": {
    "ExecuteTime": {
     "end_time": "2022-10-23T21:20:09.748053Z",
     "start_time": "2022-10-23T21:20:08.065492Z"
    }
   },
   "outputs": [],
   "source": [
    "#conversion to .txt\n",
    "with open('../Data/GPT2_data.csv', 'r', encoding=\"utf8\") as inp, open('../Data/GPT2_data.txt', 'w', encoding='utf-8') as out:\n",
    "    for line in inp:\n",
    "        line = line.replace(',', ':')\n",
    "        out.write(line)"
   ]
  },
  {
   "cell_type": "code",
   "execution_count": 2,
   "id": "63b5cfb3",
   "metadata": {
    "ExecuteTime": {
     "end_time": "2022-10-30T13:31:37.944820Z",
     "start_time": "2022-10-30T13:31:34.463387Z"
    }
   },
   "outputs": [],
   "source": [
    "all_data2 = pd.read_csv('../Data/all_data2.csv')"
   ]
  },
  {
   "cell_type": "markdown",
   "id": "fc8286ae",
   "metadata": {},
   "source": [
    "# Sentiment analysis and EDA"
   ]
  },
  {
   "cell_type": "code",
   "execution_count": 4,
   "id": "cc73f7fa",
   "metadata": {
    "ExecuteTime": {
     "end_time": "2022-10-30T13:31:47.405076Z",
     "start_time": "2022-10-30T13:31:47.353053Z"
    }
   },
   "outputs": [],
   "source": [
    "all_data2 = all_data2.drop(columns=['post_body'])"
   ]
  },
  {
   "cell_type": "code",
   "execution_count": 8,
   "id": "c9159a0f",
   "metadata": {
    "ExecuteTime": {
     "end_time": "2022-10-30T13:31:58.703463Z",
     "start_time": "2022-10-30T13:31:58.647433Z"
    }
   },
   "outputs": [
    {
     "name": "stdout",
     "output_type": "stream",
     "text": [
      "<class 'pandas.core.frame.DataFrame'>\n",
      "Int64Index: 82548 entries, 0 to 82564\n",
      "Data columns (total 2 columns):\n",
      " #   Column        Non-Null Count  Dtype \n",
      "---  ------        --------------  ----- \n",
      " 0   title         82548 non-null  object\n",
      " 1   comment_body  82548 non-null  object\n",
      "dtypes: object(2)\n",
      "memory usage: 1.9+ MB\n"
     ]
    }
   ],
   "source": [
    "all_data2.info()"
   ]
  },
  {
   "cell_type": "code",
   "execution_count": 6,
   "id": "801c0fc2",
   "metadata": {
    "ExecuteTime": {
     "end_time": "2022-10-30T13:31:52.811818Z",
     "start_time": "2022-10-30T13:31:52.630651Z"
    }
   },
   "outputs": [],
   "source": [
    "all_data2['comment_body'] = all_data2.comment_body.drop_duplicates(keep=False)"
   ]
  },
  {
   "cell_type": "code",
   "execution_count": 7,
   "id": "5cdf735f",
   "metadata": {
    "ExecuteTime": {
     "end_time": "2022-10-30T13:31:54.920468Z",
     "start_time": "2022-10-30T13:31:54.831419Z"
    }
   },
   "outputs": [],
   "source": [
    "all_data2.dropna(inplace=True)"
   ]
  },
  {
   "cell_type": "code",
   "execution_count": 9,
   "id": "fd23d1a5",
   "metadata": {
    "ExecuteTime": {
     "end_time": "2022-10-30T13:32:09.158874Z",
     "start_time": "2022-10-30T13:31:59.929779Z"
    }
   },
   "outputs": [],
   "source": [
    "import spacy\n",
    "nlp = spacy.load('en_core_web_sm',disable=['parser', 'ner'])"
   ]
  },
  {
   "cell_type": "markdown",
   "id": "729c1ee3",
   "metadata": {},
   "source": [
    "# Next we remove stop words and lemmatize text using spacy"
   ]
  },
  {
   "cell_type": "code",
   "execution_count": 10,
   "id": "a0d2d161",
   "metadata": {
    "ExecuteTime": {
     "end_time": "2022-10-30T13:36:51.982291Z",
     "start_time": "2022-10-30T13:32:16.345348Z"
    }
   },
   "outputs": [],
   "source": [
    "all_data2['lemmatized_title']=all_data2['title'].apply(lambda x: ' '.join([token.lemma_ for token in list(nlp(x)) if (token.is_stop==False)]))"
   ]
  },
  {
   "cell_type": "code",
   "execution_count": 11,
   "id": "3331116c",
   "metadata": {
    "ExecuteTime": {
     "end_time": "2022-10-30T14:08:06.096602Z",
     "start_time": "2022-10-30T13:36:52.058455Z"
    }
   },
   "outputs": [],
   "source": [
    "all_data2['lemmatized_comment']=all_data2['comment_body'].apply(lambda x: ' '.join([token.lemma_ for token in list(nlp(x)) if (token.is_stop==False)]))"
   ]
  },
  {
   "cell_type": "code",
   "execution_count": 12,
   "id": "4e5f573d",
   "metadata": {
    "ExecuteTime": {
     "end_time": "2022-10-30T14:08:06.112598Z",
     "start_time": "2022-10-30T14:08:06.098603Z"
    }
   },
   "outputs": [
    {
     "data": {
      "text/plain": [
       "\"# remove stop words\\ndef remove_stopwords(token_list):\\n    stop_words = set(stopwords.words('english'))\\n    filtered_sentence = [w for w in token_list if not w.lower() in stop_words]\\n    #filtered_sentence = ' '.join(filtered_sentence)\\n    return filtered_sentence\\nall_data['cleaned_title'] = all_data.title.apply(remove_stopwords)\\nall_data['cleaned_comment'] = all_data.comment_body.apply(remove_stopwords)\""
      ]
     },
     "execution_count": 12,
     "metadata": {},
     "output_type": "execute_result"
    }
   ],
   "source": [
    "'''# remove stop words\n",
    "def remove_stopwords(token_list):\n",
    "    stop_words = set(stopwords.words('english'))\n",
    "    filtered_sentence = [w for w in token_list if not w.lower() in stop_words]\n",
    "    #filtered_sentence = ' '.join(filtered_sentence)\n",
    "    return filtered_sentence\n",
    "all_data['cleaned_title'] = all_data.title.apply(remove_stopwords)\n",
    "all_data['cleaned_comment'] = all_data.comment_body.apply(remove_stopwords)'''"
   ]
  },
  {
   "cell_type": "code",
   "execution_count": 13,
   "id": "549b15fd",
   "metadata": {
    "ExecuteTime": {
     "end_time": "2022-10-30T14:08:06.139616Z",
     "start_time": "2022-10-30T14:08:06.117601Z"
    }
   },
   "outputs": [],
   "source": [
    "# Writing a function to plot the counts that are in the data\n",
    "\n",
    "def top10_bagofwords(data, title):\n",
    "    ''' Taking as input the data and plots the top 10 words based on counts in this text data'''\n",
    "    bagofwords = CountVectorizer()\n",
    "    inbound = bagofwords.fit_transform(data)\n",
    "    inbound # Output will be a sparse matrix\n",
    "    # Inspecting of often contractions and colloquial language is used\n",
    "    word_counts = np.array(np.sum(inbound, axis=0)).reshape((-1,))\n",
    "    words = np.array(bagofwords.get_feature_names())\n",
    "    words_df = pd.DataFrame({\"word\":words, \n",
    "                             \"count\":word_counts})\n",
    "    words_rank = words_df.sort_values(by=\"count\", ascending=False)\n",
    "    return words_rank"
   ]
  },
  {
   "cell_type": "code",
   "execution_count": 14,
   "id": "4ae657c1",
   "metadata": {
    "ExecuteTime": {
     "end_time": "2022-10-30T14:08:16.405695Z",
     "start_time": "2022-10-30T14:08:06.142617Z"
    }
   },
   "outputs": [
    {
     "name": "stderr",
     "output_type": "stream",
     "text": [
      "C:\\Users\\Julia\\anaconda3\\lib\\site-packages\\sklearn\\utils\\deprecation.py:87: FutureWarning: Function get_feature_names is deprecated; get_feature_names is deprecated in 1.0 and will be removed in 1.2. Please use get_feature_names_out instead.\n",
      "  warnings.warn(msg, category=FutureWarning)\n"
     ]
    }
   ],
   "source": [
    "word_rank_title = top10_bagofwords(all_data2.lemmatized_title, \"top\")\n",
    "word_rank_comment = top10_bagofwords(all_data2.lemmatized_comment, \"top\")"
   ]
  },
  {
   "cell_type": "code",
   "execution_count": 15,
   "id": "ceaaba61",
   "metadata": {
    "ExecuteTime": {
     "end_time": "2022-10-30T14:08:17.463843Z",
     "start_time": "2022-10-30T14:08:16.409201Z"
    }
   },
   "outputs": [
    {
     "data": {
      "image/png": "[encoded data removed]",
      "text/plain": [
       "<Figure size 1200x600 with 1 Axes>"
      ]
     },
     "metadata": {},
     "output_type": "display_data"
    }
   ],
   "source": [
    "# Visualizing top 10 words\n",
    "plt.figure(figsize=(12,6))\n",
    "sns.barplot(x=word_rank_title['word'][:10], y=word_rank_title['count'][:10], palette = 'inferno')\n",
    "plt.title('Top 10 words in titles') \n",
    "plt.show()"
   ]
  },
  {
   "cell_type": "code",
   "execution_count": 16,
   "id": "7896300f",
   "metadata": {
    "ExecuteTime": {
     "end_time": "2022-10-30T14:08:17.643018Z",
     "start_time": "2022-10-30T14:08:17.465843Z"
    }
   },
   "outputs": [
    {
     "data": {
      "image/png": "[encoded data removed]",
      "text/plain": [
       "<Figure size 1200x600 with 1 Axes>"
      ]
     },
     "metadata": {},
     "output_type": "display_data"
    }
   ],
   "source": [
    "plt.figure(figsize=(12,6))\n",
    "sns.barplot(x=word_rank_comment['word'][:10], y=word_rank_comment['count'][:10], palette = 'inferno')\n",
    "plt.title('Top 10 words in comments') \n",
    "plt.show()"
   ]
  },
  {
   "cell_type": "code",
   "execution_count": 17,
   "id": "1d74bb20",
   "metadata": {
    "ExecuteTime": {
     "end_time": "2022-10-30T14:09:56.294310Z",
     "start_time": "2022-10-30T14:08:17.645006Z"
    }
   },
   "outputs": [],
   "source": [
    "# Determining polarity\n",
    "all_data2['polarity_title']=all_data2['lemmatized_title'].apply(lambda x:TextBlob(x).sentiment.polarity)\n",
    "all_data2['polarity_comment']=all_data2['lemmatized_comment'].apply(lambda x:TextBlob(x).sentiment.polarity)"
   ]
  },
  {
   "cell_type": "code",
   "execution_count": 18,
   "id": "7238c59c",
   "metadata": {
    "ExecuteTime": {
     "end_time": "2022-10-30T14:09:56.558497Z",
     "start_time": "2022-10-30T14:09:56.296311Z"
    }
   },
   "outputs": [
    {
     "data": {
      "image/png": "[encoded data removed]",
      "text/plain": [
       "<Figure size 640x480 with 1 Axes>"
      ]
     },
     "metadata": {},
     "output_type": "display_data"
    }
   ],
   "source": [
    "plt.hist(all_data2['polarity_title'], bins=20,label='Titles')\n",
    "plt.hist(all_data2['polarity_comment'], bins=20,alpha=0.8,label='Comments')\n",
    "plt.xlabel('Polarity')\n",
    "plt.ylabel('Number of posts')\n",
    "plt.title('Polarity')\n",
    "plt.legend();"
   ]
  },
  {
   "cell_type": "code",
   "execution_count": 19,
   "id": "18f79a40",
   "metadata": {
    "ExecuteTime": {
     "end_time": "2022-10-30T14:09:57.113405Z",
     "start_time": "2022-10-30T14:09:56.562499Z"
    }
   },
   "outputs": [],
   "source": [
    "title_polarity_sorted=all_data2[['title','lemmatized_title','polarity_title']].sort_values(by='polarity_title',ascending=True)\n",
    "comment_polarity_sorted=all_data2[['comment_body','lemmatized_comment','polarity_comment']].sort_values(by='polarity_comment',ascending=True)"
   ]
  },
  {
   "cell_type": "code",
   "execution_count": 20,
   "id": "a08c1eda",
   "metadata": {
    "ExecuteTime": {
     "end_time": "2022-10-30T14:09:57.127430Z",
     "start_time": "2022-10-30T14:09:57.115409Z"
    }
   },
   "outputs": [],
   "source": [
    "pos_polt = title_polarity_sorted[title_polarity_sorted['polarity_title'] == 1.0].reset_index(drop=True)\n",
    "neg_polt = title_polarity_sorted[title_polarity_sorted['polarity_title'] == -1.0].reset_index(drop=True)\n",
    "pos_polc = comment_polarity_sorted[comment_polarity_sorted['polarity_comment'] == 1.0].reset_index(drop=True)\n",
    "neg_polc = comment_polarity_sorted[comment_polarity_sorted['polarity_comment'] == -1.0].reset_index(drop=True)"
   ]
  },
  {
   "cell_type": "code",
   "execution_count": 21,
   "id": "abd36104",
   "metadata": {
    "ExecuteTime": {
     "end_time": "2022-10-30T14:09:57.134424Z",
     "start_time": "2022-10-30T14:09:57.129429Z"
    }
   },
   "outputs": [],
   "source": [
    "def words(dataframe,string,string2):\n",
    "    res = top10_bagofwords(dataframe[string], \"top\")\n",
    "    plt.figure(figsize=(12,6))\n",
    "    sns.barplot(x=res['word'][:10], y=res['count'][:10], palette = 'inferno')\n",
    "    plt.title(string2) \n",
    "    plt.show();"
   ]
  },
  {
   "cell_type": "code",
   "execution_count": 22,
   "id": "ec264ae6",
   "metadata": {
    "ExecuteTime": {
     "end_time": "2022-10-30T14:09:57.308545Z",
     "start_time": "2022-10-30T14:09:57.137425Z"
    }
   },
   "outputs": [
    {
     "name": "stderr",
     "output_type": "stream",
     "text": [
      "C:\\Users\\Julia\\anaconda3\\lib\\site-packages\\sklearn\\utils\\deprecation.py:87: FutureWarning: Function get_feature_names is deprecated; get_feature_names is deprecated in 1.0 and will be removed in 1.2. Please use get_feature_names_out instead.\n",
      "  warnings.warn(msg, category=FutureWarning)\n"
     ]
    },
    {
     "data": {
      "image/png": "[encoded data removed]",
      "text/plain": [
       "<Figure size 1200x600 with 1 Axes>"
      ]
     },
     "metadata": {},
     "output_type": "display_data"
    }
   ],
   "source": [
    "words(pos_polt,'lemmatized_title','Top 10 words in titles with the highest polarity')"
   ]
  },
  {
   "cell_type": "code",
   "execution_count": 23,
   "id": "d6316f4d",
   "metadata": {
    "ExecuteTime": {
     "end_time": "2022-10-30T14:09:57.501681Z",
     "start_time": "2022-10-30T14:09:57.310547Z"
    }
   },
   "outputs": [
    {
     "name": "stderr",
     "output_type": "stream",
     "text": [
      "C:\\Users\\Julia\\anaconda3\\lib\\site-packages\\sklearn\\utils\\deprecation.py:87: FutureWarning: Function get_feature_names is deprecated; get_feature_names is deprecated in 1.0 and will be removed in 1.2. Please use get_feature_names_out instead.\n",
      "  warnings.warn(msg, category=FutureWarning)\n"
     ]
    },
    {
     "data": {
      "image/png": "[encoded data removed]",
      "text/plain": [
       "<Figure size 1200x600 with 1 Axes>"
      ]
     },
     "metadata": {},
     "output_type": "display_data"
    }
   ],
   "source": [
    "words(neg_polt,'lemmatized_title','Top 10 words in titles with the lowest polarity')"
   ]
  },
  {
   "cell_type": "code",
   "execution_count": 24,
   "id": "bf60c732",
   "metadata": {
    "ExecuteTime": {
     "end_time": "2022-10-30T14:09:57.822909Z",
     "start_time": "2022-10-30T14:09:57.503685Z"
    }
   },
   "outputs": [
    {
     "name": "stderr",
     "output_type": "stream",
     "text": [
      "C:\\Users\\Julia\\anaconda3\\lib\\site-packages\\sklearn\\utils\\deprecation.py:87: FutureWarning: Function get_feature_names is deprecated; get_feature_names is deprecated in 1.0 and will be removed in 1.2. Please use get_feature_names_out instead.\n",
      "  warnings.warn(msg, category=FutureWarning)\n"
     ]
    },
    {
     "data": {
      "image/png": "[encoded data removed]",
      "text/plain": [
       "<Figure size 1200x600 with 1 Axes>"
      ]
     },
     "metadata": {},
     "output_type": "display_data"
    }
   ],
   "source": [
    "words(pos_polc,'lemmatized_comment','Top 10 words in comments with the highest polarity')"
   ]
  },
  {
   "cell_type": "code",
   "execution_count": 25,
   "id": "87197b5c",
   "metadata": {
    "ExecuteTime": {
     "end_time": "2022-10-30T14:09:58.045078Z",
     "start_time": "2022-10-30T14:09:57.824910Z"
    }
   },
   "outputs": [
    {
     "name": "stderr",
     "output_type": "stream",
     "text": [
      "C:\\Users\\Julia\\anaconda3\\lib\\site-packages\\sklearn\\utils\\deprecation.py:87: FutureWarning: Function get_feature_names is deprecated; get_feature_names is deprecated in 1.0 and will be removed in 1.2. Please use get_feature_names_out instead.\n",
      "  warnings.warn(msg, category=FutureWarning)\n"
     ]
    },
    {
     "data": {
      "image/png": "[encoded data removed]",
      "text/plain": [
       "<Figure size 1200x600 with 1 Axes>"
      ]
     },
     "metadata": {},
     "output_type": "display_data"
    }
   ],
   "source": [
    "words(neg_polc,'lemmatized_comment','Top 10 words in comments with the lowest polarity')"
   ]
  },
  {
   "cell_type": "code",
   "execution_count": 26,
   "id": "b72f2347",
   "metadata": {
    "ExecuteTime": {
     "end_time": "2022-10-30T14:11:43.623781Z",
     "start_time": "2022-10-30T14:09:58.047067Z"
    }
   },
   "outputs": [],
   "source": [
    "# Determining subjectivity\n",
    "all_data2['subjectivity_title']=all_data2['lemmatized_title'].apply(lambda x:TextBlob(x).sentiment.subjectivity)\n",
    "all_data2['subjectivity_comment']=all_data2['lemmatized_comment'].apply(lambda x:TextBlob(x).sentiment.subjectivity)"
   ]
  },
  {
   "cell_type": "code",
   "execution_count": 27,
   "id": "a68bef74",
   "metadata": {
    "ExecuteTime": {
     "end_time": "2022-10-30T14:11:43.855464Z",
     "start_time": "2022-10-30T14:11:43.626243Z"
    }
   },
   "outputs": [
    {
     "data": {
      "image/png": "[encoded data removed]",
      "text/plain": [
       "<Figure size 640x480 with 1 Axes>"
      ]
     },
     "metadata": {},
     "output_type": "display_data"
    }
   ],
   "source": [
    "plt.hist(all_data2['subjectivity_title'], bins=20,label='Titles')\n",
    "plt.hist(all_data2['subjectivity_comment'], bins=20,alpha=0.8,label='Comments')\n",
    "plt.xlabel('Subjectivity')\n",
    "plt.ylabel('Number of posts')\n",
    "plt.title('Subjectivity')\n",
    "plt.legend();"
   ]
  },
  {
   "cell_type": "code",
   "execution_count": 28,
   "id": "e9a45829",
   "metadata": {
    "ExecuteTime": {
     "end_time": "2022-10-30T14:11:43.888488Z",
     "start_time": "2022-10-30T14:11:43.856464Z"
    }
   },
   "outputs": [
    {
     "data": {
      "text/html": [
       "<div>\n",
       "<style scoped>\n",
       "    .dataframe tbody tr th:only-of-type {\n",
       "        vertical-align: middle;\n",
       "    }\n",
       "\n",
       "    .dataframe tbody tr th {\n",
       "        vertical-align: top;\n",
       "    }\n",
       "\n",
       "    .dataframe thead th {\n",
       "        text-align: right;\n",
       "    }\n",
       "</style>\n",
       "<table border=\"1\" class=\"dataframe\">\n",
       "  <thead>\n",
       "    <tr style=\"text-align: right;\">\n",
       "      <th></th>\n",
       "      <th>title</th>\n",
       "      <th>comment_body</th>\n",
       "      <th>lemmatized_title</th>\n",
       "      <th>lemmatized_comment</th>\n",
       "      <th>polarity_title</th>\n",
       "      <th>polarity_comment</th>\n",
       "      <th>subjectivity_title</th>\n",
       "      <th>subjectivity_comment</th>\n",
       "    </tr>\n",
       "  </thead>\n",
       "  <tbody>\n",
       "    <tr>\n",
       "      <th>0</th>\n",
       "      <td>do you ever feel like not being alive anymore</td>\n",
       "      <td>as for anchors my only anchor is i need to be ...</td>\n",
       "      <td>feel like alive anymore</td>\n",
       "      <td>anchor anchor need successful care mom dad fuc...</td>\n",
       "      <td>0.100000</td>\n",
       "      <td>-0.001190</td>\n",
       "      <td>0.400000</td>\n",
       "      <td>0.751190</td>\n",
       "    </tr>\n",
       "    <tr>\n",
       "      <th>1</th>\n",
       "      <td>why do depressed people shave their heads</td>\n",
       "      <td>i don’t know because i never had the urge but ...</td>\n",
       "      <td>depress people shave head</td>\n",
       "      <td>know urge think probably take care hair exhaus...</td>\n",
       "      <td>-0.066667</td>\n",
       "      <td>0.036970</td>\n",
       "      <td>0.033333</td>\n",
       "      <td>0.497619</td>\n",
       "    </tr>\n",
       "    <tr>\n",
       "      <th>2</th>\n",
       "      <td>random urge to kill people</td>\n",
       "      <td>you are a coward that can't handle the fact th...</td>\n",
       "      <td>random urge kill people</td>\n",
       "      <td>coward handle fact people well life . stop giv...</td>\n",
       "      <td>-0.500000</td>\n",
       "      <td>0.000000</td>\n",
       "      <td>0.500000</td>\n",
       "      <td>0.000000</td>\n",
       "    </tr>\n",
       "    <tr>\n",
       "      <th>3</th>\n",
       "      <td>is slapping my arm when i’m anxious normal?</td>\n",
       "      <td>'normal' and 'crazy' aren't binary opposites, ...</td>\n",
       "      <td>slap arm anxious normal ?</td>\n",
       "      <td>' normal ' ' crazy ' binary opposite , scale ....</td>\n",
       "      <td>-0.050000</td>\n",
       "      <td>0.008333</td>\n",
       "      <td>0.825000</td>\n",
       "      <td>0.452778</td>\n",
       "    </tr>\n",
       "    <tr>\n",
       "      <th>4</th>\n",
       "      <td>tips to find a psychiatrist that specializes i...</td>\n",
       "      <td>i would assume the majority are aware of anxie...</td>\n",
       "      <td>tip find psychiatrist specialize panic attack ...</td>\n",
       "      <td>assume majority aware anxiety disorder treat ....</td>\n",
       "      <td>0.000000</td>\n",
       "      <td>0.000000</td>\n",
       "      <td>0.000000</td>\n",
       "      <td>0.712963</td>\n",
       "    </tr>\n",
       "    <tr>\n",
       "      <th>...</th>\n",
       "      <td>...</td>\n",
       "      <td>...</td>\n",
       "      <td>...</td>\n",
       "      <td>...</td>\n",
       "      <td>...</td>\n",
       "      <td>...</td>\n",
       "      <td>...</td>\n",
       "      <td>...</td>\n",
       "    </tr>\n",
       "    <tr>\n",
       "      <th>82560</th>\n",
       "      <td>have you heard of this?</td>\n",
       "      <td>i assume you have some sort of existing medica...</td>\n",
       "      <td>hear ?</td>\n",
       "      <td>assume sort exist medical relationship current...</td>\n",
       "      <td>0.000000</td>\n",
       "      <td>0.071429</td>\n",
       "      <td>0.000000</td>\n",
       "      <td>0.323810</td>\n",
       "    </tr>\n",
       "    <tr>\n",
       "      <th>82561</th>\n",
       "      <td>how do i stop my intensity?</td>\n",
       "      <td>i have been diagnosed officially and i am not ...</td>\n",
       "      <td>stop intensity ?</td>\n",
       "      <td>diagnose officially see therapist . abandonmen...</td>\n",
       "      <td>0.000000</td>\n",
       "      <td>0.026563</td>\n",
       "      <td>0.000000</td>\n",
       "      <td>0.632143</td>\n",
       "    </tr>\n",
       "    <tr>\n",
       "      <th>82562</th>\n",
       "      <td>does this have a name?</td>\n",
       "      <td>i asked my councillor but he wasn't too sure, ...</td>\n",
       "      <td>?</td>\n",
       "      <td>ask councillor sure , mild ocd</td>\n",
       "      <td>0.000000</td>\n",
       "      <td>0.416667</td>\n",
       "      <td>0.000000</td>\n",
       "      <td>0.694444</td>\n",
       "    </tr>\n",
       "    <tr>\n",
       "      <th>82563</th>\n",
       "      <td>do schizophrenics 'understand' other schizophr...</td>\n",
       "      <td>i don't think it works that way. i do find tha...</td>\n",
       "      <td>schizophrenic ' understand ' schizophrenic ' '...</td>\n",
       "      <td>think work way . find gravitate people mental ...</td>\n",
       "      <td>0.000000</td>\n",
       "      <td>0.087698</td>\n",
       "      <td>0.000000</td>\n",
       "      <td>0.441270</td>\n",
       "    </tr>\n",
       "    <tr>\n",
       "      <th>82564</th>\n",
       "      <td>does mental illness, with a suicide attempt, q...</td>\n",
       "      <td>yes. it is a life threatening illness. you wil...</td>\n",
       "      <td>mental illness , suicide attempt , qualify \" l...</td>\n",
       "      <td>yes . life threaten illness . probably ask kin...</td>\n",
       "      <td>-0.100000</td>\n",
       "      <td>0.300000</td>\n",
       "      <td>0.200000</td>\n",
       "      <td>0.950000</td>\n",
       "    </tr>\n",
       "  </tbody>\n",
       "</table>\n",
       "<p>82548 rows × 8 columns</p>\n",
       "</div>"
      ],
      "text/plain": [
       "                                                   title  \\\n",
       "0          do you ever feel like not being alive anymore   \n",
       "1              why do depressed people shave their heads   \n",
       "2                             random urge to kill people   \n",
       "3            is slapping my arm when i’m anxious normal?   \n",
       "4      tips to find a psychiatrist that specializes i...   \n",
       "...                                                  ...   \n",
       "82560                            have you heard of this?   \n",
       "82561                        how do i stop my intensity?   \n",
       "82562                             does this have a name?   \n",
       "82563  do schizophrenics 'understand' other schizophr...   \n",
       "82564  does mental illness, with a suicide attempt, q...   \n",
       "\n",
       "                                            comment_body  \\\n",
       "0      as for anchors my only anchor is i need to be ...   \n",
       "1      i don’t know because i never had the urge but ...   \n",
       "2      you are a coward that can't handle the fact th...   \n",
       "3      'normal' and 'crazy' aren't binary opposites, ...   \n",
       "4      i would assume the majority are aware of anxie...   \n",
       "...                                                  ...   \n",
       "82560  i assume you have some sort of existing medica...   \n",
       "82561  i have been diagnosed officially and i am not ...   \n",
       "82562  i asked my councillor but he wasn't too sure, ...   \n",
       "82563  i don't think it works that way. i do find tha...   \n",
       "82564  yes. it is a life threatening illness. you wil...   \n",
       "\n",
       "                                        lemmatized_title  \\\n",
       "0                                feel like alive anymore   \n",
       "1                              depress people shave head   \n",
       "2                                random urge kill people   \n",
       "3                              slap arm anxious normal ?   \n",
       "4      tip find psychiatrist specialize panic attack ...   \n",
       "...                                                  ...   \n",
       "82560                                             hear ?   \n",
       "82561                                   stop intensity ?   \n",
       "82562                                                  ?   \n",
       "82563  schizophrenic ' understand ' schizophrenic ' '...   \n",
       "82564  mental illness , suicide attempt , qualify \" l...   \n",
       "\n",
       "                                      lemmatized_comment  polarity_title  \\\n",
       "0      anchor anchor need successful care mom dad fuc...        0.100000   \n",
       "1      know urge think probably take care hair exhaus...       -0.066667   \n",
       "2      coward handle fact people well life . stop giv...       -0.500000   \n",
       "3      ' normal ' ' crazy ' binary opposite , scale ....       -0.050000   \n",
       "4      assume majority aware anxiety disorder treat ....        0.000000   \n",
       "...                                                  ...             ...   \n",
       "82560  assume sort exist medical relationship current...        0.000000   \n",
       "82561  diagnose officially see therapist . abandonmen...        0.000000   \n",
       "82562                     ask councillor sure , mild ocd        0.000000   \n",
       "82563  think work way . find gravitate people mental ...        0.000000   \n",
       "82564  yes . life threaten illness . probably ask kin...       -0.100000   \n",
       "\n",
       "       polarity_comment  subjectivity_title  subjectivity_comment  \n",
       "0             -0.001190            0.400000              0.751190  \n",
       "1              0.036970            0.033333              0.497619  \n",
       "2              0.000000            0.500000              0.000000  \n",
       "3              0.008333            0.825000              0.452778  \n",
       "4              0.000000            0.000000              0.712963  \n",
       "...                 ...                 ...                   ...  \n",
       "82560          0.071429            0.000000              0.323810  \n",
       "82561          0.026563            0.000000              0.632143  \n",
       "82562          0.416667            0.000000              0.694444  \n",
       "82563          0.087698            0.000000              0.441270  \n",
       "82564          0.300000            0.200000              0.950000  \n",
       "\n",
       "[82548 rows x 8 columns]"
      ]
     },
     "execution_count": 28,
     "metadata": {},
     "output_type": "execute_result"
    }
   ],
   "source": [
    "all_data2"
   ]
  },
  {
   "cell_type": "code",
   "execution_count": 29,
   "id": "74ec0058",
   "metadata": {
    "ExecuteTime": {
     "end_time": "2022-10-30T14:12:54.757977Z",
     "start_time": "2022-10-30T14:11:43.889488Z"
    }
   },
   "outputs": [],
   "source": [
    "# checking readability\n",
    "all_data2['readability_title'] = all_data2['title'].apply(lambda x: textstat.flesch_reading_ease(x))\n",
    "all_data2['readability_comment'] = all_data2['comment_body'].apply(lambda x: textstat.flesch_reading_ease(x))"
   ]
  },
  {
   "cell_type": "code",
   "execution_count": 30,
   "id": "45c9913b",
   "metadata": {
    "ExecuteTime": {
     "end_time": "2022-10-30T14:12:55.031816Z",
     "start_time": "2022-10-30T14:12:54.759979Z"
    }
   },
   "outputs": [
    {
     "data": {
      "image/png": "[encoded data removed]",
      "text/plain": [
       "<Figure size 640x480 with 1 Axes>"
      ]
     },
     "metadata": {},
     "output_type": "display_data"
    }
   ],
   "source": [
    "plt.hist(all_data2['readability_title'], bins=20,label='Titles',range=(-200,150))\n",
    "plt.hist(all_data2['readability_comment'], bins=20,alpha=0.8,label='Comments',range=(-200,150))\n",
    "plt.xlabel('Readability')\n",
    "plt.ylabel('Number of posts')\n",
    "plt.title('Readability')\n",
    "plt.legend();"
   ]
  },
  {
   "cell_type": "markdown",
   "id": "6c7bf846",
   "metadata": {},
   "source": [
    "# Using Latent Dirichlet Allocation analysis for titles and comments"
   ]
  },
  {
   "cell_type": "code",
   "execution_count": 33,
   "id": "2421f2fb",
   "metadata": {
    "ExecuteTime": {
     "end_time": "2022-10-30T15:08:02.134249Z",
     "start_time": "2022-10-30T15:08:02.114235Z"
    }
   },
   "outputs": [
    {
     "data": {
      "text/html": [
       "<div>\n",
       "<style scoped>\n",
       "    .dataframe tbody tr th:only-of-type {\n",
       "        vertical-align: middle;\n",
       "    }\n",
       "\n",
       "    .dataframe tbody tr th {\n",
       "        vertical-align: top;\n",
       "    }\n",
       "\n",
       "    .dataframe thead th {\n",
       "        text-align: right;\n",
       "    }\n",
       "</style>\n",
       "<table border=\"1\" class=\"dataframe\">\n",
       "  <thead>\n",
       "    <tr style=\"text-align: right;\">\n",
       "      <th></th>\n",
       "      <th>title</th>\n",
       "      <th>comment_body</th>\n",
       "      <th>lemmatized_title</th>\n",
       "      <th>lemmatized_comment</th>\n",
       "      <th>polarity_title</th>\n",
       "      <th>polarity_comment</th>\n",
       "      <th>subjectivity_title</th>\n",
       "      <th>subjectivity_comment</th>\n",
       "      <th>readability_title</th>\n",
       "      <th>readability_comment</th>\n",
       "    </tr>\n",
       "  </thead>\n",
       "  <tbody>\n",
       "    <tr>\n",
       "      <th>0</th>\n",
       "      <td>feel like alive anymore</td>\n",
       "      <td>anchor anchor need successful care mom dad fuc...</td>\n",
       "      <td>feel like alive anymore</td>\n",
       "      <td>anchor anchor need successful care mom dad fuc...</td>\n",
       "      <td>0.100000</td>\n",
       "      <td>-0.001190</td>\n",
       "      <td>0.400000</td>\n",
       "      <td>0.751190</td>\n",
       "      <td>87.72</td>\n",
       "      <td>-75.36</td>\n",
       "    </tr>\n",
       "    <tr>\n",
       "      <th>1</th>\n",
       "      <td>depress people shave head</td>\n",
       "      <td>know urge think probably take care hair exhaus...</td>\n",
       "      <td>depress people shave head</td>\n",
       "      <td>know urge think probably take care hair exhaus...</td>\n",
       "      <td>-0.066667</td>\n",
       "      <td>0.036970</td>\n",
       "      <td>0.033333</td>\n",
       "      <td>0.497619</td>\n",
       "      <td>89.75</td>\n",
       "      <td>-75.70</td>\n",
       "    </tr>\n",
       "    <tr>\n",
       "      <th>2</th>\n",
       "      <td>random urge kill people</td>\n",
       "      <td>coward handle fact people well life  stop give...</td>\n",
       "      <td>random urge kill people</td>\n",
       "      <td>coward handle fact people well life . stop giv...</td>\n",
       "      <td>-0.500000</td>\n",
       "      <td>0.000000</td>\n",
       "      <td>0.500000</td>\n",
       "      <td>0.000000</td>\n",
       "      <td>83.32</td>\n",
       "      <td>73.51</td>\n",
       "    </tr>\n",
       "    <tr>\n",
       "      <th>3</th>\n",
       "      <td>slap arm anxious normal</td>\n",
       "      <td>normal   crazy  binary opposite  scale  maybe...</td>\n",
       "      <td>slap arm anxious normal ?</td>\n",
       "      <td>' normal ' ' crazy ' binary opposite , scale ....</td>\n",
       "      <td>-0.050000</td>\n",
       "      <td>0.008333</td>\n",
       "      <td>0.825000</td>\n",
       "      <td>0.452778</td>\n",
       "      <td>80.28</td>\n",
       "      <td>3.81</td>\n",
       "    </tr>\n",
       "    <tr>\n",
       "      <th>4</th>\n",
       "      <td>tip find psychiatrist specialize panic attack ...</td>\n",
       "      <td>assume majority aware anxiety disorder treat  ...</td>\n",
       "      <td>tip find psychiatrist specialize panic attack ...</td>\n",
       "      <td>assume majority aware anxiety disorder treat ....</td>\n",
       "      <td>0.000000</td>\n",
       "      <td>0.000000</td>\n",
       "      <td>0.000000</td>\n",
       "      <td>0.712963</td>\n",
       "      <td>42.38</td>\n",
       "      <td>20.73</td>\n",
       "    </tr>\n",
       "    <tr>\n",
       "      <th>...</th>\n",
       "      <td>...</td>\n",
       "      <td>...</td>\n",
       "      <td>...</td>\n",
       "      <td>...</td>\n",
       "      <td>...</td>\n",
       "      <td>...</td>\n",
       "      <td>...</td>\n",
       "      <td>...</td>\n",
       "      <td>...</td>\n",
       "      <td>...</td>\n",
       "    </tr>\n",
       "    <tr>\n",
       "      <th>82560</th>\n",
       "      <td>hear</td>\n",
       "      <td>assume sort exist medical relationship current...</td>\n",
       "      <td>hear ?</td>\n",
       "      <td>assume sort exist medical relationship current...</td>\n",
       "      <td>0.000000</td>\n",
       "      <td>0.071429</td>\n",
       "      <td>0.000000</td>\n",
       "      <td>0.323810</td>\n",
       "      <td>117.16</td>\n",
       "      <td>54.90</td>\n",
       "    </tr>\n",
       "    <tr>\n",
       "      <th>82561</th>\n",
       "      <td>stop intensity</td>\n",
       "      <td>diagnose officially see therapist  abandonment...</td>\n",
       "      <td>stop intensity ?</td>\n",
       "      <td>diagnose officially see therapist . abandonmen...</td>\n",
       "      <td>0.000000</td>\n",
       "      <td>0.026563</td>\n",
       "      <td>0.000000</td>\n",
       "      <td>0.632143</td>\n",
       "      <td>73.85</td>\n",
       "      <td>-36.46</td>\n",
       "    </tr>\n",
       "    <tr>\n",
       "      <th>82562</th>\n",
       "      <td></td>\n",
       "      <td>ask councillor sure  mild ocd</td>\n",
       "      <td>?</td>\n",
       "      <td>ask councillor sure , mild ocd</td>\n",
       "      <td>0.000000</td>\n",
       "      <td>0.416667</td>\n",
       "      <td>0.000000</td>\n",
       "      <td>0.694444</td>\n",
       "      <td>117.16</td>\n",
       "      <td>87.05</td>\n",
       "    </tr>\n",
       "    <tr>\n",
       "      <th>82563</th>\n",
       "      <td>schizophrenic  understand  schizophrenic   wor...</td>\n",
       "      <td>think work way  find gravitate people mental i...</td>\n",
       "      <td>schizophrenic ' understand ' schizophrenic ' '...</td>\n",
       "      <td>think work way . find gravitate people mental ...</td>\n",
       "      <td>0.000000</td>\n",
       "      <td>0.087698</td>\n",
       "      <td>0.000000</td>\n",
       "      <td>0.441270</td>\n",
       "      <td>38.99</td>\n",
       "      <td>-73.00</td>\n",
       "    </tr>\n",
       "    <tr>\n",
       "      <th>82564</th>\n",
       "      <td>mental illness  suicide attempt  qualify  life...</td>\n",
       "      <td>yes  life threaten illness  probably ask kind ...</td>\n",
       "      <td>mental illness , suicide attempt , qualify \" l...</td>\n",
       "      <td>yes . life threaten illness . probably ask kin...</td>\n",
       "      <td>-0.100000</td>\n",
       "      <td>0.300000</td>\n",
       "      <td>0.200000</td>\n",
       "      <td>0.950000</td>\n",
       "      <td>49.82</td>\n",
       "      <td>25.47</td>\n",
       "    </tr>\n",
       "  </tbody>\n",
       "</table>\n",
       "<p>82548 rows × 10 columns</p>\n",
       "</div>"
      ],
      "text/plain": [
       "                                                   title  \\\n",
       "0                                feel like alive anymore   \n",
       "1                              depress people shave head   \n",
       "2                                random urge kill people   \n",
       "3                               slap arm anxious normal    \n",
       "4      tip find psychiatrist specialize panic attack ...   \n",
       "...                                                  ...   \n",
       "82560                                              hear    \n",
       "82561                                    stop intensity    \n",
       "82562                                                      \n",
       "82563  schizophrenic  understand  schizophrenic   wor...   \n",
       "82564  mental illness  suicide attempt  qualify  life...   \n",
       "\n",
       "                                            comment_body  \\\n",
       "0      anchor anchor need successful care mom dad fuc...   \n",
       "1      know urge think probably take care hair exhaus...   \n",
       "2      coward handle fact people well life  stop give...   \n",
       "3       normal   crazy  binary opposite  scale  maybe...   \n",
       "4      assume majority aware anxiety disorder treat  ...   \n",
       "...                                                  ...   \n",
       "82560  assume sort exist medical relationship current...   \n",
       "82561  diagnose officially see therapist  abandonment...   \n",
       "82562                      ask councillor sure  mild ocd   \n",
       "82563  think work way  find gravitate people mental i...   \n",
       "82564  yes  life threaten illness  probably ask kind ...   \n",
       "\n",
       "                                        lemmatized_title  \\\n",
       "0                                feel like alive anymore   \n",
       "1                              depress people shave head   \n",
       "2                                random urge kill people   \n",
       "3                              slap arm anxious normal ?   \n",
       "4      tip find psychiatrist specialize panic attack ...   \n",
       "...                                                  ...   \n",
       "82560                                             hear ?   \n",
       "82561                                   stop intensity ?   \n",
       "82562                                                  ?   \n",
       "82563  schizophrenic ' understand ' schizophrenic ' '...   \n",
       "82564  mental illness , suicide attempt , qualify \" l...   \n",
       "\n",
       "                                      lemmatized_comment  polarity_title  \\\n",
       "0      anchor anchor need successful care mom dad fuc...        0.100000   \n",
       "1      know urge think probably take care hair exhaus...       -0.066667   \n",
       "2      coward handle fact people well life . stop giv...       -0.500000   \n",
       "3      ' normal ' ' crazy ' binary opposite , scale ....       -0.050000   \n",
       "4      assume majority aware anxiety disorder treat ....        0.000000   \n",
       "...                                                  ...             ...   \n",
       "82560  assume sort exist medical relationship current...        0.000000   \n",
       "82561  diagnose officially see therapist . abandonmen...        0.000000   \n",
       "82562                     ask councillor sure , mild ocd        0.000000   \n",
       "82563  think work way . find gravitate people mental ...        0.000000   \n",
       "82564  yes . life threaten illness . probably ask kin...       -0.100000   \n",
       "\n",
       "       polarity_comment  subjectivity_title  subjectivity_comment  \\\n",
       "0             -0.001190            0.400000              0.751190   \n",
       "1              0.036970            0.033333              0.497619   \n",
       "2              0.000000            0.500000              0.000000   \n",
       "3              0.008333            0.825000              0.452778   \n",
       "4              0.000000            0.000000              0.712963   \n",
       "...                 ...                 ...                   ...   \n",
       "82560          0.071429            0.000000              0.323810   \n",
       "82561          0.026563            0.000000              0.632143   \n",
       "82562          0.416667            0.000000              0.694444   \n",
       "82563          0.087698            0.000000              0.441270   \n",
       "82564          0.300000            0.200000              0.950000   \n",
       "\n",
       "       readability_title  readability_comment  \n",
       "0                  87.72               -75.36  \n",
       "1                  89.75               -75.70  \n",
       "2                  83.32                73.51  \n",
       "3                  80.28                 3.81  \n",
       "4                  42.38                20.73  \n",
       "...                  ...                  ...  \n",
       "82560             117.16                54.90  \n",
       "82561              73.85               -36.46  \n",
       "82562             117.16                87.05  \n",
       "82563              38.99               -73.00  \n",
       "82564              49.82                25.47  \n",
       "\n",
       "[82548 rows x 10 columns]"
      ]
     },
     "execution_count": 33,
     "metadata": {},
     "output_type": "execute_result"
    }
   ],
   "source": [
    "all_data2"
   ]
  },
  {
   "cell_type": "code",
   "execution_count": null,
   "id": "91c741a0",
   "metadata": {},
   "outputs": [],
   "source": [
    "all_data2['lemmatized_title'] = all_data2.lemmatized_title.astype('string')\n",
    "all_data2['lemmatized_comment'] = all_data2.lemmatized_comment.astype('string')"
   ]
  },
  {
   "cell_type": "code",
   "execution_count": 55,
   "id": "967c3226",
   "metadata": {
    "ExecuteTime": {
     "end_time": "2022-10-30T15:17:04.610608Z",
     "start_time": "2022-10-30T15:17:04.606604Z"
    }
   },
   "outputs": [],
   "source": [
    "def remove_punctuations(text):\n",
    "    return text.translate(None,string.punctuation)"
   ]
  },
  {
   "cell_type": "code",
   "execution_count": 59,
   "id": "d9529ffe",
   "metadata": {
    "ExecuteTime": {
     "end_time": "2022-10-30T15:18:21.641724Z",
     "start_time": "2022-10-30T15:18:19.667774Z"
    }
   },
   "outputs": [
    {
     "name": "stderr",
     "output_type": "stream",
     "text": [
      "<>:1: DeprecationWarning: invalid escape sequence \\w\n",
      "<>:2: DeprecationWarning: invalid escape sequence \\w\n",
      "<>:1: DeprecationWarning: invalid escape sequence \\w\n",
      "<>:2: DeprecationWarning: invalid escape sequence \\w\n",
      "C:\\Users\\Julia\\AppData\\Local\\Temp\\ipykernel_22616\\4045545613.py:1: DeprecationWarning: invalid escape sequence \\w\n",
      "  all_data2['lemmatized_title'] = all_data2['lemmatized_title'].str.replace('[^\\w\\s]','')\n",
      "C:\\Users\\Julia\\AppData\\Local\\Temp\\ipykernel_22616\\4045545613.py:2: DeprecationWarning: invalid escape sequence \\w\n",
      "  all_data2['lemmatized_comment'] = all_data2['lemmatized_comment'].str.replace('[^\\w\\s]','')\n",
      "C:\\Users\\Julia\\AppData\\Local\\Temp\\ipykernel_22616\\4045545613.py:1: FutureWarning: The default value of regex will change from True to False in a future version.\n",
      "  all_data2['lemmatized_title'] = all_data2['lemmatized_title'].str.replace('[^\\w\\s]','')\n",
      "C:\\Users\\Julia\\AppData\\Local\\Temp\\ipykernel_22616\\4045545613.py:2: FutureWarning: The default value of regex will change from True to False in a future version.\n",
      "  all_data2['lemmatized_comment'] = all_data2['lemmatized_comment'].str.replace('[^\\w\\s]','')\n"
     ]
    }
   ],
   "source": [
    "all_data2['lemmatized_title'] = all_data2['lemmatized_title'].str.replace('[^\\w\\s]','')\n",
    "all_data2['lemmatized_comment'] = all_data2['lemmatized_comment'].str.replace('[^\\w\\s]','')"
   ]
  },
  {
   "cell_type": "code",
   "execution_count": 60,
   "id": "38e902ba",
   "metadata": {
    "ExecuteTime": {
     "end_time": "2022-10-30T15:18:44.090034Z",
     "start_time": "2022-10-30T15:18:43.995956Z"
    }
   },
   "outputs": [
    {
     "name": "stdout",
     "output_type": "stream",
     "text": [
      "<class 'pandas.core.frame.DataFrame'>\n",
      "Int64Index: 82548 entries, 0 to 82564\n",
      "Data columns (total 10 columns):\n",
      " #   Column                Non-Null Count  Dtype  \n",
      "---  ------                --------------  -----  \n",
      " 0   title                 82548 non-null  object \n",
      " 1   comment_body          82548 non-null  object \n",
      " 2   lemmatized_title      82548 non-null  object \n",
      " 3   lemmatized_comment    82548 non-null  object \n",
      " 4   polarity_title        82548 non-null  float64\n",
      " 5   polarity_comment      82548 non-null  float64\n",
      " 6   subjectivity_title    82548 non-null  float64\n",
      " 7   subjectivity_comment  82548 non-null  float64\n",
      " 8   readability_title     82548 non-null  float64\n",
      " 9   readability_comment   82548 non-null  float64\n",
      "dtypes: float64(6), object(4)\n",
      "memory usage: 6.9+ MB\n"
     ]
    }
   ],
   "source": [
    "all_data2.info()"
   ]
  },
  {
   "cell_type": "code",
   "execution_count": 61,
   "id": "5c93d741",
   "metadata": {
    "ExecuteTime": {
     "end_time": "2022-10-30T15:18:52.033345Z",
     "start_time": "2022-10-30T15:18:52.012330Z"
    }
   },
   "outputs": [
    {
     "data": {
      "text/html": [
       "<div>\n",
       "<style scoped>\n",
       "    .dataframe tbody tr th:only-of-type {\n",
       "        vertical-align: middle;\n",
       "    }\n",
       "\n",
       "    .dataframe tbody tr th {\n",
       "        vertical-align: top;\n",
       "    }\n",
       "\n",
       "    .dataframe thead th {\n",
       "        text-align: right;\n",
       "    }\n",
       "</style>\n",
       "<table border=\"1\" class=\"dataframe\">\n",
       "  <thead>\n",
       "    <tr style=\"text-align: right;\">\n",
       "      <th></th>\n",
       "      <th>title</th>\n",
       "      <th>comment_body</th>\n",
       "      <th>lemmatized_title</th>\n",
       "      <th>lemmatized_comment</th>\n",
       "      <th>polarity_title</th>\n",
       "      <th>polarity_comment</th>\n",
       "      <th>subjectivity_title</th>\n",
       "      <th>subjectivity_comment</th>\n",
       "      <th>readability_title</th>\n",
       "      <th>readability_comment</th>\n",
       "    </tr>\n",
       "  </thead>\n",
       "  <tbody>\n",
       "    <tr>\n",
       "      <th>0</th>\n",
       "      <td>feel like alive anymore</td>\n",
       "      <td>anchor anchor need successful care mom dad fuc...</td>\n",
       "      <td>feel like alive anymore</td>\n",
       "      <td>anchor anchor need successful care mom dad fuc...</td>\n",
       "      <td>0.100000</td>\n",
       "      <td>-0.001190</td>\n",
       "      <td>0.400000</td>\n",
       "      <td>0.751190</td>\n",
       "      <td>87.72</td>\n",
       "      <td>-75.36</td>\n",
       "    </tr>\n",
       "    <tr>\n",
       "      <th>1</th>\n",
       "      <td>depress people shave head</td>\n",
       "      <td>know urge think probably take care hair exhaus...</td>\n",
       "      <td>depress people shave head</td>\n",
       "      <td>know urge think probably take care hair exhaus...</td>\n",
       "      <td>-0.066667</td>\n",
       "      <td>0.036970</td>\n",
       "      <td>0.033333</td>\n",
       "      <td>0.497619</td>\n",
       "      <td>89.75</td>\n",
       "      <td>-75.70</td>\n",
       "    </tr>\n",
       "    <tr>\n",
       "      <th>2</th>\n",
       "      <td>random urge kill people</td>\n",
       "      <td>coward handle fact people well life  stop give...</td>\n",
       "      <td>random urge kill people</td>\n",
       "      <td>coward handle fact people well life  stop give...</td>\n",
       "      <td>-0.500000</td>\n",
       "      <td>0.000000</td>\n",
       "      <td>0.500000</td>\n",
       "      <td>0.000000</td>\n",
       "      <td>83.32</td>\n",
       "      <td>73.51</td>\n",
       "    </tr>\n",
       "    <tr>\n",
       "      <th>3</th>\n",
       "      <td>slap arm anxious normal</td>\n",
       "      <td>normal   crazy  binary opposite  scale  maybe...</td>\n",
       "      <td>slap arm anxious normal</td>\n",
       "      <td>normal   crazy  binary opposite  scale  maybe...</td>\n",
       "      <td>-0.050000</td>\n",
       "      <td>0.008333</td>\n",
       "      <td>0.825000</td>\n",
       "      <td>0.452778</td>\n",
       "      <td>80.28</td>\n",
       "      <td>3.81</td>\n",
       "    </tr>\n",
       "    <tr>\n",
       "      <th>4</th>\n",
       "      <td>tip find psychiatrist specialize panic attack ...</td>\n",
       "      <td>assume majority aware anxiety disorder treat  ...</td>\n",
       "      <td>tip find psychiatrist specialize panic attack ...</td>\n",
       "      <td>assume majority aware anxiety disorder treat  ...</td>\n",
       "      <td>0.000000</td>\n",
       "      <td>0.000000</td>\n",
       "      <td>0.000000</td>\n",
       "      <td>0.712963</td>\n",
       "      <td>42.38</td>\n",
       "      <td>20.73</td>\n",
       "    </tr>\n",
       "    <tr>\n",
       "      <th>...</th>\n",
       "      <td>...</td>\n",
       "      <td>...</td>\n",
       "      <td>...</td>\n",
       "      <td>...</td>\n",
       "      <td>...</td>\n",
       "      <td>...</td>\n",
       "      <td>...</td>\n",
       "      <td>...</td>\n",
       "      <td>...</td>\n",
       "      <td>...</td>\n",
       "    </tr>\n",
       "    <tr>\n",
       "      <th>82560</th>\n",
       "      <td>hear</td>\n",
       "      <td>assume sort exist medical relationship current...</td>\n",
       "      <td>hear</td>\n",
       "      <td>assume sort exist medical relationship current...</td>\n",
       "      <td>0.000000</td>\n",
       "      <td>0.071429</td>\n",
       "      <td>0.000000</td>\n",
       "      <td>0.323810</td>\n",
       "      <td>117.16</td>\n",
       "      <td>54.90</td>\n",
       "    </tr>\n",
       "    <tr>\n",
       "      <th>82561</th>\n",
       "      <td>stop intensity</td>\n",
       "      <td>diagnose officially see therapist  abandonment...</td>\n",
       "      <td>stop intensity</td>\n",
       "      <td>diagnose officially see therapist  abandonment...</td>\n",
       "      <td>0.000000</td>\n",
       "      <td>0.026563</td>\n",
       "      <td>0.000000</td>\n",
       "      <td>0.632143</td>\n",
       "      <td>73.85</td>\n",
       "      <td>-36.46</td>\n",
       "    </tr>\n",
       "    <tr>\n",
       "      <th>82562</th>\n",
       "      <td></td>\n",
       "      <td>ask councillor sure  mild ocd</td>\n",
       "      <td></td>\n",
       "      <td>ask councillor sure  mild ocd</td>\n",
       "      <td>0.000000</td>\n",
       "      <td>0.416667</td>\n",
       "      <td>0.000000</td>\n",
       "      <td>0.694444</td>\n",
       "      <td>117.16</td>\n",
       "      <td>87.05</td>\n",
       "    </tr>\n",
       "    <tr>\n",
       "      <th>82563</th>\n",
       "      <td>schizophrenic  understand  schizophrenic   wor...</td>\n",
       "      <td>think work way  find gravitate people mental i...</td>\n",
       "      <td>schizophrenic  understand  schizophrenic   wor...</td>\n",
       "      <td>think work way  find gravitate people mental i...</td>\n",
       "      <td>0.000000</td>\n",
       "      <td>0.087698</td>\n",
       "      <td>0.000000</td>\n",
       "      <td>0.441270</td>\n",
       "      <td>38.99</td>\n",
       "      <td>-73.00</td>\n",
       "    </tr>\n",
       "    <tr>\n",
       "      <th>82564</th>\n",
       "      <td>mental illness  suicide attempt  qualify  life...</td>\n",
       "      <td>yes  life threaten illness  probably ask kind ...</td>\n",
       "      <td>mental illness  suicide attempt  qualify  life...</td>\n",
       "      <td>yes  life threaten illness  probably ask kind ...</td>\n",
       "      <td>-0.100000</td>\n",
       "      <td>0.300000</td>\n",
       "      <td>0.200000</td>\n",
       "      <td>0.950000</td>\n",
       "      <td>49.82</td>\n",
       "      <td>25.47</td>\n",
       "    </tr>\n",
       "  </tbody>\n",
       "</table>\n",
       "<p>82548 rows × 10 columns</p>\n",
       "</div>"
      ],
      "text/plain": [
       "                                                   title  \\\n",
       "0                                feel like alive anymore   \n",
       "1                              depress people shave head   \n",
       "2                                random urge kill people   \n",
       "3                               slap arm anxious normal    \n",
       "4      tip find psychiatrist specialize panic attack ...   \n",
       "...                                                  ...   \n",
       "82560                                              hear    \n",
       "82561                                    stop intensity    \n",
       "82562                                                      \n",
       "82563  schizophrenic  understand  schizophrenic   wor...   \n",
       "82564  mental illness  suicide attempt  qualify  life...   \n",
       "\n",
       "                                            comment_body  \\\n",
       "0      anchor anchor need successful care mom dad fuc...   \n",
       "1      know urge think probably take care hair exhaus...   \n",
       "2      coward handle fact people well life  stop give...   \n",
       "3       normal   crazy  binary opposite  scale  maybe...   \n",
       "4      assume majority aware anxiety disorder treat  ...   \n",
       "...                                                  ...   \n",
       "82560  assume sort exist medical relationship current...   \n",
       "82561  diagnose officially see therapist  abandonment...   \n",
       "82562                      ask councillor sure  mild ocd   \n",
       "82563  think work way  find gravitate people mental i...   \n",
       "82564  yes  life threaten illness  probably ask kind ...   \n",
       "\n",
       "                                        lemmatized_title  \\\n",
       "0                                feel like alive anymore   \n",
       "1                              depress people shave head   \n",
       "2                                random urge kill people   \n",
       "3                               slap arm anxious normal    \n",
       "4      tip find psychiatrist specialize panic attack ...   \n",
       "...                                                  ...   \n",
       "82560                                              hear    \n",
       "82561                                    stop intensity    \n",
       "82562                                                      \n",
       "82563  schizophrenic  understand  schizophrenic   wor...   \n",
       "82564  mental illness  suicide attempt  qualify  life...   \n",
       "\n",
       "                                      lemmatized_comment  polarity_title  \\\n",
       "0      anchor anchor need successful care mom dad fuc...        0.100000   \n",
       "1      know urge think probably take care hair exhaus...       -0.066667   \n",
       "2      coward handle fact people well life  stop give...       -0.500000   \n",
       "3       normal   crazy  binary opposite  scale  maybe...       -0.050000   \n",
       "4      assume majority aware anxiety disorder treat  ...        0.000000   \n",
       "...                                                  ...             ...   \n",
       "82560  assume sort exist medical relationship current...        0.000000   \n",
       "82561  diagnose officially see therapist  abandonment...        0.000000   \n",
       "82562                      ask councillor sure  mild ocd        0.000000   \n",
       "82563  think work way  find gravitate people mental i...        0.000000   \n",
       "82564  yes  life threaten illness  probably ask kind ...       -0.100000   \n",
       "\n",
       "       polarity_comment  subjectivity_title  subjectivity_comment  \\\n",
       "0             -0.001190            0.400000              0.751190   \n",
       "1              0.036970            0.033333              0.497619   \n",
       "2              0.000000            0.500000              0.000000   \n",
       "3              0.008333            0.825000              0.452778   \n",
       "4              0.000000            0.000000              0.712963   \n",
       "...                 ...                 ...                   ...   \n",
       "82560          0.071429            0.000000              0.323810   \n",
       "82561          0.026563            0.000000              0.632143   \n",
       "82562          0.416667            0.000000              0.694444   \n",
       "82563          0.087698            0.000000              0.441270   \n",
       "82564          0.300000            0.200000              0.950000   \n",
       "\n",
       "       readability_title  readability_comment  \n",
       "0                  87.72               -75.36  \n",
       "1                  89.75               -75.70  \n",
       "2                  83.32                73.51  \n",
       "3                  80.28                 3.81  \n",
       "4                  42.38                20.73  \n",
       "...                  ...                  ...  \n",
       "82560             117.16                54.90  \n",
       "82561              73.85               -36.46  \n",
       "82562             117.16                87.05  \n",
       "82563              38.99               -73.00  \n",
       "82564              49.82                25.47  \n",
       "\n",
       "[82548 rows x 10 columns]"
      ]
     },
     "execution_count": 61,
     "metadata": {},
     "output_type": "execute_result"
    }
   ],
   "source": [
    "all_data2"
   ]
  },
  {
   "cell_type": "code",
   "execution_count": 51,
   "id": "a0bb2dd2",
   "metadata": {
    "ExecuteTime": {
     "end_time": "2022-10-30T15:15:15.664216Z",
     "start_time": "2022-10-30T15:15:11.029131Z"
    }
   },
   "outputs": [],
   "source": [
    "# remove extra space between tokens\n",
    "def remove_space(string):\n",
    "    result = re.sub('\\\\s+',' ', string)\n",
    "    return result\n",
    "all_data2['lemmatized_title'] = all_data2.lemmatized_title.apply(lambda x: remove_space(x))\n",
    "all_data2['lemmatized_comment'] = all_data2.lemmatized_comment.apply(lambda x: remove_space(x))"
   ]
  },
  {
   "cell_type": "code",
   "execution_count": 52,
   "id": "e06f921a",
   "metadata": {
    "ExecuteTime": {
     "end_time": "2022-10-30T15:15:21.147773Z",
     "start_time": "2022-10-30T15:15:19.195184Z"
    }
   },
   "outputs": [
    {
     "name": "stderr",
     "output_type": "stream",
     "text": [
      "C:\\Users\\Julia\\AppData\\Local\\Temp\\ipykernel_22616\\4125532046.py:2: FutureWarning: The default value of regex will change from True to False in a future version.\n",
      "  all_data2['lemmatized_title'] = all_data2['lemmatized_title'].str.replace('\\\\d+', '')\n",
      "C:\\Users\\Julia\\AppData\\Local\\Temp\\ipykernel_22616\\4125532046.py:3: FutureWarning: The default value of regex will change from True to False in a future version.\n",
      "  all_data2['lemmatized_comment'] = all_data2['lemmatized_comment'].str.replace('\\\\d+', '')\n"
     ]
    }
   ],
   "source": [
    "# remove digits\n",
    "all_data2['lemmatized_title'] = all_data2['lemmatized_title'].str.replace('\\\\d+', '')\n",
    "all_data2['lemmatized_comment'] = all_data2['lemmatized_comment'].str.replace('\\\\d+', '')"
   ]
  },
  {
   "cell_type": "code",
   "execution_count": 53,
   "id": "1093675f",
   "metadata": {
    "ExecuteTime": {
     "end_time": "2022-10-30T15:15:27.257598Z",
     "start_time": "2022-10-30T15:15:27.236583Z"
    }
   },
   "outputs": [
    {
     "data": {
      "text/html": [
       "<div>\n",
       "<style scoped>\n",
       "    .dataframe tbody tr th:only-of-type {\n",
       "        vertical-align: middle;\n",
       "    }\n",
       "\n",
       "    .dataframe tbody tr th {\n",
       "        vertical-align: top;\n",
       "    }\n",
       "\n",
       "    .dataframe thead th {\n",
       "        text-align: right;\n",
       "    }\n",
       "</style>\n",
       "<table border=\"1\" class=\"dataframe\">\n",
       "  <thead>\n",
       "    <tr style=\"text-align: right;\">\n",
       "      <th></th>\n",
       "      <th>title</th>\n",
       "      <th>comment_body</th>\n",
       "      <th>lemmatized_title</th>\n",
       "      <th>lemmatized_comment</th>\n",
       "      <th>polarity_title</th>\n",
       "      <th>polarity_comment</th>\n",
       "      <th>subjectivity_title</th>\n",
       "      <th>subjectivity_comment</th>\n",
       "      <th>readability_title</th>\n",
       "      <th>readability_comment</th>\n",
       "    </tr>\n",
       "  </thead>\n",
       "  <tbody>\n",
       "    <tr>\n",
       "      <th>0</th>\n",
       "      <td>feel like alive anymore</td>\n",
       "      <td>anchor anchor need successful care mom dad fuc...</td>\n",
       "      <td>feel like alive anymore</td>\n",
       "      <td>anchor anchor need successful care mom dad fuc...</td>\n",
       "      <td>0.100000</td>\n",
       "      <td>-0.001190</td>\n",
       "      <td>0.400000</td>\n",
       "      <td>0.751190</td>\n",
       "      <td>87.72</td>\n",
       "      <td>-75.36</td>\n",
       "    </tr>\n",
       "    <tr>\n",
       "      <th>1</th>\n",
       "      <td>depress people shave head</td>\n",
       "      <td>know urge think probably take care hair exhaus...</td>\n",
       "      <td>depress people shave head</td>\n",
       "      <td>know urge think probably take care hair exhaus...</td>\n",
       "      <td>-0.066667</td>\n",
       "      <td>0.036970</td>\n",
       "      <td>0.033333</td>\n",
       "      <td>0.497619</td>\n",
       "      <td>89.75</td>\n",
       "      <td>-75.70</td>\n",
       "    </tr>\n",
       "    <tr>\n",
       "      <th>2</th>\n",
       "      <td>random urge kill people</td>\n",
       "      <td>coward handle fact people well life  stop give...</td>\n",
       "      <td>random urge kill people</td>\n",
       "      <td>coward handle fact people well life . stop giv...</td>\n",
       "      <td>-0.500000</td>\n",
       "      <td>0.000000</td>\n",
       "      <td>0.500000</td>\n",
       "      <td>0.000000</td>\n",
       "      <td>83.32</td>\n",
       "      <td>73.51</td>\n",
       "    </tr>\n",
       "    <tr>\n",
       "      <th>3</th>\n",
       "      <td>slap arm anxious normal</td>\n",
       "      <td>normal   crazy  binary opposite  scale  maybe...</td>\n",
       "      <td>slap arm anxious normal ?</td>\n",
       "      <td>' normal ' ' crazy ' binary opposite , scale ....</td>\n",
       "      <td>-0.050000</td>\n",
       "      <td>0.008333</td>\n",
       "      <td>0.825000</td>\n",
       "      <td>0.452778</td>\n",
       "      <td>80.28</td>\n",
       "      <td>3.81</td>\n",
       "    </tr>\n",
       "    <tr>\n",
       "      <th>4</th>\n",
       "      <td>tip find psychiatrist specialize panic attack ...</td>\n",
       "      <td>assume majority aware anxiety disorder treat  ...</td>\n",
       "      <td>tip find psychiatrist specialize panic attack ...</td>\n",
       "      <td>assume majority aware anxiety disorder treat ....</td>\n",
       "      <td>0.000000</td>\n",
       "      <td>0.000000</td>\n",
       "      <td>0.000000</td>\n",
       "      <td>0.712963</td>\n",
       "      <td>42.38</td>\n",
       "      <td>20.73</td>\n",
       "    </tr>\n",
       "    <tr>\n",
       "      <th>...</th>\n",
       "      <td>...</td>\n",
       "      <td>...</td>\n",
       "      <td>...</td>\n",
       "      <td>...</td>\n",
       "      <td>...</td>\n",
       "      <td>...</td>\n",
       "      <td>...</td>\n",
       "      <td>...</td>\n",
       "      <td>...</td>\n",
       "      <td>...</td>\n",
       "    </tr>\n",
       "    <tr>\n",
       "      <th>82560</th>\n",
       "      <td>hear</td>\n",
       "      <td>assume sort exist medical relationship current...</td>\n",
       "      <td>hear ?</td>\n",
       "      <td>assume sort exist medical relationship current...</td>\n",
       "      <td>0.000000</td>\n",
       "      <td>0.071429</td>\n",
       "      <td>0.000000</td>\n",
       "      <td>0.323810</td>\n",
       "      <td>117.16</td>\n",
       "      <td>54.90</td>\n",
       "    </tr>\n",
       "    <tr>\n",
       "      <th>82561</th>\n",
       "      <td>stop intensity</td>\n",
       "      <td>diagnose officially see therapist  abandonment...</td>\n",
       "      <td>stop intensity ?</td>\n",
       "      <td>diagnose officially see therapist . abandonmen...</td>\n",
       "      <td>0.000000</td>\n",
       "      <td>0.026563</td>\n",
       "      <td>0.000000</td>\n",
       "      <td>0.632143</td>\n",
       "      <td>73.85</td>\n",
       "      <td>-36.46</td>\n",
       "    </tr>\n",
       "    <tr>\n",
       "      <th>82562</th>\n",
       "      <td></td>\n",
       "      <td>ask councillor sure  mild ocd</td>\n",
       "      <td>?</td>\n",
       "      <td>ask councillor sure , mild ocd</td>\n",
       "      <td>0.000000</td>\n",
       "      <td>0.416667</td>\n",
       "      <td>0.000000</td>\n",
       "      <td>0.694444</td>\n",
       "      <td>117.16</td>\n",
       "      <td>87.05</td>\n",
       "    </tr>\n",
       "    <tr>\n",
       "      <th>82563</th>\n",
       "      <td>schizophrenic  understand  schizophrenic   wor...</td>\n",
       "      <td>think work way  find gravitate people mental i...</td>\n",
       "      <td>schizophrenic ' understand ' schizophrenic ' '...</td>\n",
       "      <td>think work way . find gravitate people mental ...</td>\n",
       "      <td>0.000000</td>\n",
       "      <td>0.087698</td>\n",
       "      <td>0.000000</td>\n",
       "      <td>0.441270</td>\n",
       "      <td>38.99</td>\n",
       "      <td>-73.00</td>\n",
       "    </tr>\n",
       "    <tr>\n",
       "      <th>82564</th>\n",
       "      <td>mental illness  suicide attempt  qualify  life...</td>\n",
       "      <td>yes  life threaten illness  probably ask kind ...</td>\n",
       "      <td>mental illness , suicide attempt , qualify \" l...</td>\n",
       "      <td>yes . life threaten illness . probably ask kin...</td>\n",
       "      <td>-0.100000</td>\n",
       "      <td>0.300000</td>\n",
       "      <td>0.200000</td>\n",
       "      <td>0.950000</td>\n",
       "      <td>49.82</td>\n",
       "      <td>25.47</td>\n",
       "    </tr>\n",
       "  </tbody>\n",
       "</table>\n",
       "<p>82548 rows × 10 columns</p>\n",
       "</div>"
      ],
      "text/plain": [
       "                                                   title  \\\n",
       "0                                feel like alive anymore   \n",
       "1                              depress people shave head   \n",
       "2                                random urge kill people   \n",
       "3                               slap arm anxious normal    \n",
       "4      tip find psychiatrist specialize panic attack ...   \n",
       "...                                                  ...   \n",
       "82560                                              hear    \n",
       "82561                                    stop intensity    \n",
       "82562                                                      \n",
       "82563  schizophrenic  understand  schizophrenic   wor...   \n",
       "82564  mental illness  suicide attempt  qualify  life...   \n",
       "\n",
       "                                            comment_body  \\\n",
       "0      anchor anchor need successful care mom dad fuc...   \n",
       "1      know urge think probably take care hair exhaus...   \n",
       "2      coward handle fact people well life  stop give...   \n",
       "3       normal   crazy  binary opposite  scale  maybe...   \n",
       "4      assume majority aware anxiety disorder treat  ...   \n",
       "...                                                  ...   \n",
       "82560  assume sort exist medical relationship current...   \n",
       "82561  diagnose officially see therapist  abandonment...   \n",
       "82562                      ask councillor sure  mild ocd   \n",
       "82563  think work way  find gravitate people mental i...   \n",
       "82564  yes  life threaten illness  probably ask kind ...   \n",
       "\n",
       "                                        lemmatized_title  \\\n",
       "0                                feel like alive anymore   \n",
       "1                              depress people shave head   \n",
       "2                                random urge kill people   \n",
       "3                              slap arm anxious normal ?   \n",
       "4      tip find psychiatrist specialize panic attack ...   \n",
       "...                                                  ...   \n",
       "82560                                             hear ?   \n",
       "82561                                   stop intensity ?   \n",
       "82562                                                  ?   \n",
       "82563  schizophrenic ' understand ' schizophrenic ' '...   \n",
       "82564  mental illness , suicide attempt , qualify \" l...   \n",
       "\n",
       "                                      lemmatized_comment  polarity_title  \\\n",
       "0      anchor anchor need successful care mom dad fuc...        0.100000   \n",
       "1      know urge think probably take care hair exhaus...       -0.066667   \n",
       "2      coward handle fact people well life . stop giv...       -0.500000   \n",
       "3      ' normal ' ' crazy ' binary opposite , scale ....       -0.050000   \n",
       "4      assume majority aware anxiety disorder treat ....        0.000000   \n",
       "...                                                  ...             ...   \n",
       "82560  assume sort exist medical relationship current...        0.000000   \n",
       "82561  diagnose officially see therapist . abandonmen...        0.000000   \n",
       "82562                     ask councillor sure , mild ocd        0.000000   \n",
       "82563  think work way . find gravitate people mental ...        0.000000   \n",
       "82564  yes . life threaten illness . probably ask kin...       -0.100000   \n",
       "\n",
       "       polarity_comment  subjectivity_title  subjectivity_comment  \\\n",
       "0             -0.001190            0.400000              0.751190   \n",
       "1              0.036970            0.033333              0.497619   \n",
       "2              0.000000            0.500000              0.000000   \n",
       "3              0.008333            0.825000              0.452778   \n",
       "4              0.000000            0.000000              0.712963   \n",
       "...                 ...                 ...                   ...   \n",
       "82560          0.071429            0.000000              0.323810   \n",
       "82561          0.026563            0.000000              0.632143   \n",
       "82562          0.416667            0.000000              0.694444   \n",
       "82563          0.087698            0.000000              0.441270   \n",
       "82564          0.300000            0.200000              0.950000   \n",
       "\n",
       "       readability_title  readability_comment  \n",
       "0                  87.72               -75.36  \n",
       "1                  89.75               -75.70  \n",
       "2                  83.32                73.51  \n",
       "3                  80.28                 3.81  \n",
       "4                  42.38                20.73  \n",
       "...                  ...                  ...  \n",
       "82560             117.16                54.90  \n",
       "82561              73.85               -36.46  \n",
       "82562             117.16                87.05  \n",
       "82563              38.99               -73.00  \n",
       "82564              49.82                25.47  \n",
       "\n",
       "[82548 rows x 10 columns]"
      ]
     },
     "execution_count": 53,
     "metadata": {},
     "output_type": "execute_result"
    }
   ],
   "source": [
    "all_data2"
   ]
  },
  {
   "cell_type": "code",
   "execution_count": 66,
   "id": "436ef50a",
   "metadata": {
    "ExecuteTime": {
     "end_time": "2022-10-30T15:53:48.190800Z",
     "start_time": "2022-10-30T15:53:37.702197Z"
    }
   },
   "outputs": [],
   "source": [
    "all_data2.to_csv(\"../Data/all_data3.csv\", index=False)"
   ]
  },
  {
   "cell_type": "code",
   "execution_count": 2,
   "id": "ddbdc04c",
   "metadata": {
    "ExecuteTime": {
     "end_time": "2022-11-13T18:09:42.784848Z",
     "start_time": "2022-11-13T18:09:40.214302Z"
    }
   },
   "outputs": [],
   "source": [
    "all_data3 = pd.read_csv('../Data/all_data3.csv')"
   ]
  },
  {
   "cell_type": "code",
   "execution_count": 3,
   "id": "224b6376",
   "metadata": {
    "ExecuteTime": {
     "end_time": "2022-11-13T18:09:42.919956Z",
     "start_time": "2022-11-13T18:09:42.786850Z"
    }
   },
   "outputs": [],
   "source": [
    "all_data3.dropna(inplace=True)"
   ]
  },
  {
   "cell_type": "markdown",
   "id": "39ecb7fd",
   "metadata": {},
   "source": [
    "# Processing titles"
   ]
  },
  {
   "cell_type": "code",
   "execution_count": 9,
   "id": "1793d369",
   "metadata": {
    "ExecuteTime": {
     "end_time": "2022-11-13T18:14:00.393552Z",
     "start_time": "2022-11-13T18:14:00.104347Z"
    }
   },
   "outputs": [],
   "source": [
    "l1 = list(all_data3.lemmatized_title)\n",
    "X_title = [el.split() for el in l1]"
   ]
  },
  {
   "cell_type": "code",
   "execution_count": 10,
   "id": "5c5ed6d9",
   "metadata": {
    "ExecuteTime": {
     "end_time": "2022-11-13T18:14:07.705348Z",
     "start_time": "2022-11-13T18:14:06.477412Z"
    }
   },
   "outputs": [
    {
     "name": "stdout",
     "output_type": "stream",
     "text": [
      "[(0, 1), (1, 1), (2, 1), (3, 1)]\n"
     ]
    }
   ],
   "source": [
    "# Create Dictionary\n",
    "id2word = corpora.Dictionary(X_title)\n",
    "# Filter out words that occur less than 20 documents, or more than 50% of the documents.\n",
    "id2word.filter_extremes(no_below=20, no_above=0.5)\n",
    "# Create Corpus\n",
    "texts = X_title\n",
    "# Term Document Frequency\n",
    "corpus = [id2word.doc2bow(text) for text in texts]\n",
    "# View\n",
    "print(corpus[:1][0][:30])"
   ]
  },
  {
   "cell_type": "code",
   "execution_count": 11,
   "id": "4c4205d6",
   "metadata": {
    "ExecuteTime": {
     "end_time": "2022-11-13T18:14:34.328970Z",
     "start_time": "2022-11-13T18:14:10.103253Z"
    }
   },
   "outputs": [
    {
     "name": "stdout",
     "output_type": "stream",
     "text": [
      "[(0,\n",
      "  '0.030*\"experience\" + 0.022*\"normal\" + 0.018*\"hospital\" + 0.018*\"feel\" + '\n",
      "  '0.015*\"find\" + 0.013*\"help\" + 0.012*\"therapist\" + 0.012*\"day\" + '\n",
      "  '0.011*\"sleep\" + 0.011*\"medication\"'),\n",
      " (1,\n",
      "  '0.051*\"wrong\" + 0.035*\"help\" + 0.031*\"disorder\" + 0.025*\"mental\" + '\n",
      "  '0.023*\"tell\" + 0.019*\"happen\" + 0.017*\"people\" + 0.016*\"advice\" + '\n",
      "  '0.014*\"need\" + 0.012*\"health\"'),\n",
      " (2,\n",
      "  '0.092*\"mental\" + 0.065*\"health\" + 0.020*\"talk\" + 0.018*\"issue\" + '\n",
      "  '0.018*\"illness\" + 0.014*\"parent\" + 0.014*\"therapy\" + 0.011*\"help\" + '\n",
      "  '0.010*\"get\" + 0.010*\"stop\"'),\n",
      " (3,\n",
      "  '0.059*\"depression\" + 0.033*\"anxiety\" + 0.032*\"think\" + 0.026*\"stop\" + '\n",
      "  '0.021*\"diagnose\" + 0.016*\"feel\" + 0.014*\"people\" + 0.013*\"life\" + '\n",
      "  '0.012*\"suicide\" + 0.011*\"ocd\"'),\n",
      " (4,\n",
      "  '0.038*\"normal\" + 0.020*\"friend\" + 0.019*\"feel\" + 0.014*\"time\" + '\n",
      "  '0.013*\"year\" + 0.013*\"thought\" + 0.012*\"help\" + 0.012*\"life\" + '\n",
      "  '0.011*\"people\" + 0.011*\"brain\"'),\n",
      " (5,\n",
      "  '0.022*\"deal\" + 0.022*\"thing\" + 0.021*\"therapy\" + 0.020*\"therapist\" + '\n",
      "  '0.018*\"want\" + 0.016*\"time\" + 0.016*\"bad\" + 0.015*\"have\" + 0.014*\"mental\" + '\n",
      "  '0.014*\"life\"'),\n",
      " (6,\n",
      "  '0.052*\"feel\" + 0.050*\"mental\" + 0.039*\"know\" + 0.037*\"illness\" + '\n",
      "  '0.032*\"help\" + 0.024*\"like\" + 0.018*\"need\" + 0.018*\"people\" + '\n",
      "  '0.015*\"health\" + 0.011*\"therapy\"'),\n",
      " (7,\n",
      "  '0.038*\"self\" + 0.025*\"thought\" + 0.022*\"bad\" + 0.018*\"depression\" + '\n",
      "  '0.016*\"help\" + 0.015*\"harm\" + 0.014*\"want\" + 0.014*\"anxiety\" + '\n",
      "  '0.013*\"suicidal\" + 0.012*\"stop\"'),\n",
      " (8,\n",
      "  '0.077*\"help\" + 0.075*\"feel\" + 0.062*\"like\" + 0.015*\"way\" + 0.014*\"anxiety\" '\n",
      "  '+ 0.010*\"schizophrenia\" + 0.010*\"good\" + 0.010*\"attack\" + '\n",
      "  '0.009*\"depression\" + 0.009*\"depressed\"'),\n",
      " (9,\n",
      "  '0.022*\"go\" + 0.021*\"like\" + 0.015*\"people\" + 0.013*\"friend\" + 0.013*\"know\" '\n",
      "  '+ 0.012*\"look\" + 0.011*\"m\" + 0.010*\"psychosis\" + 0.010*\"advice\" + '\n",
      "  '0.010*\"right\"')]\n"
     ]
    }
   ],
   "source": [
    "# number of topics\n",
    "num_topics = 10\n",
    "# Build LDA model\n",
    "lda_model = gensim.models.LdaMulticore(corpus=corpus,\n",
    "                                       id2word=id2word,\n",
    "                                       num_topics=num_topics)\n",
    "# Print the Keyword in the 10 topics\n",
    "pprint(lda_model.print_topics())\n",
    "doc_lda = lda_model[corpus]"
   ]
  },
  {
   "cell_type": "code",
   "execution_count": null,
   "id": "bac34c53",
   "metadata": {
    "ExecuteTime": {
     "start_time": "2022-11-13T18:15:17.683Z"
    }
   },
   "outputs": [],
   "source": [
    "coherence_model_lda = CoherenceModel(model=lda_model, texts=texts, dictionary=id2word, coherence='c_v')\n",
    "coherence_lda = coherence_model_lda.get_coherence()\n",
    "coherence_lda"
   ]
  },
  {
   "cell_type": "code",
   "execution_count": 12,
   "id": "e1d227af",
   "metadata": {
    "ExecuteTime": {
     "end_time": "2022-11-13T18:14:57.938144Z",
     "start_time": "2022-11-13T18:14:42.946671Z"
    }
   },
   "outputs": [
    {
     "name": "stderr",
     "output_type": "stream",
     "text": [
      "C:\\Users\\Julia\\anaconda3\\lib\\site-packages\\pyLDAvis\\_prepare.py:246: FutureWarning: In a future version of pandas all arguments of DataFrame.drop except for the argument 'labels' will be keyword-only.\n",
      "  default_term_info = default_term_info.sort_values(\n"
     ]
    },
    {
     "data": {
      "text/html": [
       "\n",
       "<link rel=\"stylesheet\" type=\"text/css\" href=\"https://cdn.jsdelivr.net/gh/bmabey/pyLDAvis@3.3.1/pyLDAvis/js/ldavis.v1.0.0.css\">\n",
       "\n",
       "\n",
       "<div id=\"ldavis_el20200622755076961353964078\"></div>\n",
       "<script type=\"text/javascript\">\n",
       "\n",
       "var ldavis_el20200622755076961353964078_data = {\"mdsDat\": {\"x\": [0.1225676446329643, -0.02316823958262768, 0.07946207018483707, 0.061461477930656774, -0.07043578220882374, 0.005617115642209494, -0.04412298748714398, -0.06897887664832551, 0.00800018687902166, -0.07040260934276851], \"y\": [0.061528082085154055, -0.1305458722138174, -0.052419359875627125, -0.04046536965372791, -0.016673189858909507, 0.0725389431569847, 0.04543319508592611, 0.04557268443477949, 0.00906992985574846, 0.005960956983489068], \"topics\": [1, 2, 3, 4, 5, 6, 7, 8, 9, 10], \"cluster\": [1, 1, 1, 1, 1, 1, 1, 1, 1, 1], \"Freq\": [11.878363549638843, 10.772060962948322, 10.261948010313612, 10.082630030720106, 9.98056017113048, 9.802809312087662, 9.440548458676936, 9.410813313649207, 9.319087235602101, 9.05117895523273]}, \"tinfo\": {\"Term\": [\"mental\", \"health\", \"feel\", \"help\", \"depression\", \"wrong\", \"like\", \"illness\", \"self\", \"normal\", \"know\", \"experience\", \"disorder\", \"diagnose\", \"thought\", \"hospital\", \"think\", \"bad\", \"therapy\", \"tell\", \"friend\", \"anxiety\", \"stop\", \"time\", \"go\", \"harm\", \"happen\", \"deal\", \"suicidal\", \"issue\", \"wellness\", \"punch\", \"positivity\", \"d\", \"misdiagnosis\", \"argue\", \"zone\", \"imagination\", \"repressed\", \"center\", \"risperidone\", \"health\", \"vitamin\", \"healthcare\", \"nervous\", \"understanding\", \"irritable\", \"split\", \"website\", \"remind\", \"disagree\", \"awareness\", \"alot\", \"blow\", \"career\", \"object\", \"agree\", \"mind\", \"hug\", \"selfish\", \"free\", \"resource\", \"mental\", \"issue\", \"bf\", \"sign\", \"breakdown\", \"struggle\", \"actually\", \"care\", \"talk\", \"parent\", \"man\", \"give\", \"illness\", \"love\", \"therapy\", \"get\", \"wonder\", \"memory\", \"good\", \"work\", \"professional\", \"trauma\", \"stop\", \"tell\", \"group\", \"family\", \"schizophrenia\", \"want\", \"friend\", \"people\", \"help\", \"go\", \"ask\", \"normal\", \"way\", \"need\", \"feel\", \"think\", \"like\", \"win\", \"dosage\", \"accident\", \"manipulate\", \"conspiracy\", \"burst\", \"slightly\", \"mum\", \"gp\", \"alter\", \"short\", \"background\", \"yo\", \"functioning\", \"schizophrenia\", \"unusual\", \"genetic\", \"logical\", \"adderall\", \"realistic\", \"demon\", \"withdrawal\", \"crap\", \"appear\", \"dose\", \"harassment\", \"betterhelp\", \"primary\", \"energy\", \"increase\", \"mean\", \"like\", \"guilty\", \"ptsd\", \"alcohol\", \"happy\", \"help\", \"attack\", \"feel\", \"panic\", \"way\", \"dae\", \"sound\", \"die\", \"realize\", \"antidepressant\", \"symptom\", \"fast\", \"bpd\", \"brother\", \"love\", \"good\", \"depressed\", \"person\", \"low\", \"anxiety\", \"term\", \"believe\", \"med\", \"therapist\", \"point\", \"need\", \"know\", \"depression\", \"want\", \"happen\", \"disorder\", \"self\", \"normal\", \"tell\", \"bad\", \"trump\", \"survey\", \"depersonalization\", \"hot\", \"pm\", \"pure\", \"sentence\", \"christmas\", \"chemical\", \"oil\", \"service\", \"proper\", \"bored\", \"silly\", \"drunk\", \"awkward\", \"ie\", \"imbalance\", \"prepare\", \"anonymous\", \"piece\", \"secret\", \"empathetic\", \"period\", \"provide\", \"lost\", \"illness\", \"source\", \"heavy\", \"seek\", \"vent\", \"know\", \"not\", \"suffer\", \"mentally\", \"ill\", \"bit\", \"suppose\", \"hear\", \"feel\", \"need\", \"mental\", \"cope\", \"cry\", \"sad\", \"real\", \"help\", \"like\", \"people\", \"online\", \"weird\", \"therapy\", \"depressed\", \"diagnosis\", \"talk\", \"health\", \"work\", \"anxiety\", \"time\", \"deal\", \"cause\", \"experience\", \"thing\", \"want\", \"depersonalisation\", \"derealisation\", \"pathological\", \"disassociation\", \"typical\", \"input\", \"avoidant\", \"blanket\", \"borderline\", \"liar\", \"value\", \"dear\", \"employer\", \"psychotherapist\", \"personally\", \"wrong\", \"medicate\", \"husband\", \"tool\", \"expose\", \"sake\", \"suffering\", \"schizoid\", \"abandonment\", \"ii\", \"disease\", \"addicted\", \"unhappy\", \"show\", \"trait\", \"disorder\", \"happen\", \"personality\", \"bipolar\", \"diagnosis\", \"tell\", \"well\", \"attempt\", \"advice\", \"trauma\", \"cut\", \"suicide\", \"help\", \"need\", \"break\", \"psychologist\", \"relate\", \"seriously\", \"people\", \"psychotic\", \"friend\", \"mental\", \"issue\", \"go\", \"sure\", \"long\", \"think\", \"health\", \"anxiety\", \"psychiatrist\", \"want\", \"possible\", \"know\", \"life\", \"therapy\", \"illness\", \"feel\", \"mod\", \"odd\", \"anhedonia\", \"label\", \"polar\", \"hospitalize\", \"separation\", \"clinical\", \"bi\", \"diagnose\", \"shower\", \"introvert\", \"turkey\", \"resistant\", \"development\", \"mirtazapine\", \"quote\", \"abusive\", \"wall\", \"offensive\", \"winter\", \"motivated\", \"frustrated\", \"terrify\", \"dissociate\", \"somewhat\", \"pressure\", \"schizophrenic\", \"fluoxetine\", \"swing\", \"rid\", \"depression\", \"cold\", \"shit\", \"ocd\", \"think\", \"trust\", \"behavior\", \"tip\", \"stop\", \"anxiety\", \"suicide\", \"control\", \"panic\", \"anybody\", \"overcome\", \"mood\", \"attack\", \"life\", \"see\", \"hell\", \"people\", \"anger\", \"feel\", \"deal\", \"work\", \"disorder\", \"want\", \"past\", \"cope\", \"thought\", \"help\", \"parent\", \"like\", \"experience\", \"talk\", \"good\", \"tms\", \"concentrate\", \"confirm\", \"disgust\", \"notice\", \"responsibility\", \"drop\", \"resentment\", \"trip\", \"food\", \"involuntary\", \"meaning\", \"scratch\", \"ground\", \"cheat\", \"include\", \"generation\", \"phobia\", \"drain\", \"focus\", \"distraction\", \"regain\", \"texte\", \"choice\", \"session\", \"totally\", \"call\", \"mania\", \"ahead\", \"save\", \"home\", \"deal\", \"feeling\", \"write\", \"have\", \"thing\", \"therapy\", \"appointment\", \"time\", \"therapist\", \"die\", \"person\", \"take\", \"want\", \"bad\", \"major\", \"safe\", \"life\", \"family\", \"point\", \"afraid\", \"psychiatrist\", \"affect\", \"start\", \"mom\", \"scared\", \"mental\", \"feel\", \"good\", \"get\", \"thought\", \"stop\", \"friend\", \"health\", \"cope\", \"like\", \"day\", \"anxiety\", \"depression\", \"anorexic\", \"coffee\", \"anorexia\", \"destructive\", \"evil\", \"esteem\", \"white\", \"embarrassing\", \"practitioner\", \"intention\", \"perception\", \"abnormal\", \"accurate\", \"reflect\", \"self\", \"harm\", \"insanity\", \"speech\", \"libido\", \"persistent\", \"guide\", \"decade\", \"sabotage\", \"intrusive\", \"extremely\", \"acute\", \"regard\", \"apathetic\", \"holiday\", \"specialist\", \"empathy\", \"amp\", \"violent\", \"cycle\", \"physical\", \"fight\", \"obsession\", \"thought\", \"doctor\", \"warning\", \"bad\", \"dissociation\", \"suicidal\", \"mad\", \"change\", \"job\", \"recover\", \"want\", \"hey\", \"depression\", \"ask\", \"eat\", \"cause\", \"stop\", \"person\", \"tell\", \"anxiety\", \"handle\", \"help\", \"people\", \"med\", \"life\", \"emotion\", \"care\", \"thing\", \"possible\", \"mental\", \"go\", \"know\", \"health\", \"think\", \"time\", \"feel\", \"happen\", \"void\", \"bore\", \"fog\", \"bite\", \"perfect\", \"bulimia\", \"denial\", \"lockdown\", \"mirror\", \"courage\", \"fill\", \"loser\", \"highly\", \"stage\", \"prozac\", \"passive\", \"significant\", \"nostalgia\", \"awake\", \"criticism\", \"residential\", \"unwanted\", \"earth\", \"pursue\", \"belief\", \"nature\", \"slowly\", \"limit\", \"emptiness\", \"naturally\", \"story\", \"dramatic\", \"brain\", \"enjoy\", \"crush\", \"ideation\", \"read\", \"remember\", \"normal\", \"sensitive\", \"reason\", \"ruin\", \"year\", \"hard\", \"asperger\", \"friend\", \"college\", \"narcissist\", \"try\", \"time\", \"positive\", \"video\", \"step\", \"suicidal\", \"new\", \"old\", \"thought\", \"character\", \"numb\", \"depressed\", \"life\", \"advice\", \"kill\", \"feel\", \"make\", \"therapist\", \"people\", \"thing\", \"help\", \"self\", \"have\", \"bad\", \"way\", \"good\", \"anxiety\", \"evidence\", \"water\", \"quarantine\", \"st\", \"acceptable\", \"dysmorphia\", \"psychologically\", \"taper\", \"supportive\", \"affection\", \"travel\", \"fetish\", \"deeply\", \"inappropriate\", \"truth\", \"title\", \"site\", \"appearance\", \"dysfunction\", \"shy\", \"interesting\", \"rehab\", \"end\", \"dysphoria\", \"hospitalization\", \"drama\", \"cat\", \"numbness\", \"ex\", \"expectation\", \"psychosis\", \"crazy\", \"idk\", \"hallucinate\", \"zoloft\", \"abuse\", \"look\", \"forward\", \"laugh\", \"sub\", \"right\", \"question\", \"okay\", \"body\", \"m\", \"go\", \"mess\", \"disability\", \"hate\", \"ssri\", \"emotional\", \"relationship\", \"head\", \"paranoid\", \"work\", \"like\", \"friend\", \"advice\", \"people\", \"know\", \"ill\", \"way\", \"away\", \"emotionally\", \"support\", \"mentally\", \"problem\", \"therapist\", \"thing\", \"mental\", \"feel\", \"deal\", \"help\", \"health\", \"want\", \"hearing\", \"vivid\", \"auditory\", \"ssris\", \"hospital\", \"headache\", \"cartoon\", \"prefer\", \"redditor\", \"ego\", \"warn\", \"terror\", \"apathy\", \"voluntarily\", \"risk\", \"admit\", \"psychopath\", \"disconnected\", \"explanation\", \"section\", \"boost\", \"hallucination\", \"maladaptive\", \"nightmare\", \"institutionalize\", \"s\", \"desire\", \"silence\", \"sympathy\", \"paralysis\", \"sleep\", \"experience\", \"depressant\", \"anti\", \"ward\", \"death\", \"psych\", \"adhd\", \"stress\", \"find\", \"dream\", \"medication\", \"word\", \"day\", \"matter\", \"normal\", \"stay\", \"bipolar\", \"start\", \"psychiatric\", \"bpd\", \"therapist\", \"suicidal\", \"go\", \"thought\", \"feel\", \"live\", \"help\", \"good\", \"think\", \"get\", \"like\", \"bad\", \"people\", \"mental\", \"anxiety\", \"advice\", \"talk\", \"wrong\"], \"Freq\": [7361.0, 4053.0, 6886.0, 6862.0, 3498.0, 2477.0, 4665.0, 2328.0, 1820.0, 2703.0, 2839.0, 1676.0, 1908.0, 878.0, 2057.0, 649.0, 2610.0, 2146.0, 2045.0, 1954.0, 2190.0, 3375.0, 2321.0, 1624.0, 2091.0, 738.0, 1218.0, 1747.0, 1186.0, 1396.0, 25.80919608914692, 25.326195983289328, 14.939740746650966, 24.24423430607966, 14.945178149588807, 17.999253698371653, 26.682162014855816, 23.846647542386876, 26.20009280954064, 28.237484472951607, 22.963724841751958, 2384.3537733994212, 18.12047024757332, 24.411155069008952, 57.86232391419254, 13.796882301469601, 12.265337488449722, 24.322708792818858, 28.057005594057784, 20.086909701208803, 11.55775977166653, 46.072374167487425, 15.09787801252682, 15.887838282381653, 34.14657299968917, 16.390964286371695, 26.05731969247889, 306.47174579283546, 27.42815439353852, 70.33646840011599, 127.63163794144373, 98.43931762848955, 3380.706799504673, 667.6234054446209, 35.82481937295844, 184.65324283950034, 147.74546439589395, 314.09370204227804, 280.8441482371518, 349.6170383354214, 735.2588466165292, 529.7967249369417, 117.66238809018294, 117.42257609883683, 648.2862074344001, 272.15689857804585, 504.74240768027295, 383.94806691816484, 65.7684965398409, 140.62566249618857, 360.27927285775036, 297.07399165706124, 117.38725335659605, 183.46934326303193, 367.34642954337033, 298.3635591697544, 76.67346445107073, 168.62462837186567, 147.3209909080095, 294.95291117691426, 268.3568338679785, 321.97740864884514, 416.7063626287508, 237.97968736787774, 161.07469036346487, 222.93732985095036, 184.3452305862956, 204.10139389870275, 198.0573698368896, 175.5710682774692, 176.81171417824672, 29.96118597718486, 21.854255183723435, 25.684218566157934, 28.536687544809908, 15.493715986205707, 41.86115903600785, 13.070418764887206, 43.9341063484745, 47.28735140989751, 13.734416296226078, 77.95841447839389, 15.603602069430222, 21.79117553009305, 13.037809099054568, 350.6938834927379, 15.772823369724067, 18.916907122589254, 10.671417587654872, 31.6100860612116, 12.416242355728476, 14.586875696297074, 51.41214102875941, 12.538419916682505, 16.35649641505227, 41.80384289693871, 11.974531112529629, 23.614509948171367, 10.589235472077549, 70.63299719685209, 44.95945173376455, 289.79789967763804, 2060.6272797611823, 86.01394436997172, 220.22086082326973, 51.996432635555884, 279.906269270761, 2563.7295426852816, 323.35026096856376, 2490.2411412605456, 277.34186125562246, 496.62048567880095, 104.49138691129878, 152.3702231365137, 243.91974800216602, 83.41860828141981, 175.36469718373482, 229.84401221097625, 50.717076344934874, 158.52678488180356, 114.52561324306824, 209.6539635898764, 350.459997231906, 296.22757770794857, 253.02480164082814, 109.38263643452392, 454.7746078342859, 99.00810792743826, 106.96770243657906, 151.31329999375237, 289.0429590217499, 138.10379923885458, 258.6278636914055, 294.87290475049946, 299.3959506968335, 245.8939939120451, 174.2558615615234, 193.33576741164867, 172.63099784247586, 178.7129276179088, 166.9007533295047, 165.944449518915, 18.603306430165127, 22.88455412618766, 83.01333428807962, 15.650588776126785, 24.814200081025984, 16.681487751550073, 19.246303088739467, 35.14711639553228, 21.03321799454902, 13.680193361584895, 81.13760462798379, 18.350057724594652, 21.972757980303808, 12.734992313126014, 23.21493596925664, 21.242699551180703, 12.215484649531565, 15.503352040039093, 27.711342962050082, 13.037408877046436, 18.190777100767104, 16.669211306242502, 14.55255478556831, 69.13831605577401, 24.283344349346468, 14.000101775389213, 1177.6555718595444, 16.498886514259013, 14.276015115307896, 254.83186113295076, 105.79077480754142, 1228.8005364386288, 287.01026806719875, 196.07586366064905, 294.4421778948747, 182.118318067103, 56.9961055705556, 114.51372565606687, 177.85601037824856, 1667.345745534976, 573.6233611636136, 1599.743339720991, 289.2266621356483, 203.44143435745542, 169.8442150126451, 132.9001828093674, 1017.6030718607974, 762.1153205588647, 571.5321738659628, 132.9805013369767, 146.08892087977878, 354.70571173265597, 266.52794652221627, 175.93801639142444, 298.36222014160245, 464.1374078203155, 227.33793077446313, 333.6751547155351, 202.49823274816436, 198.3632220686456, 151.1723217039639, 168.49546265403578, 166.02354063054727, 159.97230006623198, 23.63178341564912, 22.840153303972617, 24.91628839717916, 42.71371007902933, 15.477805008304255, 18.736016118931175, 20.49555888537932, 15.586518918539984, 140.77616599223714, 24.70106904705849, 18.65389670697572, 18.02483586660364, 24.28518658791736, 13.356479113303052, 16.29618801638182, 1607.0749693428427, 30.581109521690856, 58.12655729246513, 19.11947065934362, 13.106931067004211, 15.711358485739385, 25.190309863474123, 15.263041735531377, 42.0158589375329, 16.132852243826214, 33.93578144654295, 17.536143071272576, 23.093215239617724, 63.344624710294084, 30.618407727466828, 965.139223840698, 579.1323689912589, 309.3717902975352, 362.58554794362726, 300.6408858795749, 707.455267444292, 364.14281630982623, 110.5132400611848, 492.3148760558336, 240.04787321425516, 103.39073565108181, 288.9866003096536, 1092.5344846370056, 448.41935577691993, 141.7689689999895, 144.05001846212508, 140.11491391998354, 69.19879349186404, 521.56127203304, 82.31475507242135, 363.0599412120539, 797.5830553413953, 270.5991055731625, 348.2312262133955, 122.77973618862856, 188.49181198427917, 364.1442145828925, 387.8594501395134, 348.62250962644464, 180.04963638916263, 256.10574306490173, 163.7465735302049, 230.58897831581496, 197.66691571164094, 186.782860121077, 173.78312998915476, 176.43846510737748, 22.876002807124834, 59.0833892607309, 40.68368314197522, 33.59551096359046, 35.667070448515716, 69.55558546968925, 21.142750206705525, 60.278520980505576, 36.379923595486986, 659.9884659668438, 47.064758517789066, 19.040071498624084, 26.360442066550767, 25.631485933600427, 15.05661899641057, 17.885668528725287, 18.33182667119937, 155.0735536107633, 30.3206267903107, 15.607612353535952, 15.048819816575717, 34.386635255617236, 14.993669567673038, 20.98520407068626, 59.2273555423179, 16.091491312634755, 28.58220897916772, 125.05317587004865, 23.79473087265758, 93.25053730309165, 123.09721545917704, 1820.9455944610936, 44.681895062619134, 108.37617746408345, 345.2132145937509, 995.245691834797, 70.87020188609965, 126.08868347475158, 305.3705164276409, 793.1848975163097, 1025.2302987791252, 371.78202046791034, 151.1318310009787, 232.16273408868918, 194.3477686125365, 133.31993523420832, 157.11668461210334, 217.08227960922702, 397.515338188503, 145.312927356161, 94.00525641137168, 420.7938940182627, 123.61700939360777, 483.94585812953056, 234.4857452590953, 199.26659193618914, 220.57240492581735, 239.6476687028089, 123.73625979945702, 156.88034648458785, 201.5946926233725, 260.3111068185153, 166.31605106754, 214.85950164175452, 174.24352853707458, 174.074824752908, 149.2399004598177, 21.234453699855408, 19.468403213876986, 16.844658181272305, 19.766735446038137, 98.2562807344156, 23.17202185348498, 59.06589828182688, 15.303463206607399, 24.810179759992884, 79.9820401848916, 24.464917589189206, 39.5339063463953, 15.199258634036182, 16.96856263643075, 28.081540952525117, 37.33355567234861, 14.61968044131719, 46.797263146102324, 32.42398877954175, 106.68791544844659, 21.093008932309782, 15.541644328138963, 17.95919466012602, 39.48300067441726, 123.39837935359903, 22.85860095215557, 216.01424507560264, 50.242995471173, 13.247090369742624, 41.731846090431766, 114.90433660106545, 680.5429639149697, 369.84612319423593, 90.9431476117368, 459.5804142135618, 654.8405948997535, 632.4510773770031, 102.46945350300578, 496.3508000013631, 615.5775411397933, 220.61261436230245, 321.1849881126507, 250.53124326941128, 554.7093823982075, 474.35527304979934, 58.528253808988396, 63.73285339391305, 429.7371366050399, 208.17207389837444, 157.80802212651176, 83.668886752659, 218.7772770756924, 116.05795776026116, 188.78932950544083, 117.67956840264601, 129.7904947290232, 429.92298709228925, 409.3448179255333, 213.17453063201583, 199.42985050622724, 212.63087122512835, 216.21244405606154, 206.49283459415926, 238.0819512357545, 150.12428551582929, 189.67203435317904, 143.98437961753947, 151.7710817031374, 147.44930733543754, 21.781508596003977, 15.34970292588542, 30.789514171859242, 45.021504344407795, 37.7010940557021, 114.53174230467324, 16.742998009405994, 18.174990335841674, 18.316639292154537, 15.71143520619943, 18.36143262937204, 24.336622766162847, 23.671594451785353, 13.849636694044126, 1116.1087304566156, 445.3070874676743, 17.716557566348836, 17.089329809874407, 15.763696940827113, 12.679503666714332, 14.48283354285632, 13.579327076298144, 31.840047147715993, 244.308766349438, 125.83028712568, 12.218120871720851, 11.784518264857088, 13.969333062443363, 14.056633701514972, 15.56087395094559, 76.25280465240895, 152.9196391189711, 60.08250538145424, 42.13291029071166, 124.57244603015717, 92.20060330022359, 52.25682502153356, 728.2539905292954, 294.45886573439117, 74.23890466654281, 655.022032446237, 94.97980860134808, 372.922009169829, 51.42500818074324, 175.33440508150196, 154.23226323644636, 88.06322364679161, 423.33436334993894, 50.72617688708101, 513.5677147416149, 186.67469519257503, 143.8700348593443, 200.69663945813937, 341.93732110628025, 216.17602758479674, 293.2606763535857, 396.8208808824041, 91.5020549908047, 475.05725506491063, 326.3687690768285, 139.86599192625803, 247.23085482731017, 128.4069575353394, 151.33030414378746, 217.42313573576482, 150.31360653697826, 281.3721741647324, 188.4080589192746, 201.22645415065352, 211.36856851871605, 183.70929307822766, 167.03672064147844, 187.7400660892394, 153.89221845940838, 25.33585786566944, 29.677082680819822, 54.47700648161725, 21.593832400531365, 27.664954664179426, 19.663727148882415, 16.77493250598977, 51.92563915474241, 32.602406657548336, 25.458077172461863, 35.678731915724015, 22.284883584520355, 20.57349720940722, 24.06780090721227, 72.33802562015178, 20.402460533192432, 34.00457840739279, 15.390389864314903, 26.823915014288783, 18.252251430729842, 22.794761440064796, 18.99329933647103, 21.892844098727544, 15.039741566847379, 18.01107048056905, 12.59012141777721, 27.505944322890045, 25.455308923261143, 23.16391741220698, 13.42958321660409, 149.017128211574, 36.955192184369984, 329.44475251784075, 127.40276080592201, 42.0338197889107, 66.42252348468358, 159.35766224987327, 119.1937072792682, 1096.5886868716034, 81.81483192072814, 222.44045026422245, 92.1508592697209, 377.67619795100103, 207.78843522032477, 42.66304674075032, 582.436260310907, 91.23119556472305, 73.7579182433327, 289.0077723848144, 415.5835047223436, 99.49315340943504, 69.27489075503686, 60.37717703679763, 278.2155905874175, 140.721992160972, 147.8376263385058, 366.99788652956585, 69.07748009012033, 69.55927440589126, 259.4421775843275, 350.4363811088221, 274.85829058440135, 162.4334131260785, 541.6035615886382, 167.72267577569536, 278.35686815988583, 330.78444238517324, 236.11702197650206, 350.58124771892824, 207.53732493923718, 174.38764102257815, 203.61560798316407, 170.1824444724799, 154.0305379721459, 154.5325953962467, 18.493618099850593, 18.968283107175523, 62.030381590912356, 13.625845740529646, 18.257288539940976, 48.792156782942904, 17.502080308004558, 18.90648763655126, 36.14988249914859, 25.055865612398712, 18.334782772763752, 17.645099077485675, 23.635155399493645, 20.616950992120383, 22.04335745435999, 21.416337550136497, 21.064268954264907, 20.145585938988965, 15.498382114092452, 14.297192056487622, 20.72847295250411, 20.146893468009036, 282.31140771658755, 18.043299720405184, 27.162574207127594, 14.11828439201158, 26.289997997026596, 36.25528582952333, 109.99687334328132, 16.01098902208089, 297.4732247931893, 266.3262343993933, 202.3570413732367, 46.893984763187355, 60.85777879584674, 269.07941596845126, 359.27898063929445, 39.078074387495334, 69.04374512609188, 57.685925424887095, 287.0373594539979, 259.17070863562225, 207.64155873815565, 165.90364386227844, 311.75274753859486, 632.5838457566546, 64.7278694914397, 72.73280783987894, 217.1090515937253, 53.51503237743344, 156.71869843603443, 192.74779015904312, 170.62814166780547, 85.01443297378192, 284.2084926530137, 614.7227772140004, 377.17155103942065, 294.00341635364043, 437.2436277379864, 374.40194542501405, 127.25834980088594, 222.06516882566493, 119.98723645239077, 94.11035872800306, 134.57087328339128, 152.54404266671608, 169.50188295152074, 236.9690341539672, 210.1546126868171, 261.02377174558114, 234.1350247420623, 169.37718136786134, 210.24291212406442, 186.81008043320935, 166.5478029982515, 17.41119407581936, 32.0932075805067, 50.27888837634637, 51.62894054876007, 501.4867722245502, 29.212964654544383, 18.845096593264316, 22.879770306020653, 22.874656224395743, 17.19245390318007, 18.54278882922787, 16.29581434439894, 27.09507455854698, 25.203418423699638, 30.581711255090305, 134.1338522617664, 93.22004209731715, 20.22818354286008, 19.54218726941565, 25.30827098952991, 18.024092814398813, 204.51198362057949, 16.528522219680124, 91.0727881181388, 13.792516335391948, 201.83712770430486, 41.86697103059781, 14.487170100164969, 12.231849479887778, 16.566295163251016, 319.37831680062953, 833.3519079171887, 85.68824365293054, 123.75749341939287, 124.40435528234615, 130.4158348341667, 153.43371966675542, 247.92429642315446, 209.08227607144528, 425.0987042007986, 143.58846694524416, 307.0958911945538, 101.38542442475264, 324.139744170493, 68.04856829661492, 627.8131723025465, 132.70257624773188, 243.46336588653799, 273.30808061154477, 89.53933507410653, 141.59631232364893, 330.5480856091254, 230.31279182774873, 292.27212168875053, 275.28315887493704, 497.31072659798434, 176.7679486114134, 378.16316997713824, 213.17163237574033, 242.7176023593832, 193.46152703919086, 256.30525796641797, 208.460597260482, 230.19817363785043, 268.50551830836855, 208.14154655871286, 183.8079714751173, 161.24161641115256, 161.90844427638447], \"Total\": [7361.0, 4053.0, 6886.0, 6862.0, 3498.0, 2477.0, 4665.0, 2328.0, 1820.0, 2703.0, 2839.0, 1676.0, 1908.0, 878.0, 2057.0, 649.0, 2610.0, 2146.0, 2045.0, 1954.0, 2190.0, 3375.0, 2321.0, 1624.0, 2091.0, 738.0, 1218.0, 1747.0, 1186.0, 1396.0, 30.33115194569435, 30.74280669459842, 20.43894803708148, 34.128904831885635, 22.634593165674925, 27.643360127305126, 41.60637494905737, 37.76587812452305, 41.66085696298512, 45.476095923414654, 37.718014157004, 4053.765920231066, 30.936406038729515, 41.68588282899296, 99.74767632536751, 23.91711779009411, 21.492180024172676, 42.730061524823796, 49.38094063524862, 35.46133793310671, 20.414620329462196, 82.09006951750237, 27.34799435662779, 29.112353213462963, 62.697920183889295, 30.178894402612496, 48.09993758068426, 571.4990434790168, 51.27545046950036, 132.00941041072454, 244.52084909356554, 188.52512497994354, 7361.058562282917, 1396.654304337047, 67.5714294657118, 386.82574866137986, 305.0532936403406, 697.5763486011225, 637.5397911795092, 815.2070763038652, 1853.1557324487685, 1293.2335601699224, 251.33273105504668, 260.0060459325226, 2328.825233760083, 806.7345874979562, 2045.8604261231767, 1508.9696125629534, 152.8203513776155, 433.24630502832116, 1753.640937714396, 1392.3184640951536, 366.6687668824231, 713.6881124858252, 2321.9102710797633, 1954.4812890815567, 197.70837056846455, 788.7082124968008, 635.3503827387314, 2466.5670458335026, 2190.2392277784406, 3347.6030231422005, 6862.812465855421, 2091.9790797378046, 788.8343570433965, 2703.2521268757364, 1340.5480412823867, 2097.062658524211, 6886.162776812776, 2610.1257696407224, 4665.1762776050655, 33.69655630970027, 27.914611063481654, 34.43997050436336, 38.62081517238624, 21.796332427540754, 62.393761757292246, 19.635424274017517, 69.27802786239567, 74.99099146345236, 21.92352363867859, 130.17724552324717, 26.503371358930394, 38.131136208786145, 23.052319004017015, 635.3503827387314, 28.6435925109713, 35.150997864755425, 19.851736509165985, 59.43013484705655, 23.363476766688134, 27.642435132089066, 99.77476849402198, 24.52694017751565, 32.5600573613984, 83.55339850287572, 24.026145038316926, 47.42541333467439, 21.618003735807655, 145.70070689726643, 92.76537737358231, 618.4804250312301, 4665.1762776050655, 181.21196262524865, 487.27377627407805, 108.59142188490608, 646.9391655185722, 6862.812465855421, 762.5160183422598, 6886.162776812776, 672.5543998107603, 1340.5480412823867, 238.9501543679699, 367.45495756125894, 641.9297643372306, 187.52730673004325, 485.92948083396476, 713.0851920530408, 107.29615843424394, 488.1478838688469, 338.0965872001923, 806.7345874979562, 1753.640937714396, 1395.8464527763704, 1133.042341008146, 325.01050923196806, 3375.1220059142333, 284.6318293216542, 335.48254178460326, 648.9094181313717, 2200.922049456801, 564.8459393845212, 2097.062658524211, 2839.69383909693, 3498.647864621987, 2466.5670458335026, 1218.2504774197112, 1908.7055651287255, 1820.4518749498257, 2703.2521268757364, 1954.4812890815567, 2146.89762578695, 19.5266572338465, 26.40711233940637, 97.07962543353668, 19.569998139571975, 33.643430549237046, 22.992886676154946, 27.52014622844418, 50.85957089971192, 30.625217925670626, 20.080803971712356, 124.48835976313482, 29.83801600691763, 36.08261537187148, 21.225307434192857, 38.78039707093685, 35.78290149925337, 21.070573038034684, 26.78837523707133, 48.04290248715636, 23.312259053931342, 32.76257142636515, 30.280023467979767, 26.504683329512574, 127.15610135326142, 45.15768175137101, 26.508102596573075, 2328.825233760083, 32.62824874930705, 28.240015241021844, 509.6337930945023, 221.82233772382983, 2839.69383909693, 653.5881037720999, 468.5197660057136, 763.0365817435614, 444.9906861245333, 121.89980383446748, 273.6129982601014, 475.497895680964, 6886.162776812776, 2097.062658524211, 7361.058562282917, 919.7793919998797, 601.4766225582733, 479.15856994005173, 414.97460538998456, 6862.812465855421, 4665.1762776050655, 3347.6030231422005, 424.19170479305905, 519.9635097891446, 2045.8604261231767, 1395.8464527763704, 730.8430721243537, 1853.1557324487685, 4053.765920231066, 1392.3184640951536, 3375.1220059142333, 1624.6823166463168, 1747.9070606548526, 903.7740647812699, 1676.7219356262822, 2021.2559529096732, 2466.5670458335026, 25.323724811633802, 27.205181313164246, 31.68734243282149, 54.934785596875, 19.923316639041673, 24.630968032573517, 28.30332405306982, 21.857590186182943, 201.17764680678465, 35.49836078728094, 27.174655290099434, 26.684389276506405, 36.73644877983034, 20.306605921616168, 24.96979793184347, 2477.3005459362707, 48.688258273720656, 95.33714516258286, 31.995152841919158, 22.062620013298144, 26.500391245745877, 42.64463562122748, 25.981285844233113, 74.6084071252552, 29.283699852839185, 61.722178874106646, 32.05468546327202, 42.91138980974943, 119.51718858313863, 58.26517286073075, 1908.7055651287255, 1218.2504774197112, 675.2442356587117, 839.5668728570885, 730.8430721243537, 1954.4812890815567, 1015.4201162506024, 263.12418738967887, 1706.491636141008, 713.6881124858252, 249.8562740857697, 1038.7162095689107, 6862.812465855421, 2097.062658524211, 433.3904751504103, 453.32815213421384, 453.067497634866, 166.1144158354959, 3347.6030231422005, 219.70087080859997, 2190.2392277784406, 7361.058562282917, 1396.654304337047, 2091.9790797378046, 423.52854234025824, 856.2699651142802, 2610.1257696407224, 4053.765920231066, 3375.1220059142333, 1069.0398852942299, 2466.5670458335026, 898.4334385706111, 2839.69383909693, 2303.8748422010153, 2045.8604261231767, 2328.825233760083, 6886.162776812776, 25.141450786683173, 65.1579864394705, 46.446520214455255, 39.35601292694316, 45.538093186375775, 89.76100610598591, 27.62699298530893, 79.62922936773748, 48.184329783801225, 878.7887140884785, 65.8022113011171, 27.15418133439454, 38.18056502432245, 37.57804988729311, 22.126905416411034, 26.407747408473938, 27.121016312830104, 229.8749799553597, 45.10340662924917, 23.67077501352996, 23.027551011857117, 54.78338579312566, 24.46305781704086, 34.38748148807055, 97.29867763121062, 26.79896630540099, 48.09045190535837, 210.65184897153858, 40.20229466005716, 158.7773715243385, 214.2105610801339, 3498.647864621987, 78.2239384132581, 202.9821721585642, 752.8460539300017, 2610.1257696407224, 131.5013495502686, 254.81487479817343, 721.1428990761417, 2321.9102710797633, 3375.1220059142333, 1038.7162095689107, 360.199532606008, 672.5543998107603, 549.9321665020809, 351.762100811757, 457.26686404004033, 762.5160183422598, 2303.8748422010153, 456.66182383031514, 235.8976330161458, 3347.6030231422005, 382.3804100709584, 6886.162776812776, 1747.9070606548526, 1392.3184640951536, 1908.7055651287255, 2466.5670458335026, 460.54808871536403, 919.7793919998797, 2057.940195171125, 6862.812465855421, 1293.2335601699224, 4665.1762776050655, 1676.7219356262822, 1853.1557324487685, 1753.640937714396, 24.536758694150645, 23.682409583025876, 21.137226784641715, 25.019826076658287, 126.69732410786881, 32.868321805736215, 84.82235508579839, 22.00837718343861, 36.68188478394262, 118.3680140505496, 36.21061028917444, 60.616641294329014, 23.45304847190031, 26.18345433890722, 43.45790033563521, 57.885493802369396, 23.3280709072391, 74.98615091123969, 52.6679039946559, 175.9381403199834, 35.10925630454942, 26.009659970141296, 30.533051031635956, 67.32116920513796, 213.753583690489, 39.88254619937787, 380.060881425739, 88.6544654324413, 23.62481453502157, 75.02242059320335, 239.4182064929325, 1747.9070606548526, 883.973630754256, 191.3650230023139, 1268.4133067698804, 2021.2559529096732, 2045.8604261231767, 233.18833659251897, 1624.6823166463168, 2200.922049456801, 641.9297643372306, 1133.042341008146, 825.6722029077599, 2466.5670458335026, 2146.89762578695, 120.76218782489543, 137.8433226189071, 2303.8748422010153, 788.7082124968008, 564.8459393845212, 211.85736008359999, 1069.0398852942299, 392.1509086603163, 1031.2536405161427, 449.1787279094527, 546.5393453369179, 7361.058562282917, 6886.162776812776, 1753.640937714396, 1508.9696125629534, 2057.940195171125, 2321.9102710797633, 2190.2392277784406, 4053.765920231066, 919.7793919998797, 4665.1762776050655, 1038.7615835981235, 3375.1220059142333, 3498.647864621987, 25.267921525665198, 20.320624177758486, 41.56835828762909, 61.99315946456405, 52.579732426639936, 163.59398508622502, 24.596338914604498, 26.823988380395235, 27.867424409228576, 23.98125477094652, 28.591946364753376, 38.0712731347493, 38.018906132287604, 22.468401246886362, 1820.4518749498257, 738.4058732064025, 29.412499396894944, 28.453519328403786, 26.319441704913764, 21.567707641513607, 24.833213032696626, 23.524653651050514, 55.170362451918685, 427.6930459962562, 226.7879454811279, 22.05926177746639, 21.417841646871757, 25.395682736568546, 25.691066372945777, 28.608510281577313, 143.09191863375491, 296.8135648145697, 117.26564168194326, 81.72310209256221, 261.0017441891751, 190.60315728468967, 104.57617833607493, 2057.940195171125, 751.0307042084003, 157.66460341937017, 2146.89762578695, 218.54610033835831, 1186.5767607264033, 107.93986817518108, 577.5719137797494, 488.87506584243584, 236.69598429090001, 2466.5670458335026, 114.34047248193903, 3498.647864621987, 788.8343570433965, 537.0341102919372, 903.7740647812699, 2321.9102710797633, 1133.042341008146, 1954.4812890815567, 3375.1220059142333, 280.0532719365046, 6862.812465855421, 3347.6030231422005, 648.9094181313717, 2303.8748422010153, 543.6870986507945, 815.2070763038652, 2021.2559529096732, 898.4334385706111, 7361.058562282917, 2091.9790797378046, 2839.69383909693, 4053.765920231066, 2610.1257696407224, 1624.6823166463168, 6886.162776812776, 1218.2504774197112, 31.483146072239094, 37.11494338326403, 70.06434426977034, 28.960121114335205, 37.19908999062283, 27.280961020929837, 23.27337425019872, 72.90027731732691, 48.53809631264004, 38.01757461937724, 53.73466877525535, 33.82428848353515, 31.237606447326563, 36.913486762420646, 113.83926957680913, 32.121565731006015, 53.57669538202059, 24.4071942007722, 43.12272791498151, 29.496890162887823, 37.08264416756672, 31.125886145056786, 36.15642339564555, 25.02714849133503, 30.24988291727005, 21.146012951417593, 46.20312212750846, 42.77431553593778, 39.154246213252755, 22.705195258686196, 253.00773928032024, 62.500336763413294, 581.8855332185534, 223.51940578320506, 72.0573968191913, 115.545683618743, 292.8528061953581, 226.0319676640763, 2703.2521268757364, 158.42730866181535, 491.4362094981971, 182.74210119976917, 955.990216469027, 522.3421118733098, 76.34365267085548, 2190.2392277784406, 206.29445695122365, 157.99921392218832, 988.7120534358078, 1624.6823166463168, 241.66299573818077, 154.0703589442357, 126.26641365775309, 1186.5767607264033, 442.21422208681815, 482.6196293794364, 2057.940195171125, 154.40977296914758, 157.04466899023782, 1395.8464527763704, 2303.8748422010153, 1706.491636141008, 726.0293325511219, 6886.162776812776, 789.6040915910515, 2200.922049456801, 3347.6030231422005, 2021.2559529096732, 6862.812465855421, 1820.4518749498257, 1268.4133067698804, 2146.89762578695, 1340.5480412823867, 1753.640937714396, 3375.1220059142333, 19.398661175743943, 22.0940859257445, 73.59047369266796, 16.94997219313292, 23.1204356182987, 62.490290252539324, 23.904058512403594, 25.85313441107629, 49.670679439594075, 34.78268995414763, 25.873329970313847, 24.923951256836027, 33.44904337619875, 29.400954676671574, 33.49950993361004, 32.732564699899825, 32.31495403120618, 31.187891908479255, 24.080449291252293, 22.754367139761598, 33.14956600012802, 32.33875752096511, 454.3744869708244, 29.201383333817212, 44.48736711271324, 23.4613072622346, 44.11344645192182, 61.052387839740796, 186.11472676480687, 27.281529562194066, 512.5489221111292, 459.28679788402326, 359.5204273904426, 80.18381818896331, 106.05143200337812, 517.952674940298, 738.180607244291, 66.59769499371917, 126.98257111760131, 106.11413534868824, 703.9411512001883, 625.8053403671735, 481.8602159196376, 373.658480691995, 854.3910996497967, 2091.9790797378046, 127.39399095819752, 147.9631620994981, 613.1147256861859, 100.61432851191712, 438.6026461761476, 611.4985573211526, 593.0546726554643, 212.62672301760426, 1392.3184640951536, 4665.1762776050655, 2190.2392277784406, 1706.491636141008, 3347.6030231422005, 2839.69383909693, 444.9906861245333, 1340.5480412823867, 429.2016681783736, 259.95943903228374, 573.2697284903796, 763.0365817435614, 984.543268226964, 2200.922049456801, 2021.2559529096732, 7361.058562282917, 6886.162776812776, 1747.9070606548526, 6862.812465855421, 4053.765920231066, 2466.5670458335026, 19.3672439427968, 40.277887525233325, 64.29368478061755, 66.28453322733284, 649.194738798919, 38.10406450407927, 25.415885959452076, 31.39081758187804, 32.214190955163566, 24.49034473606766, 26.49253991106121, 24.262757712609826, 40.51482977965869, 38.62713774563487, 47.98239132241686, 214.43274222527904, 149.24861897923796, 32.67132881959022, 31.971890199576748, 41.7118063595541, 29.717826904526987, 340.55355739887136, 27.64552972314148, 153.3492008488725, 23.240326631277377, 345.4191342891757, 72.31986067559384, 25.18530428627524, 21.35371701057065, 28.965079138204725, 611.5705702912664, 1676.7219356262822, 159.38741439688596, 250.59748147370655, 257.41636576700154, 271.2865570743181, 338.65823392877246, 588.396521184234, 506.2753112824084, 1192.633716348268, 331.7390879925165, 891.090321846053, 226.1951017214422, 1038.7615835981235, 137.098304269407, 2703.2521268757364, 351.98082549261227, 839.5668728570885, 1031.2536405161427, 226.07050173299257, 488.1478838688469, 2200.922049456801, 1186.5767607264033, 2091.9790797378046, 2057.940195171125, 6886.162776812776, 912.0940809949915, 6862.812465855421, 1753.640937714396, 2610.1257696407224, 1508.9696125629534, 4665.1762776050655, 2146.89762578695, 3347.6030231422005, 7361.058562282917, 3375.1220059142333, 1706.491636141008, 1853.1557324487685, 2477.3005459362707], \"Category\": [\"Default\", \"Default\", \"Default\", \"Default\", \"Default\", \"Default\", \"Default\", \"Default\", \"Default\", \"Default\", \"Default\", \"Default\", \"Default\", \"Default\", \"Default\", \"Default\", \"Default\", \"Default\", \"Default\", \"Default\", \"Default\", \"Default\", \"Default\", \"Default\", \"Default\", \"Default\", \"Default\", \"Default\", \"Default\", \"Default\", \"Topic1\", \"Topic1\", \"Topic1\", \"Topic1\", \"Topic1\", \"Topic1\", \"Topic1\", \"Topic1\", \"Topic1\", \"Topic1\", \"Topic1\", \"Topic1\", \"Topic1\", \"Topic1\", \"Topic1\", \"Topic1\", \"Topic1\", \"Topic1\", \"Topic1\", \"Topic1\", \"Topic1\", \"Topic1\", \"Topic1\", \"Topic1\", \"Topic1\", \"Topic1\", \"Topic1\", \"Topic1\", \"Topic1\", \"Topic1\", \"Topic1\", \"Topic1\", \"Topic1\", \"Topic1\", \"Topic1\", \"Topic1\", \"Topic1\", \"Topic1\", \"Topic1\", \"Topic1\", \"Topic1\", \"Topic1\", \"Topic1\", \"Topic1\", \"Topic1\", \"Topic1\", \"Topic1\", \"Topic1\", \"Topic1\", \"Topic1\", \"Topic1\", \"Topic1\", \"Topic1\", \"Topic1\", \"Topic1\", \"Topic1\", \"Topic1\", \"Topic1\", \"Topic1\", \"Topic1\", \"Topic1\", \"Topic1\", \"Topic1\", \"Topic1\", \"Topic1\", \"Topic1\", \"Topic1\", \"Topic1\", \"Topic1\", \"Topic1\", \"Topic1\", \"Topic2\", \"Topic2\", \"Topic2\", \"Topic2\", \"Topic2\", \"Topic2\", \"Topic2\", \"Topic2\", \"Topic2\", \"Topic2\", \"Topic2\", \"Topic2\", \"Topic2\", \"Topic2\", \"Topic2\", \"Topic2\", \"Topic2\", \"Topic2\", \"Topic2\", \"Topic2\", \"Topic2\", \"Topic2\", \"Topic2\", \"Topic2\", \"Topic2\", \"Topic2\", \"Topic2\", \"Topic2\", \"Topic2\", \"Topic2\", \"Topic2\", \"Topic2\", \"Topic2\", \"Topic2\", \"Topic2\", \"Topic2\", \"Topic2\", \"Topic2\", \"Topic2\", \"Topic2\", \"Topic2\", \"Topic2\", \"Topic2\", \"Topic2\", \"Topic2\", \"Topic2\", \"Topic2\", \"Topic2\", \"Topic2\", \"Topic2\", \"Topic2\", \"Topic2\", \"Topic2\", \"Topic2\", \"Topic2\", \"Topic2\", \"Topic2\", \"Topic2\", \"Topic2\", \"Topic2\", \"Topic2\", \"Topic2\", \"Topic2\", \"Topic2\", \"Topic2\", \"Topic2\", \"Topic2\", \"Topic2\", \"Topic2\", \"Topic2\", \"Topic2\", \"Topic3\", \"Topic3\", \"Topic3\", \"Topic3\", \"Topic3\", \"Topic3\", \"Topic3\", \"Topic3\", \"Topic3\", \"Topic3\", \"Topic3\", \"Topic3\", \"Topic3\", \"Topic3\", \"Topic3\", \"Topic3\", \"Topic3\", \"Topic3\", \"Topic3\", \"Topic3\", \"Topic3\", \"Topic3\", \"Topic3\", \"Topic3\", \"Topic3\", \"Topic3\", \"Topic3\", \"Topic3\", \"Topic3\", \"Topic3\", \"Topic3\", \"Topic3\", \"Topic3\", \"Topic3\", \"Topic3\", \"Topic3\", \"Topic3\", \"Topic3\", \"Topic3\", \"Topic3\", \"Topic3\", \"Topic3\", \"Topic3\", \"Topic3\", \"Topic3\", \"Topic3\", \"Topic3\", \"Topic3\", \"Topic3\", \"Topic3\", \"Topic3\", \"Topic3\", \"Topic3\", \"Topic3\", \"Topic3\", \"Topic3\", \"Topic3\", \"Topic3\", \"Topic3\", \"Topic3\", \"Topic3\", \"Topic3\", \"Topic3\", \"Topic3\", \"Topic4\", \"Topic4\", \"Topic4\", \"Topic4\", \"Topic4\", \"Topic4\", \"Topic4\", \"Topic4\", \"Topic4\", \"Topic4\", \"Topic4\", \"Topic4\", \"Topic4\", \"Topic4\", \"Topic4\", \"Topic4\", \"Topic4\", \"Topic4\", \"Topic4\", \"Topic4\", \"Topic4\", \"Topic4\", \"Topic4\", \"Topic4\", \"Topic4\", \"Topic4\", \"Topic4\", \"Topic4\", \"Topic4\", \"Topic4\", \"Topic4\", \"Topic4\", \"Topic4\", \"Topic4\", \"Topic4\", \"Topic4\", \"Topic4\", \"Topic4\", \"Topic4\", \"Topic4\", \"Topic4\", \"Topic4\", \"Topic4\", \"Topic4\", \"Topic4\", \"Topic4\", \"Topic4\", \"Topic4\", \"Topic4\", \"Topic4\", \"Topic4\", \"Topic4\", \"Topic4\", \"Topic4\", \"Topic4\", \"Topic4\", \"Topic4\", \"Topic4\", \"Topic4\", \"Topic4\", \"Topic4\", \"Topic4\", \"Topic4\", \"Topic4\", \"Topic4\", \"Topic4\", \"Topic4\", \"Topic5\", \"Topic5\", \"Topic5\", \"Topic5\", \"Topic5\", \"Topic5\", \"Topic5\", \"Topic5\", \"Topic5\", \"Topic5\", \"Topic5\", \"Topic5\", \"Topic5\", \"Topic5\", \"Topic5\", \"Topic5\", \"Topic5\", \"Topic5\", \"Topic5\", \"Topic5\", \"Topic5\", \"Topic5\", \"Topic5\", \"Topic5\", \"Topic5\", \"Topic5\", \"Topic5\", \"Topic5\", \"Topic5\", \"Topic5\", \"Topic5\", \"Topic5\", \"Topic5\", \"Topic5\", \"Topic5\", \"Topic5\", \"Topic5\", \"Topic5\", \"Topic5\", \"Topic5\", \"Topic5\", \"Topic5\", \"Topic5\", \"Topic5\", \"Topic5\", \"Topic5\", \"Topic5\", \"Topic5\", \"Topic5\", \"Topic5\", \"Topic5\", \"Topic5\", \"Topic5\", \"Topic5\", \"Topic5\", \"Topic5\", \"Topic5\", \"Topic5\", \"Topic5\", \"Topic5\", \"Topic5\", \"Topic5\", \"Topic5\", \"Topic5\", \"Topic5\", \"Topic5\", \"Topic5\", \"Topic6\", \"Topic6\", \"Topic6\", \"Topic6\", \"Topic6\", \"Topic6\", \"Topic6\", \"Topic6\", \"Topic6\", \"Topic6\", \"Topic6\", \"Topic6\", \"Topic6\", \"Topic6\", \"Topic6\", \"Topic6\", \"Topic6\", \"Topic6\", \"Topic6\", \"Topic6\", \"Topic6\", \"Topic6\", \"Topic6\", \"Topic6\", \"Topic6\", \"Topic6\", \"Topic6\", \"Topic6\", \"Topic6\", \"Topic6\", \"Topic6\", \"Topic6\", \"Topic6\", \"Topic6\", \"Topic6\", \"Topic6\", \"Topic6\", \"Topic6\", \"Topic6\", \"Topic6\", \"Topic6\", \"Topic6\", \"Topic6\", \"Topic6\", \"Topic6\", \"Topic6\", \"Topic6\", \"Topic6\", \"Topic6\", \"Topic6\", \"Topic6\", \"Topic6\", \"Topic6\", \"Topic6\", \"Topic6\", \"Topic6\", \"Topic6\", \"Topic6\", \"Topic6\", \"Topic6\", \"Topic6\", \"Topic6\", \"Topic6\", \"Topic6\", \"Topic6\", \"Topic6\", \"Topic6\", \"Topic6\", \"Topic6\", \"Topic7\", \"Topic7\", \"Topic7\", \"Topic7\", \"Topic7\", \"Topic7\", \"Topic7\", \"Topic7\", \"Topic7\", \"Topic7\", \"Topic7\", \"Topic7\", \"Topic7\", \"Topic7\", \"Topic7\", \"Topic7\", \"Topic7\", \"Topic7\", \"Topic7\", \"Topic7\", \"Topic7\", \"Topic7\", \"Topic7\", \"Topic7\", \"Topic7\", \"Topic7\", \"Topic7\", \"Topic7\", \"Topic7\", \"Topic7\", \"Topic7\", \"Topic7\", \"Topic7\", \"Topic7\", \"Topic7\", \"Topic7\", \"Topic7\", \"Topic7\", \"Topic7\", \"Topic7\", \"Topic7\", \"Topic7\", \"Topic7\", \"Topic7\", \"Topic7\", \"Topic7\", \"Topic7\", \"Topic7\", \"Topic7\", \"Topic7\", \"Topic7\", \"Topic7\", \"Topic7\", \"Topic7\", \"Topic7\", \"Topic7\", \"Topic7\", \"Topic7\", \"Topic7\", \"Topic7\", \"Topic7\", \"Topic7\", \"Topic7\", \"Topic7\", \"Topic7\", \"Topic7\", \"Topic7\", \"Topic7\", \"Topic7\", \"Topic7\", \"Topic7\", \"Topic7\", \"Topic7\", \"Topic7\", \"Topic8\", \"Topic8\", \"Topic8\", \"Topic8\", \"Topic8\", \"Topic8\", \"Topic8\", \"Topic8\", \"Topic8\", \"Topic8\", \"Topic8\", \"Topic8\", \"Topic8\", \"Topic8\", \"Topic8\", \"Topic8\", \"Topic8\", \"Topic8\", \"Topic8\", \"Topic8\", \"Topic8\", \"Topic8\", \"Topic8\", \"Topic8\", \"Topic8\", \"Topic8\", \"Topic8\", \"Topic8\", \"Topic8\", \"Topic8\", \"Topic8\", \"Topic8\", \"Topic8\", \"Topic8\", \"Topic8\", \"Topic8\", \"Topic8\", \"Topic8\", \"Topic8\", \"Topic8\", \"Topic8\", \"Topic8\", \"Topic8\", \"Topic8\", \"Topic8\", \"Topic8\", \"Topic8\", \"Topic8\", \"Topic8\", \"Topic8\", \"Topic8\", \"Topic8\", \"Topic8\", \"Topic8\", \"Topic8\", \"Topic8\", \"Topic8\", \"Topic8\", \"Topic8\", \"Topic8\", \"Topic8\", \"Topic8\", \"Topic8\", \"Topic8\", \"Topic8\", \"Topic8\", \"Topic8\", \"Topic8\", \"Topic8\", \"Topic8\", \"Topic8\", \"Topic8\", \"Topic8\", \"Topic8\", \"Topic8\", \"Topic9\", \"Topic9\", \"Topic9\", \"Topic9\", \"Topic9\", \"Topic9\", \"Topic9\", \"Topic9\", \"Topic9\", \"Topic9\", \"Topic9\", \"Topic9\", \"Topic9\", \"Topic9\", \"Topic9\", \"Topic9\", \"Topic9\", \"Topic9\", \"Topic9\", \"Topic9\", \"Topic9\", \"Topic9\", \"Topic9\", \"Topic9\", \"Topic9\", \"Topic9\", \"Topic9\", \"Topic9\", \"Topic9\", \"Topic9\", \"Topic9\", \"Topic9\", \"Topic9\", \"Topic9\", \"Topic9\", \"Topic9\", \"Topic9\", \"Topic9\", \"Topic9\", \"Topic9\", \"Topic9\", \"Topic9\", \"Topic9\", \"Topic9\", \"Topic9\", \"Topic9\", \"Topic9\", \"Topic9\", \"Topic9\", \"Topic9\", \"Topic9\", \"Topic9\", \"Topic9\", \"Topic9\", \"Topic9\", \"Topic9\", \"Topic9\", \"Topic9\", \"Topic9\", \"Topic9\", \"Topic9\", \"Topic9\", \"Topic9\", \"Topic9\", \"Topic9\", \"Topic9\", \"Topic9\", \"Topic9\", \"Topic9\", \"Topic9\", \"Topic9\", \"Topic9\", \"Topic9\", \"Topic9\", \"Topic9\", \"Topic10\", \"Topic10\", \"Topic10\", \"Topic10\", \"Topic10\", \"Topic10\", \"Topic10\", \"Topic10\", \"Topic10\", \"Topic10\", \"Topic10\", \"Topic10\", \"Topic10\", \"Topic10\", \"Topic10\", \"Topic10\", \"Topic10\", \"Topic10\", \"Topic10\", \"Topic10\", \"Topic10\", \"Topic10\", \"Topic10\", \"Topic10\", \"Topic10\", \"Topic10\", \"Topic10\", \"Topic10\", \"Topic10\", \"Topic10\", \"Topic10\", \"Topic10\", \"Topic10\", \"Topic10\", \"Topic10\", \"Topic10\", \"Topic10\", \"Topic10\", \"Topic10\", \"Topic10\", \"Topic10\", \"Topic10\", \"Topic10\", \"Topic10\", \"Topic10\", \"Topic10\", \"Topic10\", \"Topic10\", \"Topic10\", \"Topic10\", \"Topic10\", \"Topic10\", \"Topic10\", \"Topic10\", \"Topic10\", \"Topic10\", \"Topic10\", \"Topic10\", \"Topic10\", \"Topic10\", \"Topic10\", \"Topic10\", \"Topic10\", \"Topic10\", \"Topic10\", \"Topic10\", \"Topic10\", \"Topic10\", \"Topic10\"], \"logprob\": [30.0, 29.0, 28.0, 27.0, 26.0, 25.0, 24.0, 23.0, 22.0, 21.0, 20.0, 19.0, 18.0, 17.0, 16.0, 15.0, 14.0, 13.0, 12.0, 11.0, 10.0, 9.0, 8.0, 7.0, 6.0, 5.0, 4.0, 3.0, 2.0, 1.0, -7.2639, -7.2828, -7.8106, -7.3264, -7.8102, -7.6243, -7.2306, -7.343, -7.2488, -7.174, -7.3807, -2.7379, -7.6176, -7.3196, -6.4565, -7.8902, -8.0078, -7.3232, -7.1804, -7.5145, -8.0672, -6.6844, -7.8, -7.749, -6.9839, -7.7179, -7.2543, -4.7895, -7.203, -6.2613, -5.6655, -5.9252, -2.3888, -4.0109, -6.936, -5.2961, -5.5191, -4.7649, -4.8768, -4.6578, -3.9144, -4.2421, -5.7468, -5.7488, -4.0403, -4.9082, -4.2906, -4.5641, -6.3285, -5.5685, -4.6277, -4.8206, -5.7491, -5.3026, -4.6083, -4.8163, -6.175, -5.3869, -5.522, -4.8278, -4.9223, -4.7401, -4.4822, -5.0424, -5.4327, -5.1077, -5.2978, -5.196, -5.226, -5.3466, -5.3395, -7.0169, -7.3324, -7.171, -7.0656, -7.6764, -6.6825, -7.8465, -6.6341, -6.5606, -7.7969, -6.0607, -7.6693, -7.3353, -7.849, -4.5569, -7.6586, -7.4768, -8.0493, -6.9634, -7.8978, -7.7367, -6.477, -7.888, -7.6222, -6.6839, -7.9341, -7.255, -8.057, -6.1593, -6.6111, -4.7477, -2.7861, -5.9623, -5.0222, -6.4657, -4.7824, -2.5676, -4.6381, -2.5967, -4.7916, -4.209, -5.7677, -5.3905, -4.92, -5.993, -5.25, -4.9794, -6.4906, -5.3509, -5.676, -5.0714, -4.5576, -4.7257, -4.8834, -5.722, -4.297, -5.8216, -5.7443, -5.3975, -4.7503, -5.4888, -4.8614, -4.7303, -4.7151, -4.9119, -5.2563, -5.1524, -5.2657, -5.2311, -5.2994, -5.3052, -7.445, -7.2379, -5.9493, -7.6178, -7.1569, -7.554, -7.411, -6.8088, -7.3222, -7.7524, -5.9722, -7.4587, -7.2785, -7.824, -7.2235, -7.3123, -7.8656, -7.6273, -7.0465, -7.8005, -7.4674, -7.5548, -7.6906, -6.1322, -7.1785, -7.7293, -3.297, -7.565, -7.7097, -4.8277, -5.7069, -3.2545, -4.7088, -5.0898, -4.6832, -5.1637, -6.3253, -5.6276, -5.1874, -2.9493, -4.0164, -2.9907, -4.7011, -5.0529, -5.2334, -5.4787, -3.4431, -3.7322, -4.02, -5.4781, -5.3841, -4.497, -4.7828, -5.1982, -4.67, -4.2281, -4.9419, -4.5582, -5.0576, -5.0782, -5.3499, -5.2414, -5.2562, -5.2933, -7.1881, -7.2222, -7.1352, -6.5962, -7.6113, -7.4202, -7.3305, -7.6043, -5.4035, -7.1439, -7.4246, -7.4589, -7.1608, -7.7587, -7.5598, -2.9685, -6.9303, -6.2881, -7.4, -7.7776, -7.5963, -7.1242, -7.6253, -6.6126, -7.5698, -6.8262, -7.4864, -7.2112, -6.2021, -6.9291, -3.4784, -3.9892, -4.6162, -4.4574, -4.6448, -3.789, -4.4532, -5.6456, -4.1516, -4.8699, -5.7122, -4.6843, -3.3544, -4.245, -5.3965, -5.3805, -5.4082, -6.1137, -4.0939, -5.9401, -4.4561, -3.6691, -4.7501, -4.4978, -5.5403, -5.1116, -4.4531, -4.3901, -4.4967, -5.1575, -4.8051, -5.2524, -4.9101, -5.0641, -5.1208, -5.1929, -5.1777, -7.2104, -6.2616, -6.6347, -6.8261, -6.7663, -6.0984, -7.2892, -6.2415, -6.7465, -3.8483, -6.489, -7.394, -7.0687, -7.0967, -7.6287, -7.4565, -7.4319, -5.2966, -6.9287, -7.5928, -7.6292, -6.8029, -7.6329, -7.2967, -6.2591, -7.5622, -6.9877, -5.5118, -7.1711, -5.8052, -5.5275, -2.8334, -6.541, -5.6549, -4.4964, -3.4375, -6.0797, -5.5035, -4.619, -3.6645, -3.4078, -4.4222, -5.3224, -4.8931, -5.0709, -5.4478, -5.2835, -4.9602, -4.3553, -5.3616, -5.7972, -4.2984, -5.5233, -4.1585, -4.8831, -5.0459, -4.9443, -4.8614, -5.5224, -5.285, -5.0343, -4.7786, -5.2266, -4.9705, -5.1801, -5.181, -5.335, -7.2669, -7.3538, -7.4985, -7.3386, -5.735, -7.1796, -6.2439, -7.5945, -7.1113, -5.9407, -7.1253, -6.6454, -7.6013, -7.4912, -6.9874, -6.7027, -7.6402, -6.4767, -6.8437, -5.6526, -7.2736, -7.579, -7.4344, -6.6467, -5.5071, -7.1932, -4.9472, -6.4057, -7.7388, -6.5913, -5.5785, -3.7997, -4.4095, -5.8123, -4.1922, -3.8382, -3.8729, -5.693, -4.1153, -3.9, -4.9261, -4.5505, -4.799, -4.0041, -4.1606, -6.253, -6.1679, -4.2594, -4.9842, -5.2612, -5.8957, -4.9345, -5.5685, -5.0819, -5.5546, -5.4566, -4.2589, -4.308, -4.9604, -5.0271, -4.963, -4.9463, -4.9923, -4.8499, -5.3111, -5.0773, -5.3528, -5.3002, -5.3291, -7.2038, -7.5538, -6.8577, -6.4778, -6.6552, -5.544, -7.4669, -7.3849, -7.3771, -7.5305, -7.3746, -7.0929, -7.1206, -7.6566, -3.2673, -4.1861, -7.4104, -7.4464, -7.5272, -7.7449, -7.6119, -7.6763, -6.8242, -4.7865, -5.45, -7.782, -7.8181, -7.648, -7.6418, -7.5401, -5.9508, -5.255, -6.1892, -6.5441, -5.46, -5.7609, -6.3287, -3.6942, -4.5998, -5.9776, -3.8002, -5.7312, -4.3635, -6.3448, -5.1182, -5.2464, -5.8068, -4.2367, -6.3585, -4.0435, -5.0555, -5.316, -4.9831, -4.4503, -4.9088, -4.6038, -4.3014, -5.7685, -4.1215, -4.4969, -5.3442, -4.7746, -5.4297, -5.2654, -4.9031, -5.2722, -4.6452, -5.0463, -4.9805, -4.9313, -5.0715, -5.1667, -5.0498, -5.2486, -7.0495, -6.8914, -6.284, -7.2093, -6.9616, -7.303, -7.4619, -6.3319, -6.7974, -7.0447, -6.7072, -7.1778, -7.2577, -7.1009, -6.0004, -7.2661, -6.7552, -7.548, -6.9924, -7.3775, -7.1552, -7.3377, -7.1956, -7.571, -7.3908, -7.7488, -6.9673, -7.0448, -7.1391, -7.6843, -5.2777, -6.672, -4.4843, -5.4344, -6.5433, -6.0857, -5.2106, -5.501, -3.2818, -5.8773, -4.8771, -5.7583, -4.3477, -4.9452, -6.5284, -3.9145, -5.7683, -5.981, -4.6153, -4.2521, -5.6817, -6.0437, -6.1811, -4.6533, -5.335, -5.2856, -4.3764, -6.0465, -6.0396, -4.7232, -4.4226, -4.6655, -5.1915, -3.9872, -5.1594, -4.6528, -4.4803, -4.8174, -4.4221, -4.9464, -5.1205, -4.9655, -5.1449, -5.2446, -5.2413, -7.3545, -7.3292, -6.1443, -7.66, -7.3674, -6.3844, -7.4096, -7.3324, -6.6843, -7.0508, -7.3631, -7.4015, -7.1092, -7.2458, -7.1789, -7.2078, -7.2244, -7.269, -7.5312, -7.6119, -7.2404, -7.2689, -4.6289, -7.3792, -6.9701, -7.6245, -7.0028, -6.6814, -5.5715, -7.4987, -4.5766, -4.6872, -4.9619, -6.4241, -6.1634, -4.6769, -4.3878, -6.6064, -6.0372, -6.2169, -4.6123, -4.7145, -4.9361, -5.1605, -4.5297, -3.8221, -6.1018, -5.9852, -4.8915, -6.292, -5.2175, -5.0106, -5.1325, -5.8291, -4.6222, -3.8508, -4.3392, -4.5884, -4.1915, -4.3466, -5.4257, -4.869, -5.4846, -5.7275, -5.3699, -5.2445, -5.1391, -4.804, -4.9241, -4.7073, -4.816, -5.1398, -4.9237, -5.0419, -5.1567, -7.3857, -6.7741, -6.3252, -6.2987, -4.0252, -6.8682, -7.3065, -7.1125, -7.1127, -7.3983, -7.3227, -7.4519, -6.9434, -7.0158, -6.8224, -5.3439, -5.7078, -7.2357, -7.2702, -7.0116, -7.3511, -4.9222, -7.4377, -5.7311, -7.6187, -4.9353, -6.5083, -7.5695, -7.7387, -7.4354, -4.4764, -3.5173, -5.7921, -5.4245, -5.4192, -5.372, -5.2095, -4.7297, -4.9001, -4.1905, -5.2758, -4.5156, -5.6238, -4.4616, -6.0226, -3.8005, -5.3547, -4.7478, -4.6322, -5.7481, -5.2898, -4.442, -4.8033, -4.5651, -4.625, -4.0336, -5.0679, -4.3075, -4.8807, -4.7509, -4.9777, -4.6964, -4.903, -4.8038, -4.6499, -4.9046, -5.0289, -5.1599, -5.1557], \"loglift\": [30.0, 29.0, 28.0, 27.0, 26.0, 25.0, 24.0, 23.0, 22.0, 21.0, 20.0, 19.0, 18.0, 17.0, 16.0, 15.0, 14.0, 13.0, 12.0, 11.0, 10.0, 9.0, 8.0, 7.0, 6.0, 5.0, 4.0, 3.0, 2.0, 1.0, 1.969, 1.9366, 1.817, 1.7885, 1.7154, 1.7014, 1.6862, 1.6707, 1.6667, 1.6539, 1.6342, 1.5997, 1.5956, 1.5953, 1.5859, 1.5803, 1.5695, 1.567, 1.5651, 1.5621, 1.5616, 1.5528, 1.5364, 1.5248, 1.5228, 1.52, 1.5175, 1.5073, 1.5048, 1.5009, 1.4803, 1.4807, 1.3523, 1.3923, 1.4959, 1.391, 1.4055, 1.3325, 1.3106, 1.2838, 1.206, 1.238, 1.3715, 1.3355, 0.8517, 1.0438, 0.7309, 0.7618, 1.2873, 1.0052, 0.5479, 0.5857, 0.9915, 0.7721, 0.2866, 0.2509, 1.1832, 0.5877, 0.6689, 0.0067, 0.031, -0.2111, -0.671, -0.0432, 0.5418, -0.3649, 0.1464, -0.1992, -1.4183, -0.5687, -1.1423, 2.1107, 1.9835, 1.9349, 1.9256, 1.8869, 1.8291, 1.8212, 1.7728, 1.7671, 1.7606, 1.7155, 1.6984, 1.6687, 1.6583, 1.634, 1.6316, 1.6086, 1.6075, 1.5969, 1.596, 1.589, 1.5652, 1.5572, 1.5398, 1.5357, 1.5319, 1.5309, 1.5145, 1.5042, 1.5039, 1.4701, 1.4111, 1.4831, 1.434, 1.4918, 1.3904, 1.2436, 1.3703, 1.2111, 1.3424, 1.2352, 1.4011, 1.3479, 1.2606, 1.4182, 1.209, 1.096, 1.4789, 1.1035, 1.1457, 0.8807, 0.618, 0.6781, 0.729, 1.1392, 0.2238, 1.1722, 1.0852, 0.7723, 0.1982, 0.8197, 0.1353, -0.0367, -0.2302, -0.0775, 0.2836, -0.0615, -0.1275, -0.4882, -0.2323, -0.3319, 2.2283, 2.1336, 2.1202, 2.0532, 1.9723, 1.9558, 1.9191, 1.9072, 1.901, 1.8929, 1.8487, 1.7906, 1.7807, 1.7659, 1.7636, 1.7553, 1.7316, 1.7298, 1.7265, 1.6956, 1.6884, 1.6798, 1.6772, 1.6674, 1.6564, 1.6383, 1.5949, 1.5948, 1.5946, 1.5836, 1.5363, 1.4391, 1.4538, 1.4057, 1.3245, 1.3833, 1.5165, 1.4057, 1.2933, 0.8584, 0.9804, 0.7504, 1.1198, 1.1927, 1.2396, 1.1381, 0.3681, 0.4649, 0.509, 1.1167, 1.0072, 0.5244, 0.621, 0.8527, 0.4504, 0.1095, 0.4644, -0.0373, 0.1944, 0.1007, 0.4886, -0.021, -0.2226, -0.4589, 2.2252, 2.1195, 2.054, 2.0427, 2.0419, 2.0208, 1.9716, 1.9562, 1.9373, 1.9317, 1.9181, 1.902, 1.8805, 1.8754, 1.8676, 1.8616, 1.8293, 1.7996, 1.7795, 1.7736, 1.7716, 1.7679, 1.7624, 1.7202, 1.6982, 1.6962, 1.6912, 1.6748, 1.6595, 1.651, 1.6124, 1.5507, 1.5138, 1.4547, 1.4061, 1.2782, 1.2688, 1.4269, 1.0513, 1.2047, 1.412, 1.015, 0.4567, 0.7518, 1.1769, 1.1479, 1.1208, 1.4187, 0.4352, 1.3126, 0.4972, 0.072, 0.6532, 0.5014, 1.0561, 0.7808, 0.3248, -0.0524, 0.0242, 0.5131, 0.0294, 0.592, -0.2165, -0.1614, -0.0993, -0.301, -1.3699, 2.2101, 2.2067, 2.1721, 2.1463, 2.0602, 2.0495, 2.037, 2.0261, 2.0235, 2.0182, 1.9694, 1.9495, 1.9341, 1.9219, 1.9196, 1.9149, 1.9129, 1.9109, 1.9074, 1.888, 1.8791, 1.8388, 1.815, 1.8107, 1.8081, 1.7945, 1.7842, 1.7831, 1.7801, 1.7723, 1.7505, 1.6515, 1.7445, 1.677, 1.5248, 1.3404, 1.6864, 1.601, 1.4452, 1.2304, 1.113, 1.2771, 1.436, 1.2409, 1.2644, 1.3343, 1.2363, 1.0482, 0.5474, 1.1595, 1.3845, 0.2307, 1.1753, -0.3508, 0.2958, 0.3604, 0.1466, -0.0269, 0.9903, 0.5359, -0.0187, -0.9675, 0.2535, -0.7734, 0.0404, -0.0606, -0.1594, 2.178, 2.1266, 2.0955, 2.0868, 2.0683, 1.9729, 1.9606, 1.9592, 1.9315, 1.9305, 1.9304, 1.8951, 1.8887, 1.8887, 1.8858, 1.8839, 1.8552, 1.851, 1.8374, 1.8223, 1.813, 1.8076, 1.7918, 1.7889, 1.7731, 1.7659, 1.7575, 1.7546, 1.744, 1.736, 1.5884, 1.3792, 1.4512, 1.5786, 1.3073, 1.1954, 1.1485, 1.5002, 1.1367, 1.0484, 1.2544, 1.0619, 1.1299, 0.8304, 0.8127, 1.5982, 1.5511, 0.6433, 0.9905, 1.0473, 1.3935, 0.736, 1.1049, 0.6246, 0.983, 0.8848, -0.5179, -0.5002, 0.2152, 0.2988, 0.0526, -0.0514, -0.039, -0.5123, 0.5098, -0.8801, 0.3464, -0.7793, -0.8441, 2.2117, 2.0796, 2.06, 2.0403, 2.0275, 2.0036, 1.9755, 1.9709, 1.9405, 1.9373, 1.9173, 1.9127, 1.8863, 1.8763, 1.8709, 1.8544, 1.8532, 1.8503, 1.8476, 1.8289, 1.8209, 1.8107, 1.8105, 1.8002, 1.7711, 1.7693, 1.7627, 1.7624, 1.7571, 1.7512, 1.7307, 1.697, 1.6914, 1.6976, 1.6205, 1.6339, 1.6664, 1.3213, 1.4238, 1.607, 1.173, 1.5268, 1.2027, 1.6187, 1.168, 1.2065, 1.3714, 0.5977, 1.5474, 0.4414, 0.919, 1.043, 0.8554, 0.4446, 0.7036, 0.4633, 0.2195, 1.2415, -0.3103, 0.0322, 0.8255, 0.1281, 0.917, 0.6762, 0.1305, 0.5722, -0.9041, -0.0471, -0.2869, -0.5936, -0.2936, 0.0853, -1.2421, 0.2912, 2.1461, 2.1397, 2.1117, 2.0698, 2.0672, 2.0359, 2.0359, 2.024, 1.9653, 1.9623, 1.9538, 1.946, 1.9457, 1.9356, 1.9099, 1.9094, 1.9087, 1.9022, 1.8886, 1.8833, 1.8767, 1.8694, 1.8616, 1.854, 1.8448, 1.8448, 1.8447, 1.8443, 1.8384, 1.8382, 1.834, 1.8378, 1.7944, 1.8012, 1.8243, 1.8097, 1.7548, 1.7234, 1.4611, 1.7025, 1.5706, 1.6787, 1.4346, 1.4415, 1.7814, 1.0388, 1.5474, 1.6015, 1.1334, 0.9999, 1.4759, 1.564, 1.6255, 0.9129, 1.2183, 1.1802, 0.6392, 1.5589, 1.549, 0.6806, 0.4801, 0.5374, 0.866, -0.1794, 0.8141, 0.2956, 0.0488, 0.2162, -0.611, 0.1918, 0.3791, 0.0078, 0.2993, -0.069, -0.7205, 2.3253, 2.2206, 2.2022, 2.1548, 2.137, 2.1257, 2.0614, 2.0602, 2.0554, 2.0451, 2.0287, 2.0277, 2.0258, 2.0182, 1.9546, 1.9489, 1.9452, 1.9361, 1.9324, 1.9084, 1.9036, 1.8999, 1.8972, 1.8917, 1.8797, 1.8652, 1.8555, 1.852, 1.8472, 1.8402, 1.829, 1.8282, 1.7984, 1.8367, 1.8177, 1.7182, 1.653, 1.84, 1.7638, 1.7636, 1.476, 1.4916, 1.5313, 1.5612, 1.3649, 1.1771, 1.696, 1.6629, 1.335, 1.7418, 1.344, 1.2186, 1.1273, 1.4564, 0.7841, 0.3464, 0.614, 0.6145, 0.3376, 0.347, 1.1213, 0.5752, 1.0986, 1.357, 0.9238, 0.7633, 0.6138, 0.1444, 0.1095, -0.9662, -1.0083, 0.0391, -1.1125, -0.7042, -0.3222, 2.2958, 2.1751, 2.1564, 2.1524, 2.1441, 2.1366, 2.1032, 2.086, 2.0599, 2.0485, 2.0455, 2.0042, 2.0, 1.9753, 1.9518, 1.9331, 1.9316, 1.9229, 1.91, 1.9026, 1.9022, 1.8923, 1.8879, 1.8812, 1.8805, 1.865, 1.8557, 1.8493, 1.8451, 1.8436, 1.7526, 1.7031, 1.7817, 1.6968, 1.6751, 1.6698, 1.6106, 1.538, 1.5179, 1.3707, 1.5649, 1.337, 1.5998, 1.2377, 1.7018, 0.9423, 1.4268, 1.1644, 1.0743, 1.4761, 1.1646, 0.5064, 0.7629, 0.4341, 0.3906, -0.2258, 0.7614, -0.4963, 0.2949, 0.027, 0.3482, -0.4992, 0.0702, -0.2748, -0.9088, -0.3837, 0.174, -0.0395, -0.3256]}, \"token.table\": {\"Topic\": [1, 2, 4, 5, 7, 8, 9, 6, 7, 8, 1, 2, 3, 4, 5, 6, 7, 8, 9, 10, 1, 3, 4, 5, 6, 7, 8, 9, 1, 6, 9, 2, 3, 4, 6, 7, 9, 10, 4, 7, 10, 1, 2, 3, 4, 5, 6, 7, 8, 9, 10, 1, 7, 8, 10, 2, 4, 6, 7, 8, 10, 3, 4, 5, 8, 9, 1, 2, 3, 4, 5, 6, 7, 8, 9, 10, 1, 2, 3, 4, 5, 6, 7, 8, 9, 10, 1, 2, 3, 4, 5, 6, 7, 8, 9, 10, 1, 2, 3, 4, 5, 6, 7, 8, 9, 10, 1, 2, 5, 7, 9, 1, 2, 3, 4, 5, 6, 7, 8, 9, 10, 1, 3, 4, 8, 9, 1, 2, 6, 2, 3, 5, 6, 7, 8, 9, 10, 1, 4, 6, 9, 10, 1, 2, 3, 7, 10, 1, 2, 3, 4, 6, 7, 8, 9, 10, 1, 2, 3, 4, 5, 6, 7, 8, 9, 10, 2, 3, 4, 5, 3, 4, 5, 6, 10, 4, 6, 7, 3, 5, 6, 7, 2, 4, 5, 6, 7, 8, 9, 10, 1, 2, 3, 4, 5, 6, 7, 8, 9, 10, 1, 2, 3, 4, 5, 6, 7, 8, 9, 10, 1, 2, 3, 4, 5, 6, 7, 8, 9, 10, 1, 2, 3, 5, 7, 9, 2, 3, 4, 7, 8, 10, 1, 2, 3, 5, 6, 8, 10, 1, 5, 6, 9, 1, 2, 3, 4, 5, 6, 7, 8, 9, 10, 1, 4, 7, 9, 1, 2, 3, 4, 5, 6, 7, 8, 9, 10, 1, 2, 4, 5, 6, 7, 8, 9, 10, 1, 2, 3, 4, 5, 6, 7, 8, 9, 10, 1, 2, 3, 4, 5, 6, 7, 8, 9, 10, 2, 3, 4, 6, 7, 10, 1, 2, 4, 10, 1, 2, 3, 6, 8, 9, 10, 1, 3, 4, 5, 6, 7, 8, 1, 2, 3, 4, 5, 6, 7, 8, 9, 10, 3, 4, 6, 7, 8, 1, 2, 6, 7, 1, 2, 3, 4, 5, 6, 7, 8, 9, 10, 1, 2, 3, 4, 5, 6, 7, 8, 9, 10, 1, 2, 3, 4, 5, 7, 8, 10, 1, 2, 3, 4, 5, 6, 7, 8, 9, 10, 1, 2, 3, 5, 6, 8, 9, 1, 2, 3, 4, 5, 7, 8, 9, 10, 1, 3, 4, 5, 6, 8, 9, 10, 1, 2, 3, 4, 5, 6, 7, 8, 9, 10, 1, 2, 3, 4, 6, 7, 8, 9, 10, 3, 4, 7, 8, 9, 1, 4, 5, 1, 3, 5, 6, 7, 1, 2, 3, 4, 5, 6, 7, 8, 9, 10, 1, 2, 3, 4, 6, 7, 10, 1, 2, 4, 5, 6, 8, 9, 10, 1, 3, 5, 7, 8, 1, 2, 3, 6, 7, 10, 2, 3, 4, 5, 6, 7, 8, 9, 10, 1, 2, 3, 4, 5, 6, 7, 8, 9, 10, 1, 2, 3, 4, 5, 6, 7, 8, 9, 10, 1, 2, 3, 4, 5, 6, 7, 8, 9, 10, 1, 2, 3, 4, 5, 6, 7, 8, 9, 10, 6, 8, 9, 2, 3, 4, 7, 8, 9, 10, 1, 2, 3, 4, 5, 6, 7, 8, 9, 10, 1, 2, 3, 4, 5, 6, 7, 8, 9, 10, 1, 2, 3, 4, 5, 7, 9, 10, 8, 10, 1, 2, 3, 6, 7, 8, 9, 1, 2, 3, 4, 5, 6, 7, 8, 9, 10, 1, 2, 7, 8, 1, 2, 3, 4, 5, 6, 7, 8, 9, 10, 2, 3, 4, 5, 6, 7, 8, 9, 10, 3, 4, 6, 7, 8, 10, 3, 5, 8, 1, 2, 3, 4, 6, 3, 4, 7, 8, 9, 1, 2, 4, 5, 8, 9, 10, 7, 10, 1, 2, 3, 5, 7, 9, 10, 1, 2, 3, 4, 5, 6, 7, 8, 9, 10, 4, 6, 9, 6, 7, 2, 3, 6, 7, 1, 2, 3, 4, 5, 6, 7, 8, 9, 10, 1, 2, 3, 4, 5, 6, 7, 8, 9, 10, 1, 2, 3, 4, 7, 8, 2, 4, 8, 10, 1, 2, 3, 4, 5, 6, 7, 8, 9, 10, 2, 6, 7, 8, 1, 2, 3, 5, 6, 8, 9, 10, 1, 2, 3, 4, 5, 6, 7, 8, 9, 10, 1, 2, 3, 4, 5, 6, 7, 8, 9, 10, 1, 3, 4, 5, 7, 8, 9, 10, 1, 2, 3, 4, 8, 10, 1, 2, 3, 4, 5, 6, 7, 8, 9, 10, 1, 2, 3, 4, 5, 6, 7, 8, 9, 10, 1, 2, 3, 4, 5, 6, 7, 8, 9, 10, 4, 6, 7, 1, 2, 3, 4, 5, 6, 7, 8, 9, 10, 2, 3, 7, 2, 3, 8, 9, 10, 1, 2, 3, 6, 7, 8, 4, 10, 1, 3, 4, 6, 10, 2, 4, 5, 6, 7, 8, 10, 1, 2, 3, 4, 5, 6, 7, 8, 9, 10, 1, 2, 3, 4, 5, 6, 7, 8, 9, 10, 2, 4, 10, 1, 2, 3, 5, 6, 7, 8, 10, 1, 2, 7, 8, 10, 3, 5, 9, 10, 1, 2, 3, 4, 5, 6, 7, 8, 9, 10, 1, 2, 3, 4, 5, 6, 7, 8, 9, 10, 1, 2, 3, 4, 5, 6, 7, 8, 9, 10, 1, 2, 3, 4, 5, 6, 7, 9, 1, 2, 8, 2, 3, 4, 7, 10, 1, 2, 3, 4, 6, 8, 9, 10, 1, 2, 3, 4, 5, 6, 7, 9, 10, 3, 4, 6, 7, 1, 2, 3, 4, 5, 6, 7, 8, 9, 10, 1, 2, 3, 4, 5, 6, 7, 8, 10, 1, 2, 3, 4, 6, 7, 8, 9, 10, 1, 3, 4, 5, 6, 7, 1, 2, 3, 4, 5, 6, 7, 8, 9, 10, 2, 4, 10, 1, 2, 3, 4, 6, 7, 8, 9, 10, 1, 3, 4, 5, 6, 7, 8, 9, 10, 3, 4, 6, 8, 9, 1, 2, 3, 4, 5, 7, 8, 1, 2, 3, 4, 5, 6, 7, 8, 9, 10, 1, 4, 5, 6, 7, 8, 9, 10, 2, 3, 5, 6, 8, 10, 8, 9, 1, 2, 3, 5, 8, 9, 4, 5, 6, 9, 10, 1, 2, 3, 6, 7, 8, 9, 10, 1, 2, 3, 4, 5, 6, 7, 8, 9, 10, 2, 4, 7, 8, 10, 4, 6, 7, 10, 1, 2, 3, 4, 5, 6, 7, 8, 9, 10, 1, 2, 3, 4, 5, 6, 7, 8, 9, 10, 1, 2, 3, 4, 5, 6, 7, 8, 9, 10, 2, 3, 4, 5, 6, 8, 1, 2, 3, 4, 6, 7, 8, 9, 10, 3, 4, 5, 6, 10, 1, 2, 4, 6, 7, 8, 9, 10, 1, 2, 3, 4, 5, 6, 7, 8, 9, 10, 1, 2, 3, 4, 5, 6, 7, 8, 9, 1, 2, 3, 4, 5, 6, 7, 8, 9, 10, 1, 2, 3, 4, 6, 7, 8, 9, 10, 9, 1, 2, 3, 5, 7, 10, 1, 2, 3, 4, 5, 6, 7, 8, 9, 10, 2, 3, 6, 9, 1, 2, 3, 4, 5, 6, 7, 8, 9, 10, 2, 4, 6, 9, 10, 2, 4, 7, 8, 1, 2, 3, 4, 5, 6, 7, 8, 9, 10, 1, 2, 3, 4, 5, 6, 7, 8, 9, 10, 1, 2, 3, 4, 6, 8, 9, 10, 1, 2, 3, 4, 5, 6, 7, 8, 9, 10, 1, 2, 3, 4, 5, 6, 7, 8, 9, 10, 4, 8, 9, 1, 2, 3, 4, 5, 6, 7, 8, 9, 10, 2, 6, 7, 8, 10, 1, 2, 3, 4, 5, 6, 7, 8, 9, 10, 3, 5, 8, 1, 2, 3, 4, 5, 6, 8, 9, 10, 1, 3, 4, 7, 8, 9, 1, 2, 4, 5, 6, 7, 8, 9, 10, 1, 2, 3, 5, 6, 7, 8, 9, 10, 1, 2, 3, 4, 5, 6, 7, 8, 9, 10, 1, 2, 3, 4, 5, 6, 7, 8, 9, 10, 2, 5, 9, 1, 2, 3, 5, 10, 4, 5, 6, 7, 10, 2, 3, 4, 7, 8, 1, 2, 3, 4, 5, 6, 7, 8, 9, 10, 1, 2, 3, 4, 5, 6, 7, 8, 9, 10, 1, 2, 3, 4, 5, 6, 7, 8, 9, 10, 1, 2, 3, 4, 5, 6, 7, 8, 9, 10, 1, 2, 3, 4, 5, 6, 7, 10, 3, 5, 6, 9, 1, 2, 3, 4, 5, 6, 7, 8, 9, 10, 4, 5, 7, 8, 1, 2, 3, 5, 7, 8, 9, 10, 1, 2, 3, 4, 5, 6, 7, 9, 1, 2, 3, 4, 5, 6, 7, 8, 9, 10, 1, 2, 3, 4, 5, 6, 7, 8, 9, 10, 1, 2, 3, 4, 5, 6, 7, 8, 9, 10, 1, 2, 3, 4, 5, 6, 7, 8, 9, 10, 1, 2, 3, 5, 1, 2, 3, 4, 5, 6, 7, 8, 9, 10, 1, 2, 3, 4, 5, 6, 7, 8, 9, 10, 1, 2, 3, 4, 5, 6, 7, 8, 9, 10, 1, 2, 3, 4, 5, 6, 7, 8, 9, 10, 1, 2, 3, 4, 5, 6, 7, 8, 9, 10, 2, 3, 4, 8, 10, 1, 2, 3, 4, 5, 6, 7, 8, 9, 10, 1, 2, 3, 4, 6, 9, 10, 1, 2, 3, 5, 6, 7, 8, 9, 10, 9, 10, 2, 3, 4, 5, 6, 7, 8, 9, 1, 2, 3, 4, 5, 6, 7, 8, 9, 10, 1, 2, 3, 4, 5, 6, 7, 8, 9, 10, 2, 3, 4, 5, 6, 7, 8, 9, 10, 1, 4, 7, 8, 10, 4, 7, 9, 10, 1, 2, 3, 4, 5, 6, 7, 8, 9, 10, 1, 2, 3, 4, 6, 7, 8, 9, 10, 2, 4, 6, 7, 8, 9, 10, 1, 2, 4, 5, 6, 7, 8, 9, 10, 3, 8, 1, 2, 3, 7, 8, 9, 10, 1, 3, 4, 5, 6, 7, 9, 10, 2, 3, 4, 5, 7, 8, 9, 10, 2, 3, 4, 5, 6, 7, 8, 9, 10, 2, 3, 5, 4, 8, 10, 1, 2, 3, 4, 5, 6, 7, 8, 9, 10, 1, 2, 3, 4, 5, 6, 7, 8, 9, 10, 1, 2, 3, 10, 3, 5, 8, 9, 4, 6, 7, 8, 9, 2, 5, 6, 7, 8, 10, 2, 3, 4, 6, 7, 9, 10, 1, 4, 5, 7, 1, 2, 7, 10, 1, 2, 3, 5, 7, 10, 2, 3, 7, 8, 5, 6, 9, 3, 5, 6, 7, 9, 1, 2, 3, 5, 6, 7, 8, 9, 10, 1, 6, 7, 10, 1, 4, 7, 1, 2, 3, 4, 5, 6, 7, 8, 9, 10, 1, 2, 3, 4, 5, 6, 7, 8, 9, 10, 1, 2, 3, 4, 5, 6, 7, 8, 9, 10, 1, 2, 3, 4, 5, 6, 7, 8, 9, 10, 2, 3, 4, 5, 6, 8, 1, 2, 3, 5, 6, 7, 8, 9, 10, 3, 4, 6, 8, 9, 1, 2, 3, 4, 7, 1, 2, 3, 4, 5, 6, 7, 8, 9, 10, 1, 2, 3, 4, 5, 6, 7, 8, 9, 10, 1, 2, 3, 8, 10, 1, 2, 3, 4, 5, 6, 7, 8, 9, 10, 1, 2, 3, 5, 6, 8, 9, 10, 2, 4, 6, 10, 1, 2, 3, 4, 5, 6, 7, 8, 9, 10, 1, 2, 3, 4, 5, 6, 7, 8, 9, 10, 1, 2, 5, 8, 9, 10, 2, 3, 4, 5, 7, 10, 1, 2, 3, 4, 5, 6, 7, 8, 9, 10, 1, 2, 3, 4, 5, 6, 7, 8, 9, 10, 1, 2, 3, 4, 5, 6, 7, 8, 9, 10, 1, 3, 4, 5, 7, 8, 9, 10, 1, 2, 3, 4, 6, 8, 10, 1, 2, 3, 4, 5, 6, 7, 8, 9, 10, 1, 2, 7, 8, 10, 1, 2, 3, 4, 5, 6, 7, 8, 9, 10, 1, 4, 6, 7, 8, 9, 10, 2, 3, 4, 6, 8, 9, 1, 4, 6, 7, 8, 9, 10, 1, 2, 3, 4, 5, 6, 7, 8, 9, 10, 1, 4, 5, 6, 7, 8, 10, 1, 2, 3, 4, 5, 6, 7, 8, 9, 10, 1, 2, 4, 5, 6, 10, 1, 2, 3, 4, 5, 6, 7, 8, 9, 10, 1, 2, 3, 4, 5, 6, 7, 8, 9, 10, 1, 2, 3, 4, 5, 6, 7, 8, 9, 10, 1, 2, 3, 4, 5, 6, 7, 8, 9, 10, 1, 2, 4, 5, 6, 7, 8, 9, 10, 1, 2, 3, 4, 5, 6, 7, 8, 9, 10, 3, 4, 5, 6, 7, 8, 9, 4, 5, 8, 10, 1, 3, 6, 8, 1, 5, 1, 2, 3, 4, 5, 6, 7, 8, 9, 10, 1, 2, 3, 4, 5, 6, 7, 8, 9, 10, 1, 3, 5, 6, 7, 8, 1, 2, 4, 5, 7, 9, 10, 1, 3, 4, 5, 6, 7, 8, 9, 10, 2, 4, 5, 7, 8, 9, 4, 6, 8, 1, 2, 3, 4, 5, 6, 7, 8, 9, 10, 1, 2, 3, 4, 5, 6, 7, 8, 9, 1, 2, 3, 4, 5, 6, 7, 8, 9, 10, 1, 2, 3, 4, 5, 6, 7, 8, 9, 10, 1, 2, 3, 4, 5, 6, 7, 8, 9, 10, 2, 4, 8, 1, 2, 3, 4, 5, 6, 7, 8, 9, 10, 1, 2, 3, 4, 5, 6, 7, 9, 10, 1, 2, 3, 4, 5, 6, 7, 8, 9, 10, 2, 3, 4, 5, 9, 10, 1, 2, 4, 7, 9, 10, 1, 2, 3, 4, 5, 7, 9, 10, 1, 2, 3, 4, 5, 6, 7, 8, 9, 10, 3, 4, 5, 9, 3, 5, 9, 3, 4, 7, 8, 1, 2, 3, 4, 5, 6, 7, 8, 9, 10, 1, 2, 3, 4, 5, 6, 7, 8, 9, 10, 1, 2, 3, 4, 5, 6, 7, 8, 9, 10, 1, 2, 3, 4, 5, 6, 7, 8, 9, 10, 1, 2, 3, 4, 5, 6, 7, 8, 9, 10, 2, 4, 9, 10, 1, 2, 3, 4, 5, 6, 7, 8, 9, 10, 1, 2, 3, 4, 5, 6, 7, 8, 9, 10, 1, 2, 3, 5, 7, 8, 10, 1, 2, 3, 4, 5, 6, 7, 8, 9, 10, 1, 3, 4, 6, 10, 1, 2, 3, 4, 5, 6, 7, 8, 9, 10, 3, 4, 7, 8, 4, 5, 6, 8, 9, 1, 2, 3, 4, 5, 6, 7, 8, 10, 2, 3, 4, 7, 9, 10, 1, 2, 3, 4, 5, 6, 7, 8, 9, 10, 1, 2, 3, 4, 5, 6, 7, 8, 9, 10, 2, 3, 4, 5, 6, 7, 10, 3, 4, 5, 6, 8, 10, 1, 2, 3, 4, 5, 6, 7, 8, 9, 10, 1, 2, 3, 5, 9, 10, 1, 3, 9, 10, 1, 2, 3, 4, 5, 6, 7, 8, 9, 10, 1, 3, 4, 5, 6, 8, 9, 10, 1, 2, 3, 4, 5, 6, 7, 8, 9, 10, 1, 2, 4, 10, 1, 2, 3, 4, 5, 6, 7, 8, 9, 10, 1, 2, 3, 4, 7, 9, 1, 4, 5, 6, 9, 10, 1, 2, 3, 4, 5, 9, 10, 1, 2, 3, 5, 6, 7, 9, 10, 2, 3, 8, 1, 2, 3, 4, 5, 6, 7, 8, 9, 10, 1, 2, 3, 4, 6, 7, 8, 9, 10, 1, 2, 3, 4, 6, 8, 3, 4, 5, 6, 9, 10, 1, 2, 3, 4, 5, 8, 10, 1, 2, 3, 4, 5, 6, 7, 8, 9, 10, 1, 2, 3, 4, 7, 8, 9, 10, 1, 2, 3, 4, 5, 6, 7, 8, 9, 10, 1, 7, 8, 9, 10, 1, 2, 3, 4, 5, 6, 7, 8, 9, 10, 1, 2, 3, 4, 5, 6, 7, 8, 9, 10, 1, 2, 3, 4, 5, 6, 7, 8, 9, 10, 2, 3, 4, 10, 1, 2, 3, 4, 5, 6, 7, 8, 9, 10, 1, 2, 3, 4, 5, 6, 7, 8, 9, 10, 1, 4, 8, 9, 10, 1, 3, 9, 10, 2, 6, 8, 10, 1, 2, 3, 7, 9, 1, 2, 3, 4, 5, 6, 7, 8, 9, 10, 5, 6, 10, 1, 2, 3, 4, 5, 6, 7, 8, 9, 10, 1, 2, 3, 4, 5, 6, 7, 8, 9, 10, 2, 4, 5, 6, 10, 1, 2, 3, 4, 5, 6, 7, 8, 9, 10, 1, 2, 3, 4, 5, 6, 7, 8, 9, 10, 1, 2, 3, 4, 5, 6, 7, 8, 9, 10, 2, 3, 4, 10, 3, 4, 5, 6, 7, 4, 5, 6, 7, 8, 1, 2, 3, 7, 10, 1, 2, 3, 7, 9, 10, 1, 2, 3, 4, 5, 6, 7, 8, 9, 10, 1, 2, 3, 4, 5, 6, 7, 8, 9, 10, 1, 2, 3, 4, 5, 6, 7, 8, 9, 10, 1, 3, 6, 7, 8, 9, 10, 1, 2, 4, 6, 7, 8, 9, 1, 6, 7, 9, 10, 1, 5, 7, 8, 1, 5, 7, 9, 1, 2, 3, 4, 5, 6, 7, 8, 9, 10, 1, 2, 3, 4, 5, 6, 1, 2, 3, 4, 5, 6, 7, 8, 9, 10, 1, 2, 3, 4, 5, 6, 7, 8, 9, 10, 3, 4, 7, 9, 10, 1, 2, 4, 5, 9, 1, 2, 3, 4, 5, 6, 7, 8, 9, 10, 1, 2, 3, 4, 5, 6, 7, 8, 9, 10, 2, 4, 7, 8, 9, 10, 1, 2, 3, 4, 5, 6, 7, 8, 9, 1, 2, 3, 4, 5, 6, 7, 8, 9, 10, 2, 3, 4, 6, 9, 2, 4, 5, 6, 10, 1, 2, 3, 4, 5, 6, 7, 8, 9, 10, 2, 4, 9, 10, 1, 2, 3, 4, 5, 6, 7, 8, 9, 10, 1, 3, 4, 5, 6, 7, 8, 9, 10, 1, 5, 6, 8, 9, 3, 4, 5, 9, 10, 2, 3, 5, 8, 10, 1, 2, 3, 4, 5, 6, 7, 8, 9, 10, 1, 2, 3, 4, 5, 6, 7, 8, 9, 10, 1, 2, 3, 4, 5, 6, 7, 8, 9, 10, 1, 2, 3, 4, 5, 7, 9, 10, 1, 2, 3, 4, 5, 6, 7, 8, 9, 10, 2, 3, 6, 10, 2, 3, 5, 9, 1, 2, 3, 4, 5, 6, 7, 8, 9, 10, 3, 4, 5, 7, 8, 9, 10, 1, 2, 3, 4, 5, 6, 8, 9, 10, 1, 2, 3, 4, 5, 6, 7, 8, 9, 10, 1, 2, 3, 4, 5, 6, 7, 8, 9, 10, 1, 2, 3, 4, 5, 6, 7, 8, 9, 10, 1, 3, 5, 6, 8, 9, 10, 2, 3, 8, 9, 10, 1, 2, 3, 4, 5, 6, 7, 8, 9, 10, 3, 4, 5, 7, 8, 10, 3, 4, 7, 9, 10, 3, 6, 7, 8, 1, 2, 4, 7, 9, 1, 2, 3, 4, 5, 6, 7, 8, 9, 10, 2, 3, 4, 7, 10, 1, 2, 3, 4, 7, 8, 1, 2, 4, 5, 9, 1, 2, 3, 5, 7, 8, 9, 10, 2, 3, 4, 6, 10, 1, 2, 4, 6, 7, 3, 5, 7, 1, 2, 3, 5, 7, 8, 9, 10, 2, 3, 4, 5, 6, 8, 9, 10, 1, 2, 5, 6, 7, 9, 10, 6, 9, 1, 2, 3, 5, 7, 8, 1, 2, 3, 4, 5, 6, 7, 8, 9, 10, 1, 2, 3, 4, 5, 6, 7, 8, 9, 10, 1, 2, 3, 5, 6, 7, 8, 9, 10, 1, 2, 3, 4, 5, 6, 7, 8, 9, 10, 1, 2, 3, 4, 5, 7, 8, 9, 10, 1, 2, 3, 4, 5, 6, 7, 8, 9, 10, 1, 2, 3, 4, 5, 6, 7, 8, 9, 10, 1, 2, 3, 4, 5, 6, 7, 9, 10, 1, 2, 3, 4, 5, 6, 7, 8, 9, 10, 2, 3, 4, 5, 7, 10, 1, 2, 3, 4, 5, 6, 7, 8, 9, 10, 1, 2, 3, 4, 5, 6, 7, 8, 9, 10, 1, 2, 3, 4, 6, 7, 8, 9, 10, 2, 3, 6, 7, 9, 10, 1, 2, 3, 4, 5, 6, 7, 9, 10, 1, 2, 3, 4, 5, 6, 7, 8, 9, 10, 3, 8, 1, 2, 3, 4, 5, 6, 7, 8, 9, 10, 4, 7, 8, 9, 10, 1, 2, 3, 4, 5, 7, 8, 9, 10, 1, 2, 3, 4, 5, 6, 7, 8, 9, 10, 1, 2, 3, 4, 5, 6, 7, 8, 9, 10, 1, 5, 9, 10, 1, 2, 3, 4, 5, 6, 7, 8, 9, 10, 1, 2, 3, 4, 5, 6, 7, 8, 9, 10, 1, 2, 4, 5, 7, 8, 10, 7, 8, 9, 10, 2, 6, 7, 8, 9, 1, 2, 3, 4, 5, 6, 7, 8, 9, 10, 1, 2, 3, 4, 5, 6, 7, 8, 9, 10, 1, 2, 3, 4, 5, 6, 7, 8, 9, 10, 1, 2, 3, 4, 5, 6, 7, 8, 9, 10, 1, 2, 3, 4, 5, 6, 7, 8, 9, 10, 1, 2, 3, 4, 5, 6, 7, 8, 9, 10, 1, 2, 3, 4, 5, 6, 7, 8, 9, 10, 3, 5, 7, 8, 9, 4, 6, 1, 2, 4, 5, 8, 1, 2, 3, 4, 6, 8, 9, 10, 2, 3, 4, 5, 6, 10, 1, 2, 3, 4, 5, 6, 7, 8, 9, 10, 2, 4, 6, 7, 9, 10, 1, 3, 4, 5, 6, 3, 1, 2, 3, 4, 5, 6, 7, 8, 9, 3, 4, 5, 6, 9, 1, 2, 3, 4, 5, 6, 7, 8, 9, 10, 2, 3, 5, 7, 9, 4, 6, 8, 1, 3, 4, 10, 1, 2, 3, 4, 6, 8, 10, 2, 3, 4, 5, 6, 7, 10, 1, 2, 3, 4, 5, 6, 7, 8, 2, 4, 5, 9, 1, 2, 3, 4, 5, 6, 7, 8, 9, 10, 1, 2, 3, 4, 5, 6, 7, 8, 9, 10, 2, 5, 6, 7, 8, 9, 10, 1, 3, 4, 5, 9, 10, 1, 3, 7, 10, 2, 6, 7, 8, 10, 1, 2, 3, 5, 8, 10, 1, 3, 4, 5, 6, 1, 2, 3, 4, 5, 6, 7, 8, 9, 10, 1, 2, 3, 4, 5, 6, 7, 8, 9, 10, 2, 3, 4, 7, 10, 1, 2, 3, 4, 5, 7, 8, 9, 10, 4, 9, 1, 2, 3, 4, 5, 6, 7, 8, 9, 10, 1, 3, 4, 5, 6, 7, 8, 1, 2, 3, 4, 5, 6, 7, 8, 9, 10, 1, 2, 3, 4, 5, 6, 7, 8, 9, 10, 1, 2, 5, 8, 3, 4, 6, 7, 1, 2, 9, 2, 3, 4, 5, 7, 9, 2, 3, 4, 5, 6, 7, 8, 9, 10, 1, 2, 3, 4, 5, 7, 8, 9, 10, 1, 2, 3, 4, 5, 6, 7, 8, 9, 10, 1, 2, 3, 4, 5, 6, 7, 8, 9, 10, 1, 2, 3, 4, 5, 6, 8, 9, 10, 1, 2, 3, 4, 5, 6, 7, 8, 9, 10, 1, 2, 3, 4, 5, 6, 7, 8, 9, 10, 1, 2, 5, 7, 3, 4, 5, 6, 7, 8, 9, 10, 1, 2, 3, 5, 8, 9], \"Freq\": [0.0938232066561635, 0.04020994570978436, 0.562939239936981, 0.013403315236594786, 0.04020994570978436, 0.04020994570978436, 0.21445304378551658, 0.2101321900028096, 0.6303965700084287, 0.131332618751756, 0.07529645445792002, 0.03282153143037539, 0.030890853110941544, 0.034752209749809235, 0.06950441949961847, 0.027029496472073852, 0.10425662924942772, 0.030890853110941544, 0.5193524679277047, 0.07336577613848616, 0.039151716301390194, 0.06960305120247146, 0.039151716301390194, 0.6742795585239422, 0.02175095350077233, 0.06525286050231699, 0.039151716301390194, 0.04350190700154466, 0.0432517802220192, 0.1297553406660576, 0.7785320439963457, 0.7549367673443838, 0.02903602951324553, 0.05807205902649106, 0.05807205902649106, 0.02903602951324553, 0.02903602951324553, 0.02903602951324553, 0.02630270309515162, 0.6312648742836389, 0.341935140236971, 0.4407568027716722, 0.05803559324751555, 0.08626912509765826, 0.13646207060902307, 0.012548236377841202, 0.06117265234197586, 0.13018795242010248, 0.04862441596413466, 0.007842647736150751, 0.01725382501953165, 0.2266621635138995, 0.5439891924333587, 0.0453324327027799, 0.1359972981083397, 0.5384473732451054, 0.016826480413909543, 0.08413240206954771, 0.1177853628973668, 0.10095888248345725, 0.15143832372518587, 0.2495734986751416, 0.5615403720190686, 0.0311966873343927, 0.0623933746687854, 0.09359006200317808, 0.023793478540326776, 0.07307996980243224, 0.010197205088711475, 0.10197205088711475, 0.07647903816533606, 0.028892081084682514, 0.09177484579840328, 0.0135962734516153, 0.15805667887502786, 0.4214844770000743, 0.03730773536251917, 0.135240540689132, 0.04663466920314896, 0.009326933840629792, 0.013990400760944688, 0.02331733460157448, 0.06062506996409365, 0.02331733460157448, 0.027980801521889375, 0.624904567322196, 0.07793768055070044, 0.0375038462800363, 0.053911779027552176, 0.28831081827777905, 0.033987860691282894, 0.011719951962511342, 0.05566977182192888, 0.16114933948453097, 0.17228329384891675, 0.10782355805510435, 0.1504522843044237, 0.04590069690643435, 0.017850271019168914, 0.23205352324919587, 0.025500387170241307, 0.2958044911747991, 0.07140108407667566, 0.03825058075536196, 0.053550813057506745, 0.06885104535965153, 0.14374966417465881, 0.05749986566986352, 0.02874993283493176, 0.02874993283493176, 0.718748320873294, 0.023600784971676107, 0.1321643958413862, 0.12272408185271576, 0.023600784971676107, 0.051921726937687436, 0.3964931875241586, 0.11328376786404531, 0.08024266890369876, 0.02832094196601133, 0.023600784971676107, 0.5405412420003005, 0.06237014330772698, 0.20790047769242326, 0.020790047769242325, 0.14553033438469629, 0.08465674924284326, 0.33862699697137305, 0.5502688700784812, 0.4788591870093918, 0.21180310194646174, 0.0460441525970569, 0.08287947467470243, 0.00920883051941138, 0.03683532207764552, 0.07367064415529104, 0.0460441525970569, 0.5484862913307114, 0.10969725826614227, 0.10969725826614227, 0.18282876377690377, 0.03656575275538076, 0.045613105652220494, 0.6385834791310869, 0.09122621130444099, 0.09122621130444099, 0.1368393169566615, 0.010107354769564557, 0.033691182565215194, 0.04379853733477975, 0.11118090246521013, 0.026952946052172154, 0.5154750932477924, 0.1212882572347747, 0.11455002072173165, 0.023583827795650634, 0.09414708246512804, 0.14906621390311942, 0.07061031184884603, 0.015691180410854672, 0.3242843951576633, 0.04968873796770647, 0.05491913143799136, 0.10199267267055538, 0.12291424655169494, 0.01830637714599712, 0.021530138218810554, 0.06459041465643166, 0.021530138218810554, 0.8827356669712326, 0.5576465142192086, 0.21447942854584948, 0.0857917714183398, 0.0857917714183398, 0.0428958857091699, 0.1683973168140063, 0.07217027863457413, 0.7457595458905993, 0.03957587089164724, 0.03957587089164724, 0.03957587089164724, 0.8706691596162393, 0.047885557067176975, 0.18755176517977648, 0.10375204031221678, 0.023942778533588487, 0.10375204031221678, 0.01596185235572566, 0.0279332416225199, 0.49481742302749543, 0.11112723580245389, 0.3601345604709154, 0.022637029515314683, 0.022637029515314683, 0.20784908918607117, 0.028810764837673232, 0.03498450016003178, 0.19550161854135406, 0.004115823548239033, 0.012347470644717098, 0.05007226396671319, 0.1348099414488432, 0.09895938559101897, 0.10340366937504676, 0.3036927252418995, 0.04503540901148168, 0.11762537748393571, 0.045924265768287245, 0.03940598288504647, 0.06162740180518546, 0.14910929928244107, 0.0763730557300308, 0.06546261919716925, 0.07091783746360002, 0.35277078122918987, 0.05637058875311797, 0.0381865278650154, 0.05273377657549745, 0.07091783746360002, 0.06728102528597951, 0.07875354329892055, 0.07875354329892055, 0.1575070865978411, 0.07875354329892055, 0.5512748030924438, 0.039376771649460275, 0.09872928065486487, 0.02468232016371622, 0.04936464032743244, 0.12341160081858109, 0.02468232016371622, 0.6664226444203379, 0.030712476605939606, 0.4913996256950337, 0.030712476605939606, 0.06142495321187921, 0.030712476605939606, 0.21498733624157723, 0.09213742981781882, 0.12825490134883064, 0.09619117601162297, 0.12825490134883064, 0.6412745067441532, 0.008576758294283244, 0.22728409479850598, 0.06003730805998271, 0.05574892891284109, 0.012865137441424866, 0.43741467300844544, 0.004288379147141622, 0.017153516588566488, 0.09434434123711569, 0.0771908246485492, 0.6511509424724472, 0.0361750523595804, 0.10852515707874119, 0.180875261797902, 0.2040986153334379, 0.14324933871228873, 0.058313890095267974, 0.08240006209113952, 0.030424638310574594, 0.04436926420292128, 0.23705864016989373, 0.06338466314703041, 0.12043085997935778, 0.017747705681168513, 0.039295997703097364, 0.039295997703097364, 0.144085324911357, 0.07859199540619473, 0.013098665901032456, 0.013098665901032456, 0.5632426337443956, 0.0916906613072272, 0.013098665901032456, 0.015737374312592773, 0.42359765858062215, 0.02229461360950643, 0.06294949725037109, 0.28458418548605263, 0.03278619648456828, 0.007868687156296387, 0.12458754664135946, 0.006557239296913655, 0.018360270031358237, 0.03420438116801203, 0.003800486796445781, 0.019002433982228905, 0.4218540344054817, 0.16722141904361437, 0.022802920778674685, 0.007600973592891562, 0.11401460389337344, 0.12161557748626499, 0.08741119631825296, 0.062214508526751436, 0.015553627131687859, 0.062214508526751436, 0.031107254263375718, 0.04666088139506358, 0.777681356584393, 0.10599461725325565, 0.1413261563376742, 0.706630781688371, 0.03533153908441855, 0.04637925513300305, 0.023189627566501524, 0.023189627566501524, 0.04637925513300305, 0.6261199442955412, 0.11594813783250761, 0.0927585102660061, 0.5603601053132543, 0.012181741419853356, 0.1096356727786802, 0.024363482839706713, 0.07309044851912014, 0.170544379877947, 0.048726965679413425, 0.17707293711732466, 0.04892804841399761, 0.011649535336666097, 0.09086637562599556, 0.19105237952132398, 0.06756730495266336, 0.018639256538665754, 0.06290749081799692, 0.27958884807998635, 0.055917769615997266, 0.5868724759628052, 0.0558926167583624, 0.2235704670334496, 0.0279463083791812, 0.0838389251375436, 0.1509241954854995, 0.603696781941998, 0.1509241954854995, 0.11319314661412465, 0.06241564497090634, 0.07732087362067502, 0.04937356990235875, 0.005123672348357983, 0.04890778150705347, 0.22078369937469855, 0.30509139892495263, 0.09502083264227533, 0.03912622520564278, 0.09688398622349641, 0.011773253042531977, 0.035319759127595926, 0.05494184753181589, 0.058866265212659884, 0.494476627786343, 0.023546506085063954, 0.07456393593603584, 0.09811044202109981, 0.027470923765907946, 0.12558136578700774, 0.033057979190692574, 0.033057979190692574, 0.09917393757207771, 0.06611595838138515, 0.033057979190692574, 0.1322319167627703, 0.5950436254324662, 0.033057979190692574, 0.0387501535276511, 0.3189435713429744, 0.11326967954236473, 0.2146162349223753, 0.08048108809589073, 0.05663483977118237, 0.014903905202942729, 0.11326967954236473, 0.03576937248706255, 0.014903905202942729, 0.16868593097007167, 0.506057792910215, 0.02108574137125896, 0.12651444822755376, 0.06325722411377688, 0.08434296548503584, 0.04217148274251792, 0.5327695489743591, 0.04439746241452993, 0.014799154138176644, 0.11839323310541315, 0.014799154138176644, 0.16279069551994307, 0.07399577069088321, 0.014799154138176644, 0.029598308276353288, 0.04150727028836597, 0.04150727028836597, 0.020753635144182984, 0.7471308651905875, 0.020753635144182984, 0.04150727028836597, 0.04150727028836597, 0.04150727028836597, 0.027395078037952877, 0.09290504725914454, 0.021439626290571816, 0.432365796859865, 0.061936698172763024, 0.02858616838742909, 0.004764361397904848, 0.030968349086381512, 0.01191090349476212, 0.28943495492271953, 0.041017293241830774, 0.18047609026405542, 0.4675971429568708, 0.03281383459346462, 0.008203458648366154, 0.008203458648366154, 0.11484842107712617, 0.06562766918692924, 0.08203458648366155, 0.0345302423305475, 0.0345302423305475, 0.13812096932219, 0.759665331272045, 0.069060484661095, 0.09150139530314189, 0.7320111624251351, 0.18300279060628377, 0.5495948706956751, 0.13739871767391879, 0.13739871767391879, 0.06869935883695939, 0.06869935883695939, 0.17127939898881864, 0.10169714314961106, 0.05887729340240641, 0.013381203046001456, 0.02408616548280262, 0.0615535340116067, 0.07761097766680845, 0.02140992487360233, 0.44425594112724837, 0.032114887310403496, 0.10094950783709568, 0.13459934378279426, 0.033649835945698564, 0.033649835945698564, 0.033649835945698564, 0.033649835945698564, 0.6056970470225741, 0.02485365585771121, 0.144151203974725, 0.7008730951874561, 0.07456096757313363, 0.009941462343084484, 0.01988292468616897, 0.01988292468616897, 0.004970731171542242, 0.02694332548681518, 0.02694332548681518, 0.08082997646044553, 0.05388665097363036, 0.8082997646044553, 0.027714177303776007, 0.08314253191132803, 0.6097119006830722, 0.11085670921510403, 0.055428354607552015, 0.13857088651888005, 0.3257209654169459, 0.07784526217511914, 0.08808805982974008, 0.040971190618483755, 0.03482551202571119, 0.004097119061848376, 0.0512139882731047, 0.08399094076789171, 0.2908954533912347, 0.03437102120304492, 0.15123249329339766, 0.029215368022588183, 0.04124522544365391, 0.056712184985024124, 0.046400878624110645, 0.020622612721826954, 0.565403298790089, 0.0446823275639584, 0.00859275530076123, 0.1084472379871487, 0.0692216412683928, 0.08998813364891063, 0.3276491020037259, 0.0853733575643511, 0.16382455100186294, 0.032303432591916634, 0.013844328253678559, 0.0692216412683928, 0.04384037280331543, 0.48516112786014615, 0.114734050507467, 0.03933738874541726, 0.029503041559062942, 0.0229468101014934, 0.11145593477868222, 0.01966869437270863, 0.0032781157287847715, 0.1376808606089604, 0.03933738874541726, 0.15675993785946699, 0.3401394878082774, 0.04732375482549946, 0.08577430562121778, 0.04140828547231203, 0.014788673382968583, 0.035492816119124596, 0.0887320402978115, 0.1478867338296858, 0.04436602014890575, 0.03665560019065327, 0.7331120038130653, 0.21993360114391958, 0.6731442185418683, 0.016027243298615913, 0.03205448659723183, 0.09616345979169548, 0.04808172989584774, 0.03205448659723183, 0.09616345979169548, 0.10524629593539396, 0.03420504617900304, 0.04999199056931213, 0.028942731382233338, 0.007893472195154547, 0.5683299980511274, 0.015786944390309095, 0.05525430536608183, 0.07893472195154547, 0.057885462764466676, 0.4293387657856136, 0.056427380646109214, 0.025760325947136817, 0.035573783450807986, 0.02453364375917792, 0.052747334082232526, 0.1852290103817933, 0.09813457503671168, 0.06256079158590369, 0.028213690323054607, 0.5422827408035228, 0.0159494923765742, 0.1116464466360194, 0.1275959390125936, 0.0159494923765742, 0.0637979695062968, 0.0159494923765742, 0.0956969542594452, 0.23607282506587662, 0.7475639460419427, 0.15868177535457656, 0.09067530020261517, 0.06800647515196138, 0.04533765010130759, 0.022668825050653794, 0.022668825050653794, 0.5893894513169986, 0.05421709021032697, 0.0719206298708419, 0.16707715554610963, 0.07413357232840627, 0.11949889270847577, 0.03983296423615859, 0.2224007169852188, 0.03430060809224768, 0.0520041477527626, 0.16486421308854526, 0.6157080864451121, 0.15392702161127803, 0.15392702161127803, 0.04397914903179372, 0.012119702902778912, 0.10734593999604179, 0.10734593999604179, 0.1627502961230311, 0.02250801967658941, 0.22161742450795724, 0.3029925725694728, 0.034627722579368324, 0.012119702902778912, 0.015582475160715745, 0.16190685031960522, 0.058286466115057875, 0.019428822038352625, 0.012952548025568417, 0.025905096051136833, 0.12952548025568417, 0.4468629068821104, 0.0777152881534105, 0.07123901414062629, 0.23010775768658254, 0.023010775768658252, 0.644301721522431, 0.046021551537316505, 0.023010775768658252, 0.023010775768658252, 0.6857094062471115, 0.03265282886891007, 0.26122263095128057, 0.14854168633834122, 0.07427084316917061, 0.14854168633834122, 0.04456250590150237, 0.5793125767195308, 0.6881693923256881, 0.058985947913630404, 0.058985947913630404, 0.11797189582726081, 0.058985947913630404, 0.02511640531850128, 0.08790741861475448, 0.01255820265925064, 0.7534921595550385, 0.05023281063700256, 0.02511640531850128, 0.03767460797775192, 0.7381663018214734, 0.1968443471523929, 0.06391905216514329, 0.10227048346422926, 0.14062191476331523, 0.5752714694862896, 0.025567620866057315, 0.07670286259817194, 0.012783810433028658, 0.18905015954559157, 0.004847439988348501, 0.03393207991843951, 0.02908463993009101, 0.004847439988348501, 0.20359247951063705, 0.024237199941742508, 0.4411170389397136, 0.05816927986018202, 0.009694879976697003, 0.1266762991106369, 0.8022832277007005, 0.04222543303687897, 0.8042682312682655, 0.1419296878708704, 0.688189173562372, 0.09175855647498292, 0.04587927823749146, 0.1376378347124744, 0.0583010195712001, 0.04164358540800007, 0.15546938552320025, 0.09161588789760015, 0.4192120931072007, 0.03331486832640006, 0.013881195136000023, 0.049972302489600086, 0.10549708303360017, 0.03331486832640006, 0.019569910085572295, 0.010872172269762385, 0.31420577859613297, 0.05544807857578817, 0.17069310463526946, 0.1630825840464358, 0.04892477521393074, 0.09676233320088523, 0.016308258404643578, 0.10328563656274267, 0.10521449724363093, 0.1578217458654464, 0.02630362431090773, 0.02630362431090773, 0.02630362431090773, 0.6575906077726933, 0.5300294250286208, 0.16308597693188334, 0.20385747116485417, 0.08154298846594167, 0.08273697431554644, 0.03265933196666307, 0.08491426311332398, 0.013063732786665228, 0.006531866393332614, 0.06749595273110368, 0.01088644398888769, 0.023950176775552917, 0.579158820208825, 0.0979779958999892, 0.10170563688013856, 0.033901878960046185, 0.2373131527203233, 0.6102338212808314, 0.05551130316346185, 0.06938912895432732, 0.013877825790865463, 0.1526560836995201, 0.08326695474519279, 0.5828686832163494, 0.013877825790865463, 0.013877825790865463, 0.089779050381577, 0.0648404252755834, 0.3375027264344469, 0.04322695018372227, 0.1911961258126177, 0.023276050098927373, 0.09975450042397445, 0.09144162538864326, 0.049877250211987224, 0.008312875035331204, 0.016009203749780144, 0.04002300937445036, 0.06403681499912058, 0.4122369965568387, 0.016009203749780144, 0.060034514061675544, 0.10405982437357093, 0.048027611249340435, 0.09605522249868087, 0.1440828337480213, 0.02447288402898284, 0.08565509410143994, 0.061182210072457104, 0.03670932604347426, 0.5139305646086396, 0.15907374618838846, 0.11012797813042279, 0.01223644201449142, 0.7032162361558553, 0.029300676506493973, 0.14650338253246986, 0.029300676506493973, 0.029300676506493973, 0.058601353012987946, 0.07532951819014523, 0.435237216209728, 0.004184973232785846, 0.06695957172457354, 0.008369946465571692, 0.06695957172457354, 0.08788443788850277, 0.11299427728521785, 0.012554919698357538, 0.1255491969835754, 0.11552217746091162, 0.0423581317356676, 0.07701478497394108, 0.0211790658678338, 0.02214175068000806, 0.13862661295309395, 0.11841023189743441, 0.007701478497394108, 0.14440272182613953, 0.3119098791444614, 0.05606705425360794, 0.052062264664064516, 0.11327833410422829, 0.032610429514853594, 0.1338743948504516, 0.38960881578272455, 0.03833155749991563, 0.06979776141775682, 0.09668706294754838, 0.0165912711566799, 0.6745516943813904, 0.2623256589260963, 0.03747509413229947, 0.06266436561890865, 0.03317525238648105, 0.11427031377565695, 0.0958396180053897, 0.0368613915405345, 0.07740892223512245, 0.0073722783081069, 0.07740892223512245, 0.0147445566162138, 0.4791980900269485, 0.17003438432435228, 0.25505157648652843, 0.5951203451352329, 0.029896221208872222, 0.1494811060443611, 0.029896221208872222, 0.7175093090129333, 0.08968866362661666, 0.03617626288065835, 0.5426439432098753, 0.10852878864197506, 0.32558636592592516, 0.25780533305989217, 0.7304484436696945, 0.9477278788377261, 0.039488661618238594, 0.030902467810342765, 0.8549682760861499, 0.030902467810342765, 0.07210575822413312, 0.010300822603447588, 0.07528825312467363, 0.17567259062423848, 0.056466189843505224, 0.02509608437489121, 0.10665835859328764, 0.018822063281168408, 0.539565814060161, 0.05731289415170141, 0.21205770836129523, 0.19128178423130346, 0.0243579800144731, 0.0487159600289462, 0.0687754729820417, 0.08525293005065585, 0.18555049481613334, 0.08453651887375958, 0.04226825943687979, 0.03372731539895895, 0.08546158732448074, 0.03344149069218812, 0.04573195308333417, 0.5204867910296971, 0.04201623189531327, 0.14691389928021104, 0.02572422360937547, 0.035728088346354825, 0.030583243624479728, 0.03675770392738065, 0.8454271903297549, 0.0735154078547613, 0.05530984106762668, 0.02765492053381334, 0.02765492053381334, 0.01382746026690667, 0.2627217450712267, 0.01382746026690667, 0.02765492053381334, 0.5807533312100801, 0.032261623980355786, 0.032261623980355786, 0.7258865395580052, 0.09678487194106737, 0.11291568393124526, 0.04519384799549612, 0.6779077199324418, 0.09038769599099224, 0.18077539198198447, 0.017068949292957995, 0.03299996863305212, 0.022758599057277326, 0.011379299528638663, 0.7510337688901517, 0.004551719811455465, 0.03641375849164372, 0.05462063773746558, 0.030724108727324388, 0.03755168844450758, 0.10946262344317319, 0.008209696758237989, 0.24081777157498102, 0.4118531207049391, 0.0506264633424676, 0.046521614963348605, 0.0862018159614989, 0.015051110723436314, 0.004104848379118994, 0.025997373067753633, 0.07477453557486663, 0.3801038891722387, 0.01557802824476388, 0.009346816946858329, 0.006231211297905552, 0.3442744242092818, 0.05608090168114997, 0.020251436718193044, 0.07633233839934302, 0.018693633893716657, 0.16220253514088293, 0.08110126757044146, 0.013516877928406912, 0.08785970653464492, 0.03379219482101728, 0.03379219482101728, 0.09461814549884838, 0.4933660443868523, 0.5878140179115507, 0.24492250746314617, 0.1469535044778877, 0.05461020676433944, 0.018203402254779812, 0.782746296955532, 0.05461020676433944, 0.07281360901911925, 0.030607876573431104, 0.030607876573431104, 0.06121575314686221, 0.030607876573431104, 0.06121575314686221, 0.12243150629372442, 0.030607876573431104, 0.6121575314686221, 0.016201631540579242, 0.06480652616231697, 0.016201631540579242, 0.5508554723796942, 0.032403263081158484, 0.016201631540579242, 0.06480652616231697, 0.06480652616231697, 0.16201631540579242, 0.11990491024231323, 0.039968303414104414, 0.7993660682820882, 0.039968303414104414, 0.037197984485999896, 0.10111564796898563, 0.05343935799397168, 0.5055782398449282, 0.11578527565360532, 0.02619576372253514, 0.03929364558380271, 0.006286983293408433, 0.04610454415166185, 0.06915681622749277, 0.08222105577140783, 0.020555263942851957, 0.13360921562853773, 0.020555263942851957, 0.6063802863141328, 0.020555263942851957, 0.030832895914277937, 0.020555263942851957, 0.07194342379998185, 0.05033262997129455, 0.12354372811135936, 0.11439234084385125, 0.11439234084385125, 0.00457569363375405, 0.4346908952066348, 0.0366055490700324, 0.0183027745350162, 0.10524095357634315, 0.05696503459518857, 0.11393006919037714, 0.028482517297594285, 0.11393006919037714, 0.59813286324948, 0.08544755189278286, 0.0639121672802883, 0.0639121672802883, 0.023967062730108114, 0.09187374046541442, 0.13581335547061263, 0.09054223698040842, 0.3914620245917658, 0.05858615334026428, 0.03195608364014415, 0.04793412546021623, 0.7881177333966425, 0.10747060000863307, 0.07164706667242204, 0.02393678815986359, 0.5026725513571354, 0.035905182239795386, 0.02393678815986359, 0.11968394079931796, 0.04787357631972718, 0.05984197039965898, 0.011968394079931796, 0.17952591119897693, 0.056960687106599184, 0.07594758280879892, 0.01898689570219973, 0.056960687106599184, 0.6075806624703913, 0.07594758280879892, 0.03797379140439946, 0.03797379140439946, 0.01898689570219973, 0.21311685423635549, 0.042623370847271094, 0.08524674169454219, 0.042623370847271094, 0.5967271918617953, 0.06399965515612288, 0.01599991378903072, 0.01599991378903072, 0.14399922410127647, 0.12799931031224576, 0.04799974136709216, 0.5919968101941366, 0.06933159471553996, 0.08440368052326604, 0.024115337292361722, 0.009043251484635646, 0.030144171615452155, 0.0060288343230904306, 0.10249018349253733, 0.009043251484635646, 0.23211012143898158, 0.434076071262511, 0.023578689815638654, 0.011789344907819327, 0.03536803472345798, 0.6955713495613403, 0.023578689815638654, 0.11789344907819325, 0.07073606944691596, 0.023578689815638654, 0.07735867156059334, 0.5930831486312157, 0.025786223853531114, 0.10314489541412446, 0.025786223853531114, 0.15471734312118668, 0.33221971497459396, 0.6229119655773637, 0.11201740257104265, 0.016002486081577522, 0.032004972163155045, 0.032004972163155045, 0.032004972163155045, 0.7841218179972985, 0.13697981202718312, 0.03424495300679578, 0.03424495300679578, 0.6164091541223241, 0.1712247650339789, 0.02765760288448314, 0.05531520576896628, 0.1382880144224157, 0.02765760288448314, 0.11063041153793256, 0.6084672634586291, 0.02765760288448314, 0.05531520576896628, 0.009310395567391333, 0.10800058858173946, 0.040965740496521866, 0.07820732276608719, 0.0614486107447828, 0.05400029429086973, 0.26813939234087036, 0.19924246514217453, 0.12475930060304385, 0.055862373404348, 0.12249725482964766, 0.040832418276549216, 0.040832418276549216, 0.08166483655309843, 0.6941511107013367, 0.07456012773483506, 0.14912025546967012, 0.6710411496135155, 0.07456012773483506, 0.11219688705392616, 0.07908960890686598, 0.14530416520098635, 0.1434648719705941, 0.003678586460784464, 0.012875052612745625, 0.2354295334902057, 0.12691123289706402, 0.02758939845588348, 0.11403618028431839, 0.07067900814157438, 0.10943846421921194, 0.0592791681187398, 0.01595977603196841, 0.08663878417354279, 0.19607724839275473, 0.02507964805023607, 0.018239744036535322, 0.3579549767170057, 0.06155913612330671, 0.06539481721950019, 0.09616884885220617, 0.06924157117358844, 0.015387015816352987, 0.26542602283208905, 0.015387015816352987, 0.08462858698994143, 0.019233769770441233, 0.3615948716842952, 0.003846753954088247, 0.03772918120046033, 0.5659377180069048, 0.07545836240092066, 0.03772918120046033, 0.03772918120046033, 0.22637508720276195, 0.02096554458591423, 0.23760950530702796, 0.00698851486197141, 0.02795405944788564, 0.04193108917182846, 0.5311271295098272, 0.09783920806759974, 0.01397702972394282, 0.02096554458591423, 0.0816627654452847, 0.6533021235622776, 0.13610460907547448, 0.027220921815094896, 0.0816627654452847, 0.051080028181542385, 0.07662004227231357, 0.025540014090771192, 0.07662004227231357, 0.07662004227231357, 0.5874203240877375, 0.051080028181542385, 0.07662004227231357, 0.06822566162697098, 0.035213244710694695, 0.004401655588836837, 0.05502069486046047, 0.09243476736557359, 0.035213244710694695, 0.024209105738602604, 0.03741407250511312, 0.620633438025994, 0.022008277944184185, 0.027453538731424275, 0.4873003124827809, 0.04804369277999248, 0.05490707746284855, 0.06863384682856069, 0.14413107833997746, 0.14413107833997746, 0.020590154048568208, 0.013726769365712137, 0.06710826716562021, 0.05816049821020418, 0.017895537910832055, 0.14316430328665644, 0.044738844777080136, 0.004473884477708014, 0.017895537910832055, 0.5681833286689177, 0.04921272925478815, 0.026843306866248084, 0.006112694176824, 0.134479271890128, 0.006112694176824, 0.018338082530472002, 0.036676165060944003, 0.7029598303347601, 0.030563470884120002, 0.018338082530472002, 0.042788859237768, 0.9278990873095496, 0.05705620514873572, 0.11411241029747143, 0.019018735049578572, 0.038037470099157145, 0.7227119318839857, 0.038037470099157145, 0.12357968872106018, 0.032238179666363526, 0.01074605988878784, 0.04298423955515136, 0.037611209610757444, 0.02149211977757568, 0.08059544916590881, 0.037611209610757444, 0.5910332938833313, 0.026865149721969604, 0.25658385407027884, 0.10996450888726235, 0.03665483629575412, 0.5864773807320659, 0.04413373406029893, 0.07872503913458728, 0.10019550435311109, 0.02445247427665211, 0.10377391522286505, 0.012524438044138886, 0.008946027174384918, 0.04890494855330422, 0.08051424456946427, 0.4968027090841758, 0.03127747511197315, 0.1251099004478926, 0.0625549502239463, 0.1251099004478926, 0.625549502239463, 0.2719531948781934, 0.5892319222360857, 0.0453255324796989, 0.0453255324796989, 0.08377870331552115, 0.013228216312977024, 0.03968464893893107, 0.030865838063613055, 0.03968464893893107, 0.01763762175063603, 0.555585085145035, 0.09259751419083917, 0.048503459814249084, 0.07495989244020314, 0.21427442661589569, 0.10143168123829381, 0.05705532069654027, 0.03296529640244549, 0.09002061709898576, 0.26372237121956393, 0.10016378522281515, 0.04437636054175354, 0.06846638483584833, 0.026625816325052128, 0.08387998350859521, 0.4753199065487062, 0.1025199798438386, 0.03727999267048676, 0.03727999267048676, 0.07455998534097352, 0.07455998534097352, 0.12115997617908197, 0.028753313916236416, 0.36159470531024585, 0.2420796681735662, 0.025558501258876813, 0.07028587846191124, 0.05939447167545805, 0.027301126344709322, 0.07870856637676837, 0.033981189173733946, 0.07217372230489645, 0.009050043713604839, 0.07918788249404235, 0.14706321034607864, 0.0667440723878357, 0.04072519671122178, 0.4185645217542238, 0.053169006817428435, 0.03506891939021876, 0.12896312291886897, 0.02036259835561089, 0.2407322955405936, 0.0401220492567656, 0.7221968866217808, 0.04197202246787024, 0.19936710672238364, 0.08919054774422426, 0.01049300561696756, 0.01573950842545134, 0.00524650280848378, 0.48267825838050776, 0.06295803370180536, 0.07345103931877292, 0.01573950842545134, 0.018609959320350308, 0.055829877961050926, 0.18609959320350308, 0.6699585355326111, 0.07443983728140123, 0.07043235391432676, 0.030185294534711464, 0.06707843229935881, 0.051147304628261094, 0.112356374101426, 0.0452779418020672, 0.07378627552929469, 0.09139436400787639, 0.10229460925652219, 0.35635417159034366, 0.024874202043833737, 0.5969808490520097, 0.34823882861367234, 0.11367631807193974, 0.011367631807193974, 0.01705144771079096, 0.11367631807193974, 0.05115434313237288, 0.6081683016848777, 0.011367631807193974, 0.028419079517984936, 0.05115434313237288, 0.057090379446051887, 0.014272594861512972, 0.014272594861512972, 0.028545189723025943, 0.7707201225217004, 0.0999081640305908, 0.04224114124162569, 0.05913759773827597, 0.04224114124162569, 0.025344684744975414, 0.675858259866011, 0.025344684744975414, 0.05913759773827597, 0.016896456496650277, 0.05068936948995083, 0.015015534698225065, 0.015015534698225065, 0.03003106939645013, 0.03003106939645013, 0.09009320818935039, 0.015015534698225065, 0.19520195107692587, 0.5856058532307775, 0.015015534698225065, 0.5234727446534466, 0.06952372389928588, 0.14313707861617683, 0.04498593899365557, 0.02044815408802526, 0.04498593899365557, 0.028627415723235364, 0.012268892452815157, 0.04089630817605052, 0.07361335471689094, 0.12236106293824002, 0.06118053146912001, 0.0031959979125659706, 0.1657353203230639, 0.013697133910997018, 0.09405365285551286, 0.053875393383254935, 0.2657243978733421, 0.17212731614819585, 0.047483397558122996, 0.20438982065917458, 0.6131694619775238, 0.16351185652733966, 0.13013875087696083, 0.5639345871334969, 0.04337958362565361, 0.21689791812826803, 0.04337958362565361, 0.04286681071814142, 0.08573362143628284, 0.6430021607721212, 0.04286681071814142, 0.2143340535907071, 0.5405251957029243, 0.19914086157476157, 0.028448694510680227, 0.11379477804272091, 0.11379477804272091, 0.2544782855817646, 0.056329828839713526, 0.06693309073895372, 0.0934412454870542, 0.08681420680002908, 0.1318780698717999, 0.06693309073895372, 0.033797897303828116, 0.08084987198170647, 0.12790184665958482, 0.44998953612934106, 0.04615277293634267, 0.069229159404514, 0.030768515290895113, 0.023076386468171336, 0.034614579702257, 0.23460992909307526, 0.038460644113618894, 0.05384490175906645, 0.019230322056809447, 0.11376786809446938, 0.05783996655223023, 0.019598666352408593, 0.16634965586922415, 0.04684559274478151, 0.02772494264487069, 0.08986705546958086, 0.03585121893733279, 0.30258428783108876, 0.139580745729349, 0.20528717838282518, 0.19958475676108003, 0.08496608216400264, 0.03136331891959829, 0.08496608216400264, 0.12146158054317156, 0.029652592433074748, 0.08781729297487521, 0.03250380324394732, 0.12146158054317156, 0.22669389573659826, 0.6267419470364776, 0.02666987008665862, 0.01333493504332931, 0.01333493504332931, 0.01333493504332931, 0.04000480512998793, 0.02666987008665862, 0.07638411548426238, 0.22915234645278712, 0.6492649816162301, 0.03819205774213119, 0.38946251885342215, 0.04046363832243347, 0.09104318622547532, 0.1264488697576046, 0.020231819161216736, 0.015173864370912553, 0.05057954790304184, 0.1264488697576046, 0.09104318622547532, 0.05057954790304184, 0.040268651450110424, 0.1610746058004417, 0.5637611203015459, 0.1610746058004417, 0.022073597912915445, 0.47458235512768204, 0.17107038382509468, 0.08277599217343291, 0.016555198434686582, 0.20418078069446785, 0.022073597912915445, 0.005518399478228861, 0.03741403275321861, 0.06235672125536436, 0.012471344251072871, 0.012471344251072871, 0.1870701637660931, 0.024942688502145743, 0.06235672125536436, 0.5861531798004249, 0.0029363956954023412, 0.11745582781609365, 0.13801059768391002, 0.06460070529885151, 0.02055476986781639, 0.02349116556321873, 0.014681978477011706, 0.0029363956954023412, 0.017618374172414047, 0.6019611175574799, 0.13211772083273096, 0.0571319873871269, 0.014282996846781726, 0.049990488963736035, 0.12854697162103554, 0.06070273659882233, 0.32850892747597965, 0.042848990540345175, 0.15711296531459898, 0.032136742905258885, 0.01067104034921814, 0.14282777082799664, 0.047609256942665545, 0.4752717201690233, 0.027088025501861433, 0.05910114654951585, 0.12641078567535335, 0.058280297291883686, 0.03365481956291875, 0.018879532925539785, 0.03709776943364084, 0.43280731005914314, 0.04791795218511942, 0.006182961572273474, 0.06492109650887147, 0.058738134936598, 0.052555173364324526, 0.04173499061284595, 0.05719239454352963, 0.2009462510988879, 0.12486397610667863, 0.4994559044267145, 0.12486397610667863, 0.20810662684446438, 0.013401178731110613, 0.01148672462666624, 0.12635397089332864, 0.017230086939999358, 0.19144541044443733, 0.024887903357776853, 0.08040707238666368, 0.39820645372442964, 0.003828908208888747, 0.13209733320666175, 0.018959762520857765, 0.0907360063498193, 0.0027085375029796805, 0.017605493769367923, 0.029793912532776485, 0.029793912532776485, 0.6026495944129789, 0.11646711262812627, 0.010834150011918722, 0.08125612508939042, 0.013048128946905586, 0.05545454802434874, 0.06197861249780153, 0.019572193420358378, 0.10275401545688148, 0.0929679187467023, 0.1598395795995934, 0.0994919832201551, 0.353930497684814, 0.04077540295907996, 0.045726420316183694, 0.059917378345344156, 0.04099610097313021, 0.04020771441595463, 0.0953947734182453, 0.36265781630076727, 0.10643218521870343, 0.1371792609485511, 0.0953947734182453, 0.0165561177006872, 0.0674474072026038, 0.03035133324117171, 0.1315224440450774, 0.02360659252091133, 0.11971914778462174, 0.02360659252091133, 0.1989698512476812, 0.02360659252091133, 0.28833766579113124, 0.09274018490358023, 0.07873175838443251, 0.07873175838443251, 0.052487838922955006, 0.026243919461477503, 0.7610736643828475, 0.5880951310242677, 0.011100788966481564, 0.11446146845438768, 0.0957134693109966, 0.010854104767226418, 0.05871083942272472, 0.05205036604283578, 0.010854104767226418, 0.04612994526071228, 0.011840841564247001, 0.575734478227429, 0.04797787318561908, 0.14393361955685724, 0.07196680977842862, 0.02398893659280954, 0.07196680977842862, 0.04797787318561908, 0.19768752049971097, 0.03154588093080494, 0.37434445371221864, 0.0925345840636945, 0.05257646821800824, 0.08622540787753351, 0.07360705550521153, 0.014721411101042307, 0.07571011423393186, 0.05163357279712103, 0.8777707375510576, 0.07082149152294974, 0.49575044066064816, 0.07082149152294974, 0.07082149152294974, 0.07082149152294974, 0.07082149152294974, 0.10623223728442462, 0.03541074576147487, 0.04239126892517637, 0.05086952271021164, 0.01695650757007055, 0.2161954715183995, 0.39847792789665787, 0.19923896394832893, 0.02543476135510582, 0.021195634462588184, 0.021195634462588184, 0.008478253785035274, 0.0607622606729678, 0.37360776106832, 0.14833568672681346, 0.15926415087662782, 0.03788534238602309, 0.014279859822424088, 0.06921360628215757, 0.05114521222113117, 0.030599699619480187, 0.05507945931506434, 0.017491619166747064, 0.017491619166747064, 0.026237428750120598, 0.03498323833349413, 0.061220667083614726, 0.44603628875205015, 0.2973575258347001, 0.008745809583373532, 0.09620390541710885, 0.1600634801655208, 0.06402539206620832, 0.03201269603310416, 0.6722666166951874, 0.06402539206620832, 0.038924036296642775, 0.5449365081529988, 0.038924036296642775, 0.35031632666978496, 0.07100546048281349, 0.11277337841388026, 0.05429829331038679, 0.03341433434485341, 0.04176791793106676, 0.48033105620726774, 0.10024300303456023, 0.029237542551746733, 0.05012150151728011, 0.029237542551746733, 0.05853405415808535, 0.02310554769398106, 0.026186287386511867, 0.04467072554169672, 0.010782588923857828, 0.0385092461566351, 0.009242219077592423, 0.018484438155184846, 0.7717252929789674, 0.022478291364521508, 0.06743487409356452, 0.08991316545808603, 0.13486974818712905, 0.022478291364521508, 0.6069138668420807, 0.022478291364521508, 0.011140695090017633, 0.04456278036007053, 0.04456278036007053, 0.7798486563012342, 0.022281390180035266, 0.0334220852700529, 0.011140695090017633, 0.011140695090017633, 0.0334220852700529, 0.8175780031193168, 0.1532958755848719, 0.5265677776163102, 0.019502510282085567, 0.1755225925387701, 0.039005020564171135, 0.0585075308462567, 0.13651757197459896, 0.039005020564171135, 0.010489091091354305, 0.010489091091354305, 0.6083672832985497, 0.1888036396443775, 0.031467273274062915, 0.06293454654812583, 0.06293454654812583, 0.010489091091354305, 0.008654585517011794, 0.017309171034023588, 0.008654585517011794, 0.05192751310207076, 0.18174629585724766, 0.5712026441227783, 0.034618342068047175, 0.12981878275517691, 0.036159280557045724, 0.013907415598863741, 0.0639741117547732, 0.019470381838409236, 0.019470381838409236, 0.10569635855136443, 0.17523343654568313, 0.5618595901940951, 0.002781483119772748, 0.2847573243105133, 0.5695146486210266, 0.09491910810350443, 0.546379046377527, 0.23904083279016805, 0.2048921423915726, 0.008988952184227461, 0.020225142414511788, 0.4089973243823495, 0.0044944760921137306, 0.08314780770410402, 0.1483177110397531, 0.031461332644796114, 0.0044944760921137306, 0.2853992318492219, 0.0044944760921137306, 0.2782518802210632, 0.009446823093924984, 0.5058344365747105, 0.07471578265195214, 0.027911068232051087, 0.05152812596686355, 0.00601161469613408, 0.03220507872928972, 0.00901742204420112, 0.005582213646410218, 0.6354942925162845, 0.026478928854845186, 0.1853525019839163, 0.13239464427422593, 0.5972739988298453, 0.07465924985373067, 0.26130737448805735, 0.07465924985373067, 0.03401250098839335, 0.0680250019767867, 0.1360500039535734, 0.0680250019767867, 0.7142625207562603, 0.06910194138891962, 0.051826456041689714, 0.6391929578475065, 0.017275485347229905, 0.10365291208337943, 0.10365291208337943, 0.48509477645713844, 0.08623907137015795, 0.1293586070552369, 0.1509183748977764, 0.010779883921269743, 0.03233965176380923, 0.09701895529142769, 0.08119859509196213, 0.7713866533736402, 0.08119859509196213, 0.040599297545981065, 0.16999575359202035, 0.1019974521552122, 0.6119847129312732, 0.1019974521552122, 0.04302865514179893, 0.17211462056719573, 0.04302865514179893, 0.04302865514179893, 0.04302865514179893, 0.6024011719851851, 0.08339847181070006, 0.04169923590535003, 0.6671877744856005, 0.20849617952675017, 0.3318293820183806, 0.030166307456216415, 0.6334924565805448, 0.03682674088698676, 0.6997080768527484, 0.03682674088698676, 0.14730696354794703, 0.03682674088698676, 0.011690627301066212, 0.023381254602132424, 0.011690627301066212, 0.13093502577194158, 0.07248188926661052, 0.5705026122920311, 0.14028752761279453, 0.004676250920426485, 0.03507188190319863, 0.0276162150268691, 0.6627891606448584, 0.1656972901612146, 0.1104648601074764, 0.5583426151513418, 0.13958565378783544, 0.2791713075756709, 0.47828585636807314, 0.0443918010401505, 0.07231567588798711, 0.1940351303529159, 0.04224381066723999, 0.048687781785971516, 0.040811817085299656, 0.029355868429776943, 0.04224381066723999, 0.008591961491642033, 0.13704932953482651, 0.030682685716752204, 0.18409611430051323, 0.13704932953482651, 0.05318332190903716, 0.02045512381116814, 0.3150089066919893, 0.07159293333908848, 0.03681922286010265, 0.014318586667817696, 0.07850922468891636, 0.18043348130259723, 0.0633583216787746, 0.002754709638207591, 0.04683006384952905, 0.1267166433575492, 0.14875432046320994, 0.2231314806948149, 0.08677335360353912, 0.04269799939221766, 0.04049732348490495, 0.10388443850475618, 0.4327931353299842, 0.08134679760880907, 0.03134140687092644, 0.03521506389991735, 0.07078227843883388, 0.04225807667990082, 0.1317043389856909, 0.03028495495392892, 0.0254090779433452, 0.0254090779433452, 0.0508181558866904, 0.8639086500737369, 0.0254090779433452, 0.0254090779433452, 0.023625289467651706, 0.04725057893530341, 0.031500385956868944, 0.015750192978434472, 0.12600154382747578, 0.09450115787060683, 0.07875096489217236, 0.5433816577559892, 0.03937548244608618, 0.05634062969793805, 0.7042578712242257, 0.08451094454690708, 0.028170314848969025, 0.1126812593958761, 0.22796836145957522, 0.07598945381985842, 0.07598945381985842, 0.03799472690992921, 0.6079156305588673, 0.05469047089364691, 0.06250339530702505, 0.042537032917280934, 0.08594216854715943, 0.17275243980691643, 0.18664208320847755, 0.1072106850057999, 0.15191797470457474, 0.06771201158261046, 0.06814606293890925, 0.037940688511531546, 0.44178394927834186, 0.16333787935472902, 0.03343925089151933, 0.04608614706202984, 0.04072729275249149, 0.0257225006857841, 0.02422202147911336, 0.1318278160146435, 0.05487466812967274, 0.11689257764508564, 0.07013554658705139, 0.046757031058034255, 0.5844628882254282, 0.1636496087031199, 0.12169797207642391, 0.13485450959819947, 0.0953848970328728, 0.06358993135524853, 0.09757765328650206, 0.09867403141331668, 0.027409453170365746, 0.12169797207642391, 0.04495150319939982, 0.19405892844618947, 0.02743473788575892, 0.01371736894287946, 0.01371736894287946, 0.02743473788575892, 0.08230421365727675, 0.7133031850297319, 0.02743473788575892, 0.08230421365727675, 0.5541076970733042, 0.05037342700666402, 0.10074685401332804, 0.3022405620399841, 0.035035679426168025, 0.15182127751339478, 0.05605708708186884, 0.21955692440398628, 0.08525348660367553, 0.07240707081408058, 0.01401427177046721, 0.12612844593420489, 0.11444988612548221, 0.12262487799158808, 0.03386705063050591, 0.02167491240352378, 0.03386705063050591, 0.07179814733667253, 0.01896554835308331, 0.1449509766985653, 0.01083745620176189, 0.09618242379063678, 0.4863308470540649, 0.08263560353843442, 0.08869366169994464, 0.11825821559992619, 0.08869366169994464, 0.650420185799594, 0.029564553899981548, 0.029564553899981548, 0.037724314532013255, 0.5281404034481856, 0.1886215726600663, 0.15089725812805302, 0.037724314532013255, 0.037724314532013255, 0.33716169383984557, 0.2603086606851749, 0.011156085457936065, 0.06321781759497104, 0.0991652040705428, 0.11403998468112422, 0.013635215559699636, 0.06445738264585282, 0.01239565050881785, 0.023551735966753917, 0.03384505942898304, 0.3353737707053774, 0.0830742367802311, 0.06769011885796608, 0.018460941506718023, 0.04922917735124806, 0.22460812166506927, 0.02461458867562403, 0.05538282452015406, 0.10768882545585513, 0.011704241774169772, 0.08310011659660539, 0.014045090129003727, 0.11938326609653169, 0.15215514306420705, 0.11938326609653169, 0.04681696709667909, 0.05032823962893002, 0.36517234335409693, 0.037453573677343276, 0.03705766986400426, 0.16675951438801917, 0.08337975719400958, 0.04632208733000532, 0.4724852907660543, 0.07411533972800852, 0.08337975719400958, 0.027793252398003194, 0.10764958994325223, 0.033122950751769915, 0.02484221306382744, 0.2649836060141593, 0.4885635235886063, 0.06624590150353983, 0.02484221306382744, 0.16463947107727128, 0.11398117228426474, 0.058257043611957535, 0.043059553974055566, 0.12791220445234153, 0.0975172251765376, 0.027862064336153604, 0.21276485493062752, 0.1253792895126912, 0.029128521805978767, 0.1446888534984984, 0.10851664012387378, 0.0361722133746246, 0.0723444267492492, 0.6149276273686182, 0.46949714629152595, 0.003978789375351915, 0.10344852375914979, 0.019893946876759574, 0.04376668312887107, 0.02387273625211149, 0.01591515750140766, 0.22679099439505915, 0.06763941938098256, 0.02387273625211149, 0.04511899068466191, 0.06767848602699286, 0.5639873835582738, 0.022559495342330954, 0.06767848602699286, 0.03383924301349643, 0.1917557104098131, 0.7508904167495385, 0.025892772991363396, 0.025892772991363396, 0.12946386495681697, 0.025892772991363396, 0.07767831897409018, 0.05105825369104893, 0.021882108724735255, 0.0364701812078921, 0.05105825369104893, 0.0364701812078921, 0.3063495221462936, 0.49599446442733247, 0.022636124658744167, 0.4688911536454149, 0.10509629305845505, 0.017785526517584704, 0.1390504800465713, 0.05335657955275411, 0.0501228474586478, 0.02748672279990363, 0.06305777583507303, 0.05335657955275411, 0.01649711991042887, 0.03299423982085774, 0.14847407919385983, 0.6598847964171548, 0.049491359731286606, 0.06598847964171548, 0.03299423982085774, 0.1094143466193706, 0.23269811745809807, 0.10479120521291833, 0.1094143466193706, 0.02927989557419777, 0.06934712109678419, 0.21574659896777304, 0.026197801303229584, 0.01849256562580912, 0.08475759245162512, 0.020538832882008168, 0.246465994584098, 0.6367038193422532, 0.041077665764016336, 0.020538832882008168, 0.020538832882008168, 0.11222206946747229, 0.052744372649711976, 0.04937771056568781, 0.060599917512435035, 0.11671095224617117, 0.01683331042012084, 0.08192211071125477, 0.06957768306983282, 0.09426653835267672, 0.3445217532651399, 0.32544997698429967, 0.06001205249355881, 0.03231418211191628, 0.018465246921095017, 0.1431056636384864, 0.15926275469444454, 0.02308155865136877, 0.06001205249355881, 0.03231418211191628, 0.14541381950362325, 0.4593089392500956, 0.013992552718947011, 0.21736004223607008, 0.10840832106523995, 0.017388803378885605, 0.05841551135094383, 0.0381738574177098, 0.015079352930127361, 0.03545685688975893, 0.03654365710093928, 0.01048442524435691, 0.04849046675515071, 0.3853026277301164, 0.02096885048871382, 0.10746535875465832, 0.14022918764327366, 0.06159599831059684, 0.01834774417762459, 0.2005146327983259, 0.0065527657777230686, 0.12559462090523693, 0.007849663806577308, 0.06279731045261847, 0.03139865522630923, 0.07064697425919578, 0.13344428471181424, 0.007849663806577308, 0.5102281474275251, 0.04709798283946385, 0.5354339670233151, 0.024496978883419646, 0.05949266300259057, 0.010498705235751277, 0.05249352617875638, 0.1749784205958546, 0.019247626265544007, 0.07349093665025894, 0.0227471946774611, 0.0227471946774611, 0.04120474744451752, 0.02060237372225876, 0.04120474744451752, 0.1030118686112938, 0.04120474744451752, 0.679878332834539, 0.06180712116677628, 0.03786767513836154, 0.6816181524905077, 0.11360302541508463, 0.15147070055344616, 0.6627024347293023, 0.044180162315286826, 0.044180162315286826, 0.22090081157643413, 0.0397749520695789, 0.9148238976003148, 0.1068616945049901, 0.2070445331034183, 0.11799312101592656, 0.09795655329624092, 0.06010970315905693, 0.26270166565810066, 0.08905141208749175, 0.008905141208749174, 0.020036567719685643, 0.02894170892843482, 0.07872864366757981, 0.04592504213942156, 0.01749525414835107, 0.05248576244505321, 0.34334436266138973, 0.15308347379807186, 0.15527038056661574, 0.04373813537087767, 0.006560720305631651, 0.10278461812156253, 0.0547611279691378, 0.12777596526132154, 0.6206261169835617, 0.09126854661522966, 0.0547611279691378, 0.0547611279691378, 0.11547672829096835, 0.635122005600326, 0.014434591036371043, 0.14434591036371044, 0.057738364145484174, 0.014434591036371043, 0.028869182072742087, 0.05696230871396824, 0.05696230871396824, 0.012658290825326275, 0.02531658165065255, 0.08860803577728393, 0.037974872475978826, 0.4683567605370722, 0.24050752568119924, 0.018987436237989413, 0.04404278353948248, 0.04404278353948248, 0.2202139176974124, 0.04404278353948248, 0.5725561860132722, 0.04404278353948248, 0.2837414321926711, 0.09458047739755704, 0.6147731030841207, 0.09727892448552927, 0.12350608549878471, 0.27371618948379317, 0.21363214788978976, 0.015736296607953264, 0.06294518643181306, 0.07152862094524211, 0.0371948828915259, 0.048639462242764636, 0.05626918181025713, 0.5814671793537273, 0.010025296195753918, 0.03007588858726175, 0.020050592391507836, 0.010025296195753918, 0.19048062771932445, 0.0601517771745235, 0.07017707337027743, 0.03007588858726175, 0.027136169305844008, 0.03165886419015134, 0.04296560140091968, 0.11306737210768336, 0.05879503349599535, 0.1175900669919907, 0.09271524512830036, 0.3188499893436671, 0.12889680420275904, 0.06784042326461003, 0.006521064305939958, 0.013042128611879917, 0.019563192917819876, 0.09781596458909937, 0.09781596458909937, 0.045647450141579705, 0.09129490028315941, 0.03912638583563975, 0.006521064305939958, 0.5934168518405362, 0.08249323020332942, 0.06621653904213438, 0.023675187143556427, 0.005178947187652968, 0.03514285591621657, 0.04772029908623092, 0.05326917107300196, 0.40580750463252185, 0.04883007348358513, 0.23231277384614743, 0.3277722106929806, 0.04097152633662258, 0.6145728950493387, 0.09027092087430764, 0.08721088965822942, 0.4391144795072253, 0.08262084283411208, 0.019890202904508464, 0.019890202904508464, 0.10557107695469876, 0.026010265336664912, 0.06885070236176007, 0.05967060871352539, 0.023678479566354778, 0.023678479566354778, 0.031571306088473035, 0.007892826522118259, 0.06314261217694607, 0.7734969991675894, 0.015785653044236517, 0.015785653044236517, 0.03946413261059129, 0.12735230128214817, 0.2292341423078667, 0.04457330544875186, 0.019102845192322228, 0.07641138076928891, 0.012735230128214817, 0.025470460256429635, 0.4457330544875186, 0.006367615064107409, 0.025470460256429635, 0.04913812720765054, 0.016379375735883512, 0.18017313309471863, 0.04913812720765054, 0.5896575264918065, 0.09827625441530108, 0.5301718408416887, 0.06627148010521108, 0.03313574005260554, 0.1656787002630277, 0.09940722015781661, 0.09940722015781661, 0.07649925754879393, 0.009562407193599241, 0.04781203596799621, 0.06693685035519469, 0.09562407193599241, 0.4972451740671605, 0.06693685035519469, 0.13387370071038937, 0.019924392140593824, 0.15275367307788598, 0.021252684949966745, 0.013282928093729215, 0.4582610192336579, 0.0982936678935962, 0.04649024832805225, 0.07172781170613776, 0.0810258613717482, 0.03586390585306888, 0.015347312810670801, 0.0460419384320124, 0.9054914558295772, 0.015347312810670801, 0.042246187521465216, 0.6759390003434435, 0.2534771251287913, 0.697183241254766, 0.04979880294676901, 0.04979880294676901, 0.19919521178707603, 0.016602325188295276, 0.08923749788708711, 0.020752906485369097, 0.1286680202092884, 0.08093633529293948, 0.1286680202092884, 0.08093633529293948, 0.010376453242684549, 0.43166045489567717, 0.012451743891221457, 0.09324113082151683, 0.02279227642303745, 0.05180062823417602, 0.04765657797544194, 0.13468163340885766, 0.10567328159771909, 0.0352244271992397, 0.30665971914632206, 0.05801670362227714, 0.14504175905569286, 0.16973457799021563, 0.0094296987772342, 0.3135374843430372, 0.06836531613494795, 0.047148493886171004, 0.014144548165851301, 0.08015243960649071, 0.04479106919186245, 0.19802367432191822, 0.05186334327478811, 0.09097057336806325, 0.03127113459527174, 0.17341265548287055, 0.01421415208875988, 0.37809644556101285, 0.13929869046984683, 0.025585473759767788, 0.011371321671007906, 0.07107076044379941, 0.0596994387727915, 0.005947474287768392, 0.41186259442796114, 0.01486868571942098, 0.05204040001797343, 0.34495350869056673, 0.02973737143884196, 0.001486868571942098, 0.11597574861148365, 0.010408080003594685, 0.008921211431652589, 0.13809732681600131, 0.13809732681600131, 0.10357299511200099, 0.5869136389680056, 0.09876463175450116, 0.07995232094411998, 0.009406155405190587, 0.07995232094411998, 0.15990464188823997, 0.051733854728548224, 0.06584308783633411, 0.01410923310778588, 0.3997616047205999, 0.04703077702595293, 0.40982543008732425, 0.07113950861893176, 0.030930221138665982, 0.05954067569193202, 0.12836041772546383, 0.10206972975759775, 0.05644765357806542, 0.027063943496332735, 0.040209287480265775, 0.07500578626126501, 0.12452693101877398, 0.031131732754693494, 0.031131732754693494, 0.031131732754693494, 0.06226346550938699, 0.6226346550938698, 0.06226346550938699, 0.08251038475915905, 0.041255192379579524, 0.14330751037117098, 0.10856629573573559, 0.26924441342462424, 0.0933670143327326, 0.015199281403002982, 0.12376557713873856, 0.06948242927087077, 0.054283147867867795, 0.06311668465855363, 0.03155834232927682, 0.7889585582319205, 0.03155834232927682, 0.06311668465855363, 0.09618822715058888, 0.02628746580512988, 0.1708685277333442, 0.15593246761679314, 0.12576162618136, 0.02957339903077111, 0.09738311195991296, 0.09887671797156806, 0.13054116541865632, 0.06870587653613491, 0.06994976747947083, 0.2098493024384125, 0.6295479073152375, 0.03497488373973542, 0.10752951217377421, 0.053764756086887106, 0.026882378043443553, 0.7527065852164194, 0.026882378043443553, 0.023593047978606126, 0.07864349326202041, 0.5426401035079409, 0.023593047978606126, 0.11010089056682859, 0.1336939385454347, 0.023593047978606126, 0.03932174663101021, 0.007864349326202042, 0.04636561365822653, 0.04636561365822653, 0.04636561365822653, 0.6027529775569449, 0.04636561365822653, 0.18546245463290612, 0.09884890965358441, 0.22329262627104335, 0.0273599660648314, 0.04765929572583534, 0.0026477386514352965, 0.28330803570357677, 0.19063718290334136, 0.04589413662487848, 0.07060636403827458, 0.010590954605741186, 0.09033768343167493, 0.19548482316362445, 0.03702364075068645, 0.4576121996784845, 0.07108539024131798, 0.05775687957107086, 0.002961891260054916, 0.010366619410192205, 0.07108539024131798, 0.005923782520109832, 0.04004838175821682, 0.08009676351643363, 0.6407741081314691, 0.04004838175821682, 0.08009676351643363, 0.04004838175821682, 0.04004838175821682, 0.06667897924135947, 0.06667897924135947, 0.08001477508963137, 0.626782404868779, 0.14669375433099083, 0.013335795848271895, 0.02298835212247155, 0.09961619253071005, 0.16474985687771276, 0.02298835212247155, 0.019156960102059625, 0.049808096265355026, 0.47892400255149065, 0.042145312224531176, 0.05363948828576695, 0.0459767042449431, 0.030522634715883935, 0.06104526943176787, 0.5494074248859109, 0.1526131735794197, 0.1526131735794197, 0.030522634715883935, 0.029723484902542962, 0.743087122563574, 0.11889393961017185, 0.08917045470762888, 0.0460302503516811, 0.2443144057127689, 0.012392759710067989, 0.04071906761879482, 0.056652615817453664, 0.2797222905986775, 0.11684602012349818, 0.05488222157315824, 0.09914207768054391, 0.04780064459597653, 0.043919274173701374, 0.043919274173701374, 0.021959637086850687, 0.7905469351266247, 0.021959637086850687, 0.021959637086850687, 0.043919274173701374, 0.021959637086850687, 0.04965592668974805, 0.012413981672437013, 0.16965774952330584, 0.01655197556324935, 0.07034589614380973, 0.09103586559787143, 0.10758784116112077, 0.40966139519042144, 0.020689969454061687, 0.04551793279893571, 0.7338929563687017, 0.04892619709124678, 0.09785239418249356, 0.09785239418249356, 0.08793083227811217, 0.1101918024751026, 0.08681778376826266, 0.18253995561532146, 0.07234815314021888, 0.08013949270916552, 0.16695727647742817, 0.06121766804172366, 0.04786108592352941, 0.10351351141600547, 0.035884191711267006, 0.14353676684506803, 0.07176838342253401, 0.07176838342253401, 0.6459154508028062, 0.035884191711267006, 0.06371289931469012, 0.03185644965734506, 0.03185644965734506, 0.09556934897203519, 0.03185644965734506, 0.7326983421189364, 0.08325891636271034, 0.04162945818135517, 0.5828124145389724, 0.12488837454406551, 0.04162945818135517, 0.020814729090677584, 0.12488837454406551, 0.041588297068532114, 0.10397074267133027, 0.10397074267133027, 0.6030303074937156, 0.08317659413706423, 0.020794148534266057, 0.020794148534266057, 0.020794148534266057, 0.5088351419691822, 0.1387732205370497, 0.323804181253116, 0.15946480471369923, 0.09039724598419892, 0.11274263263197844, 0.05180066904712523, 0.12594672474202995, 0.014219791503132415, 0.1157897308112211, 0.04875357086788257, 0.17266889682375075, 0.10867983505965488, 0.31908908139295517, 0.05999965633029926, 0.29454376743965094, 0.1254538268724439, 0.01636354263553616, 0.019090799741458855, 0.06272691343622196, 0.04909062790660849, 0.04909062790660849, 0.03351429263152619, 0.03351429263152619, 0.6032572673674714, 0.10054287789457857, 0.03351429263152619, 0.16757146315763094, 0.5314710381312112, 0.0664338797664014, 0.0664338797664014, 0.04428925317760093, 0.1993016392992042, 0.0664338797664014, 0.008784314970725321, 0.026352944912175963, 0.035137259882901284, 0.035137259882901284, 0.017568629941450642, 0.6324706778922231, 0.23717650420958367, 0.03248112373465442, 0.002952829430423129, 0.17716976582538774, 0.023622635443385033, 0.03838678259550068, 0.008858488291269387, 0.07972639462142449, 0.14468864209073332, 0.04133961202592381, 0.45178290285473877, 0.2078997464937322, 0.026540393169412622, 0.00884679772313754, 0.14597216243176941, 0.026540393169412622, 0.01769359544627508, 0.17693595446275082, 0.3981058975411893, 0.042093845719904766, 0.0851231102335852, 0.03461049536969948, 0.16837538287961906, 0.03086882019459683, 0.20485671583686987, 0.0944772981713418, 0.1141210928406307, 0.10102522972777143, 0.12441069957216297, 0.04183390027601837, 0.12550170082805512, 0.04183390027601837, 0.7530102049683307, 0.04183390027601837, 0.1455898992579217, 0.12573673117729603, 0.03308861346770948, 0.317650689290011, 0.11691310091924016, 0.08382448745153068, 0.015441352951597757, 0.06176541180639103, 0.06838313449993293, 0.028676798338681548, 0.07370252452071409, 0.006700229501883099, 0.026800918007532395, 0.026800918007532395, 0.0335011475094155, 0.006700229501883099, 0.04690160651318169, 0.05360183601506479, 0.10050344252824649, 0.6231213436751282, 0.01951033270894643, 0.15218059512978216, 0.03706963214699822, 0.03511859887610357, 0.0078041330835785724, 0.011706199625367859, 0.06828616448131251, 0.05853099812683929, 0.579456881455709, 0.03121653233431429, 0.09849011734014207, 0.049245058670071035, 0.6401857627109234, 0.1477351760102131, 0.004551643315383964, 0.059171363099991534, 0.013654929946151893, 0.3732347518614851, 0.045516433153839644, 0.08192957967691136, 0.027309859892303785, 0.013654929946151893, 0.1911690192461265, 0.18661737593074254, 0.05541032847376799, 0.45149156534181323, 0.01436564071542133, 0.1805966261367253, 0.018470109491255996, 0.06977596918918932, 0.09645501623211465, 0.06772373480127199, 0.018470109491255996, 0.026679047042925327, 0.8131983604604506, 0.032527934418418024, 0.06505586883683605, 0.032527934418418024, 0.032527934418418024, 0.08698342353307575, 0.7393591000311439, 0.04349171176653788, 0.08698342353307575, 0.07991321906658466, 0.23973965719975399, 0.5993491429993849, 0.07991321906658466, 0.013588715357048083, 0.013588715357048083, 0.10870972285638467, 0.013588715357048083, 0.8425003521369812, 0.041546465526716723, 0.03515470159952954, 0.03355676061773274, 0.12943321952554057, 0.03515470159952954, 0.03994852454491993, 0.1677838030886637, 0.03515470159952954, 0.4138667142853705, 0.06711352123546548, 0.6636919425281553, 0.18435887292448758, 0.11061532375469255, 0.05122027067069901, 0.0102440541341398, 0.037561531825179274, 0.12634333432105754, 0.03414684711379934, 0.05122027067069901, 0.0717083789389786, 0.5429348691094095, 0.05463495538207894, 0.0204881082682796, 0.060244650335905536, 0.07470336641652287, 0.32050153978701745, 0.09157186851057642, 0.09639144053744886, 0.012048930067181107, 0.18555352303458905, 0.07229358040308664, 0.01927828810748977, 0.07229358040308664, 0.5136221855948132, 0.1284055463987033, 0.04280184879956777, 0.08560369759913554, 0.17120739519827108, 0.03199534033002115, 0.442602207898626, 0.0639906806600423, 0.005332556721670192, 0.0693232373817125, 0.058658123938372116, 0.10131857771173365, 0.03199534033002115, 0.17064181509344614, 0.026662783608350962, 0.13023053402058032, 0.020348520940715677, 0.04476674606957449, 0.12209112564429406, 0.0630804149162186, 0.09563804842136368, 0.00813940837628627, 0.451737164883888, 0.018313668846644107, 0.046801598163646055, 0.1436441775801904, 0.05492277378066104, 0.016899315009434167, 0.03802345877122687, 0.02957380126650979, 0.025348972514151247, 0.37178493020755166, 0.17744280759905873, 0.09294623255188791, 0.050697945028302493, 0.12416887965826272, 0.09312665974369704, 0.06208443982913136, 0.7139710580350106, 0.08901389903196415, 0.08901389903196415, 0.08901389903196415, 0.1335208485479462, 0.6230972932237491, 0.0384472538721377, 0.19223626936068852, 0.6151560619542032, 0.0768945077442754, 0.0768945077442754, 0.18676018181244847, 0.04669004545311212, 0.04669004545311212, 0.5602805454373454, 0.14007013635933635, 0.0618452950365643, 0.09276794255484645, 0.03092264751828215, 0.0618452950365643, 0.618452950365643, 0.1236905900731286, 0.08828706585400793, 0.06180094609780555, 0.03531482634160318, 0.30900473048902777, 0.05076506286605456, 0.08166553591495734, 0.05959376945145536, 0.17878130835436606, 0.03531482634160318, 0.10153012573210912, 0.1946038932966811, 0.05396578553605442, 0.00981196100655535, 0.024529902516388372, 0.16026202977373735, 0.05233045870162853, 0.027800556185240154, 0.15208539560160791, 0.31561807904419703, 0.008176634172129457, 0.09733136523722129, 0.0663622944799236, 0.01769661186131296, 0.03981737668795416, 0.03539322372262592, 0.05308983558393888, 0.00884830593065648, 0.5264742028740605, 0.07963475337590832, 0.07521060041058009, 0.5639945124949162, 0.056399451249491625, 0.08459917687423743, 0.028199725624745813, 0.11279890249898325, 0.056399451249491625, 0.08459917687423743, 0.6240870182555416, 0.0720100405679471, 0.024003346855982367, 0.04800669371196473, 0.12001673427991183, 0.024003346855982367, 0.09601338742392947, 0.09087448762487621, 0.6815586571865716, 0.09087448762487621, 0.09087448762487621, 0.045437243812438105, 0.18876755304634804, 0.10786717316934175, 0.08090037987700631, 0.620236245723715, 0.07983383940885234, 0.6918932748767203, 0.18627895862065547, 0.02661127980295078, 0.519824612292, 0.06365199334187756, 0.06365199334187756, 0.058347660563387756, 0.005304332778489796, 0.12730398668375512, 0.04243466222791837, 0.01591299833546939, 0.047738995006408165, 0.047738995006408165, 0.030424431338793783, 0.030424431338793783, 0.09127329401638135, 0.09127329401638135, 0.030424431338793783, 0.6997619207922571, 0.014004911732049157, 0.06535625474956273, 0.088697774302978, 0.028009823464098315, 0.5742013810140154, 0.03267812737478137, 0.04201473519614747, 0.07469286257092883, 0.06068795083887968, 0.014004911732049157, 0.07813153117448447, 0.05824350505734297, 0.04403777211652761, 0.07102866470407679, 0.13211331634958284, 0.05682293176326143, 0.03409375905795686, 0.051140638586935294, 0.4077045354014008, 0.06676694482183218, 0.12504587275951093, 0.06252293637975546, 0.06252293637975546, 0.12504587275951093, 0.6460703425908064, 0.609788201050586, 0.07953759144138077, 0.13256265240230128, 0.13256265240230128, 0.026512530480460258, 0.1915267460000302, 0.06566631291429606, 0.005472192742858005, 0.01094438548571601, 0.08755508388572808, 0.038305349200006035, 0.01094438548571601, 0.5034417323429364, 0.05472192742858005, 0.027360963714290025, 0.06079570560911475, 0.07816590721171897, 0.03474040320520843, 0.04632053760694457, 0.014475168002170179, 0.04632053760694457, 0.005790067200868072, 0.05211060480781264, 0.081060940812153, 0.5847967872876753, 0.29001078276301157, 0.018125673922688223, 0.5800215655260231, 0.036251347845376446, 0.036251347845376446, 0.05437702176806467, 0.03756585216090783, 0.06260975360151305, 0.35478860374190735, 0.09808861397570379, 0.006260975360151306, 0.15443739221706554, 0.1085235729092893, 0.11478454826944061, 0.06260975360151305, 0.05803690630787719, 0.021763839865453945, 0.15234687905817762, 0.021763839865453945, 0.12332842590423902, 0.4642952504630175, 0.014509226576969297, 0.050782293019392535, 0.014509226576969297, 0.07980074617333113, 0.03773529193311553, 0.07547058386623107, 0.6037646709298485, 0.11320587579934661, 0.1886764596655777, 0.11996413777157378, 0.1066347891302878, 0.03998804592385793, 0.5598326429340109, 0.1599521836954317, 0.10978166624584473, 0.12258952730785995, 0.06769869418493758, 0.11344105512070622, 0.07135808305979909, 0.23786027686599692, 0.06769869418493758, 0.05672052756035311, 0.07867686080952206, 0.07684716637209131, 0.1539569682571293, 0.5773386309642349, 0.19244621032141163, 0.03848924206428232, 0.23136839764909578, 0.5524510719376369, 0.015739346778850055, 0.04407017098078015, 0.022035085490390075, 0.011017542745195038, 0.05666164840386019, 0.014165412100965048, 0.028330824201930095, 0.022035085490390075, 0.0332301854181483, 0.04272452410904782, 0.09494338690899515, 0.5933961681812197, 0.009494338690899514, 0.009494338690899514, 0.004747169345449757, 0.05696603214539709, 0.14716224970894248, 0.042638380302591594, 0.042638380302591594, 0.6395757045388739, 0.12791514090777478, 0.08527676060518319, 0.5614262491565437, 0.09907522043939007, 0.19815044087878014, 0.03302507347979669, 0.09907522043939007, 0.19179222139267524, 0.07192208302225322, 0.04794805534816881, 0.07192208302225322, 0.5993506918521102, 0.03284706366340281, 0.02189804244226854, 0.07226354005948618, 0.037226672151856516, 0.3175216154128938, 0.09854119099020843, 0.08978197401330101, 0.09416158250175473, 0.08540236552484731, 0.14890668860742606, 0.07063895779243284, 0.14520230212888974, 0.500359284363066, 0.1530510752169378, 0.009810966360060116, 0.015697546176096186, 0.013735352904084163, 0.04120605871225249, 0.013735352904084163, 0.039243865440240465, 0.03790267732394834, 0.09503135039192845, 0.0021972566564607736, 0.00659176996938232, 0.010986283282303867, 0.0329588498469116, 0.6130346071525558, 0.11425734613596022, 0.00659176996938232, 0.08129849628904862, 0.5302652271698438, 0.02272565259299331, 0.00757521753099777, 0.02272565259299331, 0.02272565259299331, 0.3560352239568952, 0.02272565259299331, 0.02272565259299331, 0.025248172387618756, 0.012624086193809378, 0.031560215484523445, 0.031560215484523445, 0.018936129290714067, 0.284041939360711, 0.006312043096904689, 0.5175875339461845, 0.04418430167833282, 0.031560215484523445, 0.0726740324487392, 0.6904033082630224, 0.181685081121848, 0.0363370162243696, 0.10858945096179289, 0.03619648365393096, 0.7601261567325501, 0.07239296730786192, 0.05417952412337743, 0.006019947124819715, 0.06019947124819715, 0.4153763516125603, 0.07223936549783658, 0.14447873099567315, 0.1203989424963943, 0.09631915399711544, 0.01203989424963943, 0.018059841374459144, 0.6506632439701147, 0.008032879555186601, 0.016065759110373203, 0.1365589524381722, 0.07229591599667941, 0.008032879555186601, 0.10442743421742581, 0.112278819309769, 0.02339142068953521, 0.04678284137907042, 0.04678284137907042, 0.09356568275814084, 0.5754289489625661, 0.02339142068953521, 0.04678284137907042, 0.03274798896534929, 0.01477962309742395, 0.024632705162373248, 0.09360427961701835, 0.0098530820649493, 0.5320664315072622, 0.08375119755206904, 0.01477962309742395, 0.0394123282597972, 0.049265410324746496, 0.1379431489092902, 0.02304550221462673, 0.599183057580295, 0.12290934514467589, 0.03072733628616897, 0.038409170357711214, 0.02304550221462673, 0.02304550221462673, 0.007681834071542243, 0.007681834071542243, 0.11522751107313364, 0.016733994697413407, 0.12550496023060054, 0.02510099204612011, 0.5271208329685223, 0.04183498674353352, 0.033467989394826814, 0.06693597878965363, 0.05020198409224022, 0.06693597878965363, 0.058568981440946924, 0.015197057670659517, 0.07598528835329758, 0.7142617105209973, 0.015197057670659517, 0.07598528835329758, 0.06078823068263807, 0.030394115341319035, 0.08789521535429327, 0.08789521535429327, 0.1318428230314399, 0.615266507480053, 0.04394760767714664, 0.47825151412540945, 0.031021719835161693, 0.056873153031129775, 0.11116116274266274, 0.043947436433145734, 0.05170286639193616, 0.062043439670323386, 0.05945829635072658, 0.08272458622709786, 0.02585143319596808, 0.09332415828091394, 0.1306538215932795, 0.03732966331236557, 0.07465932662473114, 0.6346042763102148, 0.018664831656182785, 0.11911708375248233, 0.039705694584160775, 0.1588227783366431, 0.07941138916832155, 0.5558797241782508, 0.6124764053621048, 0.04711356964323883, 0.14134070892971648, 0.18845427857295532, 0.15472712711184913, 0.06189085084473966, 0.03094542542236983, 0.06189085084473966, 0.6498539338697664, 0.0703107737501509, 0.03924322255822377, 0.02289187982563053, 0.05068916247103903, 0.04087835683148309, 0.10301345921533739, 0.06049996811059497, 0.05232429674429835, 0.03924322255822377, 0.5216078331697243, 0.6620687090119153, 0.050928362231685786, 0.10185672446337157, 0.15278508669505736, 0.050928362231685786, 0.021643559005390656, 0.10821779502695328, 0.15150491303773458, 0.021643559005390656, 0.10821779502695328, 0.6060196521509383, 0.14925948838533562, 0.037314872096333905, 0.14925948838533562, 0.5970379535413425, 0.037314872096333905, 0.010885687939951537, 0.4136561417181584, 0.16600674108426092, 0.07075697160968498, 0.03265706381985461, 0.008164265954963652, 0.26942077651380053, 0.027214219849878842, 0.030648289084814515, 0.49037262535703224, 0.15324144542407256, 0.27583460176333063, 0.030648289084814515, 0.2446824364884077, 0.10486390135217473, 0.03495463378405825, 0.03495463378405825, 0.559274140544932, 0.14058014946527164, 0.24601526156422537, 0.5974656352274045, 0.5616654679061797, 0.11701363914712075, 0.02340272782942415, 0.02340272782942415, 0.02340272782942415, 0.07020818348827246, 0.0936109113176966, 0.07020818348827246, 0.07951153795209646, 0.009938942244012058, 0.13914519141616882, 0.04969471122006029, 0.13914519141616882, 0.03975576897604823, 0.5367028811766511, 0.019877884488024116, 0.04525942710814672, 0.015086475702715573, 0.04525942710814672, 0.060345902810862294, 0.030172951405431147, 0.04525942710814672, 0.7844967365412098, 0.11799429386735374, 0.8259600570714762, 0.16254221766198015, 0.027090369610330026, 0.027090369610330026, 0.027090369610330026, 0.08127110883099008, 0.6501688706479206, 0.06399977406815939, 0.11927230621793342, 0.07272701598654477, 0.04460590313841412, 0.0213332580227198, 0.18327208028609282, 0.09890874174170089, 0.11733291912495888, 0.014545403197308954, 0.2647263381910229, 0.028410638522722284, 0.034092766227266744, 0.13353000105679474, 0.014205319261361142, 0.08239085171589462, 0.09091404327271131, 0.014205319261361142, 0.20171553351132823, 0.019887446965905598, 0.3778614923522064, 0.07919762437464282, 0.03959881218732141, 0.07919762437464282, 0.11879643656196424, 0.07919762437464282, 0.023759287312392848, 0.475185746247857, 0.08711738681210711, 0.015839524874928564, 0.15805951012453773, 0.040914587089458, 0.035315748856163745, 0.035746428720263304, 0.3415291322309494, 0.09302685064550449, 0.14729251352204878, 0.05254294342014606, 0.05297362328424562, 0.04220662668175667, 0.00395244826440684, 0.06323917223050944, 0.0790489652881368, 0.07509651702372996, 0.01580979305762736, 0.02371468958644104, 0.5889147913966192, 0.1383356892542394, 0.01185734479322052, 0.02370251863477935, 0.045429827383327084, 0.11456217340143351, 0.08493402510795933, 0.0809836053354961, 0.11851259317389674, 0.03357856806593741, 0.009876049431158062, 0.07505797567680127, 0.412818866222407, 0.45012994008423113, 0.024370092297553915, 0.1017809737133134, 0.04157251038994491, 0.07311027689266174, 0.0258036271385865, 0.05304078911820558, 0.02723716197961908, 0.037271905866847165, 0.16342297187771448, 0.0942381518460313, 0.04711907592301565, 0.0942381518460313, 0.10366196703063443, 0.00942381518460313, 0.00942381518460313, 0.03769526073841252, 0.5465812807069815, 0.03769526073841252, 0.0234781983560238, 0.0042687633374588725, 0.4183388070709695, 0.13660042679868392, 0.10671908343647181, 0.06403145006188309, 0.05122516004950647, 0.15794424348597827, 0.01707505334983549, 0.021343816687294362, 0.07034882480052596, 0.09379843306736793, 0.5862402066710496, 0.09379843306736793, 0.09379843306736793, 0.046899216533683966, 0.007584844316764087, 0.02865385630777544, 0.03792422158382043, 0.01432692815388772, 0.06067875453411269, 0.03202489822633726, 0.3143496589058894, 0.23428741334004624, 0.07584844316764086, 0.19383491031730443, 0.014440902974090794, 0.03176998654299975, 0.011552722379272636, 0.2782280639674827, 0.3581343937574517, 0.04139725519239361, 0.014440902974090794, 0.05198725070672686, 0.06065179249118134, 0.13766994168633226, 0.12385094916308928, 0.03314321174786896, 0.11861781046605734, 0.14303912438553973, 0.048842627838964786, 0.1151290513347027, 0.14303912438553973, 0.23549124136643734, 0.034887591313546275, 0.060397804778337796, 0.04026520318555853, 0.020132601592779267, 0.020132601592779267, 0.7247736573400536, 0.12079560955667559, 0.021928782763077262, 0.09867952243384767, 0.4203016696256475, 0.05116715978051361, 0.018273985635897716, 0.0840603339251295, 0.06578634828923179, 0.12426310232410448, 0.11329871094256584, 0.14402807343971935, 0.021250043622253675, 0.03541673937042279, 0.2904172628374669, 0.08736129044704288, 0.101527986195212, 0.004722231916056372, 0.0826390585309865, 0.17236146493605758, 0.06375013086676103, 0.8709774739617379, 0.11360575747327016, 0.0314906334070001, 0.02519250672560008, 0.01889438004420006, 0.01259625336280004, 0.5857257813702018, 0.10077002690240032, 0.11336628026520036, 0.0629812668140002, 0.01259625336280004, 0.04408688676980014, 0.09366050880087749, 0.18732101760175499, 0.046830254400438746, 0.09366050880087749, 0.5619630528052649, 0.011218855880273198, 0.3225421065578544, 0.17950169408437117, 0.10657913086259538, 0.10938384483266368, 0.0084141419102049, 0.07712963417687824, 0.14584512644355158, 0.03926599558095619, 0.09325734804784516, 0.08599054170645463, 0.058134450731124256, 0.06055671951158777, 0.12232457341340729, 0.3039947319481706, 0.15623633633989645, 0.009689075121854043, 0.05450104756042899, 0.055712181950660744, 0.39662074111211776, 0.02212442229332902, 0.16080677666858653, 0.038852644027309494, 0.09389388973266462, 0.07500718777494472, 0.05018466520194143, 0.04856580503413687, 0.026441382740807852, 0.08687882900551151, 0.1160400883041364, 0.1160400883041364, 0.7349205592595305, 0.03868002943471213, 0.1524701216966038, 0.0854446655145397, 0.008186315258878056, 0.3617328055016741, 0.032233616331832346, 0.07418848203358237, 0.14991189817820438, 0.015349341110396354, 0.04093157629439028, 0.07930492907038117, 0.03161979467106386, 0.34781774138170246, 0.03513310519007096, 0.3091713256726244, 0.03864641570907805, 0.021079863114042575, 0.021079863114042575, 0.07026621038014191, 0.052699657785106435, 0.0772928314181561, 0.02908035007876086, 0.08724105023628258, 0.11632140031504344, 0.610687351653978, 0.02908035007876086, 0.05816070015752172, 0.08724105023628258, 0.08243086065029455, 0.2060771516257364, 0.041215430325147275, 0.6594468852023564, 0.032751394512257496, 0.589525101220635, 0.0982541835367725, 0.032751394512257496, 0.26201115609805997, 0.04407243774214544, 0.13130860316989723, 0.06315534892946614, 0.03862017740291095, 0.03362227209194601, 0.27988269741403704, 0.024989526554824733, 0.12631069785893229, 0.10768214169988113, 0.15039151435721795, 0.24683990831034094, 0.02981630575629861, 0.17352112366370503, 0.09140408485947278, 0.03030509765394285, 0.30891647931115934, 0.01808530021283686, 0.02981630575629861, 0.043991270787981554, 0.027372346268077413, 0.06283222063844947, 0.03463193263536585, 0.08212715453529615, 0.07371654232385015, 0.027705546108292674, 0.3240559410880661, 0.10735899116963411, 0.116759087170662, 0.10389579790609753, 0.06679015579677698, 0.06742970091599301, 0.058234741700175785, 0.05095539898765381, 0.13945688143989465, 0.38120768415575595, 0.048656659183699505, 0.07049468732126543, 0.043292932974472786, 0.04674104268040425, 0.09309896206014945, 0.03304274835564187, 0.029641288966090498, 0.03401459389551369, 0.006802918779102737, 0.09815639952705378, 0.1035015499963488, 0.35375177651334233, 0.1783336565664789, 0.029641288966090498, 0.1336287617323752, 0.022158178021110926, 0.031390752196573814, 0.12433199889623353, 0.05908847472296247, 0.041238831317067556, 0.3052904527353061, 0.10278932582015346, 0.25605005713283735, 0.015387623625771476, 0.04246984120712927, 0.12480189448623742, 0.01525356488165124, 0.01664025259816499, 0.05269413322752247, 0.4229397535366935, 0.06378763495963247, 0.0845879507073387, 0.12341520676972367, 0.005546750866054996, 0.09013470157339369, 0.030550615546574032, 0.1833036932794442, 0.0916518466397221, 0.061101231093148065, 0.6415629264780547, 0.08151035859829289, 0.8558587652820754, 0.09376420280979197, 0.03125473426993066, 0.5938399511286825, 0.18752840561958395, 0.06250946853986132, 0.05014724962648443, 0.17551537369269551, 0.025073624813242216, 0.025073624813242216, 0.5766933707045709, 0.025073624813242216, 0.05014724962648443, 0.07522087443972665, 0.2231178483083446, 0.0343258228166684, 0.5320502536583602, 0.0514887342250026, 0.1029774684500052, 0.0514887342250026, 0.2564145272962419, 0.049041029810756656, 0.04203516840921999, 0.3362813472737599, 0.011209378242458663, 0.09948323190182064, 0.030825790166761326, 0.09948323190182064, 0.04343634068952732, 0.029424617886453994, 0.03864983754110372, 0.11594951262331114, 0.03864983754110372, 0.03864983754110372, 0.6956970757398668, 0.03864983754110372, 0.02726141270793552, 0.10904565083174209, 0.02726141270793552, 0.10904565083174209, 0.681535317698388, 0.9730288073611688, 0.08364933164275296, 0.05323139286357006, 0.10646278572714012, 0.045626908168774336, 0.5399184133304963, 0.007604484694795723, 0.06083587755836578, 0.022813454084387168, 0.08364933164275296, 0.059702365914117476, 0.029851182957058738, 0.08955354887117621, 0.11940473182823495, 0.6567260250552922, 0.0930503473486511, 0.03944525594127601, 0.08698184643460864, 0.06473067641645294, 0.1335070201089342, 0.09406176416765817, 0.06574209323546001, 0.2922994606930453, 0.09001609689162987, 0.040456672760283086, 0.13095667905424693, 0.07857400743254815, 0.680974731082084, 0.05238267162169877, 0.026191335810849384, 0.7528866941062435, 0.10038489254749913, 0.10038489254749913, 0.5853548125183571, 0.16724423214810202, 0.041811058037025506, 0.16724423214810202, 0.1631268535238541, 0.06991150865308032, 0.02330383621769344, 0.5359882330069491, 0.06991150865308032, 0.09321534487077376, 0.02330383621769344, 0.5585891502216962, 0.06982364377771202, 0.03491182188885601, 0.06982364377771202, 0.10473546566656804, 0.06982364377771202, 0.10473546566656804, 0.03212759936663887, 0.03212759936663887, 0.06425519873327774, 0.06425519873327774, 0.06425519873327774, 0.03212759936663887, 0.09638279809991661, 0.6104243879661385, 0.14719597938956464, 0.699180902100432, 0.03679899484739116, 0.07359798969478232, 0.11721091873249555, 0.08114602066095845, 0.47785989944786644, 0.06762168388413205, 0.004508112258942137, 0.01352433677682641, 0.031556785812594954, 0.08114602066095845, 0.04057301033047923, 0.0856541329199006, 0.019471623358038787, 0.12981082238692526, 0.04543378783542384, 0.14279190462561778, 0.08437703455150142, 0.012981082238692526, 0.0519243289547701, 0.4478473372348921, 0.02596216447738505, 0.032452705596731315, 0.08527647021386499, 0.017055294042773, 0.051165882128319, 0.51165882128319, 0.0255829410641595, 0.0085276470213865, 0.289939998727141, 0.5818387558485516, 0.0969731259747586, 0.03232437532491953, 0.16162187662459768, 0.06464875064983906, 0.06464875064983906, 0.024827518557757507, 0.09931007423103003, 0.07448255567327253, 0.7944805938482402, 0.03176302640484111, 0.09528907921452333, 0.03176302640484111, 0.7940756601210277, 0.03176302640484111, 0.1035541392256543, 0.1035541392256543, 0.05177706961282715, 0.025888534806413576, 0.025888534806413576, 0.6472133701603394, 0.15519892006251607, 0.044342548589290307, 0.044342548589290307, 0.6651382288393546, 0.06651382288393547, 0.11959942483554652, 0.09973375765947269, 0.0648674846565676, 0.10378797545050816, 0.0973012269848514, 0.22500908740246886, 0.17149341256080058, 0.03892049079394056, 0.06770543711029244, 0.012162653373106425, 0.06604086709617919, 0.007769513776021081, 0.14373600485639002, 0.05827135332015811, 0.03884756888010541, 0.007769513776021081, 0.06992562398418974, 0.08934940842424244, 0.03496281199209487, 0.4817098541133071, 0.1509859006885902, 0.0754929503442951, 0.03774647517214755, 0.03774647517214755, 0.7171830282708034, 0.012685155428832839, 0.038055466286498515, 0.11416639885949555, 0.10148124343066271, 0.08245351028741345, 0.46935075086681505, 0.0634257771441642, 0.07611093257299703, 0.038055466286498515, 0.0905219617015048, 0.8599586361642956, 0.13725729651880514, 0.3707438933143813, 0.06937461182743956, 0.025362761313257473, 0.03655221483381224, 0.014173307792702705, 0.02834661558540541, 0.12681380656628735, 0.16560391210421055, 0.026108724881294457, 0.5670203855941398, 0.12150436834160139, 0.060752184170800694, 0.020250728056933565, 0.16200582445546852, 0.020250728056933565, 0.04050145611386713, 0.011539271289312432, 0.011539271289312432, 0.2807889347066025, 0.13847125547174918, 0.007692847526208288, 0.19809082379986342, 0.13270161982709297, 0.05192672080190594, 0.042310661394145584, 0.12693198418243676, 0.09355733501792701, 0.05613440101075621, 0.06204328532767791, 0.3584723152265835, 0.13491952523637896, 0.003939256211281137, 0.051210330746654785, 0.11916250039125441, 0.0817395663840836, 0.041362190218451944, 0.8572045020430166, 0.032969403924731404, 0.06593880784946281, 0.032969403924731404, 0.08131291437086459, 0.040656457185432295, 0.20328228592716147, 0.691159772152349, 0.029676623059316263, 0.890298691779488, 0.059353246118632526, 0.08685248374741109, 0.04342624187370554, 0.08685248374741109, 0.6513936281055832, 0.08685248374741109, 0.04342624187370554, 0.5111512737116065, 0.06013544396607135, 0.020045147988690448, 0.020045147988690448, 0.020045147988690448, 0.05011286997172612, 0.23051920186994018, 0.05011286997172612, 0.040090295977380896, 0.43187965087788305, 0.11778535933033174, 0.013087262147814638, 0.07852357288688783, 0.11778535933033174, 0.019630893221721957, 0.09815446610860978, 0.08506720396079515, 0.03926178644344391, 0.13704982894888812, 0.004420962224157681, 0.11936598005225739, 0.06631443336236521, 0.03978866001741913, 0.022104811120788406, 0.04420962224157681, 0.07515635781068057, 0.04420962224157681, 0.4465171846399258, 0.2133132667984948, 0.023701474088721645, 0.16303741267090344, 0.05386698656527646, 0.1429270710198669, 0.035911324376850975, 0.06464038387833176, 0.07397732821631302, 0.20397632246051356, 0.024419700576258665, 0.010451230682713721, 0.12018915285120779, 0.057481768754925465, 0.04703053807221174, 0.020902461365427442, 0.47553099606347426, 0.19334776763020384, 0.057481768754925465, 0.020902461365427442, 0.0561094616589875, 0.05288014012465729, 0.029467559000763224, 0.6486899632085822, 0.020990589973146404, 0.053283805316448565, 0.030678554576137055, 0.03552253687763238, 0.006458643068660432, 0.06539376107018688, 0.14749104914565644, 0.014644501333611278, 0.05125575466763947, 0.06694629181079441, 0.048117647239008486, 0.016736572952698602, 0.09728133028756063, 0.3954015360075045, 0.012552429714523953, 0.15062915657428744, 0.2360275851923402, 0.5769563193590538, 0.07867586173078006, 0.10490114897437341, 0.01885877410817322, 0.08486448348677948, 0.028288161162259826, 0.01885877410817322, 0.08486448348677948, 0.09429387054086609, 0.5751926102992831, 0.08486448348677948, 0.6489390155489071, 0.14420867012197935, 0.09613911341465291, 0.024034778353663227, 0.048069556707326454, 0.024034778353663227], \"Term\": [\"abandonment\", \"abandonment\", \"abandonment\", \"abandonment\", \"abandonment\", \"abandonment\", \"abandonment\", \"abnormal\", \"abnormal\", \"abnormal\", \"abuse\", \"abuse\", \"abuse\", \"abuse\", \"abuse\", \"abuse\", \"abuse\", \"abuse\", \"abuse\", \"abuse\", \"abusive\", \"abusive\", \"abusive\", \"abusive\", \"abusive\", \"abusive\", \"abusive\", \"abusive\", \"acceptable\", \"acceptable\", \"acceptable\", \"accident\", \"accident\", \"accident\", \"accident\", \"accident\", \"accident\", \"accident\", \"accurate\", \"accurate\", \"accurate\", \"actually\", \"actually\", \"actually\", \"actually\", \"actually\", \"actually\", \"actually\", \"actually\", \"actually\", \"actually\", \"acute\", \"acute\", \"acute\", \"acute\", \"adderall\", \"adderall\", \"adderall\", \"adderall\", \"adderall\", \"adderall\", \"addicted\", \"addicted\", \"addicted\", \"addicted\", \"addicted\", \"adhd\", \"adhd\", \"adhd\", \"adhd\", \"adhd\", \"adhd\", \"adhd\", \"adhd\", \"adhd\", \"adhd\", \"admit\", \"admit\", \"admit\", \"admit\", \"admit\", \"admit\", \"admit\", \"admit\", \"admit\", \"admit\", \"advice\", \"advice\", \"advice\", \"advice\", \"advice\", \"advice\", \"advice\", \"advice\", \"advice\", \"advice\", \"affect\", \"affect\", \"affect\", \"affect\", \"affect\", \"affect\", \"affect\", \"affect\", \"affect\", \"affect\", \"affection\", \"affection\", \"affection\", \"affection\", \"affection\", \"afraid\", \"afraid\", \"afraid\", \"afraid\", \"afraid\", \"afraid\", \"afraid\", \"afraid\", \"afraid\", \"afraid\", \"agree\", \"agree\", \"agree\", \"agree\", \"agree\", \"ahead\", \"ahead\", \"ahead\", \"alcohol\", \"alcohol\", \"alcohol\", \"alcohol\", \"alcohol\", \"alcohol\", \"alcohol\", \"alcohol\", \"alot\", \"alot\", \"alot\", \"alot\", \"alot\", \"alter\", \"alter\", \"alter\", \"alter\", \"alter\", \"amp\", \"amp\", \"amp\", \"amp\", \"amp\", \"amp\", \"amp\", \"amp\", \"amp\", \"anger\", \"anger\", \"anger\", \"anger\", \"anger\", \"anger\", \"anger\", \"anger\", \"anger\", \"anger\", \"anhedonia\", \"anhedonia\", \"anhedonia\", \"anhedonia\", \"anonymous\", \"anonymous\", \"anonymous\", \"anonymous\", \"anonymous\", \"anorexia\", \"anorexia\", \"anorexia\", \"anorexic\", \"anorexic\", \"anorexic\", \"anorexic\", \"anti\", \"anti\", \"anti\", \"anti\", \"anti\", \"anti\", \"anti\", \"anti\", \"antidepressant\", \"antidepressant\", \"antidepressant\", \"antidepressant\", \"antidepressant\", \"antidepressant\", \"antidepressant\", \"antidepressant\", \"antidepressant\", \"antidepressant\", \"anxiety\", \"anxiety\", \"anxiety\", \"anxiety\", \"anxiety\", \"anxiety\", \"anxiety\", \"anxiety\", \"anxiety\", \"anxiety\", \"anybody\", \"anybody\", \"anybody\", \"anybody\", \"anybody\", \"anybody\", \"anybody\", \"anybody\", \"anybody\", \"anybody\", \"apathetic\", \"apathetic\", \"apathetic\", \"apathetic\", \"apathetic\", \"apathetic\", \"apathy\", \"apathy\", \"apathy\", \"apathy\", \"apathy\", \"apathy\", \"appear\", \"appear\", \"appear\", \"appear\", \"appear\", \"appear\", \"appear\", \"appearance\", \"appearance\", \"appearance\", \"appearance\", \"appointment\", \"appointment\", \"appointment\", \"appointment\", \"appointment\", \"appointment\", \"appointment\", \"appointment\", \"appointment\", \"appointment\", \"argue\", \"argue\", \"argue\", \"argue\", \"ask\", \"ask\", \"ask\", \"ask\", \"ask\", \"ask\", \"ask\", \"ask\", \"ask\", \"ask\", \"asperger\", \"asperger\", \"asperger\", \"asperger\", \"asperger\", \"asperger\", \"asperger\", \"asperger\", \"asperger\", \"attack\", \"attack\", \"attack\", \"attack\", \"attack\", \"attack\", \"attack\", \"attack\", \"attack\", \"attack\", \"attempt\", \"attempt\", \"attempt\", \"attempt\", \"attempt\", \"attempt\", \"attempt\", \"attempt\", \"attempt\", \"attempt\", \"auditory\", \"auditory\", \"auditory\", \"auditory\", \"auditory\", \"auditory\", \"avoidant\", \"avoidant\", \"avoidant\", \"avoidant\", \"awake\", \"awake\", \"awake\", \"awake\", \"awake\", \"awake\", \"awake\", \"awareness\", \"awareness\", \"awareness\", \"awareness\", \"awareness\", \"awareness\", \"awareness\", \"away\", \"away\", \"away\", \"away\", \"away\", \"away\", \"away\", \"away\", \"away\", \"away\", \"awkward\", \"awkward\", \"awkward\", \"awkward\", \"awkward\", \"background\", \"background\", \"background\", \"background\", \"bad\", \"bad\", \"bad\", \"bad\", \"bad\", \"bad\", \"bad\", \"bad\", \"bad\", \"bad\", \"behavior\", \"behavior\", \"behavior\", \"behavior\", \"behavior\", \"behavior\", \"behavior\", \"behavior\", \"behavior\", \"behavior\", \"belief\", \"belief\", \"belief\", \"belief\", \"belief\", \"belief\", \"belief\", \"belief\", \"believe\", \"believe\", \"believe\", \"believe\", \"believe\", \"believe\", \"believe\", \"believe\", \"believe\", \"believe\", \"betterhelp\", \"betterhelp\", \"betterhelp\", \"betterhelp\", \"betterhelp\", \"betterhelp\", \"betterhelp\", \"bf\", \"bf\", \"bf\", \"bf\", \"bf\", \"bf\", \"bf\", \"bf\", \"bf\", \"bi\", \"bi\", \"bi\", \"bi\", \"bi\", \"bi\", \"bi\", \"bi\", \"bipolar\", \"bipolar\", \"bipolar\", \"bipolar\", \"bipolar\", \"bipolar\", \"bipolar\", \"bipolar\", \"bipolar\", \"bipolar\", \"bit\", \"bit\", \"bit\", \"bit\", \"bit\", \"bit\", \"bit\", \"bit\", \"bit\", \"bite\", \"bite\", \"bite\", \"bite\", \"bite\", \"blanket\", \"blanket\", \"blanket\", \"blow\", \"blow\", \"blow\", \"blow\", \"blow\", \"body\", \"body\", \"body\", \"body\", \"body\", \"body\", \"body\", \"body\", \"body\", \"body\", \"boost\", \"boost\", \"boost\", \"boost\", \"boost\", \"boost\", \"boost\", \"borderline\", \"borderline\", \"borderline\", \"borderline\", \"borderline\", \"borderline\", \"borderline\", \"borderline\", \"bore\", \"bore\", \"bore\", \"bore\", \"bore\", \"bored\", \"bored\", \"bored\", \"bored\", \"bored\", \"bored\", \"bpd\", \"bpd\", \"bpd\", \"bpd\", \"bpd\", \"bpd\", \"bpd\", \"bpd\", \"bpd\", \"brain\", \"brain\", \"brain\", \"brain\", \"brain\", \"brain\", \"brain\", \"brain\", \"brain\", \"brain\", \"break\", \"break\", \"break\", \"break\", \"break\", \"break\", \"break\", \"break\", \"break\", \"break\", \"breakdown\", \"breakdown\", \"breakdown\", \"breakdown\", \"breakdown\", \"breakdown\", \"breakdown\", \"breakdown\", \"breakdown\", \"breakdown\", \"brother\", \"brother\", \"brother\", \"brother\", \"brother\", \"brother\", \"brother\", \"brother\", \"brother\", \"brother\", \"bulimia\", \"bulimia\", \"bulimia\", \"burst\", \"burst\", \"burst\", \"burst\", \"burst\", \"burst\", \"burst\", \"call\", \"call\", \"call\", \"call\", \"call\", \"call\", \"call\", \"call\", \"call\", \"call\", \"care\", \"care\", \"care\", \"care\", \"care\", \"care\", \"care\", \"care\", \"care\", \"care\", \"career\", \"career\", \"career\", \"career\", \"career\", \"career\", \"career\", \"career\", \"cartoon\", \"cartoon\", \"cat\", \"cat\", \"cat\", \"cat\", \"cat\", \"cat\", \"cat\", \"cause\", \"cause\", \"cause\", \"cause\", \"cause\", \"cause\", \"cause\", \"cause\", \"cause\", \"cause\", \"center\", \"center\", \"center\", \"center\", \"change\", \"change\", \"change\", \"change\", \"change\", \"change\", \"change\", \"change\", \"change\", \"change\", \"character\", \"character\", \"character\", \"character\", \"character\", \"character\", \"character\", \"character\", \"character\", \"cheat\", \"cheat\", \"cheat\", \"cheat\", \"cheat\", \"cheat\", \"chemical\", \"chemical\", \"chemical\", \"choice\", \"choice\", \"choice\", \"choice\", \"choice\", \"christmas\", \"christmas\", \"christmas\", \"christmas\", \"christmas\", \"clinical\", \"clinical\", \"clinical\", \"clinical\", \"clinical\", \"clinical\", \"clinical\", \"coffee\", \"coffee\", \"cold\", \"cold\", \"cold\", \"cold\", \"cold\", \"cold\", \"cold\", \"college\", \"college\", \"college\", \"college\", \"college\", \"college\", \"college\", \"college\", \"college\", \"college\", \"concentrate\", \"concentrate\", \"concentrate\", \"confirm\", \"confirm\", \"conspiracy\", \"conspiracy\", \"conspiracy\", \"conspiracy\", \"control\", \"control\", \"control\", \"control\", \"control\", \"control\", \"control\", \"control\", \"control\", \"control\", \"cope\", \"cope\", \"cope\", \"cope\", \"cope\", \"cope\", \"cope\", \"cope\", \"cope\", \"cope\", \"courage\", \"courage\", \"courage\", \"courage\", \"courage\", \"courage\", \"crap\", \"crap\", \"crap\", \"crap\", \"crazy\", \"crazy\", \"crazy\", \"crazy\", \"crazy\", \"crazy\", \"crazy\", \"crazy\", \"crazy\", \"crazy\", \"criticism\", \"criticism\", \"criticism\", \"criticism\", \"crush\", \"crush\", \"crush\", \"crush\", \"crush\", \"crush\", \"crush\", \"crush\", \"cry\", \"cry\", \"cry\", \"cry\", \"cry\", \"cry\", \"cry\", \"cry\", \"cry\", \"cry\", \"cut\", \"cut\", \"cut\", \"cut\", \"cut\", \"cut\", \"cut\", \"cut\", \"cut\", \"cut\", \"cycle\", \"cycle\", \"cycle\", \"cycle\", \"cycle\", \"cycle\", \"cycle\", \"cycle\", \"d\", \"d\", \"d\", \"d\", \"d\", \"d\", \"dae\", \"dae\", \"dae\", \"dae\", \"dae\", \"dae\", \"dae\", \"dae\", \"dae\", \"dae\", \"day\", \"day\", \"day\", \"day\", \"day\", \"day\", \"day\", \"day\", \"day\", \"day\", \"deal\", \"deal\", \"deal\", \"deal\", \"deal\", \"deal\", \"deal\", \"deal\", \"deal\", \"deal\", \"dear\", \"dear\", \"dear\", \"death\", \"death\", \"death\", \"death\", \"death\", \"death\", \"death\", \"death\", \"death\", \"death\", \"decade\", \"decade\", \"decade\", \"deeply\", \"deeply\", \"deeply\", \"deeply\", \"deeply\", \"demon\", \"demon\", \"demon\", \"demon\", \"denial\", \"denial\", \"depersonalisation\", \"depersonalisation\", \"depersonalization\", \"depersonalization\", \"depersonalization\", \"depersonalization\", \"depersonalization\", \"depressant\", \"depressant\", \"depressant\", \"depressant\", \"depressant\", \"depressant\", \"depressant\", \"depressed\", \"depressed\", \"depressed\", \"depressed\", \"depressed\", \"depressed\", \"depressed\", \"depressed\", \"depressed\", \"depressed\", \"depression\", \"depression\", \"depression\", \"depression\", \"depression\", \"depression\", \"depression\", \"depression\", \"depression\", \"depression\", \"derealisation\", \"derealisation\", \"derealisation\", \"desire\", \"desire\", \"desire\", \"desire\", \"desire\", \"desire\", \"desire\", \"desire\", \"destructive\", \"destructive\", \"destructive\", \"destructive\", \"destructive\", \"development\", \"development\", \"development\", \"development\", \"diagnose\", \"diagnose\", \"diagnose\", \"diagnose\", \"diagnose\", \"diagnose\", \"diagnose\", \"diagnose\", \"diagnose\", \"diagnose\", \"diagnosis\", \"diagnosis\", \"diagnosis\", \"diagnosis\", \"diagnosis\", \"diagnosis\", \"diagnosis\", \"diagnosis\", \"diagnosis\", \"diagnosis\", \"die\", \"die\", \"die\", \"die\", \"die\", \"die\", \"die\", \"die\", \"die\", \"die\", \"disability\", \"disability\", \"disability\", \"disability\", \"disability\", \"disability\", \"disability\", \"disability\", \"disagree\", \"disagree\", \"disagree\", \"disassociation\", \"disassociation\", \"disassociation\", \"disassociation\", \"disassociation\", \"disconnected\", \"disconnected\", \"disconnected\", \"disconnected\", \"disconnected\", \"disconnected\", \"disconnected\", \"disconnected\", \"disease\", \"disease\", \"disease\", \"disease\", \"disease\", \"disease\", \"disease\", \"disease\", \"disease\", \"disgust\", \"disgust\", \"disgust\", \"disgust\", \"disorder\", \"disorder\", \"disorder\", \"disorder\", \"disorder\", \"disorder\", \"disorder\", \"disorder\", \"disorder\", \"disorder\", \"dissociate\", \"dissociate\", \"dissociate\", \"dissociate\", \"dissociate\", \"dissociate\", \"dissociate\", \"dissociate\", \"dissociate\", \"dissociation\", \"dissociation\", \"dissociation\", \"dissociation\", \"dissociation\", \"dissociation\", \"dissociation\", \"dissociation\", \"dissociation\", \"distraction\", \"distraction\", \"distraction\", \"distraction\", \"distraction\", \"distraction\", \"doctor\", \"doctor\", \"doctor\", \"doctor\", \"doctor\", \"doctor\", \"doctor\", \"doctor\", \"doctor\", \"doctor\", \"dosage\", \"dosage\", \"dosage\", \"dose\", \"dose\", \"dose\", \"dose\", \"dose\", \"dose\", \"dose\", \"dose\", \"dose\", \"drain\", \"drain\", \"drain\", \"drain\", \"drain\", \"drain\", \"drain\", \"drain\", \"drain\", \"drama\", \"drama\", \"drama\", \"drama\", \"drama\", \"dramatic\", \"dramatic\", \"dramatic\", \"dramatic\", \"dramatic\", \"dramatic\", \"dramatic\", \"dream\", \"dream\", \"dream\", \"dream\", \"dream\", \"dream\", \"dream\", \"dream\", \"dream\", \"dream\", \"drop\", \"drop\", \"drop\", \"drop\", \"drop\", \"drop\", \"drop\", \"drop\", \"drunk\", \"drunk\", \"drunk\", \"drunk\", \"drunk\", \"drunk\", \"dysfunction\", \"dysfunction\", \"dysmorphia\", \"dysmorphia\", \"dysmorphia\", \"dysmorphia\", \"dysmorphia\", \"dysmorphia\", \"dysphoria\", \"dysphoria\", \"dysphoria\", \"dysphoria\", \"dysphoria\", \"earth\", \"earth\", \"earth\", \"earth\", \"earth\", \"earth\", \"earth\", \"earth\", \"eat\", \"eat\", \"eat\", \"eat\", \"eat\", \"eat\", \"eat\", \"eat\", \"eat\", \"eat\", \"ego\", \"ego\", \"ego\", \"ego\", \"ego\", \"embarrassing\", \"embarrassing\", \"embarrassing\", \"embarrassing\", \"emotion\", \"emotion\", \"emotion\", \"emotion\", \"emotion\", \"emotion\", \"emotion\", \"emotion\", \"emotion\", \"emotion\", \"emotional\", \"emotional\", \"emotional\", \"emotional\", \"emotional\", \"emotional\", \"emotional\", \"emotional\", \"emotional\", \"emotional\", \"emotionally\", \"emotionally\", \"emotionally\", \"emotionally\", \"emotionally\", \"emotionally\", \"emotionally\", \"emotionally\", \"emotionally\", \"emotionally\", \"empathetic\", \"empathetic\", \"empathetic\", \"empathetic\", \"empathetic\", \"empathetic\", \"empathy\", \"empathy\", \"empathy\", \"empathy\", \"empathy\", \"empathy\", \"empathy\", \"empathy\", \"empathy\", \"employer\", \"employer\", \"employer\", \"employer\", \"employer\", \"emptiness\", \"emptiness\", \"emptiness\", \"emptiness\", \"emptiness\", \"emptiness\", \"emptiness\", \"emptiness\", \"end\", \"end\", \"end\", \"end\", \"end\", \"end\", \"end\", \"end\", \"end\", \"end\", \"energy\", \"energy\", \"energy\", \"energy\", \"energy\", \"energy\", \"energy\", \"energy\", \"energy\", \"enjoy\", \"enjoy\", \"enjoy\", \"enjoy\", \"enjoy\", \"enjoy\", \"enjoy\", \"enjoy\", \"enjoy\", \"enjoy\", \"esteem\", \"esteem\", \"esteem\", \"esteem\", \"esteem\", \"esteem\", \"esteem\", \"esteem\", \"esteem\", \"evidence\", \"evil\", \"evil\", \"evil\", \"evil\", \"evil\", \"evil\", \"ex\", \"ex\", \"ex\", \"ex\", \"ex\", \"ex\", \"ex\", \"ex\", \"ex\", \"ex\", \"expectation\", \"expectation\", \"expectation\", \"expectation\", \"experience\", \"experience\", \"experience\", \"experience\", \"experience\", \"experience\", \"experience\", \"experience\", \"experience\", \"experience\", \"explanation\", \"explanation\", \"explanation\", \"explanation\", \"explanation\", \"expose\", \"expose\", \"expose\", \"expose\", \"extremely\", \"extremely\", \"extremely\", \"extremely\", \"extremely\", \"extremely\", \"extremely\", \"extremely\", \"extremely\", \"extremely\", \"family\", \"family\", \"family\", \"family\", \"family\", \"family\", \"family\", \"family\", \"family\", \"family\", \"fast\", \"fast\", \"fast\", \"fast\", \"fast\", \"fast\", \"fast\", \"fast\", \"feel\", \"feel\", \"feel\", \"feel\", \"feel\", \"feel\", \"feel\", \"feel\", \"feel\", \"feel\", \"feeling\", \"feeling\", \"feeling\", \"feeling\", \"feeling\", \"feeling\", \"feeling\", \"feeling\", \"feeling\", \"feeling\", \"fetish\", \"fetish\", \"fetish\", \"fight\", \"fight\", \"fight\", \"fight\", \"fight\", \"fight\", \"fight\", \"fight\", \"fight\", \"fight\", \"fill\", \"fill\", \"fill\", \"fill\", \"fill\", \"find\", \"find\", \"find\", \"find\", \"find\", \"find\", \"find\", \"find\", \"find\", \"find\", \"fluoxetine\", \"fluoxetine\", \"fluoxetine\", \"focus\", \"focus\", \"focus\", \"focus\", \"focus\", \"focus\", \"focus\", \"focus\", \"focus\", \"fog\", \"fog\", \"fog\", \"fog\", \"fog\", \"fog\", \"food\", \"food\", \"food\", \"food\", \"food\", \"food\", \"food\", \"food\", \"food\", \"forward\", \"forward\", \"forward\", \"forward\", \"forward\", \"forward\", \"forward\", \"forward\", \"forward\", \"free\", \"free\", \"free\", \"free\", \"free\", \"free\", \"free\", \"free\", \"free\", \"free\", \"friend\", \"friend\", \"friend\", \"friend\", \"friend\", \"friend\", \"friend\", \"friend\", \"friend\", \"friend\", \"frustrated\", \"frustrated\", \"frustrated\", \"functioning\", \"functioning\", \"functioning\", \"functioning\", \"functioning\", \"generation\", \"generation\", \"generation\", \"generation\", \"generation\", \"genetic\", \"genetic\", \"genetic\", \"genetic\", \"genetic\", \"get\", \"get\", \"get\", \"get\", \"get\", \"get\", \"get\", \"get\", \"get\", \"get\", \"give\", \"give\", \"give\", \"give\", \"give\", \"give\", \"give\", \"give\", \"give\", \"give\", \"go\", \"go\", \"go\", \"go\", \"go\", \"go\", \"go\", \"go\", \"go\", \"go\", \"good\", \"good\", \"good\", \"good\", \"good\", \"good\", \"good\", \"good\", \"good\", \"good\", \"gp\", \"gp\", \"gp\", \"gp\", \"gp\", \"gp\", \"gp\", \"gp\", \"ground\", \"ground\", \"ground\", \"ground\", \"group\", \"group\", \"group\", \"group\", \"group\", \"group\", \"group\", \"group\", \"group\", \"group\", \"guide\", \"guide\", \"guide\", \"guide\", \"guilty\", \"guilty\", \"guilty\", \"guilty\", \"guilty\", \"guilty\", \"guilty\", \"guilty\", \"hallucinate\", \"hallucinate\", \"hallucinate\", \"hallucinate\", \"hallucinate\", \"hallucinate\", \"hallucinate\", \"hallucinate\", \"hallucination\", \"hallucination\", \"hallucination\", \"hallucination\", \"hallucination\", \"hallucination\", \"hallucination\", \"hallucination\", \"hallucination\", \"hallucination\", \"handle\", \"handle\", \"handle\", \"handle\", \"handle\", \"handle\", \"handle\", \"handle\", \"handle\", \"handle\", \"happen\", \"happen\", \"happen\", \"happen\", \"happen\", \"happen\", \"happen\", \"happen\", \"happen\", \"happen\", \"happy\", \"happy\", \"happy\", \"happy\", \"happy\", \"happy\", \"happy\", \"happy\", \"happy\", \"happy\", \"harassment\", \"harassment\", \"harassment\", \"harassment\", \"hard\", \"hard\", \"hard\", \"hard\", \"hard\", \"hard\", \"hard\", \"hard\", \"hard\", \"hard\", \"harm\", \"harm\", \"harm\", \"harm\", \"harm\", \"harm\", \"harm\", \"harm\", \"harm\", \"harm\", \"hate\", \"hate\", \"hate\", \"hate\", \"hate\", \"hate\", \"hate\", \"hate\", \"hate\", \"hate\", \"have\", \"have\", \"have\", \"have\", \"have\", \"have\", \"have\", \"have\", \"have\", \"have\", \"head\", \"head\", \"head\", \"head\", \"head\", \"head\", \"head\", \"head\", \"head\", \"head\", \"headache\", \"headache\", \"headache\", \"headache\", \"headache\", \"health\", \"health\", \"health\", \"health\", \"health\", \"health\", \"health\", \"health\", \"health\", \"health\", \"healthcare\", \"healthcare\", \"healthcare\", \"healthcare\", \"healthcare\", \"healthcare\", \"healthcare\", \"hear\", \"hear\", \"hear\", \"hear\", \"hear\", \"hear\", \"hear\", \"hear\", \"hear\", \"hearing\", \"hearing\", \"heavy\", \"heavy\", \"heavy\", \"heavy\", \"heavy\", \"heavy\", \"heavy\", \"heavy\", \"hell\", \"hell\", \"hell\", \"hell\", \"hell\", \"hell\", \"hell\", \"hell\", \"hell\", \"hell\", \"help\", \"help\", \"help\", \"help\", \"help\", \"help\", \"help\", \"help\", \"help\", \"help\", \"hey\", \"hey\", \"hey\", \"hey\", \"hey\", \"hey\", \"hey\", \"hey\", \"hey\", \"highly\", \"highly\", \"highly\", \"highly\", \"highly\", \"holiday\", \"holiday\", \"holiday\", \"holiday\", \"home\", \"home\", \"home\", \"home\", \"home\", \"home\", \"home\", \"home\", \"home\", \"home\", \"hospital\", \"hospital\", \"hospital\", \"hospital\", \"hospital\", \"hospital\", \"hospital\", \"hospital\", \"hospital\", \"hospitalization\", \"hospitalization\", \"hospitalization\", \"hospitalization\", \"hospitalization\", \"hospitalization\", \"hospitalization\", \"hospitalize\", \"hospitalize\", \"hospitalize\", \"hospitalize\", \"hospitalize\", \"hospitalize\", \"hospitalize\", \"hospitalize\", \"hospitalize\", \"hot\", \"hot\", \"hug\", \"hug\", \"hug\", \"hug\", \"hug\", \"hug\", \"hug\", \"husband\", \"husband\", \"husband\", \"husband\", \"husband\", \"husband\", \"husband\", \"husband\", \"ideation\", \"ideation\", \"ideation\", \"ideation\", \"ideation\", \"ideation\", \"ideation\", \"ideation\", \"idk\", \"idk\", \"idk\", \"idk\", \"idk\", \"idk\", \"idk\", \"idk\", \"idk\", \"ie\", \"ie\", \"ie\", \"ii\", \"ii\", \"ii\", \"ill\", \"ill\", \"ill\", \"ill\", \"ill\", \"ill\", \"ill\", \"ill\", \"ill\", \"ill\", \"illness\", \"illness\", \"illness\", \"illness\", \"illness\", \"illness\", \"illness\", \"illness\", \"illness\", \"illness\", \"imagination\", \"imagination\", \"imagination\", \"imagination\", \"imbalance\", \"imbalance\", \"imbalance\", \"imbalance\", \"inappropriate\", \"inappropriate\", \"inappropriate\", \"inappropriate\", \"inappropriate\", \"include\", \"include\", \"include\", \"include\", \"include\", \"include\", \"increase\", \"increase\", \"increase\", \"increase\", \"increase\", \"increase\", \"increase\", \"input\", \"input\", \"input\", \"input\", \"insanity\", \"insanity\", \"insanity\", \"insanity\", \"institutionalize\", \"institutionalize\", \"institutionalize\", \"institutionalize\", \"institutionalize\", \"institutionalize\", \"intention\", \"intention\", \"intention\", \"intention\", \"interesting\", \"interesting\", \"interesting\", \"introvert\", \"introvert\", \"introvert\", \"introvert\", \"introvert\", \"intrusive\", \"intrusive\", \"intrusive\", \"intrusive\", \"intrusive\", \"intrusive\", \"intrusive\", \"intrusive\", \"intrusive\", \"involuntary\", \"involuntary\", \"involuntary\", \"involuntary\", \"irritable\", \"irritable\", \"irritable\", \"issue\", \"issue\", \"issue\", \"issue\", \"issue\", \"issue\", \"issue\", \"issue\", \"issue\", \"issue\", \"job\", \"job\", \"job\", \"job\", \"job\", \"job\", \"job\", \"job\", \"job\", \"job\", \"kill\", \"kill\", \"kill\", \"kill\", \"kill\", \"kill\", \"kill\", \"kill\", \"kill\", \"kill\", \"know\", \"know\", \"know\", \"know\", \"know\", \"know\", \"know\", \"know\", \"know\", \"know\", \"label\", \"label\", \"label\", \"label\", \"label\", \"label\", \"laugh\", \"laugh\", \"laugh\", \"laugh\", \"laugh\", \"laugh\", \"laugh\", \"laugh\", \"laugh\", \"liar\", \"liar\", \"liar\", \"liar\", \"liar\", \"libido\", \"libido\", \"libido\", \"libido\", \"libido\", \"life\", \"life\", \"life\", \"life\", \"life\", \"life\", \"life\", \"life\", \"life\", \"life\", \"like\", \"like\", \"like\", \"like\", \"like\", \"like\", \"like\", \"like\", \"like\", \"like\", \"limit\", \"limit\", \"limit\", \"limit\", \"limit\", \"live\", \"live\", \"live\", \"live\", \"live\", \"live\", \"live\", \"live\", \"live\", \"live\", \"lockdown\", \"lockdown\", \"lockdown\", \"lockdown\", \"lockdown\", \"lockdown\", \"lockdown\", \"lockdown\", \"logical\", \"logical\", \"logical\", \"logical\", \"long\", \"long\", \"long\", \"long\", \"long\", \"long\", \"long\", \"long\", \"long\", \"long\", \"look\", \"look\", \"look\", \"look\", \"look\", \"look\", \"look\", \"look\", \"look\", \"look\", \"loser\", \"loser\", \"loser\", \"loser\", \"loser\", \"loser\", \"lost\", \"lost\", \"lost\", \"lost\", \"lost\", \"lost\", \"love\", \"love\", \"love\", \"love\", \"love\", \"love\", \"love\", \"love\", \"love\", \"love\", \"low\", \"low\", \"low\", \"low\", \"low\", \"low\", \"low\", \"low\", \"low\", \"low\", \"m\", \"m\", \"m\", \"m\", \"m\", \"m\", \"m\", \"m\", \"m\", \"m\", \"mad\", \"mad\", \"mad\", \"mad\", \"mad\", \"mad\", \"mad\", \"mad\", \"major\", \"major\", \"major\", \"major\", \"major\", \"major\", \"major\", \"make\", \"make\", \"make\", \"make\", \"make\", \"make\", \"make\", \"make\", \"make\", \"make\", \"maladaptive\", \"maladaptive\", \"maladaptive\", \"maladaptive\", \"maladaptive\", \"man\", \"man\", \"man\", \"man\", \"man\", \"man\", \"man\", \"man\", \"man\", \"man\", \"mania\", \"mania\", \"mania\", \"mania\", \"mania\", \"mania\", \"mania\", \"manipulate\", \"manipulate\", \"manipulate\", \"manipulate\", \"manipulate\", \"manipulate\", \"matter\", \"matter\", \"matter\", \"matter\", \"matter\", \"matter\", \"matter\", \"mean\", \"mean\", \"mean\", \"mean\", \"mean\", \"mean\", \"mean\", \"mean\", \"mean\", \"mean\", \"meaning\", \"meaning\", \"meaning\", \"meaning\", \"meaning\", \"meaning\", \"meaning\", \"med\", \"med\", \"med\", \"med\", \"med\", \"med\", \"med\", \"med\", \"med\", \"med\", \"medicate\", \"medicate\", \"medicate\", \"medicate\", \"medicate\", \"medicate\", \"medication\", \"medication\", \"medication\", \"medication\", \"medication\", \"medication\", \"medication\", \"medication\", \"medication\", \"medication\", \"memory\", \"memory\", \"memory\", \"memory\", \"memory\", \"memory\", \"memory\", \"memory\", \"memory\", \"memory\", \"mental\", \"mental\", \"mental\", \"mental\", \"mental\", \"mental\", \"mental\", \"mental\", \"mental\", \"mental\", \"mentally\", \"mentally\", \"mentally\", \"mentally\", \"mentally\", \"mentally\", \"mentally\", \"mentally\", \"mentally\", \"mentally\", \"mess\", \"mess\", \"mess\", \"mess\", \"mess\", \"mess\", \"mess\", \"mess\", \"mess\", \"mind\", \"mind\", \"mind\", \"mind\", \"mind\", \"mind\", \"mind\", \"mind\", \"mind\", \"mind\", \"mirror\", \"mirror\", \"mirror\", \"mirror\", \"mirror\", \"mirror\", \"mirror\", \"mirtazapine\", \"mirtazapine\", \"mirtazapine\", \"mirtazapine\", \"misdiagnosis\", \"misdiagnosis\", \"misdiagnosis\", \"misdiagnosis\", \"mod\", \"mod\", \"mom\", \"mom\", \"mom\", \"mom\", \"mom\", \"mom\", \"mom\", \"mom\", \"mom\", \"mom\", \"mood\", \"mood\", \"mood\", \"mood\", \"mood\", \"mood\", \"mood\", \"mood\", \"mood\", \"mood\", \"motivated\", \"motivated\", \"motivated\", \"motivated\", \"motivated\", \"motivated\", \"mum\", \"mum\", \"mum\", \"mum\", \"mum\", \"mum\", \"mum\", \"narcissist\", \"narcissist\", \"narcissist\", \"narcissist\", \"narcissist\", \"narcissist\", \"narcissist\", \"narcissist\", \"narcissist\", \"naturally\", \"naturally\", \"naturally\", \"naturally\", \"naturally\", \"naturally\", \"nature\", \"nature\", \"nature\", \"need\", \"need\", \"need\", \"need\", \"need\", \"need\", \"need\", \"need\", \"need\", \"need\", \"nervous\", \"nervous\", \"nervous\", \"nervous\", \"nervous\", \"nervous\", \"nervous\", \"nervous\", \"nervous\", \"new\", \"new\", \"new\", \"new\", \"new\", \"new\", \"new\", \"new\", \"new\", \"new\", \"nightmare\", \"nightmare\", \"nightmare\", \"nightmare\", \"nightmare\", \"nightmare\", \"nightmare\", \"nightmare\", \"nightmare\", \"nightmare\", \"normal\", \"normal\", \"normal\", \"normal\", \"normal\", \"normal\", \"normal\", \"normal\", \"normal\", \"normal\", \"nostalgia\", \"nostalgia\", \"nostalgia\", \"not\", \"not\", \"not\", \"not\", \"not\", \"not\", \"not\", \"not\", \"not\", \"not\", \"notice\", \"notice\", \"notice\", \"notice\", \"notice\", \"notice\", \"notice\", \"notice\", \"notice\", \"numb\", \"numb\", \"numb\", \"numb\", \"numb\", \"numb\", \"numb\", \"numb\", \"numb\", \"numb\", \"numbness\", \"numbness\", \"numbness\", \"numbness\", \"numbness\", \"numbness\", \"object\", \"object\", \"object\", \"object\", \"object\", \"object\", \"obsession\", \"obsession\", \"obsession\", \"obsession\", \"obsession\", \"obsession\", \"obsession\", \"obsession\", \"ocd\", \"ocd\", \"ocd\", \"ocd\", \"ocd\", \"ocd\", \"ocd\", \"ocd\", \"ocd\", \"ocd\", \"odd\", \"odd\", \"odd\", \"odd\", \"offensive\", \"offensive\", \"offensive\", \"oil\", \"oil\", \"oil\", \"oil\", \"okay\", \"okay\", \"okay\", \"okay\", \"okay\", \"okay\", \"okay\", \"okay\", \"okay\", \"okay\", \"old\", \"old\", \"old\", \"old\", \"old\", \"old\", \"old\", \"old\", \"old\", \"old\", \"online\", \"online\", \"online\", \"online\", \"online\", \"online\", \"online\", \"online\", \"online\", \"online\", \"overcome\", \"overcome\", \"overcome\", \"overcome\", \"overcome\", \"overcome\", \"overcome\", \"overcome\", \"overcome\", \"overcome\", \"panic\", \"panic\", \"panic\", \"panic\", \"panic\", \"panic\", \"panic\", \"panic\", \"panic\", \"panic\", \"paralysis\", \"paralysis\", \"paralysis\", \"paralysis\", \"paranoid\", \"paranoid\", \"paranoid\", \"paranoid\", \"paranoid\", \"paranoid\", \"paranoid\", \"paranoid\", \"paranoid\", \"paranoid\", \"parent\", \"parent\", \"parent\", \"parent\", \"parent\", \"parent\", \"parent\", \"parent\", \"parent\", \"parent\", \"passive\", \"passive\", \"passive\", \"passive\", \"passive\", \"passive\", \"passive\", \"past\", \"past\", \"past\", \"past\", \"past\", \"past\", \"past\", \"past\", \"past\", \"past\", \"pathological\", \"pathological\", \"pathological\", \"pathological\", \"pathological\", \"people\", \"people\", \"people\", \"people\", \"people\", \"people\", \"people\", \"people\", \"people\", \"people\", \"perception\", \"perception\", \"perception\", \"perception\", \"perfect\", \"perfect\", \"perfect\", \"perfect\", \"perfect\", \"period\", \"period\", \"period\", \"period\", \"period\", \"period\", \"period\", \"period\", \"period\", \"persistent\", \"persistent\", \"persistent\", \"persistent\", \"persistent\", \"persistent\", \"person\", \"person\", \"person\", \"person\", \"person\", \"person\", \"person\", \"person\", \"person\", \"person\", \"personality\", \"personality\", \"personality\", \"personality\", \"personality\", \"personality\", \"personality\", \"personality\", \"personality\", \"personality\", \"personally\", \"personally\", \"personally\", \"personally\", \"personally\", \"personally\", \"personally\", \"phobia\", \"phobia\", \"phobia\", \"phobia\", \"phobia\", \"phobia\", \"physical\", \"physical\", \"physical\", \"physical\", \"physical\", \"physical\", \"physical\", \"physical\", \"physical\", \"physical\", \"piece\", \"piece\", \"piece\", \"piece\", \"piece\", \"piece\", \"pm\", \"pm\", \"pm\", \"pm\", \"point\", \"point\", \"point\", \"point\", \"point\", \"point\", \"point\", \"point\", \"point\", \"point\", \"polar\", \"polar\", \"polar\", \"polar\", \"polar\", \"polar\", \"polar\", \"polar\", \"positive\", \"positive\", \"positive\", \"positive\", \"positive\", \"positive\", \"positive\", \"positive\", \"positive\", \"positive\", \"positivity\", \"positivity\", \"positivity\", \"positivity\", \"possible\", \"possible\", \"possible\", \"possible\", \"possible\", \"possible\", \"possible\", \"possible\", \"possible\", \"possible\", \"practitioner\", \"practitioner\", \"practitioner\", \"practitioner\", \"practitioner\", \"practitioner\", \"prefer\", \"prefer\", \"prefer\", \"prefer\", \"prefer\", \"prefer\", \"prepare\", \"prepare\", \"prepare\", \"prepare\", \"prepare\", \"prepare\", \"prepare\", \"pressure\", \"pressure\", \"pressure\", \"pressure\", \"pressure\", \"pressure\", \"pressure\", \"pressure\", \"primary\", \"primary\", \"primary\", \"problem\", \"problem\", \"problem\", \"problem\", \"problem\", \"problem\", \"problem\", \"problem\", \"problem\", \"problem\", \"professional\", \"professional\", \"professional\", \"professional\", \"professional\", \"professional\", \"professional\", \"professional\", \"professional\", \"proper\", \"proper\", \"proper\", \"proper\", \"proper\", \"proper\", \"provide\", \"provide\", \"provide\", \"provide\", \"provide\", \"provide\", \"prozac\", \"prozac\", \"prozac\", \"prozac\", \"prozac\", \"prozac\", \"prozac\", \"psych\", \"psych\", \"psych\", \"psych\", \"psych\", \"psych\", \"psych\", \"psych\", \"psych\", \"psych\", \"psychiatric\", \"psychiatric\", \"psychiatric\", \"psychiatric\", \"psychiatric\", \"psychiatric\", \"psychiatric\", \"psychiatric\", \"psychiatrist\", \"psychiatrist\", \"psychiatrist\", \"psychiatrist\", \"psychiatrist\", \"psychiatrist\", \"psychiatrist\", \"psychiatrist\", \"psychiatrist\", \"psychiatrist\", \"psychologically\", \"psychologically\", \"psychologically\", \"psychologically\", \"psychologically\", \"psychologist\", \"psychologist\", \"psychologist\", \"psychologist\", \"psychologist\", \"psychologist\", \"psychologist\", \"psychologist\", \"psychologist\", \"psychologist\", \"psychopath\", \"psychopath\", \"psychopath\", \"psychopath\", \"psychopath\", \"psychopath\", \"psychopath\", \"psychopath\", \"psychopath\", \"psychopath\", \"psychosis\", \"psychosis\", \"psychosis\", \"psychosis\", \"psychosis\", \"psychosis\", \"psychosis\", \"psychosis\", \"psychosis\", \"psychosis\", \"psychotherapist\", \"psychotherapist\", \"psychotherapist\", \"psychotherapist\", \"psychotic\", \"psychotic\", \"psychotic\", \"psychotic\", \"psychotic\", \"psychotic\", \"psychotic\", \"psychotic\", \"psychotic\", \"psychotic\", \"ptsd\", \"ptsd\", \"ptsd\", \"ptsd\", \"ptsd\", \"ptsd\", \"ptsd\", \"ptsd\", \"ptsd\", \"ptsd\", \"punch\", \"punch\", \"punch\", \"punch\", \"punch\", \"pure\", \"pure\", \"pure\", \"pure\", \"pursue\", \"pursue\", \"pursue\", \"pursue\", \"quarantine\", \"quarantine\", \"quarantine\", \"quarantine\", \"quarantine\", \"question\", \"question\", \"question\", \"question\", \"question\", \"question\", \"question\", \"question\", \"question\", \"question\", \"quote\", \"quote\", \"quote\", \"read\", \"read\", \"read\", \"read\", \"read\", \"read\", \"read\", \"read\", \"read\", \"read\", \"real\", \"real\", \"real\", \"real\", \"real\", \"real\", \"real\", \"real\", \"real\", \"real\", \"realistic\", \"realistic\", \"realistic\", \"realistic\", \"realistic\", \"realize\", \"realize\", \"realize\", \"realize\", \"realize\", \"realize\", \"realize\", \"realize\", \"realize\", \"realize\", \"reason\", \"reason\", \"reason\", \"reason\", \"reason\", \"reason\", \"reason\", \"reason\", \"reason\", \"reason\", \"recover\", \"recover\", \"recover\", \"recover\", \"recover\", \"recover\", \"recover\", \"recover\", \"recover\", \"recover\", \"redditor\", \"redditor\", \"redditor\", \"redditor\", \"reflect\", \"reflect\", \"reflect\", \"reflect\", \"reflect\", \"regain\", \"regain\", \"regain\", \"regain\", \"regain\", \"regard\", \"regard\", \"regard\", \"regard\", \"regard\", \"rehab\", \"rehab\", \"rehab\", \"rehab\", \"rehab\", \"rehab\", \"relate\", \"relate\", \"relate\", \"relate\", \"relate\", \"relate\", \"relate\", \"relate\", \"relate\", \"relate\", \"relationship\", \"relationship\", \"relationship\", \"relationship\", \"relationship\", \"relationship\", \"relationship\", \"relationship\", \"relationship\", \"relationship\", \"remember\", \"remember\", \"remember\", \"remember\", \"remember\", \"remember\", \"remember\", \"remember\", \"remember\", \"remember\", \"remind\", \"remind\", \"remind\", \"remind\", \"remind\", \"remind\", \"remind\", \"repressed\", \"repressed\", \"repressed\", \"repressed\", \"repressed\", \"repressed\", \"repressed\", \"resentment\", \"resentment\", \"resentment\", \"resentment\", \"resentment\", \"residential\", \"residential\", \"residential\", \"residential\", \"resistant\", \"resistant\", \"resistant\", \"resistant\", \"resource\", \"resource\", \"resource\", \"resource\", \"resource\", \"resource\", \"resource\", \"resource\", \"resource\", \"resource\", \"responsibility\", \"responsibility\", \"responsibility\", \"responsibility\", \"responsibility\", \"responsibility\", \"rid\", \"rid\", \"rid\", \"rid\", \"rid\", \"rid\", \"rid\", \"rid\", \"rid\", \"rid\", \"right\", \"right\", \"right\", \"right\", \"right\", \"right\", \"right\", \"right\", \"right\", \"right\", \"risk\", \"risk\", \"risk\", \"risk\", \"risk\", \"risperidone\", \"risperidone\", \"risperidone\", \"risperidone\", \"risperidone\", \"ruin\", \"ruin\", \"ruin\", \"ruin\", \"ruin\", \"ruin\", \"ruin\", \"ruin\", \"ruin\", \"ruin\", \"s\", \"s\", \"s\", \"s\", \"s\", \"s\", \"s\", \"s\", \"s\", \"s\", \"sabotage\", \"sabotage\", \"sabotage\", \"sabotage\", \"sabotage\", \"sabotage\", \"sad\", \"sad\", \"sad\", \"sad\", \"sad\", \"sad\", \"sad\", \"sad\", \"sad\", \"safe\", \"safe\", \"safe\", \"safe\", \"safe\", \"safe\", \"safe\", \"safe\", \"safe\", \"safe\", \"sake\", \"sake\", \"sake\", \"sake\", \"sake\", \"save\", \"save\", \"save\", \"save\", \"save\", \"scared\", \"scared\", \"scared\", \"scared\", \"scared\", \"scared\", \"scared\", \"scared\", \"scared\", \"scared\", \"schizoid\", \"schizoid\", \"schizoid\", \"schizoid\", \"schizophrenia\", \"schizophrenia\", \"schizophrenia\", \"schizophrenia\", \"schizophrenia\", \"schizophrenia\", \"schizophrenia\", \"schizophrenia\", \"schizophrenia\", \"schizophrenia\", \"schizophrenic\", \"schizophrenic\", \"schizophrenic\", \"schizophrenic\", \"schizophrenic\", \"schizophrenic\", \"schizophrenic\", \"schizophrenic\", \"schizophrenic\", \"scratch\", \"scratch\", \"scratch\", \"scratch\", \"scratch\", \"secret\", \"secret\", \"secret\", \"secret\", \"secret\", \"section\", \"section\", \"section\", \"section\", \"section\", \"see\", \"see\", \"see\", \"see\", \"see\", \"see\", \"see\", \"see\", \"see\", \"see\", \"seek\", \"seek\", \"seek\", \"seek\", \"seek\", \"seek\", \"seek\", \"seek\", \"seek\", \"seek\", \"self\", \"self\", \"self\", \"self\", \"self\", \"self\", \"self\", \"self\", \"self\", \"self\", \"selfish\", \"selfish\", \"selfish\", \"selfish\", \"selfish\", \"selfish\", \"selfish\", \"selfish\", \"sensitive\", \"sensitive\", \"sensitive\", \"sensitive\", \"sensitive\", \"sensitive\", \"sensitive\", \"sensitive\", \"sensitive\", \"sensitive\", \"sentence\", \"sentence\", \"sentence\", \"sentence\", \"separation\", \"separation\", \"separation\", \"separation\", \"seriously\", \"seriously\", \"seriously\", \"seriously\", \"seriously\", \"seriously\", \"seriously\", \"seriously\", \"seriously\", \"seriously\", \"service\", \"service\", \"service\", \"service\", \"service\", \"service\", \"service\", \"session\", \"session\", \"session\", \"session\", \"session\", \"session\", \"session\", \"session\", \"session\", \"shit\", \"shit\", \"shit\", \"shit\", \"shit\", \"shit\", \"shit\", \"shit\", \"shit\", \"shit\", \"short\", \"short\", \"short\", \"short\", \"short\", \"short\", \"short\", \"short\", \"short\", \"short\", \"show\", \"show\", \"show\", \"show\", \"show\", \"show\", \"show\", \"show\", \"show\", \"show\", \"shower\", \"shower\", \"shower\", \"shower\", \"shower\", \"shower\", \"shower\", \"shy\", \"shy\", \"shy\", \"shy\", \"shy\", \"sign\", \"sign\", \"sign\", \"sign\", \"sign\", \"sign\", \"sign\", \"sign\", \"sign\", \"sign\", \"significant\", \"significant\", \"significant\", \"significant\", \"significant\", \"significant\", \"silence\", \"silence\", \"silence\", \"silence\", \"silence\", \"silly\", \"silly\", \"silly\", \"silly\", \"site\", \"site\", \"site\", \"site\", \"site\", \"sleep\", \"sleep\", \"sleep\", \"sleep\", \"sleep\", \"sleep\", \"sleep\", \"sleep\", \"sleep\", \"sleep\", \"slightly\", \"slightly\", \"slightly\", \"slightly\", \"slightly\", \"slowly\", \"slowly\", \"slowly\", \"slowly\", \"slowly\", \"slowly\", \"somewhat\", \"somewhat\", \"somewhat\", \"somewhat\", \"somewhat\", \"sound\", \"sound\", \"sound\", \"sound\", \"sound\", \"sound\", \"sound\", \"sound\", \"source\", \"source\", \"source\", \"source\", \"source\", \"specialist\", \"specialist\", \"specialist\", \"specialist\", \"specialist\", \"speech\", \"speech\", \"speech\", \"split\", \"split\", \"split\", \"split\", \"split\", \"split\", \"split\", \"split\", \"ssri\", \"ssri\", \"ssri\", \"ssri\", \"ssri\", \"ssri\", \"ssri\", \"ssri\", \"ssris\", \"ssris\", \"ssris\", \"ssris\", \"ssris\", \"ssris\", \"ssris\", \"st\", \"st\", \"stage\", \"stage\", \"stage\", \"stage\", \"stage\", \"stage\", \"start\", \"start\", \"start\", \"start\", \"start\", \"start\", \"start\", \"start\", \"start\", \"start\", \"stay\", \"stay\", \"stay\", \"stay\", \"stay\", \"stay\", \"stay\", \"stay\", \"stay\", \"stay\", \"step\", \"step\", \"step\", \"step\", \"step\", \"step\", \"step\", \"step\", \"step\", \"stop\", \"stop\", \"stop\", \"stop\", \"stop\", \"stop\", \"stop\", \"stop\", \"stop\", \"stop\", \"story\", \"story\", \"story\", \"story\", \"story\", \"story\", \"story\", \"story\", \"story\", \"stress\", \"stress\", \"stress\", \"stress\", \"stress\", \"stress\", \"stress\", \"stress\", \"stress\", \"stress\", \"struggle\", \"struggle\", \"struggle\", \"struggle\", \"struggle\", \"struggle\", \"struggle\", \"struggle\", \"struggle\", \"struggle\", \"sub\", \"sub\", \"sub\", \"sub\", \"sub\", \"sub\", \"sub\", \"sub\", \"sub\", \"suffer\", \"suffer\", \"suffer\", \"suffer\", \"suffer\", \"suffer\", \"suffer\", \"suffer\", \"suffer\", \"suffer\", \"suffering\", \"suffering\", \"suffering\", \"suffering\", \"suffering\", \"suffering\", \"suicidal\", \"suicidal\", \"suicidal\", \"suicidal\", \"suicidal\", \"suicidal\", \"suicidal\", \"suicidal\", \"suicidal\", \"suicidal\", \"suicide\", \"suicide\", \"suicide\", \"suicide\", \"suicide\", \"suicide\", \"suicide\", \"suicide\", \"suicide\", \"suicide\", \"support\", \"support\", \"support\", \"support\", \"support\", \"support\", \"support\", \"support\", \"support\", \"supportive\", \"supportive\", \"supportive\", \"supportive\", \"supportive\", \"supportive\", \"suppose\", \"suppose\", \"suppose\", \"suppose\", \"suppose\", \"suppose\", \"suppose\", \"suppose\", \"suppose\", \"sure\", \"sure\", \"sure\", \"sure\", \"sure\", \"sure\", \"sure\", \"sure\", \"sure\", \"sure\", \"survey\", \"survey\", \"swing\", \"swing\", \"swing\", \"swing\", \"swing\", \"swing\", \"swing\", \"swing\", \"swing\", \"swing\", \"sympathy\", \"sympathy\", \"sympathy\", \"sympathy\", \"sympathy\", \"symptom\", \"symptom\", \"symptom\", \"symptom\", \"symptom\", \"symptom\", \"symptom\", \"symptom\", \"symptom\", \"take\", \"take\", \"take\", \"take\", \"take\", \"take\", \"take\", \"take\", \"take\", \"take\", \"talk\", \"talk\", \"talk\", \"talk\", \"talk\", \"talk\", \"talk\", \"talk\", \"talk\", \"talk\", \"taper\", \"taper\", \"taper\", \"taper\", \"tell\", \"tell\", \"tell\", \"tell\", \"tell\", \"tell\", \"tell\", \"tell\", \"tell\", \"tell\", \"term\", \"term\", \"term\", \"term\", \"term\", \"term\", \"term\", \"term\", \"term\", \"term\", \"terrify\", \"terrify\", \"terrify\", \"terrify\", \"terrify\", \"terrify\", \"terrify\", \"terror\", \"terror\", \"terror\", \"terror\", \"texte\", \"texte\", \"texte\", \"texte\", \"texte\", \"therapist\", \"therapist\", \"therapist\", \"therapist\", \"therapist\", \"therapist\", \"therapist\", \"therapist\", \"therapist\", \"therapist\", \"therapy\", \"therapy\", \"therapy\", \"therapy\", \"therapy\", \"therapy\", \"therapy\", \"therapy\", \"therapy\", \"therapy\", \"thing\", \"thing\", \"thing\", \"thing\", \"thing\", \"thing\", \"thing\", \"thing\", \"thing\", \"thing\", \"think\", \"think\", \"think\", \"think\", \"think\", \"think\", \"think\", \"think\", \"think\", \"think\", \"thought\", \"thought\", \"thought\", \"thought\", \"thought\", \"thought\", \"thought\", \"thought\", \"thought\", \"thought\", \"time\", \"time\", \"time\", \"time\", \"time\", \"time\", \"time\", \"time\", \"time\", \"time\", \"tip\", \"tip\", \"tip\", \"tip\", \"tip\", \"tip\", \"tip\", \"tip\", \"tip\", \"tip\", \"title\", \"title\", \"title\", \"title\", \"title\", \"tms\", \"tms\", \"tool\", \"tool\", \"tool\", \"tool\", \"tool\", \"totally\", \"totally\", \"totally\", \"totally\", \"totally\", \"totally\", \"totally\", \"totally\", \"trait\", \"trait\", \"trait\", \"trait\", \"trait\", \"trait\", \"trauma\", \"trauma\", \"trauma\", \"trauma\", \"trauma\", \"trauma\", \"trauma\", \"trauma\", \"trauma\", \"trauma\", \"travel\", \"travel\", \"travel\", \"travel\", \"travel\", \"travel\", \"trip\", \"trip\", \"trip\", \"trip\", \"trip\", \"trump\", \"trust\", \"trust\", \"trust\", \"trust\", \"trust\", \"trust\", \"trust\", \"trust\", \"trust\", \"truth\", \"truth\", \"truth\", \"truth\", \"truth\", \"try\", \"try\", \"try\", \"try\", \"try\", \"try\", \"try\", \"try\", \"try\", \"try\", \"turkey\", \"turkey\", \"turkey\", \"turkey\", \"turkey\", \"typical\", \"typical\", \"typical\", \"understanding\", \"understanding\", \"understanding\", \"understanding\", \"unhappy\", \"unhappy\", \"unhappy\", \"unhappy\", \"unhappy\", \"unhappy\", \"unhappy\", \"unusual\", \"unusual\", \"unusual\", \"unusual\", \"unusual\", \"unusual\", \"unusual\", \"unwanted\", \"unwanted\", \"unwanted\", \"unwanted\", \"unwanted\", \"unwanted\", \"unwanted\", \"unwanted\", \"value\", \"value\", \"value\", \"value\", \"vent\", \"vent\", \"vent\", \"vent\", \"vent\", \"vent\", \"vent\", \"vent\", \"vent\", \"vent\", \"video\", \"video\", \"video\", \"video\", \"video\", \"video\", \"video\", \"video\", \"video\", \"video\", \"violent\", \"violent\", \"violent\", \"violent\", \"violent\", \"violent\", \"violent\", \"vitamin\", \"vitamin\", \"vitamin\", \"vitamin\", \"vitamin\", \"vitamin\", \"vivid\", \"vivid\", \"vivid\", \"vivid\", \"void\", \"void\", \"void\", \"void\", \"void\", \"voluntarily\", \"voluntarily\", \"voluntarily\", \"voluntarily\", \"voluntarily\", \"voluntarily\", \"wall\", \"wall\", \"wall\", \"wall\", \"wall\", \"want\", \"want\", \"want\", \"want\", \"want\", \"want\", \"want\", \"want\", \"want\", \"want\", \"ward\", \"ward\", \"ward\", \"ward\", \"ward\", \"ward\", \"ward\", \"ward\", \"ward\", \"ward\", \"warn\", \"warn\", \"warn\", \"warn\", \"warn\", \"warning\", \"warning\", \"warning\", \"warning\", \"warning\", \"warning\", \"warning\", \"warning\", \"warning\", \"water\", \"water\", \"way\", \"way\", \"way\", \"way\", \"way\", \"way\", \"way\", \"way\", \"way\", \"way\", \"website\", \"website\", \"website\", \"website\", \"website\", \"website\", \"website\", \"weird\", \"weird\", \"weird\", \"weird\", \"weird\", \"weird\", \"weird\", \"weird\", \"weird\", \"weird\", \"well\", \"well\", \"well\", \"well\", \"well\", \"well\", \"well\", \"well\", \"well\", \"well\", \"wellness\", \"wellness\", \"wellness\", \"wellness\", \"white\", \"white\", \"white\", \"white\", \"win\", \"win\", \"win\", \"winter\", \"winter\", \"winter\", \"winter\", \"winter\", \"winter\", \"withdrawal\", \"withdrawal\", \"withdrawal\", \"withdrawal\", \"withdrawal\", \"withdrawal\", \"withdrawal\", \"withdrawal\", \"withdrawal\", \"wonder\", \"wonder\", \"wonder\", \"wonder\", \"wonder\", \"wonder\", \"wonder\", \"wonder\", \"wonder\", \"word\", \"word\", \"word\", \"word\", \"word\", \"word\", \"word\", \"word\", \"word\", \"word\", \"work\", \"work\", \"work\", \"work\", \"work\", \"work\", \"work\", \"work\", \"work\", \"work\", \"write\", \"write\", \"write\", \"write\", \"write\", \"write\", \"write\", \"write\", \"write\", \"wrong\", \"wrong\", \"wrong\", \"wrong\", \"wrong\", \"wrong\", \"wrong\", \"wrong\", \"wrong\", \"wrong\", \"year\", \"year\", \"year\", \"year\", \"year\", \"year\", \"year\", \"year\", \"year\", \"year\", \"yo\", \"yo\", \"yo\", \"yo\", \"zoloft\", \"zoloft\", \"zoloft\", \"zoloft\", \"zoloft\", \"zoloft\", \"zoloft\", \"zoloft\", \"zone\", \"zone\", \"zone\", \"zone\", \"zone\", \"zone\"]}, \"R\": 30, \"lambda.step\": 0.01, \"plot.opts\": {\"xlab\": \"PC1\", \"ylab\": \"PC2\"}, \"topic.order\": [3, 9, 7, 2, 4, 6, 8, 5, 10, 1]};\n",
       "\n",
       "function LDAvis_load_lib(url, callback){\n",
       "  var s = document.createElement('script');\n",
       "  s.src = url;\n",
       "  s.async = true;\n",
       "  s.onreadystatechange = s.onload = callback;\n",
       "  s.onerror = function(){console.warn(\"failed to load library \" + url);};\n",
       "  document.getElementsByTagName(\"head\")[0].appendChild(s);\n",
       "}\n",
       "\n",
       "if(typeof(LDAvis) !== \"undefined\"){\n",
       "   // already loaded: just create the visualization\n",
       "   !function(LDAvis){\n",
       "       new LDAvis(\"#\" + \"ldavis_el20200622755076961353964078\", ldavis_el20200622755076961353964078_data);\n",
       "   }(LDAvis);\n",
       "}else if(typeof define === \"function\" && define.amd){\n",
       "   // require.js is available: use it to load d3/LDAvis\n",
       "   require.config({paths: {d3: \"https://d3js.org/d3.v5\"}});\n",
       "   require([\"d3\"], function(d3){\n",
       "      window.d3 = d3;\n",
       "      LDAvis_load_lib(\"https://cdn.jsdelivr.net/gh/bmabey/pyLDAvis@3.3.1/pyLDAvis/js/ldavis.v3.0.0.js\", function(){\n",
       "        new LDAvis(\"#\" + \"ldavis_el20200622755076961353964078\", ldavis_el20200622755076961353964078_data);\n",
       "      });\n",
       "    });\n",
       "}else{\n",
       "    // require.js not available: dynamically load d3 & LDAvis\n",
       "    LDAvis_load_lib(\"https://d3js.org/d3.v5.js\", function(){\n",
       "         LDAvis_load_lib(\"https://cdn.jsdelivr.net/gh/bmabey/pyLDAvis@3.3.1/pyLDAvis/js/ldavis.v3.0.0.js\", function(){\n",
       "                 new LDAvis(\"#\" + \"ldavis_el20200622755076961353964078\", ldavis_el20200622755076961353964078_data);\n",
       "            })\n",
       "         });\n",
       "}\n",
       "</script>"
      ],
      "text/plain": [
       "PreparedData(topic_coordinates=              x         y  topics  cluster       Freq\n",
       "topic                                                \n",
       "2      0.122568  0.061528       1        1  11.878364\n",
       "8     -0.023168 -0.130546       2        1  10.772061\n",
       "6      0.079462 -0.052419       3        1  10.261948\n",
       "1      0.061461 -0.040465       4        1  10.082630\n",
       "3     -0.070436 -0.016673       5        1   9.980560\n",
       "5      0.005617  0.072539       6        1   9.802809\n",
       "7     -0.044123  0.045433       7        1   9.440548\n",
       "4     -0.068979  0.045573       8        1   9.410813\n",
       "9      0.008000  0.009070       9        1   9.319087\n",
       "0     -0.070403  0.005961      10        1   9.051179, topic_info=           Term         Freq        Total Category  logprob  loglift\n",
       "135      mental  7361.000000  7361.000000  Default  30.0000  30.0000\n",
       "163      health  4053.000000  4053.000000  Default  29.0000  29.0000\n",
       "2          feel  6886.000000  6886.000000  Default  28.0000  28.0000\n",
       "76         help  6862.000000  6862.000000  Default  27.0000  27.0000\n",
       "73   depression  3498.000000  3498.000000  Default  26.0000  26.0000\n",
       "..          ...          ...          ...      ...      ...      ...\n",
       "135      mental   268.505518  7361.058562  Topic10  -4.6499  -0.9088\n",
       "13      anxiety   208.141547  3375.122006  Topic10  -4.9046  -0.3837\n",
       "56       advice   183.807971  1706.491636  Topic10  -5.0289   0.1740\n",
       "169        talk   161.241616  1853.155732  Topic10  -5.1599  -0.0395\n",
       "29        wrong   161.908444  2477.300546  Topic10  -5.1557  -0.3256\n",
       "\n",
       "[732 rows x 6 columns], token_table=      Topic      Freq         Term\n",
       "term                              \n",
       "1055      1  0.093823  abandonment\n",
       "1055      2  0.040210  abandonment\n",
       "1055      4  0.562939  abandonment\n",
       "1055      5  0.013403  abandonment\n",
       "1055      7  0.040210  abandonment\n",
       "...     ...       ...          ...\n",
       "1355      2  0.144209         zone\n",
       "1355      3  0.096139         zone\n",
       "1355      5  0.024035         zone\n",
       "1355      8  0.048070         zone\n",
       "1355      9  0.024035         zone\n",
       "\n",
       "[3847 rows x 3 columns], R=30, lambda_step=0.01, plot_opts={'xlab': 'PC1', 'ylab': 'PC2'}, topic_order=[3, 9, 7, 2, 4, 6, 8, 5, 10, 1])"
      ]
     },
     "execution_count": 12,
     "metadata": {},
     "output_type": "execute_result"
    }
   ],
   "source": [
    "import pyLDAvis\n",
    "import pyLDAvis.gensim_models as gensimvis\n",
    "pyLDAvis.enable_notebook()\n",
    "lda_viz = gensimvis.prepare(lda_model, corpus, id2word)\n",
    "lda_viz"
   ]
  },
  {
   "cell_type": "code",
   "execution_count": null,
   "id": "d29e2405",
   "metadata": {
    "ExecuteTime": {
     "start_time": "2022-11-07T22:26:20.917Z"
    }
   },
   "outputs": [],
   "source": [
    "coherence_model_lda = CoherenceModel(model=lda_model, texts=texts, dictionary=id2word, coherence='c_v')\n",
    "coherence_lda = coherence_model_lda.get_coherence()\n",
    "coherence_lda"
   ]
  },
  {
   "cell_type": "code",
   "execution_count": 8,
   "id": "731ae3c5",
   "metadata": {
    "ExecuteTime": {
     "end_time": "2022-11-07T22:24:48.125518Z",
     "start_time": "2022-11-07T22:23:19.683425Z"
    }
   },
   "outputs": [],
   "source": [
    "lda_model = gensim.models.LdaMulticore(corpus=corpus,\n",
    "                                           id2word=id2word,\n",
    "                                           num_topics=10, \n",
    "                                           random_state=100,\n",
    "                                           chunksize=100,\n",
    "                                           passes=10,\n",
    "                                           alpha=0.01,\n",
    "                                           eta=0.9)"
   ]
  },
  {
   "cell_type": "code",
   "execution_count": 16,
   "id": "8182ce6d",
   "metadata": {
    "ExecuteTime": {
     "end_time": "2022-11-02T22:58:19.176878Z",
     "start_time": "2022-11-02T22:34:57.154757Z"
    }
   },
   "outputs": [
    {
     "name": "stdout",
     "output_type": "stream",
     "text": [
      "Coherence Score:  1 : 0.23150590115729255\n",
      "Coherence Score:  2 : 0.16613462060562778\n",
      "Coherence Score:  3 : 0.11826917763394512\n",
      "Coherence Score:  4 : 0.12123363972530607\n",
      "Coherence Score:  5 : 0.1258980651903131\n",
      "Coherence Score:  6 : 0.12391695139033054\n",
      "Coherence Score:  7 : 0.13282523911544966\n",
      "Coherence Score:  8 : 0.12763533899442858\n",
      "Coherence Score:  9 : 0.12460407354091448\n",
      "Coherence Score:  10 : 0.1267767910164238\n",
      "Coherence Score:  11 : 0.13416364252500232\n",
      "Coherence Score:  12 : 0.13253293268739105\n",
      "Coherence Score:  13 : 0.13827625451024098\n",
      "Coherence Score:  14 : 0.1376035680835702\n",
      "Coherence Score:  15 : 0.1413169058192366\n",
      "Coherence Score:  16 : 0.14320633512373931\n",
      "Coherence Score:  17 : 0.1453750092640464\n",
      "Coherence Score:  18 : 0.14230783870143224\n",
      "Coherence Score:  19 : 0.1477157139486982\n",
      "Coherence Score:  20 : 0.14569574014044828\n"
     ]
    }
   ],
   "source": [
    "coh_dict = {}\n",
    "for i in range(1,21):\n",
    "    lda_model = gensim.models.LdaMulticore(corpus=corpus,\n",
    "                                       id2word=id2word,\n",
    "                                       num_topics=i)\n",
    "    coherence_model_lda = CoherenceModel(model=lda_model, texts=texts, dictionary=id2word, coherence='c_v')\n",
    "    coherence_lda = coherence_model_lda.get_coherence()\n",
    "    coh_dict[i] = coherence_lda\n",
    "    print('Coherence Score: ',i,':', coherence_lda)"
   ]
  },
  {
   "cell_type": "code",
   "execution_count": 12,
   "id": "64f0857c",
   "metadata": {
    "ExecuteTime": {
     "end_time": "2022-11-05T19:53:53.301238Z",
     "start_time": "2022-11-05T19:47:58.215336Z"
    }
   },
   "outputs": [
    {
     "name": "stderr",
     "output_type": "stream",
     "text": [
      "C:\\Users\\Julia\\AppData\\Local\\Temp\\ipykernel_18324\\3861351028.py:13: FutureWarning: The frame.append method is deprecated and will be removed from pandas in a future version. Use pandas.concat instead.\n",
      "  sent_topics_df = sent_topics_df.append(pd.Series([int(topic_num), round(prop_topic,4), topic_keywords]), ignore_index=True)\n",
      "C:\\Users\\Julia\\AppData\\Local\\Temp\\ipykernel_18324\\3861351028.py:13: FutureWarning: The frame.append method is deprecated and will be removed from pandas in a future version. Use pandas.concat instead.\n",
      "  sent_topics_df = sent_topics_df.append(pd.Series([int(topic_num), round(prop_topic,4), topic_keywords]), ignore_index=True)\n"
     ]
    },
    {
     "data": {
      "text/html": [
       "<div>\n",
       "<style scoped>\n",
       "    .dataframe tbody tr th:only-of-type {\n",
       "        vertical-align: middle;\n",
       "    }\n",
       "\n",
       "    .dataframe tbody tr th {\n",
       "        vertical-align: top;\n",
       "    }\n",
       "\n",
       "    .dataframe thead th {\n",
       "        text-align: right;\n",
       "    }\n",
       "</style>\n",
       "<table border=\"1\" class=\"dataframe\">\n",
       "  <thead>\n",
       "    <tr style=\"text-align: right;\">\n",
       "      <th></th>\n",
       "      <th>Document_No</th>\n",
       "      <th>Dominant_Topic</th>\n",
       "      <th>Topic_Perc_Contrib</th>\n",
       "      <th>Keywords</th>\n",
       "      <th>Text</th>\n",
       "    </tr>\n",
       "  </thead>\n",
       "  <tbody>\n",
       "    <tr>\n",
       "      <th>0</th>\n",
       "      <td>0</td>\n",
       "      <td>0</td>\n",
       "      <td>1.0</td>\n",
       "      <td>mental, feel, help, like, health, people, anxi...</td>\n",
       "      <td>[feel, like, alive, anymore]</td>\n",
       "    </tr>\n",
       "    <tr>\n",
       "      <th>1</th>\n",
       "      <td>1</td>\n",
       "      <td>0</td>\n",
       "      <td>1.0</td>\n",
       "      <td>mental, feel, help, like, health, people, anxi...</td>\n",
       "      <td>[depress, people, shave, head]</td>\n",
       "    </tr>\n",
       "    <tr>\n",
       "      <th>2</th>\n",
       "      <td>2</td>\n",
       "      <td>0</td>\n",
       "      <td>1.0</td>\n",
       "      <td>mental, feel, help, like, health, people, anxi...</td>\n",
       "      <td>[random, urge, kill, people]</td>\n",
       "    </tr>\n",
       "    <tr>\n",
       "      <th>3</th>\n",
       "      <td>3</td>\n",
       "      <td>0</td>\n",
       "      <td>1.0</td>\n",
       "      <td>mental, feel, help, like, health, people, anxi...</td>\n",
       "      <td>[slap, arm, anxious, normal]</td>\n",
       "    </tr>\n",
       "    <tr>\n",
       "      <th>4</th>\n",
       "      <td>4</td>\n",
       "      <td>0</td>\n",
       "      <td>1.0</td>\n",
       "      <td>mental, feel, help, like, health, people, anxi...</td>\n",
       "      <td>[tip, find, psychiatrist, specialize, panic, a...</td>\n",
       "    </tr>\n",
       "    <tr>\n",
       "      <th>5</th>\n",
       "      <td>5</td>\n",
       "      <td>0</td>\n",
       "      <td>1.0</td>\n",
       "      <td>mental, feel, help, like, health, people, anxi...</td>\n",
       "      <td>[cry]</td>\n",
       "    </tr>\n",
       "    <tr>\n",
       "      <th>6</th>\n",
       "      <td>6</td>\n",
       "      <td>0</td>\n",
       "      <td>1.0</td>\n",
       "      <td>mental, feel, help, like, health, people, anxi...</td>\n",
       "      <td>[normal, feel, like]</td>\n",
       "    </tr>\n",
       "    <tr>\n",
       "      <th>7</th>\n",
       "      <td>7</td>\n",
       "      <td>0</td>\n",
       "      <td>1.0</td>\n",
       "      <td>mental, feel, help, like, health, people, anxi...</td>\n",
       "      <td>[experience, extreme, high, low]</td>\n",
       "    </tr>\n",
       "    <tr>\n",
       "      <th>8</th>\n",
       "      <td>8</td>\n",
       "      <td>0</td>\n",
       "      <td>1.0</td>\n",
       "      <td>mental, feel, help, like, health, people, anxi...</td>\n",
       "      <td>[feel, like, not, care, not, bother, thing, la...</td>\n",
       "    </tr>\n",
       "    <tr>\n",
       "      <th>9</th>\n",
       "      <td>9</td>\n",
       "      <td>0</td>\n",
       "      <td>1.0</td>\n",
       "      <td>mental, feel, help, like, health, people, anxi...</td>\n",
       "      <td>[able, stop, take, antidepressant, year]</td>\n",
       "    </tr>\n",
       "  </tbody>\n",
       "</table>\n",
       "</div>"
      ],
      "text/plain": [
       "   Document_No  Dominant_Topic  Topic_Perc_Contrib  \\\n",
       "0            0               0                 1.0   \n",
       "1            1               0                 1.0   \n",
       "2            2               0                 1.0   \n",
       "3            3               0                 1.0   \n",
       "4            4               0                 1.0   \n",
       "5            5               0                 1.0   \n",
       "6            6               0                 1.0   \n",
       "7            7               0                 1.0   \n",
       "8            8               0                 1.0   \n",
       "9            9               0                 1.0   \n",
       "\n",
       "                                            Keywords  \\\n",
       "0  mental, feel, help, like, health, people, anxi...   \n",
       "1  mental, feel, help, like, health, people, anxi...   \n",
       "2  mental, feel, help, like, health, people, anxi...   \n",
       "3  mental, feel, help, like, health, people, anxi...   \n",
       "4  mental, feel, help, like, health, people, anxi...   \n",
       "5  mental, feel, help, like, health, people, anxi...   \n",
       "6  mental, feel, help, like, health, people, anxi...   \n",
       "7  mental, feel, help, like, health, people, anxi...   \n",
       "8  mental, feel, help, like, health, people, anxi...   \n",
       "9  mental, feel, help, like, health, people, anxi...   \n",
       "\n",
       "                                                Text  \n",
       "0                       [feel, like, alive, anymore]  \n",
       "1                     [depress, people, shave, head]  \n",
       "2                       [random, urge, kill, people]  \n",
       "3                       [slap, arm, anxious, normal]  \n",
       "4  [tip, find, psychiatrist, specialize, panic, a...  \n",
       "5                                              [cry]  \n",
       "6                               [normal, feel, like]  \n",
       "7                   [experience, extreme, high, low]  \n",
       "8  [feel, like, not, care, not, bother, thing, la...  \n",
       "9           [able, stop, take, antidepressant, year]  "
      ]
     },
     "execution_count": 12,
     "metadata": {},
     "output_type": "execute_result"
    }
   ],
   "source": [
    "def format_topics_sentences(ldamodel=lda_model, corpus=corpus, texts=texts):\n",
    "    # Init output\n",
    "    sent_topics_df = pd.DataFrame()\n",
    "\n",
    "    # Get main topic in each document\n",
    "    for i, row in enumerate(ldamodel[corpus]):\n",
    "        row = sorted(row, key=lambda x: (x[1]), reverse=True)\n",
    "        # Get the Dominant topic, Perc Contribution and Keywords for each document\n",
    "        for j, (topic_num, prop_topic) in enumerate(row):\n",
    "            if j == 0:  # => dominant topic\n",
    "                wp = ldamodel.show_topic(topic_num)\n",
    "                topic_keywords = \", \".join([word for word, prop in wp])\n",
    "                sent_topics_df = sent_topics_df.append(pd.Series([int(topic_num), round(prop_topic,4), topic_keywords]), ignore_index=True)\n",
    "            else:\n",
    "                break\n",
    "    sent_topics_df.columns = ['Dominant_Topic', 'Perc_Contribution', 'Topic_Keywords']\n",
    "\n",
    "    # Add original text to the end of the output\n",
    "    contents = pd.Series(texts)\n",
    "    sent_topics_df = pd.concat([sent_topics_df, contents], axis=1)\n",
    "    return(sent_topics_df)\n",
    "\n",
    "\n",
    "df_topic_sents_keywords = format_topics_sentences(ldamodel=lda_model, corpus=corpus, texts=texts)\n",
    "\n",
    "# Format\n",
    "df_dominant_topic = df_topic_sents_keywords.reset_index()\n",
    "df_dominant_topic.columns = ['Document_No', 'Dominant_Topic', 'Topic_Perc_Contrib', 'Keywords', 'Text']\n",
    "\n",
    "# Show\n",
    "df_dominant_topic.head(10)"
   ]
  },
  {
   "cell_type": "markdown",
   "id": "a65b1b2d",
   "metadata": {},
   "source": [
    "# Processing comments"
   ]
  },
  {
   "cell_type": "code",
   "execution_count": 18,
   "id": "ee2579d0",
   "metadata": {
    "ExecuteTime": {
     "end_time": "2022-11-02T22:58:59.138031Z",
     "start_time": "2022-11-02T22:58:58.118638Z"
    }
   },
   "outputs": [],
   "source": [
    "l1 = list(all_data3.lemmatized_comment)\n",
    "X_comment= [el.split() for el in l1]"
   ]
  },
  {
   "cell_type": "code",
   "execution_count": 19,
   "id": "7a458994",
   "metadata": {
    "ExecuteTime": {
     "end_time": "2022-11-02T22:59:22.100151Z",
     "start_time": "2022-11-02T22:59:10.005868Z"
    }
   },
   "outputs": [
    {
     "name": "stdout",
     "output_type": "stream",
     "text": [
      "[(0, 3), (1, 2), (2, 1), (3, 1), (4, 1), (5, 1), (6, 1), (7, 1), (8, 2), (9, 1), (10, 1), (11, 4), (12, 1), (13, 1), (14, 2), (15, 2), (16, 1), (17, 1), (18, 1), (19, 1), (20, 1), (21, 1), (22, 1), (23, 1), (24, 2), (25, 1), (26, 1), (27, 1), (28, 1), (29, 1)]\n"
     ]
    }
   ],
   "source": [
    "# Create Dictionary\n",
    "id2word = corpora.Dictionary(X_comment)\n",
    "# Create Corpus\n",
    "texts = X_comment\n",
    "# Term Document Frequency\n",
    "corpus = [id2word.doc2bow(text) for text in texts]\n",
    "# View\n",
    "print(corpus[:1][0][:30])"
   ]
  },
  {
   "cell_type": "code",
   "execution_count": 20,
   "id": "54984bb5",
   "metadata": {
    "ExecuteTime": {
     "end_time": "2022-11-02T23:00:33.614678Z",
     "start_time": "2022-11-02T22:59:36.853933Z"
    }
   },
   "outputs": [
    {
     "name": "stdout",
     "output_type": "stream",
     "text": [
      "[(0,\n",
      "  '0.017*\"like\" + 0.017*\"feel\" + 0.013*\"help\" + 0.011*\"try\" + 0.011*\"go\" + '\n",
      "  '0.010*\"think\" + 0.010*\"time\" + 0.010*\"know\" + 0.010*\"thing\" + '\n",
      "  '0.008*\"people\"'),\n",
      " (1,\n",
      "  '0.015*\"like\" + 0.012*\"feel\" + 0.012*\"think\" + 0.010*\"people\" + 0.010*\"help\" '\n",
      "  '+ 0.009*\"know\" + 0.008*\"want\" + 0.007*\"thing\" + 0.007*\"need\" + '\n",
      "  '0.006*\"tell\"'),\n",
      " (2,\n",
      "  '0.015*\"like\" + 0.013*\"thing\" + 0.013*\"feel\" + 0.012*\"help\" + 0.011*\"think\" '\n",
      "  '+ 0.010*\"good\" + 0.009*\"people\" + 0.008*\"try\" + 0.006*\"life\" + '\n",
      "  '0.006*\"time\"'),\n",
      " (3,\n",
      "  '0.016*\"like\" + 0.014*\"feel\" + 0.011*\"good\" + 0.011*\"help\" + 0.010*\"time\" + '\n",
      "  '0.010*\"people\" + 0.008*\"think\" + 0.008*\"way\" + 0.008*\"thing\" + '\n",
      "  '0.007*\"know\"'),\n",
      " (4,\n",
      "  '0.015*\"like\" + 0.014*\"think\" + 0.013*\"help\" + 0.012*\"feel\" + 0.011*\"people\" '\n",
      "  '+ 0.010*\"know\" + 0.010*\"thing\" + 0.010*\"want\" + 0.009*\"time\" + '\n",
      "  '0.009*\"good\"'),\n",
      " (5,\n",
      "  '0.016*\"like\" + 0.014*\"thing\" + 0.014*\"feel\" + 0.012*\"know\" + 0.011*\"help\" + '\n",
      "  '0.010*\"go\" + 0.010*\"good\" + 0.009*\"people\" + 0.009*\"need\" + 0.007*\"get\"'),\n",
      " (6,\n",
      "  '0.014*\"help\" + 0.013*\"people\" + 0.013*\"feel\" + 0.011*\"thing\" + 0.011*\"try\" '\n",
      "  '+ 0.010*\"like\" + 0.010*\"think\" + 0.009*\"good\" + 0.008*\"life\" + '\n",
      "  '0.008*\"know\"'),\n",
      " (7,\n",
      "  '0.018*\"like\" + 0.012*\"feel\" + 0.012*\"know\" + 0.011*\"people\" + 0.010*\"think\" '\n",
      "  '+ 0.010*\"help\" + 0.009*\"time\" + 0.009*\"thing\" + 0.008*\"good\" + '\n",
      "  '0.007*\"want\"'),\n",
      " (8,\n",
      "  '0.016*\"like\" + 0.013*\"feel\" + 0.012*\"thing\" + 0.011*\"help\" + 0.009*\"know\" + '\n",
      "  '0.009*\"think\" + 0.008*\"good\" + 0.007*\"people\" + 0.007*\"way\" + 0.006*\"get\"'),\n",
      " (9,\n",
      "  '0.013*\"people\" + 0.011*\"feel\" + 0.009*\"like\" + 0.009*\"think\" + 0.009*\"know\" '\n",
      "  '+ 0.009*\"help\" + 0.008*\"time\" + 0.008*\"thing\" + 0.007*\"want\" + 0.007*\"way\"')]\n"
     ]
    }
   ],
   "source": [
    "# number of topics\n",
    "num_topics = 10\n",
    "# Build LDA model\n",
    "lda_model = gensim.models.LdaMulticore(corpus=corpus,\n",
    "                                       id2word=id2word,\n",
    "                                       num_topics=num_topics)\n",
    "# Print the Keyword in the 10 topics\n",
    "pprint(lda_model.print_topics())\n",
    "doc_lda = lda_model[corpus]"
   ]
  },
  {
   "cell_type": "code",
   "execution_count": 21,
   "id": "58cdc556",
   "metadata": {
    "ExecuteTime": {
     "end_time": "2022-11-02T23:36:46.669762Z",
     "start_time": "2022-11-02T23:00:55.027678Z"
    }
   },
   "outputs": [
    {
     "name": "stdout",
     "output_type": "stream",
     "text": [
      "Coherence Score:  1 : 0.29531502625155254\n",
      "Coherence Score:  2 : 0.2953150262515526\n",
      "Coherence Score:  3 : 0.29890422378045517\n",
      "Coherence Score:  4 : 0.29994589967877205\n",
      "Coherence Score:  5 : 0.30043921086200615\n",
      "Coherence Score:  6 : 0.3007961813622529\n",
      "Coherence Score:  7 : 0.2990090743100038\n",
      "Coherence Score:  8 : 0.29881395574149894\n",
      "Coherence Score:  9 : 0.299702759086115\n",
      "Coherence Score:  10 : 0.3004868279115499\n",
      "Coherence Score:  11 : 0.30099521435674315\n",
      "Coherence Score:  12 : 0.2977015516105042\n",
      "Coherence Score:  13 : 0.2990232689646579\n",
      "Coherence Score:  14 : 0.2993183047956644\n",
      "Coherence Score:  15 : 0.2975890524442297\n",
      "Coherence Score:  16 : 0.2961966143748477\n",
      "Coherence Score:  17 : 0.2986383676858421\n",
      "Coherence Score:  18 : 0.29932056495920584\n",
      "Coherence Score:  19 : 0.29928182008234466\n",
      "Coherence Score:  20 : 0.2967905074419475\n"
     ]
    }
   ],
   "source": [
    "coh_dict = {}\n",
    "for i in range(1,21):\n",
    "    lda_model = gensim.models.LdaMulticore(corpus=corpus,\n",
    "                                       id2word=id2word,\n",
    "                                       num_topics=i)\n",
    "    coherence_model_lda = CoherenceModel(model=lda_model, texts=texts, dictionary=id2word, coherence='c_v')\n",
    "    coherence_lda = coherence_model_lda.get_coherence()\n",
    "    coh_dict[i] = coherence_lda\n",
    "    print('Coherence Score: ',i,':', coherence_lda)"
   ]
  }
 ],
 "metadata": {
  "kernelspec": {
   "display_name": "Python 3 (ipykernel)",
   "language": "python",
   "name": "python3"
  },
  "language_info": {
   "codemirror_mode": {
    "name": "ipython",
    "version": 3
   },
   "file_extension": ".py",
   "mimetype": "text/x-python",
   "name": "python",
   "nbconvert_exporter": "python",
   "pygments_lexer": "ipython3",
   "version": "3.9.12"
  }
 },
 "nbformat": 4,
 "nbformat_minor": 5
}
