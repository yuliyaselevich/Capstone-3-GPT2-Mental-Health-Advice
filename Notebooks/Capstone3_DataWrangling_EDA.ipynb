{
 "cells": [
  {
   "cell_type": "code",
   "execution_count": 313,
   "id": "0d576d86",
   "metadata": {
    "ExecuteTime": {
     "end_time": "2022-10-07T15:28:59.943388Z",
     "start_time": "2022-10-07T15:28:59.859310Z"
    }
   },
   "outputs": [],
   "source": [
    "#Essentials\n",
    "import pandas as pd\n",
    "import numpy as np\n",
    "import matplotlib.pyplot as plt\n",
    "import seaborn as sns\n",
    "import csv \n",
    "import datetime as dt\n",
    "\n",
    "#For scraping Reddit\n",
    "import praw\n",
    "from psaw import PushshiftAPI\n",
    "\n",
    "#For EDA\n",
    "import re\n",
    "from wordcloud import WordCloud, STOPWORDS\n",
    "from sklearn.feature_extraction.text import TfidfVectorizer, CountVectorizer\n",
    "from sklearn.neighbors import KNeighborsClassifier \n",
    "from sklearn.cluster import KMeans\n",
    "import sklearn.cluster\n",
    "import sklearn.decomposition\n",
    "import matplotlib.colors\n",
    "from textblob import TextBlob\n",
    "from gensim.models import Word2Vec\n",
    "import nltk\n",
    "import nltk.corpus\n",
    "from nltk.corpus import nps_chat\n",
    "from nltk import pos_tag\n",
    "from nltk.stem.wordnet import WordNetLemmatizer \n",
    "from nltk.tokenize import word_tokenize\n",
    "from nltk.corpus import stopwords\n",
    "from nltk import NaiveBayesClassifier\n",
    "from nltk import TweetTokenizer\n",
    "import textstat\n",
    "import gensim.corpora as corpora\n",
    "from pprint import pprint\n",
    "import gensim\n",
    "from gensim.utils import simple_preprocess\n",
    "import pyLDAvis.gensim_models\n",
    "import pickle \n",
    "import pyLDAvis\n",
    "import os\n",
    "import emot\n",
    "import demoji"
   ]
  },
  {
   "cell_type": "code",
   "execution_count": 78,
   "id": "94149f35",
   "metadata": {
    "ExecuteTime": {
     "end_time": "2022-10-05T19:32:03.427897Z",
     "start_time": "2022-10-05T19:32:03.105659Z"
    }
   },
   "outputs": [
    {
     "name": "stderr",
     "output_type": "stream",
     "text": [
      "[nltk_data] Downloading package punkt to\n",
      "[nltk_data]     C:\\Users\\Julia\\AppData\\Roaming\\nltk_data...\n",
      "[nltk_data]   Package punkt is already up-to-date!\n",
      "[nltk_data] Downloading package nps_chat to\n",
      "[nltk_data]     C:\\Users\\Julia\\AppData\\Roaming\\nltk_data...\n",
      "[nltk_data]   Unzipping corpora\\nps_chat.zip.\n"
     ]
    },
    {
     "data": {
      "text/plain": [
       "True"
      ]
     },
     "execution_count": 78,
     "metadata": {},
     "output_type": "execute_result"
    }
   ],
   "source": [
    "nltk.download('punkt')\n",
    "nltk.download('nps_chat')"
   ]
  },
  {
   "cell_type": "markdown",
   "id": "3ab47326",
   "metadata": {},
   "source": [
    "# Mental Heatlh"
   ]
  },
  {
   "cell_type": "code",
   "execution_count": 2,
   "id": "b8743a3f",
   "metadata": {
    "ExecuteTime": {
     "end_time": "2022-09-18T21:22:53.185730Z",
     "start_time": "2022-09-18T20:58:04.726804Z"
    }
   },
   "outputs": [
    {
     "name": "stderr",
     "output_type": "stream",
     "text": [
      "C:\\Users\\Julia\\anaconda3\\lib\\site-packages\\psaw\\PushshiftAPI.py:252: UserWarning: Not all PushShift shards are active. Query results may be incomplete\n",
      "  warnings.warn(shards_down_message)\n",
      "C:\\Users\\Julia\\anaconda3\\lib\\site-packages\\psaw\\PushshiftAPI.py:192: UserWarning: Got non 200 code 429\n",
      "  warnings.warn(\"Got non 200 code %s\" % response.status_code)\n",
      "C:\\Users\\Julia\\anaconda3\\lib\\site-packages\\psaw\\PushshiftAPI.py:180: UserWarning: Unable to connect to pushshift.io. Retrying after backoff.\n",
      "  warnings.warn(\"Unable to connect to pushshift.io. Retrying after backoff.\")\n"
     ]
    }
   ],
   "source": [
    "#Thanks to dmarx for the clear code on pulling from PSAW! PSAW docs are surprisingly unclear.\n",
    "#https://github.com/dmarx/psaw\n",
    "api = PushshiftAPI()\n",
    "\n",
    "#Start date we're beginning to pull posts from\n",
    "start_epoch=int(dt.datetime(2010, 1, 1).timestamp())\n",
    "\n",
    "\n",
    "#Pulling submissions from mentalhealth (both the title and body of a post)\n",
    "\n",
    "gen_subMH = list(api.search_submissions(after=start_epoch,\n",
    "                            subreddit='mentalhealth',\n",
    "                            filter=['title', 'id','score','link_flair_text','selftext'],\n",
    "                            limit=1000000))\n",
    "\n",
    "\n",
    "#Converting to dataframe\n",
    "MHsub = pd.DataFrame([thing.d_ for thing in gen_subMH])\n"
   ]
  },
  {
   "cell_type": "code",
   "execution_count": 3,
   "id": "165cca7a",
   "metadata": {
    "ExecuteTime": {
     "end_time": "2022-09-18T21:23:10.418189Z",
     "start_time": "2022-09-18T21:22:53.194738Z"
    }
   },
   "outputs": [],
   "source": [
    "MHsub.to_csv('../Data/MHsub.csv',index=False)"
   ]
  },
  {
   "cell_type": "code",
   "execution_count": 4,
   "id": "785a786b",
   "metadata": {
    "ExecuteTime": {
     "end_time": "2022-09-18T22:57:14.543957Z",
     "start_time": "2022-09-18T21:23:10.427171Z"
    },
    "scrolled": true
   },
   "outputs": [
    {
     "name": "stderr",
     "output_type": "stream",
     "text": [
      "C:\\Users\\Julia\\anaconda3\\lib\\site-packages\\psaw\\PushshiftAPI.py:252: UserWarning: Not all PushShift shards are active. Query results may be incomplete\n",
      "  warnings.warn(shards_down_message)\n",
      "C:\\Users\\Julia\\anaconda3\\lib\\site-packages\\psaw\\PushshiftAPI.py:192: UserWarning: Got non 200 code 429\n",
      "  warnings.warn(\"Got non 200 code %s\" % response.status_code)\n",
      "C:\\Users\\Julia\\anaconda3\\lib\\site-packages\\psaw\\PushshiftAPI.py:180: UserWarning: Unable to connect to pushshift.io. Retrying after backoff.\n",
      "  warnings.warn(\"Unable to connect to pushshift.io. Retrying after backoff.\")\n"
     ]
    }
   ],
   "source": [
    "#Pulling comments from mental health\n",
    "\n",
    "gen_comMH = api.search_comments(after=start_epoch, \n",
    "                            subreddit='mentalhealth',\n",
    "                            filter=['body', 'link_id', 'id', 'score','submission'],\n",
    "                            #link_id = new_idsMH,\n",
    "                            limit=35000000)\n",
    "\n",
    "MHcom = pd.DataFrame([thing.d_ for thing in gen_comMH])"
   ]
  },
  {
   "cell_type": "code",
   "execution_count": 5,
   "id": "5fe48b92",
   "metadata": {
    "ExecuteTime": {
     "end_time": "2022-09-18T22:57:38.572099Z",
     "start_time": "2022-09-18T22:57:14.631323Z"
    }
   },
   "outputs": [],
   "source": [
    "MHcom.to_csv('../Data/MHcom.csv',index=False)"
   ]
  },
  {
   "cell_type": "markdown",
   "id": "f1fc2750",
   "metadata": {},
   "source": [
    "# Mental Illness subreddit"
   ]
  },
  {
   "cell_type": "code",
   "execution_count": 6,
   "id": "a1e7409c",
   "metadata": {
    "ExecuteTime": {
     "end_time": "2022-09-18T23:03:13.668402Z",
     "start_time": "2022-09-18T22:57:38.577089Z"
    }
   },
   "outputs": [
    {
     "name": "stderr",
     "output_type": "stream",
     "text": [
      "C:\\Users\\Julia\\anaconda3\\lib\\site-packages\\psaw\\PushshiftAPI.py:252: UserWarning: Not all PushShift shards are active. Query results may be incomplete\n",
      "  warnings.warn(shards_down_message)\n",
      "C:\\Users\\Julia\\anaconda3\\lib\\site-packages\\psaw\\PushshiftAPI.py:192: UserWarning: Got non 200 code 429\n",
      "  warnings.warn(\"Got non 200 code %s\" % response.status_code)\n",
      "C:\\Users\\Julia\\anaconda3\\lib\\site-packages\\psaw\\PushshiftAPI.py:180: UserWarning: Unable to connect to pushshift.io. Retrying after backoff.\n",
      "  warnings.warn(\"Unable to connect to pushshift.io. Retrying after backoff.\")\n"
     ]
    }
   ],
   "source": [
    "gen_subMI = list(api.search_submissions(after=start_epoch,\n",
    "                            subreddit='mentalillness',\n",
    "                            filter=['title', 'id','score','link_flair_text','selftext'],\n",
    "                            limit=1000000))\n",
    "\n",
    "\n",
    "#Converting to dataframe\n",
    "MIsub = pd.DataFrame([thing.d_ for thing in gen_subMI])"
   ]
  },
  {
   "cell_type": "code",
   "execution_count": 7,
   "id": "1b273d75",
   "metadata": {
    "ExecuteTime": {
     "end_time": "2022-09-18T23:03:15.239888Z",
     "start_time": "2022-09-18T23:03:13.681411Z"
    }
   },
   "outputs": [],
   "source": [
    "MIsub.to_csv('../Data/MIsub.csv',index=False)"
   ]
  },
  {
   "cell_type": "code",
   "execution_count": 8,
   "id": "987ecd65",
   "metadata": {
    "ExecuteTime": {
     "end_time": "2022-09-18T23:16:27.896527Z",
     "start_time": "2022-09-18T23:03:15.242882Z"
    }
   },
   "outputs": [
    {
     "name": "stderr",
     "output_type": "stream",
     "text": [
      "C:\\Users\\Julia\\anaconda3\\lib\\site-packages\\psaw\\PushshiftAPI.py:252: UserWarning: Not all PushShift shards are active. Query results may be incomplete\n",
      "  warnings.warn(shards_down_message)\n",
      "C:\\Users\\Julia\\anaconda3\\lib\\site-packages\\psaw\\PushshiftAPI.py:192: UserWarning: Got non 200 code 429\n",
      "  warnings.warn(\"Got non 200 code %s\" % response.status_code)\n",
      "C:\\Users\\Julia\\anaconda3\\lib\\site-packages\\psaw\\PushshiftAPI.py:180: UserWarning: Unable to connect to pushshift.io. Retrying after backoff.\n",
      "  warnings.warn(\"Unable to connect to pushshift.io. Retrying after backoff.\")\n"
     ]
    }
   ],
   "source": [
    "gen_comMI = api.search_comments(after=start_epoch, \n",
    "                            subreddit='mentalillness',\n",
    "                            filter=['body', 'link_id', 'id', 'score','submission'],\n",
    "                            #link_id = new_MIids,\n",
    "                            limit=35000000)\n",
    "\n",
    "MIcom = pd.DataFrame([thing.d_ for thing in gen_comMI])"
   ]
  },
  {
   "cell_type": "code",
   "execution_count": 9,
   "id": "db0e0541",
   "metadata": {
    "ExecuteTime": {
     "end_time": "2022-09-18T23:16:30.448626Z",
     "start_time": "2022-09-18T23:16:27.951685Z"
    },
    "scrolled": true
   },
   "outputs": [],
   "source": [
    "MIcom.to_csv('../Data/MIcom.csv',index=False)"
   ]
  },
  {
   "cell_type": "markdown",
   "id": "e1351904",
   "metadata": {},
   "source": [
    "# Loading the data"
   ]
  },
  {
   "cell_type": "code",
   "execution_count": 223,
   "id": "7ede4b08",
   "metadata": {
    "ExecuteTime": {
     "end_time": "2022-10-06T19:14:27.244385Z",
     "start_time": "2022-10-06T19:13:35.723167Z"
    }
   },
   "outputs": [],
   "source": [
    "MHsub = pd.read_csv('../Data/MHsub.csv')\n",
    "MHcom = pd.read_csv('../Data/MHcom.csv')\n",
    "MIsub = pd.read_csv('../Data/MIsub.csv')\n",
    "MIcom = pd.read_csv('../Data/MIcom.csv')"
   ]
  },
  {
   "cell_type": "markdown",
   "id": "af54e452",
   "metadata": {},
   "source": [
    "# Cleaning the data"
   ]
  },
  {
   "cell_type": "markdown",
   "id": "72f1d64b",
   "metadata": {},
   "source": [
    "# We can merge submissions from mentalhealth and mentalillness subreddits"
   ]
  },
  {
   "cell_type": "code",
   "execution_count": 224,
   "id": "9b646a04",
   "metadata": {
    "ExecuteTime": {
     "end_time": "2022-10-06T19:14:42.384770Z",
     "start_time": "2022-10-06T19:14:41.901180Z"
    }
   },
   "outputs": [],
   "source": [
    "all_sub = pd.concat([MHsub,MIsub])\n",
    "all_sub.reset_index(inplace=True,drop=True)"
   ]
  },
  {
   "cell_type": "code",
   "execution_count": 225,
   "id": "a34df9d5",
   "metadata": {
    "ExecuteTime": {
     "end_time": "2022-10-06T19:14:44.849553Z",
     "start_time": "2022-10-06T19:14:44.675424Z"
    }
   },
   "outputs": [
    {
     "data": {
      "text/html": [
       "<div>\n",
       "<style scoped>\n",
       "    .dataframe tbody tr th:only-of-type {\n",
       "        vertical-align: middle;\n",
       "    }\n",
       "\n",
       "    .dataframe tbody tr th {\n",
       "        vertical-align: top;\n",
       "    }\n",
       "\n",
       "    .dataframe thead th {\n",
       "        text-align: right;\n",
       "    }\n",
       "</style>\n",
       "<table border=\"1\" class=\"dataframe\">\n",
       "  <thead>\n",
       "    <tr style=\"text-align: right;\">\n",
       "      <th></th>\n",
       "      <th>created_utc</th>\n",
       "      <th>id</th>\n",
       "      <th>score</th>\n",
       "      <th>selftext</th>\n",
       "      <th>title</th>\n",
       "      <th>created</th>\n",
       "      <th>link_flair_text</th>\n",
       "    </tr>\n",
       "  </thead>\n",
       "  <tbody>\n",
       "    <tr>\n",
       "      <th>0</th>\n",
       "      <td>1663534517</td>\n",
       "      <td>xhrtbf</td>\n",
       "      <td>1</td>\n",
       "      <td>I don’t entirely want to reach out to people h...</td>\n",
       "      <td>How do I stop villainizing myself.</td>\n",
       "      <td>1.663549e+09</td>\n",
       "      <td>NaN</td>\n",
       "    </tr>\n",
       "    <tr>\n",
       "      <th>1</th>\n",
       "      <td>1663534244</td>\n",
       "      <td>xhrpbh</td>\n",
       "      <td>1</td>\n",
       "      <td>I suffer from anxiety attacks regularly, usual...</td>\n",
       "      <td>is this a panic attack or something else?</td>\n",
       "      <td>1.663549e+09</td>\n",
       "      <td>NaN</td>\n",
       "    </tr>\n",
       "    <tr>\n",
       "      <th>2</th>\n",
       "      <td>1663533992</td>\n",
       "      <td>xhrlh6</td>\n",
       "      <td>1</td>\n",
       "      <td>I've been having these thoughts lately like\\n\\...</td>\n",
       "      <td>do you ever feel like not being alive anymore</td>\n",
       "      <td>1.663548e+09</td>\n",
       "      <td>NaN</td>\n",
       "    </tr>\n",
       "    <tr>\n",
       "      <th>3</th>\n",
       "      <td>1663533274</td>\n",
       "      <td>xhrats</td>\n",
       "      <td>1</td>\n",
       "      <td>For some miraculous reason, I got a girlfriend...</td>\n",
       "      <td>Being normal</td>\n",
       "      <td>1.663548e+09</td>\n",
       "      <td>Opinion / Thoughts</td>\n",
       "    </tr>\n",
       "    <tr>\n",
       "      <th>4</th>\n",
       "      <td>1663533255</td>\n",
       "      <td>xhrajv</td>\n",
       "      <td>1</td>\n",
       "      <td>I've been going through a hard time lately and...</td>\n",
       "      <td>why do depressed people shave their heads</td>\n",
       "      <td>1.663548e+09</td>\n",
       "      <td>NaN</td>\n",
       "    </tr>\n",
       "    <tr>\n",
       "      <th>...</th>\n",
       "      <td>...</td>\n",
       "      <td>...</td>\n",
       "      <td>...</td>\n",
       "      <td>...</td>\n",
       "      <td>...</td>\n",
       "      <td>...</td>\n",
       "      <td>...</td>\n",
       "    </tr>\n",
       "    <tr>\n",
       "      <th>415285</th>\n",
       "      <td>1353891546</td>\n",
       "      <td>13sbe9</td>\n",
       "      <td>1</td>\n",
       "      <td>NaN</td>\n",
       "      <td>I look again to make sure so one is near me an...</td>\n",
       "      <td>1.353906e+09</td>\n",
       "      <td>NaN</td>\n",
       "    </tr>\n",
       "    <tr>\n",
       "      <th>415286</th>\n",
       "      <td>1348724331</td>\n",
       "      <td>10juc6</td>\n",
       "      <td>1</td>\n",
       "      <td>NaN</td>\n",
       "      <td>NAMI | Peer-to-Peer is a unique, experiential ...</td>\n",
       "      <td>1.348739e+09</td>\n",
       "      <td>NaN</td>\n",
       "    </tr>\n",
       "    <tr>\n",
       "      <th>415287</th>\n",
       "      <td>1344639905</td>\n",
       "      <td>y0sqy</td>\n",
       "      <td>0</td>\n",
       "      <td>AMA</td>\n",
       "      <td>I am rooster illusion</td>\n",
       "      <td>1.344654e+09</td>\n",
       "      <td>NaN</td>\n",
       "    </tr>\n",
       "    <tr>\n",
       "      <th>415288</th>\n",
       "      <td>1321506737</td>\n",
       "      <td>mfckr</td>\n",
       "      <td>1</td>\n",
       "      <td>so i have a lot of random impluses. crazy shit...</td>\n",
       "      <td>crazy motherfucker</td>\n",
       "      <td>1.321521e+09</td>\n",
       "      <td>NaN</td>\n",
       "    </tr>\n",
       "    <tr>\n",
       "      <th>415289</th>\n",
       "      <td>1319162763</td>\n",
       "      <td>ljftm</td>\n",
       "      <td>1</td>\n",
       "      <td>NaN</td>\n",
       "      <td>Do you love someone who has a mental illness?</td>\n",
       "      <td>1.319177e+09</td>\n",
       "      <td>NaN</td>\n",
       "    </tr>\n",
       "  </tbody>\n",
       "</table>\n",
       "<p>415290 rows × 7 columns</p>\n",
       "</div>"
      ],
      "text/plain": [
       "        created_utc      id  score  \\\n",
       "0        1663534517  xhrtbf      1   \n",
       "1        1663534244  xhrpbh      1   \n",
       "2        1663533992  xhrlh6      1   \n",
       "3        1663533274  xhrats      1   \n",
       "4        1663533255  xhrajv      1   \n",
       "...             ...     ...    ...   \n",
       "415285   1353891546  13sbe9      1   \n",
       "415286   1348724331  10juc6      1   \n",
       "415287   1344639905   y0sqy      0   \n",
       "415288   1321506737   mfckr      1   \n",
       "415289   1319162763   ljftm      1   \n",
       "\n",
       "                                                 selftext  \\\n",
       "0       I don’t entirely want to reach out to people h...   \n",
       "1       I suffer from anxiety attacks regularly, usual...   \n",
       "2       I've been having these thoughts lately like\\n\\...   \n",
       "3       For some miraculous reason, I got a girlfriend...   \n",
       "4       I've been going through a hard time lately and...   \n",
       "...                                                   ...   \n",
       "415285                                                NaN   \n",
       "415286                                                NaN   \n",
       "415287                                                AMA   \n",
       "415288  so i have a lot of random impluses. crazy shit...   \n",
       "415289                                                NaN   \n",
       "\n",
       "                                                    title       created  \\\n",
       "0                      How do I stop villainizing myself.  1.663549e+09   \n",
       "1               is this a panic attack or something else?  1.663549e+09   \n",
       "2           do you ever feel like not being alive anymore  1.663548e+09   \n",
       "3                                            Being normal  1.663548e+09   \n",
       "4               why do depressed people shave their heads  1.663548e+09   \n",
       "...                                                   ...           ...   \n",
       "415285  I look again to make sure so one is near me an...  1.353906e+09   \n",
       "415286  NAMI | Peer-to-Peer is a unique, experiential ...  1.348739e+09   \n",
       "415287                              I am rooster illusion  1.344654e+09   \n",
       "415288                                 crazy motherfucker  1.321521e+09   \n",
       "415289      Do you love someone who has a mental illness?  1.319177e+09   \n",
       "\n",
       "           link_flair_text  \n",
       "0                      NaN  \n",
       "1                      NaN  \n",
       "2                      NaN  \n",
       "3       Opinion / Thoughts  \n",
       "4                      NaN  \n",
       "...                    ...  \n",
       "415285                 NaN  \n",
       "415286                 NaN  \n",
       "415287                 NaN  \n",
       "415288                 NaN  \n",
       "415289                 NaN  \n",
       "\n",
       "[415290 rows x 7 columns]"
      ]
     },
     "execution_count": 225,
     "metadata": {},
     "output_type": "execute_result"
    }
   ],
   "source": [
    "all_sub"
   ]
  },
  {
   "cell_type": "code",
   "execution_count": 226,
   "id": "d5c7a981",
   "metadata": {
    "ExecuteTime": {
     "end_time": "2022-10-06T19:14:52.179647Z",
     "start_time": "2022-10-06T19:14:52.103607Z"
    }
   },
   "outputs": [],
   "source": [
    "all_sub['created'] = pd.to_datetime(all_sub['created'], unit='s')"
   ]
  },
  {
   "cell_type": "code",
   "execution_count": 227,
   "id": "56fe5f94",
   "metadata": {
    "ExecuteTime": {
     "end_time": "2022-10-06T19:15:12.029307Z",
     "start_time": "2022-10-06T19:15:11.911220Z"
    }
   },
   "outputs": [],
   "source": [
    "all_sub = all_sub.drop(columns=['created_utc','score','link_flair_text'])"
   ]
  },
  {
   "cell_type": "code",
   "execution_count": 228,
   "id": "768aa24b",
   "metadata": {
    "ExecuteTime": {
     "end_time": "2022-10-06T19:15:14.715204Z",
     "start_time": "2022-10-06T19:15:14.550088Z"
    }
   },
   "outputs": [],
   "source": [
    "all_sub = all_sub.rename(columns={'selftext': 'post_body'})"
   ]
  },
  {
   "cell_type": "code",
   "execution_count": 234,
   "id": "89a5aabd",
   "metadata": {
    "ExecuteTime": {
     "end_time": "2022-10-06T19:17:33.859231Z",
     "start_time": "2022-10-06T19:17:30.144931Z"
    }
   },
   "outputs": [],
   "source": [
    "#making the title & post_body lowercase for future processing.\n",
    "all_sub['post_body'] = all_sub['post_body'].astype(str)\n",
    "all_sub['title'] = all_sub['title'].astype(str)\n",
    "all_sub['title'] = all_sub['title'].apply(lambda x: x.lower())\n",
    "all_sub['post_body'] = all_sub['post_body'].apply(lambda x: x.lower())"
   ]
  },
  {
   "cell_type": "markdown",
   "id": "a9cb5a0f",
   "metadata": {
    "ExecuteTime": {
     "end_time": "2022-10-06T19:17:39.840703Z",
     "start_time": "2022-10-06T19:17:39.824705Z"
    }
   },
   "source": [
    "# Merging two dataframes with comments"
   ]
  },
  {
   "cell_type": "code",
   "execution_count": 236,
   "id": "06ad8704",
   "metadata": {
    "ExecuteTime": {
     "end_time": "2022-10-06T19:18:52.664959Z",
     "start_time": "2022-10-06T19:18:52.202318Z"
    }
   },
   "outputs": [],
   "source": [
    "all_com = pd.concat([MHcom,MIcom])"
   ]
  },
  {
   "cell_type": "code",
   "execution_count": 237,
   "id": "5eeecdbd",
   "metadata": {
    "ExecuteTime": {
     "end_time": "2022-10-06T19:19:27.620576Z",
     "start_time": "2022-10-06T19:19:27.593414Z"
    }
   },
   "outputs": [
    {
     "data": {
      "text/html": [
       "<div>\n",
       "<style scoped>\n",
       "    .dataframe tbody tr th:only-of-type {\n",
       "        vertical-align: middle;\n",
       "    }\n",
       "\n",
       "    .dataframe tbody tr th {\n",
       "        vertical-align: top;\n",
       "    }\n",
       "\n",
       "    .dataframe thead th {\n",
       "        text-align: right;\n",
       "    }\n",
       "</style>\n",
       "<table border=\"1\" class=\"dataframe\">\n",
       "  <thead>\n",
       "    <tr style=\"text-align: right;\">\n",
       "      <th></th>\n",
       "      <th>body</th>\n",
       "      <th>created_utc</th>\n",
       "      <th>id</th>\n",
       "      <th>link_id</th>\n",
       "      <th>score</th>\n",
       "      <th>created</th>\n",
       "    </tr>\n",
       "  </thead>\n",
       "  <tbody>\n",
       "    <tr>\n",
       "      <th>0</th>\n",
       "      <td>[removed]</td>\n",
       "      <td>1663536087</td>\n",
       "      <td>iozbxkr</td>\n",
       "      <td>t3_xhsag5</td>\n",
       "      <td>1</td>\n",
       "      <td>1.663550e+09</td>\n",
       "    </tr>\n",
       "    <tr>\n",
       "      <th>1</th>\n",
       "      <td>Bro it seems you may actually delusional no ju...</td>\n",
       "      <td>1663536013</td>\n",
       "      <td>iozbqlk</td>\n",
       "      <td>t3_xhsag5</td>\n",
       "      <td>1</td>\n",
       "      <td>1.663550e+09</td>\n",
       "    </tr>\n",
       "    <tr>\n",
       "      <th>2</th>\n",
       "      <td>Thank you for for sharing. A reminder: if you ...</td>\n",
       "      <td>1663535972</td>\n",
       "      <td>iozbmub</td>\n",
       "      <td>t3_xhsf3f</td>\n",
       "      <td>1</td>\n",
       "      <td>1.663550e+09</td>\n",
       "    </tr>\n",
       "    <tr>\n",
       "      <th>3</th>\n",
       "      <td>Thanks</td>\n",
       "      <td>1663535958</td>\n",
       "      <td>iozbljf</td>\n",
       "      <td>t3_xhkzmw</td>\n",
       "      <td>1</td>\n",
       "      <td>1.663550e+09</td>\n",
       "    </tr>\n",
       "    <tr>\n",
       "      <th>4</th>\n",
       "      <td>I definitely have body image issues and I’m th...</td>\n",
       "      <td>1663535919</td>\n",
       "      <td>iozbi1l</td>\n",
       "      <td>t3_xhkzmw</td>\n",
       "      <td>1</td>\n",
       "      <td>1.663550e+09</td>\n",
       "    </tr>\n",
       "    <tr>\n",
       "      <th>...</th>\n",
       "      <td>...</td>\n",
       "      <td>...</td>\n",
       "      <td>...</td>\n",
       "      <td>...</td>\n",
       "      <td>...</td>\n",
       "      <td>...</td>\n",
       "    </tr>\n",
       "    <tr>\n",
       "      <th>195872</th>\n",
       "      <td>This further stigmatizes mental illness. It do...</td>\n",
       "      <td>1388387508</td>\n",
       "      <td>ced74e0</td>\n",
       "      <td>t3_1r79dm</td>\n",
       "      <td>3</td>\n",
       "      <td>1.388402e+09</td>\n",
       "    </tr>\n",
       "    <tr>\n",
       "      <th>195873</th>\n",
       "      <td>I hear ya. Sister suffers from bi-polar and mi...</td>\n",
       "      <td>1388367327</td>\n",
       "      <td>cecz8pw</td>\n",
       "      <td>t3_1qbx9v</td>\n",
       "      <td>2</td>\n",
       "      <td>1.388382e+09</td>\n",
       "    </tr>\n",
       "    <tr>\n",
       "      <th>195874</th>\n",
       "      <td>If i have to read another overwrought analogy ...</td>\n",
       "      <td>1387557036</td>\n",
       "      <td>ce6e980</td>\n",
       "      <td>t3_1r79dm</td>\n",
       "      <td>2</td>\n",
       "      <td>1.387571e+09</td>\n",
       "    </tr>\n",
       "    <tr>\n",
       "      <th>195875</th>\n",
       "      <td>Ugh, that's atrocious.  Just because I can't w...</td>\n",
       "      <td>1385376904</td>\n",
       "      <td>cdmivce</td>\n",
       "      <td>t3_1r79dm</td>\n",
       "      <td>7</td>\n",
       "      <td>1.385391e+09</td>\n",
       "    </tr>\n",
       "    <tr>\n",
       "      <th>195876</th>\n",
       "      <td>Best quote from the interview: Are you telling...</td>\n",
       "      <td>1370800725</td>\n",
       "      <td>cafcjn9</td>\n",
       "      <td>t3_1fzphf</td>\n",
       "      <td>1</td>\n",
       "      <td>1.370815e+09</td>\n",
       "    </tr>\n",
       "  </tbody>\n",
       "</table>\n",
       "<p>1556846 rows × 6 columns</p>\n",
       "</div>"
      ],
      "text/plain": [
       "                                                     body  created_utc  \\\n",
       "0                                               [removed]   1663536087   \n",
       "1       Bro it seems you may actually delusional no ju...   1663536013   \n",
       "2       Thank you for for sharing. A reminder: if you ...   1663535972   \n",
       "3                                                  Thanks   1663535958   \n",
       "4       I definitely have body image issues and I’m th...   1663535919   \n",
       "...                                                   ...          ...   \n",
       "195872  This further stigmatizes mental illness. It do...   1388387508   \n",
       "195873  I hear ya. Sister suffers from bi-polar and mi...   1388367327   \n",
       "195874  If i have to read another overwrought analogy ...   1387557036   \n",
       "195875  Ugh, that's atrocious.  Just because I can't w...   1385376904   \n",
       "195876  Best quote from the interview: Are you telling...   1370800725   \n",
       "\n",
       "             id    link_id  score       created  \n",
       "0       iozbxkr  t3_xhsag5      1  1.663550e+09  \n",
       "1       iozbqlk  t3_xhsag5      1  1.663550e+09  \n",
       "2       iozbmub  t3_xhsf3f      1  1.663550e+09  \n",
       "3       iozbljf  t3_xhkzmw      1  1.663550e+09  \n",
       "4       iozbi1l  t3_xhkzmw      1  1.663550e+09  \n",
       "...         ...        ...    ...           ...  \n",
       "195872  ced74e0  t3_1r79dm      3  1.388402e+09  \n",
       "195873  cecz8pw  t3_1qbx9v      2  1.388382e+09  \n",
       "195874  ce6e980  t3_1r79dm      2  1.387571e+09  \n",
       "195875  cdmivce  t3_1r79dm      7  1.385391e+09  \n",
       "195876  cafcjn9  t3_1fzphf      1  1.370815e+09  \n",
       "\n",
       "[1556846 rows x 6 columns]"
      ]
     },
     "execution_count": 237,
     "metadata": {},
     "output_type": "execute_result"
    }
   ],
   "source": [
    "all_com"
   ]
  },
  {
   "cell_type": "code",
   "execution_count": 238,
   "id": "f4d2c133",
   "metadata": {
    "ExecuteTime": {
     "end_time": "2022-10-06T19:19:59.617923Z",
     "start_time": "2022-10-06T19:19:59.245713Z"
    }
   },
   "outputs": [],
   "source": [
    "all_com['body'] = all_com['body'].astype('string')"
   ]
  },
  {
   "cell_type": "code",
   "execution_count": 239,
   "id": "fb0a8f52",
   "metadata": {
    "ExecuteTime": {
     "end_time": "2022-10-06T19:21:21.877262Z",
     "start_time": "2022-10-06T19:21:18.719402Z"
    }
   },
   "outputs": [],
   "source": [
    "# removing all duplicate comments which mostly include automatic replies from bots or [removed] and [deleted] comments\n",
    "all_com = all_com[~all_com.body.duplicated(keep=False)].reset_index(drop=True)"
   ]
  },
  {
   "cell_type": "code",
   "execution_count": 241,
   "id": "5dd9027d",
   "metadata": {
    "ExecuteTime": {
     "end_time": "2022-10-06T19:22:36.240552Z",
     "start_time": "2022-10-06T19:22:29.533763Z"
    }
   },
   "outputs": [],
   "source": [
    "# list of indexes of all comments that have only one word.\n",
    "one_word = list(all_com[[len(i.split())==1 for i in all_com['body'].values]].index)\n",
    "# dropping all the comments that have one word only\n",
    "all_com = all_com.drop(index=one_word).reset_index(drop=True)"
   ]
  },
  {
   "cell_type": "code",
   "execution_count": 243,
   "id": "84e61b57",
   "metadata": {
    "ExecuteTime": {
     "end_time": "2022-10-06T19:23:12.453162Z",
     "start_time": "2022-10-06T19:23:09.260837Z"
    }
   },
   "outputs": [],
   "source": [
    "# grouping all comments with the same link_id (i.e. beloning to the same submission)\n",
    "all_com = pd.DataFrame(all_com.groupby('link_id')['body'].sum()).reset_index(level=0)"
   ]
  },
  {
   "cell_type": "code",
   "execution_count": 244,
   "id": "7f1c6380",
   "metadata": {
    "ExecuteTime": {
     "end_time": "2022-10-06T19:24:15.570779Z",
     "start_time": "2022-10-06T19:24:15.393653Z"
    }
   },
   "outputs": [],
   "source": [
    "# removing 't3_' from link_id to find a match in dataframe withs submissions\n",
    "all_com['link_id'] = all_com.link_id.map(lambda x: x.strip(\"t3_\"))\n",
    "all_com.rename(columns={'link_id':'id'},inplace=True)"
   ]
  },
  {
   "cell_type": "code",
   "execution_count": 252,
   "id": "013f849a",
   "metadata": {
    "ExecuteTime": {
     "end_time": "2022-10-06T19:28:14.888935Z",
     "start_time": "2022-10-06T19:28:08.266168Z"
    }
   },
   "outputs": [],
   "source": [
    "# merging submissions and comments on their id\n",
    "all_data = pd.merge(all_sub,all_com,how='left',on=['id'])"
   ]
  },
  {
   "cell_type": "code",
   "execution_count": 255,
   "id": "fb4fab76",
   "metadata": {
    "ExecuteTime": {
     "end_time": "2022-10-06T19:29:30.000502Z",
     "start_time": "2022-10-06T19:29:29.780334Z"
    }
   },
   "outputs": [],
   "source": [
    "all_data = all_data[all_data['body'] != '<NA>'].reset_index(drop=True)"
   ]
  },
  {
   "cell_type": "code",
   "execution_count": 257,
   "id": "ee6add00",
   "metadata": {
    "ExecuteTime": {
     "end_time": "2022-10-06T19:30:36.689200Z",
     "start_time": "2022-10-06T19:30:36.665196Z"
    }
   },
   "outputs": [
    {
     "data": {
      "text/html": [
       "<div>\n",
       "<style scoped>\n",
       "    .dataframe tbody tr th:only-of-type {\n",
       "        vertical-align: middle;\n",
       "    }\n",
       "\n",
       "    .dataframe tbody tr th {\n",
       "        vertical-align: top;\n",
       "    }\n",
       "\n",
       "    .dataframe thead th {\n",
       "        text-align: right;\n",
       "    }\n",
       "</style>\n",
       "<table border=\"1\" class=\"dataframe\">\n",
       "  <thead>\n",
       "    <tr style=\"text-align: right;\">\n",
       "      <th></th>\n",
       "      <th>id</th>\n",
       "      <th>post_body</th>\n",
       "      <th>title</th>\n",
       "      <th>created</th>\n",
       "      <th>comment_body</th>\n",
       "    </tr>\n",
       "  </thead>\n",
       "  <tbody>\n",
       "    <tr>\n",
       "      <th>0</th>\n",
       "      <td>xhrlh6</td>\n",
       "      <td>i've been having these thoughts lately like\\n\\...</td>\n",
       "      <td>do you ever feel like not being alive anymore</td>\n",
       "      <td>2022-09-19 00:46:32</td>\n",
       "      <td>As for anchors My only anchor is I need to be ...</td>\n",
       "    </tr>\n",
       "    <tr>\n",
       "      <th>1</th>\n",
       "      <td>xhrajv</td>\n",
       "      <td>i've been going through a hard time lately and...</td>\n",
       "      <td>why do depressed people shave their heads</td>\n",
       "      <td>2022-09-19 00:34:15</td>\n",
       "      <td>I don’t know because I never had the urge but ...</td>\n",
       "    </tr>\n",
       "    <tr>\n",
       "      <th>2</th>\n",
       "      <td>xhr49p</td>\n",
       "      <td>idk why but every now and then i'll just get t...</td>\n",
       "      <td>random urge to kill people</td>\n",
       "      <td>2022-09-19 00:27:15</td>\n",
       "      <td>You are a coward that can't handle the fact th...</td>\n",
       "    </tr>\n",
       "    <tr>\n",
       "      <th>3</th>\n",
       "      <td>xhq4pa</td>\n",
       "      <td>i have ocd that gives me intrusive thoughts ab...</td>\n",
       "      <td>need a therapist that specializes in concernin...</td>\n",
       "      <td>2022-09-18 23:46:40</td>\n",
       "      <td>Unless there is an actual crime or abuse to re...</td>\n",
       "    </tr>\n",
       "    <tr>\n",
       "      <th>4</th>\n",
       "      <td>xhpsmb</td>\n",
       "      <td>i have no friends, i don't like my family at a...</td>\n",
       "      <td>17m i think i should end my life early</td>\n",
       "      <td>2022-09-18 23:33:01</td>\n",
       "      <td>Aye yes, I know when I get depressed I sit in ...</td>\n",
       "    </tr>\n",
       "  </tbody>\n",
       "</table>\n",
       "</div>"
      ],
      "text/plain": [
       "       id                                          post_body  \\\n",
       "0  xhrlh6  i've been having these thoughts lately like\\n\\...   \n",
       "1  xhrajv  i've been going through a hard time lately and...   \n",
       "2  xhr49p  idk why but every now and then i'll just get t...   \n",
       "3  xhq4pa  i have ocd that gives me intrusive thoughts ab...   \n",
       "4  xhpsmb  i have no friends, i don't like my family at a...   \n",
       "\n",
       "                                               title             created  \\\n",
       "0      do you ever feel like not being alive anymore 2022-09-19 00:46:32   \n",
       "1          why do depressed people shave their heads 2022-09-19 00:34:15   \n",
       "2                         random urge to kill people 2022-09-19 00:27:15   \n",
       "3  need a therapist that specializes in concernin... 2022-09-18 23:46:40   \n",
       "4             17m i think i should end my life early 2022-09-18 23:33:01   \n",
       "\n",
       "                                        comment_body  \n",
       "0  As for anchors My only anchor is I need to be ...  \n",
       "1  I don’t know because I never had the urge but ...  \n",
       "2  You are a coward that can't handle the fact th...  \n",
       "3  Unless there is an actual crime or abuse to re...  \n",
       "4  Aye yes, I know when I get depressed I sit in ...  "
      ]
     },
     "execution_count": 257,
     "metadata": {},
     "output_type": "execute_result"
    }
   ],
   "source": [
    "all_data.rename(columns = {'body':'comment_body'},inplace=True)\n",
    "all_data.head()"
   ]
  },
  {
   "cell_type": "markdown",
   "id": "98a7b201",
   "metadata": {},
   "source": [
    "# Since we're only interested in submissions that have a question, we will need to analyze all the titles of submission and check if they are questions of not"
   ]
  },
  {
   "cell_type": "code",
   "execution_count": 260,
   "id": "3aa2cc2c",
   "metadata": {
    "ExecuteTime": {
     "end_time": "2022-10-06T19:31:04.796879Z",
     "start_time": "2022-10-06T19:31:04.752838Z"
    }
   },
   "outputs": [],
   "source": [
    "question_words = [\"what\", \"why\", \"when\", \"where\", \"name\", \"is\", \"how\", \"do\", \"does\", \n",
    "                  \"which\", \"are\", \"could\", \"would\", \"should\", \"has\", \"have\", \"whom\", \n",
    "                  \"whose\", \"don't\",'am','can',\"do i\", \"do you\", \"what\", \"who\", \"is it\", \n",
    "                  \"why\",\"would you\", \"how\",\"is there\",\"are there\", \"is it so\", \"is this true\" ,\n",
    "                  \"to know\", \"is that true\", \"are we\", \"am i\", \"question is\", \"tell me more\", \n",
    "                  \"can i\", \"can we\", \"tell me\", \"can you explain\",\"didn't\",\"doesn't\",\"haven't\",\"isn't\",\"aren't\",\"can't\",\"couldn't\",\"wouldn't\",\"won't\",\"shouldn't\"]\n",
    "\n",
    "def is_question(text):\n",
    "    question = text.lower()\n",
    "    question = word_tokenize(question)\n",
    "    if any(x in question[0] for x in question_words):\n",
    "        res = True\n",
    "    else:\n",
    "        res = False\n",
    "    return res"
   ]
  },
  {
   "cell_type": "code",
   "execution_count": 261,
   "id": "01d04739",
   "metadata": {
    "ExecuteTime": {
     "end_time": "2022-10-06T19:31:39.937294Z",
     "start_time": "2022-10-06T19:31:16.747578Z"
    }
   },
   "outputs": [],
   "source": [
    "all_data['question'] = all_data.title.apply(is_question)"
   ]
  },
  {
   "cell_type": "code",
   "execution_count": 265,
   "id": "afb58d09",
   "metadata": {
    "ExecuteTime": {
     "end_time": "2022-10-06T19:34:45.045065Z",
     "start_time": "2022-10-06T19:34:41.531537Z"
    }
   },
   "outputs": [
    {
     "name": "stdout",
     "output_type": "stream",
     "text": [
      "Accuracy is :  0.6685606060606061\n"
     ]
    }
   ],
   "source": [
    "### adapted from https://github.com/kartikn27/nlp-question-detection/blob/master/method2.py\n",
    "class IsQuestion():\n",
    "    \n",
    "    # Init constructor\n",
    "    def __init__(self):\n",
    "        posts = self.__get_posts()\n",
    "        feature_set = self.__get_feature_set(posts)\n",
    "        self.classifier = self.__perform_classification(feature_set)\n",
    "        \n",
    "    # Method (Private): __get_posts\n",
    "    # Input: None\n",
    "    # Output: Posts (Text) from NLTK's nps_chat package\n",
    "    def __get_posts(self):\n",
    "        return nltk.corpus.nps_chat.xml_posts()\n",
    "    \n",
    "    # Method (Private): __get_feature_set\n",
    "    # Input: Posts from NLTK's nps_chat package\n",
    "    # Processing: 1. preserve alpha numeric characters, whitespace, apostrophe\n",
    "    # 2. Tokenize sentences using NLTK's word_tokenize\n",
    "    # 3. Create a dictionary of list of tuples for each post where tuples index 0 is the dictionary of words occuring in the sentence and index 1 is the class as received from nps_chat package \n",
    "    # Return: List of tuples for each post\n",
    "    def __get_feature_set(self, posts):\n",
    "        feature_list = []\n",
    "        for post in posts:\n",
    "            post_text = post.text            \n",
    "            features = {}\n",
    "            words = nltk.word_tokenize(post_text)\n",
    "            for word in words:\n",
    "                features['contains({})'.format(word.lower())] = True\n",
    "            feature_list.append((features, post.get('class')))\n",
    "        return feature_list\n",
    "    \n",
    "    # Method (Private): __perform_classification\n",
    "    # Input: List of tuples for each post\n",
    "    # Processing: 1. Divide data into 80% training and 10% testing sets\n",
    "    # 2. Use NLTK's Multinomial Naive Bayes to perform classifcation\n",
    "    # 3. Print the Accuracy of the model\n",
    "    # Return: Classifier object\n",
    "    def __perform_classification(self, feature_set):\n",
    "        training_size = int(len(feature_set) * 0.1)\n",
    "        train_set, test_set = feature_set[training_size:], feature_set[:training_size]\n",
    "        classifier = nltk.NaiveBayesClassifier.train(train_set)\n",
    "        print('Accuracy is : ', nltk.classify.accuracy(classifier, test_set))\n",
    "        return classifier\n",
    "        \n",
    "    # Method (private): __get_question_words_set\n",
    "    # Input: None\n",
    "    # Return: Set of commonly occuring words in questions\n",
    "    def __get_question_words_set(self):\n",
    "        question_word_list = ['what', 'where', 'when','how','why','did','do','does','have','has','am','is','are',\n",
    "                              'can','could','may','would','will','should',\"has\", \"have\", \"whom\",'whose',\"didn't\",\n",
    "                              \"doesn't\",\"haven't\",\"isn't\",\"aren't\",\"can't\",\"couldn't\",\"wouldn't\",\"won't\",\"shouldn't\",'?',\n",
    "                             \"what\", \"why\", \"when\", \"where\", \"name\", \"is\", \"how\", \"do\", \"does\", \n",
    "                  \"which\", \"are\", \"could\", \"would\", \"should\", \"has\", \"have\", \"whom\", \n",
    "                  \"whose\", \"don't\",'am','can',\"do i\", \"do you\", \"what\", \"who\", \"is it\", \n",
    "                  \"why\",\"would you\", \"how\",\"is there\",\"are there\", \"is it so\", \"is this true\" ,\n",
    "                  \"to know\", \"is that true\", \"are we\", \"am i\", \"question is\", \"tell me more\", \n",
    "                  \"can i\", \"can we\", \"tell me\", \"can you explain\",\"didn't\",\"doesn't\",\"haven't\",\"isn't\",\"aren't\",\"can't\",\"couldn't\",\"wouldn't\",\"won't\",\"shouldn't\"]\n",
    "        return set(question_word_list)        \n",
    "    \n",
    "    # Method (Public): predict_question\n",
    "    # Input: Sentence to be predicted\n",
    "    # Return: 1 - If sentence is question | 0 - If sentence is not question\n",
    "    def predict_question(self, text):\n",
    "        words = nltk.word_tokenize(text.lower())        \n",
    "        if self.__get_question_words_set().intersection(words) == False:\n",
    "            return 0\n",
    "        if '?' in text:\n",
    "            return 1\n",
    "        \n",
    "        features = {}\n",
    "        for word in words:\n",
    "            features['contains({})'.format(word.lower())] = True            \n",
    "        \n",
    "        prediction_result = self.classifier.classify(features)\n",
    "        if prediction_result == 'whQuestion' or prediction_result == 'ynQuestion':\n",
    "            return 1\n",
    "        return 0\n",
    "    \n",
    "    # Method (Public): predict_question_type\n",
    "    # Input: Sentence to be predicted\n",
    "    # Return: 'WH' - If question is WH question | 'YN' - If sentence is Yes/NO question | 'unknown' - If unknown question type\n",
    "    def predict_question_type(self, text):\n",
    "        words = nltk.word_tokenize(text.lower())                \n",
    "        features = {}\n",
    "        for word in words:\n",
    "            features['contains({})'.format(word.lower())] = True            \n",
    "        \n",
    "        prediction_result = self.classifier.classify(features)\n",
    "        if prediction_result == 'whQuestion':\n",
    "            return 'WH'\n",
    "        elif prediction_result == 'ynQuestion':\n",
    "            return 'YN'\n",
    "        else:\n",
    "            return 'unknown'\n",
    "\n",
    "\n",
    "isQ = IsQuestion()"
   ]
  },
  {
   "cell_type": "code",
   "execution_count": 266,
   "id": "ebb025c4",
   "metadata": {
    "ExecuteTime": {
     "end_time": "2022-10-06T19:36:10.450087Z",
     "start_time": "2022-10-06T19:34:49.089283Z"
    }
   },
   "outputs": [],
   "source": [
    "all_data['is_question'] = all_data['title'].apply(isQ.predict_question)"
   ]
  },
  {
   "cell_type": "code",
   "execution_count": 267,
   "id": "8b4df61d",
   "metadata": {
    "ExecuteTime": {
     "end_time": "2022-10-06T19:36:12.711570Z",
     "start_time": "2022-10-06T19:36:12.689555Z"
    }
   },
   "outputs": [
    {
     "data": {
      "text/html": [
       "<div>\n",
       "<style scoped>\n",
       "    .dataframe tbody tr th:only-of-type {\n",
       "        vertical-align: middle;\n",
       "    }\n",
       "\n",
       "    .dataframe tbody tr th {\n",
       "        vertical-align: top;\n",
       "    }\n",
       "\n",
       "    .dataframe thead th {\n",
       "        text-align: right;\n",
       "    }\n",
       "</style>\n",
       "<table border=\"1\" class=\"dataframe\">\n",
       "  <thead>\n",
       "    <tr style=\"text-align: right;\">\n",
       "      <th></th>\n",
       "      <th>id</th>\n",
       "      <th>post_body</th>\n",
       "      <th>title</th>\n",
       "      <th>created</th>\n",
       "      <th>comment_body</th>\n",
       "      <th>question</th>\n",
       "      <th>is_question</th>\n",
       "    </tr>\n",
       "  </thead>\n",
       "  <tbody>\n",
       "    <tr>\n",
       "      <th>0</th>\n",
       "      <td>xhrlh6</td>\n",
       "      <td>i've been having these thoughts lately like\\n\\...</td>\n",
       "      <td>do you ever feel like not being alive anymore</td>\n",
       "      <td>2022-09-19 00:46:32</td>\n",
       "      <td>As for anchors My only anchor is I need to be ...</td>\n",
       "      <td>True</td>\n",
       "      <td>0</td>\n",
       "    </tr>\n",
       "    <tr>\n",
       "      <th>1</th>\n",
       "      <td>xhrajv</td>\n",
       "      <td>i've been going through a hard time lately and...</td>\n",
       "      <td>why do depressed people shave their heads</td>\n",
       "      <td>2022-09-19 00:34:15</td>\n",
       "      <td>I don’t know because I never had the urge but ...</td>\n",
       "      <td>True</td>\n",
       "      <td>0</td>\n",
       "    </tr>\n",
       "    <tr>\n",
       "      <th>2</th>\n",
       "      <td>xhr49p</td>\n",
       "      <td>idk why but every now and then i'll just get t...</td>\n",
       "      <td>random urge to kill people</td>\n",
       "      <td>2022-09-19 00:27:15</td>\n",
       "      <td>You are a coward that can't handle the fact th...</td>\n",
       "      <td>True</td>\n",
       "      <td>0</td>\n",
       "    </tr>\n",
       "    <tr>\n",
       "      <th>3</th>\n",
       "      <td>xhq4pa</td>\n",
       "      <td>i have ocd that gives me intrusive thoughts ab...</td>\n",
       "      <td>need a therapist that specializes in concernin...</td>\n",
       "      <td>2022-09-18 23:46:40</td>\n",
       "      <td>Unless there is an actual crime or abuse to re...</td>\n",
       "      <td>False</td>\n",
       "      <td>0</td>\n",
       "    </tr>\n",
       "    <tr>\n",
       "      <th>4</th>\n",
       "      <td>xhpsmb</td>\n",
       "      <td>i have no friends, i don't like my family at a...</td>\n",
       "      <td>17m i think i should end my life early</td>\n",
       "      <td>2022-09-18 23:33:01</td>\n",
       "      <td>Aye yes, I know when I get depressed I sit in ...</td>\n",
       "      <td>False</td>\n",
       "      <td>0</td>\n",
       "    </tr>\n",
       "    <tr>\n",
       "      <th>...</th>\n",
       "      <td>...</td>\n",
       "      <td>...</td>\n",
       "      <td>...</td>\n",
       "      <td>...</td>\n",
       "      <td>...</td>\n",
       "      <td>...</td>\n",
       "      <td>...</td>\n",
       "    </tr>\n",
       "    <tr>\n",
       "      <th>202303</th>\n",
       "      <td>2glqvl</td>\n",
       "      <td>i've been struggling with mental illness (depr...</td>\n",
       "      <td>does mental illness, with a suicide attempt, q...</td>\n",
       "      <td>2014-09-17 02:26:12</td>\n",
       "      <td>Yes. It is a life threatening illness. You wil...</td>\n",
       "      <td>True</td>\n",
       "      <td>1</td>\n",
       "    </tr>\n",
       "    <tr>\n",
       "      <th>202304</th>\n",
       "      <td>2ea7v6</td>\n",
       "      <td>so, i am getting really bad. i hear strange to...</td>\n",
       "      <td>i am scared. everything in here and on /r/depr...</td>\n",
       "      <td>2014-08-22 19:17:29</td>\n",
       "      <td>I see mental illness as a disease that gets yo...</td>\n",
       "      <td>False</td>\n",
       "      <td>0</td>\n",
       "    </tr>\n",
       "    <tr>\n",
       "      <th>202305</th>\n",
       "      <td>27k65x</td>\n",
       "      <td>my husband and i are both pretty fucked up rig...</td>\n",
       "      <td>losing it</td>\n",
       "      <td>2014-06-07 21:27:59</td>\n",
       "      <td>It's unfortunate to hear that one good thing l...</td>\n",
       "      <td>False</td>\n",
       "      <td>0</td>\n",
       "    </tr>\n",
       "    <tr>\n",
       "      <th>202306</th>\n",
       "      <td>200k7v</td>\n",
       "      <td>nan</td>\n",
       "      <td>love suicide</td>\n",
       "      <td>2014-03-10 06:24:27</td>\n",
       "      <td>Just posted a link to a blog post I did on men...</td>\n",
       "      <td>False</td>\n",
       "      <td>0</td>\n",
       "    </tr>\n",
       "    <tr>\n",
       "      <th>202307</th>\n",
       "      <td>1wmc1o</td>\n",
       "      <td>nan</td>\n",
       "      <td>let’s talk privately a minute about mental health</td>\n",
       "      <td>2014-01-31 08:13:02</td>\n",
       "      <td>Kick ass article.</td>\n",
       "      <td>False</td>\n",
       "      <td>0</td>\n",
       "    </tr>\n",
       "  </tbody>\n",
       "</table>\n",
       "<p>202308 rows × 7 columns</p>\n",
       "</div>"
      ],
      "text/plain": [
       "            id                                          post_body  \\\n",
       "0       xhrlh6  i've been having these thoughts lately like\\n\\...   \n",
       "1       xhrajv  i've been going through a hard time lately and...   \n",
       "2       xhr49p  idk why but every now and then i'll just get t...   \n",
       "3       xhq4pa  i have ocd that gives me intrusive thoughts ab...   \n",
       "4       xhpsmb  i have no friends, i don't like my family at a...   \n",
       "...        ...                                                ...   \n",
       "202303  2glqvl  i've been struggling with mental illness (depr...   \n",
       "202304  2ea7v6  so, i am getting really bad. i hear strange to...   \n",
       "202305  27k65x  my husband and i are both pretty fucked up rig...   \n",
       "202306  200k7v                                                nan   \n",
       "202307  1wmc1o                                                nan   \n",
       "\n",
       "                                                    title             created  \\\n",
       "0           do you ever feel like not being alive anymore 2022-09-19 00:46:32   \n",
       "1               why do depressed people shave their heads 2022-09-19 00:34:15   \n",
       "2                              random urge to kill people 2022-09-19 00:27:15   \n",
       "3       need a therapist that specializes in concernin... 2022-09-18 23:46:40   \n",
       "4                  17m i think i should end my life early 2022-09-18 23:33:01   \n",
       "...                                                   ...                 ...   \n",
       "202303  does mental illness, with a suicide attempt, q... 2014-09-17 02:26:12   \n",
       "202304  i am scared. everything in here and on /r/depr... 2014-08-22 19:17:29   \n",
       "202305                                          losing it 2014-06-07 21:27:59   \n",
       "202306                                       love suicide 2014-03-10 06:24:27   \n",
       "202307  let’s talk privately a minute about mental health 2014-01-31 08:13:02   \n",
       "\n",
       "                                             comment_body  question  \\\n",
       "0       As for anchors My only anchor is I need to be ...      True   \n",
       "1       I don’t know because I never had the urge but ...      True   \n",
       "2       You are a coward that can't handle the fact th...      True   \n",
       "3       Unless there is an actual crime or abuse to re...     False   \n",
       "4       Aye yes, I know when I get depressed I sit in ...     False   \n",
       "...                                                   ...       ...   \n",
       "202303  Yes. It is a life threatening illness. You wil...      True   \n",
       "202304  I see mental illness as a disease that gets yo...     False   \n",
       "202305  It's unfortunate to hear that one good thing l...     False   \n",
       "202306  Just posted a link to a blog post I did on men...     False   \n",
       "202307                                 Kick ass article.      False   \n",
       "\n",
       "        is_question  \n",
       "0                 0  \n",
       "1                 0  \n",
       "2                 0  \n",
       "3                 0  \n",
       "4                 0  \n",
       "...             ...  \n",
       "202303            1  \n",
       "202304            0  \n",
       "202305            0  \n",
       "202306            0  \n",
       "202307            0  \n",
       "\n",
       "[202308 rows x 7 columns]"
      ]
     },
     "execution_count": 267,
     "metadata": {},
     "output_type": "execute_result"
    }
   ],
   "source": [
    "all_data"
   ]
  },
  {
   "cell_type": "code",
   "execution_count": 268,
   "id": "6f0e174e",
   "metadata": {
    "ExecuteTime": {
     "end_time": "2022-10-06T19:38:18.107294Z",
     "start_time": "2022-10-06T19:38:15.460219Z"
    }
   },
   "outputs": [],
   "source": [
    "# since both ways i used are not perfectly accurate, I'm going to keep rows that have 'question' != False and \"is_question\" != 0\n",
    "all_data = all_data.loc[~((all_data['question'] == False) & (all_data['is_question'] == 0))]"
   ]
  },
  {
   "cell_type": "code",
   "execution_count": 270,
   "id": "218818a1",
   "metadata": {
    "ExecuteTime": {
     "end_time": "2022-10-06T19:39:31.851797Z",
     "start_time": "2022-10-06T19:39:31.770702Z"
    }
   },
   "outputs": [],
   "source": [
    "all_data = all_data.drop(columns=['question','is_question']).reset_index(drop=True)"
   ]
  },
  {
   "cell_type": "code",
   "execution_count": 271,
   "id": "1ee6d1ab",
   "metadata": {
    "ExecuteTime": {
     "end_time": "2022-10-06T19:39:36.204623Z",
     "start_time": "2022-10-06T19:39:36.185608Z"
    }
   },
   "outputs": [
    {
     "data": {
      "text/html": [
       "<div>\n",
       "<style scoped>\n",
       "    .dataframe tbody tr th:only-of-type {\n",
       "        vertical-align: middle;\n",
       "    }\n",
       "\n",
       "    .dataframe tbody tr th {\n",
       "        vertical-align: top;\n",
       "    }\n",
       "\n",
       "    .dataframe thead th {\n",
       "        text-align: right;\n",
       "    }\n",
       "</style>\n",
       "<table border=\"1\" class=\"dataframe\">\n",
       "  <thead>\n",
       "    <tr style=\"text-align: right;\">\n",
       "      <th></th>\n",
       "      <th>id</th>\n",
       "      <th>post_body</th>\n",
       "      <th>title</th>\n",
       "      <th>created</th>\n",
       "      <th>comment_body</th>\n",
       "    </tr>\n",
       "  </thead>\n",
       "  <tbody>\n",
       "    <tr>\n",
       "      <th>0</th>\n",
       "      <td>xhrlh6</td>\n",
       "      <td>i've been having these thoughts lately like\\n\\...</td>\n",
       "      <td>do you ever feel like not being alive anymore</td>\n",
       "      <td>2022-09-19 00:46:32</td>\n",
       "      <td>As for anchors My only anchor is I need to be ...</td>\n",
       "    </tr>\n",
       "    <tr>\n",
       "      <th>1</th>\n",
       "      <td>xhrajv</td>\n",
       "      <td>i've been going through a hard time lately and...</td>\n",
       "      <td>why do depressed people shave their heads</td>\n",
       "      <td>2022-09-19 00:34:15</td>\n",
       "      <td>I don’t know because I never had the urge but ...</td>\n",
       "    </tr>\n",
       "    <tr>\n",
       "      <th>2</th>\n",
       "      <td>xhr49p</td>\n",
       "      <td>idk why but every now and then i'll just get t...</td>\n",
       "      <td>random urge to kill people</td>\n",
       "      <td>2022-09-19 00:27:15</td>\n",
       "      <td>You are a coward that can't handle the fact th...</td>\n",
       "    </tr>\n",
       "    <tr>\n",
       "      <th>3</th>\n",
       "      <td>xhowxf</td>\n",
       "      <td>when i get really anxious, i slap my arm and t...</td>\n",
       "      <td>is slapping my arm when i’m anxious normal?</td>\n",
       "      <td>2022-09-18 22:58:06</td>\n",
       "      <td>'Normal' and 'crazy' aren't binary opposites, ...</td>\n",
       "    </tr>\n",
       "    <tr>\n",
       "      <th>4</th>\n",
       "      <td>xhovdn</td>\n",
       "      <td>i’ve been to a few psychiatrists/therapists ov...</td>\n",
       "      <td>tips to find a psychiatrist that specializes i...</td>\n",
       "      <td>2022-09-18 22:56:17</td>\n",
       "      <td>I would assume the majority are aware of anxie...</td>\n",
       "    </tr>\n",
       "    <tr>\n",
       "      <th>...</th>\n",
       "      <td>...</td>\n",
       "      <td>...</td>\n",
       "      <td>...</td>\n",
       "      <td>...</td>\n",
       "      <td>...</td>\n",
       "    </tr>\n",
       "    <tr>\n",
       "      <th>82561</th>\n",
       "      <td>2wigq2</td>\n",
       "      <td>i'm not looking for a diagnosis, just some ins...</td>\n",
       "      <td>have you heard of this?</td>\n",
       "      <td>2015-02-20 08:05:16</td>\n",
       "      <td>I assume you have some sort of existing medica...</td>\n",
       "    </tr>\n",
       "    <tr>\n",
       "      <th>82562</th>\n",
       "      <td>2vr17i</td>\n",
       "      <td>how do i find friends to have adventures with ...</td>\n",
       "      <td>how do i stop my intensity?</td>\n",
       "      <td>2015-02-13 13:12:20</td>\n",
       "      <td>I have been diagnosed officially and I am not ...</td>\n",
       "    </tr>\n",
       "    <tr>\n",
       "      <th>82563</th>\n",
       "      <td>2s5g3q</td>\n",
       "      <td>oftain if someone will repeat a word directly ...</td>\n",
       "      <td>does this have a name?</td>\n",
       "      <td>2015-01-12 13:36:53</td>\n",
       "      <td>I asked my councillor but he wasn't too sure, ...</td>\n",
       "    </tr>\n",
       "    <tr>\n",
       "      <th>82564</th>\n",
       "      <td>2n3gpd</td>\n",
       "      <td>the patterns of loosely related random words a...</td>\n",
       "      <td>do schizophrenics 'understand' other schizophr...</td>\n",
       "      <td>2014-11-22 22:08:51</td>\n",
       "      <td>I don't think it works that way. I do find tha...</td>\n",
       "    </tr>\n",
       "    <tr>\n",
       "      <th>82565</th>\n",
       "      <td>2glqvl</td>\n",
       "      <td>i've been struggling with mental illness (depr...</td>\n",
       "      <td>does mental illness, with a suicide attempt, q...</td>\n",
       "      <td>2014-09-17 02:26:12</td>\n",
       "      <td>Yes. It is a life threatening illness. You wil...</td>\n",
       "    </tr>\n",
       "  </tbody>\n",
       "</table>\n",
       "<p>82566 rows × 5 columns</p>\n",
       "</div>"
      ],
      "text/plain": [
       "           id                                          post_body  \\\n",
       "0      xhrlh6  i've been having these thoughts lately like\\n\\...   \n",
       "1      xhrajv  i've been going through a hard time lately and...   \n",
       "2      xhr49p  idk why but every now and then i'll just get t...   \n",
       "3      xhowxf  when i get really anxious, i slap my arm and t...   \n",
       "4      xhovdn  i’ve been to a few psychiatrists/therapists ov...   \n",
       "...       ...                                                ...   \n",
       "82561  2wigq2  i'm not looking for a diagnosis, just some ins...   \n",
       "82562  2vr17i  how do i find friends to have adventures with ...   \n",
       "82563  2s5g3q  oftain if someone will repeat a word directly ...   \n",
       "82564  2n3gpd  the patterns of loosely related random words a...   \n",
       "82565  2glqvl  i've been struggling with mental illness (depr...   \n",
       "\n",
       "                                                   title             created  \\\n",
       "0          do you ever feel like not being alive anymore 2022-09-19 00:46:32   \n",
       "1              why do depressed people shave their heads 2022-09-19 00:34:15   \n",
       "2                             random urge to kill people 2022-09-19 00:27:15   \n",
       "3            is slapping my arm when i’m anxious normal? 2022-09-18 22:58:06   \n",
       "4      tips to find a psychiatrist that specializes i... 2022-09-18 22:56:17   \n",
       "...                                                  ...                 ...   \n",
       "82561                            have you heard of this? 2015-02-20 08:05:16   \n",
       "82562                        how do i stop my intensity? 2015-02-13 13:12:20   \n",
       "82563                             does this have a name? 2015-01-12 13:36:53   \n",
       "82564  do schizophrenics 'understand' other schizophr... 2014-11-22 22:08:51   \n",
       "82565  does mental illness, with a suicide attempt, q... 2014-09-17 02:26:12   \n",
       "\n",
       "                                            comment_body  \n",
       "0      As for anchors My only anchor is I need to be ...  \n",
       "1      I don’t know because I never had the urge but ...  \n",
       "2      You are a coward that can't handle the fact th...  \n",
       "3      'Normal' and 'crazy' aren't binary opposites, ...  \n",
       "4      I would assume the majority are aware of anxie...  \n",
       "...                                                  ...  \n",
       "82561  I assume you have some sort of existing medica...  \n",
       "82562  I have been diagnosed officially and I am not ...  \n",
       "82563  I asked my councillor but he wasn't too sure, ...  \n",
       "82564  I don't think it works that way. I do find tha...  \n",
       "82565  Yes. It is a life threatening illness. You wil...  \n",
       "\n",
       "[82566 rows x 5 columns]"
      ]
     },
     "execution_count": 271,
     "metadata": {},
     "output_type": "execute_result"
    }
   ],
   "source": [
    "all_data"
   ]
  },
  {
   "cell_type": "code",
   "execution_count": 272,
   "id": "61a5ae28",
   "metadata": {
    "ExecuteTime": {
     "end_time": "2022-10-06T19:42:48.400584Z",
     "start_time": "2022-10-06T19:42:48.381570Z"
    }
   },
   "outputs": [
    {
     "data": {
      "text/html": [
       "<div>\n",
       "<style scoped>\n",
       "    .dataframe tbody tr th:only-of-type {\n",
       "        vertical-align: middle;\n",
       "    }\n",
       "\n",
       "    .dataframe tbody tr th {\n",
       "        vertical-align: top;\n",
       "    }\n",
       "\n",
       "    .dataframe thead th {\n",
       "        text-align: right;\n",
       "    }\n",
       "</style>\n",
       "<table border=\"1\" class=\"dataframe\">\n",
       "  <thead>\n",
       "    <tr style=\"text-align: right;\">\n",
       "      <th></th>\n",
       "      <th>id</th>\n",
       "      <th>post_body</th>\n",
       "      <th>title</th>\n",
       "      <th>created</th>\n",
       "      <th>comment_body</th>\n",
       "    </tr>\n",
       "  </thead>\n",
       "  <tbody>\n",
       "    <tr>\n",
       "      <th>0</th>\n",
       "      <td>xhrlh6</td>\n",
       "      <td>i've been having these thoughts lately like\\n\\...</td>\n",
       "      <td>do you ever feel like not being alive anymore</td>\n",
       "      <td>2022-09-19 00:46:32</td>\n",
       "      <td>As for anchors My only anchor is I need to be ...</td>\n",
       "    </tr>\n",
       "    <tr>\n",
       "      <th>1</th>\n",
       "      <td>xhrajv</td>\n",
       "      <td>i've been going through a hard time lately and...</td>\n",
       "      <td>why do depressed people shave their heads</td>\n",
       "      <td>2022-09-19 00:34:15</td>\n",
       "      <td>I don’t know because I never had the urge but ...</td>\n",
       "    </tr>\n",
       "    <tr>\n",
       "      <th>2</th>\n",
       "      <td>xhr49p</td>\n",
       "      <td>idk why but every now and then i'll just get t...</td>\n",
       "      <td>random urge to kill people</td>\n",
       "      <td>2022-09-19 00:27:15</td>\n",
       "      <td>You are a coward that can't handle the fact th...</td>\n",
       "    </tr>\n",
       "    <tr>\n",
       "      <th>3</th>\n",
       "      <td>xhowxf</td>\n",
       "      <td>when i get really anxious, i slap my arm and t...</td>\n",
       "      <td>is slapping my arm when i’m anxious normal?</td>\n",
       "      <td>2022-09-18 22:58:06</td>\n",
       "      <td>'Normal' and 'crazy' aren't binary opposites, ...</td>\n",
       "    </tr>\n",
       "    <tr>\n",
       "      <th>4</th>\n",
       "      <td>xhovdn</td>\n",
       "      <td>i’ve been to a few psychiatrists/therapists ov...</td>\n",
       "      <td>tips to find a psychiatrist that specializes i...</td>\n",
       "      <td>2022-09-18 22:56:17</td>\n",
       "      <td>I would assume the majority are aware of anxie...</td>\n",
       "    </tr>\n",
       "    <tr>\n",
       "      <th>...</th>\n",
       "      <td>...</td>\n",
       "      <td>...</td>\n",
       "      <td>...</td>\n",
       "      <td>...</td>\n",
       "      <td>...</td>\n",
       "    </tr>\n",
       "    <tr>\n",
       "      <th>82561</th>\n",
       "      <td>2wigq2</td>\n",
       "      <td>i'm not looking for a diagnosis, just some ins...</td>\n",
       "      <td>have you heard of this?</td>\n",
       "      <td>2015-02-20 08:05:16</td>\n",
       "      <td>I assume you have some sort of existing medica...</td>\n",
       "    </tr>\n",
       "    <tr>\n",
       "      <th>82562</th>\n",
       "      <td>2vr17i</td>\n",
       "      <td>how do i find friends to have adventures with ...</td>\n",
       "      <td>how do i stop my intensity?</td>\n",
       "      <td>2015-02-13 13:12:20</td>\n",
       "      <td>I have been diagnosed officially and I am not ...</td>\n",
       "    </tr>\n",
       "    <tr>\n",
       "      <th>82563</th>\n",
       "      <td>2s5g3q</td>\n",
       "      <td>oftain if someone will repeat a word directly ...</td>\n",
       "      <td>does this have a name?</td>\n",
       "      <td>2015-01-12 13:36:53</td>\n",
       "      <td>I asked my councillor but he wasn't too sure, ...</td>\n",
       "    </tr>\n",
       "    <tr>\n",
       "      <th>82564</th>\n",
       "      <td>2n3gpd</td>\n",
       "      <td>the patterns of loosely related random words a...</td>\n",
       "      <td>do schizophrenics 'understand' other schizophr...</td>\n",
       "      <td>2014-11-22 22:08:51</td>\n",
       "      <td>I don't think it works that way. I do find tha...</td>\n",
       "    </tr>\n",
       "    <tr>\n",
       "      <th>82565</th>\n",
       "      <td>2glqvl</td>\n",
       "      <td>i've been struggling with mental illness (depr...</td>\n",
       "      <td>does mental illness, with a suicide attempt, q...</td>\n",
       "      <td>2014-09-17 02:26:12</td>\n",
       "      <td>Yes. It is a life threatening illness. You wil...</td>\n",
       "    </tr>\n",
       "  </tbody>\n",
       "</table>\n",
       "<p>82566 rows × 5 columns</p>\n",
       "</div>"
      ],
      "text/plain": [
       "           id                                          post_body  \\\n",
       "0      xhrlh6  i've been having these thoughts lately like\\n\\...   \n",
       "1      xhrajv  i've been going through a hard time lately and...   \n",
       "2      xhr49p  idk why but every now and then i'll just get t...   \n",
       "3      xhowxf  when i get really anxious, i slap my arm and t...   \n",
       "4      xhovdn  i’ve been to a few psychiatrists/therapists ov...   \n",
       "...       ...                                                ...   \n",
       "82561  2wigq2  i'm not looking for a diagnosis, just some ins...   \n",
       "82562  2vr17i  how do i find friends to have adventures with ...   \n",
       "82563  2s5g3q  oftain if someone will repeat a word directly ...   \n",
       "82564  2n3gpd  the patterns of loosely related random words a...   \n",
       "82565  2glqvl  i've been struggling with mental illness (depr...   \n",
       "\n",
       "                                                   title             created  \\\n",
       "0          do you ever feel like not being alive anymore 2022-09-19 00:46:32   \n",
       "1              why do depressed people shave their heads 2022-09-19 00:34:15   \n",
       "2                             random urge to kill people 2022-09-19 00:27:15   \n",
       "3            is slapping my arm when i’m anxious normal? 2022-09-18 22:58:06   \n",
       "4      tips to find a psychiatrist that specializes i... 2022-09-18 22:56:17   \n",
       "...                                                  ...                 ...   \n",
       "82561                            have you heard of this? 2015-02-20 08:05:16   \n",
       "82562                        how do i stop my intensity? 2015-02-13 13:12:20   \n",
       "82563                             does this have a name? 2015-01-12 13:36:53   \n",
       "82564  do schizophrenics 'understand' other schizophr... 2014-11-22 22:08:51   \n",
       "82565  does mental illness, with a suicide attempt, q... 2014-09-17 02:26:12   \n",
       "\n",
       "                                            comment_body  \n",
       "0      As for anchors My only anchor is I need to be ...  \n",
       "1      I don’t know because I never had the urge but ...  \n",
       "2      You are a coward that can't handle the fact th...  \n",
       "3      'Normal' and 'crazy' aren't binary opposites, ...  \n",
       "4      I would assume the majority are aware of anxie...  \n",
       "...                                                  ...  \n",
       "82561  I assume you have some sort of existing medica...  \n",
       "82562  I have been diagnosed officially and I am not ...  \n",
       "82563  I asked my councillor but he wasn't too sure, ...  \n",
       "82564  I don't think it works that way. I do find tha...  \n",
       "82565  Yes. It is a life threatening illness. You wil...  \n",
       "\n",
       "[82566 rows x 5 columns]"
      ]
     },
     "execution_count": 272,
     "metadata": {},
     "output_type": "execute_result"
    }
   ],
   "source": [
    "all_data"
   ]
  },
  {
   "cell_type": "code",
   "execution_count": 273,
   "id": "7ad71ee1",
   "metadata": {
    "ExecuteTime": {
     "end_time": "2022-10-06T19:43:34.084595Z",
     "start_time": "2022-10-06T19:43:34.046570Z"
    }
   },
   "outputs": [],
   "source": [
    "# Dropping the columns that doesn't encode useful information and renaming the columns nicely for intepretability\n",
    "all_data.drop(['id','created'], axis = 1, inplace = True)"
   ]
  },
  {
   "cell_type": "code",
   "execution_count": 282,
   "id": "b19001bb",
   "metadata": {
    "ExecuteTime": {
     "end_time": "2022-10-06T19:51:51.243967Z",
     "start_time": "2022-10-06T19:51:50.927325Z"
    }
   },
   "outputs": [
    {
     "data": {
      "text/plain": [
       "'I won 1st_place_medal in cricket'"
      ]
     },
     "execution_count": 282,
     "metadata": {},
     "output_type": "execute_result"
    }
   ],
   "source": [
    "# Replacing emojis with text\n",
    "with open('Emoji_Dict.p', 'rb') as fp:\n",
    "    Emoji_Dict = pickle.load(fp)\n",
    "Emoji_Dict = {v: k for k, v in Emoji_Dict.items()}\n",
    "\n",
    "def convert_emojis_to_word(text):\n",
    "    for emot in Emoji_Dict:\n",
    "        text = re.sub(r'('+emot+')', \"_\".join(Emoji_Dict[emot].replace(\",\",\"\").replace(\":\",\"\").split()), text)\n",
    "    return text\n",
    "# Example\n",
    "text = \"I won 🥇 in 🏏\"\n",
    "convert_emojis_to_word(text)"
   ]
  },
  {
   "cell_type": "code",
   "execution_count": 283,
   "id": "d848f9b5",
   "metadata": {
    "ExecuteTime": {
     "end_time": "2022-10-06T22:16:37.457369Z",
     "start_time": "2022-10-06T19:52:35.430369Z"
    }
   },
   "outputs": [],
   "source": [
    "all_data['title'] = all_data['title'].apply(convert_emojis_to_word)"
   ]
  },
  {
   "cell_type": "code",
   "execution_count": 285,
   "id": "f0672e5b",
   "metadata": {
    "ExecuteTime": {
     "end_time": "2022-10-07T00:46:31.770183Z",
     "start_time": "2022-10-06T22:21:23.070255Z"
    }
   },
   "outputs": [],
   "source": [
    "all_data['post_body'] = all_data['post_body'].apply(convert_emojis_to_word)"
   ]
  },
  {
   "cell_type": "code",
   "execution_count": 286,
   "id": "963af07c",
   "metadata": {
    "ExecuteTime": {
     "end_time": "2022-10-07T03:14:31.921493Z",
     "start_time": "2022-10-07T00:46:31.823295Z"
    }
   },
   "outputs": [],
   "source": [
    "all_data['comment_body'] = all_data['comment_body'].apply(convert_emojis_to_word)"
   ]
  },
  {
   "cell_type": "code",
   "execution_count": 287,
   "id": "57184643",
   "metadata": {
    "ExecuteTime": {
     "end_time": "2022-10-07T03:14:41.309392Z",
     "start_time": "2022-10-07T03:14:31.931497Z"
    }
   },
   "outputs": [],
   "source": [
    "all_data.to_csv('../Data/all_data.csv',index=False)"
   ]
  },
  {
   "cell_type": "markdown",
   "id": "d6c623d3",
   "metadata": {},
   "source": [
    "# Load the data not to run the code above all over again"
   ]
  },
  {
   "cell_type": "code",
   "execution_count": 393,
   "id": "67da9367",
   "metadata": {
    "ExecuteTime": {
     "end_time": "2022-10-07T16:13:50.400459Z",
     "start_time": "2022-10-07T16:13:45.655335Z"
    }
   },
   "outputs": [],
   "source": [
    "all_data = pd.read_csv('../Data/all_data.csv')"
   ]
  },
  {
   "cell_type": "code",
   "execution_count": 394,
   "id": "57d9a2fa",
   "metadata": {
    "ExecuteTime": {
     "end_time": "2022-10-07T16:13:50.430481Z",
     "start_time": "2022-10-07T16:13:50.405463Z"
    }
   },
   "outputs": [
    {
     "data": {
      "text/html": [
       "<div>\n",
       "<style scoped>\n",
       "    .dataframe tbody tr th:only-of-type {\n",
       "        vertical-align: middle;\n",
       "    }\n",
       "\n",
       "    .dataframe tbody tr th {\n",
       "        vertical-align: top;\n",
       "    }\n",
       "\n",
       "    .dataframe thead th {\n",
       "        text-align: right;\n",
       "    }\n",
       "</style>\n",
       "<table border=\"1\" class=\"dataframe\">\n",
       "  <thead>\n",
       "    <tr style=\"text-align: right;\">\n",
       "      <th></th>\n",
       "      <th>post_body</th>\n",
       "      <th>title</th>\n",
       "      <th>comment_body</th>\n",
       "    </tr>\n",
       "  </thead>\n",
       "  <tbody>\n",
       "    <tr>\n",
       "      <th>0</th>\n",
       "      <td>i've been having these thoughts lately like\\n\\...</td>\n",
       "      <td>do you ever feel like not being alive anymore</td>\n",
       "      <td>As for anchors My only anchor is I need to be ...</td>\n",
       "    </tr>\n",
       "    <tr>\n",
       "      <th>1</th>\n",
       "      <td>i've been going through a hard time lately and...</td>\n",
       "      <td>why do depressed people shave their heads</td>\n",
       "      <td>I don’t know because I never had the urge but ...</td>\n",
       "    </tr>\n",
       "    <tr>\n",
       "      <th>2</th>\n",
       "      <td>idk why but every now and then i'll just get t...</td>\n",
       "      <td>random urge to kill people</td>\n",
       "      <td>You are a coward that can't handle the fact th...</td>\n",
       "    </tr>\n",
       "    <tr>\n",
       "      <th>3</th>\n",
       "      <td>when i get really anxious, i slap my arm and t...</td>\n",
       "      <td>is slapping my arm when i’m anxious normal?</td>\n",
       "      <td>'Normal' and 'crazy' aren't binary opposites, ...</td>\n",
       "    </tr>\n",
       "    <tr>\n",
       "      <th>4</th>\n",
       "      <td>i’ve been to a few psychiatrists/therapists ov...</td>\n",
       "      <td>tips to find a psychiatrist that specializes i...</td>\n",
       "      <td>I would assume the majority are aware of anxie...</td>\n",
       "    </tr>\n",
       "    <tr>\n",
       "      <th>...</th>\n",
       "      <td>...</td>\n",
       "      <td>...</td>\n",
       "      <td>...</td>\n",
       "    </tr>\n",
       "    <tr>\n",
       "      <th>82561</th>\n",
       "      <td>i'm not looking for a diagnosis, just some ins...</td>\n",
       "      <td>have you heard of this?</td>\n",
       "      <td>I assume you have some sort of existing medica...</td>\n",
       "    </tr>\n",
       "    <tr>\n",
       "      <th>82562</th>\n",
       "      <td>how do i find friends to have adventures with ...</td>\n",
       "      <td>how do i stop my intensity?</td>\n",
       "      <td>I have been diagnosed officially and I am not ...</td>\n",
       "    </tr>\n",
       "    <tr>\n",
       "      <th>82563</th>\n",
       "      <td>oftain if someone will repeat a word directly ...</td>\n",
       "      <td>does this have a name?</td>\n",
       "      <td>I asked my councillor but he wasn't too sure, ...</td>\n",
       "    </tr>\n",
       "    <tr>\n",
       "      <th>82564</th>\n",
       "      <td>the patterns of loosely related random words a...</td>\n",
       "      <td>do schizophrenics 'understand' other schizophr...</td>\n",
       "      <td>I don't think it works that way. I do find tha...</td>\n",
       "    </tr>\n",
       "    <tr>\n",
       "      <th>82565</th>\n",
       "      <td>i've been struggling with mental illness (depr...</td>\n",
       "      <td>does mental illness, with a suicide attempt, q...</td>\n",
       "      <td>Yes. It is a life threatening illness. You wil...</td>\n",
       "    </tr>\n",
       "  </tbody>\n",
       "</table>\n",
       "<p>82566 rows × 3 columns</p>\n",
       "</div>"
      ],
      "text/plain": [
       "                                               post_body  \\\n",
       "0      i've been having these thoughts lately like\\n\\...   \n",
       "1      i've been going through a hard time lately and...   \n",
       "2      idk why but every now and then i'll just get t...   \n",
       "3      when i get really anxious, i slap my arm and t...   \n",
       "4      i’ve been to a few psychiatrists/therapists ov...   \n",
       "...                                                  ...   \n",
       "82561  i'm not looking for a diagnosis, just some ins...   \n",
       "82562  how do i find friends to have adventures with ...   \n",
       "82563  oftain if someone will repeat a word directly ...   \n",
       "82564  the patterns of loosely related random words a...   \n",
       "82565  i've been struggling with mental illness (depr...   \n",
       "\n",
       "                                                   title  \\\n",
       "0          do you ever feel like not being alive anymore   \n",
       "1              why do depressed people shave their heads   \n",
       "2                             random urge to kill people   \n",
       "3            is slapping my arm when i’m anxious normal?   \n",
       "4      tips to find a psychiatrist that specializes i...   \n",
       "...                                                  ...   \n",
       "82561                            have you heard of this?   \n",
       "82562                        how do i stop my intensity?   \n",
       "82563                             does this have a name?   \n",
       "82564  do schizophrenics 'understand' other schizophr...   \n",
       "82565  does mental illness, with a suicide attempt, q...   \n",
       "\n",
       "                                            comment_body  \n",
       "0      As for anchors My only anchor is I need to be ...  \n",
       "1      I don’t know because I never had the urge but ...  \n",
       "2      You are a coward that can't handle the fact th...  \n",
       "3      'Normal' and 'crazy' aren't binary opposites, ...  \n",
       "4      I would assume the majority are aware of anxie...  \n",
       "...                                                  ...  \n",
       "82561  I assume you have some sort of existing medica...  \n",
       "82562  I have been diagnosed officially and I am not ...  \n",
       "82563  I asked my councillor but he wasn't too sure, ...  \n",
       "82564  I don't think it works that way. I do find tha...  \n",
       "82565  Yes. It is a life threatening illness. You wil...  \n",
       "\n",
       "[82566 rows x 3 columns]"
      ]
     },
     "execution_count": 394,
     "metadata": {},
     "output_type": "execute_result"
    }
   ],
   "source": [
    "all_data"
   ]
  },
  {
   "cell_type": "code",
   "execution_count": 395,
   "id": "e1badeeb",
   "metadata": {
    "ExecuteTime": {
     "end_time": "2022-10-07T16:13:52.187981Z",
     "start_time": "2022-10-07T16:13:50.438487Z"
    }
   },
   "outputs": [],
   "source": [
    "# lower all text\n",
    "all_data = all_data.apply(lambda x: x.str.lower())"
   ]
  },
  {
   "cell_type": "code",
   "execution_count": 396,
   "id": "a1764cb1",
   "metadata": {
    "ExecuteTime": {
     "end_time": "2022-10-07T16:13:52.641297Z",
     "start_time": "2022-10-07T16:13:52.190966Z"
    }
   },
   "outputs": [],
   "source": [
    "# convert to string\n",
    "all_data = all_data.astype('string')"
   ]
  },
  {
   "cell_type": "code",
   "execution_count": 397,
   "id": "9ace2eb1",
   "metadata": {
    "ExecuteTime": {
     "end_time": "2022-10-07T16:13:53.008558Z",
     "start_time": "2022-10-07T16:13:52.643288Z"
    }
   },
   "outputs": [],
   "source": [
    "# replace all duplicated post_body with null values\n",
    "duplicated = all_data.duplicated('post_body')\n",
    "all_data.loc[duplicated, ['post_body']] = \" \""
   ]
  },
  {
   "cell_type": "code",
   "execution_count": 398,
   "id": "4491355d",
   "metadata": {
    "ExecuteTime": {
     "end_time": "2022-10-07T16:13:53.370800Z",
     "start_time": "2022-10-07T16:13:53.010555Z"
    }
   },
   "outputs": [],
   "source": [
    "# merge title and post_body\n",
    "all_data['title'] = all_data['title'] +' '  + all_data['post_body']"
   ]
  },
  {
   "cell_type": "code",
   "execution_count": 399,
   "id": "4d0764cf",
   "metadata": {
    "ExecuteTime": {
     "end_time": "2022-10-07T16:13:53.467882Z",
     "start_time": "2022-10-07T16:13:53.372801Z"
    }
   },
   "outputs": [],
   "source": [
    "all_data.drop(columns=['post_body'],inplace=True)"
   ]
  },
  {
   "cell_type": "code",
   "execution_count": 411,
   "id": "3b151555",
   "metadata": {
    "ExecuteTime": {
     "end_time": "2022-10-07T16:16:20.601474Z",
     "start_time": "2022-10-07T16:16:20.535439Z"
    }
   },
   "outputs": [],
   "source": [
    "all_data = all_data.dropna()"
   ]
  },
  {
   "cell_type": "code",
   "execution_count": 413,
   "id": "2cc27cea",
   "metadata": {
    "ExecuteTime": {
     "end_time": "2022-10-07T16:24:35.910964Z",
     "start_time": "2022-10-07T16:16:27.365107Z"
    }
   },
   "outputs": [
    {
     "name": "stderr",
     "output_type": "stream",
     "text": [
      "C:\\Users\\Julia\\AppData\\Local\\Temp\\ipykernel_14500\\1271528730.py:14: SettingWithCopyWarning: \n",
      "A value is trying to be set on a copy of a slice from a DataFrame.\n",
      "Try using .loc[row_indexer,col_indexer] = value instead\n",
      "\n",
      "See the caveats in the documentation: https://pandas.pydata.org/pandas-docs/stable/user_guide/indexing.html#returning-a-view-versus-a-copy\n",
      "  all_data['title'] = all_data.title.apply(lambda x: remove_punct(x))\n",
      "C:\\Users\\Julia\\AppData\\Local\\Temp\\ipykernel_14500\\1271528730.py:15: SettingWithCopyWarning: \n",
      "A value is trying to be set on a copy of a slice from a DataFrame.\n",
      "Try using .loc[row_indexer,col_indexer] = value instead\n",
      "\n",
      "See the caveats in the documentation: https://pandas.pydata.org/pandas-docs/stable/user_guide/indexing.html#returning-a-view-versus-a-copy\n",
      "  all_data['comment_body'] = all_data.comment_body.apply(lambda x: remove_punct(x))\n"
     ]
    }
   ],
   "source": [
    "# remove punctuation\n",
    "import string\n",
    "punctuation = ['\\u200d','?', '....','..','...','','@','#', ',', '.', '\"', ':', ')', '(', '-', '!', '|', ';', \"'\", '$', '&', '/', '[', ']', '>', '%', '=', '*', '+', '\\\\', \n",
    "    '•', '~', '£', '·', '_', '{', '}', '©', '^', '®', '`',  '<', '→', '°', '€', '™', '›',  '♥', '←', '×', '§', '″', '′', 'Â', '█', \n",
    "    '½', 'à', '…', '“', '★', '”', '–', '●', 'â', '►', '−', '¢', '²', '¬', '░', '¶', '↑', '±', '¿', '▾', '═', '¦', '║', '―', '¥', '▓', \n",
    "    '—', '‹', '─', '▒', '：', '¼', '⊕', '▼', '▪', '†', '■', '’', '▀', '¨', '▄', '♫', '☆', 'é', '¯', '♦', '¤', '▲', 'è', '¸', '¾', \n",
    "    'Ã', '⋅', '‘', '∞', '∙', '）', '↓', '、', '│', '（', '»', '，', '♪', '╩', '╚', '³', '・', '╦', '╣', '╔', '╗', '▬', '❤', 'ï', 'Ø', \n",
    "    '¹', '≤', '‡', '√', '!','🅰','🅱']\n",
    "def remove_punct(string):\n",
    "    for el in string:\n",
    "        if el in punctuation:\n",
    "            string = string.replace(el, \"\")\n",
    "    return string\n",
    "all_data['title'] = all_data.title.apply(lambda x: remove_punct(x))\n",
    "all_data['comment_body'] = all_data.comment_body.apply(lambda x: remove_punct(x))"
   ]
  },
  {
   "cell_type": "code",
   "execution_count": 415,
   "id": "862edd52",
   "metadata": {
    "ExecuteTime": {
     "end_time": "2022-10-07T16:50:21.888401Z",
     "start_time": "2022-10-07T16:50:14.798904Z"
    }
   },
   "outputs": [
    {
     "name": "stderr",
     "output_type": "stream",
     "text": [
      "<>:2: DeprecationWarning: invalid escape sequence \\d\n",
      "<>:3: DeprecationWarning: invalid escape sequence \\d\n",
      "<>:2: DeprecationWarning: invalid escape sequence \\d\n",
      "<>:3: DeprecationWarning: invalid escape sequence \\d\n",
      "C:\\Users\\Julia\\AppData\\Local\\Temp\\ipykernel_14500\\712171288.py:2: DeprecationWarning: invalid escape sequence \\d\n",
      "  all_data['title'] = all_data['title'].str.replace('\\d+', '')\n",
      "C:\\Users\\Julia\\AppData\\Local\\Temp\\ipykernel_14500\\712171288.py:3: DeprecationWarning: invalid escape sequence \\d\n",
      "  all_data['comment_body'] = all_data['comment_body'].str.replace('\\d+', '')\n",
      "C:\\Users\\Julia\\AppData\\Local\\Temp\\ipykernel_14500\\712171288.py:2: FutureWarning: The default value of regex will change from True to False in a future version.\n",
      "  all_data['title'] = all_data['title'].str.replace('\\d+', '')\n",
      "C:\\Users\\Julia\\AppData\\Local\\Temp\\ipykernel_14500\\712171288.py:2: SettingWithCopyWarning: \n",
      "A value is trying to be set on a copy of a slice from a DataFrame.\n",
      "Try using .loc[row_indexer,col_indexer] = value instead\n",
      "\n",
      "See the caveats in the documentation: https://pandas.pydata.org/pandas-docs/stable/user_guide/indexing.html#returning-a-view-versus-a-copy\n",
      "  all_data['title'] = all_data['title'].str.replace('\\d+', '')\n",
      "C:\\Users\\Julia\\AppData\\Local\\Temp\\ipykernel_14500\\712171288.py:3: FutureWarning: The default value of regex will change from True to False in a future version.\n",
      "  all_data['comment_body'] = all_data['comment_body'].str.replace('\\d+', '')\n",
      "C:\\Users\\Julia\\AppData\\Local\\Temp\\ipykernel_14500\\712171288.py:3: SettingWithCopyWarning: \n",
      "A value is trying to be set on a copy of a slice from a DataFrame.\n",
      "Try using .loc[row_indexer,col_indexer] = value instead\n",
      "\n",
      "See the caveats in the documentation: https://pandas.pydata.org/pandas-docs/stable/user_guide/indexing.html#returning-a-view-versus-a-copy\n",
      "  all_data['comment_body'] = all_data['comment_body'].str.replace('\\d+', '')\n"
     ]
    }
   ],
   "source": [
    "# remove digits\n",
    "all_data['title'] = all_data['title'].str.replace('\\d+', '')\n",
    "all_data['comment_body'] = all_data['comment_body'].str.replace('\\d+', '')"
   ]
  },
  {
   "cell_type": "code",
   "execution_count": 416,
   "id": "5787e823",
   "metadata": {
    "ExecuteTime": {
     "end_time": "2022-10-07T16:50:30.675488Z",
     "start_time": "2022-10-07T16:50:30.659489Z"
    }
   },
   "outputs": [
    {
     "data": {
      "text/html": [
       "<div>\n",
       "<style scoped>\n",
       "    .dataframe tbody tr th:only-of-type {\n",
       "        vertical-align: middle;\n",
       "    }\n",
       "\n",
       "    .dataframe tbody tr th {\n",
       "        vertical-align: top;\n",
       "    }\n",
       "\n",
       "    .dataframe thead th {\n",
       "        text-align: right;\n",
       "    }\n",
       "</style>\n",
       "<table border=\"1\" class=\"dataframe\">\n",
       "  <thead>\n",
       "    <tr style=\"text-align: right;\">\n",
       "      <th></th>\n",
       "      <th>title</th>\n",
       "      <th>comment_body</th>\n",
       "    </tr>\n",
       "  </thead>\n",
       "  <tbody>\n",
       "    <tr>\n",
       "      <th>0</th>\n",
       "      <td>do you ever feel like not being alive anymorei...</td>\n",
       "      <td>as for anchors my only anchor is i need to be ...</td>\n",
       "    </tr>\n",
       "    <tr>\n",
       "      <th>1</th>\n",
       "      <td>why do depressed people shave their headsive b...</td>\n",
       "      <td>i dont know because i never had the urge but i...</td>\n",
       "    </tr>\n",
       "    <tr>\n",
       "      <th>2</th>\n",
       "      <td>random urge to kill peopleidk why but every no...</td>\n",
       "      <td>you are a coward that cant handle the fact tha...</td>\n",
       "    </tr>\n",
       "    <tr>\n",
       "      <th>3</th>\n",
       "      <td>is slapping my arm when im anxious normalwhen ...</td>\n",
       "      <td>normal and crazy arent binary opposites i woul...</td>\n",
       "    </tr>\n",
       "    <tr>\n",
       "      <th>4</th>\n",
       "      <td>tips to find a psychiatrist that specializes i...</td>\n",
       "      <td>i would assume the majority are aware of anxie...</td>\n",
       "    </tr>\n",
       "    <tr>\n",
       "      <th>...</th>\n",
       "      <td>...</td>\n",
       "      <td>...</td>\n",
       "    </tr>\n",
       "    <tr>\n",
       "      <th>82561</th>\n",
       "      <td>have you heard of thisim not looking for a dia...</td>\n",
       "      <td>i assume you have some sort of existing medica...</td>\n",
       "    </tr>\n",
       "    <tr>\n",
       "      <th>82562</th>\n",
       "      <td>how do i stop my intensityhow do i find friend...</td>\n",
       "      <td>i have been diagnosed officially and i am not ...</td>\n",
       "    </tr>\n",
       "    <tr>\n",
       "      <th>82563</th>\n",
       "      <td>does this have a nameoftain if someone will re...</td>\n",
       "      <td>i asked my councillor but he wasnt too sure it...</td>\n",
       "    </tr>\n",
       "    <tr>\n",
       "      <th>82564</th>\n",
       "      <td>do schizophrenics understand other schizophren...</td>\n",
       "      <td>i dont think it works that way i do find that ...</td>\n",
       "    </tr>\n",
       "    <tr>\n",
       "      <th>82565</th>\n",
       "      <td>does mental illness with a suicide attempt qua...</td>\n",
       "      <td>yes it is a life threatening illness you will ...</td>\n",
       "    </tr>\n",
       "  </tbody>\n",
       "</table>\n",
       "<p>82565 rows × 2 columns</p>\n",
       "</div>"
      ],
      "text/plain": [
       "                                                   title  \\\n",
       "0      do you ever feel like not being alive anymorei...   \n",
       "1      why do depressed people shave their headsive b...   \n",
       "2      random urge to kill peopleidk why but every no...   \n",
       "3      is slapping my arm when im anxious normalwhen ...   \n",
       "4      tips to find a psychiatrist that specializes i...   \n",
       "...                                                  ...   \n",
       "82561  have you heard of thisim not looking for a dia...   \n",
       "82562  how do i stop my intensityhow do i find friend...   \n",
       "82563  does this have a nameoftain if someone will re...   \n",
       "82564  do schizophrenics understand other schizophren...   \n",
       "82565  does mental illness with a suicide attempt qua...   \n",
       "\n",
       "                                            comment_body  \n",
       "0      as for anchors my only anchor is i need to be ...  \n",
       "1      i dont know because i never had the urge but i...  \n",
       "2      you are a coward that cant handle the fact tha...  \n",
       "3      normal and crazy arent binary opposites i woul...  \n",
       "4      i would assume the majority are aware of anxie...  \n",
       "...                                                  ...  \n",
       "82561  i assume you have some sort of existing medica...  \n",
       "82562  i have been diagnosed officially and i am not ...  \n",
       "82563  i asked my councillor but he wasnt too sure it...  \n",
       "82564  i dont think it works that way i do find that ...  \n",
       "82565  yes it is a life threatening illness you will ...  \n",
       "\n",
       "[82565 rows x 2 columns]"
      ]
     },
     "execution_count": 416,
     "metadata": {},
     "output_type": "execute_result"
    }
   ],
   "source": [
    "all_data"
   ]
  },
  {
   "cell_type": "code",
   "execution_count": null,
   "id": "39aa89c9",
   "metadata": {
    "ExecuteTime": {
     "end_time": "2022-10-07T16:13:53.517906Z",
     "start_time": "2022-10-07T16:13:53.517906Z"
    }
   },
   "outputs": [],
   "source": [
    "# tokenize all text\n",
    "def word_tokenize(sentence):\n",
    "    return sentence.split()\n",
    "all_data = all_data.apply(lambda x: word_tokenize(x.str))"
   ]
  },
  {
   "cell_type": "code",
   "execution_count": null,
   "id": "959dfd11",
   "metadata": {
    "ExecuteTime": {
     "end_time": "2022-10-07T16:13:53.522908Z",
     "start_time": "2022-10-07T16:13:53.522908Z"
    }
   },
   "outputs": [],
   "source": [
    "new"
   ]
  },
  {
   "cell_type": "code",
   "execution_count": null,
   "id": "0396a7e2",
   "metadata": {
    "ExecuteTime": {
     "end_time": "2022-10-07T16:13:53.525912Z",
     "start_time": "2022-10-07T16:13:53.525912Z"
    }
   },
   "outputs": [],
   "source": [
    "new_string = a_string.translate(str.maketrans('', '', string.punctuation))"
   ]
  },
  {
   "cell_type": "code",
   "execution_count": null,
   "id": "be8d1de5",
   "metadata": {
    "ExecuteTime": {
     "end_time": "2022-10-07T16:13:53.529915Z",
     "start_time": "2022-10-07T16:13:53.529915Z"
    }
   },
   "outputs": [],
   "source": [
    "# remove numbers"
   ]
  },
  {
   "cell_type": "code",
   "execution_count": null,
   "id": "20fb909b",
   "metadata": {
    "ExecuteTime": {
     "end_time": "2022-10-07T16:13:53.532916Z",
     "start_time": "2022-10-07T16:13:53.532916Z"
    }
   },
   "outputs": [],
   "source": [
    "# remove emojis that weren't converted into text"
   ]
  },
  {
   "cell_type": "code",
   "execution_count": null,
   "id": "301ef0df",
   "metadata": {
    "ExecuteTime": {
     "end_time": "2022-10-07T16:13:53.534918Z",
     "start_time": "2022-10-07T16:13:53.534918Z"
    }
   },
   "outputs": [],
   "source": [
    "# remove digits"
   ]
  },
  {
   "cell_type": "code",
   "execution_count": null,
   "id": "549b15fd",
   "metadata": {
    "ExecuteTime": {
     "end_time": "2022-10-07T16:13:53.536920Z",
     "start_time": "2022-10-07T16:13:53.536920Z"
    }
   },
   "outputs": [],
   "source": [
    "# Writing a function to plot the counts that are in the data\n",
    "\n",
    "def top10_bagofwords(data, title):\n",
    "    ''' Taking as input the data and plots the top 10 words based on counts in this text data'''\n",
    "    bagofwords = CountVectorizer()\n",
    "    inbound = bagofwords.fit_transform(data)\n",
    "    inbound # Output will be a sparse matrix\n",
    "    # Inspecting of often contractions and colloquial language is used\n",
    "    word_counts = np.array(np.sum(inbound, axis=0)).reshape((-1,))\n",
    "    words = np.array(bagofwords.get_feature_names())\n",
    "    words_df = pd.DataFrame({\"word\":words, \n",
    "                             \"count\":word_counts})\n",
    "    words_rank = words_df.sort_values(by=\"count\", ascending=False)\n",
    "    # words_rank.to_csv('words_rank.csv') # Storing it in a csv so I can inspect and go through it myself\n",
    "    words_rank.head()\n",
    "    # Visualizing top 10 words\n",
    "    #plt.figure(figsize=(12,6))\n",
    "    #sns.barplot(words_rank['word'][:10], words_rank['count'][:10].astype(str), palette = 'inferno')\n",
    "    #plt.title(title) \n",
    "    #plt.show()\n",
    "    return words_rank"
   ]
  },
  {
   "cell_type": "code",
   "execution_count": null,
   "id": "4ae657c1",
   "metadata": {
    "ExecuteTime": {
     "end_time": "2022-10-07T16:13:53.539921Z",
     "start_time": "2022-10-07T16:13:53.539921Z"
    }
   },
   "outputs": [],
   "source": [
    "top10_bagofwords(all_data.title, \"top\")"
   ]
  },
  {
   "cell_type": "markdown",
   "id": "109aed57",
   "metadata": {},
   "source": [
    "# Processing emojis\n",
    "# Since emojis can give information about a text"
   ]
  },
  {
   "cell_type": "code",
   "execution_count": null,
   "id": "4e0b8038",
   "metadata": {
    "ExecuteTime": {
     "end_time": "2022-10-05T23:25:48.762680Z",
     "start_time": "2022-10-05T23:25:48.621518Z"
    }
   },
   "outputs": [],
   "source": []
  },
  {
   "cell_type": "code",
   "execution_count": null,
   "id": "656b937e",
   "metadata": {
    "ExecuteTime": {
     "end_time": "2022-10-07T16:13:53.541922Z",
     "start_time": "2022-10-07T16:13:53.541922Z"
    }
   },
   "outputs": [],
   "source": [
    "all_sub['title'] = all_sub['title'].apply(convert_emojis_to_word)"
   ]
  },
  {
   "cell_type": "code",
   "execution_count": null,
   "id": "e9cc6a85",
   "metadata": {
    "ExecuteTime": {
     "end_time": "2022-10-07T16:13:53.544924Z",
     "start_time": "2022-10-07T16:13:53.544924Z"
    }
   },
   "outputs": [],
   "source": [
    "all_sub['post_body'] = all_sub['post_body'].apply(convert_emojis_to_word)"
   ]
  },
  {
   "cell_type": "code",
   "execution_count": null,
   "id": "95e41aa2",
   "metadata": {
    "ExecuteTime": {
     "end_time": "2022-10-07T16:13:53.547926Z",
     "start_time": "2022-10-07T16:13:53.547926Z"
    }
   },
   "outputs": [],
   "source": [
    "demoji.download_codes()"
   ]
  },
  {
   "cell_type": "code",
   "execution_count": null,
   "id": "7b132859",
   "metadata": {
    "ExecuteTime": {
     "end_time": "2022-10-07T16:13:53.552935Z",
     "start_time": "2022-10-07T16:13:53.552935Z"
    }
   },
   "outputs": [],
   "source": [
    "def remove_em(text):\n",
    "    dem = demoji.findall(text)\n",
    "    for item in dem.keys():\n",
    "        text = text.replace(item, \"\")\n",
    "    return text"
   ]
  },
  {
   "cell_type": "code",
   "execution_count": null,
   "id": "9ccd50f0",
   "metadata": {
    "ExecuteTime": {
     "end_time": "2022-10-07T16:13:53.557934Z",
     "start_time": "2022-10-07T16:13:53.557934Z"
    }
   },
   "outputs": [],
   "source": [
    "all_sub['title'] = all_sub['title'].apply(remove_em)"
   ]
  },
  {
   "cell_type": "code",
   "execution_count": null,
   "id": "1d74bb20",
   "metadata": {
    "ExecuteTime": {
     "end_time": "2022-10-07T16:13:53.561942Z",
     "start_time": "2022-10-07T16:13:53.560935Z"
    }
   },
   "outputs": [],
   "source": [
    "all_sub['post_body'] = all_sub['post_body'].apply(remove_em)"
   ]
  }
 ],
 "metadata": {
  "kernelspec": {
   "display_name": "Python 3 (ipykernel)",
   "language": "python",
   "name": "python3"
  },
  "language_info": {
   "codemirror_mode": {
    "name": "ipython",
    "version": 3
   },
   "file_extension": ".py",
   "mimetype": "text/x-python",
   "name": "python",
   "nbconvert_exporter": "python",
   "pygments_lexer": "ipython3",
   "version": "3.9.12"
  }
 },
 "nbformat": 4,
 "nbformat_minor": 5
}
