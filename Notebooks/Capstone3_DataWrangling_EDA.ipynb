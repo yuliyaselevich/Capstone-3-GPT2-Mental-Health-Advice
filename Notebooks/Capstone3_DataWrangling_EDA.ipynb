{
 "cells": [
  {
   "cell_type": "code",
   "execution_count": 1,
   "id": "0d576d86",
   "metadata": {
    "ExecuteTime": {
     "end_time": "2022-11-13T18:53:46.083447Z",
     "start_time": "2022-11-13T18:53:38.236403Z"
    }
   },
   "outputs": [
    {
     "name": "stderr",
     "output_type": "stream",
     "text": [
      "C:\\Users\\Julia\\anaconda3\\lib\\site-packages\\past\\builtins\\misc.py:45: DeprecationWarning: the imp module is deprecated in favour of importlib; see the module's documentation for alternative uses\n",
      "  from imp import reload\n"
     ]
    }
   ],
   "source": [
    "#Essentials\n",
    "import pandas as pd\n",
    "import numpy as np\n",
    "import matplotlib.pyplot as plt\n",
    "import seaborn as sns\n",
    "import csv \n",
    "import datetime as dt\n",
    "\n",
    "#For scraping Reddit\n",
    "import praw\n",
    "from psaw import PushshiftAPI\n",
    "\n",
    "#For EDA\n",
    "import re\n",
    "from wordcloud import WordCloud, STOPWORDS\n",
    "from sklearn.feature_extraction.text import TfidfVectorizer, CountVectorizer\n",
    "from sklearn.neighbors import KNeighborsClassifier \n",
    "from sklearn.cluster import KMeans\n",
    "import sklearn.cluster\n",
    "import sklearn.decomposition\n",
    "import matplotlib.colors\n",
    "from textblob import TextBlob\n",
    "from gensim.models import Word2Vec\n",
    "import nltk\n",
    "import nltk.corpus\n",
    "from nltk.corpus import nps_chat, wordnet\n",
    "from nltk import pos_tag\n",
    "from nltk.stem.wordnet import WordNetLemmatizer \n",
    "from nltk.tokenize import word_tokenize\n",
    "from nltk.corpus import stopwords\n",
    "from nltk import NaiveBayesClassifier\n",
    "from nltk import TweetTokenizer\n",
    "import textstat\n",
    "import gensim.corpora as corpora\n",
    "from pprint import pprint\n",
    "import gensim\n",
    "from gensim.utils import simple_preprocess\n",
    "from sklearn.feature_extraction.text import TfidfVectorizer\n",
    "from sklearn.cluster import KMeans\n",
    "from sklearn.metrics import adjusted_rand_score\n",
    "import gensim.corpora as corpora\n",
    "from gensim.corpora.dictionary import Dictionary\n",
    "from gensim.models.coherencemodel import CoherenceModel\n",
    "import pyLDAvis.gensim_models\n",
    "import pickle \n",
    "import pyLDAvis\n",
    "import os\n",
    "import emot\n",
    "import demoji\n",
    "import contractions\n",
    "from spellchecker import SpellChecker\n",
    "from pprint import pprint"
   ]
  },
  {
   "cell_type": "code",
   "execution_count": 31,
   "id": "94149f35",
   "metadata": {
    "ExecuteTime": {
     "end_time": "2022-10-19T18:28:40.106483Z",
     "start_time": "2022-10-19T18:28:38.903597Z"
    }
   },
   "outputs": [
    {
     "name": "stderr",
     "output_type": "stream",
     "text": [
      "[nltk_data] Downloading package punkt to\n",
      "[nltk_data]     C:\\Users\\Julia\\AppData\\Roaming\\nltk_data...\n",
      "[nltk_data]   Package punkt is already up-to-date!\n",
      "[nltk_data] Downloading package nps_chat to\n",
      "[nltk_data]     C:\\Users\\Julia\\AppData\\Roaming\\nltk_data...\n",
      "[nltk_data]   Package nps_chat is already up-to-date!\n",
      "[nltk_data] Downloading package stopwords to\n",
      "[nltk_data]     C:\\Users\\Julia\\AppData\\Roaming\\nltk_data...\n",
      "[nltk_data]   Package stopwords is already up-to-date!\n",
      "[nltk_data] Downloading package averaged_perceptron_tagger to\n",
      "[nltk_data]     C:\\Users\\Julia\\AppData\\Roaming\\nltk_data...\n",
      "[nltk_data]   Package averaged_perceptron_tagger is already up-to-\n",
      "[nltk_data]       date!\n",
      "[nltk_data] Downloading package wordnet to\n",
      "[nltk_data]     C:\\Users\\Julia\\AppData\\Roaming\\nltk_data...\n",
      "[nltk_data]   Package wordnet is already up-to-date!\n",
      "[nltk_data] Downloading package omw-1.4 to\n",
      "[nltk_data]     C:\\Users\\Julia\\AppData\\Roaming\\nltk_data...\n"
     ]
    },
    {
     "data": {
      "text/plain": [
       "True"
      ]
     },
     "execution_count": 31,
     "metadata": {},
     "output_type": "execute_result"
    }
   ],
   "source": [
    "nltk.download('punkt')\n",
    "nltk.download('nps_chat')\n",
    "nltk.download('stopwords')\n",
    "nltk.download('averaged_perceptron_tagger')\n",
    "nltk.download('wordnet')\n",
    "nltk.download('omw-1.4')"
   ]
  },
  {
   "cell_type": "markdown",
   "id": "3ab47326",
   "metadata": {},
   "source": [
    "# Mental Heatlh"
   ]
  },
  {
   "cell_type": "code",
   "execution_count": 2,
   "id": "b8743a3f",
   "metadata": {
    "ExecuteTime": {
     "end_time": "2022-09-18T21:22:53.185730Z",
     "start_time": "2022-09-18T20:58:04.726804Z"
    }
   },
   "outputs": [
    {
     "name": "stderr",
     "output_type": "stream",
     "text": [
      "C:\\Users\\Julia\\anaconda3\\lib\\site-packages\\psaw\\PushshiftAPI.py:252: UserWarning: Not all PushShift shards are active. Query results may be incomplete\n",
      "  warnings.warn(shards_down_message)\n",
      "C:\\Users\\Julia\\anaconda3\\lib\\site-packages\\psaw\\PushshiftAPI.py:192: UserWarning: Got non 200 code 429\n",
      "  warnings.warn(\"Got non 200 code %s\" % response.status_code)\n",
      "C:\\Users\\Julia\\anaconda3\\lib\\site-packages\\psaw\\PushshiftAPI.py:180: UserWarning: Unable to connect to pushshift.io. Retrying after backoff.\n",
      "  warnings.warn(\"Unable to connect to pushshift.io. Retrying after backoff.\")\n"
     ]
    }
   ],
   "source": [
    "#Thanks to dmarx for the clear code on pulling from PSAW! PSAW docs are surprisingly unclear.\n",
    "#https://github.com/dmarx/psaw\n",
    "api = PushshiftAPI()\n",
    "\n",
    "#Start date we're beginning to pull posts from\n",
    "start_epoch=int(dt.datetime(2010, 1, 1).timestamp())\n",
    "\n",
    "\n",
    "#Pulling submissions from mentalhealth (both the title and body of a post)\n",
    "\n",
    "gen_subMH = list(api.search_submissions(after=start_epoch,\n",
    "                            subreddit='mentalhealth',\n",
    "                            filter=['title', 'id','score','link_flair_text','selftext'],\n",
    "                            limit=1000000))\n",
    "\n",
    "\n",
    "#Converting to dataframe\n",
    "MHsub = pd.DataFrame([thing.d_ for thing in gen_subMH])\n"
   ]
  },
  {
   "cell_type": "code",
   "execution_count": 3,
   "id": "165cca7a",
   "metadata": {
    "ExecuteTime": {
     "end_time": "2022-09-18T21:23:10.418189Z",
     "start_time": "2022-09-18T21:22:53.194738Z"
    }
   },
   "outputs": [],
   "source": [
    "MHsub.to_csv('../Data/MHsub.csv',index=False)"
   ]
  },
  {
   "cell_type": "code",
   "execution_count": 4,
   "id": "785a786b",
   "metadata": {
    "ExecuteTime": {
     "end_time": "2022-09-18T22:57:14.543957Z",
     "start_time": "2022-09-18T21:23:10.427171Z"
    },
    "scrolled": true
   },
   "outputs": [
    {
     "name": "stderr",
     "output_type": "stream",
     "text": [
      "C:\\Users\\Julia\\anaconda3\\lib\\site-packages\\psaw\\PushshiftAPI.py:252: UserWarning: Not all PushShift shards are active. Query results may be incomplete\n",
      "  warnings.warn(shards_down_message)\n",
      "C:\\Users\\Julia\\anaconda3\\lib\\site-packages\\psaw\\PushshiftAPI.py:192: UserWarning: Got non 200 code 429\n",
      "  warnings.warn(\"Got non 200 code %s\" % response.status_code)\n",
      "C:\\Users\\Julia\\anaconda3\\lib\\site-packages\\psaw\\PushshiftAPI.py:180: UserWarning: Unable to connect to pushshift.io. Retrying after backoff.\n",
      "  warnings.warn(\"Unable to connect to pushshift.io. Retrying after backoff.\")\n"
     ]
    }
   ],
   "source": [
    "#Pulling comments from mental health\n",
    "\n",
    "gen_comMH = api.search_comments(after=start_epoch, \n",
    "                            subreddit='mentalhealth',\n",
    "                            filter=['body', 'link_id', 'id', 'score','submission'],\n",
    "                            #link_id = new_idsMH,\n",
    "                            limit=35000000)\n",
    "\n",
    "MHcom = pd.DataFrame([thing.d_ for thing in gen_comMH])"
   ]
  },
  {
   "cell_type": "code",
   "execution_count": 5,
   "id": "5fe48b92",
   "metadata": {
    "ExecuteTime": {
     "end_time": "2022-09-18T22:57:38.572099Z",
     "start_time": "2022-09-18T22:57:14.631323Z"
    }
   },
   "outputs": [],
   "source": [
    "MHcom.to_csv('../Data/MHcom.csv',index=False)"
   ]
  },
  {
   "cell_type": "markdown",
   "id": "f1fc2750",
   "metadata": {},
   "source": [
    "# Mental Illness subreddit"
   ]
  },
  {
   "cell_type": "code",
   "execution_count": 6,
   "id": "a1e7409c",
   "metadata": {
    "ExecuteTime": {
     "end_time": "2022-09-18T23:03:13.668402Z",
     "start_time": "2022-09-18T22:57:38.577089Z"
    }
   },
   "outputs": [
    {
     "name": "stderr",
     "output_type": "stream",
     "text": [
      "C:\\Users\\Julia\\anaconda3\\lib\\site-packages\\psaw\\PushshiftAPI.py:252: UserWarning: Not all PushShift shards are active. Query results may be incomplete\n",
      "  warnings.warn(shards_down_message)\n",
      "C:\\Users\\Julia\\anaconda3\\lib\\site-packages\\psaw\\PushshiftAPI.py:192: UserWarning: Got non 200 code 429\n",
      "  warnings.warn(\"Got non 200 code %s\" % response.status_code)\n",
      "C:\\Users\\Julia\\anaconda3\\lib\\site-packages\\psaw\\PushshiftAPI.py:180: UserWarning: Unable to connect to pushshift.io. Retrying after backoff.\n",
      "  warnings.warn(\"Unable to connect to pushshift.io. Retrying after backoff.\")\n"
     ]
    }
   ],
   "source": [
    "gen_subMI = list(api.search_submissions(after=start_epoch,\n",
    "                            subreddit='mentalillness',\n",
    "                            filter=['title', 'id','score','link_flair_text','selftext'],\n",
    "                            limit=1000000))\n",
    "\n",
    "\n",
    "#Converting to dataframe\n",
    "MIsub = pd.DataFrame([thing.d_ for thing in gen_subMI])"
   ]
  },
  {
   "cell_type": "code",
   "execution_count": 7,
   "id": "1b273d75",
   "metadata": {
    "ExecuteTime": {
     "end_time": "2022-09-18T23:03:15.239888Z",
     "start_time": "2022-09-18T23:03:13.681411Z"
    }
   },
   "outputs": [],
   "source": [
    "MIsub.to_csv('../Data/MIsub.csv',index=False)"
   ]
  },
  {
   "cell_type": "code",
   "execution_count": 8,
   "id": "987ecd65",
   "metadata": {
    "ExecuteTime": {
     "end_time": "2022-09-18T23:16:27.896527Z",
     "start_time": "2022-09-18T23:03:15.242882Z"
    }
   },
   "outputs": [
    {
     "name": "stderr",
     "output_type": "stream",
     "text": [
      "C:\\Users\\Julia\\anaconda3\\lib\\site-packages\\psaw\\PushshiftAPI.py:252: UserWarning: Not all PushShift shards are active. Query results may be incomplete\n",
      "  warnings.warn(shards_down_message)\n",
      "C:\\Users\\Julia\\anaconda3\\lib\\site-packages\\psaw\\PushshiftAPI.py:192: UserWarning: Got non 200 code 429\n",
      "  warnings.warn(\"Got non 200 code %s\" % response.status_code)\n",
      "C:\\Users\\Julia\\anaconda3\\lib\\site-packages\\psaw\\PushshiftAPI.py:180: UserWarning: Unable to connect to pushshift.io. Retrying after backoff.\n",
      "  warnings.warn(\"Unable to connect to pushshift.io. Retrying after backoff.\")\n"
     ]
    }
   ],
   "source": [
    "gen_comMI = api.search_comments(after=start_epoch, \n",
    "                            subreddit='mentalillness',\n",
    "                            filter=['body', 'link_id', 'id', 'score','submission'],\n",
    "                            #link_id = new_MIids,\n",
    "                            limit=35000000)\n",
    "\n",
    "MIcom = pd.DataFrame([thing.d_ for thing in gen_comMI])"
   ]
  },
  {
   "cell_type": "code",
   "execution_count": 9,
   "id": "db0e0541",
   "metadata": {
    "ExecuteTime": {
     "end_time": "2022-09-18T23:16:30.448626Z",
     "start_time": "2022-09-18T23:16:27.951685Z"
    },
    "scrolled": true
   },
   "outputs": [],
   "source": [
    "MIcom.to_csv('../Data/MIcom.csv',index=False)"
   ]
  },
  {
   "cell_type": "markdown",
   "id": "e1351904",
   "metadata": {},
   "source": [
    "# Loading the data"
   ]
  },
  {
   "cell_type": "code",
   "execution_count": 2,
   "id": "7ede4b08",
   "metadata": {
    "ExecuteTime": {
     "end_time": "2022-11-09T00:07:32.792634Z",
     "start_time": "2022-11-09T00:07:11.083086Z"
    }
   },
   "outputs": [],
   "source": [
    "MHsub = pd.read_csv('../Data/MHsub.csv')\n",
    "MHcom = pd.read_csv('../Data/MHcom.csv')\n",
    "MIsub = pd.read_csv('../Data/MIsub.csv')\n",
    "MIcom = pd.read_csv('../Data/MIcom.csv')"
   ]
  },
  {
   "cell_type": "markdown",
   "id": "af54e452",
   "metadata": {},
   "source": [
    "# Cleaning the data"
   ]
  },
  {
   "cell_type": "markdown",
   "id": "72f1d64b",
   "metadata": {},
   "source": [
    "# We can merge submissions from mentalhealth and mentalillness subreddits"
   ]
  },
  {
   "cell_type": "code",
   "execution_count": 3,
   "id": "9b646a04",
   "metadata": {
    "ExecuteTime": {
     "end_time": "2022-11-09T00:07:35.250968Z",
     "start_time": "2022-11-09T00:07:34.947191Z"
    }
   },
   "outputs": [],
   "source": [
    "all_sub = pd.concat([MHsub,MIsub])\n",
    "all_sub.reset_index(inplace=True,drop=True)"
   ]
  },
  {
   "cell_type": "code",
   "execution_count": 4,
   "id": "a34df9d5",
   "metadata": {
    "ExecuteTime": {
     "end_time": "2022-11-09T00:07:36.118723Z",
     "start_time": "2022-11-09T00:07:36.066673Z"
    }
   },
   "outputs": [
    {
     "data": {
      "text/html": [
       "<div>\n",
       "<style scoped>\n",
       "    .dataframe tbody tr th:only-of-type {\n",
       "        vertical-align: middle;\n",
       "    }\n",
       "\n",
       "    .dataframe tbody tr th {\n",
       "        vertical-align: top;\n",
       "    }\n",
       "\n",
       "    .dataframe thead th {\n",
       "        text-align: right;\n",
       "    }\n",
       "</style>\n",
       "<table border=\"1\" class=\"dataframe\">\n",
       "  <thead>\n",
       "    <tr style=\"text-align: right;\">\n",
       "      <th></th>\n",
       "      <th>created_utc</th>\n",
       "      <th>id</th>\n",
       "      <th>score</th>\n",
       "      <th>selftext</th>\n",
       "      <th>title</th>\n",
       "      <th>created</th>\n",
       "      <th>link_flair_text</th>\n",
       "    </tr>\n",
       "  </thead>\n",
       "  <tbody>\n",
       "    <tr>\n",
       "      <th>0</th>\n",
       "      <td>1663534517</td>\n",
       "      <td>xhrtbf</td>\n",
       "      <td>1</td>\n",
       "      <td>I don’t entirely want to reach out to people h...</td>\n",
       "      <td>How do I stop villainizing myself.</td>\n",
       "      <td>1.663549e+09</td>\n",
       "      <td>NaN</td>\n",
       "    </tr>\n",
       "    <tr>\n",
       "      <th>1</th>\n",
       "      <td>1663534244</td>\n",
       "      <td>xhrpbh</td>\n",
       "      <td>1</td>\n",
       "      <td>I suffer from anxiety attacks regularly, usual...</td>\n",
       "      <td>is this a panic attack or something else?</td>\n",
       "      <td>1.663549e+09</td>\n",
       "      <td>NaN</td>\n",
       "    </tr>\n",
       "    <tr>\n",
       "      <th>2</th>\n",
       "      <td>1663533992</td>\n",
       "      <td>xhrlh6</td>\n",
       "      <td>1</td>\n",
       "      <td>I've been having these thoughts lately like\\n\\...</td>\n",
       "      <td>do you ever feel like not being alive anymore</td>\n",
       "      <td>1.663548e+09</td>\n",
       "      <td>NaN</td>\n",
       "    </tr>\n",
       "    <tr>\n",
       "      <th>3</th>\n",
       "      <td>1663533274</td>\n",
       "      <td>xhrats</td>\n",
       "      <td>1</td>\n",
       "      <td>For some miraculous reason, I got a girlfriend...</td>\n",
       "      <td>Being normal</td>\n",
       "      <td>1.663548e+09</td>\n",
       "      <td>Opinion / Thoughts</td>\n",
       "    </tr>\n",
       "    <tr>\n",
       "      <th>4</th>\n",
       "      <td>1663533255</td>\n",
       "      <td>xhrajv</td>\n",
       "      <td>1</td>\n",
       "      <td>I've been going through a hard time lately and...</td>\n",
       "      <td>why do depressed people shave their heads</td>\n",
       "      <td>1.663548e+09</td>\n",
       "      <td>NaN</td>\n",
       "    </tr>\n",
       "    <tr>\n",
       "      <th>...</th>\n",
       "      <td>...</td>\n",
       "      <td>...</td>\n",
       "      <td>...</td>\n",
       "      <td>...</td>\n",
       "      <td>...</td>\n",
       "      <td>...</td>\n",
       "      <td>...</td>\n",
       "    </tr>\n",
       "    <tr>\n",
       "      <th>415285</th>\n",
       "      <td>1353891546</td>\n",
       "      <td>13sbe9</td>\n",
       "      <td>1</td>\n",
       "      <td>NaN</td>\n",
       "      <td>I look again to make sure so one is near me an...</td>\n",
       "      <td>1.353906e+09</td>\n",
       "      <td>NaN</td>\n",
       "    </tr>\n",
       "    <tr>\n",
       "      <th>415286</th>\n",
       "      <td>1348724331</td>\n",
       "      <td>10juc6</td>\n",
       "      <td>1</td>\n",
       "      <td>NaN</td>\n",
       "      <td>NAMI | Peer-to-Peer is a unique, experiential ...</td>\n",
       "      <td>1.348739e+09</td>\n",
       "      <td>NaN</td>\n",
       "    </tr>\n",
       "    <tr>\n",
       "      <th>415287</th>\n",
       "      <td>1344639905</td>\n",
       "      <td>y0sqy</td>\n",
       "      <td>0</td>\n",
       "      <td>AMA</td>\n",
       "      <td>I am rooster illusion</td>\n",
       "      <td>1.344654e+09</td>\n",
       "      <td>NaN</td>\n",
       "    </tr>\n",
       "    <tr>\n",
       "      <th>415288</th>\n",
       "      <td>1321506737</td>\n",
       "      <td>mfckr</td>\n",
       "      <td>1</td>\n",
       "      <td>so i have a lot of random impluses. crazy shit...</td>\n",
       "      <td>crazy motherfucker</td>\n",
       "      <td>1.321521e+09</td>\n",
       "      <td>NaN</td>\n",
       "    </tr>\n",
       "    <tr>\n",
       "      <th>415289</th>\n",
       "      <td>1319162763</td>\n",
       "      <td>ljftm</td>\n",
       "      <td>1</td>\n",
       "      <td>NaN</td>\n",
       "      <td>Do you love someone who has a mental illness?</td>\n",
       "      <td>1.319177e+09</td>\n",
       "      <td>NaN</td>\n",
       "    </tr>\n",
       "  </tbody>\n",
       "</table>\n",
       "<p>415290 rows × 7 columns</p>\n",
       "</div>"
      ],
      "text/plain": [
       "        created_utc      id  score  \\\n",
       "0        1663534517  xhrtbf      1   \n",
       "1        1663534244  xhrpbh      1   \n",
       "2        1663533992  xhrlh6      1   \n",
       "3        1663533274  xhrats      1   \n",
       "4        1663533255  xhrajv      1   \n",
       "...             ...     ...    ...   \n",
       "415285   1353891546  13sbe9      1   \n",
       "415286   1348724331  10juc6      1   \n",
       "415287   1344639905   y0sqy      0   \n",
       "415288   1321506737   mfckr      1   \n",
       "415289   1319162763   ljftm      1   \n",
       "\n",
       "                                                 selftext  \\\n",
       "0       I don’t entirely want to reach out to people h...   \n",
       "1       I suffer from anxiety attacks regularly, usual...   \n",
       "2       I've been having these thoughts lately like\\n\\...   \n",
       "3       For some miraculous reason, I got a girlfriend...   \n",
       "4       I've been going through a hard time lately and...   \n",
       "...                                                   ...   \n",
       "415285                                                NaN   \n",
       "415286                                                NaN   \n",
       "415287                                                AMA   \n",
       "415288  so i have a lot of random impluses. crazy shit...   \n",
       "415289                                                NaN   \n",
       "\n",
       "                                                    title       created  \\\n",
       "0                      How do I stop villainizing myself.  1.663549e+09   \n",
       "1               is this a panic attack or something else?  1.663549e+09   \n",
       "2           do you ever feel like not being alive anymore  1.663548e+09   \n",
       "3                                            Being normal  1.663548e+09   \n",
       "4               why do depressed people shave their heads  1.663548e+09   \n",
       "...                                                   ...           ...   \n",
       "415285  I look again to make sure so one is near me an...  1.353906e+09   \n",
       "415286  NAMI | Peer-to-Peer is a unique, experiential ...  1.348739e+09   \n",
       "415287                              I am rooster illusion  1.344654e+09   \n",
       "415288                                 crazy motherfucker  1.321521e+09   \n",
       "415289      Do you love someone who has a mental illness?  1.319177e+09   \n",
       "\n",
       "           link_flair_text  \n",
       "0                      NaN  \n",
       "1                      NaN  \n",
       "2                      NaN  \n",
       "3       Opinion / Thoughts  \n",
       "4                      NaN  \n",
       "...                    ...  \n",
       "415285                 NaN  \n",
       "415286                 NaN  \n",
       "415287                 NaN  \n",
       "415288                 NaN  \n",
       "415289                 NaN  \n",
       "\n",
       "[415290 rows x 7 columns]"
      ]
     },
     "execution_count": 4,
     "metadata": {},
     "output_type": "execute_result"
    }
   ],
   "source": [
    "all_sub"
   ]
  },
  {
   "cell_type": "code",
   "execution_count": 5,
   "id": "d5c7a981",
   "metadata": {
    "ExecuteTime": {
     "end_time": "2022-11-09T00:07:39.216735Z",
     "start_time": "2022-11-09T00:07:39.177689Z"
    }
   },
   "outputs": [],
   "source": [
    "all_sub['created'] = pd.to_datetime(all_sub['created'], unit='s')"
   ]
  },
  {
   "cell_type": "code",
   "execution_count": 6,
   "id": "56fe5f94",
   "metadata": {
    "ExecuteTime": {
     "end_time": "2022-11-09T00:07:41.356481Z",
     "start_time": "2022-11-09T00:07:41.312437Z"
    }
   },
   "outputs": [],
   "source": [
    "all_sub = all_sub.drop(columns=['created_utc','score','link_flair_text'])"
   ]
  },
  {
   "cell_type": "code",
   "execution_count": 7,
   "id": "768aa24b",
   "metadata": {
    "ExecuteTime": {
     "end_time": "2022-11-09T00:07:43.414336Z",
     "start_time": "2022-11-09T00:07:43.241196Z"
    }
   },
   "outputs": [],
   "source": [
    "all_sub = all_sub.rename(columns={'selftext': 'post_body'})"
   ]
  },
  {
   "cell_type": "code",
   "execution_count": 8,
   "id": "89a5aabd",
   "metadata": {
    "ExecuteTime": {
     "end_time": "2022-11-09T00:07:47.066205Z",
     "start_time": "2022-11-09T00:07:44.818595Z"
    }
   },
   "outputs": [],
   "source": [
    "#making the title & post_body lowercase for future processing.\n",
    "all_sub['post_body'] = all_sub['post_body'].astype(str)\n",
    "all_sub['title'] = all_sub['title'].astype(str)\n",
    "all_sub['title'] = all_sub['title'].apply(lambda x: x.lower())\n",
    "all_sub['post_body'] = all_sub['post_body'].apply(lambda x: x.lower())"
   ]
  },
  {
   "cell_type": "markdown",
   "id": "a9cb5a0f",
   "metadata": {
    "ExecuteTime": {
     "end_time": "2022-10-06T19:17:39.840703Z",
     "start_time": "2022-10-06T19:17:39.824705Z"
    }
   },
   "source": [
    "# Merging two dataframes with comments"
   ]
  },
  {
   "cell_type": "code",
   "execution_count": 9,
   "id": "06ad8704",
   "metadata": {
    "ExecuteTime": {
     "end_time": "2022-11-09T00:07:48.508871Z",
     "start_time": "2022-11-09T00:07:48.170591Z"
    }
   },
   "outputs": [],
   "source": [
    "all_com = pd.concat([MHcom,MIcom])"
   ]
  },
  {
   "cell_type": "code",
   "execution_count": 10,
   "id": "5eeecdbd",
   "metadata": {
    "ExecuteTime": {
     "end_time": "2022-11-09T00:07:49.589204Z",
     "start_time": "2022-11-09T00:07:49.572192Z"
    }
   },
   "outputs": [
    {
     "data": {
      "text/html": [
       "<div>\n",
       "<style scoped>\n",
       "    .dataframe tbody tr th:only-of-type {\n",
       "        vertical-align: middle;\n",
       "    }\n",
       "\n",
       "    .dataframe tbody tr th {\n",
       "        vertical-align: top;\n",
       "    }\n",
       "\n",
       "    .dataframe thead th {\n",
       "        text-align: right;\n",
       "    }\n",
       "</style>\n",
       "<table border=\"1\" class=\"dataframe\">\n",
       "  <thead>\n",
       "    <tr style=\"text-align: right;\">\n",
       "      <th></th>\n",
       "      <th>body</th>\n",
       "      <th>created_utc</th>\n",
       "      <th>id</th>\n",
       "      <th>link_id</th>\n",
       "      <th>score</th>\n",
       "      <th>created</th>\n",
       "    </tr>\n",
       "  </thead>\n",
       "  <tbody>\n",
       "    <tr>\n",
       "      <th>0</th>\n",
       "      <td>[removed]</td>\n",
       "      <td>1663536087</td>\n",
       "      <td>iozbxkr</td>\n",
       "      <td>t3_xhsag5</td>\n",
       "      <td>1</td>\n",
       "      <td>1.663550e+09</td>\n",
       "    </tr>\n",
       "    <tr>\n",
       "      <th>1</th>\n",
       "      <td>Bro it seems you may actually delusional no ju...</td>\n",
       "      <td>1663536013</td>\n",
       "      <td>iozbqlk</td>\n",
       "      <td>t3_xhsag5</td>\n",
       "      <td>1</td>\n",
       "      <td>1.663550e+09</td>\n",
       "    </tr>\n",
       "    <tr>\n",
       "      <th>2</th>\n",
       "      <td>Thank you for for sharing. A reminder: if you ...</td>\n",
       "      <td>1663535972</td>\n",
       "      <td>iozbmub</td>\n",
       "      <td>t3_xhsf3f</td>\n",
       "      <td>1</td>\n",
       "      <td>1.663550e+09</td>\n",
       "    </tr>\n",
       "    <tr>\n",
       "      <th>3</th>\n",
       "      <td>Thanks</td>\n",
       "      <td>1663535958</td>\n",
       "      <td>iozbljf</td>\n",
       "      <td>t3_xhkzmw</td>\n",
       "      <td>1</td>\n",
       "      <td>1.663550e+09</td>\n",
       "    </tr>\n",
       "    <tr>\n",
       "      <th>4</th>\n",
       "      <td>I definitely have body image issues and I’m th...</td>\n",
       "      <td>1663535919</td>\n",
       "      <td>iozbi1l</td>\n",
       "      <td>t3_xhkzmw</td>\n",
       "      <td>1</td>\n",
       "      <td>1.663550e+09</td>\n",
       "    </tr>\n",
       "    <tr>\n",
       "      <th>...</th>\n",
       "      <td>...</td>\n",
       "      <td>...</td>\n",
       "      <td>...</td>\n",
       "      <td>...</td>\n",
       "      <td>...</td>\n",
       "      <td>...</td>\n",
       "    </tr>\n",
       "    <tr>\n",
       "      <th>195872</th>\n",
       "      <td>This further stigmatizes mental illness. It do...</td>\n",
       "      <td>1388387508</td>\n",
       "      <td>ced74e0</td>\n",
       "      <td>t3_1r79dm</td>\n",
       "      <td>3</td>\n",
       "      <td>1.388402e+09</td>\n",
       "    </tr>\n",
       "    <tr>\n",
       "      <th>195873</th>\n",
       "      <td>I hear ya. Sister suffers from bi-polar and mi...</td>\n",
       "      <td>1388367327</td>\n",
       "      <td>cecz8pw</td>\n",
       "      <td>t3_1qbx9v</td>\n",
       "      <td>2</td>\n",
       "      <td>1.388382e+09</td>\n",
       "    </tr>\n",
       "    <tr>\n",
       "      <th>195874</th>\n",
       "      <td>If i have to read another overwrought analogy ...</td>\n",
       "      <td>1387557036</td>\n",
       "      <td>ce6e980</td>\n",
       "      <td>t3_1r79dm</td>\n",
       "      <td>2</td>\n",
       "      <td>1.387571e+09</td>\n",
       "    </tr>\n",
       "    <tr>\n",
       "      <th>195875</th>\n",
       "      <td>Ugh, that's atrocious.  Just because I can't w...</td>\n",
       "      <td>1385376904</td>\n",
       "      <td>cdmivce</td>\n",
       "      <td>t3_1r79dm</td>\n",
       "      <td>7</td>\n",
       "      <td>1.385391e+09</td>\n",
       "    </tr>\n",
       "    <tr>\n",
       "      <th>195876</th>\n",
       "      <td>Best quote from the interview: Are you telling...</td>\n",
       "      <td>1370800725</td>\n",
       "      <td>cafcjn9</td>\n",
       "      <td>t3_1fzphf</td>\n",
       "      <td>1</td>\n",
       "      <td>1.370815e+09</td>\n",
       "    </tr>\n",
       "  </tbody>\n",
       "</table>\n",
       "<p>1556846 rows × 6 columns</p>\n",
       "</div>"
      ],
      "text/plain": [
       "                                                     body  created_utc  \\\n",
       "0                                               [removed]   1663536087   \n",
       "1       Bro it seems you may actually delusional no ju...   1663536013   \n",
       "2       Thank you for for sharing. A reminder: if you ...   1663535972   \n",
       "3                                                  Thanks   1663535958   \n",
       "4       I definitely have body image issues and I’m th...   1663535919   \n",
       "...                                                   ...          ...   \n",
       "195872  This further stigmatizes mental illness. It do...   1388387508   \n",
       "195873  I hear ya. Sister suffers from bi-polar and mi...   1388367327   \n",
       "195874  If i have to read another overwrought analogy ...   1387557036   \n",
       "195875  Ugh, that's atrocious.  Just because I can't w...   1385376904   \n",
       "195876  Best quote from the interview: Are you telling...   1370800725   \n",
       "\n",
       "             id    link_id  score       created  \n",
       "0       iozbxkr  t3_xhsag5      1  1.663550e+09  \n",
       "1       iozbqlk  t3_xhsag5      1  1.663550e+09  \n",
       "2       iozbmub  t3_xhsf3f      1  1.663550e+09  \n",
       "3       iozbljf  t3_xhkzmw      1  1.663550e+09  \n",
       "4       iozbi1l  t3_xhkzmw      1  1.663550e+09  \n",
       "...         ...        ...    ...           ...  \n",
       "195872  ced74e0  t3_1r79dm      3  1.388402e+09  \n",
       "195873  cecz8pw  t3_1qbx9v      2  1.388382e+09  \n",
       "195874  ce6e980  t3_1r79dm      2  1.387571e+09  \n",
       "195875  cdmivce  t3_1r79dm      7  1.385391e+09  \n",
       "195876  cafcjn9  t3_1fzphf      1  1.370815e+09  \n",
       "\n",
       "[1556846 rows x 6 columns]"
      ]
     },
     "execution_count": 10,
     "metadata": {},
     "output_type": "execute_result"
    }
   ],
   "source": [
    "all_com"
   ]
  },
  {
   "cell_type": "code",
   "execution_count": 11,
   "id": "f4d2c133",
   "metadata": {
    "ExecuteTime": {
     "end_time": "2022-11-09T00:07:53.622473Z",
     "start_time": "2022-11-09T00:07:53.314940Z"
    }
   },
   "outputs": [],
   "source": [
    "all_com['body'] = all_com['body'].astype('string')"
   ]
  },
  {
   "cell_type": "code",
   "execution_count": 239,
   "id": "fb0a8f52",
   "metadata": {
    "ExecuteTime": {
     "end_time": "2022-10-06T19:21:21.877262Z",
     "start_time": "2022-10-06T19:21:18.719402Z"
    }
   },
   "outputs": [],
   "source": [
    "# removing all duplicate comments which mostly include automatic replies from bots or [removed] and [deleted] comments\n",
    "all_com = all_com[~all_com.body.duplicated(keep=False)].reset_index(drop=True)"
   ]
  },
  {
   "cell_type": "code",
   "execution_count": 241,
   "id": "5dd9027d",
   "metadata": {
    "ExecuteTime": {
     "end_time": "2022-10-06T19:22:36.240552Z",
     "start_time": "2022-10-06T19:22:29.533763Z"
    }
   },
   "outputs": [],
   "source": [
    "# list of indexes of all comments that have only one word.\n",
    "one_word = list(all_com[[len(i.split())==1 for i in all_com['body'].values]].index)\n",
    "# dropping all the comments that have one word only\n",
    "all_com = all_com.drop(index=one_word).reset_index(drop=True)"
   ]
  },
  {
   "cell_type": "code",
   "execution_count": 243,
   "id": "84e61b57",
   "metadata": {
    "ExecuteTime": {
     "end_time": "2022-10-06T19:23:12.453162Z",
     "start_time": "2022-10-06T19:23:09.260837Z"
    }
   },
   "outputs": [],
   "source": [
    "# grouping all comments with the same link_id (i.e. beloning to the same submission)\n",
    "all_com = pd.DataFrame(all_com.groupby('link_id')['body'].sum()).reset_index(level=0)"
   ]
  },
  {
   "cell_type": "code",
   "execution_count": 244,
   "id": "7f1c6380",
   "metadata": {
    "ExecuteTime": {
     "end_time": "2022-10-06T19:24:15.570779Z",
     "start_time": "2022-10-06T19:24:15.393653Z"
    }
   },
   "outputs": [],
   "source": [
    "# removing 't3_' from link_id to find a match in dataframe withs submissions\n",
    "all_com['link_id'] = all_com.link_id.map(lambda x: x.strip(\"t3_\"))\n",
    "all_com.rename(columns={'link_id':'id'},inplace=True)"
   ]
  },
  {
   "cell_type": "code",
   "execution_count": 252,
   "id": "013f849a",
   "metadata": {
    "ExecuteTime": {
     "end_time": "2022-10-06T19:28:14.888935Z",
     "start_time": "2022-10-06T19:28:08.266168Z"
    }
   },
   "outputs": [],
   "source": [
    "# merging submissions and comments on their id\n",
    "all_data = pd.merge(all_sub,all_com,how='left',on=['id'])"
   ]
  },
  {
   "cell_type": "code",
   "execution_count": 255,
   "id": "fb4fab76",
   "metadata": {
    "ExecuteTime": {
     "end_time": "2022-10-06T19:29:30.000502Z",
     "start_time": "2022-10-06T19:29:29.780334Z"
    }
   },
   "outputs": [],
   "source": [
    "all_data = all_data[all_data['body'] != '<NA>'].reset_index(drop=True)"
   ]
  },
  {
   "cell_type": "code",
   "execution_count": 257,
   "id": "ee6add00",
   "metadata": {
    "ExecuteTime": {
     "end_time": "2022-10-06T19:30:36.689200Z",
     "start_time": "2022-10-06T19:30:36.665196Z"
    }
   },
   "outputs": [
    {
     "data": {
      "text/html": [
       "<div>\n",
       "<style scoped>\n",
       "    .dataframe tbody tr th:only-of-type {\n",
       "        vertical-align: middle;\n",
       "    }\n",
       "\n",
       "    .dataframe tbody tr th {\n",
       "        vertical-align: top;\n",
       "    }\n",
       "\n",
       "    .dataframe thead th {\n",
       "        text-align: right;\n",
       "    }\n",
       "</style>\n",
       "<table border=\"1\" class=\"dataframe\">\n",
       "  <thead>\n",
       "    <tr style=\"text-align: right;\">\n",
       "      <th></th>\n",
       "      <th>id</th>\n",
       "      <th>post_body</th>\n",
       "      <th>title</th>\n",
       "      <th>created</th>\n",
       "      <th>comment_body</th>\n",
       "    </tr>\n",
       "  </thead>\n",
       "  <tbody>\n",
       "    <tr>\n",
       "      <th>0</th>\n",
       "      <td>xhrlh6</td>\n",
       "      <td>i've been having these thoughts lately like\\n\\...</td>\n",
       "      <td>do you ever feel like not being alive anymore</td>\n",
       "      <td>2022-09-19 00:46:32</td>\n",
       "      <td>As for anchors My only anchor is I need to be ...</td>\n",
       "    </tr>\n",
       "    <tr>\n",
       "      <th>1</th>\n",
       "      <td>xhrajv</td>\n",
       "      <td>i've been going through a hard time lately and...</td>\n",
       "      <td>why do depressed people shave their heads</td>\n",
       "      <td>2022-09-19 00:34:15</td>\n",
       "      <td>I don’t know because I never had the urge but ...</td>\n",
       "    </tr>\n",
       "    <tr>\n",
       "      <th>2</th>\n",
       "      <td>xhr49p</td>\n",
       "      <td>idk why but every now and then i'll just get t...</td>\n",
       "      <td>random urge to kill people</td>\n",
       "      <td>2022-09-19 00:27:15</td>\n",
       "      <td>You are a coward that can't handle the fact th...</td>\n",
       "    </tr>\n",
       "    <tr>\n",
       "      <th>3</th>\n",
       "      <td>xhq4pa</td>\n",
       "      <td>i have ocd that gives me intrusive thoughts ab...</td>\n",
       "      <td>need a therapist that specializes in concernin...</td>\n",
       "      <td>2022-09-18 23:46:40</td>\n",
       "      <td>Unless there is an actual crime or abuse to re...</td>\n",
       "    </tr>\n",
       "    <tr>\n",
       "      <th>4</th>\n",
       "      <td>xhpsmb</td>\n",
       "      <td>i have no friends, i don't like my family at a...</td>\n",
       "      <td>17m i think i should end my life early</td>\n",
       "      <td>2022-09-18 23:33:01</td>\n",
       "      <td>Aye yes, I know when I get depressed I sit in ...</td>\n",
       "    </tr>\n",
       "  </tbody>\n",
       "</table>\n",
       "</div>"
      ],
      "text/plain": [
       "       id                                          post_body  \\\n",
       "0  xhrlh6  i've been having these thoughts lately like\\n\\...   \n",
       "1  xhrajv  i've been going through a hard time lately and...   \n",
       "2  xhr49p  idk why but every now and then i'll just get t...   \n",
       "3  xhq4pa  i have ocd that gives me intrusive thoughts ab...   \n",
       "4  xhpsmb  i have no friends, i don't like my family at a...   \n",
       "\n",
       "                                               title             created  \\\n",
       "0      do you ever feel like not being alive anymore 2022-09-19 00:46:32   \n",
       "1          why do depressed people shave their heads 2022-09-19 00:34:15   \n",
       "2                         random urge to kill people 2022-09-19 00:27:15   \n",
       "3  need a therapist that specializes in concernin... 2022-09-18 23:46:40   \n",
       "4             17m i think i should end my life early 2022-09-18 23:33:01   \n",
       "\n",
       "                                        comment_body  \n",
       "0  As for anchors My only anchor is I need to be ...  \n",
       "1  I don’t know because I never had the urge but ...  \n",
       "2  You are a coward that can't handle the fact th...  \n",
       "3  Unless there is an actual crime or abuse to re...  \n",
       "4  Aye yes, I know when I get depressed I sit in ...  "
      ]
     },
     "execution_count": 257,
     "metadata": {},
     "output_type": "execute_result"
    }
   ],
   "source": [
    "all_data.rename(columns = {'body':'comment_body'},inplace=True)\n",
    "all_data.head()"
   ]
  },
  {
   "cell_type": "markdown",
   "id": "98a7b201",
   "metadata": {},
   "source": [
    "# Since we're only interested in submissions that have a question, we will need to analyze all the titles of submission and check if they are questions of not"
   ]
  },
  {
   "cell_type": "code",
   "execution_count": 260,
   "id": "3aa2cc2c",
   "metadata": {
    "ExecuteTime": {
     "end_time": "2022-10-06T19:31:04.796879Z",
     "start_time": "2022-10-06T19:31:04.752838Z"
    }
   },
   "outputs": [],
   "source": [
    "question_words = [\"what\", \"why\", \"when\", \"where\", \"name\", \"is\", \"how\", \"do\", \"does\", \n",
    "                  \"which\", \"are\", \"could\", \"would\", \"should\", \"has\", \"have\", \"whom\", \n",
    "                  \"whose\", \"don't\",'am','can',\"do i\", \"do you\", \"what\", \"who\", \"is it\", \n",
    "                  \"why\",\"would you\", \"how\",\"is there\",\"are there\", \"is it so\", \"is this true\" ,\n",
    "                  \"to know\", \"is that true\", \"are we\", \"am i\", \"question is\", \"tell me more\", \n",
    "                  \"can i\", \"can we\", \"tell me\", \"can you explain\",\"didn't\",\"doesn't\",\"haven't\",\"isn't\",\"aren't\",\"can't\",\"couldn't\",\"wouldn't\",\"won't\",\"shouldn't\"]\n",
    "\n",
    "def is_question(text):\n",
    "    question = text.lower()\n",
    "    question = word_tokenize(question)\n",
    "    if any(x in question[0] for x in question_words):\n",
    "        res = True\n",
    "    else:\n",
    "        res = False\n",
    "    return res"
   ]
  },
  {
   "cell_type": "code",
   "execution_count": 261,
   "id": "01d04739",
   "metadata": {
    "ExecuteTime": {
     "end_time": "2022-10-06T19:31:39.937294Z",
     "start_time": "2022-10-06T19:31:16.747578Z"
    }
   },
   "outputs": [],
   "source": [
    "all_data['question'] = all_data.title.apply(is_question)"
   ]
  },
  {
   "cell_type": "code",
   "execution_count": 17,
   "id": "afb58d09",
   "metadata": {
    "ExecuteTime": {
     "end_time": "2022-11-09T00:35:59.276168Z",
     "start_time": "2022-11-09T00:35:54.252282Z"
    }
   },
   "outputs": [
    {
     "name": "stdout",
     "output_type": "stream",
     "text": [
      "Accuracy is :  0.6685606060606061\n"
     ]
    }
   ],
   "source": [
    "### adapted from https://github.com/kartikn27/nlp-question-detection/blob/master/method2.py\n",
    "class IsQuestion():\n",
    "    \n",
    "    # Init constructor\n",
    "    def __init__(self):\n",
    "        posts = self.__get_posts()\n",
    "        feature_set = self.__get_feature_set(posts)\n",
    "        self.classifier = self.__perform_classification(feature_set)\n",
    "        \n",
    "    # get_posts\n",
    "    def __get_posts(self):\n",
    "        return nltk.corpus.nps_chat.xml_posts()\n",
    "    \n",
    "    # get_feature_set\n",
    "    def __get_feature_set(self, posts):\n",
    "        feature_list = []\n",
    "        for post in posts:\n",
    "            post_text = post.text            \n",
    "            features = {}\n",
    "            words = nltk.word_tokenize(post_text)\n",
    "            for word in words:\n",
    "                features['contains({})'.format(word.lower())] = True\n",
    "            feature_list.append((features, post.get('class')))\n",
    "        return feature_list\n",
    "    \n",
    "    # perform_classification\n",
    "    def __perform_classification(self, feature_set):\n",
    "        training_size = int(len(feature_set) * 0.1)\n",
    "        train_set, test_set = feature_set[training_size:], feature_set[:training_size]\n",
    "        classifier = nltk.NaiveBayesClassifier.train(train_set)\n",
    "        print('Accuracy is : ', nltk.classify.accuracy(classifier, test_set))\n",
    "        return classifier\n",
    "        \n",
    "    #  get_question_words_set\n",
    "    def __get_question_words_set(self):\n",
    "        question_word_list = ['what', 'where', 'when','how','why','did','do','does','have','has','am','is','are',\n",
    "                              'can','could','may','would','will','should',\"has\", \"have\", \"whom\",'whose',\"didn't\",\n",
    "                              \"doesn't\",\"haven't\",\"isn't\",\"aren't\",\"can't\",\"couldn't\",\"wouldn't\",\"won't\",\"shouldn't\",'?',\n",
    "                             \"what\", \"why\", \"when\", \"where\", \"name\", \"is\", \"how\", \"do\", \"does\", \n",
    "                  \"which\", \"are\", \"could\", \"would\", \"should\", \"has\", \"have\", \"whom\", \n",
    "                  \"whose\", \"don't\",'am','can',\"do i\", \"do you\", \"what\", \"who\", \"is it\", \n",
    "                  \"why\",\"would you\", \"how\",\"is there\",\"are there\", \"is it so\", \"is this true\" ,\n",
    "                  \"to know\", \"is that true\", \"are we\", \"am i\", \"question is\", \"tell me more\", \n",
    "                  \"can i\", \"can we\", \"tell me\", \"can you explain\",\"didn't\",\"doesn't\",\"haven't\",\"isn't\",\"aren't\",\"can't\",\"couldn't\",\"wouldn't\",\"won't\",\"shouldn't\"]\n",
    "        return set(question_word_list)        \n",
    "    \n",
    "    # predict_question\n",
    "    def predict_question(self, text):\n",
    "        words = nltk.word_tokenize(text.lower())        \n",
    "        if self.__get_question_words_set().intersection(words) == False:\n",
    "            return 0\n",
    "        if '?' in text:\n",
    "            return 1\n",
    "        \n",
    "        features = {}\n",
    "        for word in words:\n",
    "            features['contains({})'.format(word.lower())] = True            \n",
    "        \n",
    "        prediction_result = self.classifier.classify(features)\n",
    "        if prediction_result == 'whQuestion' or prediction_result == 'ynQuestion':\n",
    "            return 1\n",
    "        return 0\n",
    "\n",
    "isQ = IsQuestion()"
   ]
  },
  {
   "cell_type": "code",
   "execution_count": 266,
   "id": "ebb025c4",
   "metadata": {
    "ExecuteTime": {
     "end_time": "2022-10-06T19:36:10.450087Z",
     "start_time": "2022-10-06T19:34:49.089283Z"
    }
   },
   "outputs": [],
   "source": [
    "all_data['is_question'] = all_data['title'].apply(isQ.predict_question)"
   ]
  },
  {
   "cell_type": "code",
   "execution_count": 267,
   "id": "8b4df61d",
   "metadata": {
    "ExecuteTime": {
     "end_time": "2022-10-06T19:36:12.711570Z",
     "start_time": "2022-10-06T19:36:12.689555Z"
    }
   },
   "outputs": [
    {
     "data": {
      "text/html": [
       "<div>\n",
       "<style scoped>\n",
       "    .dataframe tbody tr th:only-of-type {\n",
       "        vertical-align: middle;\n",
       "    }\n",
       "\n",
       "    .dataframe tbody tr th {\n",
       "        vertical-align: top;\n",
       "    }\n",
       "\n",
       "    .dataframe thead th {\n",
       "        text-align: right;\n",
       "    }\n",
       "</style>\n",
       "<table border=\"1\" class=\"dataframe\">\n",
       "  <thead>\n",
       "    <tr style=\"text-align: right;\">\n",
       "      <th></th>\n",
       "      <th>id</th>\n",
       "      <th>post_body</th>\n",
       "      <th>title</th>\n",
       "      <th>created</th>\n",
       "      <th>comment_body</th>\n",
       "      <th>question</th>\n",
       "      <th>is_question</th>\n",
       "    </tr>\n",
       "  </thead>\n",
       "  <tbody>\n",
       "    <tr>\n",
       "      <th>0</th>\n",
       "      <td>xhrlh6</td>\n",
       "      <td>i've been having these thoughts lately like\\n\\...</td>\n",
       "      <td>do you ever feel like not being alive anymore</td>\n",
       "      <td>2022-09-19 00:46:32</td>\n",
       "      <td>As for anchors My only anchor is I need to be ...</td>\n",
       "      <td>True</td>\n",
       "      <td>0</td>\n",
       "    </tr>\n",
       "    <tr>\n",
       "      <th>1</th>\n",
       "      <td>xhrajv</td>\n",
       "      <td>i've been going through a hard time lately and...</td>\n",
       "      <td>why do depressed people shave their heads</td>\n",
       "      <td>2022-09-19 00:34:15</td>\n",
       "      <td>I don’t know because I never had the urge but ...</td>\n",
       "      <td>True</td>\n",
       "      <td>0</td>\n",
       "    </tr>\n",
       "    <tr>\n",
       "      <th>2</th>\n",
       "      <td>xhr49p</td>\n",
       "      <td>idk why but every now and then i'll just get t...</td>\n",
       "      <td>random urge to kill people</td>\n",
       "      <td>2022-09-19 00:27:15</td>\n",
       "      <td>You are a coward that can't handle the fact th...</td>\n",
       "      <td>True</td>\n",
       "      <td>0</td>\n",
       "    </tr>\n",
       "    <tr>\n",
       "      <th>3</th>\n",
       "      <td>xhq4pa</td>\n",
       "      <td>i have ocd that gives me intrusive thoughts ab...</td>\n",
       "      <td>need a therapist that specializes in concernin...</td>\n",
       "      <td>2022-09-18 23:46:40</td>\n",
       "      <td>Unless there is an actual crime or abuse to re...</td>\n",
       "      <td>False</td>\n",
       "      <td>0</td>\n",
       "    </tr>\n",
       "    <tr>\n",
       "      <th>4</th>\n",
       "      <td>xhpsmb</td>\n",
       "      <td>i have no friends, i don't like my family at a...</td>\n",
       "      <td>17m i think i should end my life early</td>\n",
       "      <td>2022-09-18 23:33:01</td>\n",
       "      <td>Aye yes, I know when I get depressed I sit in ...</td>\n",
       "      <td>False</td>\n",
       "      <td>0</td>\n",
       "    </tr>\n",
       "    <tr>\n",
       "      <th>...</th>\n",
       "      <td>...</td>\n",
       "      <td>...</td>\n",
       "      <td>...</td>\n",
       "      <td>...</td>\n",
       "      <td>...</td>\n",
       "      <td>...</td>\n",
       "      <td>...</td>\n",
       "    </tr>\n",
       "    <tr>\n",
       "      <th>202303</th>\n",
       "      <td>2glqvl</td>\n",
       "      <td>i've been struggling with mental illness (depr...</td>\n",
       "      <td>does mental illness, with a suicide attempt, q...</td>\n",
       "      <td>2014-09-17 02:26:12</td>\n",
       "      <td>Yes. It is a life threatening illness. You wil...</td>\n",
       "      <td>True</td>\n",
       "      <td>1</td>\n",
       "    </tr>\n",
       "    <tr>\n",
       "      <th>202304</th>\n",
       "      <td>2ea7v6</td>\n",
       "      <td>so, i am getting really bad. i hear strange to...</td>\n",
       "      <td>i am scared. everything in here and on /r/depr...</td>\n",
       "      <td>2014-08-22 19:17:29</td>\n",
       "      <td>I see mental illness as a disease that gets yo...</td>\n",
       "      <td>False</td>\n",
       "      <td>0</td>\n",
       "    </tr>\n",
       "    <tr>\n",
       "      <th>202305</th>\n",
       "      <td>27k65x</td>\n",
       "      <td>my husband and i are both pretty fucked up rig...</td>\n",
       "      <td>losing it</td>\n",
       "      <td>2014-06-07 21:27:59</td>\n",
       "      <td>It's unfortunate to hear that one good thing l...</td>\n",
       "      <td>False</td>\n",
       "      <td>0</td>\n",
       "    </tr>\n",
       "    <tr>\n",
       "      <th>202306</th>\n",
       "      <td>200k7v</td>\n",
       "      <td>nan</td>\n",
       "      <td>love suicide</td>\n",
       "      <td>2014-03-10 06:24:27</td>\n",
       "      <td>Just posted a link to a blog post I did on men...</td>\n",
       "      <td>False</td>\n",
       "      <td>0</td>\n",
       "    </tr>\n",
       "    <tr>\n",
       "      <th>202307</th>\n",
       "      <td>1wmc1o</td>\n",
       "      <td>nan</td>\n",
       "      <td>let’s talk privately a minute about mental health</td>\n",
       "      <td>2014-01-31 08:13:02</td>\n",
       "      <td>Kick ass article.</td>\n",
       "      <td>False</td>\n",
       "      <td>0</td>\n",
       "    </tr>\n",
       "  </tbody>\n",
       "</table>\n",
       "<p>202308 rows × 7 columns</p>\n",
       "</div>"
      ],
      "text/plain": [
       "            id                                          post_body  \\\n",
       "0       xhrlh6  i've been having these thoughts lately like\\n\\...   \n",
       "1       xhrajv  i've been going through a hard time lately and...   \n",
       "2       xhr49p  idk why but every now and then i'll just get t...   \n",
       "3       xhq4pa  i have ocd that gives me intrusive thoughts ab...   \n",
       "4       xhpsmb  i have no friends, i don't like my family at a...   \n",
       "...        ...                                                ...   \n",
       "202303  2glqvl  i've been struggling with mental illness (depr...   \n",
       "202304  2ea7v6  so, i am getting really bad. i hear strange to...   \n",
       "202305  27k65x  my husband and i are both pretty fucked up rig...   \n",
       "202306  200k7v                                                nan   \n",
       "202307  1wmc1o                                                nan   \n",
       "\n",
       "                                                    title             created  \\\n",
       "0           do you ever feel like not being alive anymore 2022-09-19 00:46:32   \n",
       "1               why do depressed people shave their heads 2022-09-19 00:34:15   \n",
       "2                              random urge to kill people 2022-09-19 00:27:15   \n",
       "3       need a therapist that specializes in concernin... 2022-09-18 23:46:40   \n",
       "4                  17m i think i should end my life early 2022-09-18 23:33:01   \n",
       "...                                                   ...                 ...   \n",
       "202303  does mental illness, with a suicide attempt, q... 2014-09-17 02:26:12   \n",
       "202304  i am scared. everything in here and on /r/depr... 2014-08-22 19:17:29   \n",
       "202305                                          losing it 2014-06-07 21:27:59   \n",
       "202306                                       love suicide 2014-03-10 06:24:27   \n",
       "202307  let’s talk privately a minute about mental health 2014-01-31 08:13:02   \n",
       "\n",
       "                                             comment_body  question  \\\n",
       "0       As for anchors My only anchor is I need to be ...      True   \n",
       "1       I don’t know because I never had the urge but ...      True   \n",
       "2       You are a coward that can't handle the fact th...      True   \n",
       "3       Unless there is an actual crime or abuse to re...     False   \n",
       "4       Aye yes, I know when I get depressed I sit in ...     False   \n",
       "...                                                   ...       ...   \n",
       "202303  Yes. It is a life threatening illness. You wil...      True   \n",
       "202304  I see mental illness as a disease that gets yo...     False   \n",
       "202305  It's unfortunate to hear that one good thing l...     False   \n",
       "202306  Just posted a link to a blog post I did on men...     False   \n",
       "202307                                 Kick ass article.      False   \n",
       "\n",
       "        is_question  \n",
       "0                 0  \n",
       "1                 0  \n",
       "2                 0  \n",
       "3                 0  \n",
       "4                 0  \n",
       "...             ...  \n",
       "202303            1  \n",
       "202304            0  \n",
       "202305            0  \n",
       "202306            0  \n",
       "202307            0  \n",
       "\n",
       "[202308 rows x 7 columns]"
      ]
     },
     "execution_count": 267,
     "metadata": {},
     "output_type": "execute_result"
    }
   ],
   "source": [
    "all_data"
   ]
  },
  {
   "cell_type": "code",
   "execution_count": 268,
   "id": "6f0e174e",
   "metadata": {
    "ExecuteTime": {
     "end_time": "2022-10-06T19:38:18.107294Z",
     "start_time": "2022-10-06T19:38:15.460219Z"
    }
   },
   "outputs": [],
   "source": [
    "# since both ways i used are not perfectly accurate, I'm going to keep rows that have 'question' != False and \"is_question\" != 0\n",
    "all_data = all_data.loc[~((all_data['question'] == False) & (all_data['is_question'] == 0))]"
   ]
  },
  {
   "cell_type": "code",
   "execution_count": 270,
   "id": "218818a1",
   "metadata": {
    "ExecuteTime": {
     "end_time": "2022-10-06T19:39:31.851797Z",
     "start_time": "2022-10-06T19:39:31.770702Z"
    }
   },
   "outputs": [],
   "source": [
    "all_data = all_data.drop(columns=['question','is_question']).reset_index(drop=True)"
   ]
  },
  {
   "cell_type": "code",
   "execution_count": 271,
   "id": "1ee6d1ab",
   "metadata": {
    "ExecuteTime": {
     "end_time": "2022-10-06T19:39:36.204623Z",
     "start_time": "2022-10-06T19:39:36.185608Z"
    }
   },
   "outputs": [
    {
     "data": {
      "text/html": [
       "<div>\n",
       "<style scoped>\n",
       "    .dataframe tbody tr th:only-of-type {\n",
       "        vertical-align: middle;\n",
       "    }\n",
       "\n",
       "    .dataframe tbody tr th {\n",
       "        vertical-align: top;\n",
       "    }\n",
       "\n",
       "    .dataframe thead th {\n",
       "        text-align: right;\n",
       "    }\n",
       "</style>\n",
       "<table border=\"1\" class=\"dataframe\">\n",
       "  <thead>\n",
       "    <tr style=\"text-align: right;\">\n",
       "      <th></th>\n",
       "      <th>id</th>\n",
       "      <th>post_body</th>\n",
       "      <th>title</th>\n",
       "      <th>created</th>\n",
       "      <th>comment_body</th>\n",
       "    </tr>\n",
       "  </thead>\n",
       "  <tbody>\n",
       "    <tr>\n",
       "      <th>0</th>\n",
       "      <td>xhrlh6</td>\n",
       "      <td>i've been having these thoughts lately like\\n\\...</td>\n",
       "      <td>do you ever feel like not being alive anymore</td>\n",
       "      <td>2022-09-19 00:46:32</td>\n",
       "      <td>As for anchors My only anchor is I need to be ...</td>\n",
       "    </tr>\n",
       "    <tr>\n",
       "      <th>1</th>\n",
       "      <td>xhrajv</td>\n",
       "      <td>i've been going through a hard time lately and...</td>\n",
       "      <td>why do depressed people shave their heads</td>\n",
       "      <td>2022-09-19 00:34:15</td>\n",
       "      <td>I don’t know because I never had the urge but ...</td>\n",
       "    </tr>\n",
       "    <tr>\n",
       "      <th>2</th>\n",
       "      <td>xhr49p</td>\n",
       "      <td>idk why but every now and then i'll just get t...</td>\n",
       "      <td>random urge to kill people</td>\n",
       "      <td>2022-09-19 00:27:15</td>\n",
       "      <td>You are a coward that can't handle the fact th...</td>\n",
       "    </tr>\n",
       "    <tr>\n",
       "      <th>3</th>\n",
       "      <td>xhowxf</td>\n",
       "      <td>when i get really anxious, i slap my arm and t...</td>\n",
       "      <td>is slapping my arm when i’m anxious normal?</td>\n",
       "      <td>2022-09-18 22:58:06</td>\n",
       "      <td>'Normal' and 'crazy' aren't binary opposites, ...</td>\n",
       "    </tr>\n",
       "    <tr>\n",
       "      <th>4</th>\n",
       "      <td>xhovdn</td>\n",
       "      <td>i’ve been to a few psychiatrists/therapists ov...</td>\n",
       "      <td>tips to find a psychiatrist that specializes i...</td>\n",
       "      <td>2022-09-18 22:56:17</td>\n",
       "      <td>I would assume the majority are aware of anxie...</td>\n",
       "    </tr>\n",
       "    <tr>\n",
       "      <th>...</th>\n",
       "      <td>...</td>\n",
       "      <td>...</td>\n",
       "      <td>...</td>\n",
       "      <td>...</td>\n",
       "      <td>...</td>\n",
       "    </tr>\n",
       "    <tr>\n",
       "      <th>82561</th>\n",
       "      <td>2wigq2</td>\n",
       "      <td>i'm not looking for a diagnosis, just some ins...</td>\n",
       "      <td>have you heard of this?</td>\n",
       "      <td>2015-02-20 08:05:16</td>\n",
       "      <td>I assume you have some sort of existing medica...</td>\n",
       "    </tr>\n",
       "    <tr>\n",
       "      <th>82562</th>\n",
       "      <td>2vr17i</td>\n",
       "      <td>how do i find friends to have adventures with ...</td>\n",
       "      <td>how do i stop my intensity?</td>\n",
       "      <td>2015-02-13 13:12:20</td>\n",
       "      <td>I have been diagnosed officially and I am not ...</td>\n",
       "    </tr>\n",
       "    <tr>\n",
       "      <th>82563</th>\n",
       "      <td>2s5g3q</td>\n",
       "      <td>oftain if someone will repeat a word directly ...</td>\n",
       "      <td>does this have a name?</td>\n",
       "      <td>2015-01-12 13:36:53</td>\n",
       "      <td>I asked my councillor but he wasn't too sure, ...</td>\n",
       "    </tr>\n",
       "    <tr>\n",
       "      <th>82564</th>\n",
       "      <td>2n3gpd</td>\n",
       "      <td>the patterns of loosely related random words a...</td>\n",
       "      <td>do schizophrenics 'understand' other schizophr...</td>\n",
       "      <td>2014-11-22 22:08:51</td>\n",
       "      <td>I don't think it works that way. I do find tha...</td>\n",
       "    </tr>\n",
       "    <tr>\n",
       "      <th>82565</th>\n",
       "      <td>2glqvl</td>\n",
       "      <td>i've been struggling with mental illness (depr...</td>\n",
       "      <td>does mental illness, with a suicide attempt, q...</td>\n",
       "      <td>2014-09-17 02:26:12</td>\n",
       "      <td>Yes. It is a life threatening illness. You wil...</td>\n",
       "    </tr>\n",
       "  </tbody>\n",
       "</table>\n",
       "<p>82566 rows × 5 columns</p>\n",
       "</div>"
      ],
      "text/plain": [
       "           id                                          post_body  \\\n",
       "0      xhrlh6  i've been having these thoughts lately like\\n\\...   \n",
       "1      xhrajv  i've been going through a hard time lately and...   \n",
       "2      xhr49p  idk why but every now and then i'll just get t...   \n",
       "3      xhowxf  when i get really anxious, i slap my arm and t...   \n",
       "4      xhovdn  i’ve been to a few psychiatrists/therapists ov...   \n",
       "...       ...                                                ...   \n",
       "82561  2wigq2  i'm not looking for a diagnosis, just some ins...   \n",
       "82562  2vr17i  how do i find friends to have adventures with ...   \n",
       "82563  2s5g3q  oftain if someone will repeat a word directly ...   \n",
       "82564  2n3gpd  the patterns of loosely related random words a...   \n",
       "82565  2glqvl  i've been struggling with mental illness (depr...   \n",
       "\n",
       "                                                   title             created  \\\n",
       "0          do you ever feel like not being alive anymore 2022-09-19 00:46:32   \n",
       "1              why do depressed people shave their heads 2022-09-19 00:34:15   \n",
       "2                             random urge to kill people 2022-09-19 00:27:15   \n",
       "3            is slapping my arm when i’m anxious normal? 2022-09-18 22:58:06   \n",
       "4      tips to find a psychiatrist that specializes i... 2022-09-18 22:56:17   \n",
       "...                                                  ...                 ...   \n",
       "82561                            have you heard of this? 2015-02-20 08:05:16   \n",
       "82562                        how do i stop my intensity? 2015-02-13 13:12:20   \n",
       "82563                             does this have a name? 2015-01-12 13:36:53   \n",
       "82564  do schizophrenics 'understand' other schizophr... 2014-11-22 22:08:51   \n",
       "82565  does mental illness, with a suicide attempt, q... 2014-09-17 02:26:12   \n",
       "\n",
       "                                            comment_body  \n",
       "0      As for anchors My only anchor is I need to be ...  \n",
       "1      I don’t know because I never had the urge but ...  \n",
       "2      You are a coward that can't handle the fact th...  \n",
       "3      'Normal' and 'crazy' aren't binary opposites, ...  \n",
       "4      I would assume the majority are aware of anxie...  \n",
       "...                                                  ...  \n",
       "82561  I assume you have some sort of existing medica...  \n",
       "82562  I have been diagnosed officially and I am not ...  \n",
       "82563  I asked my councillor but he wasn't too sure, ...  \n",
       "82564  I don't think it works that way. I do find tha...  \n",
       "82565  Yes. It is a life threatening illness. You wil...  \n",
       "\n",
       "[82566 rows x 5 columns]"
      ]
     },
     "execution_count": 271,
     "metadata": {},
     "output_type": "execute_result"
    }
   ],
   "source": [
    "all_data"
   ]
  },
  {
   "cell_type": "code",
   "execution_count": 273,
   "id": "7ad71ee1",
   "metadata": {
    "ExecuteTime": {
     "end_time": "2022-10-06T19:43:34.084595Z",
     "start_time": "2022-10-06T19:43:34.046570Z"
    }
   },
   "outputs": [],
   "source": [
    "# Dropping the columns that doesn't encode useful information and renaming the columns nicely for intepretability\n",
    "all_data.drop(['id','created'], axis = 1, inplace = True)"
   ]
  },
  {
   "cell_type": "code",
   "execution_count": 282,
   "id": "b19001bb",
   "metadata": {
    "ExecuteTime": {
     "end_time": "2022-10-06T19:51:51.243967Z",
     "start_time": "2022-10-06T19:51:50.927325Z"
    }
   },
   "outputs": [
    {
     "data": {
      "text/plain": [
       "'I won 1st_place_medal in cricket'"
      ]
     },
     "execution_count": 282,
     "metadata": {},
     "output_type": "execute_result"
    }
   ],
   "source": [
    "# Replacing emojis with text\n",
    "with open('Emoji_Dict.p', 'rb') as fp:\n",
    "    Emoji_Dict = pickle.load(fp)\n",
    "Emoji_Dict = {v: k for k, v in Emoji_Dict.items()}\n",
    "\n",
    "def convert_emojis_to_word(text):\n",
    "    for emot in Emoji_Dict:\n",
    "        text = re.sub(r'('+emot+')', \"_\".join(Emoji_Dict[emot].replace(\",\",\"\").replace(\":\",\"\").split()), text)\n",
    "    return text\n",
    "# Example\n",
    "text = \"I won 🥇 in 🏏\"\n",
    "convert_emojis_to_word(text)"
   ]
  },
  {
   "cell_type": "code",
   "execution_count": 283,
   "id": "d848f9b5",
   "metadata": {
    "ExecuteTime": {
     "end_time": "2022-10-06T22:16:37.457369Z",
     "start_time": "2022-10-06T19:52:35.430369Z"
    }
   },
   "outputs": [],
   "source": [
    "all_data['title'] = all_data['title'].apply(convert_emojis_to_word)"
   ]
  },
  {
   "cell_type": "code",
   "execution_count": 285,
   "id": "f0672e5b",
   "metadata": {
    "ExecuteTime": {
     "end_time": "2022-10-07T00:46:31.770183Z",
     "start_time": "2022-10-06T22:21:23.070255Z"
    }
   },
   "outputs": [],
   "source": [
    "all_data['post_body'] = all_data['post_body'].apply(convert_emojis_to_word)"
   ]
  },
  {
   "cell_type": "code",
   "execution_count": 286,
   "id": "963af07c",
   "metadata": {
    "ExecuteTime": {
     "end_time": "2022-10-07T03:14:31.921493Z",
     "start_time": "2022-10-07T00:46:31.823295Z"
    }
   },
   "outputs": [],
   "source": [
    "all_data['comment_body'] = all_data['comment_body'].apply(convert_emojis_to_word)"
   ]
  },
  {
   "cell_type": "code",
   "execution_count": 287,
   "id": "57184643",
   "metadata": {
    "ExecuteTime": {
     "end_time": "2022-10-07T03:14:41.309392Z",
     "start_time": "2022-10-07T03:14:31.931497Z"
    }
   },
   "outputs": [],
   "source": [
    "all_data.to_csv('../Data/all_data.csv',index=False)"
   ]
  },
  {
   "cell_type": "markdown",
   "id": "d6c623d3",
   "metadata": {},
   "source": [
    "# Load the data not to run the code above all over again"
   ]
  },
  {
   "cell_type": "code",
   "execution_count": 109,
   "id": "67da9367",
   "metadata": {
    "ExecuteTime": {
     "end_time": "2022-10-24T00:01:08.676046Z",
     "start_time": "2022-10-24T00:01:05.346378Z"
    }
   },
   "outputs": [],
   "source": [
    "all_data = pd.read_csv('../Data/all_data.csv')"
   ]
  },
  {
   "cell_type": "code",
   "execution_count": 37,
   "id": "57d9a2fa",
   "metadata": {
    "ExecuteTime": {
     "end_time": "2022-10-23T21:18:42.209978Z",
     "start_time": "2022-10-23T21:18:42.195967Z"
    }
   },
   "outputs": [
    {
     "data": {
      "text/html": [
       "<div>\n",
       "<style scoped>\n",
       "    .dataframe tbody tr th:only-of-type {\n",
       "        vertical-align: middle;\n",
       "    }\n",
       "\n",
       "    .dataframe tbody tr th {\n",
       "        vertical-align: top;\n",
       "    }\n",
       "\n",
       "    .dataframe thead th {\n",
       "        text-align: right;\n",
       "    }\n",
       "</style>\n",
       "<table border=\"1\" class=\"dataframe\">\n",
       "  <thead>\n",
       "    <tr style=\"text-align: right;\">\n",
       "      <th></th>\n",
       "      <th>post_body</th>\n",
       "      <th>title</th>\n",
       "      <th>comment_body</th>\n",
       "    </tr>\n",
       "  </thead>\n",
       "  <tbody>\n",
       "    <tr>\n",
       "      <th>0</th>\n",
       "      <td>i've been having these thoughts lately like\\n\\...</td>\n",
       "      <td>do you ever feel like not being alive anymore</td>\n",
       "      <td>As for anchors My only anchor is I need to be ...</td>\n",
       "    </tr>\n",
       "    <tr>\n",
       "      <th>1</th>\n",
       "      <td>i've been going through a hard time lately and...</td>\n",
       "      <td>why do depressed people shave their heads</td>\n",
       "      <td>I don’t know because I never had the urge but ...</td>\n",
       "    </tr>\n",
       "    <tr>\n",
       "      <th>2</th>\n",
       "      <td>idk why but every now and then i'll just get t...</td>\n",
       "      <td>random urge to kill people</td>\n",
       "      <td>You are a coward that can't handle the fact th...</td>\n",
       "    </tr>\n",
       "    <tr>\n",
       "      <th>3</th>\n",
       "      <td>when i get really anxious, i slap my arm and t...</td>\n",
       "      <td>is slapping my arm when i’m anxious normal?</td>\n",
       "      <td>'Normal' and 'crazy' aren't binary opposites, ...</td>\n",
       "    </tr>\n",
       "    <tr>\n",
       "      <th>4</th>\n",
       "      <td>i’ve been to a few psychiatrists/therapists ov...</td>\n",
       "      <td>tips to find a psychiatrist that specializes i...</td>\n",
       "      <td>I would assume the majority are aware of anxie...</td>\n",
       "    </tr>\n",
       "    <tr>\n",
       "      <th>...</th>\n",
       "      <td>...</td>\n",
       "      <td>...</td>\n",
       "      <td>...</td>\n",
       "    </tr>\n",
       "    <tr>\n",
       "      <th>82561</th>\n",
       "      <td>i'm not looking for a diagnosis, just some ins...</td>\n",
       "      <td>have you heard of this?</td>\n",
       "      <td>I assume you have some sort of existing medica...</td>\n",
       "    </tr>\n",
       "    <tr>\n",
       "      <th>82562</th>\n",
       "      <td>how do i find friends to have adventures with ...</td>\n",
       "      <td>how do i stop my intensity?</td>\n",
       "      <td>I have been diagnosed officially and I am not ...</td>\n",
       "    </tr>\n",
       "    <tr>\n",
       "      <th>82563</th>\n",
       "      <td>oftain if someone will repeat a word directly ...</td>\n",
       "      <td>does this have a name?</td>\n",
       "      <td>I asked my councillor but he wasn't too sure, ...</td>\n",
       "    </tr>\n",
       "    <tr>\n",
       "      <th>82564</th>\n",
       "      <td>the patterns of loosely related random words a...</td>\n",
       "      <td>do schizophrenics 'understand' other schizophr...</td>\n",
       "      <td>I don't think it works that way. I do find tha...</td>\n",
       "    </tr>\n",
       "    <tr>\n",
       "      <th>82565</th>\n",
       "      <td>i've been struggling with mental illness (depr...</td>\n",
       "      <td>does mental illness, with a suicide attempt, q...</td>\n",
       "      <td>Yes. It is a life threatening illness. You wil...</td>\n",
       "    </tr>\n",
       "  </tbody>\n",
       "</table>\n",
       "<p>82566 rows × 3 columns</p>\n",
       "</div>"
      ],
      "text/plain": [
       "                                               post_body  \\\n",
       "0      i've been having these thoughts lately like\\n\\...   \n",
       "1      i've been going through a hard time lately and...   \n",
       "2      idk why but every now and then i'll just get t...   \n",
       "3      when i get really anxious, i slap my arm and t...   \n",
       "4      i’ve been to a few psychiatrists/therapists ov...   \n",
       "...                                                  ...   \n",
       "82561  i'm not looking for a diagnosis, just some ins...   \n",
       "82562  how do i find friends to have adventures with ...   \n",
       "82563  oftain if someone will repeat a word directly ...   \n",
       "82564  the patterns of loosely related random words a...   \n",
       "82565  i've been struggling with mental illness (depr...   \n",
       "\n",
       "                                                   title  \\\n",
       "0          do you ever feel like not being alive anymore   \n",
       "1              why do depressed people shave their heads   \n",
       "2                             random urge to kill people   \n",
       "3            is slapping my arm when i’m anxious normal?   \n",
       "4      tips to find a psychiatrist that specializes i...   \n",
       "...                                                  ...   \n",
       "82561                            have you heard of this?   \n",
       "82562                        how do i stop my intensity?   \n",
       "82563                             does this have a name?   \n",
       "82564  do schizophrenics 'understand' other schizophr...   \n",
       "82565  does mental illness, with a suicide attempt, q...   \n",
       "\n",
       "                                            comment_body  \n",
       "0      As for anchors My only anchor is I need to be ...  \n",
       "1      I don’t know because I never had the urge but ...  \n",
       "2      You are a coward that can't handle the fact th...  \n",
       "3      'Normal' and 'crazy' aren't binary opposites, ...  \n",
       "4      I would assume the majority are aware of anxie...  \n",
       "...                                                  ...  \n",
       "82561  I assume you have some sort of existing medica...  \n",
       "82562  I have been diagnosed officially and I am not ...  \n",
       "82563  I asked my councillor but he wasn't too sure, ...  \n",
       "82564  I don't think it works that way. I do find tha...  \n",
       "82565  Yes. It is a life threatening illness. You wil...  \n",
       "\n",
       "[82566 rows x 3 columns]"
      ]
     },
     "execution_count": 37,
     "metadata": {},
     "output_type": "execute_result"
    }
   ],
   "source": [
    "all_data"
   ]
  },
  {
   "cell_type": "code",
   "execution_count": 38,
   "id": "e1badeeb",
   "metadata": {
    "ExecuteTime": {
     "end_time": "2022-10-23T21:18:44.921275Z",
     "start_time": "2022-10-23T21:18:43.650307Z"
    }
   },
   "outputs": [],
   "source": [
    "# lower all text\n",
    "all_data = all_data.apply(lambda x: x.str.lower())"
   ]
  },
  {
   "cell_type": "code",
   "execution_count": 5,
   "id": "a1764cb1",
   "metadata": {
    "ExecuteTime": {
     "end_time": "2022-10-23T20:38:34.635114Z",
     "start_time": "2022-10-23T20:38:34.590082Z"
    }
   },
   "outputs": [],
   "source": [
    "# convert to string\n",
    "all_data = all_data.astype('string')"
   ]
  },
  {
   "cell_type": "code",
   "execution_count": 39,
   "id": "9ace2eb1",
   "metadata": {
    "ExecuteTime": {
     "end_time": "2022-10-23T21:18:49.886115Z",
     "start_time": "2022-10-23T21:18:49.739619Z"
    }
   },
   "outputs": [],
   "source": [
    "# replace all duplicated post_body with null values\n",
    "duplicated = all_data.duplicated('post_body')\n",
    "all_data.loc[duplicated, ['post_body']] = \" \""
   ]
  },
  {
   "cell_type": "code",
   "execution_count": 7,
   "id": "4491355d",
   "metadata": {
    "ExecuteTime": {
     "end_time": "2022-10-19T17:40:06.936014Z",
     "start_time": "2022-10-19T17:40:06.705814Z"
    }
   },
   "outputs": [],
   "source": [
    "# merge title and post_body\n",
    "all_data['title'] = all_data['title'] + ' '  + all_data['post_body']"
   ]
  },
  {
   "cell_type": "code",
   "execution_count": 8,
   "id": "4d0764cf",
   "metadata": {
    "ExecuteTime": {
     "end_time": "2022-10-19T17:40:08.918274Z",
     "start_time": "2022-10-19T17:40:08.888265Z"
    }
   },
   "outputs": [],
   "source": [
    "all_data.drop(columns=['post_body'],inplace=True)"
   ]
  },
  {
   "cell_type": "code",
   "execution_count": 40,
   "id": "3b151555",
   "metadata": {
    "ExecuteTime": {
     "end_time": "2022-10-23T21:18:52.278863Z",
     "start_time": "2022-10-23T21:18:52.186773Z"
    }
   },
   "outputs": [],
   "source": [
    "all_data = all_data.dropna()"
   ]
  },
  {
   "cell_type": "code",
   "execution_count": 2,
   "id": "eb37f0f9",
   "metadata": {
    "ExecuteTime": {
     "end_time": "2022-10-24T00:21:55.241111Z",
     "start_time": "2022-10-24T00:21:55.233104Z"
    }
   },
   "outputs": [],
   "source": [
    "# remove links\n",
    "def remove_links(doc):\n",
    "    return [re.sub(r'^https?:\\/\\/.*[\\r\\n]*', '', token, flags=re.MULTILINE) for token in doc]\n",
    "all_data = all_data.astype('string').apply(lambda x: remove_links(x))"
   ]
  },
  {
   "cell_type": "code",
   "execution_count": 9,
   "id": "2cc27cea",
   "metadata": {
    "ExecuteTime": {
     "end_time": "2022-10-23T20:47:40.438718Z",
     "start_time": "2022-10-23T20:39:07.678889Z"
    }
   },
   "outputs": [],
   "source": [
    "# remove punctuation\n",
    "import string\n",
    "punctuation = ['\\u200d','?', '....','..','...','','@','#', ',', '.', '\"', ':', ')', '(', '-', '!', '|', ';', \"'\", '$', '&', '/', '[', ']', '>', '%', '=', '*', '+', '\\\\', \n",
    "    '•', '~', '£', '·', '_', '{', '}', '©', '^', '®', '`',  '<', '→', '°', '€', '™', '›',  '♥', '←', '×', '§', '″', '′', 'Â', '█', \n",
    "    '½', 'à', '…', '“', '★', '”', '–', '●', 'â', '►', '−', '¢', '²', '¬', '░', '¶', '↑', '±', '¿', '▾', '═', '¦', '║', '―', '¥', '▓', \n",
    "    '—', '‹', '─', '▒', '：', '¼', '⊕', '▼', '▪', '†', '■', '’', '▀', '¨', '▄', '♫', '☆', 'é', '¯', '♦', '¤', '▲', 'è', '¸', '¾', \n",
    "    'Ã', '⋅', '‘', '∞', '∙', '）', '↓', '、', '│', '（', '»', '，', '♪', '╩', '╚', '³', '・', '╦', '╣', '╔', '╗', '▬', '❤', 'ï', 'Ø', \n",
    "    '¹', '≤', '‡', '√', '!','🅰','🅱', \"\\n\"]\n",
    "def remove_punct(string):\n",
    "    for el in string:\n",
    "        if el in punctuation:\n",
    "            string = string.replace(el, \"\")\n",
    "    return string\n",
    "all_data['title'] = all_data.title.apply(lambda x: remove_punct(x))\n",
    "all_data['comment_body'] = all_data.comment_body.apply(lambda x: remove_punct(x))\n",
    "all_data['post_body'] = all_data.post_body.apply(lambda x: remove_punct(x))"
   ]
  },
  {
   "cell_type": "code",
   "execution_count": 42,
   "id": "9a0e7a0b",
   "metadata": {
    "ExecuteTime": {
     "end_time": "2022-10-23T21:18:59.904269Z",
     "start_time": "2022-10-23T21:18:59.890259Z"
    }
   },
   "outputs": [
    {
     "data": {
      "text/html": [
       "<div>\n",
       "<style scoped>\n",
       "    .dataframe tbody tr th:only-of-type {\n",
       "        vertical-align: middle;\n",
       "    }\n",
       "\n",
       "    .dataframe tbody tr th {\n",
       "        vertical-align: top;\n",
       "    }\n",
       "\n",
       "    .dataframe thead th {\n",
       "        text-align: right;\n",
       "    }\n",
       "</style>\n",
       "<table border=\"1\" class=\"dataframe\">\n",
       "  <thead>\n",
       "    <tr style=\"text-align: right;\">\n",
       "      <th></th>\n",
       "      <th>post_body</th>\n",
       "      <th>title</th>\n",
       "      <th>comment_body</th>\n",
       "    </tr>\n",
       "  </thead>\n",
       "  <tbody>\n",
       "    <tr>\n",
       "      <th>0</th>\n",
       "      <td>i've been having these thoughts lately like\\n\\...</td>\n",
       "      <td>do you ever feel like not being alive anymore</td>\n",
       "      <td>as for anchors my only anchor is i need to be ...</td>\n",
       "    </tr>\n",
       "    <tr>\n",
       "      <th>1</th>\n",
       "      <td>i've been going through a hard time lately and...</td>\n",
       "      <td>why do depressed people shave their heads</td>\n",
       "      <td>i don’t know because i never had the urge but ...</td>\n",
       "    </tr>\n",
       "    <tr>\n",
       "      <th>2</th>\n",
       "      <td>idk why but every now and then i'll just get t...</td>\n",
       "      <td>random urge to kill people</td>\n",
       "      <td>you are a coward that can't handle the fact th...</td>\n",
       "    </tr>\n",
       "    <tr>\n",
       "      <th>3</th>\n",
       "      <td>when i get really anxious, i slap my arm and t...</td>\n",
       "      <td>is slapping my arm when i’m anxious normal?</td>\n",
       "      <td>'normal' and 'crazy' aren't binary opposites, ...</td>\n",
       "    </tr>\n",
       "    <tr>\n",
       "      <th>4</th>\n",
       "      <td>i’ve been to a few psychiatrists/therapists ov...</td>\n",
       "      <td>tips to find a psychiatrist that specializes i...</td>\n",
       "      <td>i would assume the majority are aware of anxie...</td>\n",
       "    </tr>\n",
       "    <tr>\n",
       "      <th>...</th>\n",
       "      <td>...</td>\n",
       "      <td>...</td>\n",
       "      <td>...</td>\n",
       "    </tr>\n",
       "    <tr>\n",
       "      <th>82561</th>\n",
       "      <td>i'm not looking for a diagnosis, just some ins...</td>\n",
       "      <td>have you heard of this?</td>\n",
       "      <td>i assume you have some sort of existing medica...</td>\n",
       "    </tr>\n",
       "    <tr>\n",
       "      <th>82562</th>\n",
       "      <td>how do i find friends to have adventures with ...</td>\n",
       "      <td>how do i stop my intensity?</td>\n",
       "      <td>i have been diagnosed officially and i am not ...</td>\n",
       "    </tr>\n",
       "    <tr>\n",
       "      <th>82563</th>\n",
       "      <td>oftain if someone will repeat a word directly ...</td>\n",
       "      <td>does this have a name?</td>\n",
       "      <td>i asked my councillor but he wasn't too sure, ...</td>\n",
       "    </tr>\n",
       "    <tr>\n",
       "      <th>82564</th>\n",
       "      <td>the patterns of loosely related random words a...</td>\n",
       "      <td>do schizophrenics 'understand' other schizophr...</td>\n",
       "      <td>i don't think it works that way. i do find tha...</td>\n",
       "    </tr>\n",
       "    <tr>\n",
       "      <th>82565</th>\n",
       "      <td>i've been struggling with mental illness (depr...</td>\n",
       "      <td>does mental illness, with a suicide attempt, q...</td>\n",
       "      <td>yes. it is a life threatening illness. you wil...</td>\n",
       "    </tr>\n",
       "  </tbody>\n",
       "</table>\n",
       "<p>82565 rows × 3 columns</p>\n",
       "</div>"
      ],
      "text/plain": [
       "                                               post_body  \\\n",
       "0      i've been having these thoughts lately like\\n\\...   \n",
       "1      i've been going through a hard time lately and...   \n",
       "2      idk why but every now and then i'll just get t...   \n",
       "3      when i get really anxious, i slap my arm and t...   \n",
       "4      i’ve been to a few psychiatrists/therapists ov...   \n",
       "...                                                  ...   \n",
       "82561  i'm not looking for a diagnosis, just some ins...   \n",
       "82562  how do i find friends to have adventures with ...   \n",
       "82563  oftain if someone will repeat a word directly ...   \n",
       "82564  the patterns of loosely related random words a...   \n",
       "82565  i've been struggling with mental illness (depr...   \n",
       "\n",
       "                                                   title  \\\n",
       "0          do you ever feel like not being alive anymore   \n",
       "1              why do depressed people shave their heads   \n",
       "2                             random urge to kill people   \n",
       "3            is slapping my arm when i’m anxious normal?   \n",
       "4      tips to find a psychiatrist that specializes i...   \n",
       "...                                                  ...   \n",
       "82561                            have you heard of this?   \n",
       "82562                        how do i stop my intensity?   \n",
       "82563                             does this have a name?   \n",
       "82564  do schizophrenics 'understand' other schizophr...   \n",
       "82565  does mental illness, with a suicide attempt, q...   \n",
       "\n",
       "                                            comment_body  \n",
       "0      as for anchors my only anchor is i need to be ...  \n",
       "1      i don’t know because i never had the urge but ...  \n",
       "2      you are a coward that can't handle the fact th...  \n",
       "3      'normal' and 'crazy' aren't binary opposites, ...  \n",
       "4      i would assume the majority are aware of anxie...  \n",
       "...                                                  ...  \n",
       "82561  i assume you have some sort of existing medica...  \n",
       "82562  i have been diagnosed officially and i am not ...  \n",
       "82563  i asked my councillor but he wasn't too sure, ...  \n",
       "82564  i don't think it works that way. i do find tha...  \n",
       "82565  yes. it is a life threatening illness. you wil...  \n",
       "\n",
       "[82565 rows x 3 columns]"
      ]
     },
     "execution_count": 42,
     "metadata": {},
     "output_type": "execute_result"
    }
   ],
   "source": [
    "all_data"
   ]
  },
  {
   "cell_type": "code",
   "execution_count": 11,
   "id": "862edd52",
   "metadata": {
    "ExecuteTime": {
     "end_time": "2022-10-23T20:47:58.781802Z",
     "start_time": "2022-10-23T20:47:53.998128Z"
    }
   },
   "outputs": [
    {
     "name": "stderr",
     "output_type": "stream",
     "text": [
      "C:\\Users\\Julia\\AppData\\Local\\Temp\\ipykernel_25384\\3207686.py:2: FutureWarning: The default value of regex will change from True to False in a future version.\n",
      "  all_data['title'] = all_data['title'].str.replace('\\\\d+', '')\n",
      "C:\\Users\\Julia\\AppData\\Local\\Temp\\ipykernel_25384\\3207686.py:3: FutureWarning: The default value of regex will change from True to False in a future version.\n",
      "  all_data['comment_body'] = all_data['comment_body'].str.replace('\\\\d+', '')\n",
      "C:\\Users\\Julia\\AppData\\Local\\Temp\\ipykernel_25384\\3207686.py:4: FutureWarning: The default value of regex will change from True to False in a future version.\n",
      "  all_data['post_body'] = all_data['post_body'].str.replace('\\\\d+', '')\n"
     ]
    }
   ],
   "source": [
    "# remove digits\n",
    "all_data['title'] = all_data['title'].str.replace('\\\\d+', '')\n",
    "all_data['comment_body'] = all_data['comment_body'].str.replace('\\\\d+', '')\n",
    "all_data['post_body'] = all_data['post_body'].str.replace('\\\\d+', '')"
   ]
  },
  {
   "cell_type": "code",
   "execution_count": 48,
   "id": "83ca0b2b",
   "metadata": {
    "ExecuteTime": {
     "end_time": "2022-10-20T18:32:26.828141Z",
     "start_time": "2022-10-20T18:32:10.543299Z"
    }
   },
   "outputs": [],
   "source": [
    "# expand contractions\n",
    "all_data['title'] = all_data.title.apply(lambda x: contractions.fix(x))\n",
    "all_data['comment_body'] = all_data.comment_body.apply(lambda x: contractions.fix(x))\n",
    "all_data['post_body'] = all_data.post_body.apply(lambda x: contractions.fix(x))"
   ]
  },
  {
   "cell_type": "code",
   "execution_count": 49,
   "id": "36414116",
   "metadata": {
    "ExecuteTime": {
     "end_time": "2022-10-20T18:50:11.356656Z",
     "start_time": "2022-10-20T18:32:36.983493Z"
    }
   },
   "outputs": [],
   "source": [
    "# remove emojis that weren't converted into text\n",
    "def remove_em(text):\n",
    "    dem = demoji.findall(text)\n",
    "    for item in dem.keys():\n",
    "        text = text.replace(item, \"\")\n",
    "    return text\n",
    "all_data['title'] = all_data.title.apply(remove_em)\n",
    "all_data['comment_body'] = all_data.comment_body.apply(remove_em)\n",
    "all_data['post_body'] = all_data.post_body.apply(remove_em)"
   ]
  },
  {
   "cell_type": "code",
   "execution_count": 43,
   "id": "5f74c7d0",
   "metadata": {
    "ExecuteTime": {
     "end_time": "2022-10-23T21:19:21.831031Z",
     "start_time": "2022-10-23T21:19:07.932292Z"
    }
   },
   "outputs": [],
   "source": [
    "# remove extra space between tokens\n",
    "def remove_space(string):\n",
    "    result = re.sub('\\\\s+',' ', string)\n",
    "    return result\n",
    "all_data['title'] = all_data.title.apply(remove_space)\n",
    "all_data['comment_body'] = all_data.comment_body.apply(remove_space)\n",
    "all_data['post_body'] = all_data.post_body.apply(remove_space)"
   ]
  },
  {
   "cell_type": "code",
   "execution_count": 20,
   "id": "ee2f1da0",
   "metadata": {
    "ExecuteTime": {
     "end_time": "2022-10-19T18:23:47.097182Z",
     "start_time": "2022-10-19T18:23:37.918400Z"
    }
   },
   "outputs": [],
   "source": [
    "# tokenize all text\n",
    "def word_tokenize(sentence):\n",
    "    return sentence.split()\n",
    "all_data = all_data.apply(lambda x: word_tokenize(x.str))"
   ]
  },
  {
   "cell_type": "code",
   "execution_count": 23,
   "id": "de951613",
   "metadata": {
    "ExecuteTime": {
     "end_time": "2022-10-19T18:26:37.829581Z",
     "start_time": "2022-10-19T18:26:37.823576Z"
    }
   },
   "outputs": [],
   "source": [
    "def get_wordnet_pos(word):\n",
    "    \"\"\"Map POS tag to first character lemmatize() accepts\"\"\"\n",
    "    tag = nltk.pos_tag([word])[0][1][0].upper()\n",
    "    tag_dict = {\"J\": wordnet.ADJ,\n",
    "                    \"N\": wordnet.NOUN,\n",
    "                    \"V\": wordnet.VERB,\n",
    "                    \"R\": wordnet.ADV}\n",
    "    return tag_dict.get(tag, wordnet.NOUN)"
   ]
  },
  {
   "cell_type": "code",
   "execution_count": 32,
   "id": "06c4e231",
   "metadata": {
    "ExecuteTime": {
     "end_time": "2022-10-20T00:51:49.189056Z",
     "start_time": "2022-10-19T18:28:50.552137Z"
    }
   },
   "outputs": [],
   "source": [
    "# Lemmatize words\n",
    "lemmatizer = WordNetLemmatizer()\n",
    "def lemmatize_text(x):\n",
    "    ''' This lemmatizer fuunction should work on a single list of tokenized data'''\n",
    "    # Turning list into a string\n",
    "    x = \" \".join(x)\n",
    "    # Returning a list again\n",
    "    return [lemmatizer.lemmatize(w, get_wordnet_pos(w)) for w in nltk.word_tokenize(x)]\n",
    "all_data['title'] = all_data.title.apply(lemmatize_text)\n",
    "all_data['comment_body'] = all_data.comment_body.apply(lemmatize_text)"
   ]
  },
  {
   "cell_type": "code",
   "execution_count": 44,
   "id": "abe0ada1",
   "metadata": {
    "ExecuteTime": {
     "end_time": "2022-10-23T21:19:26.897275Z",
     "start_time": "2022-10-23T21:19:26.882264Z"
    }
   },
   "outputs": [
    {
     "data": {
      "text/html": [
       "<div>\n",
       "<style scoped>\n",
       "    .dataframe tbody tr th:only-of-type {\n",
       "        vertical-align: middle;\n",
       "    }\n",
       "\n",
       "    .dataframe tbody tr th {\n",
       "        vertical-align: top;\n",
       "    }\n",
       "\n",
       "    .dataframe thead th {\n",
       "        text-align: right;\n",
       "    }\n",
       "</style>\n",
       "<table border=\"1\" class=\"dataframe\">\n",
       "  <thead>\n",
       "    <tr style=\"text-align: right;\">\n",
       "      <th></th>\n",
       "      <th>post_body</th>\n",
       "      <th>title</th>\n",
       "      <th>comment_body</th>\n",
       "    </tr>\n",
       "  </thead>\n",
       "  <tbody>\n",
       "    <tr>\n",
       "      <th>0</th>\n",
       "      <td>i've been having these thoughts lately like \"t...</td>\n",
       "      <td>do you ever feel like not being alive anymore</td>\n",
       "      <td>as for anchors my only anchor is i need to be ...</td>\n",
       "    </tr>\n",
       "    <tr>\n",
       "      <th>1</th>\n",
       "      <td>i've been going through a hard time lately and...</td>\n",
       "      <td>why do depressed people shave their heads</td>\n",
       "      <td>i don’t know because i never had the urge but ...</td>\n",
       "    </tr>\n",
       "    <tr>\n",
       "      <th>2</th>\n",
       "      <td>idk why but every now and then i'll just get t...</td>\n",
       "      <td>random urge to kill people</td>\n",
       "      <td>you are a coward that can't handle the fact th...</td>\n",
       "    </tr>\n",
       "    <tr>\n",
       "      <th>3</th>\n",
       "      <td>when i get really anxious, i slap my arm and t...</td>\n",
       "      <td>is slapping my arm when i’m anxious normal?</td>\n",
       "      <td>'normal' and 'crazy' aren't binary opposites, ...</td>\n",
       "    </tr>\n",
       "    <tr>\n",
       "      <th>4</th>\n",
       "      <td>i’ve been to a few psychiatrists/therapists ov...</td>\n",
       "      <td>tips to find a psychiatrist that specializes i...</td>\n",
       "      <td>i would assume the majority are aware of anxie...</td>\n",
       "    </tr>\n",
       "    <tr>\n",
       "      <th>...</th>\n",
       "      <td>...</td>\n",
       "      <td>...</td>\n",
       "      <td>...</td>\n",
       "    </tr>\n",
       "    <tr>\n",
       "      <th>82561</th>\n",
       "      <td>i'm not looking for a diagnosis, just some ins...</td>\n",
       "      <td>have you heard of this?</td>\n",
       "      <td>i assume you have some sort of existing medica...</td>\n",
       "    </tr>\n",
       "    <tr>\n",
       "      <th>82562</th>\n",
       "      <td>how do i find friends to have adventures with ...</td>\n",
       "      <td>how do i stop my intensity?</td>\n",
       "      <td>i have been diagnosed officially and i am not ...</td>\n",
       "    </tr>\n",
       "    <tr>\n",
       "      <th>82563</th>\n",
       "      <td>oftain if someone will repeat a word directly ...</td>\n",
       "      <td>does this have a name?</td>\n",
       "      <td>i asked my councillor but he wasn't too sure, ...</td>\n",
       "    </tr>\n",
       "    <tr>\n",
       "      <th>82564</th>\n",
       "      <td>the patterns of loosely related random words a...</td>\n",
       "      <td>do schizophrenics 'understand' other schizophr...</td>\n",
       "      <td>i don't think it works that way. i do find tha...</td>\n",
       "    </tr>\n",
       "    <tr>\n",
       "      <th>82565</th>\n",
       "      <td>i've been struggling with mental illness (depr...</td>\n",
       "      <td>does mental illness, with a suicide attempt, q...</td>\n",
       "      <td>yes. it is a life threatening illness. you wil...</td>\n",
       "    </tr>\n",
       "  </tbody>\n",
       "</table>\n",
       "<p>82565 rows × 3 columns</p>\n",
       "</div>"
      ],
      "text/plain": [
       "                                               post_body  \\\n",
       "0      i've been having these thoughts lately like \"t...   \n",
       "1      i've been going through a hard time lately and...   \n",
       "2      idk why but every now and then i'll just get t...   \n",
       "3      when i get really anxious, i slap my arm and t...   \n",
       "4      i’ve been to a few psychiatrists/therapists ov...   \n",
       "...                                                  ...   \n",
       "82561  i'm not looking for a diagnosis, just some ins...   \n",
       "82562  how do i find friends to have adventures with ...   \n",
       "82563  oftain if someone will repeat a word directly ...   \n",
       "82564  the patterns of loosely related random words a...   \n",
       "82565  i've been struggling with mental illness (depr...   \n",
       "\n",
       "                                                   title  \\\n",
       "0          do you ever feel like not being alive anymore   \n",
       "1              why do depressed people shave their heads   \n",
       "2                             random urge to kill people   \n",
       "3            is slapping my arm when i’m anxious normal?   \n",
       "4      tips to find a psychiatrist that specializes i...   \n",
       "...                                                  ...   \n",
       "82561                            have you heard of this?   \n",
       "82562                        how do i stop my intensity?   \n",
       "82563                             does this have a name?   \n",
       "82564  do schizophrenics 'understand' other schizophr...   \n",
       "82565  does mental illness, with a suicide attempt, q...   \n",
       "\n",
       "                                            comment_body  \n",
       "0      as for anchors my only anchor is i need to be ...  \n",
       "1      i don’t know because i never had the urge but ...  \n",
       "2      you are a coward that can't handle the fact th...  \n",
       "3      'normal' and 'crazy' aren't binary opposites, ...  \n",
       "4      i would assume the majority are aware of anxie...  \n",
       "...                                                  ...  \n",
       "82561  i assume you have some sort of existing medica...  \n",
       "82562  i have been diagnosed officially and i am not ...  \n",
       "82563  i asked my councillor but he wasn't too sure, ...  \n",
       "82564  i don't think it works that way. i do find tha...  \n",
       "82565  yes. it is a life threatening illness. you wil...  \n",
       "\n",
       "[82565 rows x 3 columns]"
      ]
     },
     "execution_count": 44,
     "metadata": {},
     "output_type": "execute_result"
    }
   ],
   "source": [
    "all_data"
   ]
  },
  {
   "cell_type": "code",
   "execution_count": 45,
   "id": "23b91a9e",
   "metadata": {
    "ExecuteTime": {
     "end_time": "2022-10-23T21:19:38.206741Z",
     "start_time": "2022-10-23T21:19:32.321788Z"
    }
   },
   "outputs": [],
   "source": [
    "all_data.to_csv('../Data/all_data2.csv',index=False)"
   ]
  },
  {
   "cell_type": "code",
   "execution_count": 46,
   "id": "62c2d913",
   "metadata": {
    "ExecuteTime": {
     "end_time": "2022-10-23T21:19:40.129214Z",
     "start_time": "2022-10-23T21:19:40.090677Z"
    }
   },
   "outputs": [],
   "source": [
    "#adding encoding for GPT to recognize the start of the text, the prompt ([WP]), followed by the comment\n",
    "#[RESPONSE], and the end of the text. I'm combining the two into one column so it can more easily be \n",
    "#assimilated into a .txt file.\n",
    "all_data['title'] = '<|startoftext|>[WP]' + all_data['title'].astype(str)"
   ]
  },
  {
   "cell_type": "code",
   "execution_count": 47,
   "id": "73bb9288",
   "metadata": {
    "ExecuteTime": {
     "end_time": "2022-10-23T21:19:51.587947Z",
     "start_time": "2022-10-23T21:19:50.195505Z"
    }
   },
   "outputs": [],
   "source": [
    "all_data['comment_body'] = '[RESPONSE]' + all_data['comment_body'].astype(str) + '<|endoftext|>'"
   ]
  },
  {
   "cell_type": "code",
   "execution_count": 48,
   "id": "c7673b62",
   "metadata": {
    "ExecuteTime": {
     "end_time": "2022-10-23T21:19:54.589711Z",
     "start_time": "2022-10-23T21:19:53.610399Z"
    }
   },
   "outputs": [],
   "source": [
    "all_data['GPT2_data'] = all_data[['title', 'comment_body']].agg(' '.join, axis='columns')"
   ]
  },
  {
   "cell_type": "code",
   "execution_count": 49,
   "id": "cf861d16",
   "metadata": {
    "ExecuteTime": {
     "end_time": "2022-10-23T21:19:56.381464Z",
     "start_time": "2022-10-23T21:19:56.329427Z"
    }
   },
   "outputs": [],
   "source": [
    "GPT2_data = all_data[['GPT2_data']].copy()"
   ]
  },
  {
   "cell_type": "code",
   "execution_count": 50,
   "id": "6be58bbd",
   "metadata": {
    "ExecuteTime": {
     "end_time": "2022-10-23T21:19:57.581114Z",
     "start_time": "2022-10-23T21:19:57.569103Z"
    }
   },
   "outputs": [
    {
     "data": {
      "text/html": [
       "<div>\n",
       "<style scoped>\n",
       "    .dataframe tbody tr th:only-of-type {\n",
       "        vertical-align: middle;\n",
       "    }\n",
       "\n",
       "    .dataframe tbody tr th {\n",
       "        vertical-align: top;\n",
       "    }\n",
       "\n",
       "    .dataframe thead th {\n",
       "        text-align: right;\n",
       "    }\n",
       "</style>\n",
       "<table border=\"1\" class=\"dataframe\">\n",
       "  <thead>\n",
       "    <tr style=\"text-align: right;\">\n",
       "      <th></th>\n",
       "      <th>GPT2_data</th>\n",
       "    </tr>\n",
       "  </thead>\n",
       "  <tbody>\n",
       "    <tr>\n",
       "      <th>0</th>\n",
       "      <td>&lt;|startoftext|&gt;[WP]do you ever feel like not b...</td>\n",
       "    </tr>\n",
       "    <tr>\n",
       "      <th>1</th>\n",
       "      <td>&lt;|startoftext|&gt;[WP]why do depressed people sha...</td>\n",
       "    </tr>\n",
       "    <tr>\n",
       "      <th>2</th>\n",
       "      <td>&lt;|startoftext|&gt;[WP]random urge to kill people ...</td>\n",
       "    </tr>\n",
       "    <tr>\n",
       "      <th>3</th>\n",
       "      <td>&lt;|startoftext|&gt;[WP]is slapping my arm when i’m...</td>\n",
       "    </tr>\n",
       "    <tr>\n",
       "      <th>4</th>\n",
       "      <td>&lt;|startoftext|&gt;[WP]tips to find a psychiatrist...</td>\n",
       "    </tr>\n",
       "    <tr>\n",
       "      <th>...</th>\n",
       "      <td>...</td>\n",
       "    </tr>\n",
       "    <tr>\n",
       "      <th>82561</th>\n",
       "      <td>&lt;|startoftext|&gt;[WP]have you heard of this? [RE...</td>\n",
       "    </tr>\n",
       "    <tr>\n",
       "      <th>82562</th>\n",
       "      <td>&lt;|startoftext|&gt;[WP]how do i stop my intensity?...</td>\n",
       "    </tr>\n",
       "    <tr>\n",
       "      <th>82563</th>\n",
       "      <td>&lt;|startoftext|&gt;[WP]does this have a name? [RES...</td>\n",
       "    </tr>\n",
       "    <tr>\n",
       "      <th>82564</th>\n",
       "      <td>&lt;|startoftext|&gt;[WP]do schizophrenics 'understa...</td>\n",
       "    </tr>\n",
       "    <tr>\n",
       "      <th>82565</th>\n",
       "      <td>&lt;|startoftext|&gt;[WP]does mental illness, with a...</td>\n",
       "    </tr>\n",
       "  </tbody>\n",
       "</table>\n",
       "<p>82565 rows × 1 columns</p>\n",
       "</div>"
      ],
      "text/plain": [
       "                                               GPT2_data\n",
       "0      <|startoftext|>[WP]do you ever feel like not b...\n",
       "1      <|startoftext|>[WP]why do depressed people sha...\n",
       "2      <|startoftext|>[WP]random urge to kill people ...\n",
       "3      <|startoftext|>[WP]is slapping my arm when i’m...\n",
       "4      <|startoftext|>[WP]tips to find a psychiatrist...\n",
       "...                                                  ...\n",
       "82561  <|startoftext|>[WP]have you heard of this? [RE...\n",
       "82562  <|startoftext|>[WP]how do i stop my intensity?...\n",
       "82563  <|startoftext|>[WP]does this have a name? [RES...\n",
       "82564  <|startoftext|>[WP]do schizophrenics 'understa...\n",
       "82565  <|startoftext|>[WP]does mental illness, with a...\n",
       "\n",
       "[82565 rows x 1 columns]"
      ]
     },
     "execution_count": 50,
     "metadata": {},
     "output_type": "execute_result"
    }
   ],
   "source": [
    "GPT2_data"
   ]
  },
  {
   "cell_type": "code",
   "execution_count": 51,
   "id": "5324f20c",
   "metadata": {
    "ExecuteTime": {
     "end_time": "2022-10-23T21:20:06.595296Z",
     "start_time": "2022-10-23T21:20:02.770359Z"
    }
   },
   "outputs": [],
   "source": [
    "GPT2_data.to_csv(\"../Data/GPT2_data.csv\", index=False)"
   ]
  },
  {
   "cell_type": "code",
   "execution_count": 52,
   "id": "6c9f0db4",
   "metadata": {
    "ExecuteTime": {
     "end_time": "2022-10-23T21:20:09.748053Z",
     "start_time": "2022-10-23T21:20:08.065492Z"
    }
   },
   "outputs": [],
   "source": [
    "#conversion to .txt\n",
    "with open('../Data/GPT2_data.csv', 'r', encoding=\"utf8\") as inp, open('../Data/GPT2_data.txt', 'w', encoding='utf-8') as out:\n",
    "    for line in inp:\n",
    "        line = line.replace(',', ':')\n",
    "        out.write(line)"
   ]
  },
  {
   "cell_type": "code",
   "execution_count": 2,
   "id": "63b5cfb3",
   "metadata": {
    "ExecuteTime": {
     "end_time": "2022-10-30T13:31:37.944820Z",
     "start_time": "2022-10-30T13:31:34.463387Z"
    }
   },
   "outputs": [],
   "source": [
    "all_data2 = pd.read_csv('../Data/all_data2.csv')"
   ]
  },
  {
   "cell_type": "markdown",
   "id": "fc8286ae",
   "metadata": {},
   "source": [
    "# Sentiment analysis and EDA"
   ]
  },
  {
   "cell_type": "code",
   "execution_count": 4,
   "id": "cc73f7fa",
   "metadata": {
    "ExecuteTime": {
     "end_time": "2022-10-30T13:31:47.405076Z",
     "start_time": "2022-10-30T13:31:47.353053Z"
    }
   },
   "outputs": [],
   "source": [
    "all_data2 = all_data2.drop(columns=['post_body'])"
   ]
  },
  {
   "cell_type": "code",
   "execution_count": 8,
   "id": "c9159a0f",
   "metadata": {
    "ExecuteTime": {
     "end_time": "2022-10-30T13:31:58.703463Z",
     "start_time": "2022-10-30T13:31:58.647433Z"
    }
   },
   "outputs": [
    {
     "name": "stdout",
     "output_type": "stream",
     "text": [
      "<class 'pandas.core.frame.DataFrame'>\n",
      "Int64Index: 82548 entries, 0 to 82564\n",
      "Data columns (total 2 columns):\n",
      " #   Column        Non-Null Count  Dtype \n",
      "---  ------        --------------  ----- \n",
      " 0   title         82548 non-null  object\n",
      " 1   comment_body  82548 non-null  object\n",
      "dtypes: object(2)\n",
      "memory usage: 1.9+ MB\n"
     ]
    }
   ],
   "source": [
    "all_data2.info()"
   ]
  },
  {
   "cell_type": "code",
   "execution_count": 6,
   "id": "801c0fc2",
   "metadata": {
    "ExecuteTime": {
     "end_time": "2022-10-30T13:31:52.811818Z",
     "start_time": "2022-10-30T13:31:52.630651Z"
    }
   },
   "outputs": [],
   "source": [
    "all_data2['comment_body'] = all_data2.comment_body.drop_duplicates(keep=False)"
   ]
  },
  {
   "cell_type": "code",
   "execution_count": 7,
   "id": "5cdf735f",
   "metadata": {
    "ExecuteTime": {
     "end_time": "2022-10-30T13:31:54.920468Z",
     "start_time": "2022-10-30T13:31:54.831419Z"
    }
   },
   "outputs": [],
   "source": [
    "all_data2.dropna(inplace=True)"
   ]
  },
  {
   "cell_type": "code",
   "execution_count": 9,
   "id": "fd23d1a5",
   "metadata": {
    "ExecuteTime": {
     "end_time": "2022-10-30T13:32:09.158874Z",
     "start_time": "2022-10-30T13:31:59.929779Z"
    }
   },
   "outputs": [],
   "source": [
    "import spacy\n",
    "nlp = spacy.load('en_core_web_sm',disable=['parser', 'ner'])"
   ]
  },
  {
   "cell_type": "markdown",
   "id": "729c1ee3",
   "metadata": {},
   "source": [
    "# Next we remove stop words and lemmatize text using spacy"
   ]
  },
  {
   "cell_type": "code",
   "execution_count": 10,
   "id": "a0d2d161",
   "metadata": {
    "ExecuteTime": {
     "end_time": "2022-10-30T13:36:51.982291Z",
     "start_time": "2022-10-30T13:32:16.345348Z"
    }
   },
   "outputs": [],
   "source": [
    "all_data2['lemmatized_title']=all_data2['title'].apply(lambda x: ' '.join([token.lemma_ for token in list(nlp(x)) if (token.is_stop==False)]))"
   ]
  },
  {
   "cell_type": "code",
   "execution_count": 11,
   "id": "3331116c",
   "metadata": {
    "ExecuteTime": {
     "end_time": "2022-10-30T14:08:06.096602Z",
     "start_time": "2022-10-30T13:36:52.058455Z"
    }
   },
   "outputs": [],
   "source": [
    "all_data2['lemmatized_comment']=all_data2['comment_body'].apply(lambda x: ' '.join([token.lemma_ for token in list(nlp(x)) if (token.is_stop==False)]))"
   ]
  },
  {
   "cell_type": "code",
   "execution_count": 12,
   "id": "4e5f573d",
   "metadata": {
    "ExecuteTime": {
     "end_time": "2022-10-30T14:08:06.112598Z",
     "start_time": "2022-10-30T14:08:06.098603Z"
    }
   },
   "outputs": [
    {
     "data": {
      "text/plain": [
       "\"# remove stop words\\ndef remove_stopwords(token_list):\\n    stop_words = set(stopwords.words('english'))\\n    filtered_sentence = [w for w in token_list if not w.lower() in stop_words]\\n    #filtered_sentence = ' '.join(filtered_sentence)\\n    return filtered_sentence\\nall_data['cleaned_title'] = all_data.title.apply(remove_stopwords)\\nall_data['cleaned_comment'] = all_data.comment_body.apply(remove_stopwords)\""
      ]
     },
     "execution_count": 12,
     "metadata": {},
     "output_type": "execute_result"
    }
   ],
   "source": [
    "'''# remove stop words\n",
    "def remove_stopwords(token_list):\n",
    "    stop_words = set(stopwords.words('english'))\n",
    "    filtered_sentence = [w for w in token_list if not w.lower() in stop_words]\n",
    "    #filtered_sentence = ' '.join(filtered_sentence)\n",
    "    return filtered_sentence\n",
    "all_data['cleaned_title'] = all_data.title.apply(remove_stopwords)\n",
    "all_data['cleaned_comment'] = all_data.comment_body.apply(remove_stopwords)'''"
   ]
  },
  {
   "cell_type": "code",
   "execution_count": 13,
   "id": "549b15fd",
   "metadata": {
    "ExecuteTime": {
     "end_time": "2022-10-30T14:08:06.139616Z",
     "start_time": "2022-10-30T14:08:06.117601Z"
    }
   },
   "outputs": [],
   "source": [
    "# Writing a function to plot the counts that are in the data\n",
    "\n",
    "def top10_bagofwords(data, title):\n",
    "    ''' Taking as input the data and plots the top 10 words based on counts in this text data'''\n",
    "    bagofwords = CountVectorizer()\n",
    "    inbound = bagofwords.fit_transform(data)\n",
    "    inbound # Output will be a sparse matrix\n",
    "    # Inspecting of often contractions and colloquial language is used\n",
    "    word_counts = np.array(np.sum(inbound, axis=0)).reshape((-1,))\n",
    "    words = np.array(bagofwords.get_feature_names())\n",
    "    words_df = pd.DataFrame({\"word\":words, \n",
    "                             \"count\":word_counts})\n",
    "    words_rank = words_df.sort_values(by=\"count\", ascending=False)\n",
    "    return words_rank"
   ]
  },
  {
   "cell_type": "code",
   "execution_count": 14,
   "id": "4ae657c1",
   "metadata": {
    "ExecuteTime": {
     "end_time": "2022-10-30T14:08:16.405695Z",
     "start_time": "2022-10-30T14:08:06.142617Z"
    }
   },
   "outputs": [
    {
     "name": "stderr",
     "output_type": "stream",
     "text": [
      "C:\\Users\\Julia\\anaconda3\\lib\\site-packages\\sklearn\\utils\\deprecation.py:87: FutureWarning: Function get_feature_names is deprecated; get_feature_names is deprecated in 1.0 and will be removed in 1.2. Please use get_feature_names_out instead.\n",
      "  warnings.warn(msg, category=FutureWarning)\n"
     ]
    }
   ],
   "source": [
    "word_rank_title = top10_bagofwords(all_data2.lemmatized_title, \"top\")\n",
    "word_rank_comment = top10_bagofwords(all_data2.lemmatized_comment, \"top\")"
   ]
  },
  {
   "cell_type": "code",
   "execution_count": 15,
   "id": "ceaaba61",
   "metadata": {
    "ExecuteTime": {
     "end_time": "2022-10-30T14:08:17.463843Z",
     "start_time": "2022-10-30T14:08:16.409201Z"
    }
   },
   "outputs": [
    {
     "data": {
      "image/png": "[encoded data removed]",
      "text/plain": [
       "<Figure size 1200x600 with 1 Axes>"
      ]
     },
     "metadata": {},
     "output_type": "display_data"
    }
   ],
   "source": [
    "# Visualizing top 10 words\n",
    "plt.figure(figsize=(12,6))\n",
    "sns.barplot(x=word_rank_title['word'][:10], y=word_rank_title['count'][:10], palette = 'inferno')\n",
    "plt.title('Top 10 words in titles') \n",
    "plt.show()"
   ]
  },
  {
   "cell_type": "code",
   "execution_count": 16,
   "id": "7896300f",
   "metadata": {
    "ExecuteTime": {
     "end_time": "2022-10-30T14:08:17.643018Z",
     "start_time": "2022-10-30T14:08:17.465843Z"
    }
   },
   "outputs": [
    {
     "data": {
      "image/png": "[encoded data removed]",
      "text/plain": [
       "<Figure size 1200x600 with 1 Axes>"
      ]
     },
     "metadata": {},
     "output_type": "display_data"
    }
   ],
   "source": [
    "plt.figure(figsize=(12,6))\n",
    "sns.barplot(x=word_rank_comment['word'][:10], y=word_rank_comment['count'][:10], palette = 'inferno')\n",
    "plt.title('Top 10 words in comments') \n",
    "plt.show()"
   ]
  },
  {
   "cell_type": "code",
   "execution_count": 17,
   "id": "1d74bb20",
   "metadata": {
    "ExecuteTime": {
     "end_time": "2022-10-30T14:09:56.294310Z",
     "start_time": "2022-10-30T14:08:17.645006Z"
    }
   },
   "outputs": [],
   "source": [
    "# Determining polarity\n",
    "all_data2['polarity_title']=all_data2['lemmatized_title'].apply(lambda x:TextBlob(x).sentiment.polarity)\n",
    "all_data2['polarity_comment']=all_data2['lemmatized_comment'].apply(lambda x:TextBlob(x).sentiment.polarity)"
   ]
  },
  {
   "cell_type": "code",
   "execution_count": 18,
   "id": "7238c59c",
   "metadata": {
    "ExecuteTime": {
     "end_time": "2022-10-30T14:09:56.558497Z",
     "start_time": "2022-10-30T14:09:56.296311Z"
    }
   },
   "outputs": [
    {
     "data": {
      "image/png": "[encoded data removed]",
      "text/plain": [
       "<Figure size 640x480 with 1 Axes>"
      ]
     },
     "metadata": {},
     "output_type": "display_data"
    }
   ],
   "source": [
    "plt.hist(all_data2['polarity_title'], bins=20,label='Titles')\n",
    "plt.hist(all_data2['polarity_comment'], bins=20,alpha=0.8,label='Comments')\n",
    "plt.xlabel('Polarity')\n",
    "plt.ylabel('Number of posts')\n",
    "plt.title('Polarity')\n",
    "plt.legend();"
   ]
  },
  {
   "cell_type": "code",
   "execution_count": 19,
   "id": "18f79a40",
   "metadata": {
    "ExecuteTime": {
     "end_time": "2022-10-30T14:09:57.113405Z",
     "start_time": "2022-10-30T14:09:56.562499Z"
    }
   },
   "outputs": [],
   "source": [
    "title_polarity_sorted=all_data2[['title','lemmatized_title','polarity_title']].sort_values(by='polarity_title',ascending=True)\n",
    "comment_polarity_sorted=all_data2[['comment_body','lemmatized_comment','polarity_comment']].sort_values(by='polarity_comment',ascending=True)"
   ]
  },
  {
   "cell_type": "code",
   "execution_count": 20,
   "id": "a08c1eda",
   "metadata": {
    "ExecuteTime": {
     "end_time": "2022-10-30T14:09:57.127430Z",
     "start_time": "2022-10-30T14:09:57.115409Z"
    }
   },
   "outputs": [],
   "source": [
    "pos_polt = title_polarity_sorted[title_polarity_sorted['polarity_title'] == 1.0].reset_index(drop=True)\n",
    "neg_polt = title_polarity_sorted[title_polarity_sorted['polarity_title'] == -1.0].reset_index(drop=True)\n",
    "pos_polc = comment_polarity_sorted[comment_polarity_sorted['polarity_comment'] == 1.0].reset_index(drop=True)\n",
    "neg_polc = comment_polarity_sorted[comment_polarity_sorted['polarity_comment'] == -1.0].reset_index(drop=True)"
   ]
  },
  {
   "cell_type": "code",
   "execution_count": 21,
   "id": "abd36104",
   "metadata": {
    "ExecuteTime": {
     "end_time": "2022-10-30T14:09:57.134424Z",
     "start_time": "2022-10-30T14:09:57.129429Z"
    }
   },
   "outputs": [],
   "source": [
    "def words(dataframe,string,string2):\n",
    "    res = top10_bagofwords(dataframe[string], \"top\")\n",
    "    plt.figure(figsize=(12,6))\n",
    "    sns.barplot(x=res['word'][:10], y=res['count'][:10], palette = 'inferno')\n",
    "    plt.title(string2) \n",
    "    plt.show();"
   ]
  },
  {
   "cell_type": "code",
   "execution_count": 22,
   "id": "ec264ae6",
   "metadata": {
    "ExecuteTime": {
     "end_time": "2022-10-30T14:09:57.308545Z",
     "start_time": "2022-10-30T14:09:57.137425Z"
    }
   },
   "outputs": [
    {
     "name": "stderr",
     "output_type": "stream",
     "text": [
      "C:\\Users\\Julia\\anaconda3\\lib\\site-packages\\sklearn\\utils\\deprecation.py:87: FutureWarning: Function get_feature_names is deprecated; get_feature_names is deprecated in 1.0 and will be removed in 1.2. Please use get_feature_names_out instead.\n",
      "  warnings.warn(msg, category=FutureWarning)\n"
     ]
    },
    {
     "data": {
      "image/png": "[encoded data removed]",
      "text/plain": [
       "<Figure size 1200x600 with 1 Axes>"
      ]
     },
     "metadata": {},
     "output_type": "display_data"
    }
   ],
   "source": [
    "words(pos_polt,'lemmatized_title','Top 10 words in titles with the highest polarity')"
   ]
  },
  {
   "cell_type": "code",
   "execution_count": 23,
   "id": "d6316f4d",
   "metadata": {
    "ExecuteTime": {
     "end_time": "2022-10-30T14:09:57.501681Z",
     "start_time": "2022-10-30T14:09:57.310547Z"
    }
   },
   "outputs": [
    {
     "name": "stderr",
     "output_type": "stream",
     "text": [
      "C:\\Users\\Julia\\anaconda3\\lib\\site-packages\\sklearn\\utils\\deprecation.py:87: FutureWarning: Function get_feature_names is deprecated; get_feature_names is deprecated in 1.0 and will be removed in 1.2. Please use get_feature_names_out instead.\n",
      "  warnings.warn(msg, category=FutureWarning)\n"
     ]
    },
    {
     "data": {
      "image/png": "[encoded data removed]",
      "text/plain": [
       "<Figure size 1200x600 with 1 Axes>"
      ]
     },
     "metadata": {},
     "output_type": "display_data"
    }
   ],
   "source": [
    "words(neg_polt,'lemmatized_title','Top 10 words in titles with the lowest polarity')"
   ]
  },
  {
   "cell_type": "code",
   "execution_count": 24,
   "id": "bf60c732",
   "metadata": {
    "ExecuteTime": {
     "end_time": "2022-10-30T14:09:57.822909Z",
     "start_time": "2022-10-30T14:09:57.503685Z"
    }
   },
   "outputs": [
    {
     "name": "stderr",
     "output_type": "stream",
     "text": [
      "C:\\Users\\Julia\\anaconda3\\lib\\site-packages\\sklearn\\utils\\deprecation.py:87: FutureWarning: Function get_feature_names is deprecated; get_feature_names is deprecated in 1.0 and will be removed in 1.2. Please use get_feature_names_out instead.\n",
      "  warnings.warn(msg, category=FutureWarning)\n"
     ]
    },
    {
     "data": {
      "image/png": "[encoded data removed]",
      "text/plain": [
       "<Figure size 1200x600 with 1 Axes>"
      ]
     },
     "metadata": {},
     "output_type": "display_data"
    }
   ],
   "source": [
    "words(pos_polc,'lemmatized_comment','Top 10 words in comments with the highest polarity')"
   ]
  },
  {
   "cell_type": "code",
   "execution_count": 25,
   "id": "87197b5c",
   "metadata": {
    "ExecuteTime": {
     "end_time": "2022-10-30T14:09:58.045078Z",
     "start_time": "2022-10-30T14:09:57.824910Z"
    }
   },
   "outputs": [
    {
     "name": "stderr",
     "output_type": "stream",
     "text": [
      "C:\\Users\\Julia\\anaconda3\\lib\\site-packages\\sklearn\\utils\\deprecation.py:87: FutureWarning: Function get_feature_names is deprecated; get_feature_names is deprecated in 1.0 and will be removed in 1.2. Please use get_feature_names_out instead.\n",
      "  warnings.warn(msg, category=FutureWarning)\n"
     ]
    },
    {
     "data": {
      "image/png": "[encoded data removed]",
      "text/plain": [
       "<Figure size 1200x600 with 1 Axes>"
      ]
     },
     "metadata": {},
     "output_type": "display_data"
    }
   ],
   "source": [
    "words(neg_polc,'lemmatized_comment','Top 10 words in comments with the lowest polarity')"
   ]
  },
  {
   "cell_type": "code",
   "execution_count": 26,
   "id": "b72f2347",
   "metadata": {
    "ExecuteTime": {
     "end_time": "2022-10-30T14:11:43.623781Z",
     "start_time": "2022-10-30T14:09:58.047067Z"
    }
   },
   "outputs": [],
   "source": [
    "# Determining subjectivity\n",
    "all_data2['subjectivity_title']=all_data2['lemmatized_title'].apply(lambda x:TextBlob(x).sentiment.subjectivity)\n",
    "all_data2['subjectivity_comment']=all_data2['lemmatized_comment'].apply(lambda x:TextBlob(x).sentiment.subjectivity)"
   ]
  },
  {
   "cell_type": "code",
   "execution_count": 27,
   "id": "a68bef74",
   "metadata": {
    "ExecuteTime": {
     "end_time": "2022-10-30T14:11:43.855464Z",
     "start_time": "2022-10-30T14:11:43.626243Z"
    }
   },
   "outputs": [
    {
     "data": {
      "image/png": "[encoded data removed]",
      "text/plain": [
       "<Figure size 640x480 with 1 Axes>"
      ]
     },
     "metadata": {},
     "output_type": "display_data"
    }
   ],
   "source": [
    "plt.hist(all_data2['subjectivity_title'], bins=20,label='Titles')\n",
    "plt.hist(all_data2['subjectivity_comment'], bins=20,alpha=0.8,label='Comments')\n",
    "plt.xlabel('Subjectivity')\n",
    "plt.ylabel('Number of posts')\n",
    "plt.title('Subjectivity')\n",
    "plt.legend();"
   ]
  },
  {
   "cell_type": "code",
   "execution_count": 28,
   "id": "e9a45829",
   "metadata": {
    "ExecuteTime": {
     "end_time": "2022-10-30T14:11:43.888488Z",
     "start_time": "2022-10-30T14:11:43.856464Z"
    }
   },
   "outputs": [
    {
     "data": {
      "text/html": [
       "<div>\n",
       "<style scoped>\n",
       "    .dataframe tbody tr th:only-of-type {\n",
       "        vertical-align: middle;\n",
       "    }\n",
       "\n",
       "    .dataframe tbody tr th {\n",
       "        vertical-align: top;\n",
       "    }\n",
       "\n",
       "    .dataframe thead th {\n",
       "        text-align: right;\n",
       "    }\n",
       "</style>\n",
       "<table border=\"1\" class=\"dataframe\">\n",
       "  <thead>\n",
       "    <tr style=\"text-align: right;\">\n",
       "      <th></th>\n",
       "      <th>title</th>\n",
       "      <th>comment_body</th>\n",
       "      <th>lemmatized_title</th>\n",
       "      <th>lemmatized_comment</th>\n",
       "      <th>polarity_title</th>\n",
       "      <th>polarity_comment</th>\n",
       "      <th>subjectivity_title</th>\n",
       "      <th>subjectivity_comment</th>\n",
       "    </tr>\n",
       "  </thead>\n",
       "  <tbody>\n",
       "    <tr>\n",
       "      <th>0</th>\n",
       "      <td>do you ever feel like not being alive anymore</td>\n",
       "      <td>as for anchors my only anchor is i need to be ...</td>\n",
       "      <td>feel like alive anymore</td>\n",
       "      <td>anchor anchor need successful care mom dad fuc...</td>\n",
       "      <td>0.100000</td>\n",
       "      <td>-0.001190</td>\n",
       "      <td>0.400000</td>\n",
       "      <td>0.751190</td>\n",
       "    </tr>\n",
       "    <tr>\n",
       "      <th>1</th>\n",
       "      <td>why do depressed people shave their heads</td>\n",
       "      <td>i don’t know because i never had the urge but ...</td>\n",
       "      <td>depress people shave head</td>\n",
       "      <td>know urge think probably take care hair exhaus...</td>\n",
       "      <td>-0.066667</td>\n",
       "      <td>0.036970</td>\n",
       "      <td>0.033333</td>\n",
       "      <td>0.497619</td>\n",
       "    </tr>\n",
       "    <tr>\n",
       "      <th>2</th>\n",
       "      <td>random urge to kill people</td>\n",
       "      <td>you are a coward that can't handle the fact th...</td>\n",
       "      <td>random urge kill people</td>\n",
       "      <td>coward handle fact people well life . stop giv...</td>\n",
       "      <td>-0.500000</td>\n",
       "      <td>0.000000</td>\n",
       "      <td>0.500000</td>\n",
       "      <td>0.000000</td>\n",
       "    </tr>\n",
       "    <tr>\n",
       "      <th>3</th>\n",
       "      <td>is slapping my arm when i’m anxious normal?</td>\n",
       "      <td>'normal' and 'crazy' aren't binary opposites, ...</td>\n",
       "      <td>slap arm anxious normal ?</td>\n",
       "      <td>' normal ' ' crazy ' binary opposite , scale ....</td>\n",
       "      <td>-0.050000</td>\n",
       "      <td>0.008333</td>\n",
       "      <td>0.825000</td>\n",
       "      <td>0.452778</td>\n",
       "    </tr>\n",
       "    <tr>\n",
       "      <th>4</th>\n",
       "      <td>tips to find a psychiatrist that specializes i...</td>\n",
       "      <td>i would assume the majority are aware of anxie...</td>\n",
       "      <td>tip find psychiatrist specialize panic attack ...</td>\n",
       "      <td>assume majority aware anxiety disorder treat ....</td>\n",
       "      <td>0.000000</td>\n",
       "      <td>0.000000</td>\n",
       "      <td>0.000000</td>\n",
       "      <td>0.712963</td>\n",
       "    </tr>\n",
       "    <tr>\n",
       "      <th>...</th>\n",
       "      <td>...</td>\n",
       "      <td>...</td>\n",
       "      <td>...</td>\n",
       "      <td>...</td>\n",
       "      <td>...</td>\n",
       "      <td>...</td>\n",
       "      <td>...</td>\n",
       "      <td>...</td>\n",
       "    </tr>\n",
       "    <tr>\n",
       "      <th>82560</th>\n",
       "      <td>have you heard of this?</td>\n",
       "      <td>i assume you have some sort of existing medica...</td>\n",
       "      <td>hear ?</td>\n",
       "      <td>assume sort exist medical relationship current...</td>\n",
       "      <td>0.000000</td>\n",
       "      <td>0.071429</td>\n",
       "      <td>0.000000</td>\n",
       "      <td>0.323810</td>\n",
       "    </tr>\n",
       "    <tr>\n",
       "      <th>82561</th>\n",
       "      <td>how do i stop my intensity?</td>\n",
       "      <td>i have been diagnosed officially and i am not ...</td>\n",
       "      <td>stop intensity ?</td>\n",
       "      <td>diagnose officially see therapist . abandonmen...</td>\n",
       "      <td>0.000000</td>\n",
       "      <td>0.026563</td>\n",
       "      <td>0.000000</td>\n",
       "      <td>0.632143</td>\n",
       "    </tr>\n",
       "    <tr>\n",
       "      <th>82562</th>\n",
       "      <td>does this have a name?</td>\n",
       "      <td>i asked my councillor but he wasn't too sure, ...</td>\n",
       "      <td>?</td>\n",
       "      <td>ask councillor sure , mild ocd</td>\n",
       "      <td>0.000000</td>\n",
       "      <td>0.416667</td>\n",
       "      <td>0.000000</td>\n",
       "      <td>0.694444</td>\n",
       "    </tr>\n",
       "    <tr>\n",
       "      <th>82563</th>\n",
       "      <td>do schizophrenics 'understand' other schizophr...</td>\n",
       "      <td>i don't think it works that way. i do find tha...</td>\n",
       "      <td>schizophrenic ' understand ' schizophrenic ' '...</td>\n",
       "      <td>think work way . find gravitate people mental ...</td>\n",
       "      <td>0.000000</td>\n",
       "      <td>0.087698</td>\n",
       "      <td>0.000000</td>\n",
       "      <td>0.441270</td>\n",
       "    </tr>\n",
       "    <tr>\n",
       "      <th>82564</th>\n",
       "      <td>does mental illness, with a suicide attempt, q...</td>\n",
       "      <td>yes. it is a life threatening illness. you wil...</td>\n",
       "      <td>mental illness , suicide attempt , qualify \" l...</td>\n",
       "      <td>yes . life threaten illness . probably ask kin...</td>\n",
       "      <td>-0.100000</td>\n",
       "      <td>0.300000</td>\n",
       "      <td>0.200000</td>\n",
       "      <td>0.950000</td>\n",
       "    </tr>\n",
       "  </tbody>\n",
       "</table>\n",
       "<p>82548 rows × 8 columns</p>\n",
       "</div>"
      ],
      "text/plain": [
       "                                                   title  \\\n",
       "0          do you ever feel like not being alive anymore   \n",
       "1              why do depressed people shave their heads   \n",
       "2                             random urge to kill people   \n",
       "3            is slapping my arm when i’m anxious normal?   \n",
       "4      tips to find a psychiatrist that specializes i...   \n",
       "...                                                  ...   \n",
       "82560                            have you heard of this?   \n",
       "82561                        how do i stop my intensity?   \n",
       "82562                             does this have a name?   \n",
       "82563  do schizophrenics 'understand' other schizophr...   \n",
       "82564  does mental illness, with a suicide attempt, q...   \n",
       "\n",
       "                                            comment_body  \\\n",
       "0      as for anchors my only anchor is i need to be ...   \n",
       "1      i don’t know because i never had the urge but ...   \n",
       "2      you are a coward that can't handle the fact th...   \n",
       "3      'normal' and 'crazy' aren't binary opposites, ...   \n",
       "4      i would assume the majority are aware of anxie...   \n",
       "...                                                  ...   \n",
       "82560  i assume you have some sort of existing medica...   \n",
       "82561  i have been diagnosed officially and i am not ...   \n",
       "82562  i asked my councillor but he wasn't too sure, ...   \n",
       "82563  i don't think it works that way. i do find tha...   \n",
       "82564  yes. it is a life threatening illness. you wil...   \n",
       "\n",
       "                                        lemmatized_title  \\\n",
       "0                                feel like alive anymore   \n",
       "1                              depress people shave head   \n",
       "2                                random urge kill people   \n",
       "3                              slap arm anxious normal ?   \n",
       "4      tip find psychiatrist specialize panic attack ...   \n",
       "...                                                  ...   \n",
       "82560                                             hear ?   \n",
       "82561                                   stop intensity ?   \n",
       "82562                                                  ?   \n",
       "82563  schizophrenic ' understand ' schizophrenic ' '...   \n",
       "82564  mental illness , suicide attempt , qualify \" l...   \n",
       "\n",
       "                                      lemmatized_comment  polarity_title  \\\n",
       "0      anchor anchor need successful care mom dad fuc...        0.100000   \n",
       "1      know urge think probably take care hair exhaus...       -0.066667   \n",
       "2      coward handle fact people well life . stop giv...       -0.500000   \n",
       "3      ' normal ' ' crazy ' binary opposite , scale ....       -0.050000   \n",
       "4      assume majority aware anxiety disorder treat ....        0.000000   \n",
       "...                                                  ...             ...   \n",
       "82560  assume sort exist medical relationship current...        0.000000   \n",
       "82561  diagnose officially see therapist . abandonmen...        0.000000   \n",
       "82562                     ask councillor sure , mild ocd        0.000000   \n",
       "82563  think work way . find gravitate people mental ...        0.000000   \n",
       "82564  yes . life threaten illness . probably ask kin...       -0.100000   \n",
       "\n",
       "       polarity_comment  subjectivity_title  subjectivity_comment  \n",
       "0             -0.001190            0.400000              0.751190  \n",
       "1              0.036970            0.033333              0.497619  \n",
       "2              0.000000            0.500000              0.000000  \n",
       "3              0.008333            0.825000              0.452778  \n",
       "4              0.000000            0.000000              0.712963  \n",
       "...                 ...                 ...                   ...  \n",
       "82560          0.071429            0.000000              0.323810  \n",
       "82561          0.026563            0.000000              0.632143  \n",
       "82562          0.416667            0.000000              0.694444  \n",
       "82563          0.087698            0.000000              0.441270  \n",
       "82564          0.300000            0.200000              0.950000  \n",
       "\n",
       "[82548 rows x 8 columns]"
      ]
     },
     "execution_count": 28,
     "metadata": {},
     "output_type": "execute_result"
    }
   ],
   "source": [
    "all_data2"
   ]
  },
  {
   "cell_type": "code",
   "execution_count": 29,
   "id": "74ec0058",
   "metadata": {
    "ExecuteTime": {
     "end_time": "2022-10-30T14:12:54.757977Z",
     "start_time": "2022-10-30T14:11:43.889488Z"
    }
   },
   "outputs": [],
   "source": [
    "# checking readability\n",
    "all_data2['readability_title'] = all_data2['title'].apply(lambda x: textstat.flesch_reading_ease(x))\n",
    "all_data2['readability_comment'] = all_data2['comment_body'].apply(lambda x: textstat.flesch_reading_ease(x))"
   ]
  },
  {
   "cell_type": "code",
   "execution_count": 30,
   "id": "45c9913b",
   "metadata": {
    "ExecuteTime": {
     "end_time": "2022-10-30T14:12:55.031816Z",
     "start_time": "2022-10-30T14:12:54.759979Z"
    }
   },
   "outputs": [
    {
     "data": {
      "image/png": "[encoded data removed]",
      "text/plain": [
       "<Figure size 640x480 with 1 Axes>"
      ]
     },
     "metadata": {},
     "output_type": "display_data"
    }
   ],
   "source": [
    "plt.hist(all_data2['readability_title'], bins=20,label='Titles',range=(-200,150))\n",
    "plt.hist(all_data2['readability_comment'], bins=20,alpha=0.8,label='Comments',range=(-200,150))\n",
    "plt.xlabel('Readability')\n",
    "plt.ylabel('Number of posts')\n",
    "plt.title('Readability')\n",
    "plt.legend();"
   ]
  },
  {
   "cell_type": "markdown",
   "id": "6c7bf846",
   "metadata": {},
   "source": [
    "# Using Latent Dirichlet Allocation analysis for titles and comments"
   ]
  },
  {
   "cell_type": "code",
   "execution_count": 33,
   "id": "2421f2fb",
   "metadata": {
    "ExecuteTime": {
     "end_time": "2022-10-30T15:08:02.134249Z",
     "start_time": "2022-10-30T15:08:02.114235Z"
    }
   },
   "outputs": [
    {
     "data": {
      "text/html": [
       "<div>\n",
       "<style scoped>\n",
       "    .dataframe tbody tr th:only-of-type {\n",
       "        vertical-align: middle;\n",
       "    }\n",
       "\n",
       "    .dataframe tbody tr th {\n",
       "        vertical-align: top;\n",
       "    }\n",
       "\n",
       "    .dataframe thead th {\n",
       "        text-align: right;\n",
       "    }\n",
       "</style>\n",
       "<table border=\"1\" class=\"dataframe\">\n",
       "  <thead>\n",
       "    <tr style=\"text-align: right;\">\n",
       "      <th></th>\n",
       "      <th>title</th>\n",
       "      <th>comment_body</th>\n",
       "      <th>lemmatized_title</th>\n",
       "      <th>lemmatized_comment</th>\n",
       "      <th>polarity_title</th>\n",
       "      <th>polarity_comment</th>\n",
       "      <th>subjectivity_title</th>\n",
       "      <th>subjectivity_comment</th>\n",
       "      <th>readability_title</th>\n",
       "      <th>readability_comment</th>\n",
       "    </tr>\n",
       "  </thead>\n",
       "  <tbody>\n",
       "    <tr>\n",
       "      <th>0</th>\n",
       "      <td>feel like alive anymore</td>\n",
       "      <td>anchor anchor need successful care mom dad fuc...</td>\n",
       "      <td>feel like alive anymore</td>\n",
       "      <td>anchor anchor need successful care mom dad fuc...</td>\n",
       "      <td>0.100000</td>\n",
       "      <td>-0.001190</td>\n",
       "      <td>0.400000</td>\n",
       "      <td>0.751190</td>\n",
       "      <td>87.72</td>\n",
       "      <td>-75.36</td>\n",
       "    </tr>\n",
       "    <tr>\n",
       "      <th>1</th>\n",
       "      <td>depress people shave head</td>\n",
       "      <td>know urge think probably take care hair exhaus...</td>\n",
       "      <td>depress people shave head</td>\n",
       "      <td>know urge think probably take care hair exhaus...</td>\n",
       "      <td>-0.066667</td>\n",
       "      <td>0.036970</td>\n",
       "      <td>0.033333</td>\n",
       "      <td>0.497619</td>\n",
       "      <td>89.75</td>\n",
       "      <td>-75.70</td>\n",
       "    </tr>\n",
       "    <tr>\n",
       "      <th>2</th>\n",
       "      <td>random urge kill people</td>\n",
       "      <td>coward handle fact people well life  stop give...</td>\n",
       "      <td>random urge kill people</td>\n",
       "      <td>coward handle fact people well life . stop giv...</td>\n",
       "      <td>-0.500000</td>\n",
       "      <td>0.000000</td>\n",
       "      <td>0.500000</td>\n",
       "      <td>0.000000</td>\n",
       "      <td>83.32</td>\n",
       "      <td>73.51</td>\n",
       "    </tr>\n",
       "    <tr>\n",
       "      <th>3</th>\n",
       "      <td>slap arm anxious normal</td>\n",
       "      <td>normal   crazy  binary opposite  scale  maybe...</td>\n",
       "      <td>slap arm anxious normal ?</td>\n",
       "      <td>' normal ' ' crazy ' binary opposite , scale ....</td>\n",
       "      <td>-0.050000</td>\n",
       "      <td>0.008333</td>\n",
       "      <td>0.825000</td>\n",
       "      <td>0.452778</td>\n",
       "      <td>80.28</td>\n",
       "      <td>3.81</td>\n",
       "    </tr>\n",
       "    <tr>\n",
       "      <th>4</th>\n",
       "      <td>tip find psychiatrist specialize panic attack ...</td>\n",
       "      <td>assume majority aware anxiety disorder treat  ...</td>\n",
       "      <td>tip find psychiatrist specialize panic attack ...</td>\n",
       "      <td>assume majority aware anxiety disorder treat ....</td>\n",
       "      <td>0.000000</td>\n",
       "      <td>0.000000</td>\n",
       "      <td>0.000000</td>\n",
       "      <td>0.712963</td>\n",
       "      <td>42.38</td>\n",
       "      <td>20.73</td>\n",
       "    </tr>\n",
       "    <tr>\n",
       "      <th>...</th>\n",
       "      <td>...</td>\n",
       "      <td>...</td>\n",
       "      <td>...</td>\n",
       "      <td>...</td>\n",
       "      <td>...</td>\n",
       "      <td>...</td>\n",
       "      <td>...</td>\n",
       "      <td>...</td>\n",
       "      <td>...</td>\n",
       "      <td>...</td>\n",
       "    </tr>\n",
       "    <tr>\n",
       "      <th>82560</th>\n",
       "      <td>hear</td>\n",
       "      <td>assume sort exist medical relationship current...</td>\n",
       "      <td>hear ?</td>\n",
       "      <td>assume sort exist medical relationship current...</td>\n",
       "      <td>0.000000</td>\n",
       "      <td>0.071429</td>\n",
       "      <td>0.000000</td>\n",
       "      <td>0.323810</td>\n",
       "      <td>117.16</td>\n",
       "      <td>54.90</td>\n",
       "    </tr>\n",
       "    <tr>\n",
       "      <th>82561</th>\n",
       "      <td>stop intensity</td>\n",
       "      <td>diagnose officially see therapist  abandonment...</td>\n",
       "      <td>stop intensity ?</td>\n",
       "      <td>diagnose officially see therapist . abandonmen...</td>\n",
       "      <td>0.000000</td>\n",
       "      <td>0.026563</td>\n",
       "      <td>0.000000</td>\n",
       "      <td>0.632143</td>\n",
       "      <td>73.85</td>\n",
       "      <td>-36.46</td>\n",
       "    </tr>\n",
       "    <tr>\n",
       "      <th>82562</th>\n",
       "      <td></td>\n",
       "      <td>ask councillor sure  mild ocd</td>\n",
       "      <td>?</td>\n",
       "      <td>ask councillor sure , mild ocd</td>\n",
       "      <td>0.000000</td>\n",
       "      <td>0.416667</td>\n",
       "      <td>0.000000</td>\n",
       "      <td>0.694444</td>\n",
       "      <td>117.16</td>\n",
       "      <td>87.05</td>\n",
       "    </tr>\n",
       "    <tr>\n",
       "      <th>82563</th>\n",
       "      <td>schizophrenic  understand  schizophrenic   wor...</td>\n",
       "      <td>think work way  find gravitate people mental i...</td>\n",
       "      <td>schizophrenic ' understand ' schizophrenic ' '...</td>\n",
       "      <td>think work way . find gravitate people mental ...</td>\n",
       "      <td>0.000000</td>\n",
       "      <td>0.087698</td>\n",
       "      <td>0.000000</td>\n",
       "      <td>0.441270</td>\n",
       "      <td>38.99</td>\n",
       "      <td>-73.00</td>\n",
       "    </tr>\n",
       "    <tr>\n",
       "      <th>82564</th>\n",
       "      <td>mental illness  suicide attempt  qualify  life...</td>\n",
       "      <td>yes  life threaten illness  probably ask kind ...</td>\n",
       "      <td>mental illness , suicide attempt , qualify \" l...</td>\n",
       "      <td>yes . life threaten illness . probably ask kin...</td>\n",
       "      <td>-0.100000</td>\n",
       "      <td>0.300000</td>\n",
       "      <td>0.200000</td>\n",
       "      <td>0.950000</td>\n",
       "      <td>49.82</td>\n",
       "      <td>25.47</td>\n",
       "    </tr>\n",
       "  </tbody>\n",
       "</table>\n",
       "<p>82548 rows × 10 columns</p>\n",
       "</div>"
      ],
      "text/plain": [
       "                                                   title  \\\n",
       "0                                feel like alive anymore   \n",
       "1                              depress people shave head   \n",
       "2                                random urge kill people   \n",
       "3                               slap arm anxious normal    \n",
       "4      tip find psychiatrist specialize panic attack ...   \n",
       "...                                                  ...   \n",
       "82560                                              hear    \n",
       "82561                                    stop intensity    \n",
       "82562                                                      \n",
       "82563  schizophrenic  understand  schizophrenic   wor...   \n",
       "82564  mental illness  suicide attempt  qualify  life...   \n",
       "\n",
       "                                            comment_body  \\\n",
       "0      anchor anchor need successful care mom dad fuc...   \n",
       "1      know urge think probably take care hair exhaus...   \n",
       "2      coward handle fact people well life  stop give...   \n",
       "3       normal   crazy  binary opposite  scale  maybe...   \n",
       "4      assume majority aware anxiety disorder treat  ...   \n",
       "...                                                  ...   \n",
       "82560  assume sort exist medical relationship current...   \n",
       "82561  diagnose officially see therapist  abandonment...   \n",
       "82562                      ask councillor sure  mild ocd   \n",
       "82563  think work way  find gravitate people mental i...   \n",
       "82564  yes  life threaten illness  probably ask kind ...   \n",
       "\n",
       "                                        lemmatized_title  \\\n",
       "0                                feel like alive anymore   \n",
       "1                              depress people shave head   \n",
       "2                                random urge kill people   \n",
       "3                              slap arm anxious normal ?   \n",
       "4      tip find psychiatrist specialize panic attack ...   \n",
       "...                                                  ...   \n",
       "82560                                             hear ?   \n",
       "82561                                   stop intensity ?   \n",
       "82562                                                  ?   \n",
       "82563  schizophrenic ' understand ' schizophrenic ' '...   \n",
       "82564  mental illness , suicide attempt , qualify \" l...   \n",
       "\n",
       "                                      lemmatized_comment  polarity_title  \\\n",
       "0      anchor anchor need successful care mom dad fuc...        0.100000   \n",
       "1      know urge think probably take care hair exhaus...       -0.066667   \n",
       "2      coward handle fact people well life . stop giv...       -0.500000   \n",
       "3      ' normal ' ' crazy ' binary opposite , scale ....       -0.050000   \n",
       "4      assume majority aware anxiety disorder treat ....        0.000000   \n",
       "...                                                  ...             ...   \n",
       "82560  assume sort exist medical relationship current...        0.000000   \n",
       "82561  diagnose officially see therapist . abandonmen...        0.000000   \n",
       "82562                     ask councillor sure , mild ocd        0.000000   \n",
       "82563  think work way . find gravitate people mental ...        0.000000   \n",
       "82564  yes . life threaten illness . probably ask kin...       -0.100000   \n",
       "\n",
       "       polarity_comment  subjectivity_title  subjectivity_comment  \\\n",
       "0             -0.001190            0.400000              0.751190   \n",
       "1              0.036970            0.033333              0.497619   \n",
       "2              0.000000            0.500000              0.000000   \n",
       "3              0.008333            0.825000              0.452778   \n",
       "4              0.000000            0.000000              0.712963   \n",
       "...                 ...                 ...                   ...   \n",
       "82560          0.071429            0.000000              0.323810   \n",
       "82561          0.026563            0.000000              0.632143   \n",
       "82562          0.416667            0.000000              0.694444   \n",
       "82563          0.087698            0.000000              0.441270   \n",
       "82564          0.300000            0.200000              0.950000   \n",
       "\n",
       "       readability_title  readability_comment  \n",
       "0                  87.72               -75.36  \n",
       "1                  89.75               -75.70  \n",
       "2                  83.32                73.51  \n",
       "3                  80.28                 3.81  \n",
       "4                  42.38                20.73  \n",
       "...                  ...                  ...  \n",
       "82560             117.16                54.90  \n",
       "82561              73.85               -36.46  \n",
       "82562             117.16                87.05  \n",
       "82563              38.99               -73.00  \n",
       "82564              49.82                25.47  \n",
       "\n",
       "[82548 rows x 10 columns]"
      ]
     },
     "execution_count": 33,
     "metadata": {},
     "output_type": "execute_result"
    }
   ],
   "source": [
    "all_data2"
   ]
  },
  {
   "cell_type": "code",
   "execution_count": null,
   "id": "91c741a0",
   "metadata": {},
   "outputs": [],
   "source": [
    "all_data2['lemmatized_title'] = all_data2.lemmatized_title.astype('string')\n",
    "all_data2['lemmatized_comment'] = all_data2.lemmatized_comment.astype('string')"
   ]
  },
  {
   "cell_type": "code",
   "execution_count": 55,
   "id": "967c3226",
   "metadata": {
    "ExecuteTime": {
     "end_time": "2022-10-30T15:17:04.610608Z",
     "start_time": "2022-10-30T15:17:04.606604Z"
    }
   },
   "outputs": [],
   "source": [
    "def remove_punctuations(text):\n",
    "    return text.translate(None,string.punctuation)"
   ]
  },
  {
   "cell_type": "code",
   "execution_count": 59,
   "id": "d9529ffe",
   "metadata": {
    "ExecuteTime": {
     "end_time": "2022-10-30T15:18:21.641724Z",
     "start_time": "2022-10-30T15:18:19.667774Z"
    }
   },
   "outputs": [
    {
     "name": "stderr",
     "output_type": "stream",
     "text": [
      "<>:1: DeprecationWarning: invalid escape sequence \\w\n",
      "<>:2: DeprecationWarning: invalid escape sequence \\w\n",
      "<>:1: DeprecationWarning: invalid escape sequence \\w\n",
      "<>:2: DeprecationWarning: invalid escape sequence \\w\n",
      "C:\\Users\\Julia\\AppData\\Local\\Temp\\ipykernel_22616\\4045545613.py:1: DeprecationWarning: invalid escape sequence \\w\n",
      "  all_data2['lemmatized_title'] = all_data2['lemmatized_title'].str.replace('[^\\w\\s]','')\n",
      "C:\\Users\\Julia\\AppData\\Local\\Temp\\ipykernel_22616\\4045545613.py:2: DeprecationWarning: invalid escape sequence \\w\n",
      "  all_data2['lemmatized_comment'] = all_data2['lemmatized_comment'].str.replace('[^\\w\\s]','')\n",
      "C:\\Users\\Julia\\AppData\\Local\\Temp\\ipykernel_22616\\4045545613.py:1: FutureWarning: The default value of regex will change from True to False in a future version.\n",
      "  all_data2['lemmatized_title'] = all_data2['lemmatized_title'].str.replace('[^\\w\\s]','')\n",
      "C:\\Users\\Julia\\AppData\\Local\\Temp\\ipykernel_22616\\4045545613.py:2: FutureWarning: The default value of regex will change from True to False in a future version.\n",
      "  all_data2['lemmatized_comment'] = all_data2['lemmatized_comment'].str.replace('[^\\w\\s]','')\n"
     ]
    }
   ],
   "source": [
    "all_data2['lemmatized_title'] = all_data2['lemmatized_title'].str.replace('[^\\w\\s]','')\n",
    "all_data2['lemmatized_comment'] = all_data2['lemmatized_comment'].str.replace('[^\\w\\s]','')"
   ]
  },
  {
   "cell_type": "code",
   "execution_count": 60,
   "id": "38e902ba",
   "metadata": {
    "ExecuteTime": {
     "end_time": "2022-10-30T15:18:44.090034Z",
     "start_time": "2022-10-30T15:18:43.995956Z"
    }
   },
   "outputs": [
    {
     "name": "stdout",
     "output_type": "stream",
     "text": [
      "<class 'pandas.core.frame.DataFrame'>\n",
      "Int64Index: 82548 entries, 0 to 82564\n",
      "Data columns (total 10 columns):\n",
      " #   Column                Non-Null Count  Dtype  \n",
      "---  ------                --------------  -----  \n",
      " 0   title                 82548 non-null  object \n",
      " 1   comment_body          82548 non-null  object \n",
      " 2   lemmatized_title      82548 non-null  object \n",
      " 3   lemmatized_comment    82548 non-null  object \n",
      " 4   polarity_title        82548 non-null  float64\n",
      " 5   polarity_comment      82548 non-null  float64\n",
      " 6   subjectivity_title    82548 non-null  float64\n",
      " 7   subjectivity_comment  82548 non-null  float64\n",
      " 8   readability_title     82548 non-null  float64\n",
      " 9   readability_comment   82548 non-null  float64\n",
      "dtypes: float64(6), object(4)\n",
      "memory usage: 6.9+ MB\n"
     ]
    }
   ],
   "source": [
    "all_data2.info()"
   ]
  },
  {
   "cell_type": "code",
   "execution_count": 61,
   "id": "5c93d741",
   "metadata": {
    "ExecuteTime": {
     "end_time": "2022-10-30T15:18:52.033345Z",
     "start_time": "2022-10-30T15:18:52.012330Z"
    }
   },
   "outputs": [
    {
     "data": {
      "text/html": [
       "<div>\n",
       "<style scoped>\n",
       "    .dataframe tbody tr th:only-of-type {\n",
       "        vertical-align: middle;\n",
       "    }\n",
       "\n",
       "    .dataframe tbody tr th {\n",
       "        vertical-align: top;\n",
       "    }\n",
       "\n",
       "    .dataframe thead th {\n",
       "        text-align: right;\n",
       "    }\n",
       "</style>\n",
       "<table border=\"1\" class=\"dataframe\">\n",
       "  <thead>\n",
       "    <tr style=\"text-align: right;\">\n",
       "      <th></th>\n",
       "      <th>title</th>\n",
       "      <th>comment_body</th>\n",
       "      <th>lemmatized_title</th>\n",
       "      <th>lemmatized_comment</th>\n",
       "      <th>polarity_title</th>\n",
       "      <th>polarity_comment</th>\n",
       "      <th>subjectivity_title</th>\n",
       "      <th>subjectivity_comment</th>\n",
       "      <th>readability_title</th>\n",
       "      <th>readability_comment</th>\n",
       "    </tr>\n",
       "  </thead>\n",
       "  <tbody>\n",
       "    <tr>\n",
       "      <th>0</th>\n",
       "      <td>feel like alive anymore</td>\n",
       "      <td>anchor anchor need successful care mom dad fuc...</td>\n",
       "      <td>feel like alive anymore</td>\n",
       "      <td>anchor anchor need successful care mom dad fuc...</td>\n",
       "      <td>0.100000</td>\n",
       "      <td>-0.001190</td>\n",
       "      <td>0.400000</td>\n",
       "      <td>0.751190</td>\n",
       "      <td>87.72</td>\n",
       "      <td>-75.36</td>\n",
       "    </tr>\n",
       "    <tr>\n",
       "      <th>1</th>\n",
       "      <td>depress people shave head</td>\n",
       "      <td>know urge think probably take care hair exhaus...</td>\n",
       "      <td>depress people shave head</td>\n",
       "      <td>know urge think probably take care hair exhaus...</td>\n",
       "      <td>-0.066667</td>\n",
       "      <td>0.036970</td>\n",
       "      <td>0.033333</td>\n",
       "      <td>0.497619</td>\n",
       "      <td>89.75</td>\n",
       "      <td>-75.70</td>\n",
       "    </tr>\n",
       "    <tr>\n",
       "      <th>2</th>\n",
       "      <td>random urge kill people</td>\n",
       "      <td>coward handle fact people well life  stop give...</td>\n",
       "      <td>random urge kill people</td>\n",
       "      <td>coward handle fact people well life  stop give...</td>\n",
       "      <td>-0.500000</td>\n",
       "      <td>0.000000</td>\n",
       "      <td>0.500000</td>\n",
       "      <td>0.000000</td>\n",
       "      <td>83.32</td>\n",
       "      <td>73.51</td>\n",
       "    </tr>\n",
       "    <tr>\n",
       "      <th>3</th>\n",
       "      <td>slap arm anxious normal</td>\n",
       "      <td>normal   crazy  binary opposite  scale  maybe...</td>\n",
       "      <td>slap arm anxious normal</td>\n",
       "      <td>normal   crazy  binary opposite  scale  maybe...</td>\n",
       "      <td>-0.050000</td>\n",
       "      <td>0.008333</td>\n",
       "      <td>0.825000</td>\n",
       "      <td>0.452778</td>\n",
       "      <td>80.28</td>\n",
       "      <td>3.81</td>\n",
       "    </tr>\n",
       "    <tr>\n",
       "      <th>4</th>\n",
       "      <td>tip find psychiatrist specialize panic attack ...</td>\n",
       "      <td>assume majority aware anxiety disorder treat  ...</td>\n",
       "      <td>tip find psychiatrist specialize panic attack ...</td>\n",
       "      <td>assume majority aware anxiety disorder treat  ...</td>\n",
       "      <td>0.000000</td>\n",
       "      <td>0.000000</td>\n",
       "      <td>0.000000</td>\n",
       "      <td>0.712963</td>\n",
       "      <td>42.38</td>\n",
       "      <td>20.73</td>\n",
       "    </tr>\n",
       "    <tr>\n",
       "      <th>...</th>\n",
       "      <td>...</td>\n",
       "      <td>...</td>\n",
       "      <td>...</td>\n",
       "      <td>...</td>\n",
       "      <td>...</td>\n",
       "      <td>...</td>\n",
       "      <td>...</td>\n",
       "      <td>...</td>\n",
       "      <td>...</td>\n",
       "      <td>...</td>\n",
       "    </tr>\n",
       "    <tr>\n",
       "      <th>82560</th>\n",
       "      <td>hear</td>\n",
       "      <td>assume sort exist medical relationship current...</td>\n",
       "      <td>hear</td>\n",
       "      <td>assume sort exist medical relationship current...</td>\n",
       "      <td>0.000000</td>\n",
       "      <td>0.071429</td>\n",
       "      <td>0.000000</td>\n",
       "      <td>0.323810</td>\n",
       "      <td>117.16</td>\n",
       "      <td>54.90</td>\n",
       "    </tr>\n",
       "    <tr>\n",
       "      <th>82561</th>\n",
       "      <td>stop intensity</td>\n",
       "      <td>diagnose officially see therapist  abandonment...</td>\n",
       "      <td>stop intensity</td>\n",
       "      <td>diagnose officially see therapist  abandonment...</td>\n",
       "      <td>0.000000</td>\n",
       "      <td>0.026563</td>\n",
       "      <td>0.000000</td>\n",
       "      <td>0.632143</td>\n",
       "      <td>73.85</td>\n",
       "      <td>-36.46</td>\n",
       "    </tr>\n",
       "    <tr>\n",
       "      <th>82562</th>\n",
       "      <td></td>\n",
       "      <td>ask councillor sure  mild ocd</td>\n",
       "      <td></td>\n",
       "      <td>ask councillor sure  mild ocd</td>\n",
       "      <td>0.000000</td>\n",
       "      <td>0.416667</td>\n",
       "      <td>0.000000</td>\n",
       "      <td>0.694444</td>\n",
       "      <td>117.16</td>\n",
       "      <td>87.05</td>\n",
       "    </tr>\n",
       "    <tr>\n",
       "      <th>82563</th>\n",
       "      <td>schizophrenic  understand  schizophrenic   wor...</td>\n",
       "      <td>think work way  find gravitate people mental i...</td>\n",
       "      <td>schizophrenic  understand  schizophrenic   wor...</td>\n",
       "      <td>think work way  find gravitate people mental i...</td>\n",
       "      <td>0.000000</td>\n",
       "      <td>0.087698</td>\n",
       "      <td>0.000000</td>\n",
       "      <td>0.441270</td>\n",
       "      <td>38.99</td>\n",
       "      <td>-73.00</td>\n",
       "    </tr>\n",
       "    <tr>\n",
       "      <th>82564</th>\n",
       "      <td>mental illness  suicide attempt  qualify  life...</td>\n",
       "      <td>yes  life threaten illness  probably ask kind ...</td>\n",
       "      <td>mental illness  suicide attempt  qualify  life...</td>\n",
       "      <td>yes  life threaten illness  probably ask kind ...</td>\n",
       "      <td>-0.100000</td>\n",
       "      <td>0.300000</td>\n",
       "      <td>0.200000</td>\n",
       "      <td>0.950000</td>\n",
       "      <td>49.82</td>\n",
       "      <td>25.47</td>\n",
       "    </tr>\n",
       "  </tbody>\n",
       "</table>\n",
       "<p>82548 rows × 10 columns</p>\n",
       "</div>"
      ],
      "text/plain": [
       "                                                   title  \\\n",
       "0                                feel like alive anymore   \n",
       "1                              depress people shave head   \n",
       "2                                random urge kill people   \n",
       "3                               slap arm anxious normal    \n",
       "4      tip find psychiatrist specialize panic attack ...   \n",
       "...                                                  ...   \n",
       "82560                                              hear    \n",
       "82561                                    stop intensity    \n",
       "82562                                                      \n",
       "82563  schizophrenic  understand  schizophrenic   wor...   \n",
       "82564  mental illness  suicide attempt  qualify  life...   \n",
       "\n",
       "                                            comment_body  \\\n",
       "0      anchor anchor need successful care mom dad fuc...   \n",
       "1      know urge think probably take care hair exhaus...   \n",
       "2      coward handle fact people well life  stop give...   \n",
       "3       normal   crazy  binary opposite  scale  maybe...   \n",
       "4      assume majority aware anxiety disorder treat  ...   \n",
       "...                                                  ...   \n",
       "82560  assume sort exist medical relationship current...   \n",
       "82561  diagnose officially see therapist  abandonment...   \n",
       "82562                      ask councillor sure  mild ocd   \n",
       "82563  think work way  find gravitate people mental i...   \n",
       "82564  yes  life threaten illness  probably ask kind ...   \n",
       "\n",
       "                                        lemmatized_title  \\\n",
       "0                                feel like alive anymore   \n",
       "1                              depress people shave head   \n",
       "2                                random urge kill people   \n",
       "3                               slap arm anxious normal    \n",
       "4      tip find psychiatrist specialize panic attack ...   \n",
       "...                                                  ...   \n",
       "82560                                              hear    \n",
       "82561                                    stop intensity    \n",
       "82562                                                      \n",
       "82563  schizophrenic  understand  schizophrenic   wor...   \n",
       "82564  mental illness  suicide attempt  qualify  life...   \n",
       "\n",
       "                                      lemmatized_comment  polarity_title  \\\n",
       "0      anchor anchor need successful care mom dad fuc...        0.100000   \n",
       "1      know urge think probably take care hair exhaus...       -0.066667   \n",
       "2      coward handle fact people well life  stop give...       -0.500000   \n",
       "3       normal   crazy  binary opposite  scale  maybe...       -0.050000   \n",
       "4      assume majority aware anxiety disorder treat  ...        0.000000   \n",
       "...                                                  ...             ...   \n",
       "82560  assume sort exist medical relationship current...        0.000000   \n",
       "82561  diagnose officially see therapist  abandonment...        0.000000   \n",
       "82562                      ask councillor sure  mild ocd        0.000000   \n",
       "82563  think work way  find gravitate people mental i...        0.000000   \n",
       "82564  yes  life threaten illness  probably ask kind ...       -0.100000   \n",
       "\n",
       "       polarity_comment  subjectivity_title  subjectivity_comment  \\\n",
       "0             -0.001190            0.400000              0.751190   \n",
       "1              0.036970            0.033333              0.497619   \n",
       "2              0.000000            0.500000              0.000000   \n",
       "3              0.008333            0.825000              0.452778   \n",
       "4              0.000000            0.000000              0.712963   \n",
       "...                 ...                 ...                   ...   \n",
       "82560          0.071429            0.000000              0.323810   \n",
       "82561          0.026563            0.000000              0.632143   \n",
       "82562          0.416667            0.000000              0.694444   \n",
       "82563          0.087698            0.000000              0.441270   \n",
       "82564          0.300000            0.200000              0.950000   \n",
       "\n",
       "       readability_title  readability_comment  \n",
       "0                  87.72               -75.36  \n",
       "1                  89.75               -75.70  \n",
       "2                  83.32                73.51  \n",
       "3                  80.28                 3.81  \n",
       "4                  42.38                20.73  \n",
       "...                  ...                  ...  \n",
       "82560             117.16                54.90  \n",
       "82561              73.85               -36.46  \n",
       "82562             117.16                87.05  \n",
       "82563              38.99               -73.00  \n",
       "82564              49.82                25.47  \n",
       "\n",
       "[82548 rows x 10 columns]"
      ]
     },
     "execution_count": 61,
     "metadata": {},
     "output_type": "execute_result"
    }
   ],
   "source": [
    "all_data2"
   ]
  },
  {
   "cell_type": "code",
   "execution_count": 51,
   "id": "a0bb2dd2",
   "metadata": {
    "ExecuteTime": {
     "end_time": "2022-10-30T15:15:15.664216Z",
     "start_time": "2022-10-30T15:15:11.029131Z"
    }
   },
   "outputs": [],
   "source": [
    "# remove extra space between tokens\n",
    "def remove_space(string):\n",
    "    result = re.sub('\\\\s+',' ', string)\n",
    "    return result\n",
    "all_data2['lemmatized_title'] = all_data2.lemmatized_title.apply(lambda x: remove_space(x))\n",
    "all_data2['lemmatized_comment'] = all_data2.lemmatized_comment.apply(lambda x: remove_space(x))"
   ]
  },
  {
   "cell_type": "code",
   "execution_count": 52,
   "id": "e06f921a",
   "metadata": {
    "ExecuteTime": {
     "end_time": "2022-10-30T15:15:21.147773Z",
     "start_time": "2022-10-30T15:15:19.195184Z"
    }
   },
   "outputs": [
    {
     "name": "stderr",
     "output_type": "stream",
     "text": [
      "C:\\Users\\Julia\\AppData\\Local\\Temp\\ipykernel_22616\\4125532046.py:2: FutureWarning: The default value of regex will change from True to False in a future version.\n",
      "  all_data2['lemmatized_title'] = all_data2['lemmatized_title'].str.replace('\\\\d+', '')\n",
      "C:\\Users\\Julia\\AppData\\Local\\Temp\\ipykernel_22616\\4125532046.py:3: FutureWarning: The default value of regex will change from True to False in a future version.\n",
      "  all_data2['lemmatized_comment'] = all_data2['lemmatized_comment'].str.replace('\\\\d+', '')\n"
     ]
    }
   ],
   "source": [
    "# remove digits\n",
    "all_data2['lemmatized_title'] = all_data2['lemmatized_title'].str.replace('\\\\d+', '')\n",
    "all_data2['lemmatized_comment'] = all_data2['lemmatized_comment'].str.replace('\\\\d+', '')"
   ]
  },
  {
   "cell_type": "code",
   "execution_count": 53,
   "id": "1093675f",
   "metadata": {
    "ExecuteTime": {
     "end_time": "2022-10-30T15:15:27.257598Z",
     "start_time": "2022-10-30T15:15:27.236583Z"
    }
   },
   "outputs": [
    {
     "data": {
      "text/html": [
       "<div>\n",
       "<style scoped>\n",
       "    .dataframe tbody tr th:only-of-type {\n",
       "        vertical-align: middle;\n",
       "    }\n",
       "\n",
       "    .dataframe tbody tr th {\n",
       "        vertical-align: top;\n",
       "    }\n",
       "\n",
       "    .dataframe thead th {\n",
       "        text-align: right;\n",
       "    }\n",
       "</style>\n",
       "<table border=\"1\" class=\"dataframe\">\n",
       "  <thead>\n",
       "    <tr style=\"text-align: right;\">\n",
       "      <th></th>\n",
       "      <th>title</th>\n",
       "      <th>comment_body</th>\n",
       "      <th>lemmatized_title</th>\n",
       "      <th>lemmatized_comment</th>\n",
       "      <th>polarity_title</th>\n",
       "      <th>polarity_comment</th>\n",
       "      <th>subjectivity_title</th>\n",
       "      <th>subjectivity_comment</th>\n",
       "      <th>readability_title</th>\n",
       "      <th>readability_comment</th>\n",
       "    </tr>\n",
       "  </thead>\n",
       "  <tbody>\n",
       "    <tr>\n",
       "      <th>0</th>\n",
       "      <td>feel like alive anymore</td>\n",
       "      <td>anchor anchor need successful care mom dad fuc...</td>\n",
       "      <td>feel like alive anymore</td>\n",
       "      <td>anchor anchor need successful care mom dad fuc...</td>\n",
       "      <td>0.100000</td>\n",
       "      <td>-0.001190</td>\n",
       "      <td>0.400000</td>\n",
       "      <td>0.751190</td>\n",
       "      <td>87.72</td>\n",
       "      <td>-75.36</td>\n",
       "    </tr>\n",
       "    <tr>\n",
       "      <th>1</th>\n",
       "      <td>depress people shave head</td>\n",
       "      <td>know urge think probably take care hair exhaus...</td>\n",
       "      <td>depress people shave head</td>\n",
       "      <td>know urge think probably take care hair exhaus...</td>\n",
       "      <td>-0.066667</td>\n",
       "      <td>0.036970</td>\n",
       "      <td>0.033333</td>\n",
       "      <td>0.497619</td>\n",
       "      <td>89.75</td>\n",
       "      <td>-75.70</td>\n",
       "    </tr>\n",
       "    <tr>\n",
       "      <th>2</th>\n",
       "      <td>random urge kill people</td>\n",
       "      <td>coward handle fact people well life  stop give...</td>\n",
       "      <td>random urge kill people</td>\n",
       "      <td>coward handle fact people well life . stop giv...</td>\n",
       "      <td>-0.500000</td>\n",
       "      <td>0.000000</td>\n",
       "      <td>0.500000</td>\n",
       "      <td>0.000000</td>\n",
       "      <td>83.32</td>\n",
       "      <td>73.51</td>\n",
       "    </tr>\n",
       "    <tr>\n",
       "      <th>3</th>\n",
       "      <td>slap arm anxious normal</td>\n",
       "      <td>normal   crazy  binary opposite  scale  maybe...</td>\n",
       "      <td>slap arm anxious normal ?</td>\n",
       "      <td>' normal ' ' crazy ' binary opposite , scale ....</td>\n",
       "      <td>-0.050000</td>\n",
       "      <td>0.008333</td>\n",
       "      <td>0.825000</td>\n",
       "      <td>0.452778</td>\n",
       "      <td>80.28</td>\n",
       "      <td>3.81</td>\n",
       "    </tr>\n",
       "    <tr>\n",
       "      <th>4</th>\n",
       "      <td>tip find psychiatrist specialize panic attack ...</td>\n",
       "      <td>assume majority aware anxiety disorder treat  ...</td>\n",
       "      <td>tip find psychiatrist specialize panic attack ...</td>\n",
       "      <td>assume majority aware anxiety disorder treat ....</td>\n",
       "      <td>0.000000</td>\n",
       "      <td>0.000000</td>\n",
       "      <td>0.000000</td>\n",
       "      <td>0.712963</td>\n",
       "      <td>42.38</td>\n",
       "      <td>20.73</td>\n",
       "    </tr>\n",
       "    <tr>\n",
       "      <th>...</th>\n",
       "      <td>...</td>\n",
       "      <td>...</td>\n",
       "      <td>...</td>\n",
       "      <td>...</td>\n",
       "      <td>...</td>\n",
       "      <td>...</td>\n",
       "      <td>...</td>\n",
       "      <td>...</td>\n",
       "      <td>...</td>\n",
       "      <td>...</td>\n",
       "    </tr>\n",
       "    <tr>\n",
       "      <th>82560</th>\n",
       "      <td>hear</td>\n",
       "      <td>assume sort exist medical relationship current...</td>\n",
       "      <td>hear ?</td>\n",
       "      <td>assume sort exist medical relationship current...</td>\n",
       "      <td>0.000000</td>\n",
       "      <td>0.071429</td>\n",
       "      <td>0.000000</td>\n",
       "      <td>0.323810</td>\n",
       "      <td>117.16</td>\n",
       "      <td>54.90</td>\n",
       "    </tr>\n",
       "    <tr>\n",
       "      <th>82561</th>\n",
       "      <td>stop intensity</td>\n",
       "      <td>diagnose officially see therapist  abandonment...</td>\n",
       "      <td>stop intensity ?</td>\n",
       "      <td>diagnose officially see therapist . abandonmen...</td>\n",
       "      <td>0.000000</td>\n",
       "      <td>0.026563</td>\n",
       "      <td>0.000000</td>\n",
       "      <td>0.632143</td>\n",
       "      <td>73.85</td>\n",
       "      <td>-36.46</td>\n",
       "    </tr>\n",
       "    <tr>\n",
       "      <th>82562</th>\n",
       "      <td></td>\n",
       "      <td>ask councillor sure  mild ocd</td>\n",
       "      <td>?</td>\n",
       "      <td>ask councillor sure , mild ocd</td>\n",
       "      <td>0.000000</td>\n",
       "      <td>0.416667</td>\n",
       "      <td>0.000000</td>\n",
       "      <td>0.694444</td>\n",
       "      <td>117.16</td>\n",
       "      <td>87.05</td>\n",
       "    </tr>\n",
       "    <tr>\n",
       "      <th>82563</th>\n",
       "      <td>schizophrenic  understand  schizophrenic   wor...</td>\n",
       "      <td>think work way  find gravitate people mental i...</td>\n",
       "      <td>schizophrenic ' understand ' schizophrenic ' '...</td>\n",
       "      <td>think work way . find gravitate people mental ...</td>\n",
       "      <td>0.000000</td>\n",
       "      <td>0.087698</td>\n",
       "      <td>0.000000</td>\n",
       "      <td>0.441270</td>\n",
       "      <td>38.99</td>\n",
       "      <td>-73.00</td>\n",
       "    </tr>\n",
       "    <tr>\n",
       "      <th>82564</th>\n",
       "      <td>mental illness  suicide attempt  qualify  life...</td>\n",
       "      <td>yes  life threaten illness  probably ask kind ...</td>\n",
       "      <td>mental illness , suicide attempt , qualify \" l...</td>\n",
       "      <td>yes . life threaten illness . probably ask kin...</td>\n",
       "      <td>-0.100000</td>\n",
       "      <td>0.300000</td>\n",
       "      <td>0.200000</td>\n",
       "      <td>0.950000</td>\n",
       "      <td>49.82</td>\n",
       "      <td>25.47</td>\n",
       "    </tr>\n",
       "  </tbody>\n",
       "</table>\n",
       "<p>82548 rows × 10 columns</p>\n",
       "</div>"
      ],
      "text/plain": [
       "                                                   title  \\\n",
       "0                                feel like alive anymore   \n",
       "1                              depress people shave head   \n",
       "2                                random urge kill people   \n",
       "3                               slap arm anxious normal    \n",
       "4      tip find psychiatrist specialize panic attack ...   \n",
       "...                                                  ...   \n",
       "82560                                              hear    \n",
       "82561                                    stop intensity    \n",
       "82562                                                      \n",
       "82563  schizophrenic  understand  schizophrenic   wor...   \n",
       "82564  mental illness  suicide attempt  qualify  life...   \n",
       "\n",
       "                                            comment_body  \\\n",
       "0      anchor anchor need successful care mom dad fuc...   \n",
       "1      know urge think probably take care hair exhaus...   \n",
       "2      coward handle fact people well life  stop give...   \n",
       "3       normal   crazy  binary opposite  scale  maybe...   \n",
       "4      assume majority aware anxiety disorder treat  ...   \n",
       "...                                                  ...   \n",
       "82560  assume sort exist medical relationship current...   \n",
       "82561  diagnose officially see therapist  abandonment...   \n",
       "82562                      ask councillor sure  mild ocd   \n",
       "82563  think work way  find gravitate people mental i...   \n",
       "82564  yes  life threaten illness  probably ask kind ...   \n",
       "\n",
       "                                        lemmatized_title  \\\n",
       "0                                feel like alive anymore   \n",
       "1                              depress people shave head   \n",
       "2                                random urge kill people   \n",
       "3                              slap arm anxious normal ?   \n",
       "4      tip find psychiatrist specialize panic attack ...   \n",
       "...                                                  ...   \n",
       "82560                                             hear ?   \n",
       "82561                                   stop intensity ?   \n",
       "82562                                                  ?   \n",
       "82563  schizophrenic ' understand ' schizophrenic ' '...   \n",
       "82564  mental illness , suicide attempt , qualify \" l...   \n",
       "\n",
       "                                      lemmatized_comment  polarity_title  \\\n",
       "0      anchor anchor need successful care mom dad fuc...        0.100000   \n",
       "1      know urge think probably take care hair exhaus...       -0.066667   \n",
       "2      coward handle fact people well life . stop giv...       -0.500000   \n",
       "3      ' normal ' ' crazy ' binary opposite , scale ....       -0.050000   \n",
       "4      assume majority aware anxiety disorder treat ....        0.000000   \n",
       "...                                                  ...             ...   \n",
       "82560  assume sort exist medical relationship current...        0.000000   \n",
       "82561  diagnose officially see therapist . abandonmen...        0.000000   \n",
       "82562                     ask councillor sure , mild ocd        0.000000   \n",
       "82563  think work way . find gravitate people mental ...        0.000000   \n",
       "82564  yes . life threaten illness . probably ask kin...       -0.100000   \n",
       "\n",
       "       polarity_comment  subjectivity_title  subjectivity_comment  \\\n",
       "0             -0.001190            0.400000              0.751190   \n",
       "1              0.036970            0.033333              0.497619   \n",
       "2              0.000000            0.500000              0.000000   \n",
       "3              0.008333            0.825000              0.452778   \n",
       "4              0.000000            0.000000              0.712963   \n",
       "...                 ...                 ...                   ...   \n",
       "82560          0.071429            0.000000              0.323810   \n",
       "82561          0.026563            0.000000              0.632143   \n",
       "82562          0.416667            0.000000              0.694444   \n",
       "82563          0.087698            0.000000              0.441270   \n",
       "82564          0.300000            0.200000              0.950000   \n",
       "\n",
       "       readability_title  readability_comment  \n",
       "0                  87.72               -75.36  \n",
       "1                  89.75               -75.70  \n",
       "2                  83.32                73.51  \n",
       "3                  80.28                 3.81  \n",
       "4                  42.38                20.73  \n",
       "...                  ...                  ...  \n",
       "82560             117.16                54.90  \n",
       "82561              73.85               -36.46  \n",
       "82562             117.16                87.05  \n",
       "82563              38.99               -73.00  \n",
       "82564              49.82                25.47  \n",
       "\n",
       "[82548 rows x 10 columns]"
      ]
     },
     "execution_count": 53,
     "metadata": {},
     "output_type": "execute_result"
    }
   ],
   "source": [
    "all_data2"
   ]
  },
  {
   "cell_type": "code",
   "execution_count": 66,
   "id": "436ef50a",
   "metadata": {
    "ExecuteTime": {
     "end_time": "2022-10-30T15:53:48.190800Z",
     "start_time": "2022-10-30T15:53:37.702197Z"
    }
   },
   "outputs": [],
   "source": [
    "all_data2.to_csv(\"../Data/all_data3.csv\", index=False)"
   ]
  },
  {
   "cell_type": "code",
   "execution_count": 2,
   "id": "ddbdc04c",
   "metadata": {
    "ExecuteTime": {
     "end_time": "2022-11-13T18:53:56.660378Z",
     "start_time": "2022-11-13T18:53:54.039265Z"
    }
   },
   "outputs": [],
   "source": [
    "all_data3 = pd.read_csv('../Data/all_data3.csv')"
   ]
  },
  {
   "cell_type": "code",
   "execution_count": 3,
   "id": "224b6376",
   "metadata": {
    "ExecuteTime": {
     "end_time": "2022-11-13T18:53:56.764024Z",
     "start_time": "2022-11-13T18:53:56.662881Z"
    }
   },
   "outputs": [],
   "source": [
    "all_data3.dropna(inplace=True)"
   ]
  },
  {
   "cell_type": "markdown",
   "id": "39ecb7fd",
   "metadata": {},
   "source": [
    "# Processing titles"
   ]
  },
  {
   "cell_type": "code",
   "execution_count": 4,
   "id": "1793d369",
   "metadata": {
    "ExecuteTime": {
     "end_time": "2022-11-13T18:53:57.437088Z",
     "start_time": "2022-11-13T18:53:57.226937Z"
    }
   },
   "outputs": [],
   "source": [
    "l1 = list(all_data3.lemmatized_title)\n",
    "X_title = [el.split() for el in l1]"
   ]
  },
  {
   "cell_type": "code",
   "execution_count": 5,
   "id": "5c5ed6d9",
   "metadata": {
    "ExecuteTime": {
     "end_time": "2022-11-13T18:53:59.853254Z",
     "start_time": "2022-11-13T18:53:58.512257Z"
    }
   },
   "outputs": [
    {
     "name": "stdout",
     "output_type": "stream",
     "text": [
      "[(0, 1), (1, 1), (2, 1), (3, 1)]\n"
     ]
    }
   ],
   "source": [
    "# Create Dictionary\n",
    "id2word = corpora.Dictionary(X_title)\n",
    "# Filter out words that occur less than 20 documents, or more than 50% of the documents.\n",
    "id2word.filter_extremes(no_below=20, no_above=0.5)\n",
    "# Create Corpus\n",
    "texts = X_title\n",
    "# Term Document Frequency\n",
    "corpus = [id2word.doc2bow(text) for text in texts]\n",
    "# View\n",
    "print(corpus[:1][0][:30])"
   ]
  },
  {
   "cell_type": "code",
   "execution_count": 6,
   "id": "4c4205d6",
   "metadata": {
    "ExecuteTime": {
     "end_time": "2022-11-13T18:54:29.187803Z",
     "start_time": "2022-11-13T18:54:01.014808Z"
    }
   },
   "outputs": [
    {
     "name": "stdout",
     "output_type": "stream",
     "text": [
      "[(0,\n",
      "  '0.042*\"help\" + 0.035*\"self\" + 0.034*\"friend\" + 0.022*\"suicidal\" + '\n",
      "  '0.018*\"stop\" + 0.018*\"harm\" + 0.017*\"life\" + 0.017*\"feel\" + 0.013*\"people\" '\n",
      "  '+ 0.011*\"well\"'),\n",
      " (1,\n",
      "  '0.035*\"mental\" + 0.026*\"therapy\" + 0.026*\"know\" + 0.022*\"health\" + '\n",
      "  '0.022*\"disorder\" + 0.017*\"feel\" + 0.017*\"help\" + 0.015*\"want\" + '\n",
      "  '0.014*\"work\" + 0.014*\"way\"'),\n",
      " (2,\n",
      "  '0.056*\"help\" + 0.033*\"mental\" + 0.023*\"need\" + 0.022*\"bad\" + 0.020*\"go\" + '\n",
      "  '0.018*\"health\" + 0.013*\"know\" + 0.013*\"suicide\" + 0.013*\"feel\" + '\n",
      "  '0.013*\"deal\"'),\n",
      " (3,\n",
      "  '0.059*\"help\" + 0.036*\"anxiety\" + 0.022*\"mental\" + 0.021*\"tell\" + '\n",
      "  '0.020*\"depression\" + 0.019*\"health\" + 0.014*\"experience\" + 0.013*\"attack\" + '\n",
      "  '0.012*\"take\" + 0.012*\"good\"'),\n",
      " (4,\n",
      "  '0.029*\"feel\" + 0.027*\"depressed\" + 0.023*\"experience\" + 0.018*\"stop\" + '\n",
      "  '0.017*\"bad\" + 0.017*\"therapist\" + 0.013*\"mental\" + 0.013*\"long\" + '\n",
      "  '0.012*\"normal\" + 0.011*\"like\"'),\n",
      " (5,\n",
      "  '0.053*\"wrong\" + 0.027*\"depression\" + 0.025*\"disorder\" + 0.024*\"advice\" + '\n",
      "  '0.022*\"thought\" + 0.020*\"know\" + 0.017*\"mental\" + 0.014*\"help\" + '\n",
      "  '0.014*\"bipolar\" + 0.014*\"love\"'),\n",
      " (6,\n",
      "  '0.071*\"mental\" + 0.039*\"illness\" + 0.028*\"health\" + 0.021*\"talk\" + '\n",
      "  '0.020*\"people\" + 0.018*\"think\" + 0.014*\"issue\" + 0.013*\"life\" + 0.013*\"go\" '\n",
      "  '+ 0.012*\"depression\"'),\n",
      " (7,\n",
      "  '0.029*\"normal\" + 0.019*\"anxiety\" + 0.016*\"like\" + 0.016*\"deal\" + '\n",
      "  '0.015*\"feel\" + 0.014*\"depression\" + 0.014*\"time\" + 0.012*\"possible\" + '\n",
      "  '0.012*\"make\" + 0.012*\"mental\"'),\n",
      " (8,\n",
      "  '0.032*\"like\" + 0.030*\"help\" + 0.029*\"people\" + 0.020*\"mental\" + '\n",
      "  '0.017*\"want\" + 0.016*\"feel\" + 0.013*\"anxiety\" + 0.011*\"happen\" + '\n",
      "  '0.011*\"thing\" + 0.011*\"psychologist\"'),\n",
      " (9,\n",
      "  '0.086*\"feel\" + 0.056*\"like\" + 0.015*\"thing\" + 0.014*\"life\" + 0.013*\"want\" + '\n",
      "  '0.012*\"anxiety\" + 0.012*\"die\" + 0.011*\"wrong\" + 0.010*\"think\" + '\n",
      "  '0.010*\"normal\"')]\n"
     ]
    }
   ],
   "source": [
    "# number of topics\n",
    "num_topics = 10\n",
    "# Build LDA model\n",
    "lda_model = gensim.models.LdaMulticore(corpus=corpus,\n",
    "                                       id2word=id2word,\n",
    "                                       num_topics=num_topics)\n",
    "# Print the Keyword in the 10 topics\n",
    "pprint(lda_model.print_topics())\n",
    "doc_lda = lda_model[corpus]"
   ]
  },
  {
   "cell_type": "code",
   "execution_count": null,
   "id": "7d74f1f3",
   "metadata": {
    "ExecuteTime": {
     "start_time": "2022-11-13T18:56:17.774Z"
    }
   },
   "outputs": [],
   "source": [
    "coh_dict = {}\n",
    "for i in range(1,21):\n",
    "    lda_model = gensim.models.LdaMulticore(corpus=corpus,\n",
    "                                       id2word=id2word,\n",
    "                                       num_topics=i)\n",
    "    coherence_model_lda = CoherenceModel(model=lda_model, texts=texts, dictionary=id2word, coherence='c_v')\n",
    "    coherence_lda = coherence_model_lda.get_coherence()\n",
    "    coh_dict[i] = coherence_lda\n",
    "    print('Coherence Score: ',i,':', coherence_lda)"
   ]
  },
  {
   "cell_type": "code",
   "execution_count": null,
   "id": "bac34c53",
   "metadata": {
    "ExecuteTime": {
     "start_time": "2022-11-13T18:15:17.683Z"
    }
   },
   "outputs": [],
   "source": [
    "coherence_model_lda = CoherenceModel(model=lda_model, texts=texts, dictionary=id2word, coherence='c_v')\n",
    "coherence_lda = coherence_model_lda.get_coherence()\n",
    "coherence_lda"
   ]
  },
  {
   "cell_type": "code",
   "execution_count": 7,
   "id": "e1d227af",
   "metadata": {
    "ExecuteTime": {
     "end_time": "2022-11-13T18:54:55.910162Z",
     "start_time": "2022-11-13T18:54:29.209814Z"
    }
   },
   "outputs": [
    {
     "name": "stderr",
     "output_type": "stream",
     "text": [
      "C:\\Users\\Julia\\anaconda3\\lib\\site-packages\\pyLDAvis\\_prepare.py:246: FutureWarning: In a future version of pandas all arguments of DataFrame.drop except for the argument 'labels' will be keyword-only.\n",
      "  default_term_info = default_term_info.sort_values(\n"
     ]
    },
    {
     "data": {
      "text/html": [
       "\n",
       "<link rel=\"stylesheet\" type=\"text/css\" href=\"https://cdn.jsdelivr.net/gh/bmabey/pyLDAvis@3.3.1/pyLDAvis/js/ldavis.v1.0.0.css\">\n",
       "\n",
       "\n",
       "<div id=\"ldavis_el54048360412016965807309331\"></div>\n",
       "<script type=\"text/javascript\">\n",
       "\n",
       "var ldavis_el54048360412016965807309331_data = {\"mdsDat\": {\"x\": [-0.04957789773140699, 0.08832050240252731, 0.06674060816939309, -0.0719246586617727, 0.08467977739264919, 0.006172102470971181, -0.09815746150762401, -0.007365557081308117, -0.020251802623553188, 0.0013643871701240085], \"y\": [0.030876733685029672, 0.03054700148596478, -0.013596340876324053, 0.04238743411116898, -0.06060357598238071, -0.048259342437367764, -0.10370941203498842, -0.019707614011956292, 0.10640525798201753, 0.03565985807883634], \"topics\": [1, 2, 3, 4, 5, 6, 7, 8, 9, 10], \"cluster\": [1, 1, 1, 1, 1, 1, 1, 1, 1, 1], \"Freq\": [11.784355231365872, 11.706399751911768, 9.981710976309914, 9.826180991273935, 9.649924225093223, 9.563888052381982, 9.489025977513085, 9.411284407803812, 9.323921124040153, 9.263309262306258]}, \"tinfo\": {\"Term\": [\"help\", \"wrong\", \"feel\", \"like\", \"mental\", \"self\", \"illness\", \"disorder\", \"anxiety\", \"friend\", \"depressed\", \"harm\", \"depression\", \"suicidal\", \"experience\", \"normal\", \"people\", \"bad\", \"thought\", \"know\", \"health\", \"advice\", \"bipolar\", \"therapy\", \"want\", \"need\", \"talk\", \"go\", \"stop\", \"love\", \"cross\", \"mod\", \"funny\", \"zoloft\", \"race\", \"tic\", \"totally\", \"regard\", \"die\", \"mask\", \"idk\", \"damn\", \"joy\", \"worthless\", \"separation\", \"fictional\", \"heart\", \"adulthood\", \"existential\", \"derealisation\", \"hopeless\", \"incredibly\", \"hard\", \"confront\", \"past\", \"summer\", \"shit\", \"note\", \"gift\", \"terrible\", \"idea\", \"feel\", \"like\", \"watch\", \"character\", \"cry\", \"kind\", \"year\", \"s\", \"anxious\", \"thing\", \"old\", \"today\", \"life\", \"school\", \"anymore\", \"want\", \"person\", \"read\", \"wrong\", \"think\", \"therapist\", \"anxiety\", \"normal\", \"brain\", \"away\", \"time\", \"go\", \"good\", \"need\", \"friend\", \"talk\", \"mental\", \"start\", \"health\", \"help\", \"know\", \"advice\", \"residential\", \"difficulty\", \"untreated\", \"dear\", \"fatigue\", \"wtf\", \"quiet\", \"hot\", \"apathy\", \"label\", \"forward\", \"relative\", \"bring\", \"screen\", \"fantasy\", \"depersonalisation\", \"surround\", \"financial\", \"prefer\", \"win\", \"killer\", \"lock\", \"cover\", \"surgery\", \"illness\", \"shy\", \"matter\", \"narcissistic\", \"healthcare\", \"venting\", \"happiness\", \"loss\", \"schizophrenia\", \"talk\", \"mental\", \"doctor\", \"heal\", \"believe\", \"cope\", \"issue\", \"phone\", \"live\", \"point\", \"health\", \"lose\", \"think\", \"school\", \"parent\", \"people\", \"person\", \"go\", \"struggle\", \"term\", \"life\", \"explain\", \"suffer\", \"well\", \"depression\", \"therapist\", \"anxiety\", \"need\", \"deal\", \"wrong\", \"therapy\", \"medication\", \"tell\", \"feel\", \"know\", \"affordable\", \"office\", \"quarantine\", \"typical\", \"holiday\", \"bore\", \"dosage\", \"agree\", \"psychotherapy\", \"supplement\", \"nature\", \"perception\", \"cbt\", \"relief\", \"facebook\", \"fire\", \"ahead\", \"sane\", \"provide\", \"misdiagnosis\", \"suggestion\", \"massive\", \"venlafaxine\", \"pill\", \"molest\", \"worsen\", \"expect\", \"overdose\", \"opinion\", \"understanding\", \"resource\", \"hell\", \"therapy\", \"covid\", \"system\", \"end\", \"world\", \"disorder\", \"use\", \"way\", \"work\", \"worried\", \"know\", \"ask\", \"option\", \"feeling\", \"cause\", \"try\", \"mental\", \"health\", \"eat\", \"bpd\", \"want\", \"bipolar\", \"struggle\", \"social\", \"antidepressant\", \"support\", \"good\", \"think\", \"people\", \"help\", \"feel\", \"psychiatrist\", \"friend\", \"anxiety\", \"normal\", \"need\", \"illness\", \"depression\", \"dysfunction\", \"citalopram\", \"bulimia\", \"list\", \"appt\", \"insult\", \"sympathy\", \"confirm\", \"vulnerable\", \"silence\", \"anger\", \"odd\", \"frustrate\", \"schizoid\", \"generally\", \"sensory\", \"reasonable\", \"episode\", \"dependent\", \"stare\", \"hearing\", \"useless\", \"clue\", \"sensitive\", \"depressed\", \"last\", \"task\", \"diet\", \"binge\", \"guilty\", \"entire\", \"manic\", \"okay\", \"energy\", \"long\", \"early\", \"week\", \"depressive\", \"experience\", \"mom\", \"tired\", \"will\", \"period\", \"problem\", \"see\", \"bad\", \"stop\", \"handle\", \"not\", \"therapist\", \"psychosis\", \"anybody\", \"cry\", \"day\", \"feel\", \"psychiatrist\", \"time\", \"m\", \"thing\", \"normal\", \"want\", \"thought\", \"think\", \"mental\", \"like\", \"know\", \"depression\", \"live\", \"tell\", \"health\", \"trump\", \"imbalance\", \"evidence\", \"resistant\", \"irritable\", \"tms\", \"prozac\", \"website\", \"lost\", \"chemical\", \"large\", \"conspiracy\", \"dysmorphia\", \"australia\", \"psychopath\", \"fluoxetine\", \"coffee\", \"quetiapine\", \"part\", \"naturally\", \"income\", \"paranoia\", \"counsel\", \"wellbutrin\", \"inpatient\", \"eating\", \"distraction\", \"body\", \"photo\", \"deteriorate\", \"counseling\", \"gf\", \"attack\", \"scared\", \"panic\", \"take\", \"patient\", \"anxiety\", \"help\", \"tell\", \"vent\", \"drink\", \"check\", \"experience\", \"depression\", \"seek\", \"ask\", \"change\", \"start\", \"tip\", \"good\", \"health\", \"job\", \"thing\", \"sleep\", \"mental\", \"treatment\", \"get\", \"right\", \"therapy\", \"talk\", \"parent\", \"people\", \"therapist\", \"stop\", \"feel\", \"know\", \"introvert\", \"train\", \"speech\", \"crying\", \"institution\", \"involuntary\", \"meeting\", \"anorexic\", \"site\", \"lamictal\", \"cartoon\", \"contribute\", \"remind\", \"silent\", \"user\", \"quick\", \"development\", \"discussion\", \"crush\", \"vision\", \"referral\", \"active\", \"survivor\", \"laziness\", \"call\", \"return\", \"miss\", \"appetite\", \"realistic\", \"reason\", \"habit\", \"understand\", \"suicide\", \"positive\", \"suppose\", \"need\", \"bad\", \"professional\", \"help\", \"go\", \"paranoid\", \"kill\", \"get\", \"deal\", \"work\", \"ex\", \"find\", \"mental\", \"antidepressant\", \"commit\", \"health\", \"good\", \"adhd\", \"know\", \"happen\", \"attempt\", \"depression\", \"day\", \"diagnose\", \"problem\", \"normal\", \"like\", \"time\", \"feel\", \"illness\", \"issue\", \"disorder\", \"thought\", \"self\", \"improvement\", \"imaginary\", \"space\", \"input\", \"acceptable\", \"frustrated\", \"consent\", \"bdd\", \"pathetic\", \"feedback\", \"harm\", \"business\", \"ideation\", \"hole\", \"gaslighte\", \"romanticize\", \"parental\", \"encourage\", \"guidance\", \"previous\", \"hallucinate\", \"hospitalization\", \"amnesia\", \"remove\", \"fat\", \"visual\", \"boredom\", \"self\", \"survive\", \"overly\", \"suicidal\", \"ruin\", \"friend\", \"swing\", \"stupid\", \"actually\", \"toxic\", \"convince\", \"diagnosis\", \"hallucination\", \"well\", \"motivation\", \"esteem\", \"help\", \"stop\", \"fight\", \"sociopath\", \"life\", \"mood\", \"relate\", \"drive\", \"scar\", \"seek\", \"new\", \"get\", \"tell\", \"mentally\", \"parent\", \"people\", \"feel\", \"want\", \"normal\", \"thought\", \"need\", \"have\", \"day\", \"experience\", \"trauma\", \"think\", \"like\", \"therapist\", \"advice\", \"depression\", \"libido\", \"water\", \"outburst\", \"american\", \"assume\", \"unwell\", \"psychologist\", \"counselling\", \"dramatic\", \"education\", \"gad\", \"religious\", \"exhaust\", \"spectrum\", \"peace\", \"advise\", \"inner\", \"blanket\", \"subreddit\", \"acute\", \"blog\", \"incapable\", \"permanently\", \"disease\", \"mirror\", \"offensive\", \"reject\", \"background\", \"admit\", \"risperidone\", \"derealization\", \"breakdown\", \"sound\", \"weird\", \"family\", \"woman\", \"ocd\", \"confused\", \"age\", \"people\", \"reality\", \"care\", \"like\", \"happen\", \"look\", \"want\", \"story\", \"psychiatrist\", \"help\", \"date\", \"parent\", \"thing\", \"try\", \"girlfriend\", \"trigger\", \"lot\", \"therapist\", \"get\", \"need\", \"mental\", \"anxiety\", \"stop\", \"talk\", \"feel\", \"illness\", \"schizophrenia\", \"not\", \"bad\", \"m\", \"health\", \"know\", \"tell\", \"depressant\", \"emdr\", \"anti\", \"risk\", \"witness\", \"nostalgia\", \"pure\", \"intellectual\", \"kms\", \"rapid\", \"unhappy\", \"manifest\", \"generation\", \"compliment\", \"special\", \"brush\", \"psychiatric\", \"irritability\", \"standard\", \"stabilizer\", \"negativity\", \"crap\", \"socially\", \"crazy\", \"engage\", \"react\", \"polar\", \"belong\", \"psychiatry\", \"trap\", \"seroquel\", \"behaviour\", \"uk\", \"behavior\", \"make\", \"trauma\", \"possible\", \"hospital\", \"normal\", \"ill\", \"hate\", \"mentally\", \"head\", \"dream\", \"social\", \"deal\", \"time\", \"trust\", \"tip\", \"hear\", \"emotion\", \"voice\", \"nightmare\", \"effect\", \"extreme\", \"anxiety\", \"relationship\", \"guy\", \"depression\", \"like\", \"people\", \"feel\", \"mental\", \"thought\", \"think\", \"tell\", \"diagnose\", \"stop\", \"go\", \"explanation\", \"borderline\", \"narcissism\", \"interesting\", \"romantic\", \"slightly\", \"conflict\", \"wrong\", \"dissociate\", \"narcissist\", \"dissociative\", \"prescription\", \"identity\", \"ii\", \"physical\", \"carry\", \"rut\", \"love\", \"brief\", \"suppress\", \"tho\", \"personality\", \"toll\", \"individual\", \"punish\", \"bipolar\", \"fill\", \"starve\", \"strange\", \"schizoaffective\", \"psychotic\", \"schizophrenic\", \"hope\", \"advice\", \"disorder\", \"mean\", \"thought\", \"play\", \"touch\", \"s\", \"depression\", \"act\", \"dissociation\", \"intrusive\", \"symptom\", \"know\", \"worth\", \"self\", \"have\", \"find\", \"sure\", \"mental\", \"think\", \"relationship\", \"person\", \"health\", \"help\", \"adhd\", \"feel\", \"anxiety\", \"people\", \"life\", \"way\", \"go\", \"issue\", \"like\"], \"Freq\": [6968.0, 2517.0, 7115.0, 4723.0, 7525.0, 1789.0, 2559.0, 1901.0, 3448.0, 2185.0, 1430.0, 736.0, 3285.0, 1176.0, 1766.0, 2683.0, 3448.0, 2015.0, 1927.0, 2945.0, 4008.0, 1682.0, 827.0, 2040.0, 2423.0, 2154.0, 1896.0, 2062.0, 2241.0, 732.0, 20.65824310761556, 17.514490464377104, 29.485579506296414, 75.80707497248106, 15.000436354451807, 42.07987362196284, 27.0588280078364, 15.031524736404986, 432.13347579988005, 21.147609287003792, 235.96258735655627, 30.838336412850982, 19.074615677659914, 28.16229054274384, 16.130824988202093, 38.82538956508897, 50.15143431467152, 16.237297296701854, 68.85204885207592, 17.77743461363734, 37.03100718547559, 29.060635085027936, 289.90010759009414, 25.701495994591028, 259.6316443386934, 18.39347166557609, 108.0037477940928, 39.64770434599827, 20.79489622457844, 60.07181902865758, 234.3397736058047, 3153.8378722384473, 2056.2542004717316, 119.87594111698799, 77.77494965372303, 258.6999738680908, 177.4737084278724, 364.2600699324034, 147.94528038747083, 161.26739524325032, 552.1628936587135, 175.02528156348097, 126.72632709952629, 519.2056465889957, 150.5999317819178, 154.15841997463446, 469.1505916846684, 249.4144905413058, 103.33416834205637, 393.22891348151757, 378.08542098869236, 341.8566023705997, 447.6468582208089, 370.2285966524407, 148.4859516004941, 124.65013091549883, 230.90891173815217, 250.9404226839555, 230.53624695464168, 246.45421350808658, 241.34546637286476, 229.9977377455244, 342.8145233138245, 187.0407970193246, 248.69513906846225, 279.31701335205327, 200.74146684248439, 190.18086084979632, 30.482592914850688, 41.34640258465852, 22.730418555777632, 23.309621624211864, 31.787782638091187, 95.96236437818382, 24.462288577391288, 16.878883211672925, 30.465757976029483, 24.69694826141981, 43.68595174965122, 13.957859614388212, 147.1498287327042, 15.436577731379682, 40.375341159990974, 18.601563140804764, 13.210986770101423, 13.314110282840458, 19.93723501093147, 20.372985967577076, 15.05689743674217, 18.04918732106213, 23.298276431261915, 13.897974456259718, 1404.4706759907515, 12.163808761170445, 76.31719145757042, 42.68145720188018, 22.304647225723553, 27.422187481354975, 81.56817037632194, 97.42252263042766, 290.39026505249706, 751.9302510034162, 2573.794038157991, 311.5266956251455, 67.44736022276103, 152.8891646210979, 365.78762284875916, 499.134611229194, 64.81878027110041, 329.9704491824799, 214.9649871316806, 1032.745147839597, 220.2075781753389, 659.7134787192867, 171.96123090265434, 372.4256113227469, 725.8304306326525, 302.72392511348585, 467.19151972744976, 214.27478000656893, 116.48479742069581, 469.08562368297993, 135.14586627820285, 153.3886659651079, 237.25382042253207, 435.9408676078985, 319.55000255052, 337.0934800625649, 267.5024935112884, 235.00213255803718, 254.1783370146423, 225.99746115779246, 172.5203436573572, 193.79240075873102, 211.35270475407785, 172.38909708760193, 26.62869505789797, 24.66101672838198, 59.6699401511598, 17.15517948569343, 21.03304717338612, 27.051321459083432, 21.778491407049025, 37.135763020084184, 23.435361592629153, 27.842394578447987, 13.500075929301062, 19.501967795794645, 50.223064710524305, 19.586098701147616, 11.176622968547528, 21.95219840296945, 13.109808816482255, 14.803931927588037, 28.90957698025749, 11.955605289362342, 100.9676631686292, 14.470676138282695, 15.99794875282452, 67.1115526869425, 13.486124106675202, 24.293712760095627, 136.4608764256851, 31.037364663437014, 130.0261202725316, 13.436547867243085, 100.03385986668289, 110.38737576875417, 818.108851480072, 61.998457080089466, 50.03095295253003, 190.296609738777, 135.166634667032, 667.4635866033509, 144.4027502575749, 434.90511540210633, 441.9336977518912, 108.86788611010647, 805.1821223715642, 272.67578404795756, 75.80672580617438, 277.7197739278581, 259.3103543370916, 257.717339357269, 1069.443172054726, 688.3746551391318, 168.31272616173092, 160.95393595650287, 469.31499455106103, 219.24952289517213, 192.32349476936065, 185.03551900859028, 139.54449869147183, 165.9452223555456, 290.88955908926323, 337.71358093426755, 371.7003614415449, 514.3037240194237, 514.837132272199, 198.6292824046502, 242.38799482126572, 282.3771466453071, 217.79091260620484, 197.5406491093493, 175.75373668100863, 166.31994338346706, 19.68346168611117, 30.33043517460586, 20.138464329342572, 59.05959930899762, 16.006847917220057, 18.715695663682833, 15.12005125750222, 13.296111364704528, 22.10344365015181, 17.480359725666702, 240.2967556532797, 39.00552530814264, 17.37284416534676, 17.60722645443318, 14.11574229410961, 26.646661863748694, 13.989312057864483, 279.77373546911696, 24.999104872673026, 14.432210905427628, 12.104005929900515, 37.388764106500126, 18.711328964109487, 88.04365023482022, 829.3774667297479, 17.269141704329183, 34.18008983845492, 22.356380420115308, 19.998013101618945, 103.73570542359386, 34.621177951798394, 92.40252133254027, 241.32750257833132, 73.96459460482215, 381.9927322938891, 74.12602586332808, 153.8822090671691, 105.70676370122483, 690.4631469173943, 199.3591653994134, 122.44140434392186, 108.9170703803255, 65.84735255973024, 308.8837694925043, 167.21227901772676, 520.1108045780271, 539.9425832290455, 107.91366279173307, 217.86204789225994, 505.95430878704605, 163.64489306640397, 169.05752808505758, 187.83404525543494, 260.9885452278276, 898.7079799277786, 249.38863226775175, 316.80962198750296, 201.05018710920044, 312.00536527689997, 353.927782023084, 322.2329741396076, 275.0591052228979, 299.4015904921119, 398.53916303933136, 326.3141721167945, 274.59865174622917, 253.01159116935378, 178.268570706578, 193.20954647129662, 188.47700228810376, 24.453881434694985, 29.080222864851642, 18.876715042380813, 34.033921645625625, 20.299621635073315, 21.80500054028807, 100.16317681228617, 43.471434909903415, 26.851391585684343, 30.226251525918496, 24.65294832777411, 18.889581901086135, 53.54576706841374, 18.605793086250124, 124.74305204691188, 29.917060074814035, 16.127220331391364, 31.067127925815743, 18.670066391145287, 15.209843277257773, 18.82048003911182, 191.14824069267664, 14.330151969768288, 55.059881288185615, 137.94313869426438, 19.54670129693256, 22.7375881591073, 253.09088768959015, 16.84610727064619, 17.948602246578275, 72.8262878396784, 58.66786417330507, 385.4282441256602, 269.1335882329746, 306.98994970231416, 350.76378367230996, 81.56786854304985, 1089.8978194102654, 1778.6174117019677, 633.4339763956993, 113.91927764478625, 74.65069827605028, 102.83313363519267, 408.43627852957286, 606.4884601838196, 184.75756611319895, 225.26472351997322, 184.2960738516174, 260.53046914833624, 204.26449062469456, 345.74816226275044, 571.6155649835982, 158.4804156008065, 338.5792448653506, 171.29781426855058, 649.3069124696218, 137.87812132806542, 221.90263982676336, 158.16415295351757, 245.19651923365828, 201.47890632667287, 170.82055557447097, 211.02395474593754, 187.12070481403086, 171.8112758142637, 188.03586885210868, 161.63141589800767, 19.139145407154906, 16.05369023867873, 18.863665308204883, 16.255227261054632, 22.066416343129063, 23.01570652675277, 15.703130699543184, 16.38660160191015, 19.779810977497252, 31.862433674227468, 15.84683234048713, 13.8598677530204, 20.305165000220626, 12.767802462005207, 13.760878911591641, 34.83597256994791, 11.688401235370572, 25.650565891366295, 36.414533601865294, 20.817297138735956, 10.806254943612645, 17.778821452510474, 15.261023082838644, 16.773890899840968, 174.27519650335142, 26.457582660043972, 105.78371555415924, 16.757999079245046, 11.001231970277441, 220.0611032069031, 58.349853650554394, 186.8831680418159, 398.5639039279715, 101.16808288406513, 118.15473628268641, 683.1715793561333, 641.0440864987178, 142.93149727476145, 1651.0315194108307, 588.5535654080419, 83.64436124634335, 202.39496654053298, 345.1810921688608, 373.9672479333218, 303.79521300059804, 70.5466964331978, 265.0734675124151, 970.2779560281085, 130.10799658933206, 80.55811511352975, 529.2475153153805, 304.48805631226446, 146.80672515316175, 400.3371838005964, 232.58380257260686, 86.68821307226837, 359.7563059962476, 186.6952155728857, 157.9245475118701, 175.45856204795652, 274.7651500848217, 356.2613350865599, 213.45758027928798, 397.0293916654651, 254.78852714701662, 193.64271472947428, 201.12465709068107, 199.47859467864933, 171.16606421464377, 17.3241330523009, 47.863267742643956, 43.2953028569666, 21.41811046560653, 17.358594525296063, 17.453685709929086, 15.925088405736158, 21.40648622968772, 14.964632485987897, 20.071755272830625, 520.1425017586241, 15.993920537383362, 77.80369773838846, 22.882515737042016, 29.76241674845597, 15.720740712422227, 18.167859985060186, 20.351579966142758, 20.041029182250416, 19.209942577965936, 49.89816357709792, 28.167823118990487, 15.45461185013885, 40.62464493548837, 21.513148532416224, 27.997434849567323, 22.302362870611663, 1027.5214828157887, 39.95463041980592, 36.0223933515894, 653.8534556302568, 98.24941962225697, 994.8869887867364, 82.93641474868629, 91.78476119756607, 279.9446367841708, 121.22712763914416, 102.14782920440196, 307.8338929028274, 155.19573577291152, 337.767040616341, 96.30478639094734, 74.11403092106856, 1250.730718904452, 522.0524404839072, 83.04343174139639, 78.5178822943886, 495.04934044450476, 146.89324863832778, 148.83408480200828, 62.747563804537876, 55.40414124542674, 155.46091365480945, 129.82223572202847, 279.4670287324217, 333.206172957252, 188.61649695770333, 233.0420237247431, 394.7055638682693, 486.0240533856721, 286.4522898031534, 274.88472203444474, 230.96350616298648, 205.23391793231218, 167.3494638625216, 157.79771406229986, 173.7256177126726, 138.54977510586994, 174.19694758039955, 192.53597546745118, 164.66918647458576, 152.76078733572925, 152.53156507979247, 21.64081354120629, 16.78562389590816, 22.125609394011796, 13.539465751627002, 26.51990241136666, 16.96322727304526, 310.553193063775, 36.919345145664224, 40.149056109527486, 13.69353273434401, 34.24828089968603, 25.542063323386554, 25.66471700723659, 22.967518772782846, 24.884154013950674, 35.69730502543063, 36.6756760381339, 14.545439068974565, 66.3026187351137, 13.347999192607393, 15.348217142072706, 14.181303456887226, 15.81937498879704, 38.59732122845155, 27.106321377897032, 12.793053855064354, 19.233657033838874, 14.569999376000746, 122.43618271978109, 19.658002106044577, 58.5835106920495, 155.24035087535174, 172.52939308769626, 245.16684440451493, 307.36300427678697, 80.58598376124839, 281.1629143826038, 48.092201329125146, 80.45911036785324, 847.840995418196, 87.72796877463753, 240.29007696940837, 922.3319375831667, 334.69867358124907, 219.46315413952635, 495.97033705249925, 95.6026163651875, 248.14401858287508, 862.317940257003, 76.90400422637322, 255.37941841474023, 324.93548589177846, 201.32421518036327, 90.95062366357881, 124.97976857172053, 99.56068692410597, 301.1211378613953, 239.0348569824173, 293.78733365518445, 576.9866394175889, 366.2431080371618, 281.624971728074, 249.48138270219508, 468.5303901090164, 271.4504107919949, 143.03313732749433, 141.58424915695053, 204.8711776053148, 149.63475479974718, 222.78478441465674, 184.33337710547366, 163.76709399106298, 154.26554952207937, 29.714451031294477, 224.72945077913857, 44.25366096219684, 13.966249672041606, 19.223347838808195, 21.44651557029813, 17.74522181269473, 21.748820882433744, 15.502156535207991, 36.367255642146375, 25.205737485590316, 16.69383063326994, 25.149560338887873, 19.605012672906877, 16.597213551104872, 170.6279255612842, 21.426259403782, 17.481401701641786, 21.93413677304388, 17.328257270577005, 16.679224844513612, 30.747978531329682, 310.46911800385044, 21.89889430961477, 51.69524887979575, 27.39077021819485, 19.27866294933274, 25.461122437949403, 28.94370650503569, 38.40101449484558, 61.72252441497772, 121.18852097184673, 129.56414529216798, 358.317136462317, 344.04591202821786, 359.8692864778784, 276.34999546906477, 844.0135336466656, 206.25698527754497, 250.68405357198037, 311.91391757663337, 230.92273622991124, 141.51812219487798, 228.82235814383907, 454.1417245242788, 409.0419312782032, 63.85312764453734, 210.93032584558978, 166.5150027940782, 180.57563448378068, 135.69904126120352, 73.9395503104409, 145.66896108459608, 110.39798984970143, 543.9435890748537, 160.06400893406075, 148.95290137360305, 411.5412435442269, 460.3527490632747, 348.81938348605127, 425.59006264442917, 354.52714052893975, 219.5686422218093, 198.96546573613386, 180.50007162506205, 152.84461757597197, 159.76781869106208, 156.88900846703527, 26.88540545467027, 172.26190698443278, 25.907525306316728, 20.599258889521924, 35.50904361997977, 11.610010254363544, 17.07884017386596, 1531.5524107676035, 51.55752541849396, 82.5902078899228, 48.934192829509165, 37.4360097242428, 62.4820995733179, 16.055738055445897, 136.9823403990188, 12.823373336432997, 12.554039579405226, 396.94309433401423, 13.574646836780193, 12.541464911013325, 13.325378185797657, 323.7968663681545, 8.695578482994753, 21.675113560928406, 13.98869507981943, 401.0821783709545, 22.98845090214159, 16.293344506491174, 41.506411900967436, 19.144896245022693, 98.01957273290375, 87.69020902737333, 75.07257181849099, 686.403285992577, 708.5355855581887, 234.90641423364113, 627.2364427501325, 41.472114461565035, 43.41243555783883, 119.09279333037495, 779.5744546644736, 74.28143574116375, 81.54645103185482, 126.64385033622248, 197.04442308587252, 566.0115390354555, 104.65832186517406, 283.1791435422683, 209.50729360126738, 193.1507470634467, 107.99371104722995, 488.4100964402081, 277.51759041610046, 128.06990387691533, 174.0634927303342, 317.3738110622625, 402.6207590938303, 126.26374157062544, 371.86110792575187, 260.4958635748016, 256.4498897927821, 201.4453880783747, 160.56451303015209, 161.96215710387213, 148.66587085457888, 181.38023519699482], \"Total\": [6968.0, 2517.0, 7115.0, 4723.0, 7525.0, 1789.0, 2559.0, 1901.0, 3448.0, 2185.0, 1430.0, 736.0, 3285.0, 1176.0, 1766.0, 2683.0, 3448.0, 2015.0, 1927.0, 2945.0, 4008.0, 1682.0, 827.0, 2040.0, 2423.0, 2154.0, 1896.0, 2062.0, 2241.0, 732.0, 26.6327810237963, 22.90819081048558, 38.93748130401251, 104.80105513418201, 21.003251691920703, 59.68858802239025, 38.768802085296706, 21.538102977092667, 632.7348265182985, 31.616441453282544, 359.7459807493336, 47.224935289122264, 29.257685699219238, 44.46517983689247, 25.61595446976303, 62.66262967736437, 85.67349831811232, 28.17313896432295, 119.72313466724381, 30.99246361616166, 65.83946158764198, 51.81229066145823, 521.8630755524551, 46.276492067803865, 471.22787331548045, 33.846064449224585, 199.8547336263524, 73.40738753775636, 39.60091209799072, 114.68873968368084, 447.66170940710714, 7115.806563774946, 4723.091644286158, 237.52179556205706, 152.49152224913374, 628.3166185719832, 410.4167011474226, 948.7482224772518, 341.53240036010743, 415.9555322993572, 2000.747721370017, 479.2741343100089, 318.0245469272477, 2279.428928066371, 460.1190112103709, 482.09996167024184, 2423.7172083161813, 1092.9753416023393, 288.08143256760485, 2517.694448736962, 2572.4442547699327, 2169.6951377929227, 3448.685942790238, 2683.1457559093387, 571.7336954820145, 422.9311716870317, 1615.7345771007915, 2062.9658890952933, 1721.9206872687218, 2154.2897676699504, 2185.9574779331656, 1896.085871737522, 7525.296455999721, 1041.2933123259315, 4008.201831670037, 6968.854373240394, 2945.4413658159947, 1682.1207948225806, 35.60690635832419, 49.02746130981031, 28.120281444120078, 30.454163477298998, 43.2554397997167, 133.38482608426511, 34.26724008591768, 24.006632896963097, 43.367687282260064, 37.29123247153212, 67.7790257142291, 21.666718552163882, 230.08877156662763, 24.29858065649181, 65.62761918313963, 30.448403422156343, 21.942584847733027, 22.275928474617825, 33.39668628513407, 34.31252700262262, 25.61506888194228, 30.73971183429677, 39.680660183813174, 24.389560403222315, 2559.4512783351774, 22.609215308299284, 142.94822508378292, 80.54911976094621, 42.31801237452301, 52.39360270521342, 160.35042367642836, 195.99071294056392, 638.5622799441987, 1896.085871737522, 7525.296455999721, 732.7710777602897, 136.8650980531091, 348.9124832967086, 968.6472226010574, 1398.7318884094511, 133.63696239994817, 936.0671613944829, 562.4113783917647, 4008.201831670037, 617.2317683602872, 2572.4442547699327, 460.1190112103709, 1281.8028641477695, 3448.635845787008, 1092.9753416023393, 2062.9658890952933, 696.1063932834602, 298.41223364274276, 2279.428928066371, 383.36202055505987, 505.6985444492062, 1079.3667463149804, 3285.735912283352, 2169.6951377929227, 3448.685942790238, 2154.2897676699504, 1693.2325792937131, 2517.694448736962, 2040.9099698876773, 898.4998487817026, 2096.422683584368, 7115.806563774946, 2945.4413658159947, 29.940771513698582, 28.211267917376343, 72.03762932190988, 20.870850109217994, 25.634286370403423, 33.701007893077495, 27.332658901155444, 47.788645133691034, 30.789638656658862, 37.57113668959953, 20.105922463512957, 29.407558844706468, 78.23797876598044, 30.55858913512462, 17.756975671019052, 34.89116625763421, 21.197773236532058, 24.563902352387508, 48.40660044109649, 20.050631806701155, 169.34150630226083, 24.30302811926388, 26.979010273006534, 113.37250932338557, 22.90155242697814, 41.67750854931239, 234.41141516561814, 54.80451271929595, 231.36397585414267, 23.963908022782864, 181.48160019683434, 224.68836124963974, 2040.9099698876773, 120.59804778207868, 96.72829379632199, 445.28048024247295, 302.68601327324063, 1901.071832561524, 339.0136874915499, 1293.6350447141701, 1345.7987488867147, 249.06503095445768, 2945.4413658159947, 788.3576131472153, 161.23002252353763, 863.7342009986533, 891.5624960813407, 948.5375197339964, 7525.296455999721, 4008.201831670037, 521.2826284661642, 489.45026620371783, 2423.7172083161813, 827.005144714196, 696.1063932834602, 664.0755379356049, 439.8116462357654, 590.5648060564054, 1721.9206872687218, 2572.4442547699327, 3448.635845787008, 6968.854373240394, 7115.806563774946, 1065.3716838810478, 2185.9574779331656, 3448.685942790238, 2683.1457559093387, 2154.2897676699504, 2559.4512783351774, 3285.735912283352, 23.36792478679437, 37.69369379219374, 26.272640563544208, 83.92324765814355, 22.807024438097937, 26.84321038374481, 22.054570985710274, 19.639238002338203, 33.4593162731248, 26.630522532999592, 371.4058019393836, 61.81320981091961, 27.791171814897268, 28.353705372522217, 23.563231928905225, 44.49507247716128, 23.399345339329653, 475.1751709383589, 42.55849176995059, 24.578182373659324, 20.634674509977096, 63.86496976000066, 32.17827062428276, 151.57060623684487, 1430.2328720591563, 29.795277434287343, 59.584430420419004, 39.229860513301084, 35.300747735694074, 184.517395123512, 62.181537578719485, 173.56833120466024, 480.241834000297, 144.7493841538734, 869.6544849507366, 146.83790919963454, 331.8226343454864, 218.88710126413778, 1766.7489170976835, 449.1743477679668, 264.85774137845993, 246.95157531052274, 136.09639561330582, 977.0514123745687, 451.24640027082404, 2015.2338944915039, 2241.8198648224384, 272.04902012257264, 697.8635434199269, 2169.6951377929227, 512.4818893660048, 538.2248516200211, 628.3166185719832, 1046.0445294474184, 7115.806563774946, 1065.3716838810478, 1615.7345771007915, 820.8734397337336, 2000.747721370017, 2683.1457559093387, 2423.7172083161813, 1927.9293053407812, 2572.4442547699327, 7525.296455999721, 4723.091644286158, 2945.4413658159947, 3285.735912283352, 936.0671613944829, 2096.422683584368, 4008.201831670037, 25.34694880770179, 31.629929990319475, 20.736114403700718, 37.415390236533305, 22.854983421231786, 25.061532945055905, 118.58116787965804, 51.779664603799844, 32.10540172078245, 36.33350168797241, 29.865808364368217, 23.206768560734034, 66.2181102694395, 23.438210078466707, 160.63866366054805, 38.936442455724915, 21.89308653907193, 42.3342267479316, 25.80787067975291, 21.844089526984376, 27.677172217005158, 282.3838907925742, 21.170050517976833, 81.79912992055426, 208.38573491732956, 29.62811193876073, 34.8707878939392, 388.79297808572704, 26.19819666558079, 28.211462880388645, 118.79708136404865, 96.63041021748926, 770.2635130645871, 565.5577601995226, 674.0259683757578, 826.604311798653, 151.74657570384582, 3448.685942790238, 6968.854373240394, 2096.422683584368, 249.02239786761135, 145.4038052682568, 237.20075098848298, 1766.7489170976835, 3285.735912283352, 577.2133064809284, 788.3576131472153, 595.4782592107318, 1041.2933123259315, 715.2744105303158, 1721.9206872687218, 4008.201831670037, 513.9984425401769, 2000.747721370017, 627.9905478614082, 7525.296455999721, 430.89907555723477, 1476.1856784460706, 705.3255778503408, 2040.9099698876773, 1896.085871737522, 1281.8028641477695, 3448.635845787008, 2169.6951377929227, 2241.8198648224384, 7115.806563774946, 2945.4413658159947, 22.550880617498947, 19.196309679388904, 24.89234473131802, 21.65550351831611, 29.490718195257998, 31.145699693892634, 21.317001545098194, 22.329385117673674, 28.994359504517746, 46.75067639103018, 23.67894227436327, 21.142161006527814, 31.061119016019923, 19.669006460532344, 21.370945721919533, 54.61325975679306, 19.549586474962567, 44.33729592424988, 63.33816850528047, 36.58696470003661, 20.405268391420275, 33.953756096291855, 29.90065386003776, 32.90657305235158, 344.3153938600076, 52.5103563376376, 210.76878943574505, 33.81068951654985, 22.324532063524487, 449.2884072188267, 119.32238365716414, 400.32294631669055, 980.6031755648877, 226.77127986388774, 281.39799660832614, 2154.2897676699504, 2015.2338944915039, 371.8006004315984, 6968.854373240394, 2062.9658890952933, 198.26833551034596, 670.878058905297, 1476.1856784460706, 1693.2325792937131, 1345.7987488867147, 176.22114634587834, 1154.8187337610068, 7525.296455999721, 439.8116462357654, 222.872902198796, 4008.201831670037, 1721.9206872687218, 571.9583690575952, 2945.4413658159947, 1240.2769563980112, 259.2257648624519, 3285.735912283352, 1046.0445294474184, 798.7822311237265, 977.0514123745687, 2683.1457559093387, 4723.091644286158, 1615.7345771007915, 7115.806563774946, 2559.4512783351774, 1398.7318884094511, 1901.071832561524, 1927.9293053407812, 1789.1149684323752, 21.868981190676948, 61.70999368576297, 56.540115243675224, 28.4954126935723, 23.34577997961824, 23.59428728051017, 21.657020898849186, 29.435350788412677, 20.981512976051206, 28.20270386063908, 736.7919289525731, 23.07417213011558, 113.28519300858738, 34.38514462738878, 45.66109134016668, 24.60629381049279, 28.489923912662544, 32.13933155930242, 31.656789056842914, 30.655039014960828, 80.10627178518722, 45.62984564169344, 25.10672647230791, 66.30846341347052, 36.096882286814974, 47.42250685232955, 38.65296312941796, 1789.1149684323752, 69.74082860325355, 62.87856180194971, 1176.0253378773718, 179.25500671035746, 2185.9574779331656, 153.37534479399696, 180.91741955813794, 650.1643138736755, 252.3400955851847, 212.07217122413064, 812.2379011641791, 370.3771680440399, 1079.3667463149804, 227.8760330899526, 162.88968683876433, 6968.854373240394, 2241.8198648224384, 191.71777098285625, 180.74054750595934, 2279.428928066371, 451.89894901488185, 479.9524494813994, 137.8654098192078, 117.05148269505248, 577.2133064809284, 439.3494902261551, 1476.1856784460706, 2096.422683584368, 832.5623416771283, 1281.8028641477695, 3448.635845787008, 7115.806563774946, 2423.7172083161813, 2683.1457559093387, 1927.9293053407812, 2154.2897676699504, 1185.5368435165465, 1046.0445294474184, 1766.7489170976835, 763.6823254141883, 2572.4442547699327, 4723.091644286158, 2169.6951377929227, 1682.1207948225806, 3285.735912283352, 24.712838491713928, 21.06512127200372, 29.464737300918927, 18.36539904374444, 36.61357383330406, 23.97401716468202, 446.1527308749916, 53.168963277604156, 57.991162090953544, 19.783151273330603, 49.61438929888703, 37.131064456911886, 37.48400770519283, 33.65310505767044, 36.540844593165396, 54.62590747630541, 56.18369297249094, 22.52941930097032, 102.85020679642962, 20.932930780024662, 24.321371827150976, 22.579262505119374, 25.83272405802332, 63.61881609231146, 45.089971406695746, 21.46509830095362, 32.76083017784093, 24.987390513211448, 213.49528087538374, 35.47734788942381, 106.51059645589481, 286.154869557249, 358.72740645047236, 528.0111505652906, 747.4183496503906, 165.0233291682883, 694.8738087970137, 91.64600262863934, 175.58619282880656, 3448.635845787008, 203.6845624256094, 773.9252457407772, 4723.091644286158, 1240.2769563980112, 731.2570409810133, 2423.7172083161813, 241.5406554609426, 1065.3716838810478, 6968.854373240394, 192.48246947153817, 1281.8028641477695, 2000.747721370017, 948.5375197339964, 260.504246132393, 454.87885781502877, 310.7560740148921, 2169.6951377929227, 1476.1856784460706, 2154.2897676699504, 7525.296455999721, 3448.685942790238, 2241.8198648224384, 1896.085871737522, 7115.806563774946, 2559.4512783351774, 638.5622799441987, 697.8635434199269, 2015.2338944915039, 820.8734397337336, 4008.201831670037, 2945.4413658159947, 2096.422683584368, 178.9251746903249, 34.66299724467218, 277.1319331038917, 55.20727440299091, 17.608709017230684, 24.307896246310513, 28.18408952814177, 23.528155975358768, 28.989899095564045, 20.876638879424583, 49.184897125411304, 34.97727601719314, 23.311338133409116, 35.29699439703459, 27.942229061712492, 23.88991526118561, 245.77042930999053, 31.09757291811406, 25.674057463941026, 32.902030883899464, 26.34172875262679, 25.356544861107214, 47.04648631997373, 476.13905986433605, 34.3533358390719, 82.6154239178394, 43.89737535612412, 31.914204289849092, 42.2565641085488, 48.329874007278825, 64.52104538916015, 106.2871571608513, 231.5886376087649, 251.10683327533815, 794.5354368918343, 763.6823254141883, 945.515344223456, 691.4136800130426, 2683.1457559093387, 492.78179402123897, 629.526489622576, 832.5623416771283, 604.1600444484369, 346.45566562572986, 664.0755379356049, 1693.2325792937131, 1615.7345771007915, 130.18241676855223, 715.2744105303158, 510.5541193848461, 576.8856288280226, 384.3219028445854, 162.4227792687209, 449.4408320565188, 298.07496848122463, 3448.685942790238, 582.9883304593383, 525.0406109107435, 3285.735912283352, 4723.091644286158, 3448.635845787008, 7115.806563774946, 7525.296455999721, 1927.9293053407812, 2572.4442547699327, 2096.422683584368, 798.7822311237265, 2241.8198648224384, 2062.9658890952933, 29.713380844263447, 194.7415254556376, 35.13509152289857, 29.278847439322043, 52.26365040998409, 18.340724439573716, 27.40669158010055, 2517.694448736962, 85.43253910444344, 136.98603617329786, 81.80963836210415, 63.5947804383476, 107.25224382460603, 29.015143304314016, 247.86397522626126, 23.409883994444545, 23.103419583086435, 732.3889365521616, 25.70901992044746, 23.84688433166579, 26.861022445005666, 658.8652653503698, 17.752678304744023, 44.45985065740278, 28.81058701925381, 827.005144714196, 47.897028626003404, 34.01008102835346, 88.64130054315766, 40.89735715735394, 217.69756277589477, 194.16740687058584, 166.8310743173982, 1682.1207948225806, 1901.071832561524, 581.2891907171892, 1927.9293053407812, 91.96967642358135, 98.24746704293396, 341.53240036010743, 3285.735912283352, 194.4740185963177, 218.7778202477232, 397.66527777582365, 717.5784613924254, 2945.4413658159947, 370.67683428568677, 1789.1149684323752, 1185.5368435165465, 1154.8187337610068, 417.66010885364165, 7525.296455999721, 2572.4442547699327, 582.9883304593383, 1092.9753416023393, 4008.201831670037, 6968.854373240394, 571.9583690575952, 7115.806563774946, 3448.685942790238, 3448.635845787008, 2279.428928066371, 1293.6350447141701, 2062.9658890952933, 1398.7318884094511, 4723.091644286158], \"Category\": [\"Default\", \"Default\", \"Default\", \"Default\", \"Default\", \"Default\", \"Default\", \"Default\", \"Default\", \"Default\", \"Default\", \"Default\", \"Default\", \"Default\", \"Default\", \"Default\", \"Default\", \"Default\", \"Default\", \"Default\", \"Default\", \"Default\", \"Default\", \"Default\", \"Default\", \"Default\", \"Default\", \"Default\", \"Default\", \"Default\", \"Topic1\", \"Topic1\", \"Topic1\", \"Topic1\", \"Topic1\", \"Topic1\", \"Topic1\", \"Topic1\", \"Topic1\", \"Topic1\", \"Topic1\", \"Topic1\", \"Topic1\", \"Topic1\", \"Topic1\", \"Topic1\", \"Topic1\", \"Topic1\", \"Topic1\", \"Topic1\", \"Topic1\", \"Topic1\", \"Topic1\", \"Topic1\", \"Topic1\", \"Topic1\", \"Topic1\", \"Topic1\", \"Topic1\", \"Topic1\", \"Topic1\", \"Topic1\", \"Topic1\", \"Topic1\", \"Topic1\", \"Topic1\", \"Topic1\", \"Topic1\", \"Topic1\", \"Topic1\", \"Topic1\", \"Topic1\", \"Topic1\", \"Topic1\", \"Topic1\", \"Topic1\", \"Topic1\", \"Topic1\", \"Topic1\", \"Topic1\", \"Topic1\", \"Topic1\", \"Topic1\", \"Topic1\", \"Topic1\", \"Topic1\", \"Topic1\", \"Topic1\", \"Topic1\", \"Topic1\", \"Topic1\", \"Topic1\", \"Topic1\", \"Topic1\", \"Topic1\", \"Topic1\", \"Topic1\", \"Topic1\", \"Topic2\", \"Topic2\", \"Topic2\", \"Topic2\", \"Topic2\", \"Topic2\", \"Topic2\", \"Topic2\", \"Topic2\", \"Topic2\", \"Topic2\", \"Topic2\", \"Topic2\", \"Topic2\", \"Topic2\", \"Topic2\", \"Topic2\", \"Topic2\", \"Topic2\", \"Topic2\", \"Topic2\", \"Topic2\", \"Topic2\", \"Topic2\", \"Topic2\", \"Topic2\", \"Topic2\", \"Topic2\", \"Topic2\", \"Topic2\", \"Topic2\", \"Topic2\", \"Topic2\", \"Topic2\", \"Topic2\", \"Topic2\", \"Topic2\", \"Topic2\", \"Topic2\", \"Topic2\", \"Topic2\", \"Topic2\", \"Topic2\", \"Topic2\", \"Topic2\", \"Topic2\", \"Topic2\", \"Topic2\", \"Topic2\", \"Topic2\", \"Topic2\", \"Topic2\", \"Topic2\", \"Topic2\", \"Topic2\", \"Topic2\", \"Topic2\", \"Topic2\", \"Topic2\", \"Topic2\", \"Topic2\", \"Topic2\", \"Topic2\", \"Topic2\", \"Topic2\", \"Topic2\", \"Topic2\", \"Topic2\", \"Topic3\", \"Topic3\", \"Topic3\", \"Topic3\", \"Topic3\", \"Topic3\", \"Topic3\", \"Topic3\", \"Topic3\", \"Topic3\", \"Topic3\", \"Topic3\", \"Topic3\", \"Topic3\", \"Topic3\", \"Topic3\", \"Topic3\", \"Topic3\", \"Topic3\", \"Topic3\", \"Topic3\", \"Topic3\", \"Topic3\", \"Topic3\", \"Topic3\", \"Topic3\", \"Topic3\", \"Topic3\", \"Topic3\", \"Topic3\", \"Topic3\", \"Topic3\", \"Topic3\", \"Topic3\", \"Topic3\", \"Topic3\", \"Topic3\", \"Topic3\", \"Topic3\", \"Topic3\", \"Topic3\", \"Topic3\", \"Topic3\", \"Topic3\", \"Topic3\", \"Topic3\", \"Topic3\", \"Topic3\", \"Topic3\", \"Topic3\", \"Topic3\", \"Topic3\", \"Topic3\", \"Topic3\", \"Topic3\", \"Topic3\", \"Topic3\", \"Topic3\", \"Topic3\", \"Topic3\", \"Topic3\", \"Topic3\", \"Topic3\", \"Topic3\", \"Topic3\", \"Topic3\", \"Topic3\", \"Topic3\", \"Topic3\", \"Topic3\", \"Topic4\", \"Topic4\", \"Topic4\", \"Topic4\", \"Topic4\", \"Topic4\", \"Topic4\", \"Topic4\", \"Topic4\", \"Topic4\", \"Topic4\", \"Topic4\", \"Topic4\", \"Topic4\", \"Topic4\", \"Topic4\", \"Topic4\", \"Topic4\", \"Topic4\", \"Topic4\", \"Topic4\", \"Topic4\", \"Topic4\", \"Topic4\", \"Topic4\", \"Topic4\", \"Topic4\", \"Topic4\", \"Topic4\", \"Topic4\", \"Topic4\", \"Topic4\", \"Topic4\", \"Topic4\", \"Topic4\", \"Topic4\", \"Topic4\", \"Topic4\", \"Topic4\", \"Topic4\", \"Topic4\", \"Topic4\", \"Topic4\", \"Topic4\", \"Topic4\", \"Topic4\", \"Topic4\", \"Topic4\", \"Topic4\", \"Topic4\", \"Topic4\", \"Topic4\", \"Topic4\", \"Topic4\", \"Topic4\", \"Topic4\", \"Topic4\", \"Topic4\", \"Topic4\", \"Topic4\", \"Topic4\", \"Topic4\", \"Topic4\", \"Topic4\", \"Topic4\", \"Topic4\", \"Topic4\", \"Topic4\", \"Topic4\", \"Topic4\", \"Topic5\", \"Topic5\", \"Topic5\", \"Topic5\", \"Topic5\", \"Topic5\", \"Topic5\", \"Topic5\", \"Topic5\", \"Topic5\", \"Topic5\", \"Topic5\", \"Topic5\", \"Topic5\", \"Topic5\", \"Topic5\", \"Topic5\", \"Topic5\", \"Topic5\", \"Topic5\", \"Topic5\", \"Topic5\", \"Topic5\", \"Topic5\", \"Topic5\", \"Topic5\", \"Topic5\", \"Topic5\", \"Topic5\", \"Topic5\", \"Topic5\", \"Topic5\", \"Topic5\", \"Topic5\", \"Topic5\", \"Topic5\", \"Topic5\", \"Topic5\", \"Topic5\", \"Topic5\", \"Topic5\", \"Topic5\", \"Topic5\", \"Topic5\", \"Topic5\", \"Topic5\", \"Topic5\", \"Topic5\", \"Topic5\", \"Topic5\", \"Topic5\", \"Topic5\", \"Topic5\", \"Topic5\", \"Topic5\", \"Topic5\", \"Topic5\", \"Topic5\", \"Topic5\", \"Topic5\", \"Topic5\", \"Topic5\", \"Topic5\", \"Topic5\", \"Topic5\", \"Topic5\", \"Topic5\", \"Topic6\", \"Topic6\", \"Topic6\", \"Topic6\", \"Topic6\", \"Topic6\", \"Topic6\", \"Topic6\", \"Topic6\", \"Topic6\", \"Topic6\", \"Topic6\", \"Topic6\", \"Topic6\", \"Topic6\", \"Topic6\", \"Topic6\", \"Topic6\", \"Topic6\", \"Topic6\", \"Topic6\", \"Topic6\", \"Topic6\", \"Topic6\", \"Topic6\", \"Topic6\", \"Topic6\", \"Topic6\", \"Topic6\", \"Topic6\", \"Topic6\", \"Topic6\", \"Topic6\", \"Topic6\", \"Topic6\", \"Topic6\", \"Topic6\", \"Topic6\", \"Topic6\", \"Topic6\", \"Topic6\", \"Topic6\", \"Topic6\", \"Topic6\", \"Topic6\", \"Topic6\", \"Topic6\", \"Topic6\", \"Topic6\", \"Topic6\", \"Topic6\", \"Topic6\", \"Topic6\", \"Topic6\", \"Topic6\", \"Topic6\", \"Topic6\", \"Topic6\", \"Topic6\", \"Topic6\", \"Topic6\", \"Topic6\", \"Topic6\", \"Topic6\", \"Topic6\", \"Topic6\", \"Topic6\", \"Topic6\", \"Topic6\", \"Topic7\", \"Topic7\", \"Topic7\", \"Topic7\", \"Topic7\", \"Topic7\", \"Topic7\", \"Topic7\", \"Topic7\", \"Topic7\", \"Topic7\", \"Topic7\", \"Topic7\", \"Topic7\", \"Topic7\", \"Topic7\", \"Topic7\", \"Topic7\", \"Topic7\", \"Topic7\", \"Topic7\", \"Topic7\", \"Topic7\", \"Topic7\", \"Topic7\", \"Topic7\", \"Topic7\", \"Topic7\", \"Topic7\", \"Topic7\", \"Topic7\", \"Topic7\", \"Topic7\", \"Topic7\", \"Topic7\", \"Topic7\", \"Topic7\", \"Topic7\", \"Topic7\", \"Topic7\", \"Topic7\", \"Topic7\", \"Topic7\", \"Topic7\", \"Topic7\", \"Topic7\", \"Topic7\", \"Topic7\", \"Topic7\", \"Topic7\", \"Topic7\", \"Topic7\", \"Topic7\", \"Topic7\", \"Topic7\", \"Topic7\", \"Topic7\", \"Topic7\", \"Topic7\", \"Topic7\", \"Topic7\", \"Topic7\", \"Topic7\", \"Topic7\", \"Topic7\", \"Topic7\", \"Topic7\", \"Topic7\", \"Topic7\", \"Topic7\", \"Topic7\", \"Topic7\", \"Topic7\", \"Topic8\", \"Topic8\", \"Topic8\", \"Topic8\", \"Topic8\", \"Topic8\", \"Topic8\", \"Topic8\", \"Topic8\", \"Topic8\", \"Topic8\", \"Topic8\", \"Topic8\", \"Topic8\", \"Topic8\", \"Topic8\", \"Topic8\", \"Topic8\", \"Topic8\", \"Topic8\", \"Topic8\", \"Topic8\", \"Topic8\", \"Topic8\", \"Topic8\", \"Topic8\", \"Topic8\", \"Topic8\", \"Topic8\", \"Topic8\", \"Topic8\", \"Topic8\", \"Topic8\", \"Topic8\", \"Topic8\", \"Topic8\", \"Topic8\", \"Topic8\", \"Topic8\", \"Topic8\", \"Topic8\", \"Topic8\", \"Topic8\", \"Topic8\", \"Topic8\", \"Topic8\", \"Topic8\", \"Topic8\", \"Topic8\", \"Topic8\", \"Topic8\", \"Topic8\", \"Topic8\", \"Topic8\", \"Topic8\", \"Topic8\", \"Topic8\", \"Topic8\", \"Topic8\", \"Topic8\", \"Topic8\", \"Topic8\", \"Topic8\", \"Topic8\", \"Topic8\", \"Topic8\", \"Topic8\", \"Topic8\", \"Topic8\", \"Topic8\", \"Topic8\", \"Topic8\", \"Topic9\", \"Topic9\", \"Topic9\", \"Topic9\", \"Topic9\", \"Topic9\", \"Topic9\", \"Topic9\", \"Topic9\", \"Topic9\", \"Topic9\", \"Topic9\", \"Topic9\", \"Topic9\", \"Topic9\", \"Topic9\", \"Topic9\", \"Topic9\", \"Topic9\", \"Topic9\", \"Topic9\", \"Topic9\", \"Topic9\", \"Topic9\", \"Topic9\", \"Topic9\", \"Topic9\", \"Topic9\", \"Topic9\", \"Topic9\", \"Topic9\", \"Topic9\", \"Topic9\", \"Topic9\", \"Topic9\", \"Topic9\", \"Topic9\", \"Topic9\", \"Topic9\", \"Topic9\", \"Topic9\", \"Topic9\", \"Topic9\", \"Topic9\", \"Topic9\", \"Topic9\", \"Topic9\", \"Topic9\", \"Topic9\", \"Topic9\", \"Topic9\", \"Topic9\", \"Topic9\", \"Topic9\", \"Topic9\", \"Topic9\", \"Topic9\", \"Topic9\", \"Topic9\", \"Topic9\", \"Topic9\", \"Topic9\", \"Topic9\", \"Topic9\", \"Topic9\", \"Topic9\", \"Topic9\", \"Topic9\", \"Topic9\", \"Topic10\", \"Topic10\", \"Topic10\", \"Topic10\", \"Topic10\", \"Topic10\", \"Topic10\", \"Topic10\", \"Topic10\", \"Topic10\", \"Topic10\", \"Topic10\", \"Topic10\", \"Topic10\", \"Topic10\", \"Topic10\", \"Topic10\", \"Topic10\", \"Topic10\", \"Topic10\", \"Topic10\", \"Topic10\", \"Topic10\", \"Topic10\", \"Topic10\", \"Topic10\", \"Topic10\", \"Topic10\", \"Topic10\", \"Topic10\", \"Topic10\", \"Topic10\", \"Topic10\", \"Topic10\", \"Topic10\", \"Topic10\", \"Topic10\", \"Topic10\", \"Topic10\", \"Topic10\", \"Topic10\", \"Topic10\", \"Topic10\", \"Topic10\", \"Topic10\", \"Topic10\", \"Topic10\", \"Topic10\", \"Topic10\", \"Topic10\", \"Topic10\", \"Topic10\", \"Topic10\", \"Topic10\", \"Topic10\", \"Topic10\", \"Topic10\", \"Topic10\", \"Topic10\", \"Topic10\", \"Topic10\", \"Topic10\", \"Topic10\", \"Topic10\", \"Topic10\", \"Topic10\"], \"logprob\": [30.0, 29.0, 28.0, 27.0, 26.0, 25.0, 24.0, 23.0, 22.0, 21.0, 20.0, 19.0, 18.0, 17.0, 16.0, 15.0, 14.0, 13.0, 12.0, 11.0, 10.0, 9.0, 8.0, 7.0, 6.0, 5.0, 4.0, 3.0, 2.0, 1.0, -7.4785, -7.6436, -7.1228, -6.1785, -7.7986, -6.7671, -7.2086, -7.7965, -4.4379, -7.4551, -5.043, -7.0779, -7.5583, -7.1687, -7.7259, -6.8476, -6.5916, -7.7193, -6.2747, -7.6287, -6.8949, -7.1373, -4.8371, -7.2601, -4.9474, -7.5947, -5.8245, -6.8266, -7.4719, -6.4111, -5.0499, -2.4503, -2.878, -5.7202, -6.1528, -4.951, -5.3278, -4.6088, -5.5098, -5.4236, -4.1928, -5.3417, -5.6646, -4.2544, -5.492, -5.4687, -4.3557, -4.9875, -5.8687, -4.5323, -4.5715, -4.6723, -4.4027, -4.5925, -5.5062, -5.6811, -5.0646, -4.9814, -5.0662, -4.9995, -5.0204, -5.0686, -4.6695, -5.2753, -4.9904, -4.8743, -5.2046, -5.2587, -7.0829, -6.778, -7.3763, -7.3512, -7.0409, -5.9361, -7.3029, -7.674, -7.0834, -7.2933, -6.723, -7.864, -5.5086, -7.7633, -6.8018, -7.5768, -7.919, -7.9112, -7.5074, -7.4858, -7.7882, -7.6069, -7.3516, -7.8683, -3.2526, -8.0016, -6.1651, -6.7463, -7.3952, -7.1887, -6.0986, -5.921, -4.8288, -3.8774, -2.6469, -4.7585, -6.2887, -5.4703, -4.598, -4.2871, -6.3284, -4.701, -5.1295, -3.56, -5.1054, -4.0082, -5.3527, -4.58, -3.9127, -4.7872, -4.3533, -5.1328, -5.7423, -4.3492, -5.5937, -5.467, -5.0309, -4.4225, -4.7331, -4.6797, -4.9109, -5.0404, -4.962, -5.0795, -5.3495, -5.2332, -5.1465, -5.3503, -7.0586, -7.1354, -6.2518, -7.4983, -7.2945, -7.0429, -7.2597, -6.7261, -7.1864, -7.0141, -7.7379, -7.3701, -6.4242, -7.3658, -7.9268, -7.2518, -7.7673, -7.6457, -6.9765, -7.8594, -5.7258, -7.6685, -7.5682, -6.1343, -7.739, -7.1504, -5.4246, -6.9054, -5.4729, -7.7427, -5.7351, -5.6366, -3.6336, -6.2135, -6.428, -5.0921, -5.4341, -3.8372, -5.368, -4.2655, -4.2495, -5.6505, -3.6496, -4.7324, -6.0125, -4.714, -4.7826, -4.7888, -3.3657, -3.8063, -5.2148, -5.2595, -4.1894, -4.9504, -5.0815, -5.1201, -5.4023, -5.229, -4.6677, -4.5184, -4.4225, -4.0978, -4.0968, -5.0492, -4.8501, -4.6974, -4.9571, -5.0547, -5.1716, -5.2267, -7.3452, -6.9128, -7.3223, -6.2464, -7.5519, -7.3956, -7.6089, -7.7375, -7.2292, -7.4639, -4.8431, -6.6612, -7.47, -7.4566, -7.6776, -7.0423, -7.6866, -4.691, -7.1061, -7.6555, -7.8314, -6.7036, -7.3958, -5.8471, -3.6043, -7.476, -6.7933, -7.2178, -7.3293, -5.6831, -6.7805, -5.7988, -4.8388, -6.0213, -4.3795, -6.0192, -5.2887, -5.6643, -3.7876, -5.0298, -5.5173, -5.6343, -6.1376, -4.592, -5.2057, -4.0709, -4.0335, -5.6436, -4.9411, -4.0985, -5.2272, -5.1947, -5.0894, -4.7605, -3.524, -4.8059, -4.5666, -5.0214, -4.5819, -4.4558, -4.5497, -4.7079, -4.6231, -4.3371, -4.5371, -4.7096, -4.7915, -5.1416, -5.0612, -5.086, -7.11, -6.9368, -7.3689, -6.7795, -7.2962, -7.2247, -5.7, -6.5347, -7.0165, -6.8981, -7.1019, -7.3682, -6.3263, -7.3834, -5.4806, -6.9084, -7.5263, -6.8707, -7.3799, -7.5849, -7.3719, -5.0538, -7.6445, -6.2984, -5.38, -7.334, -7.1828, -4.7731, -7.4827, -7.4193, -6.0188, -6.2349, -4.3525, -4.7116, -4.58, -4.4467, -5.9054, -3.313, -2.8232, -3.8557, -5.5713, -5.994, -5.6737, -4.2945, -3.8991, -5.0878, -4.8896, -5.0903, -4.7441, -4.9874, -4.4611, -3.9584, -5.2412, -4.4821, -5.1634, -3.8309, -5.3805, -4.9046, -5.2432, -4.8048, -5.0011, -5.1662, -4.9549, -5.0751, -5.1604, -5.0702, -5.2215, -7.3461, -7.5219, -7.3606, -7.5095, -7.2038, -7.1617, -7.544, -7.5014, -7.3132, -6.8364, -7.5349, -7.6689, -7.287, -7.751, -7.676, -6.7472, -7.8393, -7.0533, -6.7029, -7.2621, -7.9178, -7.4199, -7.5726, -7.4781, -5.1372, -7.0223, -5.6365, -7.479, -7.8999, -4.904, -6.2314, -5.0674, -4.31, -5.6811, -5.5259, -3.7711, -3.8348, -5.3355, -2.8887, -3.9202, -5.8713, -4.9877, -4.4538, -4.3737, -4.5815, -6.0416, -4.7179, -3.4203, -5.4295, -5.9089, -4.0264, -4.5792, -5.3088, -4.3056, -4.8486, -5.8356, -4.4125, -5.0684, -5.2358, -5.1305, -4.682, -4.4222, -4.9344, -4.3139, -4.7574, -5.0319, -4.994, -5.0022, -5.1552, -7.4379, -6.4217, -6.522, -7.2258, -7.4359, -7.4305, -7.5221, -7.2263, -7.5843, -7.2907, -4.0359, -7.5178, -5.9358, -7.1596, -6.8968, -7.535, -7.3904, -7.2769, -7.2922, -7.3346, -6.38, -6.9518, -7.5521, -6.5856, -7.2214, -6.9579, -7.1853, -3.3551, -6.6023, -6.7059, -3.8071, -5.7025, -3.3874, -5.8719, -5.7706, -4.6554, -5.4924, -5.6636, -4.5605, -5.2453, -4.4677, -5.7225, -5.9844, -3.1585, -4.0323, -5.8707, -5.9267, -4.0854, -5.3003, -5.2872, -6.1509, -6.2754, -5.2436, -5.4239, -4.6571, -4.4813, -5.0503, -4.8388, -4.3119, -4.1038, -4.6324, -4.6737, -4.8478, -4.9659, -5.1699, -5.2287, -5.1325, -5.3588, -5.1298, -5.0297, -5.1861, -5.2611, -5.2626, -7.2072, -7.4613, -7.1851, -7.6762, -7.0039, -7.4507, -4.5434, -6.6731, -6.5892, -7.6649, -6.7482, -7.0415, -7.0367, -7.1477, -7.0676, -6.7067, -6.6797, -7.6045, -6.0876, -7.6904, -7.5508, -7.6299, -7.5206, -6.6286, -6.982, -7.7329, -7.3251, -7.6028, -5.4742, -7.3033, -6.2113, -5.2368, -5.1312, -4.7799, -4.5538, -5.8925, -4.6429, -6.4087, -5.894, -3.5391, -5.8076, -4.7999, -3.4549, -4.4686, -4.8906, -4.0753, -5.7216, -4.7678, -3.5222, -5.9392, -4.739, -4.4982, -4.9769, -5.7715, -5.4536, -5.681, -4.5743, -4.8052, -4.5989, -3.924, -4.3785, -4.6412, -4.7624, -4.1322, -4.678, -5.3187, -5.3289, -4.9594, -5.2736, -4.8756, -5.065, -5.1833, -5.2338, -6.8808, -4.8576, -6.4825, -7.6358, -7.3163, -7.2069, -7.3963, -7.1929, -7.5315, -6.6788, -7.0454, -7.4574, -7.0476, -7.2967, -7.4632, -5.133, -7.2078, -7.4113, -7.1844, -7.4201, -7.4583, -6.8466, -4.5344, -7.186, -6.3271, -6.9623, -7.3135, -7.0353, -6.9071, -6.6244, -6.1498, -5.4751, -5.4083, -4.391, -4.4317, -4.3867, -4.6508, -3.5343, -4.9433, -4.7483, -4.5297, -4.8304, -5.32, -4.8395, -4.1541, -4.2586, -6.1159, -4.9209, -5.1574, -5.0763, -5.362, -5.9692, -5.2911, -5.5684, -3.9736, -5.1969, -5.2688, -4.2526, -4.1405, -4.4179, -4.219, -4.4017, -4.8808, -4.9793, -5.0767, -5.243, -5.1987, -5.2169, -6.9744, -5.1169, -7.0114, -7.2407, -6.6962, -7.8141, -7.4281, -2.9319, -6.3232, -5.8521, -6.3755, -6.6433, -6.1311, -7.4899, -5.3461, -7.7147, -7.7359, -4.2822, -7.6577, -7.7369, -7.6763, -4.4858, -8.1031, -7.1898, -7.6277, -4.2718, -7.131, -7.4752, -6.5401, -7.3139, -5.6808, -5.7921, -5.9475, -3.7345, -3.7027, -4.8068, -3.8246, -6.5409, -6.4952, -5.486, -3.6072, -5.9581, -5.8648, -5.4246, -4.9825, -3.9273, -5.6152, -4.6199, -4.9212, -5.0025, -5.5839, -4.0748, -4.6401, -5.4134, -5.1065, -4.5059, -4.2679, -5.4276, -4.3474, -4.7034, -4.719, -4.9604, -5.1872, -5.1786, -5.2642, -5.0653], \"loglift\": [30.0, 29.0, 28.0, 27.0, 26.0, 25.0, 24.0, 23.0, 22.0, 21.0, 20.0, 19.0, 18.0, 17.0, 16.0, 15.0, 14.0, 13.0, 12.0, 11.0, 10.0, 9.0, 8.0, 7.0, 6.0, 5.0, 4.0, 3.0, 2.0, 1.0, 1.8844, 1.8699, 1.8603, 1.8145, 1.8018, 1.7888, 1.7788, 1.7787, 1.7571, 1.7362, 1.7167, 1.7122, 1.7106, 1.6817, 1.6759, 1.6597, 1.6029, 1.5873, 1.5852, 1.5826, 1.5629, 1.5602, 1.5505, 1.5503, 1.5423, 1.5286, 1.523, 1.5224, 1.4943, 1.4917, 1.4911, 1.3247, 1.3068, 1.4546, 1.4651, 1.251, 1.3, 1.1811, 1.3018, 1.1909, 0.851, 1.1311, 1.2183, 0.659, 1.0215, 0.9982, 0.4963, 0.6609, 1.1131, 0.2817, 0.2209, 0.2904, 0.0967, 0.1578, 0.7902, 0.9167, 0.1929, 0.0317, 0.1276, -0.0296, -0.0652, 0.0289, -0.9504, 0.4215, -0.6415, -1.0785, -0.5476, -0.0414, 1.9897, 1.9746, 1.9322, 1.8777, 1.837, 1.8158, 1.808, 1.7928, 1.7919, 1.733, 1.7058, 1.7053, 1.698, 1.6914, 1.6593, 1.6522, 1.6377, 1.6304, 1.6292, 1.6237, 1.6137, 1.6126, 1.6125, 1.5826, 1.5449, 1.5251, 1.5175, 1.5099, 1.5046, 1.4976, 1.4691, 1.446, 1.357, 1.2201, 1.0721, 1.2897, 1.4374, 1.3199, 1.1712, 1.1146, 1.4215, 1.1024, 1.1833, 0.7889, 1.1144, 0.7842, 1.1608, 0.909, 0.5866, 0.8612, 0.6599, 0.9668, 1.2043, 0.5641, 1.1024, 0.9521, 0.63, 0.1252, 0.2296, -0.1804, 0.0589, 0.1702, -0.148, -0.0556, 0.4948, -0.2362, -1.3715, -0.6932, 2.1872, 2.1699, 2.1161, 2.1084, 2.1066, 2.0846, 2.0773, 2.0522, 2.0315, 2.0047, 1.9061, 1.8937, 1.8611, 1.8596, 1.8415, 1.841, 1.8239, 1.798, 1.789, 1.7874, 1.7873, 1.7859, 1.7818, 1.7801, 1.7749, 1.7647, 1.7634, 1.7358, 1.7282, 1.7258, 1.7088, 1.5937, 1.3903, 1.6391, 1.6452, 1.4543, 1.4982, 1.2577, 1.451, 1.2143, 1.1908, 1.4768, 1.0075, 1.2427, 1.5498, 1.1698, 1.0695, 1.0014, 0.3533, 0.5427, 1.1739, 1.1923, 0.6626, 0.9768, 1.0181, 1.0266, 1.1565, 1.035, 0.5262, 0.274, 0.0768, -0.302, -0.3218, 0.6248, 0.1051, -0.1981, -0.2068, -0.0849, -0.374, -0.679, 2.1485, 2.1028, 2.0542, 1.9688, 1.9661, 1.9595, 1.9426, 1.9301, 1.9055, 1.8991, 1.8847, 1.8597, 1.8503, 1.8437, 1.8077, 1.8074, 1.8057, 1.7904, 1.7881, 1.7877, 1.7867, 1.7847, 1.778, 1.7769, 1.7752, 1.7747, 1.7644, 1.7578, 1.7518, 1.7442, 1.7345, 1.6897, 1.632, 1.6487, 1.4974, 1.6366, 1.5517, 1.5922, 1.3806, 1.5078, 1.5486, 1.5015, 1.5941, 1.1685, 1.3274, 0.9657, 0.8965, 1.3955, 1.156, 0.8642, 1.1786, 1.1621, 1.1126, 0.9318, 0.251, 0.8681, 0.6909, 0.9133, 0.4619, 0.2945, 0.3023, 0.3729, 0.1693, -0.6181, -0.3522, -0.0526, -0.2438, 0.6617, -0.0641, -0.737, 2.3024, 2.2542, 2.2443, 2.2435, 2.2197, 2.199, 2.1694, 2.1633, 2.1595, 2.1542, 2.1464, 2.1324, 2.1258, 2.1073, 2.0853, 2.0747, 2.0326, 2.0288, 2.0145, 1.9762, 1.9526, 1.948, 1.948, 1.9424, 1.9257, 1.9223, 1.9106, 1.9089, 1.8966, 1.886, 1.8489, 1.8392, 1.6458, 1.5956, 1.5518, 1.481, 1.7174, 1.1863, 0.9726, 1.1414, 1.5562, 1.6715, 1.5024, 0.8737, 0.6486, 1.1991, 1.0855, 1.1654, 0.9527, 1.085, 0.7327, 0.3906, 1.1616, 0.5617, 1.0391, -0.1119, 1.1987, 0.4432, 0.8432, 0.2191, 0.0964, 0.3228, -0.4555, -0.1124, -0.2304, -1.2952, -0.5645, 2.1831, 2.1684, 2.0699, 2.0603, 2.0572, 2.0447, 2.0415, 2.0377, 1.9647, 1.9638, 1.9456, 1.9249, 1.9221, 1.9151, 1.907, 1.8975, 1.8328, 1.7999, 1.7937, 1.7833, 1.7115, 1.7002, 1.6746, 1.6733, 1.6663, 1.6617, 1.6578, 1.6453, 1.6395, 1.6334, 1.6318, 1.5854, 1.4469, 1.54, 1.4794, 1.1987, 1.2018, 1.3912, 0.9071, 1.0929, 1.4841, 1.1488, 0.894, 0.8369, 0.8588, 1.4317, 0.8755, 0.2987, 1.1292, 1.3296, 0.3225, 0.6146, 0.9872, 0.3515, 0.6733, 1.2518, 0.1353, 0.6239, 0.7262, 0.63, 0.0683, -0.2374, 0.3231, -0.5389, 0.0401, 0.3699, 0.1009, 0.0787, 0.0003, 2.1221, 2.1009, 2.0881, 2.0695, 2.0587, 2.0536, 2.0476, 2.0365, 2.0171, 2.0149, 2.0068, 1.9885, 1.9793, 1.9478, 1.927, 1.907, 1.9051, 1.8981, 1.8979, 1.8877, 1.8817, 1.8727, 1.8698, 1.8651, 1.8375, 1.8281, 1.8051, 1.8005, 1.798, 1.798, 1.768, 1.7537, 1.5679, 1.7402, 1.6764, 1.5124, 1.6219, 1.6245, 1.3848, 1.4852, 1.1933, 1.4938, 1.5676, 0.6373, 0.8978, 1.5184, 1.5213, 0.828, 1.2313, 1.1842, 1.5679, 1.6071, 1.0432, 1.1359, 0.6907, 0.5158, 0.8702, 0.6502, 0.1874, -0.3288, 0.2195, 0.0766, 0.2331, 0.004, 0.3972, 0.4636, 0.0356, 0.6481, -0.3374, -0.8449, -0.2234, -0.0439, -0.7149, 2.2305, 2.1362, 2.0768, 2.0584, 2.0407, 2.0173, 2.001, 1.9985, 1.9956, 1.9954, 1.9926, 1.9891, 1.9845, 1.9812, 1.9791, 1.9378, 1.9367, 1.9257, 1.9242, 1.9133, 1.9029, 1.8982, 1.8729, 1.8635, 1.8544, 1.8457, 1.8307, 1.8239, 1.8072, 1.7729, 1.7655, 1.7517, 1.6313, 1.5961, 1.4747, 1.6465, 1.4585, 1.7184, 1.5829, 0.9602, 1.5209, 1.1936, 0.7299, 1.0534, 1.1597, 0.7767, 1.4364, 0.9062, 0.2737, 1.4458, 0.75, 0.5456, 0.8133, 1.311, 1.0714, 1.225, 0.3884, 0.5427, 0.3709, -0.2049, 0.1208, 0.2888, 0.3351, -0.3572, 0.1195, 0.8671, 0.7681, 0.0772, 0.6611, -0.5266, -0.408, -0.1863, 2.2243, 2.2185, 2.163, 2.1514, 2.1408, 2.1379, 2.0994, 2.0905, 2.0852, 2.0749, 2.0707, 2.045, 2.0387, 2.0336, 2.0182, 2.0084, 2.0077, 2.0001, 1.9882, 1.9671, 1.9538, 1.9537, 1.9473, 1.945, 1.9223, 1.9038, 1.9009, 1.8685, 1.866, 1.8599, 1.8537, 1.8291, 1.725, 1.7109, 1.5762, 1.5752, 1.4066, 1.4555, 1.216, 1.5016, 1.4518, 1.3908, 1.4108, 1.4773, 1.3071, 1.0566, 0.9989, 1.6602, 1.1514, 1.2522, 1.2111, 1.3315, 1.5856, 1.2459, 1.3793, 0.5257, 1.08, 1.1127, 0.2952, 0.0444, 0.0814, -0.444, -0.6827, 0.2, -0.1869, -0.0797, 0.7189, -0.2687, -0.2038, 2.2791, 2.2565, 2.0744, 2.0275, 1.9926, 1.9219, 1.9062, 1.882, 1.8741, 1.8731, 1.8652, 1.8492, 1.8388, 1.7874, 1.7861, 1.7772, 1.7692, 1.7666, 1.7405, 1.7365, 1.6781, 1.6687, 1.6654, 1.6607, 1.6566, 1.6555, 1.645, 1.6432, 1.6204, 1.6201, 1.5812, 1.5842, 1.5806, 1.4828, 1.3921, 1.473, 1.2562, 1.5827, 1.5624, 1.3256, 0.9405, 1.4167, 1.3922, 1.2349, 1.0867, 0.7297, 1.1145, 0.5357, 0.6459, 0.5909, 1.0265, -0.3558, 0.1524, 0.8635, 0.5419, -0.1569, -0.4721, 0.8684, -0.5724, -0.2041, -0.2197, -0.0471, 0.2926, -0.1654, 0.1375, -0.8805]}, \"token.table\": {\"Topic\": [2, 3, 6, 7, 10, 1, 2, 3, 4, 5, 6, 7, 8, 9, 10, 5, 6, 7, 9, 10, 1, 2, 3, 4, 5, 6, 7, 8, 9, 10, 6, 7, 8, 9, 1, 2, 3, 4, 5, 6, 7, 8, 9, 10, 1, 2, 3, 4, 5, 6, 8, 9, 10, 1, 2, 3, 5, 7, 9, 1, 2, 3, 4, 5, 6, 7, 8, 9, 10, 1, 2, 3, 6, 8, 9, 10, 1, 3, 6, 10, 1, 2, 3, 5, 6, 7, 8, 9, 10, 2, 3, 7, 9, 1, 3, 6, 8, 2, 4, 7, 8, 2, 3, 6, 7, 1, 2, 3, 4, 5, 6, 7, 8, 10, 2, 6, 9, 10, 1, 2, 3, 4, 5, 6, 8, 9, 10, 1, 2, 3, 4, 5, 6, 7, 8, 9, 10, 1, 2, 3, 4, 5, 6, 7, 8, 9, 10, 1, 2, 3, 4, 5, 6, 7, 8, 9, 10, 1, 2, 3, 4, 5, 6, 7, 8, 9, 10, 1, 2, 3, 4, 5, 6, 7, 8, 9, 10, 2, 5, 8, 10, 4, 5, 6, 9, 10, 3, 4, 7, 10, 1, 2, 3, 4, 5, 6, 7, 8, 9, 10, 2, 3, 5, 8, 10, 1, 2, 3, 4, 5, 6, 7, 8, 9, 10, 1, 2, 3, 4, 5, 6, 7, 8, 9, 10, 5, 8, 10, 1, 2, 3, 4, 5, 6, 7, 8, 9, 10, 1, 2, 3, 4, 6, 7, 8, 1, 2, 3, 4, 5, 6, 7, 8, 9, 10, 4, 5, 7, 10, 1, 2, 3, 4, 5, 6, 7, 8, 9, 10, 2, 3, 4, 7, 8, 9, 10, 1, 2, 3, 4, 5, 6, 7, 8, 9, 10, 1, 2, 4, 5, 6, 8, 9, 10, 3, 4, 7, 10, 1, 2, 3, 4, 5, 6, 7, 8, 9, 10, 3, 8, 1, 4, 8, 1, 2, 3, 4, 5, 6, 7, 8, 9, 10, 1, 2, 3, 5, 6, 7, 9, 10, 3, 9, 10, 1, 6, 7, 8, 9, 10, 1, 2, 3, 4, 5, 6, 7, 8, 9, 10, 1, 2, 3, 4, 5, 6, 7, 8, 9, 10, 1, 2, 3, 4, 5, 6, 7, 8, 9, 10, 1, 7, 8, 10, 1, 2, 3, 4, 5, 6, 7, 8, 9, 10, 1, 3, 5, 7, 9, 2, 4, 6, 7, 8, 10, 1, 2, 3, 4, 5, 6, 7, 8, 9, 10, 1, 2, 3, 4, 5, 6, 7, 8, 9, 10, 1, 2, 4, 9, 10, 3, 4, 6, 1, 2, 3, 4, 5, 6, 7, 8, 9, 10, 3, 4, 6, 7, 8, 9, 10, 1, 2, 3, 4, 5, 6, 7, 8, 9, 10, 1, 2, 3, 4, 5, 6, 7, 8, 9, 10, 1, 2, 3, 4, 5, 6, 7, 9, 10, 1, 5, 6, 4, 6, 7, 8, 1, 2, 4, 6, 9, 4, 5, 1, 2, 3, 4, 5, 6, 7, 8, 9, 10, 2, 3, 5, 6, 8, 9, 1, 4, 6, 7, 8, 10, 1, 5, 6, 8, 9, 1, 2, 3, 4, 5, 6, 7, 8, 10, 1, 6, 7, 8, 1, 3, 5, 6, 7, 1, 2, 4, 6, 1, 3, 4, 5, 6, 7, 8, 9, 10, 1, 2, 3, 4, 5, 6, 7, 8, 9, 10, 4, 5, 6, 9, 1, 2, 3, 4, 5, 6, 7, 8, 9, 10, 1, 3, 4, 5, 6, 8, 9, 10, 2, 3, 4, 5, 7, 8, 10, 1, 2, 3, 4, 5, 6, 7, 8, 9, 10, 6, 8, 9, 1, 2, 3, 4, 5, 6, 7, 8, 9, 10, 1, 5, 7, 8, 2, 3, 4, 5, 6, 8, 9, 1, 2, 3, 4, 5, 6, 7, 8, 10, 1, 6, 10, 1, 3, 4, 5, 8, 10, 1, 2, 3, 4, 5, 6, 7, 8, 9, 10, 1, 2, 3, 4, 5, 6, 7, 8, 9, 10, 1, 2, 3, 4, 5, 6, 7, 8, 9, 10, 1, 2, 3, 4, 9, 1, 3, 4, 7, 8, 9, 2, 7, 1, 2, 3, 4, 5, 6, 8, 9, 1, 2, 3, 4, 5, 6, 7, 8, 9, 10, 1, 2, 3, 4, 5, 6, 7, 8, 9, 10, 1, 2, 3, 4, 5, 6, 7, 8, 9, 10, 1, 2, 3, 4, 5, 6, 10, 1, 2, 4, 6, 7, 8, 9, 10, 3, 4, 5, 6, 10, 1, 6, 7, 9, 1, 2, 3, 4, 5, 6, 7, 8, 9, 10, 1, 2, 3, 4, 5, 6, 7, 8, 9, 10, 1, 2, 3, 4, 5, 6, 7, 8, 9, 10, 2, 4, 5, 2, 3, 5, 6, 2, 3, 6, 7, 9, 1, 2, 3, 4, 5, 6, 7, 8, 10, 1, 2, 3, 4, 5, 6, 7, 8, 9, 10, 1, 2, 3, 4, 6, 7, 8, 9, 10, 1, 2, 4, 5, 7, 8, 9, 10, 1, 2, 3, 4, 5, 6, 7, 9, 10, 1, 2, 4, 5, 6, 7, 8, 1, 2, 3, 4, 5, 6, 7, 8, 9, 10, 2, 3, 7, 10, 1, 2, 3, 7, 8, 9, 10, 1, 2, 3, 4, 5, 6, 7, 8, 9, 10, 1, 2, 4, 5, 6, 7, 8, 9, 1, 2, 3, 4, 5, 6, 7, 8, 9, 10, 3, 4, 6, 2, 4, 5, 6, 7, 9, 10, 1, 2, 3, 4, 5, 6, 8, 10, 1, 2, 3, 4, 5, 6, 7, 8, 9, 10, 3, 5, 6, 9, 1, 3, 6, 8, 1, 2, 3, 4, 5, 6, 7, 8, 9, 10, 1, 8, 9, 10, 1, 2, 3, 4, 5, 6, 7, 8, 9, 10, 2, 3, 4, 7, 8, 1, 2, 3, 4, 5, 6, 7, 8, 9, 10, 1, 2, 3, 4, 5, 6, 7, 8, 9, 10, 1, 3, 5, 9, 10, 1, 2, 3, 4, 5, 6, 7, 8, 10, 1, 2, 3, 4, 5, 6, 7, 8, 9, 10, 1, 2, 4, 5, 6, 7, 8, 9, 10, 4, 5, 1, 2, 3, 4, 5, 6, 7, 8, 9, 10, 1, 3, 5, 6, 8, 9, 10, 1, 3, 4, 5, 6, 7, 8, 9, 10, 1, 2, 3, 4, 5, 6, 7, 8, 9, 10, 1, 2, 3, 4, 5, 6, 7, 8, 9, 10, 1, 2, 3, 4, 5, 6, 7, 8, 9, 10, 2, 9, 10, 1, 2, 3, 4, 5, 6, 7, 8, 9, 10, 3, 6, 1, 2, 3, 4, 5, 6, 7, 8, 9, 10, 1, 2, 3, 4, 5, 10, 4, 6, 7, 9, 10, 2, 4, 6, 7, 8, 9, 5, 7, 1, 2, 3, 4, 5, 6, 7, 8, 9, 10, 1, 2, 3, 4, 5, 6, 7, 8, 9, 10, 1, 3, 4, 5, 6, 7, 8, 9, 10, 1, 2, 3, 4, 5, 6, 7, 8, 9, 10, 1, 2, 3, 4, 5, 6, 7, 10, 1, 2, 3, 4, 6, 7, 1, 2, 3, 4, 5, 6, 7, 8, 9, 10, 1, 2, 3, 5, 8, 10, 3, 5, 6, 7, 1, 2, 5, 6, 7, 1, 2, 3, 4, 5, 6, 7, 8, 9, 10, 1, 3, 4, 6, 7, 9, 10, 3, 4, 7, 1, 2, 4, 5, 6, 1, 3, 4, 5, 6, 7, 8, 2, 3, 6, 7, 8, 10, 4, 8, 10, 5, 9, 10, 1, 2, 3, 4, 5, 6, 7, 8, 9, 10, 1, 2, 3, 4, 5, 6, 8, 9, 10, 1, 2, 5, 8, 9, 10, 1, 2, 3, 4, 5, 6, 7, 8, 9, 10, 1, 2, 3, 4, 5, 6, 7, 8, 9, 10, 1, 2, 3, 4, 5, 6, 7, 8, 9, 10, 1, 2, 6, 7, 9, 10, 1, 2, 3, 4, 5, 6, 7, 8, 9, 10, 1, 2, 3, 4, 5, 6, 7, 8, 9, 10, 1, 5, 6, 7, 8, 10, 1, 3, 4, 5, 7, 10, 1, 2, 3, 4, 5, 6, 7, 8, 9, 10, 1, 2, 3, 4, 5, 6, 7, 8, 9, 10, 1, 2, 3, 4, 5, 6, 7, 8, 9, 10, 1, 2, 3, 4, 5, 6, 7, 8, 9, 10, 1, 2, 3, 4, 5, 6, 7, 8, 9, 10, 1, 2, 3, 4, 5, 6, 7, 8, 9, 10, 1, 2, 3, 4, 5, 6, 7, 8, 9, 10, 1, 2, 3, 4, 5, 6, 7, 8, 9, 10, 1, 2, 3, 4, 5, 6, 7, 8, 9, 10, 1, 2, 3, 4, 5, 7, 8, 9, 10, 1, 2, 3, 4, 5, 6, 7, 8, 9, 10, 1, 2, 3, 4, 6, 7, 1, 2, 3, 4, 5, 6, 7, 8, 9, 10, 2, 4, 6, 8, 9, 1, 2, 3, 5, 6, 8, 9, 10, 1, 2, 3, 4, 6, 8, 9, 10, 1, 2, 3, 4, 5, 6, 7, 8, 9, 10, 2, 3, 4, 7, 9, 10, 2, 3, 5, 7, 9, 1, 2, 3, 4, 5, 6, 7, 8, 9, 10, 1, 2, 6, 7, 8, 9, 10, 1, 2, 3, 4, 5, 6, 7, 8, 9, 10, 1, 3, 5, 6, 7, 9, 10, 2, 9, 1, 2, 3, 4, 5, 6, 7, 8, 9, 10, 1, 2, 3, 4, 6, 7, 8, 9, 10, 1, 3, 4, 5, 6, 7, 8, 10, 1, 2, 3, 4, 5, 6, 7, 8, 9, 10, 3, 6, 7, 10, 1, 2, 3, 4, 5, 6, 7, 8, 9, 10, 1, 2, 3, 4, 5, 6, 7, 8, 9, 10, 1, 5, 6, 7, 9, 10, 1, 3, 5, 1, 2, 7, 9, 3, 4, 5, 8, 10, 1, 3, 4, 5, 6, 8, 10, 1, 2, 3, 4, 6, 8, 9, 1, 2, 3, 6, 8, 9, 10, 1, 3, 4, 6, 7, 8, 10, 1, 2, 3, 4, 5, 6, 7, 8, 9, 10, 1, 4, 7, 9, 2, 6, 9, 1, 2, 4, 5, 7, 8, 1, 5, 9, 10, 6, 8, 9, 10, 1, 6, 9, 10, 1, 2, 3, 4, 5, 6, 7, 8, 9, 10, 5, 6, 8, 7, 8, 9, 2, 3, 5, 1, 2, 3, 4, 5, 6, 7, 8, 9, 10, 1, 2, 3, 4, 5, 6, 7, 8, 9, 10, 1, 3, 5, 7, 9, 10, 1, 2, 3, 4, 5, 6, 7, 8, 9, 10, 2, 3, 5, 6, 9, 1, 2, 3, 4, 5, 6, 7, 8, 9, 10, 1, 2, 8, 9, 1, 2, 3, 4, 5, 6, 7, 8, 9, 10, 2, 3, 5, 6, 8, 10, 4, 5, 6, 5, 9, 4, 7, 8, 9, 10, 1, 3, 6, 9, 10, 8, 10, 1, 2, 3, 4, 5, 6, 7, 8, 9, 10, 1, 2, 3, 4, 5, 6, 7, 8, 9, 10, 1, 2, 4, 5, 6, 8, 9, 1, 2, 3, 4, 5, 6, 7, 8, 9, 10, 1, 2, 5, 6, 7, 10, 1, 2, 3, 4, 5, 6, 7, 8, 9, 10, 1, 2, 3, 4, 5, 6, 7, 8, 9, 10, 1, 2, 3, 4, 5, 6, 7, 8, 9, 10, 1, 2, 3, 4, 5, 6, 7, 8, 10, 4, 5, 1, 2, 3, 4, 5, 6, 7, 8, 9, 10, 1, 2, 3, 4, 5, 6, 7, 8, 9, 10, 1, 2, 3, 4, 5, 6, 7, 8, 9, 10, 1, 2, 3, 4, 5, 6, 7, 8, 9, 10, 2, 3, 4, 5, 6, 7, 8, 9, 10, 1, 3, 6, 8, 9, 10, 1, 2, 6, 7, 8, 10, 2, 3, 4, 8, 1, 2, 3, 4, 6, 8, 9, 10, 1, 2, 3, 4, 5, 6, 7, 8, 9, 10, 1, 2, 3, 4, 5, 6, 7, 8, 9, 10, 1, 6, 8, 1, 2, 3, 4, 5, 6, 7, 8, 9, 10, 1, 2, 3, 4, 5, 6, 7, 8, 9, 10, 2, 3, 4, 7, 8, 9, 1, 3, 6, 10, 1, 2, 3, 4, 5, 6, 7, 8, 9, 10, 1, 8, 3, 7, 9, 10, 1, 2, 3, 4, 5, 6, 7, 8, 9, 10, 1, 2, 3, 4, 5, 6, 7, 8, 9, 10, 1, 2, 3, 4, 5, 6, 7, 8, 10, 1, 2, 4, 5, 6, 7, 10, 1, 2, 3, 4, 5, 6, 7, 8, 9, 10, 1, 2, 4, 5, 6, 7, 8, 9, 10, 4, 5, 10, 3, 8, 1, 2, 3, 4, 5, 6, 7, 8, 9, 10, 1, 5, 6, 9, 10, 1, 2, 3, 4, 5, 6, 7, 8, 9, 10, 1, 2, 3, 4, 5, 6, 7, 8, 9, 10, 1, 2, 3, 4, 5, 6, 7, 8, 9, 10, 3, 9, 10, 1, 2, 3, 4, 5, 6, 7, 8, 9, 10, 1, 2, 3, 4, 5, 6, 7, 8, 10, 1, 2, 3, 4, 5, 6, 7, 8, 9, 10, 1, 2, 4, 7, 9, 1, 8, 10, 3, 5, 9, 1, 2, 3, 4, 5, 6, 7, 8, 9, 10, 1, 2, 3, 4, 5, 6, 7, 8, 9, 10, 1, 2, 3, 4, 5, 6, 7, 8, 9, 10, 1, 2, 3, 4, 5, 6, 7, 8, 9, 10, 1, 6, 8, 9, 10, 1, 2, 3, 4, 5, 6, 7, 9, 10, 2, 3, 4, 5, 6, 7, 9, 10, 1, 2, 3, 4, 5, 6, 7, 8, 9, 10, 1, 2, 3, 4, 5, 6, 8, 9, 10, 1, 2, 3, 4, 6, 7, 8, 9, 10, 1, 2, 3, 4, 5, 6, 7, 8, 9, 10, 2, 3, 7, 9, 3, 4, 5, 6, 1, 2, 3, 4, 5, 6, 7, 8, 9, 10, 1, 2, 4, 5, 7, 1, 2, 3, 4, 5, 6, 7, 8, 9, 10, 1, 4, 8, 9, 10, 1, 2, 3, 4, 5, 6, 7, 8, 9, 10, 3, 5, 7, 8, 9, 1, 2, 3, 4, 5, 6, 7, 8, 9, 10, 2, 5, 6, 8, 1, 2, 3, 4, 5, 6, 7, 8, 9, 10, 1, 2, 3, 4, 5, 6, 7, 8, 9, 10, 1, 2, 3, 4, 5, 6, 8, 9, 10, 4, 5, 8, 1, 2, 3, 5, 6, 7, 8, 9, 10, 2, 3, 4, 5, 6, 7, 8, 9, 10, 1, 3, 4, 5, 6, 7, 8, 9, 10, 1, 2, 3, 4, 5, 6, 7, 8, 9, 10, 1, 5, 8, 9, 10, 1, 2, 3, 4, 5, 6, 7, 8, 9, 10, 1, 2, 3, 4, 5, 6, 7, 8, 9, 10, 1, 2, 4, 5, 6, 1, 2, 5, 9, 10, 1, 3, 5, 7, 8, 9, 1, 2, 3, 4, 5, 6, 7, 8, 9, 10, 1, 2, 3, 4, 5, 6, 7, 8, 9, 10, 1, 3, 4, 6, 7, 8, 10, 1, 3, 5, 6, 7, 8, 9, 10, 1, 2, 4, 5, 6, 7, 8, 9, 10, 1, 2, 3, 4, 5, 6, 7, 8, 9, 10, 5, 6, 9, 10, 1, 2, 3, 4, 5, 6, 7, 8, 9, 10, 1, 3, 4, 5, 8, 9, 10, 1, 2, 3, 4, 5, 6, 7, 8, 9, 10, 1, 3, 5, 9, 1, 2, 4, 5, 6, 7, 8, 9, 10, 1, 2, 4, 6, 9, 10, 2, 8, 9, 2, 3, 6, 8, 9, 10, 4, 5, 6, 8, 10, 3, 4, 6, 7, 9, 2, 3, 7, 10, 1, 6, 7, 10, 1, 6, 9, 1, 3, 5, 6, 7, 8, 9, 1, 2, 3, 4, 5, 6, 7, 8, 9, 10, 5, 6, 8, 9, 10, 1, 2, 3, 4, 5, 6, 7, 8, 9, 10, 1, 2, 3, 4, 5, 6, 7, 8, 9, 10, 2, 3, 4, 10, 3, 4, 6, 7, 8, 9, 1, 6, 7, 10, 3, 4, 5, 6, 8, 9, 1, 2, 3, 4, 5, 6, 7, 8, 9, 10, 1, 2, 3, 4, 5, 6, 7, 8, 9, 10, 2, 4, 8, 9, 1, 3, 4, 8, 10, 1, 3, 7, 8, 9, 10, 1, 3, 4, 6, 7, 8, 9, 10, 1, 3, 6, 7, 8, 9, 10, 2, 6, 5, 6, 8, 1, 2, 3, 5, 6, 7, 8, 10, 3, 4, 6, 7, 8, 9, 10, 1, 2, 3, 4, 5, 6, 7, 8, 9, 10, 1, 2, 3, 4, 7, 9, 1, 4, 5, 6, 8, 5, 6, 7, 8, 9, 10, 1, 6, 7, 8, 1, 2, 3, 4, 5, 6, 7, 8, 9, 10, 2, 3, 4, 7, 10, 1, 2, 3, 4, 5, 6, 7, 8, 9, 10, 3, 6, 7, 8, 1, 2, 4, 5, 7, 8, 10, 1, 2, 3, 4, 5, 6, 7, 8, 9, 10, 4, 6, 7, 10, 1, 3, 4, 6, 7, 1, 2, 3, 4, 5, 6, 7, 8, 9, 10, 2, 3, 4, 5, 6, 7, 8, 9, 10, 1, 2, 3, 4, 5, 6, 7, 8, 9, 10, 1, 2, 3, 6, 8, 10, 1, 2, 3, 4, 6, 7, 8, 9, 10, 1, 2, 3, 4, 5, 6, 7, 8, 9, 10, 1, 2, 3, 4, 5, 6, 7, 8, 9, 10, 1, 2, 3, 4, 6, 7, 8, 9, 1, 2, 4, 5, 6, 8, 9, 10, 1, 2, 8, 9, 10, 2, 5, 7, 9, 1, 2, 3, 4, 5, 6, 7, 8, 9, 10, 2, 3, 5, 7, 10, 1, 3, 4, 5, 10, 1, 3, 6, 7, 10, 1, 2, 6, 7, 8, 1, 2, 3, 4, 5, 6, 7, 8, 9, 10, 1, 3, 5, 9, 10, 1, 2, 3, 4, 5, 6, 7, 8, 9, 10, 1, 2, 3, 4, 6, 7, 9, 10, 1, 3, 4, 5, 6, 7, 9, 10, 1, 2, 3, 4, 5, 6, 7, 8, 9, 10, 1, 3, 4, 5, 6, 7, 8, 9, 1, 7, 9, 1, 4, 6, 8, 9, 6, 10, 1, 3, 4, 9, 1, 5, 6, 7, 9, 1, 4, 5, 6, 7, 8, 10, 1, 2, 3, 4, 5, 6, 7, 8, 9, 10, 1, 2, 6, 7, 8, 10, 1, 2, 3, 4, 5, 6, 7, 8, 9, 10, 1, 2, 3, 4, 5, 6, 7, 8, 9, 10, 1, 3, 4, 6, 7, 8, 10, 1, 2, 3, 4, 5, 6, 7, 8, 9, 10, 1, 2, 3, 4, 5, 7, 8, 9, 10, 3, 4, 5, 6, 7, 8, 10, 1, 2, 3, 4, 5, 6, 7, 8, 9, 10, 1, 2, 3, 4, 5, 6, 7, 8, 9, 1, 2, 3, 4, 5, 6, 7, 8, 9, 10, 1, 2, 3, 4, 5, 6, 7, 8, 9, 10, 1, 5, 6, 8, 9, 10, 2, 3, 4, 5, 6, 10, 1, 2, 3, 4, 5, 6, 7, 8, 9, 10, 1, 2, 3, 4, 5, 6, 7, 8, 9, 10, 2, 3, 4, 6, 7, 10, 1, 2, 3, 4, 5, 6, 7, 8, 9, 10, 1, 2, 4, 5, 6, 9, 2, 6, 7, 1, 2, 6, 7, 8, 9, 1, 2, 5, 6, 8, 1, 2, 3, 4, 5, 6, 7, 8, 9, 4, 5, 8, 10, 1, 2, 3, 4, 5, 6, 7, 8, 9, 10, 1, 2, 3, 4, 5, 6, 7, 8, 9, 10, 1, 2, 3, 4, 5, 6, 7, 8, 9, 10, 1, 2, 3, 4, 5, 6, 7, 8, 9, 10, 1, 2, 3, 4, 5, 6, 9, 10, 1, 2, 3, 4, 5, 6, 7, 8, 9, 10, 1, 2, 3, 4, 5, 6, 7, 8, 9, 10, 1, 2, 3, 4, 5, 6, 8, 9, 10, 1, 2, 3, 4, 5, 6, 7, 8, 9, 10, 1, 2, 3, 4, 5, 6, 7, 8, 9, 10, 1, 2, 3, 4, 5, 6, 7, 8, 9, 10, 1, 2, 3, 4, 5, 6, 7, 8, 9, 10, 1, 3, 4, 5, 8, 9, 10, 1, 2, 3, 4, 5, 6, 7, 8, 9, 10, 1, 2, 4, 5, 6, 7, 8, 10, 1, 2, 3, 4, 5, 6, 7, 8, 9, 10, 1, 2, 3, 4, 5, 6, 7, 8, 9, 10, 1, 2, 3, 4, 5, 6, 7, 8, 9, 10, 1, 5, 1, 2, 3, 4, 5, 6, 7, 8, 9, 10, 1, 5, 6, 10, 1, 3, 4, 5, 6, 8, 1, 2, 3, 4, 6, 7, 8, 9, 10, 1, 2, 3, 4, 5, 6, 7, 8, 9, 10, 6, 7, 5, 7, 8, 9, 1, 2, 3, 4, 5, 6, 7, 8, 9, 10, 1, 2, 3, 4, 5, 6, 7, 8, 9, 10, 1, 2, 3, 4, 5, 6, 7, 8, 9, 10, 5, 1, 2, 4, 5, 7, 8, 9, 10, 1, 2, 3, 4, 5, 6, 7, 8, 9, 10, 3, 10, 1, 2, 3, 4, 5, 6, 7, 8, 9, 10, 1, 2, 3, 4, 5, 6, 7, 8, 9, 10, 1, 3, 5, 7, 10, 4, 5, 7, 8, 9, 2, 5, 8, 1, 8, 9, 1, 2, 3, 4, 5, 6, 7, 8, 9, 10, 1, 3, 4, 5, 6, 7, 8, 10, 1, 6, 3, 5, 6, 7, 10, 1, 2, 3, 4, 5, 6, 7, 8, 9, 10, 2, 3, 4, 5, 6, 8, 10, 1, 4, 6, 8, 4, 5, 7, 9, 10, 1, 2, 3, 4, 5, 6, 7, 8, 9, 10, 1, 4, 5, 7, 8, 1, 2, 3, 4, 5, 6, 7, 8, 9, 10, 1, 2, 3, 4, 5, 6, 7, 8, 9, 10, 1, 3, 8, 1, 2, 3, 4, 5, 6, 7, 8, 9, 10, 1, 5, 8, 1, 2, 3, 4, 5, 6, 7, 8, 9, 10, 1, 2, 3, 4, 5, 6, 7, 8, 9, 10, 1, 2, 3, 4, 5, 6, 7, 8, 9, 10, 1, 2, 5, 6, 8, 10, 1, 2, 3, 4, 5, 6, 7, 8, 9, 10, 2, 5, 6, 7, 9, 6, 9, 1, 2, 3, 4, 5, 6, 7, 8, 9, 10, 1, 2, 3, 4, 5, 6, 7, 8, 9, 10, 1, 2, 3, 4, 6, 7, 8, 9, 10, 1, 2, 3, 4, 5, 6, 7, 8, 9, 10, 2, 3, 4, 6, 9, 10, 1, 2, 3, 4, 5, 6, 7, 8, 9, 10, 1, 2, 4, 5, 6, 7, 8, 10, 1, 2, 3, 4, 5, 6, 7, 8, 9, 10, 1, 2, 4, 7, 8, 9, 10, 1, 2, 3, 4, 5, 6, 7, 8, 9, 10, 1, 3, 6, 9], \"Freq\": [0.1285028815751333, 0.04283429385837776, 0.04283429385837776, 0.7281829955924219, 0.04283429385837776, 0.12340980133607643, 0.005142075055669851, 0.08741527594638747, 0.020568300222679404, 0.025710375278349254, 0.07198905077937791, 0.06684697572370807, 0.10284150111339702, 0.10798357616906687, 0.380513554119569, 0.05890364513216325, 0.5301328061894692, 0.14725911283040813, 0.14725911283040813, 0.1178072902643265, 0.055370618214205254, 0.05998483639872236, 0.04152796366065394, 0.11227930915658288, 0.049218327301515784, 0.0676752000395842, 0.4306603638882631, 0.010766509097206578, 0.0968985818748592, 0.07690363640861841, 0.09554323859459318, 0.09554323859459318, 0.6210310508648558, 0.14331485789188977, 0.05594812792533447, 0.06643840191133468, 0.019232168974333726, 0.0804254338926683, 0.06818678090900139, 0.25701171265700523, 0.013987031981333617, 0.09965760286700202, 0.11714139284366905, 0.2202957537060045, 0.018735777126309326, 0.042155498534195986, 0.02341972140788666, 0.08431099706839197, 0.09836282991312398, 0.04683944281577332, 0.5714412023524345, 0.03747155425261865, 0.07962705278681464, 0.5679168381010579, 0.07098960476263223, 0.035494802381316116, 0.07098960476263223, 0.14197920952526447, 0.07098960476263223, 0.11295264917050145, 0.09630699560853281, 0.043397596786561084, 0.08382275543705633, 0.05588183695803756, 0.042208621532134755, 0.09095660696361432, 0.05825978746689022, 0.008322826780984317, 0.40781851226823157, 0.036612664070935975, 0.018306332035467988, 0.036612664070935975, 0.09153166017733995, 0.6590279532768476, 0.12814432424827593, 0.018306332035467988, 0.03339927294600532, 0.9017803695421438, 0.03339927294600532, 0.03339927294600532, 0.09112333801553359, 0.19363709328300888, 0.022780834503883397, 0.0797329207635919, 0.04556166900776679, 0.03986646038179595, 0.4556166900776679, 0.01708562587791255, 0.051256877633737645, 0.020925472927772946, 0.774242498327599, 0.04185094585554589, 0.12555283756663765, 0.1415242991103342, 0.6132719628114482, 0.1886990654804456, 0.0471747663701114, 0.10890043800497944, 0.05445021900248972, 0.05445021900248972, 0.7623030660348561, 0.07965992707993812, 0.23897978123981437, 0.03982996353996906, 0.5974494530995359, 0.04038709121309882, 0.051156982203258504, 0.06731181868849803, 0.6461934594095812, 0.048464509455718584, 0.06731181868849803, 0.051156982203258504, 0.02153978198031937, 0.008077418242619764, 0.04478403658363622, 0.7165445853381796, 0.04478403658363622, 0.13435210975090867, 0.03608389653259909, 0.003608389653259909, 0.018041948266299544, 0.025258727572819363, 0.003608389653259909, 0.014433558613039636, 0.03608389653259909, 0.8118876719834794, 0.050517455145638726, 0.15461164019187415, 0.009094802364227892, 0.3183180827479762, 0.04774771241219643, 0.029558107683740644, 0.2955810768374065, 0.009094802364227892, 0.04774771241219643, 0.03183180827479762, 0.061389915958538266, 0.12990455130789189, 0.09771837899723117, 0.08177027560005695, 0.01797786201136004, 0.31606241278036196, 0.013918344782988416, 0.0031896206794348454, 0.10612737897028668, 0.15774124087386873, 0.07539103424118726, 0.38706060503633505, 0.07933540351676432, 0.0721230941061494, 0.09135591920112256, 0.0360615470530747, 0.01923282509497317, 0.02644513450558811, 0.09376002233799421, 0.11780105370671068, 0.07693130037989268, 0.14120492536018178, 0.016721635897916264, 0.057596745870600465, 0.31399516297198315, 0.016721635897916264, 0.020437554986342102, 0.09661389629907174, 0.1337730871833301, 0.13934696581596887, 0.06317062450323922, 0.31943582709790086, 0.03111387926278255, 0.041485172350376735, 0.13482681013872438, 0.0020742586175188367, 0.101638672258423, 0.04355943096789557, 0.04770794820293325, 0.13690106875624322, 0.13897532737376206, 0.6917592770106458, 0.11529321283510763, 0.023058642567021528, 0.1614104979691507, 0.059152890065167954, 0.14788222516291988, 0.5027995655539277, 0.029576445032583977, 0.23661156026067182, 0.04384614059208673, 0.7015382494733877, 0.17538456236834693, 0.04384614059208673, 0.0443960956503939, 0.05454377465619822, 0.34628954607307244, 0.07737605241925793, 0.2854034720382465, 0.04059071602321728, 0.03297995676886404, 0.08625527154933672, 0.00887921913007878, 0.02410073763878526, 0.10924910029846804, 0.08193682522385103, 0.05462455014923402, 0.7374314270146592, 0.02731227507461701, 0.14540478433723852, 0.1934402934486477, 0.033754682078287516, 0.010386056024088467, 0.49982894615925744, 0.05582505112947551, 0.009087799021077408, 0.020772112048176933, 0.012982570030110583, 0.018175598042154816, 0.046291694833526034, 0.042434053597398866, 0.0771528247225434, 0.07329518348641623, 0.05400697730578038, 0.33561478754306373, 0.13887508450057812, 0.0771528247225434, 0.0385764123612717, 0.11958687831994226, 0.8106421069011491, 0.1279961221422867, 0.04266537404742891, 0.29555636559345355, 0.023644509247476284, 0.011822254623738142, 0.07329797866717648, 0.15605376103334348, 0.12768034993637192, 0.11349364438788616, 0.04256011664545731, 0.11585809531263379, 0.037831214795962055, 0.04002018535994287, 0.16008074143977147, 0.04002018535994287, 0.04002018535994287, 0.04002018535994287, 0.12006055607982859, 0.600302780399143, 0.03175810022595361, 0.05259935349923567, 0.039697625282442014, 0.2580345643358731, 0.03473542212213676, 0.3180772225755666, 0.07443304740457878, 0.10172516478625765, 0.043667387810686215, 0.04515604875877779, 0.10191826900805816, 0.13589102534407754, 0.7134278830564071, 0.033972756336019386, 0.011947106181337989, 0.047788424725351955, 0.0637178996338026, 0.05973553090668994, 0.019911843635563312, 0.1393829054489432, 0.05575316217957728, 0.03584131854401396, 0.5177079345246461, 0.05177079345246462, 0.1129016931165034, 0.02822542327912585, 0.018816948852750568, 0.1599440652483798, 0.06585932098462699, 0.5833254144352676, 0.02822542327912585, 0.06878515716386924, 0.43850537691966635, 0.020062337506128524, 0.022928385721289742, 0.0802493500245141, 0.06591910894870802, 0.022928385721289742, 0.1748289411248343, 0.06878515716386924, 0.03725862679709584, 0.094002030342151, 0.031334010114050334, 0.06266802022810067, 0.031334010114050334, 0.031334010114050334, 0.031334010114050334, 0.5953461921669564, 0.12533604045620134, 0.1982960829161702, 0.5665602369033435, 0.08498403553550152, 0.14164005922583586, 0.009673458564474484, 0.04111219889901656, 0.264810928202489, 0.004836729282237242, 0.0036275469616779315, 0.045948928181253804, 0.02902037569342345, 0.09794376796530416, 0.01813773480838966, 0.48488211054428354, 0.3107048569023045, 0.6657961219335096, 0.1233483054048363, 0.2466966108096726, 0.6167415270241815, 0.05144125827187675, 0.07201776158062745, 0.012860314567969187, 0.0051441258271876745, 0.6507319171392408, 0.06172950992625209, 0.06687363575343977, 0.015432377481563023, 0.030864754963126045, 0.036008880790313724, 0.015405034919906717, 0.025675058199844527, 0.02054004655987562, 0.02054004655987562, 0.025675058199844527, 0.005135011639968905, 0.005135011639968905, 0.8832220020746517, 0.8011629825927566, 0.11869081223596395, 0.059345406117981975, 0.2587123777941156, 0.051742475558823116, 0.5691672311470543, 0.025871237779411558, 0.025871237779411558, 0.051742475558823116, 0.10215542508089906, 0.07355190605824732, 0.328940468760495, 0.002043108501617981, 0.040862170032359625, 0.06129325504853944, 0.07559501455986531, 0.09602609957604512, 0.09398299107442713, 0.12462961859869685, 0.25886177632966845, 0.14692154872764965, 0.027985056900504696, 0.008745330281407717, 0.12943088816483422, 0.06471544408241711, 0.21338605886634832, 0.04547571746332013, 0.09444956703920335, 0.006996264225126174, 0.038440722735278515, 0.11182755704808295, 0.08037605662830963, 0.013978444631010369, 0.003494611157752592, 0.07338683431280443, 0.06639761199729925, 0.5416647294516518, 0.04892455620853629, 0.017473055788762962, 0.07779370844118862, 0.19448427110297156, 0.15558741688237723, 0.5445559590883203, 0.004346148632943726, 0.6388838490427278, 0.07388452676004335, 0.008692297265887453, 0.05649993222826844, 0.16080749941891787, 0.02173074316471863, 0.004346148632943726, 0.013038445898831179, 0.013038445898831179, 0.08371733336574187, 0.1255760000486128, 0.041858666682870936, 0.041858666682870936, 0.711597333608806, 0.19031204678139496, 0.7612481871255798, 0.13001549884793082, 0.6934159938556311, 0.08667699923195389, 0.043338499615976946, 0.04937333707162652, 0.023234511563118364, 0.020330197617728567, 0.040660395235457135, 0.03775608129006734, 0.5053506264978244, 0.21491923195884485, 0.043564709180846935, 0.05518196496240611, 0.008712941836169386, 0.055560921725510755, 0.029718632550854593, 0.0762347530652357, 0.07365052414777007, 0.11758241574468556, 0.052976692808045144, 0.09174012657002939, 0.31010747009587397, 0.07365052414777007, 0.11758241574468556, 0.08543399875345921, 0.17086799750691842, 0.08543399875345921, 0.08543399875345921, 0.5553209918974849, 0.08446323221816208, 0.21115808054540522, 0.6757058577452967, 0.0572029445206128, 0.0684192081521055, 0.2905012280556611, 0.0684192081521055, 0.01570276908408979, 0.14356817448310663, 0.039256922710224476, 0.13571678994106176, 0.05832457088376208, 0.1222572735832705, 0.6390758144398929, 0.038344548866393574, 0.10225213031038287, 0.10225213031038287, 0.038344548866393574, 0.038344548866393574, 0.025563032577595717, 0.1192318928555107, 0.11419392555175671, 0.15617698641637315, 0.0436623832992011, 0.308995327963577, 0.11755257042092604, 0.031907126257108495, 0.06549357494880165, 0.03358644869169315, 0.011755257042092604, 0.5115038452601132, 0.03278870802949443, 0.06557741605898885, 0.11803934890617995, 0.026230966423595545, 0.045904191241292205, 0.09836612408848329, 0.026230966423595545, 0.059019674453089976, 0.026230966423595545, 0.012647514763330836, 0.08431676508887224, 0.0337267060355489, 0.04215838254443612, 0.43423134020769205, 0.004215838254443612, 0.10539595636109031, 0.1391226623966392, 0.14755433890552644, 0.05504561649949821, 0.8256842474924732, 0.08256842474924732, 0.7958890992586383, 0.026529636641954606, 0.10611854656781843, 0.05305927328390921, 0.18646123248998367, 0.15538436040831974, 0.590460569551615, 0.06215374416332789, 0.031076872081663945, 0.22838259882071224, 0.7308243162262792, 0.09422410617361021, 0.008973724397486687, 0.04935548418617678, 0.017947448794973373, 0.058329208583663465, 0.36343583809821084, 0.06281607078240681, 0.25575114532837057, 0.05384234638492012, 0.035894897589946746, 0.08499307239179661, 0.02833102413059887, 0.05666204826119774, 0.05666204826119774, 0.05666204826119774, 0.7082756032649717, 0.15275541747815402, 0.6619401424053342, 0.15275541747815402, 0.03648743946628275, 0.291899515730262, 0.6202864709268068, 0.5618403391921983, 0.043218487630169104, 0.28092016959609917, 0.06482773144525365, 0.043218487630169104, 0.07638085458418568, 0.05455775327441834, 0.010911550654883669, 0.03273465196465101, 0.12002705720372035, 0.05455775327441834, 0.06546930392930202, 0.5237544314344161, 0.05455775327441834, 0.04617440250303024, 0.04617440250303024, 0.7387904400484838, 0.1385232075090907, 0.043090876585549484, 0.043090876585549484, 0.8187266551254402, 0.043090876585549484, 0.043090876585549484, 0.09459770925888246, 0.1418965638883237, 0.09459770925888246, 0.6621839648121772, 0.07073063812859773, 0.018861503500959394, 0.018861503500959394, 0.04715375875239848, 0.051869134627638334, 0.48096833927446453, 0.17446890738387438, 0.04715375875239848, 0.08487676575431727, 0.020647351825667813, 0.377846538409721, 0.13524015445812418, 0.041294703651335626, 0.10426912671962246, 0.023744454599517986, 0.0020647351825667814, 0.03922996846876885, 0.132143051684274, 0.1228517433627235, 0.09447308584840991, 0.6613116009388693, 0.047236542924204955, 0.18894617169681982, 0.016835430441856432, 0.09259486743021038, 0.09259486743021038, 0.05892400654649751, 0.6144932111277598, 0.042088576104641076, 0.042088576104641076, 0.008417715220928216, 0.016835430441856432, 0.016835430441856432, 0.03761592998452239, 0.05642389497678359, 0.07523185996904477, 0.03761592998452239, 0.018807964992261193, 0.6958947047136642, 0.07523185996904477, 0.03761592998452239, 0.5796274531083112, 0.0756035808402145, 0.025201193613404834, 0.151207161680429, 0.0756035808402145, 0.05040238722680967, 0.05040238722680967, 0.016584016381542183, 0.16584016381542185, 0.5141045078278077, 0.04975204914462655, 0.04146004095385546, 0.0995040982892531, 0.03316803276308437, 0.008292008190771092, 0.03316803276308437, 0.04146004095385546, 0.11831264931530591, 0.15775019908707455, 0.6704383461200668, 0.010501133852418295, 0.012601360622901953, 0.0819088440488627, 0.03150340155725488, 0.014701587393385613, 0.12811383299950319, 0.01890204093435293, 0.01890204093435293, 0.6510702988499343, 0.029403174786771225, 0.788501958591428, 0.037547712313877525, 0.07509542462775505, 0.07509542462775505, 0.04736480499510957, 0.01578826833170319, 0.03157653666340638, 0.06315307332681276, 0.5683776599413148, 0.03157653666340638, 0.22103575664384464, 0.41221255708411225, 0.01750709701901635, 0.05252129105704905, 0.299212203597734, 0.049338182508136985, 0.012732434195648254, 0.03660574831248873, 0.030239531214664602, 0.09071859364399382, 0.04617763789949309, 0.7388422063918895, 0.18471055159797237, 0.6564328740782944, 0.0847010160101025, 0.021175254002525627, 0.0847010160101025, 0.0847010160101025, 0.06352576200757688, 0.07273389643450175, 0.1714441844527541, 0.05714806148425137, 0.04675750485075112, 0.12468667960200298, 0.051952783167501244, 0.01039055663350025, 0.40003643038975956, 0.041562226534001, 0.031171669900500746, 0.11567385191901844, 0.024855538428879994, 0.047799112363230756, 0.24951136653606457, 0.1386174258533692, 0.17876868023848305, 0.1510451950678092, 0.04588714786870153, 0.02198759168708615, 0.02581152067614461, 0.08976912082769087, 0.13878778549017998, 0.005315276891113275, 0.07382329015435105, 0.022442280206922717, 0.22087928414181834, 0.06496449533582892, 0.07087035854817701, 0.268126189840603, 0.04547514673508025, 0.0328362327451685, 0.7552333531388755, 0.0328362327451685, 0.0328362327451685, 0.131344930980674, 0.04699414656917298, 0.16447951299210542, 0.5874268321146622, 0.07049121985375946, 0.04699414656917298, 0.04699414656917298, 0.6240064458083966, 0.3612668896785454, 0.022355713816812017, 0.011177856908406008, 0.03912249917942103, 0.01676678536260901, 0.005588928454203004, 0.022355713816812017, 0.022355713816812017, 0.8606949819472627, 0.1048780257609656, 0.029365847213070364, 0.013284549929722307, 0.5796258890389365, 0.039853649789166924, 0.017479670960160933, 0.08599998112399178, 0.008390242060877247, 0.04754470501163773, 0.07341461803267592, 0.025565049122169406, 0.13269477877697455, 0.05052140659857288, 0.07699949318939119, 0.1844335686670793, 0.10956449623786889, 0.04656491090109428, 0.011260795446669858, 0.12539047902778327, 0.23738974184871592, 0.045685652294022994, 0.041117087064620694, 0.05939134798222989, 0.48426791431664373, 0.05482278275282759, 0.004568565229402299, 0.08223417412924139, 0.009137130458804599, 0.06852847844103449, 0.14619408734087358, 0.5807863557711342, 0.09679772596185571, 0.0322659086539519, 0.1290636346158076, 0.0645318173079038, 0.0322659086539519, 0.09679772596185571, 0.06572116045654335, 0.08449863487269858, 0.08449863487269858, 0.10327610928885383, 0.028166211624232863, 0.5539354952765796, 0.028166211624232863, 0.05633242324846573, 0.035446584398682694, 0.035446584398682694, 0.6380385191762884, 0.14178633759473078, 0.14178633759473078, 0.20460790846511545, 0.6138237253953464, 0.05115197711627886, 0.10230395423255773, 0.013770962311624288, 0.1965491893568194, 0.058839566240576506, 0.04131288693487287, 0.06509909456404209, 0.1978010950215125, 0.032549547282021044, 0.07135862288750768, 0.19154156669804692, 0.1314500947927773, 0.1391218014303904, 0.08618164690378168, 0.09972447713151879, 0.025854494071134503, 0.0935686452098201, 0.0738699830603843, 0.3791992463766394, 0.03201032599283319, 0.029547993224153715, 0.04309082345189084, 0.6827504696985518, 0.08692424961439896, 0.018965290824959773, 0.03951102255199952, 0.06953939969151916, 0.023706613531199714, 0.041091463454079505, 0.004741322706239943, 0.011063086314559867, 0.022126172629119735, 0.2294170787823348, 0.5607973036901518, 0.17843550571959374, 0.83626602121852, 0.02039673222484195, 0.10198366112420976, 0.02039673222484195, 0.18043500022346814, 0.11277187513966759, 0.5864137507262714, 0.045108750055867036, 0.09021750011173407, 0.031437240157031254, 0.06287448031406251, 0.11003034054960939, 0.031437240157031254, 0.015718620078515627, 0.04715586023554688, 0.015718620078515627, 0.6130261830621094, 0.07859310039257814, 0.022618819164797868, 0.01893668581238891, 0.350854706579539, 0.03419123827236887, 0.027352990617895097, 0.10572982911917142, 0.024196876315830278, 0.013676495308947548, 0.02945706681927164, 0.37294750669399274, 0.03511542594247871, 0.023410283961652473, 0.03511542594247871, 0.023410283961652473, 0.0936411358466099, 0.03511542594247871, 0.08193599386578367, 0.05852570990413119, 0.6086673830029643, 0.013712541776872469, 0.08227525066123481, 0.3428135444218117, 0.009141694517914979, 0.0868460979201923, 0.031995930812702425, 0.05942101436644737, 0.37480947523451413, 0.024446997200349926, 0.012223498600174963, 0.08556449020122474, 0.14668198320209955, 0.07334099160104977, 0.012223498600174963, 0.024446997200349926, 0.012223498600174963, 0.5989514314085731, 0.05735459738056606, 0.02867729869028303, 0.02867729869028303, 0.6595778698765097, 0.17206379214169817, 0.02867729869028303, 0.02867729869028303, 0.04912857656723267, 0.4257809969160165, 0.04776389388480955, 0.00955277877696191, 0.034117067060578245, 0.17740874871500686, 0.06550476875631023, 0.10780993191142725, 0.012282144141808168, 0.07096349948600275, 0.10975880578794256, 0.8048979091115788, 0.03658626859598085, 0.03658626859598085, 0.0689760276527376, 0.086220034565922, 0.0344880138263688, 0.0689760276527376, 0.689760276527376, 0.0344880138263688, 0.0172440069131844, 0.16452321510474627, 0.034636466337841315, 0.04040921072748154, 0.04906832731194187, 0.06927293267568263, 0.07504567706532286, 0.00577274438964022, 0.1472049819358256, 0.4098648516644556, 0.00288637219482011, 0.11691578475980423, 0.10316098655276844, 0.06189659193166106, 0.5158049327638422, 0.05501919282814317, 0.04814179372462527, 0.08252878924221475, 0.02063219731055369, 0.014506902076617584, 0.043520706229852754, 0.03626725519154396, 0.03626725519154396, 0.021760353114926377, 0.11605521661294067, 0.4569674154134539, 0.08704141245970551, 0.02901380415323517, 0.16682937388110222, 0.04279370158556475, 0.855874031711295, 0.0855874031711295, 0.045304826546591105, 0.030203217697727405, 0.8154868778386399, 0.015101608848863702, 0.06040643539545481, 0.030203217697727405, 0.015101608848863702, 0.04767161312875342, 0.2860296787725205, 0.04086138268178864, 0.5039570530753933, 0.06129207402268296, 0.013620460893929548, 0.03405115223482387, 0.006810230446964774, 0.011510070875859722, 0.059468699525275226, 0.3222819845240722, 0.2378747981011009, 0.023020141751719445, 0.1534676116781296, 0.13044746992641018, 0.0191834514597662, 0.023020141751719445, 0.0191834514597662, 0.13500691533323908, 0.6750345766661955, 0.13500691533323908, 0.06750345766661954, 0.05054806416751645, 0.15164419250254935, 0.05054806416751645, 0.7076728983452303, 0.04449973961752752, 0.015574908866134631, 0.04227475263665114, 0.18912389337449195, 0.20692378922150295, 0.008899947923505503, 0.05117470056015665, 0.062299635464538525, 0.3248480992079509, 0.0556246745219094, 0.028849207497591785, 0.028849207497591785, 0.8654762249277536, 0.05769841499518357, 0.17161113928444427, 0.07107127990567894, 0.13347533055456776, 0.046803037986666615, 0.06760438820296288, 0.041602700432592545, 0.046803037986666615, 0.07973850916246905, 0.31375369909580214, 0.03120202532444441, 0.06222904780423535, 0.2178016673148237, 0.031114523902117674, 0.6222904780423535, 0.031114523902117674, 0.06737326546105009, 0.13923808195283685, 0.4266973479199839, 0.047161285822735065, 0.03817818376126172, 0.026949306184420038, 0.04491551030736673, 0.033686632730525044, 0.12800920437599517, 0.04266973479199839, 0.08981039937400058, 0.02072547677861552, 0.07599341485492357, 0.5112284272058495, 0.04835944581676954, 0.06217643033584655, 0.1243528606716931, 0.027633969038154023, 0.013816984519077011, 0.02072547677861552, 0.029109254620409992, 0.14554627310204996, 0.058218509240819984, 0.6404036016490199, 0.14554627310204996, 0.09649166350066893, 0.03216388783355631, 0.048245831750334464, 0.5628680370872354, 0.11257360741744708, 0.016081943916778155, 0.016081943916778155, 0.016081943916778155, 0.09649166350066893, 0.01052243531606708, 0.04419422832748174, 0.05261217658033541, 0.5892563776997566, 0.05050768951712199, 0.004208974126426832, 0.0778660213388964, 0.07365704721246957, 0.046298715390695154, 0.05050768951712199, 0.018417372261078365, 0.07980861313133958, 0.018417372261078365, 0.012278248174052243, 0.12892160582754855, 0.454295182439933, 0.012278248174052243, 0.14119985400160082, 0.12892160582754855, 0.04822504257699951, 0.9162758089629908, 0.06809625433060673, 0.08512031791325841, 0.062421566469722835, 0.005674687860883894, 0.11349375721767788, 0.40290283812275646, 0.0907950057741423, 0.062421566469722835, 0.0907950057741423, 0.022698751443535576, 0.053356087634218764, 0.026678043817109382, 0.026678043817109382, 0.053356087634218764, 0.6936291392448439, 0.08003413145132815, 0.053356087634218764, 0.5763297143177656, 0.07517344099796942, 0.033410418221319745, 0.033410418221319745, 0.016705209110659872, 0.05011562733197961, 0.10858385921928916, 0.08352604555329936, 0.033410418221319745, 0.02133001925894847, 0.05972405392505571, 0.5801765238433984, 0.08958608088758357, 0.01279801155536908, 0.008532007703579387, 0.07678806933221449, 0.12798011555369082, 0.0042660038517896934, 0.01279801155536908, 0.057167149798465516, 0.035658717201023045, 0.024338489518158583, 0.3905478550588238, 0.23093264473043495, 0.0396207968900256, 0.09848598084092078, 0.04867697903631717, 0.0271685464388747, 0.0469789448838875, 0.19563753313750135, 0.35214755964750244, 0.04956150839483368, 0.010434001767333405, 0.033910505743833565, 0.17998653048650123, 0.04173600706933362, 0.03912750662750027, 0.06521251104583378, 0.028693504860166866, 0.03365487102397716, 0.03365487102397716, 0.9086815176473834, 0.09729096055184745, 0.12077498551263822, 0.07716179629974108, 0.05032291063026593, 0.05032291063026593, 0.026838885669475163, 0.12077498551263822, 0.053677771338950325, 0.36903467795528344, 0.040258328504212744, 0.619474858996004, 0.337895377634184, 0.060207245408209493, 0.0468278575397185, 0.0655590005556059, 0.1351318174717591, 0.10837304173477709, 0.0294346533106802, 0.0521796126871149, 0.4107472075626737, 0.022744959376434698, 0.0682348781293041, 0.030474974178460207, 0.6094994835692041, 0.060949948356920414, 0.12189989671384083, 0.060949948356920414, 0.10666240962461072, 0.08310967069573771, 0.16621934139147543, 0.6094709184354099, 0.0554064471304918, 0.1108128942609836, 0.7397913452774462, 0.023118479539920193, 0.023118479539920193, 0.16182935677944135, 0.023118479539920193, 0.023118479539920193, 0.2482031522434806, 0.7091518635528018, 0.4432385804381392, 0.029652295647573674, 0.07237408653317745, 0.12633845396762433, 0.026420054889781282, 0.055791286123633876, 0.06829865253422182, 0.06590960501759266, 0.0598667201225895, 0.052277980952120405, 0.1331428116045845, 0.1053564857044973, 0.3218582750093434, 0.046310543166812, 0.034732907375109, 0.056730415379344694, 0.038206198112619896, 0.11230306717951909, 0.0671502875918774, 0.08451674127943189, 0.6223805193111449, 0.12766779883305537, 0.0797923742706596, 0.01595847485413192, 0.03191694970826384, 0.01595847485413192, 0.04787542456239576, 0.04787542456239576, 0.03191694970826384, 0.015648001667348123, 0.010432001111565415, 0.07824000833674061, 0.02086400222313083, 0.005216000555782707, 0.0678080072251752, 0.4329280461299647, 0.04172800444626166, 0.18256001945239475, 0.1460480155619158, 0.12526873111169545, 0.02087812185194924, 0.04175624370389848, 0.02087812185194924, 0.1043906092597462, 0.06263436555584773, 0.12526873111169545, 0.48019680259483255, 0.04489150704265567, 0.5835895915545237, 0.04489150704265567, 0.04489150704265567, 0.08978301408531134, 0.13467452112796702, 0.04849245891397997, 0.020782482391705704, 0.1134377163880603, 0.10218053842588637, 0.07187275160464889, 0.2294732430750838, 0.01645279856010035, 0.09611898106163888, 0.134220198779766, 0.1671257958999667, 0.057321099135297565, 0.11464219827059513, 0.6305320904882732, 0.028660549567648783, 0.057321099135297565, 0.08598164870294635, 0.10273152213503961, 0.770486416012797, 0.07704864160127971, 0.025682880533759903, 0.059015306842338765, 0.6491683752657263, 0.059015306842338765, 0.04426148013175407, 0.191799747237601, 0.11024917109909511, 0.059927972672122236, 0.11070663653934032, 0.06541755795506474, 0.038427096980597465, 0.05260852562819891, 0.45517811304398187, 0.046661474905011206, 0.005947050723187703, 0.054895852829424954, 0.035982649693956294, 0.035982649693956294, 0.6117050447972571, 0.035982649693956294, 0.14393059877582517, 0.07196529938791259, 0.035982649693956294, 0.16953256321940952, 0.08476628160970476, 0.7205133936824905, 0.744783664191745, 0.025682195316956723, 0.025682195316956723, 0.025682195316956723, 0.15409317190174035, 0.02015544309082995, 0.1209326585449797, 0.02015544309082995, 0.0403108861816599, 0.0403108861816599, 0.0403108861816599, 0.6852850650882183, 0.08760193597215495, 0.021900483993038736, 0.021900483993038736, 0.6570145197911621, 0.04380096798607747, 0.15330338795127116, 0.5941460001005242, 0.0424390000071803, 0.3395120000574424, 0.08579516064475336, 0.7292588654804035, 0.17159032128950671, 0.06909699876466209, 0.04335497961704288, 0.039967871834461405, 0.036580764051879926, 0.15038758554661746, 0.23371043699812175, 0.1890006142680463, 0.16190375200739449, 0.05554856763433619, 0.020322646695488847, 0.031046127127555403, 0.10348709042518468, 0.05174354521259234, 0.09313838138266621, 0.6105738335085896, 0.04139483617007387, 0.010348709042518467, 0.031046127127555403, 0.031046127127555403, 0.5302908162326266, 0.17676360541087555, 0.15151166178075048, 0.05050388726025016, 0.05050388726025016, 0.05050388726025016, 0.007677418044785203, 0.03454838120153341, 0.015354836089570407, 0.0038387090223926017, 0.11516127067177805, 0.17274190600766706, 0.03454838120153341, 0.34932252103772676, 0.06525805338067422, 0.20345157818680787, 0.1216694863093811, 0.2263731079939481, 0.07416506535990162, 0.07077189243493881, 0.03102329531394578, 0.28551126468615723, 0.03247751228178699, 0.0038779119142432223, 0.07610402131702323, 0.07852771626342525, 0.13415252032682634, 0.08478903882128419, 0.1689973308013267, 0.062139912012858955, 0.20093840706961869, 0.17654703973746844, 0.07259335515520907, 0.02555286101463359, 0.042394519410642095, 0.031941076268291985, 0.03158880068993733, 0.18953280413962398, 0.03158880068993733, 0.6317760137987466, 0.06317760137987466, 0.03158880068993733, 0.19510355636606713, 0.054195432323907534, 0.010839086464781506, 0.5636324961686383, 0.01625862969717226, 0.005419543232390753, 0.04877588909151678, 0.06503451878868904, 0.027097716161953767, 0.01625862969717226, 0.06475689554951393, 0.0952307287492852, 0.08380304129937097, 0.06285228097452823, 0.11046764534917083, 0.07427996842444246, 0.03618767692472837, 0.1485599368488849, 0.2837875716728699, 0.03999690607469978, 0.05028394351590511, 0.36036826186398657, 0.48607812065374933, 0.04190328626325426, 0.05028394351590511, 0.008380657252650851, 0.012483417062294418, 0.14980100474753302, 0.037450251186883256, 0.11235075356064976, 0.6241708531147209, 0.06241708531147209, 0.04859910802563214, 0.045899157579763684, 0.010799801783473808, 0.08639841426779046, 0.037799306242158326, 0.04859910802563214, 0.41849231910961004, 0.026999504458684518, 0.17819672942731782, 0.09989816649713272, 0.08454358699633349, 0.062488738214681275, 0.13232909268991327, 0.3969872780697399, 0.07351616260550738, 0.029406465042202953, 0.04410969756330443, 0.022054848781652214, 0.018379040651376844, 0.13968070895046403, 0.10481529897769248, 0.034669675815698284, 0.10723411356948538, 0.08949613989633742, 0.024188145917929033, 0.18786126662924882, 0.10159021285530194, 0.27010096275020756, 0.004837629183585807, 0.07498325234558001, 0.05612707340369196, 0.5113800021225268, 0.006236341489299107, 0.07483609787158928, 0.05612707340369196, 0.031181707446495534, 0.03741804893579464, 0.06859975638229017, 0.16214487872177677, 0.006236341489299107, 0.5557013201077695, 0.09389436098372658, 0.007664845794589925, 0.013413480140532369, 0.08814572663778414, 0.053653920562129476, 0.09389436098372658, 0.07281603504860429, 0.009581057243237406, 0.013413480140532369, 0.01221511752007713, 0.02850194088017997, 0.0271447056001714, 0.00814341168005142, 0.00814341168005142, 0.04343152896027424, 0.7057623456044564, 0.00135723528000857, 0.02307299976014569, 0.14250970440089986, 0.13343362254757707, 0.1445530910932085, 0.019061946078225294, 0.020650441584744068, 0.030181414623856716, 0.011119468545631422, 0.13343362254757707, 0.04765486519556324, 0.3987123721362124, 0.06036282924771343, 0.14761245165600587, 0.07001047707113421, 0.04301848591117885, 0.06410597900489397, 0.06663647817613978, 0.12315095966729632, 0.140864453866017, 0.11893346104855329, 0.048922983977419086, 0.17713494198720703, 0.013241524449541407, 0.12413929171445068, 0.061242050579129, 0.06455243169151435, 0.024827858342890138, 0.061242050579129, 0.0678628128038997, 0.014896715005734081, 0.3823490184805081, 0.1853813422935797, 0.05845171715652212, 0.48953313118587277, 0.04383878786739159, 0.051145252511956854, 0.15343575753587058, 0.021919393933695797, 0.04383878786739159, 0.021919393933695797, 0.11690343431304424, 0.06212262018159224, 0.2577215528015453, 0.17164804291138738, 0.04690382567927446, 0.14270738451353718, 0.13197938183157548, 0.016715725109103133, 0.05563592088552236, 0.035427357693920074, 0.0790878337251596, 0.04726119890271768, 0.5198731879298945, 0.3071977928676649, 0.02363059945135884, 0.07089179835407652, 0.02363059945135884, 0.04700774920573944, 0.09205684219457308, 0.03329715568739877, 0.23699740224560303, 0.06855296759170336, 0.0763875924593266, 0.00391731243381162, 0.08618087354385565, 0.3270955882232703, 0.025462530819775533, 0.04846211649796021, 0.5815453979755225, 0.09692423299592041, 0.04846211649796021, 0.19384846599184083, 0.5836110463745292, 0.04668888370996233, 0.023344441854981166, 0.04668888370996233, 0.011672220927490583, 0.10504998834741526, 0.03501666278247175, 0.1517388720573776, 0.06675913214451847, 0.004450608809634564, 0.489566969059802, 0.26703652857807386, 0.035604870477076514, 0.026703652857807382, 0.0489566969059802, 0.057857914525249333, 0.0400352748181004, 0.016215003779373998, 0.07375674285485163, 0.008035754085353486, 0.2552786878186402, 0.2369112499092608, 0.1795130064424502, 0.12369321467097687, 0.008753232128688618, 0.057828730292811686, 0.0872469792554082, 0.0290823264184694, 0.0290823264184694, 0.6688935076247963, 0.1163293056738776, 0.0872469792554082, 0.039010253125461296, 0.8192153156346872, 0.039010253125461296, 0.039010253125461296, 0.039010253125461296, 0.10789356883091682, 0.01798226147181947, 0.12587583030273627, 0.05394678441545841, 0.03596452294363894, 0.03596452294363894, 0.0959053945163705, 0.04195861010091209, 0.02997043578636578, 0.44955653679548674, 0.5619730038458406, 0.045565378690203294, 0.030376919126802196, 0.18226151476081318, 0.015188459563401098, 0.045565378690203294, 0.12150767650720878, 0.011570497129662072, 0.034711491388986215, 0.008677872847246554, 0.12293653200265951, 0.11425865915541296, 0.1663258962388923, 0.020248369976908626, 0.09545660131971209, 0.3991821509733415, 0.024587306400531903, 0.021915480667027903, 0.043830961334055805, 0.021915480667027903, 0.08766192266811161, 0.6136334586767812, 0.17532384533622322, 0.021915480667027903, 0.7081376248374484, 0.24993092641321707, 0.5227161382864633, 0.0513780819683276, 0.02010446685717167, 0.011169148253984261, 0.008935318603187407, 0.029039785460359076, 0.1161591418414363, 0.06254723022231186, 0.03797510406354648, 0.13626360869860799, 0.03530911581442764, 0.00882727895360691, 0.01765455790721382, 0.00882727895360691, 0.07061823162885528, 0.688527758381339, 0.07061823162885528, 0.06179095267524837, 0.02648183686082073, 0.1212095853328666, 0.037295257025497415, 0.018647628512748708, 0.009323814256374354, 0.1025619568201179, 0.07459051405099483, 0.046619071281871774, 0.5780764838952099, 0.6560184480961353, 0.16956409039772988, 0.011118956747392123, 0.016678435121088186, 0.005559478373696062, 0.008339217560544093, 0.016678435121088186, 0.05559478373696062, 0.005559478373696062, 0.052815044550112586, 0.2757180936897371, 0.03446476171121714, 0.13785904684486855, 0.5514361873794742, 0.026380844742490014, 0.137992110960717, 0.02029295749422309, 0.0689960554803585, 0.008117182997689236, 0.028410140491912324, 0.2272811239352986, 0.004058591498844618, 0.41803492438099565, 0.05884957673324696, 0.04258725333927834, 0.5485550797096036, 0.0687647393368164, 0.03555449590710393, 0.007814174924638227, 0.0996307302891374, 0.016409767341740277, 0.10588207022884798, 0.041805835846814514, 0.032819534683480554, 0.016204830697150254, 0.06481932278860102, 0.06481932278860102, 0.7778318734632121, 0.016204830697150254, 0.04861449209145076, 0.031615624830850265, 0.031615624830850265, 0.9168531200946578, 0.09145373451839758, 0.04572686725919879, 0.7773567434063795, 0.04572686725919879, 0.13286527845273127, 0.13286527845273127, 0.04428842615091042, 0.6200379661127459, 0.04428842615091042, 0.036130858751010304, 0.1083925762530309, 0.07226171750202061, 0.6864863162691958, 0.036130858751010304, 0.036130858751010304, 0.036130858751010304, 0.5597127559846012, 0.11580263916922784, 0.019300439861537972, 0.11580263916922784, 0.1351030790307658, 0.038600879723075944, 0.019300439861537972, 0.06747660992200129, 0.13495321984400258, 0.02249220330733376, 0.06747660992200129, 0.02249220330733376, 0.1799376264586701, 0.4948284727613428, 0.07119503522060233, 0.035597517610301166, 0.035597517610301166, 0.07119503522060233, 0.1067925528309035, 0.6585540757905716, 0.035597517610301166, 0.014396378913317435, 0.02879275782663487, 0.033591550797740684, 0.09117706645101042, 0.662233430012602, 0.043189136739952304, 0.047987929711058114, 0.033591550797740684, 0.038390343768846494, 0.014396378913317435, 0.035093367860770434, 0.07018673572154087, 0.7369607250761792, 0.14037347144308174, 0.16954487058928197, 0.7459974305928406, 0.03390897411785639, 0.03725336819643453, 0.03725336819643453, 0.707813995732256, 0.03725336819643453, 0.14901347278573812, 0.03725336819643453, 0.0850045367811492, 0.0425022683905746, 0.7650408310303429, 0.0850045367811492, 0.0341543498961978, 0.0341543498961978, 0.2390804492733846, 0.7172413478201538, 0.04434416628608391, 0.8425391594355943, 0.04434416628608391, 0.04434416628608391, 0.08801371896424559, 0.005029355369385462, 0.005029355369385462, 0.14333662802748567, 0.015088066108156387, 0.12573388423463655, 0.012573388423463656, 0.06538161980201102, 0.22129163625296033, 0.31936406595597683, 0.1605358058782173, 0.7384647070397996, 0.09632148352693039, 0.12862740158316457, 0.1607842519789557, 0.6752938583116139, 0.04375413368582983, 0.04375413368582983, 0.8750826737165966, 0.07578292943656018, 0.3567517149890899, 0.017158399117711737, 0.11367439415484026, 0.08150239580913075, 0.13869705953483655, 0.021447998897139674, 0.04575573098056464, 0.04289599779427935, 0.10652506118912704, 0.025291905430207307, 0.08754890341225606, 0.05447487323429266, 0.03891062373878047, 0.30739392753636574, 0.08560337222531704, 0.019455311869390236, 0.15369696376818287, 0.17120674445063408, 0.05642040442123169, 0.6494020133830007, 0.0683581066718948, 0.1367162133437896, 0.0341790533359474, 0.0683581066718948, 0.0341790533359474, 0.07154802480546738, 0.02384934160182246, 0.18632298126423796, 0.049189267053758826, 0.017887006201366844, 0.3010979377230086, 0.13415254651025132, 0.16694539121275723, 0.017887006201366844, 0.03130226085239198, 0.5855928035615969, 0.0390395202374398, 0.0780790404748796, 0.1171185607123194, 0.1171185607123194, 0.4312689993003506, 0.10720811282042614, 0.026802028205106534, 0.05847715244750517, 0.009746192074584194, 0.0901522766899038, 0.09989846876448799, 0.12426394895094849, 0.009746192074584194, 0.04142131631698283, 0.034494773393434035, 0.1034843201803021, 0.1034843201803021, 0.7588850146555488, 0.0682410460899858, 0.0583953230222764, 0.27330369205193317, 0.09336461529724424, 0.05500024610237661, 0.13580307679599163, 0.046173046110637155, 0.06246941532615615, 0.014938338447559079, 0.19216135366632817, 0.6703988670550064, 0.053631909364400515, 0.10726381872880103, 0.026815954682200258, 0.053631909364400515, 0.08044786404660077, 0.02139006485458818, 0.2780708431096463, 0.6844820753468217, 0.8370776271981497, 0.13393242035170397, 0.570560218393436, 0.03356236578784917, 0.03356236578784917, 0.16781182893924587, 0.16781182893924587, 0.030389065382441505, 0.18233439229464904, 0.5166141115015056, 0.18233439229464904, 0.09116719614732452, 0.8902255403553287, 0.08092959457775717, 0.22768860814636815, 0.20575328944247914, 0.021496612329811253, 0.05878665412642261, 0.067999487982056, 0.043870637407778065, 0.21715965516850144, 0.04167710553738916, 0.027199795192822403, 0.08817998118963391, 0.43530808945604127, 0.008680754702187593, 0.031970584390983575, 0.06902258616861355, 0.007622126079969594, 0.07537435790192154, 0.04086306481761477, 0.19521111793699905, 0.09739383324405593, 0.03832235612429157, 0.17873474178575197, 0.011915649452383463, 0.7030233176906243, 0.011915649452383463, 0.011915649452383463, 0.059578247261917315, 0.011915649452383463, 0.1698596068289947, 0.35253880662621545, 0.03952707831869688, 0.19015729569535256, 0.0555515695289794, 0.007478095898131842, 0.03845877890467805, 0.0555515695289794, 0.03632218007664038, 0.05448327011496056, 0.032531209316161665, 0.58556176769091, 0.06506241863232333, 0.06506241863232333, 0.06506241863232333, 0.16265604658080832, 0.02759716693849918, 0.07244256321356035, 0.10693902188668432, 0.4392549071044453, 0.07934185494818514, 0.08624114668280994, 0.04369551431929037, 0.010348937601937192, 0.04369551431929037, 0.09199055646166393, 0.17640855782658973, 0.09846059041484079, 0.047862787007214275, 0.019145114802885707, 0.07521295101133671, 0.03282019680494693, 0.10256311501545916, 0.29948429584514075, 0.1052981314158714, 0.042392754206389785, 0.19117616112578587, 0.3564301309124821, 0.019441643504317204, 0.022681917421703408, 0.014581232628237904, 0.19441643504317205, 0.009720821752158602, 0.08262698489334812, 0.014581232628237904, 0.09396794360419983, 0.0459205431980307, 0.49492141002321977, 0.035715978042912766, 0.1377616295940921, 0.0459205431980307, 0.12755706443897416, 0.0765342386633845, 0.0051022825775589664, 0.020409130310235866, 0.12458962621890265, 0.840979976977593, 0.14159015278939144, 0.18664156504056142, 0.07401303441263643, 0.08044895044851785, 0.03539753819734786, 0.067577118376755, 0.05148732828705143, 0.3217958017940714, 0.009653874053822143, 0.03539753819734786, 0.10103921059808313, 0.006826973689059671, 0.0027307894756238684, 0.10240460533589507, 0.103770000073707, 0.023211710542802882, 0.017750131591555144, 0.03140407896967449, 0.06963513162840865, 0.5420617109113379, 0.0377646522587641, 0.0511650127376804, 0.08405680664047493, 0.24486113238747048, 0.05238322732667279, 0.0901478795854369, 0.0511650127376804, 0.18273218834885857, 0.06700180239458148, 0.1400946777341249, 0.0339821218114853, 0.12334251620465034, 0.03272352470735621, 0.0503438841651634, 0.02265474787432353, 0.03524071891561438, 0.14096287566245752, 0.0339821218114853, 0.4505777632782125, 0.07677442335187419, 0.046091357475615366, 0.10946697400458649, 0.5300506109695766, 0.03456851810671152, 0.023045678737807683, 0.011522839368903842, 0.005761419684451921, 0.03456851810671152, 0.20164968895581722, 0.028589990813133882, 0.1429499540656694, 0.028589990813133882, 0.057179981626267765, 0.7147497703283471, 0.028589990813133882, 0.664211373409315, 0.09488733905847359, 0.09488733905847359, 0.06325822603898239, 0.031629113019491194, 0.031629113019491194, 0.28802995106817264, 0.5760599021363453, 0.04114713586688181, 0.04114713586688181, 0.08394647777519951, 0.531661025909597, 0.04896877870219971, 0.04896877870219971, 0.04896877870219971, 0.12591971666279927, 0.09793755740439943, 0.00699553981459996, 0.10321884693223447, 0.048168795235042756, 0.012042198808760689, 0.02752502584859586, 0.0791344493147131, 0.06881256462148964, 0.03440628231074482, 0.16170952686050066, 0.060210994043803444, 0.40427381715125166, 0.060100177059817975, 0.19254315983978723, 0.10684475921745418, 0.07345577196199975, 0.1469115439239995, 0.11797442163593899, 0.03450195349730291, 0.020033392353272658, 0.1235392528451814, 0.1235392528451814, 0.09382182553999469, 0.7505746043199575, 0.14073273830999203, 0.04557959968826678, 0.3420463253574306, 0.14205420427626003, 0.053021166984310336, 0.08624244955593335, 0.1288985763778973, 0.0134213981589357, 0.07667472017530592, 0.04717422125170469, 0.06484794357980814, 0.022821113866051238, 0.0864800104397731, 0.05525111778096615, 0.09488778923252883, 0.014413335073295518, 0.048044450244318394, 0.2270100274044044, 0.027625558890483074, 0.3747467119056835, 0.04924556150042635, 0.06653364165927388, 0.022177880553091292, 0.022177880553091292, 0.17742304442473034, 0.5988027749334649, 0.11088940276545646, 0.04987374012153514, 0.5984848814584217, 0.29924244072921086, 0.04987374012153514, 0.04744535482113493, 0.17080327735608575, 0.08065710319592939, 0.09489070964226987, 0.01423360644634048, 0.5029207611040303, 0.061678961267475414, 0.009489070964226987, 0.01423360644634048, 0.009489070964226987, 0.7857451576560558, 0.21826254379334883, 0.5676471078303817, 0.043665162140798595, 0.3056561349855902, 0.043665162140798595, 0.046752447249832976, 0.12244688565432445, 0.10018381553535637, 0.4430350953674648, 0.02226307011896808, 0.1090890435829436, 0.020036763107071275, 0.07569443840449148, 0.053431368285523397, 0.0066789210356904246, 0.019915956918287972, 0.006638652306095991, 0.1526890030402078, 0.13056016201988782, 0.030980377428447958, 0.02212884102031997, 0.32529396299870356, 0.03319326153047995, 0.2522687876316477, 0.028767493326415962, 0.04827186014624811, 0.06143691291340669, 0.052660211068634305, 0.17992238781783387, 0.035106807379089534, 0.08337866752533765, 0.42128168854907444, 0.004388350922386192, 0.114097123982041, 0.028461573790074537, 0.028461573790074537, 0.056923147580149075, 0.028461573790074537, 0.056923147580149075, 0.056923147580149075, 0.740000918541938, 0.014600028264704632, 0.007300014132352316, 0.007300014132352316, 0.014600028264704632, 0.014600028264704632, 0.138700268514694, 0.06570012719117084, 0.12410024024998938, 0.007300014132352316, 0.6059011729852423, 0.012414784953178897, 0.5338357529866926, 0.03724435485953669, 0.012414784953178897, 0.13656263448496786, 0.012414784953178897, 0.08690349467225228, 0.012414784953178897, 0.14897741943814677, 0.04577897370200223, 0.6866846055300334, 0.22889486851001112, 0.6963122445839715, 0.2984195333931306, 0.1141907665773626, 0.1244029489541999, 0.09190964139153575, 0.012997323025065661, 0.03945615918323504, 0.3170418437899945, 0.09515897214780217, 0.13647189176318944, 0.031100737238549975, 0.037599398751082806, 0.11388774169580047, 0.1518503222610673, 0.03796258056526682, 0.645363869609536, 0.03796258056526682, 0.1115285236242729, 0.10697633898654749, 0.14111772376948817, 0.08421541579792036, 0.06373058492815595, 0.08876760043564579, 0.2958920014521526, 0.020484830869764412, 0.050074031014979675, 0.03869356942066611, 0.02462708751819957, 0.04309740315684925, 0.012313543759099784, 0.1477625251091974, 0.018470315638649676, 0.03694063127729935, 0.018470315638649676, 0.21548701578424623, 0.45560111908669204, 0.02462708751819957, 0.13789783845514728, 0.0436055327006817, 0.08124791563033001, 0.13193468868411387, 0.04286013897930253, 0.10249163668963648, 0.10249163668963648, 0.008944724656550093, 0.3145561504220116, 0.033915414322752434, 0.041138895355939384, 0.7816390117628483, 0.12341668606781817, 0.06161663036483555, 0.04298834676616434, 0.1561909932503971, 0.3123819865007942, 0.041555401873958855, 0.050153071227191724, 0.02436006316749312, 0.20347817469317786, 0.02149417338308217, 0.08597669353232867, 0.5449042847278334, 0.013622607118195833, 0.013622607118195833, 0.23158432100932919, 0.013622607118195833, 0.054490428472783334, 0.040867821354587504, 0.06811303559097917, 0.013622607118195833, 0.057564408808628426, 0.06044262924905985, 0.05180796792776558, 0.04461241682668703, 0.09929860519488404, 0.01870843286280424, 0.017269322642588528, 0.4043899718806147, 0.12520258915876684, 0.1208852584981197, 0.11324440231161423, 0.06471108703520813, 0.6309330985932793, 0.0970666305528122, 0.08088885879401017, 0.32611078234330815, 0.6056343100661438, 0.04658725462047259, 0.8861707340917347, 0.07089365872733878, 0.03544682936366939, 0.1020319275225192, 0.0353988319976087, 0.02706969505699489, 0.5018305006719822, 0.11660791716859337, 0.01874055811638108, 0.024987410821841437, 0.016658273881227623, 0.010411421175767266, 0.14367761222558825, 0.36513549860549066, 0.10432442817299734, 0.0041729771269198935, 0.03338381701535915, 0.09180549679223765, 0.01877839707113952, 0.10641091673645728, 0.13979473375181642, 0.10015145104607744, 0.03547030557881909, 0.06483291076159738, 0.09508826911700947, 0.5618852266005105, 0.008644388101546316, 0.06483291076159738, 0.04754413455850474, 0.012966582152319474, 0.09076607506623632, 0.012966582152319474, 0.03889974645695842, 0.07442782561323617, 0.018606956403309043, 0.47137622888382913, 0.04961855040882412, 0.08063014441433919, 0.08063014441433919, 0.11784405722095728, 0.0434162316077211, 0.0434162316077211, 0.031011594005515074, 0.06787774754528782, 0.06787774754528782, 0.746655222998166, 0.06787774754528782, 0.03393887377264391, 0.018246672589206567, 0.018246672589206567, 0.5656468502654035, 0.07298669035682627, 0.1094800355352394, 0.09123336294603283, 0.018246672589206567, 0.0547400177676197, 0.036493345178413135, 0.015903671638510544, 0.06361468655404218, 0.03180734327702109, 0.06361468655404218, 0.04771101491553163, 0.5725321789863795, 0.12722937310808435, 0.06361468655404218, 0.1335260126800138, 0.2329287110084685, 0.05786127216133931, 0.011868978904890115, 0.4554720654751581, 0.05637764979822804, 0.019287090720446435, 0.007418111815556321, 0.01780346835733517, 0.007418111815556321, 0.014165113982858923, 0.014165113982858923, 0.010623835487144191, 0.0035412784957147307, 0.6763841926815135, 0.16644008929859233, 0.028330227965717845, 0.053119177435720956, 0.03541278495714731, 0.11096073381244483, 0.08574238521870736, 0.015131009156242476, 0.030262018312484953, 0.42366825637478933, 0.14122275212492977, 0.1361790824061823, 0.05043669718747492, 0.005043669718747492, 0.021844232668817073, 0.2902162340285697, 0.05148997700506882, 0.03900755833717335, 0.13340584951313283, 0.028865593169508277, 0.1817752218512278, 0.19893854751958406, 0.042128163004147214, 0.01248241866789547, 0.2106007730450013, 0.10530038652250065, 0.631802319135004, 0.03510012884083355, 0.03874786929959827, 0.07749573859919653, 0.7362095166923671, 0.15499147719839307, 0.5517500443483606, 0.07639615998669609, 0.014854808886302017, 0.11671635553523013, 0.021221155551860025, 0.038198079993348046, 0.048808657769278056, 0.014854808886302017, 0.10398366220411412, 0.010610577775930012, 0.09532201049003697, 0.09532201049003697, 0.047661005245018484, 0.047661005245018484, 0.7149150786752773, 0.013179869072652244, 0.07907921443591347, 0.019769803608978367, 0.10543895258121795, 0.540374631978742, 0.013179869072652244, 0.06589934536326122, 0.026359738145304488, 0.10543895258121795, 0.03953960721795673, 0.05473327237690834, 0.164199817130725, 0.6841659047113542, 0.02736663618845417, 0.02736663618845417, 0.022617638825301874, 0.21051802291242516, 0.10786873901297818, 0.04204561063677913, 0.06118361271972687, 0.020297880997065785, 0.11453804276915694, 0.24589432979302553, 0.10119943525679942, 0.07423225050355488, 0.6800972534175551, 0.06800972534175552, 0.03400486267087776, 0.06800972534175552, 0.13601945068351104, 0.022043199501946966, 0.022043199501946966, 0.11756373067705049, 0.4849503890428333, 0.036738665836578276, 0.10286826434241918, 0.04408639900389393, 0.08817279800778786, 0.022043199501946966, 0.05143413217120959, 0.11613177120855118, 0.07742118080570079, 0.15484236161140158, 0.6193694464456063, 0.22781849738252782, 0.2772249185016302, 0.031107746630545968, 0.06679016188323104, 0.050321354843530244, 0.0933232398916379, 0.03568241525268508, 0.03842721642596855, 0.018298674488556453, 0.15919846805044113, 0.07133476671441535, 0.012142087951389848, 0.16240042634983923, 0.019730892921008502, 0.037944024848093276, 0.10320774758681371, 0.03490850286024581, 0.010624326957466117, 0.056157156775178046, 0.49175456203128887, 0.022448879008650405, 0.4863923785207588, 0.052380717686850944, 0.022448879008650405, 0.07482959669550135, 0.20203991107785366, 0.022448879008650405, 0.01496591933910027, 0.10476143537370189, 0.3053645295559753, 0.6488996253064476, 0.038170566194496915, 0.1210341275799142, 0.020172354596652366, 0.1210341275799142, 0.01210341275799142, 0.04034470919330473, 0.05648259287062663, 0.01210341275799142, 0.06455153470928758, 0.5527225159482749, 0.03528192172751805, 0.5909721889359273, 0.008820480431879512, 0.008820480431879512, 0.1323072064781927, 0.026461441295638537, 0.05292288259127707, 0.03528192172751805, 0.09702528475067464, 0.15222408672528884, 0.03261944715541904, 0.021746298103612692, 0.021746298103612692, 0.15222408672528884, 0.054365745259031734, 0.010873149051806346, 0.10873149051806347, 0.4457991111240602, 0.12802016951699405, 0.38228245064102384, 0.003556115819916501, 0.18669608054561632, 0.056897853118664014, 0.051563679388789266, 0.11557376414728629, 0.051563679388789266, 0.008890289549791253, 0.014224463279666004, 0.09112162099782488, 0.02278040524945622, 0.2505844577440184, 0.615070941735318, 0.02278040524945622, 0.14993080261489647, 0.017638917954693703, 0.026458376932040555, 0.1190626961941825, 0.07496540130744823, 0.44538267835601597, 0.07055567181877481, 0.02204864744336713, 0.03968756539806083, 0.035277835909387406, 0.06768795492426691, 0.10682005386485871, 0.16181651724082557, 0.037016850349208465, 0.08778281654240865, 0.06768795492426691, 0.037016850349208465, 0.014806740139683385, 0.38074474644900136, 0.03807447464490014, 0.05988618100982863, 0.5988618100982863, 0.14971545252457158, 0.08982927151474294, 0.08982927151474294, 0.03144912186525927, 0.33021577958522236, 0.015724560932629635, 0.015724560932629635, 0.5818087545072965, 0.03262106433829563, 0.03262106433829563, 0.1957263860297738, 0.619800222427617, 0.03262106433829563, 0.03262106433829563, 0.03582206581630955, 0.09518434631190822, 0.13817082529147967, 0.3162576667782757, 0.026610677463544233, 0.17911032908154773, 0.09211388352765312, 0.06243274327985378, 0.050150892142833366, 0.005117437973758507, 0.026896137306910397, 0.12372223161178783, 0.053792274613820794, 0.010758454922764159, 0.13717030026524302, 0.3846147634888187, 0.1479287551880072, 0.08068841192073119, 0.00806884119207312, 0.026896137306910397, 0.08263335916074906, 0.5990918539154307, 0.14460837853131087, 0.04131667958037453, 0.020658339790187264, 0.020658339790187264, 0.08263335916074906, 0.05059825356155282, 0.016866084520517605, 0.8433042260258803, 0.016866084520517605, 0.008433042260258802, 0.03373216904103521, 0.008433042260258802, 0.008433042260258802, 0.040688377475172115, 0.016275350990068847, 0.07730791720282702, 0.020344188737586057, 0.008137675495034424, 0.008137675495034424, 0.11799629467799914, 0.6957712548254432, 0.020344188737586057, 0.04880925670050563, 0.014079593278992008, 0.18678927083462732, 0.23372124843126735, 0.12014586264739847, 0.05256381490823683, 0.06288884997949763, 0.23278260887933455, 0.039422861181177625, 0.009386395519328006, 0.023664962381494074, 0.30764451095942297, 0.5916240595373519, 0.04732992476298815, 0.04034492843896422, 0.01568969439293053, 0.049310468092067385, 0.04258631335224001, 0.04034492843896422, 0.01120692456637895, 0.060517392658446335, 0.6970707080287707, 0.03362077369913685, 0.01120692456637895, 0.018675454163011584, 0.0062251513876705284, 0.018675454163011584, 0.7781439234588161, 0.012450302775341057, 0.012450302775341057, 0.15562878469176322, 0.003902576932960919, 0.2517162121759793, 0.013659019265363217, 0.32001130850279536, 0.046830923195531025, 0.05463607706145287, 0.019512884664804594, 0.17171338505028044, 0.06439251939385517, 0.05073350012849195, 0.09743537536940829, 0.7470045444987968, 0.09743537536940829, 0.032478458456469426, 0.009187057376746416, 0.009187057376746416, 0.25264407786052645, 0.02756117213023925, 0.041341758195358874, 0.10565115983258379, 0.09646410245583736, 0.009187057376746416, 0.4501658114605744, 0.1735473142792458, 0.03470946285584916, 0.03470946285584916, 0.10412838856754747, 0.13883785142339664, 0.4859324799818882, 0.1064430340034403, 0.1064430340034403, 0.7451012380240821, 0.04164490181366318, 0.8328980362732634, 0.013881633937887725, 0.04164490181366318, 0.06940816968943862, 0.013881633937887725, 0.1181077436413621, 0.732268010576445, 0.04724309745654484, 0.04724309745654484, 0.02362154872827242, 0.14648457234792547, 0.018310571543490684, 0.640870004022174, 0.1098634292609441, 0.09155285771745342, 0.7003773849258126, 0.08754717311572657, 0.11672956415430209, 0.058364782077151046, 0.7141751296429035, 0.047611675309526896, 0.19044670123810759, 0.047611675309526896, 0.04790043099253737, 0.1916017239701495, 0.766406895880598, 0.06052138647829822, 0.012104277295659643, 0.06052138647829822, 0.012104277295659643, 0.12104277295659643, 0.09683421836527714, 0.6294224193743014, 0.3575377943728765, 0.062482332997201726, 0.048597370108934675, 0.0659535737192685, 0.131907147438537, 0.052068610831001436, 0.062482332997201726, 0.024298685054467337, 0.09719474021786935, 0.09719474021786935, 0.1343813160994146, 0.49273149236452013, 0.04479377203313819, 0.22396886016569095, 0.04479377203313819, 0.02454776120711712, 0.162015223966973, 0.08837194034562162, 0.09328149258704506, 0.019638208965693696, 0.019638208965693696, 0.019638208965693696, 0.4320405972452613, 0.034366865689963964, 0.1031005970698919, 0.11351283313918305, 0.08680393122408116, 0.046740578351428315, 0.08680393122408116, 0.031160385567618874, 0.48966320177686806, 0.031160385567618874, 0.0244831600888434, 0.05341780383020379, 0.03783761104639435, 0.128208715094161, 0.128208715094161, 0.5983073371060847, 0.128208715094161, 0.049006951578273096, 0.09801390315654619, 0.5390764673610041, 0.049006951578273096, 0.09801390315654619, 0.19602780631309238, 0.6964401654107415, 0.0928586887214322, 0.1392880330821483, 0.0464293443607161, 0.030524257003608814, 0.06104851400721763, 0.06104851400721763, 0.06104851400721763, 0.5799608830685675, 0.2136697990252617, 0.014584778153676837, 0.2625260067661831, 0.029169556307353673, 0.20418689415147573, 0.006250619208718645, 0.008334158944958193, 0.31044742069969267, 0.10417698681197742, 0.058339112614707346, 0.002083539736239548, 0.08404970981390443, 0.044597805207377855, 0.0806191094133369, 0.09605681121589077, 0.0754732088124856, 0.03259070380539151, 0.03945190460652657, 0.05317430620879668, 0.2744480320454022, 0.21955842563632177, 0.6461522988030785, 0.04615373562879132, 0.18461494251516528, 0.13846120688637395, 0.19634414316279694, 0.6544804772093232, 0.03272402386046616, 0.03272402386046616, 0.06544804772093232, 0.05386325518140925, 0.026931627590704624, 0.026931627590704624, 0.7002223173583203, 0.1077265103628185, 0.08079488277211387, 0.03219459026843963, 0.03219459026843963, 0.03219459026843963, 0.6438918053687925, 0.06438918053687925, 0.06438918053687925, 0.03219459026843963, 0.06438918053687925, 0.015081031116110144, 0.04524309334833043, 0.015081031116110144, 0.6183222757605159, 0.04524309334833043, 0.10556721781277101, 0.1357292800449913, 0.8425331787631305, 0.11233775716841739, 0.908716968740889, 0.026726969668849677, 0.053453939337699354, 0.0826530071573705, 0.1983672171776892, 0.5510200477158034, 0.0165306014314741, 0.0495918042944223, 0.03857140334010623, 0.03857140334010623, 0.022040801908632134, 0.05713158716178249, 0.03808772477452166, 0.4951404220687815, 0.2856579358089124, 0.05713158716178249, 0.01904386238726083, 0.01904386238726083, 0.08648488289041356, 0.0893204528212468, 0.11342279723332926, 0.10066273254457972, 0.2240100245358253, 0.043951333927915094, 0.04820468882416494, 0.03828019406624863, 0.13752514164541174, 0.11767615212957912, 0.018113554976476504, 0.018113554976476504, 0.018113554976476504, 0.054340664929429516, 0.09056777488238253, 0.7969964189649662, 0.3100569984623688, 0.02818699986021534, 0.02818699986021534, 0.05637399972043068, 0.5637399972043068, 0.11480254350648651, 0.03826751450216217, 0.019133757251081084, 0.019133757251081084, 0.09566878625540542, 0.6888152610389191, 0.04064000892217148, 0.24384005353302893, 0.6502401427547437, 0.04064000892217148, 0.07810102633630411, 0.0055786447383074375, 0.02231457895322975, 0.03347186842984462, 0.09483696055122644, 0.01673593421492231, 0.5467071843541288, 0.0446291579064595, 0.14504476319599335, 0.011157289476614875, 0.12985090753388914, 0.08656727168925941, 0.04328363584462971, 0.17313454337851883, 0.5626872659801863, 0.4333410237036096, 0.005855959779778508, 0.023423839119114033, 0.026351819009003286, 0.023423839119114033, 0.026351819009003286, 0.002927979889889254, 0.0761274771371206, 0.032207778788781796, 0.34842960689682123, 0.6106521587984599, 0.12213043175969199, 0.04071014391989733, 0.20355071959948665, 0.06834599456413501, 0.23921098097447252, 0.05125949592310126, 0.08543249320516876, 0.4698787126284282, 0.05125949592310126, 0.02562974796155063, 0.10962629171267507, 0.1308442836570638, 0.010608995972194363, 0.03182698791658309, 0.4756366527533806, 0.015913493958291544, 0.007072663981462908, 0.14322144562462388, 0.0459723158795089, 0.026522489930485903, 0.0733543732045423, 0.24451457734847434, 0.19561166187877949, 0.46457769696210127, 0.035268758945668784, 0.07053751789133757, 0.6348376610220381, 0.07053751789133757, 0.1763437947283439, 0.006264071846444709, 0.4541452088672414, 0.02818832330900119, 0.02662230534739001, 0.08143293400378121, 0.03601841311705708, 0.05637664661800238, 0.22394056851039834, 0.08456496992700357, 0.0015660179616111772, 0.030901169751929834, 0.02060077983461989, 0.16480623867695912, 0.10300389917309945, 0.06180233950385967, 0.0051501949586549725, 0.015450584875964917, 0.14420545884233923, 0.45321715636163756, 0.32817596387244546, 0.3738163297090107, 0.03477361206595449, 0.023906858295343707, 0.045640365836565264, 0.0065200522623664655, 0.052160418098931724, 0.03260026131183233, 0.07824062714839759, 0.028253559803588017, 0.04115466718558442, 0.6173200077837664, 0.04115466718558442, 0.08230933437116884, 0.04115466718558442, 0.12346400155675327, 0.23933708930460557, 0.16842239617731503, 0.022160841602278294, 0.3700860547580475, 0.04875385152501224, 0.053186019845467905, 0.05540210400569573, 0.015512589121594806, 0.026593009922733953, 0.025986926897873953, 0.06583354814128069, 0.04504400662298152, 0.012127232552341178, 0.32050543174044543, 0.15592156138724372, 0.2685315779446975, 0.032916774070640344, 0.03638169765702354, 0.03638169765702354, 0.011737647032487928, 0.03912549010829309, 0.022916358492000237, 0.030741456513658855, 0.008942969167609848, 0.09557798297883026, 0.5745857690189328, 0.013414453751414774, 0.04527378141102486, 0.1581787671520992, 0.05278068220891831, 0.09896377914172183, 0.05278068220891831, 0.5805875042981014, 0.019792755828344364, 0.03298792638057394, 0.1121589496939514, 0.046183096932803515, 0.022474398721640167, 0.0674231961649205, 0.6068087654842845, 0.134846392329841, 0.022474398721640167, 0.044948797443280335, 0.044948797443280335, 0.044948797443280335, 0.6246107291799857, 0.07807634114749822, 0.11711451172124733, 0.03903817057374911, 0.11711451172124733, 0.015498818935255579, 0.2169834650935781, 0.1549881893525558, 0.588955119539712, 0.540392504297228, 0.06004361158858089, 0.015010902897145222, 0.030021805794290445, 0.02001453719619363, 0.06004361158858089, 0.050036342990484074, 0.030021805794290445, 0.18013083476574265, 0.02001453719619363, 0.5307570314302371, 0.04422975261918642, 0.08845950523837284, 0.04422975261918642, 0.26537851571511856, 0.15020358669430323, 0.037550896673575807, 0.6383652434507887, 0.037550896673575807, 0.11265269002072742, 0.050841408894068504, 0.10168281778813701, 0.6609383156228905, 0.1525242266822055, 0.050841408894068504, 0.13795786726645026, 0.06897893363322513, 0.6897893363322514, 0.034489466816612566, 0.06897893363322513, 0.18790091730177047, 0.0031847613101994997, 0.16083044616507472, 0.14968378157937648, 0.2722970920220572, 0.0859885553753865, 0.03503237441219449, 0.052548561618291745, 0.023885709826496248, 0.028662851791795497, 0.1635704200171565, 0.054523473339052164, 0.054523473339052164, 0.054523473339052164, 0.654281680068626, 0.0692692282311724, 0.045175583629025476, 0.27858276571232377, 0.05119899477956221, 0.024093644602146923, 0.02861120296504947, 0.11143310628492951, 0.01807023345161019, 0.34484028836822783, 0.02861120296504947, 0.08502228992820209, 0.04251114496410104, 0.02125557248205052, 0.06376671744615157, 0.02125557248205052, 0.06376671744615157, 0.6589227469435662, 0.06376671744615157, 0.09959027040905975, 0.12172144161107303, 0.06086072080553651, 0.16045099121459627, 0.005532792800503319, 0.4370906312397622, 0.07192630640654316, 0.04426234240402655, 0.11708054429289534, 0.016725792041842193, 0.033451584083684385, 0.15053212837657973, 0.0027876320069736985, 0.0027876320069736985, 0.033451584083684385, 0.4822603372064499, 0.027876320069736987, 0.13659396834171122, 0.017686557512134955, 0.03537311502426991, 0.017686557512134955, 0.08843278756067477, 0.03537311502426991, 0.760521973021803, 0.017686557512134955, 0.03537311502426991, 0.03578812548531563, 0.2147287529118938, 0.7157625097063127, 0.05942988014249065, 0.17828964042747195, 0.029714940071245324, 0.6834436216386425, 0.029714940071245324, 0.7632868741406817, 0.20086496687912678, 0.03039326063271516, 0.24314608506172128, 0.06078652126543032, 0.6686517339197335, 0.0389498232371136, 0.0778996464742272, 0.1557992929484544, 0.0389498232371136, 0.6621469950309312, 0.040686491165095665, 0.5696108763113392, 0.040686491165095665, 0.040686491165095665, 0.040686491165095665, 0.12205947349528698, 0.08137298233019133, 0.1795843666587074, 0.0259292935817385, 0.1277257794952304, 0.048017210336552776, 0.2506498379568055, 0.08258960177887077, 0.09795510908656767, 0.05377927557693911, 0.05954134081732544, 0.07490684812502234, 0.08820914003406712, 0.11761218671208949, 0.058806093356044746, 0.17641828006813423, 0.058806093356044746, 0.47044874684835797, 0.07360091798145821, 0.021857242309645163, 0.06646385926810468, 0.2408757315756814, 0.07672338116855036, 0.056204337367658994, 0.23284654052315867, 0.12579065982285584, 0.07137058713353522, 0.03434709505801383, 0.1531833219935223, 0.05796125697052195, 0.12006260372465262, 0.08280179567217422, 0.016560359134434845, 0.04140089783608711, 0.09108197523939164, 0.39744861922643626, 0.016560359134434845, 0.020700448918043554, 0.3610055335821686, 0.07896996047109937, 0.011281422924442768, 0.03384426877332831, 0.022562845848885536, 0.011281422924442768, 0.47381976282659627, 0.02442155418198761, 0.30742427029090286, 0.2758199060553895, 0.05171623238538553, 0.03878717428903915, 0.04309686032115461, 0.07182810053525768, 0.12210777090993806, 0.03735061227833399, 0.02729467820339792, 0.11607505817454818, 0.18793104656831608, 0.08291075583896299, 0.011054767445195063, 0.038691686058182725, 0.5085193024789729, 0.03316430233558519, 0.022109534890390126, 0.005527383722597532, 0.10695165661428557, 0.00972287787402596, 0.14584316811038942, 0.03889151149610384, 0.01944575574805192, 0.6417099396857134, 0.02916863362207788, 0.17006179065369662, 0.3025517903490184, 0.017797164138177553, 0.04350417900443402, 0.003954925364039456, 0.03163940291231565, 0.03954925364039456, 0.1127153728751245, 0.13248999969532177, 0.14435477578744016, 0.02952613395959409, 0.023620907167675273, 0.5964279059838006, 0.02952613395959409, 0.017715680375756455, 0.02952613395959409, 0.02952613395959409, 0.21849339130099626, 0.02952613395959409, 0.051869630725899105, 0.051869630725899105, 0.032312228976789606, 0.022958689009824194, 0.015305792673216129, 0.08843346877858207, 0.5561104671268526, 0.062073492508043185, 0.015305792673216129, 0.10373926145179821, 0.1070769528555866, 0.02243517107450386, 0.02243517107450386, 0.06934507423028466, 0.03161319560498271, 0.4068924208512291, 0.09585936731833468, 0.14684839248766163, 0.028553854094823097, 0.0703648547336712, 0.5318195864988486, 0.14772766291634684, 0.05909106516653874, 0.11818213033307748, 0.02954553258326937, 0.0886365977498081, 0.026616176355314287, 0.7452529379488, 0.026616176355314287, 0.026616176355314287, 0.07984852906594286, 0.07984852906594286, 0.04402565092494983, 0.11345071584506303, 0.2810868482131412, 0.15578307250366863, 0.20150201769496268, 0.01693294266344224, 0.049105533723982506, 0.05079882799032673, 0.037252473859572935, 0.049105533723982506, 0.010661056710278066, 0.014214742280370755, 0.02842948456074151, 0.14570110837380024, 0.08884213925231722, 0.4193348972709373, 0.08884213925231722, 0.021322113420556132, 0.08528845368222453, 0.0959495103925026, 0.04193419928959526, 0.12580259786878578, 0.12580259786878578, 0.12580259786878578, 0.04193419928959526, 0.5451445907647384, 0.06464586736355389, 0.059857284595883235, 0.11253169504026049, 0.1053488208887545, 0.1221088605756018, 0.06943445013122455, 0.016760039686847306, 0.11253169504026049, 0.07661732428273055, 0.25858346945421556, 0.08200229798876418, 0.5740160859213493, 0.04100114899438209, 0.08200229798876418, 0.12300344698314629, 0.04100114899438209, 0.5924552686117598, 0.31901437540633215, 0.0455734822009046, 0.057355211862415295, 0.10037162075922677, 0.10037162075922677, 0.573552118624153, 0.11471042372483059, 0.04301640889681147, 0.03344408469061944, 0.26755267752495554, 0.13377633876247777, 0.5016612703592916, 0.03344408469061944, 0.01955985822903538, 0.006519952743011793, 0.045639669201082554, 0.1955985822903538, 0.01955985822903538, 0.02607981097204717, 0.5411560776699789, 0.03259976371505897, 0.11083919663120048, 0.680131117024171, 0.045342074468278065, 0.1360262234048342, 0.09068414893655613, 0.05992376069448995, 0.21879140532639355, 0.061317336524594375, 0.07385951899553413, 0.126815400539502, 0.054349457374072284, 0.041807274903132526, 0.058530184864385534, 0.0320522440924016, 0.27453443853057025, 0.08270589386023258, 0.09304413059276165, 0.5169118366264536, 0.010338236732529073, 0.08270589386023258, 0.03101471019758722, 0.020676473465058146, 0.020676473465058146, 0.0723676571277035, 0.08270589386023258, 0.1306550165036001, 0.030244216783240758, 0.035083291468559284, 0.018146530069944454, 0.42462880363670025, 0.10041079972035932, 0.06290797090914078, 0.016936761398614827, 0.09920103104902969, 0.08347403832174449, 0.12130252296497215, 0.3966065098680829, 0.02478790686675518, 0.011602850022736467, 0.10600785702591045, 0.06645268649385432, 0.07805553651659078, 0.13132316616642636, 0.05168542282855335, 0.011602850022736467, 0.05034872329621077, 0.01678290776540359, 0.13426326212322873, 0.5706188640237221, 0.01678290776540359, 0.1678290776540359, 0.01678290776540359, 0.01678290776540359, 0.057717368232783915, 0.09253859038975272, 0.0725044625734145, 0.09206158734650657, 0.30194292637481174, 0.03195920389749192, 0.1588420134009673, 0.07822849909236829, 0.0863375508275528, 0.028143179551522735, 0.03686175953888382, 0.3887240096827748, 0.09047886432271483, 0.15079810720452472, 0.0971810024206937, 0.026808552391915506, 0.023457483342926067, 0.010053207146968314, 0.03686175953888382, 0.13739383100856697, 0.5231551080383653, 0.03487700720255769, 0.04359625900319711, 0.26157755401918265, 0.017438503601278844, 0.017438503601278844, 0.05231551080383653, 0.008719251800639422, 0.05231551080383653, 0.15762583140961103, 0.1474861580440805, 0.030879914340479354, 0.2332124874072023, 0.08618722360700953, 0.07282129053426474, 0.07604755024147901, 0.1387291674102132, 0.011061461853306037, 0.046089424388775155, 0.06320709972674571, 0.11073491890112039, 0.4008016091199844, 0.026948763449387705, 0.12004449172909068, 0.04703784165711308, 0.06663694234757687, 0.06565698731305368, 0.05291757186425222, 0.0455679091053283, 0.27589685301354067, 0.05897795046303949, 0.050481127091245664, 0.15594169952939255, 0.1694366542963592, 0.06747477383483332, 0.018992899301656787, 0.16243927034311725, 0.011995515348414813, 0.028989162092002464, 0.14694195969420784, 0.2565653264502042, 0.13139254596995306, 0.11623186758880462, 0.01010711892076562, 0.05247927131935994, 0.06763994970050838, 0.03343123950714782, 0.07735833327816763, 0.10806842538357085, 0.14891465908229898, 0.07445732954114949, 0.07445732954114949, 0.037228664770574744, 0.07445732954114949, 0.07445732954114949, 0.4839726420174717, 0.07780368273072438, 0.025415869692036634, 0.002593456091024146, 0.14264008500632805, 0.011411206800506243, 0.10321955242276101, 0.11981767140531556, 0.07728499151251955, 0.11411206800506243, 0.32521939381442794, 0.7036520948400564, 0.01675362130571563, 0.01675362130571563, 0.08376810652857815, 0.10052172783429378, 0.03350724261143126, 0.01675362130571563, 0.01675362130571563, 0.14296902676582995, 0.09159920329585641, 0.017948492537701595, 0.1961955908431519, 0.027851109110226615, 0.1318285831217393, 0.04270503396901414, 0.05817787236358448, 0.25313563613517076, 0.037134812146968815, 0.11184518671748195, 0.011184518671748194, 0.020970972509527865, 0.0573206581927095, 0.28520522612957894, 0.0573206581927095, 0.10205873287970227, 0.0027961296679370486, 0.29499167996735864, 0.055922593358740974, 0.01887805874193955, 0.07173662321937029, 0.09061468196130984, 0.46062463330332504, 0.04908295272904283, 0.06418539972259447, 0.04908295272904283, 0.04908295272904283, 0.10194151720647357, 0.04530734098065492, 0.07980357803270595, 0.8778393583597655, 0.3993402434720013, 0.1603649796619848, 0.22325320698041018, 0.04087734775697651, 0.012577645463685082, 0.0628882273184254, 0.009433234097763811, 0.0031444113659212704, 0.018866468195527623, 0.06917705005026795, 0.11265905716691452, 0.22531811433382903, 0.11265905716691452, 0.5069657572511154, 0.6964362721498663, 0.0515878720111012, 0.07738180801665182, 0.07738180801665182, 0.0515878720111012, 0.0515878720111012, 0.050891897272170986, 0.17303245072538137, 0.10178379454434197, 0.010178379454434198, 0.030535138363302593, 0.050891897272170986, 0.050891897272170986, 0.09160541508990779, 0.4376703165406705, 0.015851622750335703, 0.0752952080640946, 0.015851622750335703, 0.06340649100134281, 0.011888717062751778, 0.035666151188255335, 0.47951158819765505, 0.035666151188255335, 0.12681298200268562, 0.14266460475302134, 0.833493534290042, 0.10418669178625525, 0.0827645443354057, 0.2482936330062171, 0.062073408251554274, 0.6000429464316913, 0.032736124914821196, 0.04975890987052822, 0.1230878296797277, 0.014403894962521327, 0.04583057488074968, 0.03666445990459974, 0.18201285452640587, 0.053687244860306765, 0.45044907882793966, 0.01178500496933563, 0.03713166471594061, 0.08818770370035894, 0.06498041325289607, 0.027848748536955455, 0.32026060817498775, 0.24831800778785282, 0.05569749707391091, 0.030169477581701742, 0.07426332943188121, 0.05337676802916462, 0.08134033790386808, 0.10332421301302161, 0.0989274379911909, 0.11651453807851372, 0.035174200174645655, 0.035174200174645655, 0.07694356288203737, 0.2747984388644192, 0.1275064756330905, 0.050562912751053124, 0.9468595286193772, 0.030726115702026727, 0.13826752065912026, 0.06913376032956013, 0.030726115702026727, 0.015363057851013363, 0.015363057851013363, 0.4916178512324276, 0.2074012809886804, 0.12229352828608248, 0.0716893096849449, 0.27199767498111443, 0.01897658197542659, 0.0653637823598027, 0.05798400048047014, 0.006325527325142197, 0.2119051653922636, 0.10753396452741734, 0.0653637823598027, 0.8145331843714233, 0.14374115018319233, 0.0043180011347938125, 0.07340601929149482, 0.07772402042628863, 0.04318001134793813, 0.1295400340438144, 0.021590005673969064, 0.04318001134793813, 0.025908006808762877, 0.5224781373100513, 0.05613401475231957, 0.02747781535185354, 0.13988705997307258, 0.03247378177946327, 0.06994352998653629, 0.029975798565658407, 0.4671228609815102, 0.042465714634682745, 0.07493949641414602, 0.07993546284175575, 0.03746974820707301, 0.12518826216274295, 0.542482469371886, 0.04172942072091432, 0.16691768288365727, 0.08345884144182864, 0.04066288875018716, 0.060994333125280735, 0.12198866625056147, 0.02033144437509358, 0.7319319975033688, 0.8179150000936166, 0.10668456522960217, 0.07112304348640144, 0.2085591232230319, 0.7091010189583086, 0.041711824644606384, 0.008849200226096407, 0.011798933634795209, 0.42476161085262754, 0.023597867269590417, 0.05014546794787964, 0.023597867269590417, 0.005899466817397604, 0.1356877368001449, 0.19173267156542215, 0.1209390697566509, 0.21921250495554692, 0.01565803606825335, 0.579347334525374, 0.01565803606825335, 0.0313160721365067, 0.04697410820476006, 0.0313160721365067, 0.0626321442730134, 0.3275475073066285, 0.655095014613257, 0.5930536308816552, 0.11119755579031035, 0.11119755579031035, 0.0741317038602069, 0.0741317038602069, 0.15661241853728236, 0.016062812157669987, 0.04015703039417497, 0.08031406078834993, 0.4577901464935946, 0.10039257598543741, 0.02409421823650498, 0.10039257598543741, 0.020078515197087483, 0.004015703039417497, 0.5153300900476799, 0.019086299631395555, 0.019086299631395555, 0.09543149815697777, 0.019086299631395555, 0.2099492959453511, 0.11451779778837333, 0.10932855547855812, 0.13666069434819764, 0.5739749162624301, 0.16399283321783717, 0.04217406739436748, 0.1054351684859187, 0.5904369435211447, 0.16869626957746992, 0.06326110109155123, 0.026019854517747496, 0.10407941807098998, 0.010407941807099, 0.18994493797955672, 0.028621839969522247, 0.0884675053603415, 0.018213898162423248, 0.1405072143958365, 0.353870021441366, 0.041631767228396, 0.029887042276569777, 0.6575149300845351, 0.05977408455313955, 0.08966112682970934, 0.1195481691062791, 0.1935044230369707, 0.07014019598355015, 0.1935044230369707, 0.13285378298060677, 0.018566522466233863, 0.011552502867878848, 0.11800056500761966, 0.20464433651671102, 0.02805607839342006, 0.028468667781558588, 0.5052167937516611, 0.012630419843791528, 0.05052167937516611, 0.05052167937516611, 0.012630419843791528, 0.0463115394272356, 0.03368111958344407, 0.03789125953137459, 0.08420279895861019, 0.16419545796928986, 0.04747183683813085, 0.0949436736762617, 0.8070212262482245, 0.04792696383213626, 0.051019026014854724, 0.33626176237063343, 0.0316936373728643, 0.1221364562173795, 0.11440630076058332, 0.06261425920004898, 0.017779357550631193, 0.0912158343901948, 0.12445550285441834, 0.038625201907028776, 0.8304418410011186, 0.11587560572108632, 0.08136877116070447, 0.04821853105819524, 0.03616389829364643, 0.46410336143512926, 0.12355998583662532, 0.04219121467592084, 0.02109560733796042, 0.02109560733796042, 0.07835511296956728, 0.08438242935184168, 0.09090717108646482, 0.08333157349592607, 0.07386207650775266, 0.07007427771248328, 0.005681698192904051, 0.06439257951957925, 0.024620692169250887, 0.46400535242049745, 0.015151195181077468, 0.10795226566517696, 0.16120563339017616, 0.2195731903073089, 0.08801456995440651, 0.029647013037273774, 0.05929402607454755, 0.04632345787074027, 0.31314657520620426, 0.012970568203807277, 0.0342793588243478, 0.035205827981762604, 0.13447575800235925, 0.03667520672791616, 0.6723787900117963, 0.012225068909305387, 0.03667520672791616, 0.09780055127444309, 0.012148130645563728, 0.12553068333749184, 0.02834563817298203, 0.44138208012214875, 0.08503691451894609, 0.02024688440927288, 0.07693816075523693, 0.08908629140080067, 0.044543145700400334, 0.07693816075523693, 0.582877501224883, 0.058287750122488304, 0.11657550024497661, 0.08743162518373246, 0.11657550024497661, 0.11358016070587208, 0.7950611249411046, 0.133314484145237, 0.042418244955302685, 0.006059749279328955, 0.042418244955302685, 0.030298746396644774, 0.036358495675973726, 0.036358495675973726, 0.49083969162564534, 0.10907548702792119, 0.07271699135194745, 0.014118009855275443, 0.028236019710550887, 0.32842949242272346, 0.0772775276288761, 0.06167341147304536, 0.2258881576844071, 0.08693721858248563, 0.09956912213720576, 0.05424287997026881, 0.023777700808884958, 0.07268257876236972, 0.24117401134786318, 0.4460067333145415, 0.01982252148064629, 0.029733782220969434, 0.07929008592258516, 0.009911260740323145, 0.02643002864086172, 0.06937882518226202, 0.13651053248907113, 0.05621021926020576, 0.4376367070973162, 0.06825526624453557, 0.1003753915360817, 0.008030031322886537, 0.09234536021319517, 0.0642402505830923, 0.012045046984329805, 0.012045046984329805, 0.14396254020081029, 0.5758501608032411, 0.0479875134002701, 0.0959750268005402, 0.02399375670013505, 0.07198127010040514, 0.03776874815222461, 0.12679508308246834, 0.02697767725158901, 0.06474642540381362, 0.029675444976747907, 0.08363079947992592, 0.13758615398310395, 0.09981740583087932, 0.11600401218183273, 0.2832656111416846, 0.6297062128773532, 0.044979015205525226, 0.022489507602762613, 0.044979015205525226, 0.022489507602762613, 0.08995803041105045, 0.08995803041105045, 0.044979015205525226, 0.15609519264625388, 0.10088595148129385, 0.04329357760417728, 0.013107229916861012, 0.037732934609145334, 0.005163454209672519, 0.013107229916861012, 0.009135342063266766, 0.013107229916861012, 0.6084932191706385, 0.06747394185838125, 0.7197220464894001, 0.014994209301862502, 0.014994209301862502, 0.014994209301862502, 0.07497104650931251, 0.09746236046210625, 0.3836634329069614, 0.15177894049066604, 0.024242469661703604, 0.03583669428251837, 0.0664032864646664, 0.025296490081777676, 0.034782673862444304, 0.10856410326762919, 0.08853771528622187, 0.08115957234570337, 0.7251835384929418, 0.009541888664380814, 0.22900532794513953, 0.02862566599314244], \"Term\": [\"acceptable\", \"acceptable\", \"acceptable\", \"acceptable\", \"acceptable\", \"act\", \"act\", \"act\", \"act\", \"act\", \"act\", \"act\", \"act\", \"act\", \"act\", \"active\", \"active\", \"active\", \"active\", \"active\", \"actually\", \"actually\", \"actually\", \"actually\", \"actually\", \"actually\", \"actually\", \"actually\", \"actually\", \"actually\", \"acute\", \"acute\", \"acute\", \"acute\", \"adhd\", \"adhd\", \"adhd\", \"adhd\", \"adhd\", \"adhd\", \"adhd\", \"adhd\", \"adhd\", \"adhd\", \"admit\", \"admit\", \"admit\", \"admit\", \"admit\", \"admit\", \"admit\", \"admit\", \"admit\", \"adulthood\", \"adulthood\", \"adulthood\", \"adulthood\", \"adulthood\", \"adulthood\", \"advice\", \"advice\", \"advice\", \"advice\", \"advice\", \"advice\", \"advice\", \"advice\", \"advice\", \"advice\", \"advise\", \"advise\", \"advise\", \"advise\", \"advise\", \"advise\", \"advise\", \"affordable\", \"affordable\", \"affordable\", \"affordable\", \"age\", \"age\", \"age\", \"age\", \"age\", \"age\", \"age\", \"age\", \"age\", \"agree\", \"agree\", \"agree\", \"agree\", \"ahead\", \"ahead\", \"ahead\", \"ahead\", \"american\", \"american\", \"american\", \"american\", \"amnesia\", \"amnesia\", \"amnesia\", \"amnesia\", \"anger\", \"anger\", \"anger\", \"anger\", \"anger\", \"anger\", \"anger\", \"anger\", \"anger\", \"anorexic\", \"anorexic\", \"anorexic\", \"anorexic\", \"anti\", \"anti\", \"anti\", \"anti\", \"anti\", \"anti\", \"anti\", \"anti\", \"anti\", \"antidepressant\", \"antidepressant\", \"antidepressant\", \"antidepressant\", \"antidepressant\", \"antidepressant\", \"antidepressant\", \"antidepressant\", \"antidepressant\", \"antidepressant\", \"anxiety\", \"anxiety\", \"anxiety\", \"anxiety\", \"anxiety\", \"anxiety\", \"anxiety\", \"anxiety\", \"anxiety\", \"anxiety\", \"anxious\", \"anxious\", \"anxious\", \"anxious\", \"anxious\", \"anxious\", \"anxious\", \"anxious\", \"anxious\", \"anxious\", \"anybody\", \"anybody\", \"anybody\", \"anybody\", \"anybody\", \"anybody\", \"anybody\", \"anybody\", \"anybody\", \"anybody\", \"anymore\", \"anymore\", \"anymore\", \"anymore\", \"anymore\", \"anymore\", \"anymore\", \"anymore\", \"anymore\", \"anymore\", \"apathy\", \"apathy\", \"apathy\", \"apathy\", \"appetite\", \"appetite\", \"appetite\", \"appetite\", \"appetite\", \"appt\", \"appt\", \"appt\", \"appt\", \"ask\", \"ask\", \"ask\", \"ask\", \"ask\", \"ask\", \"ask\", \"ask\", \"ask\", \"ask\", \"assume\", \"assume\", \"assume\", \"assume\", \"assume\", \"attack\", \"attack\", \"attack\", \"attack\", \"attack\", \"attack\", \"attack\", \"attack\", \"attack\", \"attack\", \"attempt\", \"attempt\", \"attempt\", \"attempt\", \"attempt\", \"attempt\", \"attempt\", \"attempt\", \"attempt\", \"attempt\", \"australia\", \"australia\", \"australia\", \"away\", \"away\", \"away\", \"away\", \"away\", \"away\", \"away\", \"away\", \"away\", \"away\", \"background\", \"background\", \"background\", \"background\", \"background\", \"background\", \"background\", \"bad\", \"bad\", \"bad\", \"bad\", \"bad\", \"bad\", \"bad\", \"bad\", \"bad\", \"bad\", \"bdd\", \"bdd\", \"bdd\", \"bdd\", \"behavior\", \"behavior\", \"behavior\", \"behavior\", \"behavior\", \"behavior\", \"behavior\", \"behavior\", \"behavior\", \"behavior\", \"behaviour\", \"behaviour\", \"behaviour\", \"behaviour\", \"behaviour\", \"behaviour\", \"behaviour\", \"believe\", \"believe\", \"believe\", \"believe\", \"believe\", \"believe\", \"believe\", \"believe\", \"believe\", \"believe\", \"belong\", \"belong\", \"belong\", \"belong\", \"belong\", \"belong\", \"belong\", \"belong\", \"binge\", \"binge\", \"binge\", \"binge\", \"bipolar\", \"bipolar\", \"bipolar\", \"bipolar\", \"bipolar\", \"bipolar\", \"bipolar\", \"bipolar\", \"bipolar\", \"bipolar\", \"blanket\", \"blanket\", \"blog\", \"blog\", \"blog\", \"body\", \"body\", \"body\", \"body\", \"body\", \"body\", \"body\", \"body\", \"body\", \"body\", \"borderline\", \"borderline\", \"borderline\", \"borderline\", \"borderline\", \"borderline\", \"borderline\", \"borderline\", \"bore\", \"bore\", \"bore\", \"boredom\", \"boredom\", \"boredom\", \"boredom\", \"boredom\", \"boredom\", \"bpd\", \"bpd\", \"bpd\", \"bpd\", \"bpd\", \"bpd\", \"bpd\", \"bpd\", \"bpd\", \"bpd\", \"brain\", \"brain\", \"brain\", \"brain\", \"brain\", \"brain\", \"brain\", \"brain\", \"brain\", \"brain\", \"breakdown\", \"breakdown\", \"breakdown\", \"breakdown\", \"breakdown\", \"breakdown\", \"breakdown\", \"breakdown\", \"breakdown\", \"breakdown\", \"brief\", \"brief\", \"brief\", \"brief\", \"bring\", \"bring\", \"bring\", \"bring\", \"bring\", \"bring\", \"bring\", \"bring\", \"bring\", \"bring\", \"brush\", \"brush\", \"brush\", \"brush\", \"brush\", \"bulimia\", \"bulimia\", \"business\", \"business\", \"business\", \"business\", \"call\", \"call\", \"call\", \"call\", \"call\", \"call\", \"call\", \"call\", \"call\", \"call\", \"care\", \"care\", \"care\", \"care\", \"care\", \"care\", \"care\", \"care\", \"care\", \"care\", \"carry\", \"carry\", \"carry\", \"carry\", \"carry\", \"cartoon\", \"cartoon\", \"cartoon\", \"cause\", \"cause\", \"cause\", \"cause\", \"cause\", \"cause\", \"cause\", \"cause\", \"cause\", \"cause\", \"cbt\", \"cbt\", \"cbt\", \"cbt\", \"cbt\", \"cbt\", \"cbt\", \"change\", \"change\", \"change\", \"change\", \"change\", \"change\", \"change\", \"change\", \"change\", \"change\", \"character\", \"character\", \"character\", \"character\", \"character\", \"character\", \"character\", \"character\", \"character\", \"character\", \"check\", \"check\", \"check\", \"check\", \"check\", \"check\", \"check\", \"check\", \"check\", \"chemical\", \"chemical\", \"chemical\", \"citalopram\", \"citalopram\", \"citalopram\", \"citalopram\", \"clue\", \"clue\", \"clue\", \"clue\", \"clue\", \"coffee\", \"coffee\", \"commit\", \"commit\", \"commit\", \"commit\", \"commit\", \"commit\", \"commit\", \"commit\", \"commit\", \"commit\", \"compliment\", \"compliment\", \"compliment\", \"compliment\", \"compliment\", \"compliment\", \"confirm\", \"confirm\", \"confirm\", \"conflict\", \"conflict\", \"conflict\", \"confront\", \"confront\", \"confront\", \"confront\", \"confront\", \"confused\", \"confused\", \"confused\", \"confused\", \"confused\", \"confused\", \"confused\", \"confused\", \"confused\", \"consent\", \"consent\", \"consent\", \"consent\", \"conspiracy\", \"conspiracy\", \"conspiracy\", \"conspiracy\", \"conspiracy\", \"contribute\", \"contribute\", \"contribute\", \"contribute\", \"convince\", \"convince\", \"convince\", \"convince\", \"convince\", \"convince\", \"convince\", \"convince\", \"convince\", \"cope\", \"cope\", \"cope\", \"cope\", \"cope\", \"cope\", \"cope\", \"cope\", \"cope\", \"cope\", \"counsel\", \"counsel\", \"counsel\", \"counsel\", \"counseling\", \"counseling\", \"counseling\", \"counseling\", \"counseling\", \"counseling\", \"counseling\", \"counseling\", \"counseling\", \"counseling\", \"counselling\", \"counselling\", \"counselling\", \"counselling\", \"counselling\", \"counselling\", \"counselling\", \"counselling\", \"cover\", \"cover\", \"cover\", \"cover\", \"cover\", \"cover\", \"cover\", \"covid\", \"covid\", \"covid\", \"covid\", \"covid\", \"covid\", \"covid\", \"covid\", \"covid\", \"covid\", \"crap\", \"crap\", \"crap\", \"crazy\", \"crazy\", \"crazy\", \"crazy\", \"crazy\", \"crazy\", \"crazy\", \"crazy\", \"crazy\", \"crazy\", \"cross\", \"cross\", \"cross\", \"cross\", \"crush\", \"crush\", \"crush\", \"crush\", \"crush\", \"crush\", \"crush\", \"cry\", \"cry\", \"cry\", \"cry\", \"cry\", \"cry\", \"cry\", \"cry\", \"cry\", \"crying\", \"crying\", \"crying\", \"damn\", \"damn\", \"damn\", \"damn\", \"damn\", \"damn\", \"date\", \"date\", \"date\", \"date\", \"date\", \"date\", \"date\", \"date\", \"date\", \"date\", \"day\", \"day\", \"day\", \"day\", \"day\", \"day\", \"day\", \"day\", \"day\", \"day\", \"deal\", \"deal\", \"deal\", \"deal\", \"deal\", \"deal\", \"deal\", \"deal\", \"deal\", \"deal\", \"dear\", \"dear\", \"dear\", \"dear\", \"dear\", \"dependent\", \"dependent\", \"dependent\", \"dependent\", \"dependent\", \"dependent\", \"depersonalisation\", \"depersonalisation\", \"depressant\", \"depressant\", \"depressant\", \"depressant\", \"depressant\", \"depressant\", \"depressant\", \"depressant\", \"depressed\", \"depressed\", \"depressed\", \"depressed\", \"depressed\", \"depressed\", \"depressed\", \"depressed\", \"depressed\", \"depressed\", \"depression\", \"depression\", \"depression\", \"depression\", \"depression\", \"depression\", \"depression\", \"depression\", \"depression\", \"depression\", \"depressive\", \"depressive\", \"depressive\", \"depressive\", \"depressive\", \"depressive\", \"depressive\", \"depressive\", \"depressive\", \"depressive\", \"derealisation\", \"derealisation\", \"derealisation\", \"derealisation\", \"derealisation\", \"derealisation\", \"derealisation\", \"derealization\", \"derealization\", \"derealization\", \"derealization\", \"derealization\", \"derealization\", \"derealization\", \"derealization\", \"deteriorate\", \"deteriorate\", \"deteriorate\", \"deteriorate\", \"deteriorate\", \"development\", \"development\", \"development\", \"development\", \"diagnose\", \"diagnose\", \"diagnose\", \"diagnose\", \"diagnose\", \"diagnose\", \"diagnose\", \"diagnose\", \"diagnose\", \"diagnose\", \"diagnosis\", \"diagnosis\", \"diagnosis\", \"diagnosis\", \"diagnosis\", \"diagnosis\", \"diagnosis\", \"diagnosis\", \"diagnosis\", \"diagnosis\", \"die\", \"die\", \"die\", \"die\", \"die\", \"die\", \"die\", \"die\", \"die\", \"die\", \"diet\", \"diet\", \"diet\", \"difficulty\", \"difficulty\", \"difficulty\", \"difficulty\", \"discussion\", \"discussion\", \"discussion\", \"discussion\", \"discussion\", \"disease\", \"disease\", \"disease\", \"disease\", \"disease\", \"disease\", \"disease\", \"disease\", \"disease\", \"disorder\", \"disorder\", \"disorder\", \"disorder\", \"disorder\", \"disorder\", \"disorder\", \"disorder\", \"disorder\", \"disorder\", \"dissociate\", \"dissociate\", \"dissociate\", \"dissociate\", \"dissociate\", \"dissociate\", \"dissociate\", \"dissociate\", \"dissociate\", \"dissociation\", \"dissociation\", \"dissociation\", \"dissociation\", \"dissociation\", \"dissociation\", \"dissociation\", \"dissociation\", \"dissociative\", \"dissociative\", \"dissociative\", \"dissociative\", \"dissociative\", \"dissociative\", \"dissociative\", \"dissociative\", \"dissociative\", \"distraction\", \"distraction\", \"distraction\", \"distraction\", \"distraction\", \"distraction\", \"distraction\", \"doctor\", \"doctor\", \"doctor\", \"doctor\", \"doctor\", \"doctor\", \"doctor\", \"doctor\", \"doctor\", \"doctor\", \"dosage\", \"dosage\", \"dosage\", \"dosage\", \"dramatic\", \"dramatic\", \"dramatic\", \"dramatic\", \"dramatic\", \"dramatic\", \"dramatic\", \"dream\", \"dream\", \"dream\", \"dream\", \"dream\", \"dream\", \"dream\", \"dream\", \"dream\", \"dream\", \"drink\", \"drink\", \"drink\", \"drink\", \"drink\", \"drink\", \"drink\", \"drink\", \"drive\", \"drive\", \"drive\", \"drive\", \"drive\", \"drive\", \"drive\", \"drive\", \"drive\", \"drive\", \"dysfunction\", \"dysfunction\", \"dysfunction\", \"dysmorphia\", \"dysmorphia\", \"dysmorphia\", \"dysmorphia\", \"dysmorphia\", \"dysmorphia\", \"dysmorphia\", \"early\", \"early\", \"early\", \"early\", \"early\", \"early\", \"early\", \"early\", \"eat\", \"eat\", \"eat\", \"eat\", \"eat\", \"eat\", \"eat\", \"eat\", \"eat\", \"eat\", \"eating\", \"eating\", \"eating\", \"eating\", \"education\", \"education\", \"education\", \"education\", \"effect\", \"effect\", \"effect\", \"effect\", \"effect\", \"effect\", \"effect\", \"effect\", \"effect\", \"effect\", \"emdr\", \"emdr\", \"emdr\", \"emdr\", \"emotion\", \"emotion\", \"emotion\", \"emotion\", \"emotion\", \"emotion\", \"emotion\", \"emotion\", \"emotion\", \"emotion\", \"encourage\", \"encourage\", \"encourage\", \"encourage\", \"encourage\", \"end\", \"end\", \"end\", \"end\", \"end\", \"end\", \"end\", \"end\", \"end\", \"end\", \"energy\", \"energy\", \"energy\", \"energy\", \"energy\", \"energy\", \"energy\", \"energy\", \"energy\", \"energy\", \"engage\", \"engage\", \"engage\", \"engage\", \"engage\", \"entire\", \"entire\", \"entire\", \"entire\", \"entire\", \"entire\", \"entire\", \"entire\", \"entire\", \"episode\", \"episode\", \"episode\", \"episode\", \"episode\", \"episode\", \"episode\", \"episode\", \"episode\", \"episode\", \"esteem\", \"esteem\", \"esteem\", \"esteem\", \"esteem\", \"esteem\", \"esteem\", \"esteem\", \"esteem\", \"evidence\", \"evidence\", \"ex\", \"ex\", \"ex\", \"ex\", \"ex\", \"ex\", \"ex\", \"ex\", \"ex\", \"ex\", \"exhaust\", \"exhaust\", \"exhaust\", \"exhaust\", \"exhaust\", \"exhaust\", \"exhaust\", \"existential\", \"existential\", \"existential\", \"existential\", \"existential\", \"existential\", \"existential\", \"existential\", \"existential\", \"expect\", \"expect\", \"expect\", \"expect\", \"expect\", \"expect\", \"expect\", \"expect\", \"expect\", \"expect\", \"experience\", \"experience\", \"experience\", \"experience\", \"experience\", \"experience\", \"experience\", \"experience\", \"experience\", \"experience\", \"explain\", \"explain\", \"explain\", \"explain\", \"explain\", \"explain\", \"explain\", \"explain\", \"explain\", \"explain\", \"explanation\", \"explanation\", \"explanation\", \"extreme\", \"extreme\", \"extreme\", \"extreme\", \"extreme\", \"extreme\", \"extreme\", \"extreme\", \"extreme\", \"extreme\", \"facebook\", \"facebook\", \"family\", \"family\", \"family\", \"family\", \"family\", \"family\", \"family\", \"family\", \"family\", \"family\", \"fantasy\", \"fantasy\", \"fantasy\", \"fantasy\", \"fantasy\", \"fantasy\", \"fat\", \"fat\", \"fat\", \"fat\", \"fat\", \"fatigue\", \"fatigue\", \"fatigue\", \"fatigue\", \"fatigue\", \"fatigue\", \"feedback\", \"feedback\", \"feel\", \"feel\", \"feel\", \"feel\", \"feel\", \"feel\", \"feel\", \"feel\", \"feel\", \"feel\", \"feeling\", \"feeling\", \"feeling\", \"feeling\", \"feeling\", \"feeling\", \"feeling\", \"feeling\", \"feeling\", \"feeling\", \"fictional\", \"fictional\", \"fictional\", \"fictional\", \"fictional\", \"fictional\", \"fictional\", \"fictional\", \"fictional\", \"fight\", \"fight\", \"fight\", \"fight\", \"fight\", \"fight\", \"fight\", \"fight\", \"fight\", \"fight\", \"fill\", \"fill\", \"fill\", \"fill\", \"fill\", \"fill\", \"fill\", \"fill\", \"financial\", \"financial\", \"financial\", \"financial\", \"financial\", \"financial\", \"find\", \"find\", \"find\", \"find\", \"find\", \"find\", \"find\", \"find\", \"find\", \"find\", \"fire\", \"fire\", \"fire\", \"fire\", \"fire\", \"fire\", \"fluoxetine\", \"fluoxetine\", \"fluoxetine\", \"fluoxetine\", \"forward\", \"forward\", \"forward\", \"forward\", \"forward\", \"friend\", \"friend\", \"friend\", \"friend\", \"friend\", \"friend\", \"friend\", \"friend\", \"friend\", \"friend\", \"frustrate\", \"frustrate\", \"frustrate\", \"frustrate\", \"frustrate\", \"frustrate\", \"frustrate\", \"frustrated\", \"frustrated\", \"frustrated\", \"funny\", \"funny\", \"funny\", \"funny\", \"funny\", \"gad\", \"gad\", \"gad\", \"gad\", \"gad\", \"gad\", \"gad\", \"gaslighte\", \"gaslighte\", \"gaslighte\", \"gaslighte\", \"gaslighte\", \"gaslighte\", \"generally\", \"generally\", \"generally\", \"generation\", \"generation\", \"generation\", \"get\", \"get\", \"get\", \"get\", \"get\", \"get\", \"get\", \"get\", \"get\", \"get\", \"gf\", \"gf\", \"gf\", \"gf\", \"gf\", \"gf\", \"gf\", \"gf\", \"gf\", \"gift\", \"gift\", \"gift\", \"gift\", \"gift\", \"gift\", \"girlfriend\", \"girlfriend\", \"girlfriend\", \"girlfriend\", \"girlfriend\", \"girlfriend\", \"girlfriend\", \"girlfriend\", \"girlfriend\", \"girlfriend\", \"go\", \"go\", \"go\", \"go\", \"go\", \"go\", \"go\", \"go\", \"go\", \"go\", \"good\", \"good\", \"good\", \"good\", \"good\", \"good\", \"good\", \"good\", \"good\", \"good\", \"guidance\", \"guidance\", \"guidance\", \"guidance\", \"guidance\", \"guidance\", \"guilty\", \"guilty\", \"guilty\", \"guilty\", \"guilty\", \"guilty\", \"guilty\", \"guilty\", \"guilty\", \"guilty\", \"guy\", \"guy\", \"guy\", \"guy\", \"guy\", \"guy\", \"guy\", \"guy\", \"guy\", \"guy\", \"habit\", \"habit\", \"habit\", \"habit\", \"habit\", \"habit\", \"hallucinate\", \"hallucinate\", \"hallucinate\", \"hallucinate\", \"hallucinate\", \"hallucinate\", \"hallucination\", \"hallucination\", \"hallucination\", \"hallucination\", \"hallucination\", \"hallucination\", \"hallucination\", \"hallucination\", \"hallucination\", \"hallucination\", \"handle\", \"handle\", \"handle\", \"handle\", \"handle\", \"handle\", \"handle\", \"handle\", \"handle\", \"handle\", \"happen\", \"happen\", \"happen\", \"happen\", \"happen\", \"happen\", \"happen\", \"happen\", \"happen\", \"happen\", \"happiness\", \"happiness\", \"happiness\", \"happiness\", \"happiness\", \"happiness\", \"happiness\", \"happiness\", \"happiness\", \"happiness\", \"hard\", \"hard\", \"hard\", \"hard\", \"hard\", \"hard\", \"hard\", \"hard\", \"hard\", \"hard\", \"harm\", \"harm\", \"harm\", \"harm\", \"harm\", \"harm\", \"harm\", \"harm\", \"harm\", \"harm\", \"hate\", \"hate\", \"hate\", \"hate\", \"hate\", \"hate\", \"hate\", \"hate\", \"hate\", \"hate\", \"have\", \"have\", \"have\", \"have\", \"have\", \"have\", \"have\", \"have\", \"have\", \"have\", \"head\", \"head\", \"head\", \"head\", \"head\", \"head\", \"head\", \"head\", \"head\", \"head\", \"heal\", \"heal\", \"heal\", \"heal\", \"heal\", \"heal\", \"heal\", \"heal\", \"heal\", \"health\", \"health\", \"health\", \"health\", \"health\", \"health\", \"health\", \"health\", \"health\", \"health\", \"healthcare\", \"healthcare\", \"healthcare\", \"healthcare\", \"healthcare\", \"healthcare\", \"hear\", \"hear\", \"hear\", \"hear\", \"hear\", \"hear\", \"hear\", \"hear\", \"hear\", \"hear\", \"hearing\", \"hearing\", \"hearing\", \"hearing\", \"hearing\", \"heart\", \"heart\", \"heart\", \"heart\", \"heart\", \"heart\", \"heart\", \"heart\", \"hell\", \"hell\", \"hell\", \"hell\", \"hell\", \"hell\", \"hell\", \"hell\", \"help\", \"help\", \"help\", \"help\", \"help\", \"help\", \"help\", \"help\", \"help\", \"help\", \"hole\", \"hole\", \"hole\", \"hole\", \"hole\", \"hole\", \"holiday\", \"holiday\", \"holiday\", \"holiday\", \"holiday\", \"hope\", \"hope\", \"hope\", \"hope\", \"hope\", \"hope\", \"hope\", \"hope\", \"hope\", \"hope\", \"hopeless\", \"hopeless\", \"hopeless\", \"hopeless\", \"hopeless\", \"hopeless\", \"hopeless\", \"hospital\", \"hospital\", \"hospital\", \"hospital\", \"hospital\", \"hospital\", \"hospital\", \"hospital\", \"hospital\", \"hospital\", \"hospitalization\", \"hospitalization\", \"hospitalization\", \"hospitalization\", \"hospitalization\", \"hospitalization\", \"hospitalization\", \"hot\", \"hot\", \"idea\", \"idea\", \"idea\", \"idea\", \"idea\", \"idea\", \"idea\", \"idea\", \"idea\", \"idea\", \"ideation\", \"ideation\", \"ideation\", \"ideation\", \"ideation\", \"ideation\", \"ideation\", \"ideation\", \"ideation\", \"identity\", \"identity\", \"identity\", \"identity\", \"identity\", \"identity\", \"identity\", \"identity\", \"idk\", \"idk\", \"idk\", \"idk\", \"idk\", \"idk\", \"idk\", \"idk\", \"idk\", \"idk\", \"ii\", \"ii\", \"ii\", \"ii\", \"ill\", \"ill\", \"ill\", \"ill\", \"ill\", \"ill\", \"ill\", \"ill\", \"ill\", \"ill\", \"illness\", \"illness\", \"illness\", \"illness\", \"illness\", \"illness\", \"illness\", \"illness\", \"illness\", \"illness\", \"imaginary\", \"imaginary\", \"imaginary\", \"imaginary\", \"imaginary\", \"imaginary\", \"imbalance\", \"imbalance\", \"imbalance\", \"improvement\", \"improvement\", \"improvement\", \"improvement\", \"incapable\", \"incapable\", \"incapable\", \"incapable\", \"incapable\", \"income\", \"income\", \"income\", \"income\", \"income\", \"income\", \"income\", \"incredibly\", \"incredibly\", \"incredibly\", \"incredibly\", \"incredibly\", \"incredibly\", \"incredibly\", \"individual\", \"individual\", \"individual\", \"individual\", \"individual\", \"individual\", \"individual\", \"inner\", \"inner\", \"inner\", \"inner\", \"inner\", \"inner\", \"inner\", \"inpatient\", \"inpatient\", \"inpatient\", \"inpatient\", \"inpatient\", \"inpatient\", \"inpatient\", \"inpatient\", \"inpatient\", \"inpatient\", \"input\", \"input\", \"input\", \"input\", \"institution\", \"institution\", \"institution\", \"insult\", \"insult\", \"insult\", \"insult\", \"insult\", \"insult\", \"intellectual\", \"intellectual\", \"intellectual\", \"intellectual\", \"interesting\", \"interesting\", \"interesting\", \"interesting\", \"introvert\", \"introvert\", \"introvert\", \"introvert\", \"intrusive\", \"intrusive\", \"intrusive\", \"intrusive\", \"intrusive\", \"intrusive\", \"intrusive\", \"intrusive\", \"intrusive\", \"intrusive\", \"involuntary\", \"involuntary\", \"involuntary\", \"irritability\", \"irritability\", \"irritability\", \"irritable\", \"irritable\", \"irritable\", \"issue\", \"issue\", \"issue\", \"issue\", \"issue\", \"issue\", \"issue\", \"issue\", \"issue\", \"issue\", \"job\", \"job\", \"job\", \"job\", \"job\", \"job\", \"job\", \"job\", \"job\", \"job\", \"joy\", \"joy\", \"joy\", \"joy\", \"joy\", \"joy\", \"kill\", \"kill\", \"kill\", \"kill\", \"kill\", \"kill\", \"kill\", \"kill\", \"kill\", \"kill\", \"killer\", \"killer\", \"killer\", \"killer\", \"killer\", \"kind\", \"kind\", \"kind\", \"kind\", \"kind\", \"kind\", \"kind\", \"kind\", \"kind\", \"kind\", \"kms\", \"kms\", \"kms\", \"kms\", \"know\", \"know\", \"know\", \"know\", \"know\", \"know\", \"know\", \"know\", \"know\", \"know\", \"label\", \"label\", \"label\", \"label\", \"label\", \"label\", \"lamictal\", \"lamictal\", \"lamictal\", \"large\", \"large\", \"last\", \"last\", \"last\", \"last\", \"last\", \"laziness\", \"laziness\", \"laziness\", \"laziness\", \"laziness\", \"libido\", \"libido\", \"life\", \"life\", \"life\", \"life\", \"life\", \"life\", \"life\", \"life\", \"life\", \"life\", \"like\", \"like\", \"like\", \"like\", \"like\", \"like\", \"like\", \"like\", \"like\", \"like\", \"list\", \"list\", \"list\", \"list\", \"list\", \"list\", \"list\", \"live\", \"live\", \"live\", \"live\", \"live\", \"live\", \"live\", \"live\", \"live\", \"live\", \"lock\", \"lock\", \"lock\", \"lock\", \"lock\", \"lock\", \"long\", \"long\", \"long\", \"long\", \"long\", \"long\", \"long\", \"long\", \"long\", \"long\", \"look\", \"look\", \"look\", \"look\", \"look\", \"look\", \"look\", \"look\", \"look\", \"look\", \"lose\", \"lose\", \"lose\", \"lose\", \"lose\", \"lose\", \"lose\", \"lose\", \"lose\", \"lose\", \"loss\", \"loss\", \"loss\", \"loss\", \"loss\", \"loss\", \"loss\", \"loss\", \"loss\", \"lost\", \"lost\", \"lot\", \"lot\", \"lot\", \"lot\", \"lot\", \"lot\", \"lot\", \"lot\", \"lot\", \"lot\", \"love\", \"love\", \"love\", \"love\", \"love\", \"love\", \"love\", \"love\", \"love\", \"love\", \"m\", \"m\", \"m\", \"m\", \"m\", \"m\", \"m\", \"m\", \"m\", \"m\", \"make\", \"make\", \"make\", \"make\", \"make\", \"make\", \"make\", \"make\", \"make\", \"make\", \"manic\", \"manic\", \"manic\", \"manic\", \"manic\", \"manic\", \"manic\", \"manic\", \"manic\", \"manifest\", \"manifest\", \"manifest\", \"manifest\", \"manifest\", \"manifest\", \"mask\", \"mask\", \"mask\", \"mask\", \"mask\", \"mask\", \"massive\", \"massive\", \"massive\", \"massive\", \"matter\", \"matter\", \"matter\", \"matter\", \"matter\", \"matter\", \"matter\", \"matter\", \"mean\", \"mean\", \"mean\", \"mean\", \"mean\", \"mean\", \"mean\", \"mean\", \"mean\", \"mean\", \"medication\", \"medication\", \"medication\", \"medication\", \"medication\", \"medication\", \"medication\", \"medication\", \"medication\", \"medication\", \"meeting\", \"meeting\", \"meeting\", \"mental\", \"mental\", \"mental\", \"mental\", \"mental\", \"mental\", \"mental\", \"mental\", \"mental\", \"mental\", \"mentally\", \"mentally\", \"mentally\", \"mentally\", \"mentally\", \"mentally\", \"mentally\", \"mentally\", \"mentally\", \"mentally\", \"mirror\", \"mirror\", \"mirror\", \"mirror\", \"mirror\", \"mirror\", \"misdiagnosis\", \"misdiagnosis\", \"misdiagnosis\", \"misdiagnosis\", \"miss\", \"miss\", \"miss\", \"miss\", \"miss\", \"miss\", \"miss\", \"miss\", \"miss\", \"miss\", \"mod\", \"mod\", \"molest\", \"molest\", \"molest\", \"molest\", \"mom\", \"mom\", \"mom\", \"mom\", \"mom\", \"mom\", \"mom\", \"mom\", \"mom\", \"mom\", \"mood\", \"mood\", \"mood\", \"mood\", \"mood\", \"mood\", \"mood\", \"mood\", \"mood\", \"mood\", \"motivation\", \"motivation\", \"motivation\", \"motivation\", \"motivation\", \"motivation\", \"motivation\", \"motivation\", \"motivation\", \"narcissism\", \"narcissism\", \"narcissism\", \"narcissism\", \"narcissism\", \"narcissism\", \"narcissism\", \"narcissist\", \"narcissist\", \"narcissist\", \"narcissist\", \"narcissist\", \"narcissist\", \"narcissist\", \"narcissist\", \"narcissist\", \"narcissist\", \"narcissistic\", \"narcissistic\", \"narcissistic\", \"narcissistic\", \"narcissistic\", \"narcissistic\", \"narcissistic\", \"narcissistic\", \"narcissistic\", \"naturally\", \"naturally\", \"naturally\", \"nature\", \"nature\", \"need\", \"need\", \"need\", \"need\", \"need\", \"need\", \"need\", \"need\", \"need\", \"need\", \"negativity\", \"negativity\", \"negativity\", \"negativity\", \"negativity\", \"new\", \"new\", \"new\", \"new\", \"new\", \"new\", \"new\", \"new\", \"new\", \"new\", \"nightmare\", \"nightmare\", \"nightmare\", \"nightmare\", \"nightmare\", \"nightmare\", \"nightmare\", \"nightmare\", \"nightmare\", \"nightmare\", \"normal\", \"normal\", \"normal\", \"normal\", \"normal\", \"normal\", \"normal\", \"normal\", \"normal\", \"normal\", \"nostalgia\", \"nostalgia\", \"nostalgia\", \"not\", \"not\", \"not\", \"not\", \"not\", \"not\", \"not\", \"not\", \"not\", \"not\", \"note\", \"note\", \"note\", \"note\", \"note\", \"note\", \"note\", \"note\", \"note\", \"ocd\", \"ocd\", \"ocd\", \"ocd\", \"ocd\", \"ocd\", \"ocd\", \"ocd\", \"ocd\", \"ocd\", \"odd\", \"odd\", \"odd\", \"odd\", \"odd\", \"offensive\", \"offensive\", \"offensive\", \"office\", \"office\", \"office\", \"okay\", \"okay\", \"okay\", \"okay\", \"okay\", \"okay\", \"okay\", \"okay\", \"okay\", \"okay\", \"old\", \"old\", \"old\", \"old\", \"old\", \"old\", \"old\", \"old\", \"old\", \"old\", \"opinion\", \"opinion\", \"opinion\", \"opinion\", \"opinion\", \"opinion\", \"opinion\", \"opinion\", \"opinion\", \"opinion\", \"option\", \"option\", \"option\", \"option\", \"option\", \"option\", \"option\", \"option\", \"option\", \"option\", \"outburst\", \"outburst\", \"outburst\", \"outburst\", \"outburst\", \"overdose\", \"overdose\", \"overdose\", \"overdose\", \"overdose\", \"overdose\", \"overdose\", \"overdose\", \"overdose\", \"overly\", \"overly\", \"overly\", \"overly\", \"overly\", \"overly\", \"overly\", \"overly\", \"panic\", \"panic\", \"panic\", \"panic\", \"panic\", \"panic\", \"panic\", \"panic\", \"panic\", \"panic\", \"paranoia\", \"paranoia\", \"paranoia\", \"paranoia\", \"paranoia\", \"paranoia\", \"paranoia\", \"paranoia\", \"paranoia\", \"paranoid\", \"paranoid\", \"paranoid\", \"paranoid\", \"paranoid\", \"paranoid\", \"paranoid\", \"paranoid\", \"paranoid\", \"parent\", \"parent\", \"parent\", \"parent\", \"parent\", \"parent\", \"parent\", \"parent\", \"parent\", \"parent\", \"parental\", \"parental\", \"parental\", \"parental\", \"part\", \"part\", \"part\", \"part\", \"past\", \"past\", \"past\", \"past\", \"past\", \"past\", \"past\", \"past\", \"past\", \"past\", \"pathetic\", \"pathetic\", \"pathetic\", \"pathetic\", \"pathetic\", \"patient\", \"patient\", \"patient\", \"patient\", \"patient\", \"patient\", \"patient\", \"patient\", \"patient\", \"patient\", \"peace\", \"peace\", \"peace\", \"peace\", \"peace\", \"people\", \"people\", \"people\", \"people\", \"people\", \"people\", \"people\", \"people\", \"people\", \"people\", \"perception\", \"perception\", \"perception\", \"perception\", \"perception\", \"period\", \"period\", \"period\", \"period\", \"period\", \"period\", \"period\", \"period\", \"period\", \"period\", \"permanently\", \"permanently\", \"permanently\", \"permanently\", \"person\", \"person\", \"person\", \"person\", \"person\", \"person\", \"person\", \"person\", \"person\", \"person\", \"personality\", \"personality\", \"personality\", \"personality\", \"personality\", \"personality\", \"personality\", \"personality\", \"personality\", \"personality\", \"phone\", \"phone\", \"phone\", \"phone\", \"phone\", \"phone\", \"phone\", \"phone\", \"phone\", \"photo\", \"photo\", \"photo\", \"physical\", \"physical\", \"physical\", \"physical\", \"physical\", \"physical\", \"physical\", \"physical\", \"physical\", \"pill\", \"pill\", \"pill\", \"pill\", \"pill\", \"pill\", \"pill\", \"pill\", \"pill\", \"play\", \"play\", \"play\", \"play\", \"play\", \"play\", \"play\", \"play\", \"play\", \"point\", \"point\", \"point\", \"point\", \"point\", \"point\", \"point\", \"point\", \"point\", \"point\", \"polar\", \"polar\", \"polar\", \"polar\", \"polar\", \"positive\", \"positive\", \"positive\", \"positive\", \"positive\", \"positive\", \"positive\", \"positive\", \"positive\", \"positive\", \"possible\", \"possible\", \"possible\", \"possible\", \"possible\", \"possible\", \"possible\", \"possible\", \"possible\", \"possible\", \"prefer\", \"prefer\", \"prefer\", \"prefer\", \"prefer\", \"prescription\", \"prescription\", \"prescription\", \"prescription\", \"prescription\", \"previous\", \"previous\", \"previous\", \"previous\", \"previous\", \"previous\", \"problem\", \"problem\", \"problem\", \"problem\", \"problem\", \"problem\", \"problem\", \"problem\", \"problem\", \"problem\", \"professional\", \"professional\", \"professional\", \"professional\", \"professional\", \"professional\", \"professional\", \"professional\", \"professional\", \"professional\", \"provide\", \"provide\", \"provide\", \"provide\", \"provide\", \"provide\", \"provide\", \"prozac\", \"prozac\", \"prozac\", \"prozac\", \"prozac\", \"prozac\", \"prozac\", \"prozac\", \"psychiatric\", \"psychiatric\", \"psychiatric\", \"psychiatric\", \"psychiatric\", \"psychiatric\", \"psychiatric\", \"psychiatric\", \"psychiatric\", \"psychiatrist\", \"psychiatrist\", \"psychiatrist\", \"psychiatrist\", \"psychiatrist\", \"psychiatrist\", \"psychiatrist\", \"psychiatrist\", \"psychiatrist\", \"psychiatrist\", \"psychiatry\", \"psychiatry\", \"psychiatry\", \"psychiatry\", \"psychologist\", \"psychologist\", \"psychologist\", \"psychologist\", \"psychologist\", \"psychologist\", \"psychologist\", \"psychologist\", \"psychologist\", \"psychologist\", \"psychopath\", \"psychopath\", \"psychopath\", \"psychopath\", \"psychopath\", \"psychopath\", \"psychopath\", \"psychosis\", \"psychosis\", \"psychosis\", \"psychosis\", \"psychosis\", \"psychosis\", \"psychosis\", \"psychosis\", \"psychosis\", \"psychosis\", \"psychotherapy\", \"psychotherapy\", \"psychotherapy\", \"psychotherapy\", \"psychotic\", \"psychotic\", \"psychotic\", \"psychotic\", \"psychotic\", \"psychotic\", \"psychotic\", \"psychotic\", \"psychotic\", \"punish\", \"punish\", \"punish\", \"punish\", \"punish\", \"punish\", \"pure\", \"pure\", \"pure\", \"quarantine\", \"quarantine\", \"quarantine\", \"quarantine\", \"quarantine\", \"quarantine\", \"quetiapine\", \"quetiapine\", \"quetiapine\", \"quetiapine\", \"quetiapine\", \"quick\", \"quick\", \"quick\", \"quick\", \"quick\", \"quiet\", \"quiet\", \"quiet\", \"quiet\", \"race\", \"race\", \"race\", \"race\", \"rapid\", \"rapid\", \"rapid\", \"react\", \"react\", \"react\", \"react\", \"react\", \"react\", \"react\", \"read\", \"read\", \"read\", \"read\", \"read\", \"read\", \"read\", \"read\", \"read\", \"read\", \"realistic\", \"realistic\", \"realistic\", \"realistic\", \"realistic\", \"reality\", \"reality\", \"reality\", \"reality\", \"reality\", \"reality\", \"reality\", \"reality\", \"reality\", \"reality\", \"reason\", \"reason\", \"reason\", \"reason\", \"reason\", \"reason\", \"reason\", \"reason\", \"reason\", \"reason\", \"reasonable\", \"reasonable\", \"reasonable\", \"reasonable\", \"referral\", \"referral\", \"referral\", \"referral\", \"referral\", \"referral\", \"regard\", \"regard\", \"regard\", \"regard\", \"reject\", \"reject\", \"reject\", \"reject\", \"reject\", \"reject\", \"relate\", \"relate\", \"relate\", \"relate\", \"relate\", \"relate\", \"relate\", \"relate\", \"relate\", \"relate\", \"relationship\", \"relationship\", \"relationship\", \"relationship\", \"relationship\", \"relationship\", \"relationship\", \"relationship\", \"relationship\", \"relationship\", \"relative\", \"relative\", \"relative\", \"relative\", \"relief\", \"relief\", \"relief\", \"relief\", \"relief\", \"religious\", \"religious\", \"religious\", \"religious\", \"religious\", \"religious\", \"remind\", \"remind\", \"remind\", \"remind\", \"remind\", \"remind\", \"remind\", \"remind\", \"remove\", \"remove\", \"remove\", \"remove\", \"remove\", \"remove\", \"remove\", \"residential\", \"residential\", \"resistant\", \"resistant\", \"resistant\", \"resource\", \"resource\", \"resource\", \"resource\", \"resource\", \"resource\", \"resource\", \"resource\", \"return\", \"return\", \"return\", \"return\", \"return\", \"return\", \"return\", \"right\", \"right\", \"right\", \"right\", \"right\", \"right\", \"right\", \"right\", \"right\", \"right\", \"risk\", \"risk\", \"risk\", \"risk\", \"risk\", \"risk\", \"risperidone\", \"risperidone\", \"risperidone\", \"risperidone\", \"risperidone\", \"romantic\", \"romantic\", \"romantic\", \"romantic\", \"romantic\", \"romantic\", \"romanticize\", \"romanticize\", \"romanticize\", \"romanticize\", \"ruin\", \"ruin\", \"ruin\", \"ruin\", \"ruin\", \"ruin\", \"ruin\", \"ruin\", \"ruin\", \"ruin\", \"rut\", \"rut\", \"rut\", \"rut\", \"rut\", \"s\", \"s\", \"s\", \"s\", \"s\", \"s\", \"s\", \"s\", \"s\", \"s\", \"sane\", \"sane\", \"sane\", \"sane\", \"scar\", \"scar\", \"scar\", \"scar\", \"scar\", \"scar\", \"scar\", \"scared\", \"scared\", \"scared\", \"scared\", \"scared\", \"scared\", \"scared\", \"scared\", \"scared\", \"scared\", \"schizoaffective\", \"schizoaffective\", \"schizoaffective\", \"schizoaffective\", \"schizoid\", \"schizoid\", \"schizoid\", \"schizoid\", \"schizoid\", \"schizophrenia\", \"schizophrenia\", \"schizophrenia\", \"schizophrenia\", \"schizophrenia\", \"schizophrenia\", \"schizophrenia\", \"schizophrenia\", \"schizophrenia\", \"schizophrenia\", \"schizophrenic\", \"schizophrenic\", \"schizophrenic\", \"schizophrenic\", \"schizophrenic\", \"schizophrenic\", \"schizophrenic\", \"schizophrenic\", \"schizophrenic\", \"school\", \"school\", \"school\", \"school\", \"school\", \"school\", \"school\", \"school\", \"school\", \"school\", \"screen\", \"screen\", \"screen\", \"screen\", \"screen\", \"screen\", \"see\", \"see\", \"see\", \"see\", \"see\", \"see\", \"see\", \"see\", \"see\", \"seek\", \"seek\", \"seek\", \"seek\", \"seek\", \"seek\", \"seek\", \"seek\", \"seek\", \"seek\", \"self\", \"self\", \"self\", \"self\", \"self\", \"self\", \"self\", \"self\", \"self\", \"self\", \"sensitive\", \"sensitive\", \"sensitive\", \"sensitive\", \"sensitive\", \"sensitive\", \"sensitive\", \"sensitive\", \"sensory\", \"sensory\", \"sensory\", \"sensory\", \"sensory\", \"sensory\", \"sensory\", \"sensory\", \"separation\", \"separation\", \"separation\", \"separation\", \"separation\", \"seroquel\", \"seroquel\", \"seroquel\", \"seroquel\", \"shit\", \"shit\", \"shit\", \"shit\", \"shit\", \"shit\", \"shit\", \"shit\", \"shit\", \"shit\", \"shy\", \"shy\", \"shy\", \"shy\", \"shy\", \"silence\", \"silence\", \"silence\", \"silence\", \"silence\", \"silent\", \"silent\", \"silent\", \"silent\", \"silent\", \"site\", \"site\", \"site\", \"site\", \"site\", \"sleep\", \"sleep\", \"sleep\", \"sleep\", \"sleep\", \"sleep\", \"sleep\", \"sleep\", \"sleep\", \"sleep\", \"slightly\", \"slightly\", \"slightly\", \"slightly\", \"slightly\", \"social\", \"social\", \"social\", \"social\", \"social\", \"social\", \"social\", \"social\", \"social\", \"social\", \"socially\", \"socially\", \"socially\", \"socially\", \"socially\", \"socially\", \"socially\", \"socially\", \"sociopath\", \"sociopath\", \"sociopath\", \"sociopath\", \"sociopath\", \"sociopath\", \"sociopath\", \"sociopath\", \"sound\", \"sound\", \"sound\", \"sound\", \"sound\", \"sound\", \"sound\", \"sound\", \"sound\", \"sound\", \"space\", \"space\", \"space\", \"space\", \"space\", \"space\", \"space\", \"space\", \"special\", \"special\", \"special\", \"spectrum\", \"spectrum\", \"spectrum\", \"spectrum\", \"spectrum\", \"speech\", \"speech\", \"stabilizer\", \"stabilizer\", \"stabilizer\", \"stabilizer\", \"standard\", \"standard\", \"standard\", \"standard\", \"standard\", \"stare\", \"stare\", \"stare\", \"stare\", \"stare\", \"stare\", \"stare\", \"start\", \"start\", \"start\", \"start\", \"start\", \"start\", \"start\", \"start\", \"start\", \"start\", \"starve\", \"starve\", \"starve\", \"starve\", \"starve\", \"starve\", \"stop\", \"stop\", \"stop\", \"stop\", \"stop\", \"stop\", \"stop\", \"stop\", \"stop\", \"stop\", \"story\", \"story\", \"story\", \"story\", \"story\", \"story\", \"story\", \"story\", \"story\", \"story\", \"strange\", \"strange\", \"strange\", \"strange\", \"strange\", \"strange\", \"strange\", \"struggle\", \"struggle\", \"struggle\", \"struggle\", \"struggle\", \"struggle\", \"struggle\", \"struggle\", \"struggle\", \"struggle\", \"stupid\", \"stupid\", \"stupid\", \"stupid\", \"stupid\", \"stupid\", \"stupid\", \"stupid\", \"stupid\", \"subreddit\", \"subreddit\", \"subreddit\", \"subreddit\", \"subreddit\", \"subreddit\", \"subreddit\", \"suffer\", \"suffer\", \"suffer\", \"suffer\", \"suffer\", \"suffer\", \"suffer\", \"suffer\", \"suffer\", \"suffer\", \"suggestion\", \"suggestion\", \"suggestion\", \"suggestion\", \"suggestion\", \"suggestion\", \"suggestion\", \"suggestion\", \"suggestion\", \"suicidal\", \"suicidal\", \"suicidal\", \"suicidal\", \"suicidal\", \"suicidal\", \"suicidal\", \"suicidal\", \"suicidal\", \"suicidal\", \"suicide\", \"suicide\", \"suicide\", \"suicide\", \"suicide\", \"suicide\", \"suicide\", \"suicide\", \"suicide\", \"suicide\", \"summer\", \"summer\", \"summer\", \"summer\", \"summer\", \"summer\", \"supplement\", \"supplement\", \"supplement\", \"supplement\", \"supplement\", \"supplement\", \"support\", \"support\", \"support\", \"support\", \"support\", \"support\", \"support\", \"support\", \"support\", \"support\", \"suppose\", \"suppose\", \"suppose\", \"suppose\", \"suppose\", \"suppose\", \"suppose\", \"suppose\", \"suppose\", \"suppose\", \"suppress\", \"suppress\", \"suppress\", \"suppress\", \"suppress\", \"suppress\", \"sure\", \"sure\", \"sure\", \"sure\", \"sure\", \"sure\", \"sure\", \"sure\", \"sure\", \"sure\", \"surgery\", \"surgery\", \"surgery\", \"surgery\", \"surgery\", \"surgery\", \"surround\", \"surround\", \"surround\", \"survive\", \"survive\", \"survive\", \"survive\", \"survive\", \"survive\", \"survivor\", \"survivor\", \"survivor\", \"survivor\", \"survivor\", \"swing\", \"swing\", \"swing\", \"swing\", \"swing\", \"swing\", \"swing\", \"swing\", \"swing\", \"sympathy\", \"sympathy\", \"sympathy\", \"sympathy\", \"symptom\", \"symptom\", \"symptom\", \"symptom\", \"symptom\", \"symptom\", \"symptom\", \"symptom\", \"symptom\", \"symptom\", \"system\", \"system\", \"system\", \"system\", \"system\", \"system\", \"system\", \"system\", \"system\", \"system\", \"take\", \"take\", \"take\", \"take\", \"take\", \"take\", \"take\", \"take\", \"take\", \"take\", \"talk\", \"talk\", \"talk\", \"talk\", \"talk\", \"talk\", \"talk\", \"talk\", \"talk\", \"talk\", \"task\", \"task\", \"task\", \"task\", \"task\", \"task\", \"task\", \"task\", \"tell\", \"tell\", \"tell\", \"tell\", \"tell\", \"tell\", \"tell\", \"tell\", \"tell\", \"tell\", \"term\", \"term\", \"term\", \"term\", \"term\", \"term\", \"term\", \"term\", \"term\", \"term\", \"terrible\", \"terrible\", \"terrible\", \"terrible\", \"terrible\", \"terrible\", \"terrible\", \"terrible\", \"terrible\", \"therapist\", \"therapist\", \"therapist\", \"therapist\", \"therapist\", \"therapist\", \"therapist\", \"therapist\", \"therapist\", \"therapist\", \"therapy\", \"therapy\", \"therapy\", \"therapy\", \"therapy\", \"therapy\", \"therapy\", \"therapy\", \"therapy\", \"therapy\", \"thing\", \"thing\", \"thing\", \"thing\", \"thing\", \"thing\", \"thing\", \"thing\", \"thing\", \"thing\", \"think\", \"think\", \"think\", \"think\", \"think\", \"think\", \"think\", \"think\", \"think\", \"think\", \"tho\", \"tho\", \"tho\", \"tho\", \"tho\", \"tho\", \"tho\", \"thought\", \"thought\", \"thought\", \"thought\", \"thought\", \"thought\", \"thought\", \"thought\", \"thought\", \"thought\", \"tic\", \"tic\", \"tic\", \"tic\", \"tic\", \"tic\", \"tic\", \"tic\", \"time\", \"time\", \"time\", \"time\", \"time\", \"time\", \"time\", \"time\", \"time\", \"time\", \"tip\", \"tip\", \"tip\", \"tip\", \"tip\", \"tip\", \"tip\", \"tip\", \"tip\", \"tip\", \"tired\", \"tired\", \"tired\", \"tired\", \"tired\", \"tired\", \"tired\", \"tired\", \"tired\", \"tired\", \"tms\", \"tms\", \"today\", \"today\", \"today\", \"today\", \"today\", \"today\", \"today\", \"today\", \"today\", \"today\", \"toll\", \"toll\", \"toll\", \"toll\", \"totally\", \"totally\", \"totally\", \"totally\", \"totally\", \"totally\", \"touch\", \"touch\", \"touch\", \"touch\", \"touch\", \"touch\", \"touch\", \"touch\", \"touch\", \"toxic\", \"toxic\", \"toxic\", \"toxic\", \"toxic\", \"toxic\", \"toxic\", \"toxic\", \"toxic\", \"toxic\", \"train\", \"train\", \"trap\", \"trap\", \"trap\", \"trap\", \"trauma\", \"trauma\", \"trauma\", \"trauma\", \"trauma\", \"trauma\", \"trauma\", \"trauma\", \"trauma\", \"trauma\", \"treatment\", \"treatment\", \"treatment\", \"treatment\", \"treatment\", \"treatment\", \"treatment\", \"treatment\", \"treatment\", \"treatment\", \"trigger\", \"trigger\", \"trigger\", \"trigger\", \"trigger\", \"trigger\", \"trigger\", \"trigger\", \"trigger\", \"trigger\", \"trump\", \"trust\", \"trust\", \"trust\", \"trust\", \"trust\", \"trust\", \"trust\", \"trust\", \"try\", \"try\", \"try\", \"try\", \"try\", \"try\", \"try\", \"try\", \"try\", \"try\", \"typical\", \"typical\", \"uk\", \"uk\", \"uk\", \"uk\", \"uk\", \"uk\", \"uk\", \"uk\", \"uk\", \"uk\", \"understand\", \"understand\", \"understand\", \"understand\", \"understand\", \"understand\", \"understand\", \"understand\", \"understand\", \"understand\", \"understanding\", \"understanding\", \"understanding\", \"understanding\", \"understanding\", \"unhappy\", \"unhappy\", \"unhappy\", \"unhappy\", \"unhappy\", \"untreated\", \"untreated\", \"untreated\", \"unwell\", \"unwell\", \"unwell\", \"use\", \"use\", \"use\", \"use\", \"use\", \"use\", \"use\", \"use\", \"use\", \"use\", \"useless\", \"useless\", \"useless\", \"useless\", \"useless\", \"useless\", \"useless\", \"useless\", \"user\", \"user\", \"venlafaxine\", \"venlafaxine\", \"venlafaxine\", \"venlafaxine\", \"venlafaxine\", \"vent\", \"vent\", \"vent\", \"vent\", \"vent\", \"vent\", \"vent\", \"vent\", \"vent\", \"vent\", \"venting\", \"venting\", \"venting\", \"venting\", \"venting\", \"venting\", \"venting\", \"vision\", \"vision\", \"vision\", \"vision\", \"visual\", \"visual\", \"visual\", \"visual\", \"visual\", \"voice\", \"voice\", \"voice\", \"voice\", \"voice\", \"voice\", \"voice\", \"voice\", \"voice\", \"voice\", \"vulnerable\", \"vulnerable\", \"vulnerable\", \"vulnerable\", \"vulnerable\", \"want\", \"want\", \"want\", \"want\", \"want\", \"want\", \"want\", \"want\", \"want\", \"want\", \"watch\", \"watch\", \"watch\", \"watch\", \"watch\", \"watch\", \"watch\", \"watch\", \"watch\", \"watch\", \"water\", \"water\", \"water\", \"way\", \"way\", \"way\", \"way\", \"way\", \"way\", \"way\", \"way\", \"way\", \"way\", \"website\", \"website\", \"website\", \"week\", \"week\", \"week\", \"week\", \"week\", \"week\", \"week\", \"week\", \"week\", \"week\", \"weird\", \"weird\", \"weird\", \"weird\", \"weird\", \"weird\", \"weird\", \"weird\", \"weird\", \"weird\", \"well\", \"well\", \"well\", \"well\", \"well\", \"well\", \"well\", \"well\", \"well\", \"well\", \"wellbutrin\", \"wellbutrin\", \"wellbutrin\", \"wellbutrin\", \"wellbutrin\", \"wellbutrin\", \"will\", \"will\", \"will\", \"will\", \"will\", \"will\", \"will\", \"will\", \"will\", \"will\", \"win\", \"win\", \"win\", \"win\", \"win\", \"witness\", \"witness\", \"woman\", \"woman\", \"woman\", \"woman\", \"woman\", \"woman\", \"woman\", \"woman\", \"woman\", \"woman\", \"work\", \"work\", \"work\", \"work\", \"work\", \"work\", \"work\", \"work\", \"work\", \"work\", \"world\", \"world\", \"world\", \"world\", \"world\", \"world\", \"world\", \"world\", \"world\", \"worried\", \"worried\", \"worried\", \"worried\", \"worried\", \"worried\", \"worried\", \"worried\", \"worried\", \"worried\", \"worsen\", \"worsen\", \"worsen\", \"worsen\", \"worsen\", \"worsen\", \"worth\", \"worth\", \"worth\", \"worth\", \"worth\", \"worth\", \"worth\", \"worth\", \"worth\", \"worth\", \"worthless\", \"worthless\", \"worthless\", \"worthless\", \"worthless\", \"worthless\", \"worthless\", \"worthless\", \"wrong\", \"wrong\", \"wrong\", \"wrong\", \"wrong\", \"wrong\", \"wrong\", \"wrong\", \"wrong\", \"wrong\", \"wtf\", \"wtf\", \"wtf\", \"wtf\", \"wtf\", \"wtf\", \"wtf\", \"year\", \"year\", \"year\", \"year\", \"year\", \"year\", \"year\", \"year\", \"year\", \"year\", \"zoloft\", \"zoloft\", \"zoloft\", \"zoloft\"]}, \"R\": 30, \"lambda.step\": 0.01, \"plot.opts\": {\"xlab\": \"PC1\", \"ylab\": \"PC2\"}, \"topic.order\": [10, 7, 2, 5, 4, 3, 1, 9, 8, 6]};\n",
       "\n",
       "function LDAvis_load_lib(url, callback){\n",
       "  var s = document.createElement('script');\n",
       "  s.src = url;\n",
       "  s.async = true;\n",
       "  s.onreadystatechange = s.onload = callback;\n",
       "  s.onerror = function(){console.warn(\"failed to load library \" + url);};\n",
       "  document.getElementsByTagName(\"head\")[0].appendChild(s);\n",
       "}\n",
       "\n",
       "if(typeof(LDAvis) !== \"undefined\"){\n",
       "   // already loaded: just create the visualization\n",
       "   !function(LDAvis){\n",
       "       new LDAvis(\"#\" + \"ldavis_el54048360412016965807309331\", ldavis_el54048360412016965807309331_data);\n",
       "   }(LDAvis);\n",
       "}else if(typeof define === \"function\" && define.amd){\n",
       "   // require.js is available: use it to load d3/LDAvis\n",
       "   require.config({paths: {d3: \"https://d3js.org/d3.v5\"}});\n",
       "   require([\"d3\"], function(d3){\n",
       "      window.d3 = d3;\n",
       "      LDAvis_load_lib(\"https://cdn.jsdelivr.net/gh/bmabey/pyLDAvis@3.3.1/pyLDAvis/js/ldavis.v3.0.0.js\", function(){\n",
       "        new LDAvis(\"#\" + \"ldavis_el54048360412016965807309331\", ldavis_el54048360412016965807309331_data);\n",
       "      });\n",
       "    });\n",
       "}else{\n",
       "    // require.js not available: dynamically load d3 & LDAvis\n",
       "    LDAvis_load_lib(\"https://d3js.org/d3.v5.js\", function(){\n",
       "         LDAvis_load_lib(\"https://cdn.jsdelivr.net/gh/bmabey/pyLDAvis@3.3.1/pyLDAvis/js/ldavis.v3.0.0.js\", function(){\n",
       "                 new LDAvis(\"#\" + \"ldavis_el54048360412016965807309331\", ldavis_el54048360412016965807309331_data);\n",
       "            })\n",
       "         });\n",
       "}\n",
       "</script>"
      ],
      "text/plain": [
       "PreparedData(topic_coordinates=              x         y  topics  cluster       Freq\n",
       "topic                                                \n",
       "9     -0.049578  0.030877       1        1  11.784355\n",
       "6      0.088321  0.030547       2        1  11.706400\n",
       "1      0.066741 -0.013596       3        1   9.981711\n",
       "4     -0.071925  0.042387       4        1   9.826181\n",
       "3      0.084680 -0.060604       5        1   9.649924\n",
       "2      0.006172 -0.048259       6        1   9.563888\n",
       "0     -0.098157 -0.103709       7        1   9.489026\n",
       "8     -0.007366 -0.019708       8        1   9.411284\n",
       "7     -0.020252  0.106405       9        1   9.323921\n",
       "5      0.001364  0.035660      10        1   9.263309, topic_info=       Term         Freq        Total Category  logprob  loglift\n",
       "76     help  6968.000000  6968.000000  Default  30.0000  30.0000\n",
       "29    wrong  2517.000000  2517.000000  Default  29.0000  29.0000\n",
       "2      feel  7115.000000  7115.000000  Default  28.0000  28.0000\n",
       "3      like  4723.000000  4723.000000  Default  27.0000  27.0000\n",
       "135  mental  7525.000000  7525.000000  Default  26.0000  26.0000\n",
       "..      ...          ...          ...      ...      ...      ...\n",
       "117    life   201.445388  2279.428928  Topic10  -4.9604  -0.0471\n",
       "90      way   160.564513  1293.635045  Topic10  -5.1872   0.2926\n",
       "166      go   161.962157  2062.965889  Topic10  -5.1786  -0.1654\n",
       "202   issue   148.665871  1398.731888  Topic10  -5.2642   0.1375\n",
       "3      like   181.380235  4723.091644  Topic10  -5.0653  -0.8805\n",
       "\n",
       "[722 rows x 6 columns], token_table=      Topic      Freq        Term\n",
       "term                             \n",
       "1218      2  0.128503  acceptable\n",
       "1218      3  0.042834  acceptable\n",
       "1218      6  0.042834  acceptable\n",
       "1218      7  0.728183  acceptable\n",
       "1218     10  0.042834  acceptable\n",
       "...     ...       ...         ...\n",
       "34       10  0.081160        year\n",
       "1224      1  0.725184      zoloft\n",
       "1224      3  0.009542      zoloft\n",
       "1224      6  0.229005      zoloft\n",
       "1224      9  0.028626      zoloft\n",
       "\n",
       "[3718 rows x 3 columns], R=30, lambda_step=0.01, plot_opts={'xlab': 'PC1', 'ylab': 'PC2'}, topic_order=[10, 7, 2, 5, 4, 3, 1, 9, 8, 6])"
      ]
     },
     "execution_count": 7,
     "metadata": {},
     "output_type": "execute_result"
    }
   ],
   "source": [
    "import pyLDAvis\n",
    "import pyLDAvis.gensim_models as gensimvis\n",
    "pyLDAvis.enable_notebook()\n",
    "lda_viz = gensimvis.prepare(lda_model, corpus, id2word)\n",
    "lda_viz"
   ]
  },
  {
   "cell_type": "code",
   "execution_count": null,
   "id": "d29e2405",
   "metadata": {
    "ExecuteTime": {
     "start_time": "2022-11-07T22:26:20.917Z"
    }
   },
   "outputs": [],
   "source": [
    "coherence_model_lda = CoherenceModel(model=lda_model, texts=texts, dictionary=id2word, coherence='c_v')\n",
    "coherence_lda = coherence_model_lda.get_coherence()\n",
    "coherence_lda"
   ]
  },
  {
   "cell_type": "code",
   "execution_count": 8,
   "id": "731ae3c5",
   "metadata": {
    "ExecuteTime": {
     "end_time": "2022-11-07T22:24:48.125518Z",
     "start_time": "2022-11-07T22:23:19.683425Z"
    }
   },
   "outputs": [],
   "source": [
    "lda_model = gensim.models.LdaMulticore(corpus=corpus,\n",
    "                                           id2word=id2word,\n",
    "                                           num_topics=10, \n",
    "                                           random_state=100,\n",
    "                                           chunksize=100,\n",
    "                                           passes=10,\n",
    "                                           alpha=0.01,\n",
    "                                           eta=0.9)"
   ]
  },
  {
   "cell_type": "code",
   "execution_count": 16,
   "id": "8182ce6d",
   "metadata": {
    "ExecuteTime": {
     "end_time": "2022-11-02T22:58:19.176878Z",
     "start_time": "2022-11-02T22:34:57.154757Z"
    }
   },
   "outputs": [
    {
     "name": "stdout",
     "output_type": "stream",
     "text": [
      "Coherence Score:  1 : 0.23150590115729255\n",
      "Coherence Score:  2 : 0.16613462060562778\n",
      "Coherence Score:  3 : 0.11826917763394512\n",
      "Coherence Score:  4 : 0.12123363972530607\n",
      "Coherence Score:  5 : 0.1258980651903131\n",
      "Coherence Score:  6 : 0.12391695139033054\n",
      "Coherence Score:  7 : 0.13282523911544966\n",
      "Coherence Score:  8 : 0.12763533899442858\n",
      "Coherence Score:  9 : 0.12460407354091448\n",
      "Coherence Score:  10 : 0.1267767910164238\n",
      "Coherence Score:  11 : 0.13416364252500232\n",
      "Coherence Score:  12 : 0.13253293268739105\n",
      "Coherence Score:  13 : 0.13827625451024098\n",
      "Coherence Score:  14 : 0.1376035680835702\n",
      "Coherence Score:  15 : 0.1413169058192366\n",
      "Coherence Score:  16 : 0.14320633512373931\n",
      "Coherence Score:  17 : 0.1453750092640464\n",
      "Coherence Score:  18 : 0.14230783870143224\n",
      "Coherence Score:  19 : 0.1477157139486982\n",
      "Coherence Score:  20 : 0.14569574014044828\n"
     ]
    }
   ],
   "source": [
    "coh_dict = {}\n",
    "for i in range(1,21):\n",
    "    lda_model = gensim.models.LdaMulticore(corpus=corpus,\n",
    "                                       id2word=id2word,\n",
    "                                       num_topics=i)\n",
    "    coherence_model_lda = CoherenceModel(model=lda_model, texts=texts, dictionary=id2word, coherence='c_v')\n",
    "    coherence_lda = coherence_model_lda.get_coherence()\n",
    "    coh_dict[i] = coherence_lda\n",
    "    print('Coherence Score: ',i,':', coherence_lda)"
   ]
  },
  {
   "cell_type": "code",
   "execution_count": 12,
   "id": "64f0857c",
   "metadata": {
    "ExecuteTime": {
     "end_time": "2022-11-05T19:53:53.301238Z",
     "start_time": "2022-11-05T19:47:58.215336Z"
    }
   },
   "outputs": [
    {
     "name": "stderr",
     "output_type": "stream",
     "text": [
      "C:\\Users\\Julia\\AppData\\Local\\Temp\\ipykernel_18324\\3861351028.py:13: FutureWarning: The frame.append method is deprecated and will be removed from pandas in a future version. Use pandas.concat instead.\n",
      "  sent_topics_df = sent_topics_df.append(pd.Series([int(topic_num), round(prop_topic,4), topic_keywords]), ignore_index=True)\n",
      "C:\\Users\\Julia\\AppData\\Local\\Temp\\ipykernel_18324\\3861351028.py:13: FutureWarning: The frame.append method is deprecated and will be removed from pandas in a future version. Use pandas.concat instead.\n",
      "  sent_topics_df = sent_topics_df.append(pd.Series([int(topic_num), round(prop_topic,4), topic_keywords]), ignore_index=True)\n"
     ]
    },
    {
     "data": {
      "text/html": [
       "<div>\n",
       "<style scoped>\n",
       "    .dataframe tbody tr th:only-of-type {\n",
       "        vertical-align: middle;\n",
       "    }\n",
       "\n",
       "    .dataframe tbody tr th {\n",
       "        vertical-align: top;\n",
       "    }\n",
       "\n",
       "    .dataframe thead th {\n",
       "        text-align: right;\n",
       "    }\n",
       "</style>\n",
       "<table border=\"1\" class=\"dataframe\">\n",
       "  <thead>\n",
       "    <tr style=\"text-align: right;\">\n",
       "      <th></th>\n",
       "      <th>Document_No</th>\n",
       "      <th>Dominant_Topic</th>\n",
       "      <th>Topic_Perc_Contrib</th>\n",
       "      <th>Keywords</th>\n",
       "      <th>Text</th>\n",
       "    </tr>\n",
       "  </thead>\n",
       "  <tbody>\n",
       "    <tr>\n",
       "      <th>0</th>\n",
       "      <td>0</td>\n",
       "      <td>0</td>\n",
       "      <td>1.0</td>\n",
       "      <td>mental, feel, help, like, health, people, anxi...</td>\n",
       "      <td>[feel, like, alive, anymore]</td>\n",
       "    </tr>\n",
       "    <tr>\n",
       "      <th>1</th>\n",
       "      <td>1</td>\n",
       "      <td>0</td>\n",
       "      <td>1.0</td>\n",
       "      <td>mental, feel, help, like, health, people, anxi...</td>\n",
       "      <td>[depress, people, shave, head]</td>\n",
       "    </tr>\n",
       "    <tr>\n",
       "      <th>2</th>\n",
       "      <td>2</td>\n",
       "      <td>0</td>\n",
       "      <td>1.0</td>\n",
       "      <td>mental, feel, help, like, health, people, anxi...</td>\n",
       "      <td>[random, urge, kill, people]</td>\n",
       "    </tr>\n",
       "    <tr>\n",
       "      <th>3</th>\n",
       "      <td>3</td>\n",
       "      <td>0</td>\n",
       "      <td>1.0</td>\n",
       "      <td>mental, feel, help, like, health, people, anxi...</td>\n",
       "      <td>[slap, arm, anxious, normal]</td>\n",
       "    </tr>\n",
       "    <tr>\n",
       "      <th>4</th>\n",
       "      <td>4</td>\n",
       "      <td>0</td>\n",
       "      <td>1.0</td>\n",
       "      <td>mental, feel, help, like, health, people, anxi...</td>\n",
       "      <td>[tip, find, psychiatrist, specialize, panic, a...</td>\n",
       "    </tr>\n",
       "    <tr>\n",
       "      <th>5</th>\n",
       "      <td>5</td>\n",
       "      <td>0</td>\n",
       "      <td>1.0</td>\n",
       "      <td>mental, feel, help, like, health, people, anxi...</td>\n",
       "      <td>[cry]</td>\n",
       "    </tr>\n",
       "    <tr>\n",
       "      <th>6</th>\n",
       "      <td>6</td>\n",
       "      <td>0</td>\n",
       "      <td>1.0</td>\n",
       "      <td>mental, feel, help, like, health, people, anxi...</td>\n",
       "      <td>[normal, feel, like]</td>\n",
       "    </tr>\n",
       "    <tr>\n",
       "      <th>7</th>\n",
       "      <td>7</td>\n",
       "      <td>0</td>\n",
       "      <td>1.0</td>\n",
       "      <td>mental, feel, help, like, health, people, anxi...</td>\n",
       "      <td>[experience, extreme, high, low]</td>\n",
       "    </tr>\n",
       "    <tr>\n",
       "      <th>8</th>\n",
       "      <td>8</td>\n",
       "      <td>0</td>\n",
       "      <td>1.0</td>\n",
       "      <td>mental, feel, help, like, health, people, anxi...</td>\n",
       "      <td>[feel, like, not, care, not, bother, thing, la...</td>\n",
       "    </tr>\n",
       "    <tr>\n",
       "      <th>9</th>\n",
       "      <td>9</td>\n",
       "      <td>0</td>\n",
       "      <td>1.0</td>\n",
       "      <td>mental, feel, help, like, health, people, anxi...</td>\n",
       "      <td>[able, stop, take, antidepressant, year]</td>\n",
       "    </tr>\n",
       "  </tbody>\n",
       "</table>\n",
       "</div>"
      ],
      "text/plain": [
       "   Document_No  Dominant_Topic  Topic_Perc_Contrib  \\\n",
       "0            0               0                 1.0   \n",
       "1            1               0                 1.0   \n",
       "2            2               0                 1.0   \n",
       "3            3               0                 1.0   \n",
       "4            4               0                 1.0   \n",
       "5            5               0                 1.0   \n",
       "6            6               0                 1.0   \n",
       "7            7               0                 1.0   \n",
       "8            8               0                 1.0   \n",
       "9            9               0                 1.0   \n",
       "\n",
       "                                            Keywords  \\\n",
       "0  mental, feel, help, like, health, people, anxi...   \n",
       "1  mental, feel, help, like, health, people, anxi...   \n",
       "2  mental, feel, help, like, health, people, anxi...   \n",
       "3  mental, feel, help, like, health, people, anxi...   \n",
       "4  mental, feel, help, like, health, people, anxi...   \n",
       "5  mental, feel, help, like, health, people, anxi...   \n",
       "6  mental, feel, help, like, health, people, anxi...   \n",
       "7  mental, feel, help, like, health, people, anxi...   \n",
       "8  mental, feel, help, like, health, people, anxi...   \n",
       "9  mental, feel, help, like, health, people, anxi...   \n",
       "\n",
       "                                                Text  \n",
       "0                       [feel, like, alive, anymore]  \n",
       "1                     [depress, people, shave, head]  \n",
       "2                       [random, urge, kill, people]  \n",
       "3                       [slap, arm, anxious, normal]  \n",
       "4  [tip, find, psychiatrist, specialize, panic, a...  \n",
       "5                                              [cry]  \n",
       "6                               [normal, feel, like]  \n",
       "7                   [experience, extreme, high, low]  \n",
       "8  [feel, like, not, care, not, bother, thing, la...  \n",
       "9           [able, stop, take, antidepressant, year]  "
      ]
     },
     "execution_count": 12,
     "metadata": {},
     "output_type": "execute_result"
    }
   ],
   "source": [
    "def format_topics_sentences(ldamodel=lda_model, corpus=corpus, texts=texts):\n",
    "    # Init output\n",
    "    sent_topics_df = pd.DataFrame()\n",
    "\n",
    "    # Get main topic in each document\n",
    "    for i, row in enumerate(ldamodel[corpus]):\n",
    "        row = sorted(row, key=lambda x: (x[1]), reverse=True)\n",
    "        # Get the Dominant topic, Perc Contribution and Keywords for each document\n",
    "        for j, (topic_num, prop_topic) in enumerate(row):\n",
    "            if j == 0:  # => dominant topic\n",
    "                wp = ldamodel.show_topic(topic_num)\n",
    "                topic_keywords = \", \".join([word for word, prop in wp])\n",
    "                sent_topics_df = sent_topics_df.append(pd.Series([int(topic_num), round(prop_topic,4), topic_keywords]), ignore_index=True)\n",
    "            else:\n",
    "                break\n",
    "    sent_topics_df.columns = ['Dominant_Topic', 'Perc_Contribution', 'Topic_Keywords']\n",
    "\n",
    "    # Add original text to the end of the output\n",
    "    contents = pd.Series(texts)\n",
    "    sent_topics_df = pd.concat([sent_topics_df, contents], axis=1)\n",
    "    return(sent_topics_df)\n",
    "\n",
    "\n",
    "df_topic_sents_keywords = format_topics_sentences(ldamodel=lda_model, corpus=corpus, texts=texts)\n",
    "\n",
    "# Format\n",
    "df_dominant_topic = df_topic_sents_keywords.reset_index()\n",
    "df_dominant_topic.columns = ['Document_No', 'Dominant_Topic', 'Topic_Perc_Contrib', 'Keywords', 'Text']\n",
    "\n",
    "# Show\n",
    "df_dominant_topic.head(10)"
   ]
  },
  {
   "cell_type": "markdown",
   "id": "a65b1b2d",
   "metadata": {},
   "source": [
    "# Processing comments"
   ]
  },
  {
   "cell_type": "code",
   "execution_count": 18,
   "id": "ee2579d0",
   "metadata": {
    "ExecuteTime": {
     "end_time": "2022-11-02T22:58:59.138031Z",
     "start_time": "2022-11-02T22:58:58.118638Z"
    }
   },
   "outputs": [],
   "source": [
    "l1 = list(all_data3.lemmatized_comment)\n",
    "X_comment= [el.split() for el in l1]"
   ]
  },
  {
   "cell_type": "code",
   "execution_count": 19,
   "id": "7a458994",
   "metadata": {
    "ExecuteTime": {
     "end_time": "2022-11-02T22:59:22.100151Z",
     "start_time": "2022-11-02T22:59:10.005868Z"
    }
   },
   "outputs": [
    {
     "name": "stdout",
     "output_type": "stream",
     "text": [
      "[(0, 3), (1, 2), (2, 1), (3, 1), (4, 1), (5, 1), (6, 1), (7, 1), (8, 2), (9, 1), (10, 1), (11, 4), (12, 1), (13, 1), (14, 2), (15, 2), (16, 1), (17, 1), (18, 1), (19, 1), (20, 1), (21, 1), (22, 1), (23, 1), (24, 2), (25, 1), (26, 1), (27, 1), (28, 1), (29, 1)]\n"
     ]
    }
   ],
   "source": [
    "# Create Dictionary\n",
    "id2word = corpora.Dictionary(X_comment)\n",
    "# Create Corpus\n",
    "texts = X_comment\n",
    "# Term Document Frequency\n",
    "corpus = [id2word.doc2bow(text) for text in texts]\n",
    "# View\n",
    "print(corpus[:1][0][:30])"
   ]
  },
  {
   "cell_type": "code",
   "execution_count": 20,
   "id": "54984bb5",
   "metadata": {
    "ExecuteTime": {
     "end_time": "2022-11-02T23:00:33.614678Z",
     "start_time": "2022-11-02T22:59:36.853933Z"
    }
   },
   "outputs": [
    {
     "name": "stdout",
     "output_type": "stream",
     "text": [
      "[(0,\n",
      "  '0.017*\"like\" + 0.017*\"feel\" + 0.013*\"help\" + 0.011*\"try\" + 0.011*\"go\" + '\n",
      "  '0.010*\"think\" + 0.010*\"time\" + 0.010*\"know\" + 0.010*\"thing\" + '\n",
      "  '0.008*\"people\"'),\n",
      " (1,\n",
      "  '0.015*\"like\" + 0.012*\"feel\" + 0.012*\"think\" + 0.010*\"people\" + 0.010*\"help\" '\n",
      "  '+ 0.009*\"know\" + 0.008*\"want\" + 0.007*\"thing\" + 0.007*\"need\" + '\n",
      "  '0.006*\"tell\"'),\n",
      " (2,\n",
      "  '0.015*\"like\" + 0.013*\"thing\" + 0.013*\"feel\" + 0.012*\"help\" + 0.011*\"think\" '\n",
      "  '+ 0.010*\"good\" + 0.009*\"people\" + 0.008*\"try\" + 0.006*\"life\" + '\n",
      "  '0.006*\"time\"'),\n",
      " (3,\n",
      "  '0.016*\"like\" + 0.014*\"feel\" + 0.011*\"good\" + 0.011*\"help\" + 0.010*\"time\" + '\n",
      "  '0.010*\"people\" + 0.008*\"think\" + 0.008*\"way\" + 0.008*\"thing\" + '\n",
      "  '0.007*\"know\"'),\n",
      " (4,\n",
      "  '0.015*\"like\" + 0.014*\"think\" + 0.013*\"help\" + 0.012*\"feel\" + 0.011*\"people\" '\n",
      "  '+ 0.010*\"know\" + 0.010*\"thing\" + 0.010*\"want\" + 0.009*\"time\" + '\n",
      "  '0.009*\"good\"'),\n",
      " (5,\n",
      "  '0.016*\"like\" + 0.014*\"thing\" + 0.014*\"feel\" + 0.012*\"know\" + 0.011*\"help\" + '\n",
      "  '0.010*\"go\" + 0.010*\"good\" + 0.009*\"people\" + 0.009*\"need\" + 0.007*\"get\"'),\n",
      " (6,\n",
      "  '0.014*\"help\" + 0.013*\"people\" + 0.013*\"feel\" + 0.011*\"thing\" + 0.011*\"try\" '\n",
      "  '+ 0.010*\"like\" + 0.010*\"think\" + 0.009*\"good\" + 0.008*\"life\" + '\n",
      "  '0.008*\"know\"'),\n",
      " (7,\n",
      "  '0.018*\"like\" + 0.012*\"feel\" + 0.012*\"know\" + 0.011*\"people\" + 0.010*\"think\" '\n",
      "  '+ 0.010*\"help\" + 0.009*\"time\" + 0.009*\"thing\" + 0.008*\"good\" + '\n",
      "  '0.007*\"want\"'),\n",
      " (8,\n",
      "  '0.016*\"like\" + 0.013*\"feel\" + 0.012*\"thing\" + 0.011*\"help\" + 0.009*\"know\" + '\n",
      "  '0.009*\"think\" + 0.008*\"good\" + 0.007*\"people\" + 0.007*\"way\" + 0.006*\"get\"'),\n",
      " (9,\n",
      "  '0.013*\"people\" + 0.011*\"feel\" + 0.009*\"like\" + 0.009*\"think\" + 0.009*\"know\" '\n",
      "  '+ 0.009*\"help\" + 0.008*\"time\" + 0.008*\"thing\" + 0.007*\"want\" + 0.007*\"way\"')]\n"
     ]
    }
   ],
   "source": [
    "# number of topics\n",
    "num_topics = 10\n",
    "# Build LDA model\n",
    "lda_model = gensim.models.LdaMulticore(corpus=corpus,\n",
    "                                       id2word=id2word,\n",
    "                                       num_topics=num_topics)\n",
    "# Print the Keyword in the 10 topics\n",
    "pprint(lda_model.print_topics())\n",
    "doc_lda = lda_model[corpus]"
   ]
  },
  {
   "cell_type": "code",
   "execution_count": 21,
   "id": "58cdc556",
   "metadata": {
    "ExecuteTime": {
     "end_time": "2022-11-02T23:36:46.669762Z",
     "start_time": "2022-11-02T23:00:55.027678Z"
    }
   },
   "outputs": [
    {
     "name": "stdout",
     "output_type": "stream",
     "text": [
      "Coherence Score:  1 : 0.29531502625155254\n",
      "Coherence Score:  2 : 0.2953150262515526\n",
      "Coherence Score:  3 : 0.29890422378045517\n",
      "Coherence Score:  4 : 0.29994589967877205\n",
      "Coherence Score:  5 : 0.30043921086200615\n",
      "Coherence Score:  6 : 0.3007961813622529\n",
      "Coherence Score:  7 : 0.2990090743100038\n",
      "Coherence Score:  8 : 0.29881395574149894\n",
      "Coherence Score:  9 : 0.299702759086115\n",
      "Coherence Score:  10 : 0.3004868279115499\n",
      "Coherence Score:  11 : 0.30099521435674315\n",
      "Coherence Score:  12 : 0.2977015516105042\n",
      "Coherence Score:  13 : 0.2990232689646579\n",
      "Coherence Score:  14 : 0.2993183047956644\n",
      "Coherence Score:  15 : 0.2975890524442297\n",
      "Coherence Score:  16 : 0.2961966143748477\n",
      "Coherence Score:  17 : 0.2986383676858421\n",
      "Coherence Score:  18 : 0.29932056495920584\n",
      "Coherence Score:  19 : 0.29928182008234466\n",
      "Coherence Score:  20 : 0.2967905074419475\n"
     ]
    }
   ],
   "source": [
    "coh_dict = {}\n",
    "for i in range(1,21):\n",
    "    lda_model = gensim.models.LdaMulticore(corpus=corpus,\n",
    "                                       id2word=id2word,\n",
    "                                       num_topics=i)\n",
    "    coherence_model_lda = CoherenceModel(model=lda_model, texts=texts, dictionary=id2word, coherence='c_v')\n",
    "    coherence_lda = coherence_model_lda.get_coherence()\n",
    "    coh_dict[i] = coherence_lda\n",
    "    print('Coherence Score: ',i,':', coherence_lda)"
   ]
  }
 ],
 "metadata": {
  "kernelspec": {
   "display_name": "Python 3 (ipykernel)",
   "language": "python",
   "name": "python3"
  },
  "language_info": {
   "codemirror_mode": {
    "name": "ipython",
    "version": 3
   },
   "file_extension": ".py",
   "mimetype": "text/x-python",
   "name": "python",
   "nbconvert_exporter": "python",
   "pygments_lexer": "ipython3",
   "version": "3.9.12"
  }
 },
 "nbformat": 4,
 "nbformat_minor": 5
}
